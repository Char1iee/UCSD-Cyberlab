{
 "cells": [
  {
   "cell_type": "code",
   "execution_count": 12,
   "id": "6f6ba3bc",
   "metadata": {},
   "outputs": [],
   "source": [
    "from sklearn.model_selection import GridSearchCV\n",
    "import pandas as pd\n",
    "import numpy as np\n",
    "from sklearn.model_selection import train_test_split\n",
    "from sklearn import metrics\n",
    "from scikeras.wrappers import KerasClassifier\n",
    "from tensorflow.keras.models import Sequential\n",
    "from tensorflow.keras.layers import Dense, Activation\n",
    "from tensorflow.keras.callbacks import EarlyStopping\n",
    "# from keras.utils.vis_utils import plot_model\n",
    "from sklearn.naive_bayes import GaussianNB\n",
    "from sklearn.ensemble import RandomForestClassifier\n",
    "from sklearn.neighbors import KNeighborsClassifier\n",
    "from sklearn.linear_model import LogisticRegression\n",
    "from sklearn.tree import DecisionTreeClassifier \n",
    "from sklearn.neural_network import MLPClassifier\n",
    "from sklearn.ensemble import GradientBoostingClassifier\n",
    "from sklearn.svm import SVC\n",
    "from sklearn import tree\n",
    "# from sklearn.externals.six import StringIO  \n",
    "from sklearn.metrics import confusion_matrix\n",
    "from matplotlib import pyplot as pyplot\n",
    "from sklearn.metrics import roc_auc_score, roc_curve\n",
    "# from sklearn.metrics import plot_confusion_matrix\n",
    "from warnings import simplefilter\n",
    "import time\n",
    "start = time.time()"
   ]
  },
  {
   "cell_type": "code",
   "execution_count": 13,
   "id": "e242a128",
   "metadata": {},
   "outputs": [],
   "source": [
    "#with two dataset splitted\n",
    "dftrain = pd.read_csv(\"train70_reduced.csv\") \n",
    "dftest = pd.read_csv(\"test30_reduced.csv\")\n",
    "simplefilter(action='ignore', category=FutureWarning)\n",
    "seed = 7"
   ]
  },
  {
   "cell_type": "code",
   "execution_count": 14,
   "id": "7ae592d9",
   "metadata": {},
   "outputs": [
    {
     "data": {
      "text/plain": [
       "'\\n#one dataset to be splitted\\ndf = pd.read_csv(\"mqttdataset.csv\") \\nseed = 7\\nclass_names = df.target.unique()\\ndf=df.astype(\\'category\\')\\ncat_columns = df.select_dtypes([\\'category\\']).columns\\ndf[cat_columns] = df[cat_columns].apply(lambda x: x.cat.codes)\\n\\nx_columns = df.columns.drop(\\'target\\')\\nx = df[x_columns].values\\ny = df[\\'target\\']\\n\\nprint(\"Ready to generate train and test datasets\")\\nx_train, x_test, y_train, y_test = train_test_split(x, y, test_size=0.3, random_state=seed)\\nprint(\"x_train, y_train, x_test, y_test\" + str(x_train.shape) + \"\" +str(y_train.shape) + \"\" +str(x_test.shape) + \"\" +str(y_test.shape))\\n'"
      ]
     },
     "execution_count": 14,
     "metadata": {},
     "output_type": "execute_result"
    }
   ],
   "source": [
    "'''\n",
    "#one dataset to be splitted\n",
    "df = pd.read_csv(\"mqttdataset.csv\") \n",
    "seed = 7\n",
    "class_names = df.target.unique()\n",
    "df=df.astype('category')\n",
    "cat_columns = df.select_dtypes(['category']).columns\n",
    "df[cat_columns] = df[cat_columns].apply(lambda x: x.cat.codes)\n",
    "\n",
    "x_columns = df.columns.drop('target')\n",
    "x = df[x_columns].values\n",
    "y = df['target']\n",
    "\n",
    "print(\"Ready to generate train and test datasets\")\n",
    "x_train, x_test, y_train, y_test = train_test_split(x, y, test_size=0.3, random_state=seed)\n",
    "print(\"x_train, y_train, x_test, y_test\" + str(x_train.shape) + \"\" +str(y_train.shape) + \"\" +str(x_test.shape) + \"\" +str(y_test.shape))\n",
    "'''"
   ]
  },
  {
   "cell_type": "code",
   "execution_count": 15,
   "id": "510192e6",
   "metadata": {},
   "outputs": [],
   "source": [
    "#train\n",
    "#print(dftrain.loc[dftrain['target'] == 'legitimate'])\n",
    "class_names = dftrain.target.unique()\n",
    "dftrain=dftrain.astype('category')\n",
    "cat_columns = dftrain.select_dtypes(['category']).columns\n",
    "dftrain[cat_columns] = dftrain[cat_columns].apply(lambda x: x.cat.codes)\n",
    "#print(dftrain.loc[125, 'target'])\n",
    "x_columns = dftrain.columns.drop('target')\n",
    "x_train = dftrain[x_columns].values\n",
    "y_train = dftrain['target']"
   ]
  },
  {
   "cell_type": "code",
   "execution_count": 16,
   "id": "75ec2a6f",
   "metadata": {
    "lines_to_next_cell": 2
   },
   "outputs": [],
   "source": [
    "#test\n",
    "class_names = dftest.target.unique()\n",
    "dftest=dftest.astype('category')\n",
    "cat_columns = dftest.select_dtypes(['category']).columns\n",
    "dftest[cat_columns] = dftest[cat_columns].apply(lambda x: x.cat.codes)\n",
    "x_columns = dftest.columns.drop('target')\n",
    "x_test = dftest[x_columns].values\n",
    "y_test = dftest['target']"
   ]
  },
  {
   "cell_type": "code",
   "execution_count": 17,
   "id": "b14f4a0f",
   "metadata": {},
   "outputs": [
    {
     "name": "stdout",
     "output_type": "stream",
     "text": [
      "Ready to generate train and test datasets\n"
     ]
    }
   ],
   "source": [
    "print(\"Ready to generate train and test datasets\")"
   ]
  },
  {
   "cell_type": "code",
   "execution_count": 18,
   "id": "799ffded",
   "metadata": {},
   "outputs": [
    {
     "name": "stdout",
     "output_type": "stream",
     "text": [
      "Starting Random forest\n",
      "Epoch 1/200\n",
      "232/232 - 1s - loss: 0.9689 - accuracy: 0.7617 - val_loss: 0.5873 - val_accuracy: 0.7821 - 1s/epoch - 6ms/step\n",
      "Epoch 2/200\n",
      "232/232 - 1s - loss: 0.5234 - accuracy: 0.7892 - val_loss: 0.4763 - val_accuracy: 0.8318 - 508ms/epoch - 2ms/step\n",
      "Epoch 3/200\n",
      "232/232 - 1s - loss: 0.4119 - accuracy: 0.8578 - val_loss: 0.4219 - val_accuracy: 0.8510 - 555ms/epoch - 2ms/step\n",
      "Epoch 4/200\n",
      "232/232 - 1s - loss: 0.3713 - accuracy: 0.8785 - val_loss: 0.4014 - val_accuracy: 0.8601 - 672ms/epoch - 3ms/step\n",
      "Epoch 5/200\n",
      "232/232 - 0s - loss: 0.3326 - accuracy: 0.8873 - val_loss: 0.4349 - val_accuracy: 0.8537 - 492ms/epoch - 2ms/step\n",
      "Epoch 6/200\n",
      "232/232 - 1s - loss: 0.3130 - accuracy: 0.8925 - val_loss: 0.4366 - val_accuracy: 0.8436 - 536ms/epoch - 2ms/step\n",
      "Epoch 7/200\n",
      "232/232 - 1s - loss: 0.2691 - accuracy: 0.9089 - val_loss: 0.4197 - val_accuracy: 0.8520 - 566ms/epoch - 2ms/step\n",
      "Epoch 8/200\n",
      "232/232 - 1s - loss: 0.2496 - accuracy: 0.9159 - val_loss: 0.3835 - val_accuracy: 0.8595 - 571ms/epoch - 2ms/step\n",
      "Epoch 9/200\n",
      "232/232 - 1s - loss: 0.2431 - accuracy: 0.9166 - val_loss: 0.3224 - val_accuracy: 0.8909 - 520ms/epoch - 2ms/step\n",
      "Epoch 10/200\n",
      "232/232 - 1s - loss: 0.2110 - accuracy: 0.9250 - val_loss: 0.3070 - val_accuracy: 0.8988 - 580ms/epoch - 3ms/step\n",
      "Epoch 11/200\n",
      "232/232 - 1s - loss: 0.2157 - accuracy: 0.9251 - val_loss: 0.3013 - val_accuracy: 0.8976 - 581ms/epoch - 3ms/step\n",
      "Epoch 12/200\n",
      "232/232 - 1s - loss: 0.1987 - accuracy: 0.9286 - val_loss: 0.3168 - val_accuracy: 0.8982 - 540ms/epoch - 2ms/step\n",
      "Epoch 13/200\n",
      "232/232 - 1s - loss: 0.1985 - accuracy: 0.9284 - val_loss: 0.3063 - val_accuracy: 0.8998 - 509ms/epoch - 2ms/step\n",
      "Epoch 14/200\n",
      "232/232 - 1s - loss: 0.2065 - accuracy: 0.9275 - val_loss: 0.3047 - val_accuracy: 0.8968 - 585ms/epoch - 3ms/step\n",
      "Epoch 15/200\n",
      "232/232 - 1s - loss: 0.1932 - accuracy: 0.9314 - val_loss: 0.3062 - val_accuracy: 0.8954 - 505ms/epoch - 2ms/step\n",
      "Epoch 16/200\n",
      "232/232 - 1s - loss: 0.1880 - accuracy: 0.9328 - val_loss: 0.3049 - val_accuracy: 0.9009 - 577ms/epoch - 2ms/step\n",
      "Epoch 16: early stopping\n",
      "Training time: 12.22571873664856\n",
      "3103/3103 [==============================] - 2s 638us/step\n",
      "Test time: 2.6926584243774414\n"
     ]
    }
   ],
   "source": [
    "#Neural network\n",
    "print(\"Starting Random forest\")\n",
    "model = Sequential()\n",
    "model.add(Dense(50, input_dim=x_train.shape[1], kernel_initializer='normal', activation='relu'))\n",
    "model.add(Dense(30, input_dim=x_train.shape[1], kernel_initializer='normal', activation='relu'))\n",
    "model.add(Dense(20, kernel_initializer='normal'))\n",
    "model.add(Dense(6,activation='softmax'))\n",
    "model.compile(loss='sparse_categorical_crossentropy', optimizer='adam', metrics=['accuracy'])\n",
    "monitor = EarlyStopping(monitor='val_loss', min_delta=1e-3, patience=5, verbose=1, mode='auto')\n",
    "history = model.fit(x_train,y_train,validation_data=(x_test,y_test),callbacks=[monitor],verbose=2,epochs=200,batch_size=1000) \n",
    "end = time.time()\n",
    "diff=end-start\n",
    "print(\"Training time: \" + str(diff))\n",
    "starttest = time.time()\n",
    "y_pred_nn = model.predict(x_test)\n",
    "y_pred_nn = np.argmax(y_pred_nn,axis=1)\n",
    "endtest =time.time()\n",
    "difftest = endtest-starttest\n",
    "print(\"Test time: \" + str(difftest))"
   ]
  },
  {
   "cell_type": "code",
   "execution_count": 19,
   "id": "9338ad49",
   "metadata": {
    "lines_to_next_cell": 2
   },
   "outputs": [
    {
     "name": "stdout",
     "output_type": "stream",
     "text": [
      "Model: \"sequential\"\n",
      "_________________________________________________________________\n",
      " Layer (type)                Output Shape              Param #   \n",
      "=================================================================\n",
      " dense (Dense)               (None, 50)                1700      \n",
      "                                                                 \n",
      " dense_1 (Dense)             (None, 30)                1530      \n",
      "                                                                 \n",
      " dense_2 (Dense)             (None, 20)                620       \n",
      "                                                                 \n",
      " dense_3 (Dense)             (None, 6)                 126       \n",
      "                                                                 \n",
      "=================================================================\n",
      "Total params: 3976 (15.53 KB)\n",
      "Trainable params: 3976 (15.53 KB)\n",
      "Non-trainable params: 0 (0.00 Byte)\n",
      "_________________________________________________________________\n",
      "None\n"
     ]
    }
   ],
   "source": [
    "print(model.summary())"
   ]
  },
  {
   "cell_type": "code",
   "execution_count": 20,
   "id": "9743491a",
   "metadata": {},
   "outputs": [
    {
     "name": "stdout",
     "output_type": "stream",
     "text": [
      "Starting Random forest\n",
      "building tree 1 of 100\n",
      "building tree 2 of 100\n",
      "building tree 3 of 100\n",
      "building tree 4 of 100\n",
      "building tree 5 of 100\n",
      "building tree 6 of 100\n",
      "building tree 7 of 100\n",
      "building tree 8 of 100\n",
      "building tree 9 of 100\n",
      "building tree 10 of 100\n",
      "building tree 11 of 100\n",
      "building tree 12 of 100\n",
      "building tree 13 of 100\n",
      "building tree 14 of 100\n",
      "building tree 15 of 100\n",
      "building tree 16 of 100\n",
      "building tree 17 of 100\n",
      "building tree 18 of 100\n",
      "building tree 19 of 100\n",
      "building tree 20 of 100\n",
      "building tree 21 of 100\n",
      "building tree 22 of 100\n",
      "building tree 23 of 100\n",
      "building tree 24 of 100\n",
      "building tree 25 of 100\n",
      "building tree 26 of 100\n",
      "building tree 27 of 100\n",
      "building tree 28 of 100\n",
      "building tree 29 of 100\n",
      "building tree 30 of 100\n",
      "building tree 31 of 100\n",
      "building tree 32 of 100\n",
      "building tree 33 of 100\n",
      "building tree 34 of 100\n",
      "building tree 35 of 100\n",
      "building tree 36 of 100\n",
      "building tree 37 of 100\n",
      "building tree 38 of 100\n",
      "building tree 39 of 100\n",
      "building tree 40 of 100\n",
      "building tree 41 of 100\n",
      "building tree 42 of 100\n"
     ]
    },
    {
     "name": "stderr",
     "output_type": "stream",
     "text": [
      "[Parallel(n_jobs=1)]: Done  40 tasks      | elapsed:    3.1s\n"
     ]
    },
    {
     "name": "stdout",
     "output_type": "stream",
     "text": [
      "building tree 43 of 100\n",
      "building tree 44 of 100\n",
      "building tree 45 of 100\n",
      "building tree 46 of 100\n",
      "building tree 47 of 100\n",
      "building tree 48 of 100\n",
      "building tree 49 of 100\n",
      "building tree 50 of 100\n",
      "building tree 51 of 100\n",
      "building tree 52 of 100\n",
      "building tree 53 of 100\n",
      "building tree 54 of 100\n",
      "building tree 55 of 100\n",
      "building tree 56 of 100\n",
      "building tree 57 of 100\n",
      "building tree 58 of 100\n",
      "building tree 59 of 100\n",
      "building tree 60 of 100\n",
      "building tree 61 of 100\n",
      "building tree 62 of 100\n",
      "building tree 63 of 100\n",
      "building tree 64 of 100\n",
      "building tree 65 of 100\n",
      "building tree 66 of 100\n",
      "building tree 67 of 100\n",
      "building tree 68 of 100\n",
      "building tree 69 of 100\n",
      "building tree 70 of 100\n",
      "building tree 71 of 100\n",
      "building tree 72 of 100\n",
      "building tree 73 of 100\n",
      "building tree 74 of 100\n",
      "building tree 75 of 100\n",
      "building tree 76 of 100\n",
      "building tree 77 of 100\n",
      "building tree 78 of 100\n",
      "building tree 79 of 100\n",
      "building tree 80 of 100\n",
      "building tree 81 of 100\n",
      "building tree 82 of 100\n",
      "building tree 83 of 100\n",
      "building tree 84 of 100\n",
      "building tree 85 of 100\n",
      "building tree 86 of 100\n",
      "building tree 87 of 100\n",
      "building tree 88 of 100\n",
      "building tree 89 of 100\n",
      "building tree 90 of 100\n",
      "building tree 91 of 100\n",
      "building tree 92 of 100\n",
      "building tree 93 of 100\n",
      "building tree 94 of 100\n",
      "building tree 95 of 100\n",
      "building tree 96 of 100\n",
      "building tree 97 of 100\n",
      "building tree 98 of 100\n",
      "building tree 99 of 100\n",
      "building tree 100 of 100\n",
      "Training time: 23.091387033462524\n"
     ]
    },
    {
     "name": "stderr",
     "output_type": "stream",
     "text": [
      "[Parallel(n_jobs=1)]: Done  40 tasks      | elapsed:    0.3s\n"
     ]
    },
    {
     "name": "stdout",
     "output_type": "stream",
     "text": [
      "Test time: 0.6898400783538818\n"
     ]
    }
   ],
   "source": [
    "#RandomForest\n",
    "print(\"Starting Random forest\")\n",
    "classifier = RandomForestClassifier(verbose=2,random_state=seed)\n",
    "classifier.fit(x_train, y_train)\n",
    "end = time.time()\n",
    "diff=end-start\n",
    "print(\"Training time: \" + str(diff))\n",
    "starttest = time.time()\n",
    "y_pred_random = classifier.predict(x_test)\n",
    "endtest =time.time()\n",
    "difftest = endtest-starttest\n",
    "print(\"Test time: \" + str(difftest))"
   ]
  },
  {
   "cell_type": "code",
   "execution_count": 21,
   "id": "ffd6b860",
   "metadata": {},
   "outputs": [
    {
     "name": "stdout",
     "output_type": "stream",
     "text": [
      "Starting Naive Bayes\n",
      "Training time: 23.89258909225464\n",
      "Test time: 0.07552599906921387\n"
     ]
    }
   ],
   "source": [
    "#Create Naive Bayes Classifier\n",
    "print(\"Starting Naive Bayes\")\n",
    "gnb = GaussianNB()\n",
    "gnb.fit(x_train, y_train)\n",
    "end = time.time()\n",
    "diff=end-start\n",
    "print(\"Training time: \" + str(diff))\n",
    "starttest = time.time()\n",
    "y_pred_nb = gnb.predict(x_test)\n",
    "endtest =time.time()\n",
    "difftest = endtest-starttest\n",
    "print(\"Test time: \" + str(difftest))"
   ]
  },
  {
   "cell_type": "code",
   "execution_count": 22,
   "id": "536b63d5",
   "metadata": {},
   "outputs": [
    {
     "name": "stdout",
     "output_type": "stream",
     "text": [
      "Starting Decision tree\n",
      "Training time: 24.372718572616577\n",
      "Test time: 0.015669584274291992\n"
     ]
    }
   ],
   "source": [
    "#Decision tree\n",
    "print(\"Starting Decision tree\")\n",
    "clf = DecisionTreeClassifier()\n",
    "clf = clf.fit(x_train,y_train)\n",
    "end = time.time()\n",
    "diff=end-start\n",
    "print(\"Training time: \" + str(diff))\n",
    "starttest = time.time()\n",
    "y_pred_dt = clf.predict(x_test)\n",
    "y_pred_dt_roc = clf.predict_proba(x_test)\n",
    "endtest =time.time()\n",
    "difftest = endtest-starttest\n",
    "print(\"Test time: \" + str(difftest))"
   ]
  },
  {
   "cell_type": "code",
   "execution_count": 23,
   "id": "bef04ef1",
   "metadata": {},
   "outputs": [
    {
     "name": "stdout",
     "output_type": "stream",
     "text": [
      "Starting Multi layer perceptron\n",
      "Iteration 1, loss = 2.97328830\n",
      "Iteration 2, loss = 0.51288083\n",
      "Iteration 3, loss = 0.58269938\n",
      "Iteration 4, loss = 0.61906464\n",
      "Iteration 5, loss = 0.49762046\n",
      "Iteration 6, loss = 0.64565707\n",
      "Iteration 7, loss = 0.32041043\n",
      "Iteration 8, loss = 0.40561145\n",
      "Iteration 9, loss = 0.77652752\n",
      "Iteration 10, loss = 0.34245641\n",
      "Iteration 11, loss = 0.39090587\n",
      "Iteration 12, loss = 0.34794928\n",
      "Iteration 13, loss = 0.60804647\n",
      "Iteration 14, loss = 0.30455291\n",
      "Iteration 15, loss = 0.43960638\n",
      "Iteration 16, loss = 0.47540445\n",
      "Iteration 17, loss = 0.54364130\n",
      "Iteration 18, loss = 0.38249815\n",
      "Iteration 19, loss = 0.30610474\n",
      "Iteration 20, loss = 0.33905626\n",
      "Iteration 21, loss = 0.67541611\n",
      "Iteration 22, loss = 0.32885779\n",
      "Iteration 23, loss = 0.31161025\n",
      "Iteration 24, loss = 0.36841462\n",
      "Iteration 25, loss = 0.30486415\n",
      "Training loss did not improve more than tol=0.000100 for 10 consecutive epochs. Stopping.\n",
      "Training time: 85.94992470741272\n",
      "Test time: 0.42185235023498535\n"
     ]
    }
   ],
   "source": [
    "#Multi layer perceptron\n",
    "print(\"Starting Multi layer perceptron\")\n",
    "model = MLPClassifier( max_iter=130, batch_size=1000, alpha=1e-4, activation = 'relu',solver='adam', verbose=10, tol=1e-4, random_state=seed)\n",
    "model.fit(x_train, y_train)\n",
    "end = time.time()\n",
    "diff=end-start\n",
    "print(\"Training time: \" + str(diff))\n",
    "starttest = time.time()\n",
    "y_pred_mlp = model.predict(x_test)\n",
    "endtest =time.time()\n",
    "difftest = endtest-starttest\n",
    "print(\"Test time: \" + str(difftest))"
   ]
  },
  {
   "cell_type": "code",
   "execution_count": 24,
   "id": "4d5f76d6",
   "metadata": {
    "lines_to_next_cell": 2
   },
   "outputs": [
    {
     "name": "stdout",
     "output_type": "stream",
     "text": [
      "Starting Gradient boost\n",
      "      Iter       Train Loss   Remaining Time \n",
      "         1           0.8918           21.91s\n",
      "         2           0.7674           20.90s\n",
      "         3           0.6795           19.94s\n",
      "         4           0.6010           18.93s\n",
      "         5           0.5408           17.71s\n",
      "         6           0.4943           16.55s\n",
      "         7           0.4595           15.37s\n",
      "         8           0.4254           14.15s\n",
      "         9           0.3983           12.96s\n",
      "        10           0.3768           11.77s\n",
      "        11           0.3539           10.57s\n",
      "        12           0.3375            9.37s\n",
      "        13           0.3203            8.19s\n",
      "        14           0.3080            7.02s\n",
      "        15           0.2939            5.84s\n",
      "        16           0.2834            4.67s\n",
      "        17           0.2752            3.49s\n",
      "        18           0.2665            2.33s\n",
      "        19           0.2575            1.16s\n",
      "        20           0.2496            0.00s\n",
      "Training time: 109.68870043754578\n",
      "Test time: 0.18962812423706055\n"
     ]
    }
   ],
   "source": [
    "#Gradient boost\n",
    "print(\"Starting Gradient boost\")\n",
    "model = GradientBoostingClassifier(n_estimators=20, random_state=seed,verbose=2)\n",
    "model.fit(x_train, y_train)\n",
    "end = time.time()\n",
    "diff=end-start\n",
    "print(\"Training time: \" + str(diff))\n",
    "starttest = time.time()\n",
    "y_pred_gradient = model.predict(x_test)\n",
    "endtest =time.time()\n",
    "difftest = endtest-starttest\n",
    "print(\"Test time: \" + str(difftest))"
   ]
  },
  {
   "cell_type": "code",
   "execution_count": 25,
   "id": "317514d5",
   "metadata": {
    "lines_to_next_cell": 2
   },
   "outputs": [
    {
     "name": "stdout",
     "output_type": "stream",
     "text": [
      "Decision Tree, accuracy: 0.9031322388961628 F1 score:0.9009088402539802\n",
      "[[ 3313   571     0     7   460     0]\n",
      " [  212 35556     0  3250    59     0]\n",
      " [    1     4    90    88     1     0]\n",
      " [   19  3144     0 46468     8     0]\n",
      " [  992   331    13   456  1486     0]\n",
      " [    0     0     0     0     2  2759]]\n"
     ]
    }
   ],
   "source": [
    "print(\"Decision Tree, accuracy: \" + str(metrics.accuracy_score(y_test, y_pred_dt)) + \" F1 score:\" + str(metrics.f1_score(y_test, y_pred_dt,average='weighted')))\n",
    "matrixdt = confusion_matrix(y_test,y_pred_dt)\n",
    "print(matrixdt)"
   ]
  },
  {
   "cell_type": "code",
   "execution_count": 26,
   "id": "35982281",
   "metadata": {
    "lines_to_next_cell": 2
   },
   "outputs": [
    {
     "name": "stdout",
     "output_type": "stream",
     "text": [
      "Naive Bayes, accuracy: 0.670863128210293 F1 score:0.7581608917548786\n",
      "[[ 4290    38     8     5    10     0]\n",
      " [11198 27866     0    13     0     0]\n",
      " [   93     0    89     2     0     0]\n",
      " [18473     0     0 31166     0     0]\n",
      " [ 2676    94    36    34   438     0]\n",
      " [    0     0     0     0     0  2761]]\n"
     ]
    }
   ],
   "source": [
    "print(\"Naive Bayes, accuracy: \" + str(metrics.accuracy_score(y_test, y_pred_nb)) + \" F1 score:\" + str(metrics.f1_score(y_test, y_pred_nb,average='weighted')))\n",
    "matrixnv = confusion_matrix(y_test,y_pred_nb)\n",
    "print(matrixnv)"
   ]
  },
  {
   "cell_type": "code",
   "execution_count": 27,
   "id": "8744e48b",
   "metadata": {},
   "outputs": [
    {
     "name": "stdout",
     "output_type": "stream",
     "text": [
      "Neural network, accuracy: 0.900916507201128 F1 score:0.8983518885415201\n",
      "[[ 3764   466     5    17    99     0]\n",
      " [  252 34888     0  3858    79     0]\n",
      " [    2    20    69    89     4     0]\n",
      " [   49  2768     0 46637   185     0]\n",
      " [ 1359   324     4   258  1333     0]\n",
      " [    0     0     0     0     0  2761]]\n"
     ]
    }
   ],
   "source": [
    "print(\"Neural network, accuracy: \" + str(metrics.accuracy_score(y_test, y_pred_nn)) + \" F1 score:\" + str(metrics.f1_score(y_test, y_pred_nn,average='weighted')))\n",
    "matrixnn = confusion_matrix(y_test,y_pred_nn)\n",
    "print(matrixnn)"
   ]
  },
  {
   "cell_type": "code",
   "execution_count": 28,
   "id": "34a62194",
   "metadata": {},
   "outputs": [
    {
     "name": "stdout",
     "output_type": "stream",
     "text": [
      "MultiLayerPerceptron, accuracy: 0.8750125893846309 F1 score:0.8747983763842849\n",
      "[[ 2802  1012     3   109   425     0]\n",
      " [  210 35077     0  3788     2     0]\n",
      " [    2     4    66    88    24     0]\n",
      " [   49  3180     0 44821  1587     2]\n",
      " [  948   622     4   337  1366     1]\n",
      " [    9     3     0     0     1  2748]]\n",
      "Random Forest, accuracy: 0.9029308087420687 F1 score:0.9009131314572056\n",
      "[[ 3227   572     0     7   545     0]\n",
      " [  206 35554     0  3250    67     0]\n",
      " [    1     4    89    89     1     0]\n",
      " [   19  3144     0 46468     8     0]\n",
      " [  951   317     0   457  1553     0]\n",
      " [    0     0     0     0     0  2761]]\n",
      "GradienBoost, accuracy: 0.7931513747608017 F1 score:0.8268049294767623\n",
      "[[ 3084   506   497   261     3     0]\n",
      " [  296 25185  9666  3930     0     0]\n",
      " [    2     3     1   178     0     0]\n",
      " [   49  2710     0 46880     0     0]\n",
      " [  991   362   327   642   956     0]\n",
      " [    0     0   115     0     0  2646]]\n"
     ]
    }
   ],
   "source": [
    "print(\"MultiLayerPerceptron, accuracy: \" + str(metrics.accuracy_score(y_test, y_pred_mlp)) + \" F1 score:\" + str(metrics.f1_score(y_test, y_pred_mlp,average='weighted')))\n",
    "matrixml = confusion_matrix(y_test,y_pred_mlp)\n",
    "print(matrixml)\n",
    "print(\"Random Forest, accuracy: \" + str(metrics.accuracy_score(y_test, y_pred_random)) + \" F1 score:\" + str(metrics.f1_score(y_test, y_pred_random,average='weighted')))\n",
    "matrixrf = confusion_matrix(y_test,y_pred_random)\n",
    "print(matrixrf)\n",
    "print(\"GradienBoost, accuracy: \" + str(metrics.accuracy_score(y_test, y_pred_gradient)) + \" F1 score:\" + str(metrics.f1_score(y_test, y_pred_gradient,average='weighted')))\n",
    "matrixgb = confusion_matrix(y_test,y_pred_gradient)\n",
    "print(matrixgb)"
   ]
  }
 ],
 "metadata": {
  "jupytext": {
   "cell_metadata_filter": "-all",
   "notebook_metadata_filter": "-all",
   "text_representation": {
    "extension": ".py",
    "format_name": "light"
   }
  },
  "kernelspec": {
   "display_name": "Python 3 (ipykernel)",
   "language": "python",
   "name": "python3"
  },
  "language_info": {
   "codemirror_mode": {
    "name": "ipython",
    "version": 3
   },
   "file_extension": ".py",
   "mimetype": "text/x-python",
   "name": "python",
   "nbconvert_exporter": "python",
   "pygments_lexer": "ipython3",
   "version": "3.11.5"
  }
 },
 "nbformat": 4,
 "nbformat_minor": 5
}
