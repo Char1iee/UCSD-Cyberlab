{
 "cells": [
  {
   "cell_type": "code",
   "execution_count": 1,
   "metadata": {
    "scrolled": true
   },
   "outputs": [],
   "source": [
    "# pip install tensorflow"
   ]
  },
  {
   "cell_type": "code",
   "execution_count": null,
   "metadata": {
    "id": "gHqVTFNhw6jM"
   },
   "outputs": [],
   "source": [
    "import pandas as pd\n",
    "import numpy as np\n",
    "import seaborn as sns\n",
    "from sklearn.preprocessing import LabelEncoder\n",
    "from sklearn import preprocessing\n",
    "from sklearn.model_selection import train_test_split\n",
    "from time import time\n",
    "import random\n",
    "import warnings\n",
    "warnings.filterwarnings(\"ignore\")\n",
    "from sklearn.metrics import f1_score as f1_score_rep\n",
    "from sklearn.metrics import accuracy_score\n",
    "\n",
    "import numpy as np\n",
    "import tensorflow as tf\n",
    "from tensorflow.keras.models import Sequential\n",
    "from tensorflow.keras.layers import Conv1D, MaxPooling1D, Flatten, Dense\n",
    "from tensorflow.keras.optimizers import SGD\n",
    "from tensorflow.keras.callbacks import EarlyStopping"
   ]
  },
  {
   "cell_type": "code",
   "execution_count": 3,
   "metadata": {
    "id": "MUnOy66Zxa8g"
   },
   "outputs": [],
   "source": [
    "x_test = np.load('/home/jovyan/UNSW/x_test.npy',allow_pickle=True)\n",
    "x_train = np.load('/home/jovyan/UNSW/x_train.npy',allow_pickle=True)\n",
    "x_val = np.load('/home/jovyan/UNSW/x_val.npy',allow_pickle=True)\n",
    "y_test = np.load('/home/jovyan/UNSW/y_test.npy',allow_pickle=True)\n",
    "y_train = np.load('/home/jovyan/UNSW/y_train.npy',allow_pickle=True)\n",
    "y_val = np.load('/home/jovyan/UNSW/y_val.npy',allow_pickle=True)"
   ]
  },
  {
   "cell_type": "code",
   "execution_count": 4,
   "metadata": {},
   "outputs": [
    {
     "name": "stderr",
     "output_type": "stream",
     "text": [
      "2024-01-30 10:07:22.819933: W tensorflow/core/common_runtime/gpu/gpu_device.cc:2256] Cannot dlopen some GPU libraries. Please make sure the missing libraries mentioned above are installed properly if you would like to use GPU. Follow the guide at https://www.tensorflow.org/install/gpu for how to download and setup the required libraries for your platform.\n",
      "Skipping registering GPU devices...\n",
      "WARNING:absl:`lr` is deprecated in Keras optimizer, please use `learning_rate` or use the legacy optimizer, e.g.,tf.keras.optimizers.legacy.SGD.\n"
     ]
    },
    {
     "name": "stdout",
     "output_type": "stream",
     "text": [
      "Epoch 1/50\n",
      "1287/1287 [==============================] - 12s 8ms/step - loss: 0.5096 - accuracy: 0.7131 - val_loss: 0.3702 - val_accuracy: 0.8021\n",
      "Epoch 2/50\n",
      "1287/1287 [==============================] - 11s 8ms/step - loss: 0.2909 - accuracy: 0.8656 - val_loss: 0.2438 - val_accuracy: 0.8762\n",
      "Epoch 3/50\n",
      "1287/1287 [==============================] - 11s 8ms/step - loss: 0.1956 - accuracy: 0.9181 - val_loss: 0.1773 - val_accuracy: 0.9312\n",
      "Epoch 4/50\n",
      "1287/1287 [==============================] - 10s 8ms/step - loss: 0.1604 - accuracy: 0.9344 - val_loss: 0.1492 - val_accuracy: 0.9390\n",
      "Epoch 5/50\n",
      "1287/1287 [==============================] - 10s 8ms/step - loss: 0.1452 - accuracy: 0.9411 - val_loss: 0.1346 - val_accuracy: 0.9481\n",
      "Epoch 6/50\n",
      "1287/1287 [==============================] - 10s 8ms/step - loss: 0.1362 - accuracy: 0.9454 - val_loss: 0.1276 - val_accuracy: 0.9506\n",
      "Epoch 7/50\n",
      "1287/1287 [==============================] - 10s 7ms/step - loss: 0.1290 - accuracy: 0.9486 - val_loss: 0.1764 - val_accuracy: 0.9205\n",
      "Epoch 8/50\n",
      "1287/1287 [==============================] - 10s 7ms/step - loss: 0.1237 - accuracy: 0.9512 - val_loss: 0.1228 - val_accuracy: 0.9506\n",
      "Epoch 9/50\n",
      "1287/1287 [==============================] - 10s 8ms/step - loss: 0.1195 - accuracy: 0.9531 - val_loss: 0.1162 - val_accuracy: 0.9545\n",
      "Epoch 10/50\n",
      "1287/1287 [==============================] - 10s 8ms/step - loss: 0.1173 - accuracy: 0.9540 - val_loss: 0.1297 - val_accuracy: 0.9475\n",
      "Epoch 11/50\n",
      "1287/1287 [==============================] - 10s 7ms/step - loss: 0.1152 - accuracy: 0.9552 - val_loss: 0.1743 - val_accuracy: 0.9255\n",
      "Epoch 12/50\n",
      "1287/1287 [==============================] - 10s 7ms/step - loss: 0.1135 - accuracy: 0.9554 - val_loss: 0.1388 - val_accuracy: 0.9413\n",
      "Epoch 13/50\n",
      "1287/1287 [==============================] - 9s 7ms/step - loss: 0.1120 - accuracy: 0.9557 - val_loss: 0.1066 - val_accuracy: 0.9583\n",
      "Epoch 14/50\n",
      "1287/1287 [==============================] - 10s 7ms/step - loss: 0.1101 - accuracy: 0.9567 - val_loss: 0.1042 - val_accuracy: 0.9586\n",
      "Epoch 15/50\n",
      "1287/1287 [==============================] - 10s 7ms/step - loss: 0.1084 - accuracy: 0.9572 - val_loss: 0.1145 - val_accuracy: 0.9536\n",
      "Epoch 16/50\n",
      "1287/1287 [==============================] - 9s 7ms/step - loss: 0.1074 - accuracy: 0.9578 - val_loss: 0.1078 - val_accuracy: 0.9559\n",
      "Epoch 17/50\n",
      "1287/1287 [==============================] - 9s 7ms/step - loss: 0.1070 - accuracy: 0.9573 - val_loss: 0.1433 - val_accuracy: 0.9380\n",
      "Epoch 18/50\n",
      "1287/1287 [==============================] - 10s 8ms/step - loss: 0.1054 - accuracy: 0.9587 - val_loss: 0.1337 - val_accuracy: 0.9448\n",
      "Epoch 19/50\n",
      "1287/1287 [==============================] - 10s 8ms/step - loss: 0.1050 - accuracy: 0.9579 - val_loss: 0.1235 - val_accuracy: 0.9493\n",
      "3562/3562 [==============================] - 8s 2ms/step - loss: 0.2200 - accuracy: 0.9226\n",
      "Test accuracy: 0.9226469993591309\n",
      "3562/3562 [==============================] - 8s 2ms/step\n"
     ]
    }
   ],
   "source": [
    "x_train = x_train.reshape(x_train.shape[0], x_train.shape[1], 1)\n",
    "x_test = x_test.reshape(x_test.shape[0], x_test.shape[1], 1)\n",
    "x_val = x_val.reshape(x_val.shape[0], x_val.shape[1], 1)\n",
    "\n",
    "input_shape = x_train.shape[1:]\n",
    "\n",
    "num_classes = len(np.unique(y_train))\n",
    "\n",
    "cnn_model = Sequential()\n",
    "cnn_model.add(Conv1D(filters=20, kernel_size=4, strides=2, padding='valid', activation='relu', input_shape=input_shape))\n",
    "cnn_model.add(MaxPooling1D())\n",
    "cnn_model.add(Conv1D(filters=20, kernel_size=4, strides=2, padding='same', activation='relu'))\n",
    "cnn_model.add(Conv1D(filters=3, kernel_size=2, strides=1, padding='same', activation='relu'))\n",
    "cnn_model.add(Flatten())\n",
    "cnn_model.add(Dense(units=100, activation='relu'))\n",
    "cnn_model.add(Dense(units=num_classes, activation='softmax'))\n",
    "\n",
    "opt = SGD(lr=0.01) \n",
    "\n",
    "cnn_model.compile(loss=\"sparse_categorical_crossentropy\", optimizer=opt, metrics=['accuracy'])\n",
    "\n",
    "early_stopping = EarlyStopping(monitor='val_loss', min_delta=0, patience=5)\n",
    "hist = cnn_model.fit(x_train, y_train, epochs=10, batch_size=64,\n",
    "                     validation_data=(x_val, y_val), \n",
    "                     callbacks=[early_stopping])\n",
    "\n",
    "test_loss, test_acc = cnn_model.evaluate(x_test, y_test)\n",
    "print('Test accuracy:', test_acc)\n",
    "\n",
    "y_hat = cnn_model.predict(x_test)\n",
    "y_hat = np.argmax(y_hat, axis=-1)"
   ]
  },
  {
   "cell_type": "code",
   "execution_count": 7,
   "metadata": {
    "id": "4YBRvKV1yDG0"
   },
   "outputs": [
    {
     "name": "stdout",
     "output_type": "stream",
     "text": [
      "FPR: [0.06934292 0.09442308]\n",
      "TPR: [0.90557692 0.93065708]\n",
      "FNR: [0.09442308 0.06934292]\n",
      "TNR: [0.93065708 0.90557692]\n",
      "Precision: 0.9071322242298769\n",
      "Accuracy: 0.9226469891463618\n",
      "F1-score: 0.923161637047091\n",
      "FPR: 0.0818830007348107\n",
      "tpr: 0.9181169992651893\n",
      "fnr: 0.0818830007348107\n",
      "tnr: 0.9181169992651893\n"
     ]
    },
    {
     "data": {
      "image/png": "[encoded data removed]",
      "text/plain": [
       "<Figure size 640x480 with 2 Axes>"
      ]
     },
     "metadata": {},
     "output_type": "display_data"
    }
   ],
   "source": [
    "from sklearn.metrics import confusion_matrix, precision_score, accuracy_score, f1_score, roc_auc_score\n",
    "\n",
    "\n",
    "\n",
    "conf_matrix = confusion_matrix(y_test, y_hat)\n",
    "# tn, fp, fn, tp = conf_matrix.ravel()\n",
    "cm = conf_matrix\n",
    "fp = cm.sum(axis=0) - np.diag(cm)\n",
    "fn = cm.sum(axis=1) - np.diag(cm)\n",
    "tp = np.diag(cm)\n",
    "tn = cm.sum() - (fp + fn + tp)\n",
    "\n",
    "\n",
    "fpr = fp / (fp + tn)\n",
    "tpr = tp / (tp + fn)\n",
    "fnr = fn / (fn + tp)\n",
    "tnr = tn / (tn + fp)\n",
    "precision = precision_score(y_test, y_hat, average='macro')\n",
    "accuracy = accuracy_score(y_test, y_hat)\n",
    "f1 = f1_score(y_test, y_hat, average='weighted')\n",
    "# auc = roc_auc_score(y_test, cnn_model.predict(x_test), multi_class='ovr')\n",
    "\n",
    "print(f\"FPR: {fpr}\")\n",
    "print(f\"TPR: {tpr}\")\n",
    "print(f\"FNR: {fnr}\")\n",
    "print(f\"TNR: {tnr}\")\n",
    "print(f\"Precision: {precision}\")\n",
    "print(f\"Accuracy: {accuracy}\")\n",
    "print(f\"F1-score: {f1}\")\n",
    "# print(f\"AUC: {auc}\")\n",
    "\n",
    "print(f\"FPR: {np.mean(fpr)}\")\n",
    "print(f\"tpr: {np.mean(tpr)}\")\n",
    "print(f\"fnr: {np.mean(fnr)}\")\n",
    "print(f\"tnr: {np.mean(tnr)}\")\n",
    "\n",
    "import matplotlib.pyplot as plt\n",
    "from sklearn.metrics import confusion_matrix, ConfusionMatrixDisplay\n",
    "disp = ConfusionMatrixDisplay(confusion_matrix=conf_matrix)\n",
    "disp.plot()\n",
    "plt.show()\n",
    "\n",
    "import pandas as pd\n",
    "metrics = {\n",
    "    \"model\" : \"cnn\",\n",
    "    \"Accuracy\": accuracy,\n",
    "    \"Precision\": precision,\n",
    "    \"F1-score\": f1,\n",
    "    \"FPR\": np.mean(fpr),\n",
    "    \"TPR\": np.mean(tpr),\n",
    "    \"FNR\": np.mean(fnr),\n",
    "    \"TNR\": np.mean(tnr),\n",
    "    # \"AUC\": auc\n",
    "}\n",
    "metrics_df = pd.DataFrame([metrics])\n",
    "metrics_df.to_csv(\"/home/jovyan/UNSW/model.csv\", mode='a', index=False)"
   ]
  },
  {
   "cell_type": "code",
   "execution_count": null,
   "metadata": {},
   "outputs": [],
   "source": []
  }
 ],
 "metadata": {
  "colab": {
   "provenance": []
  },
  "kernelspec": {
   "display_name": "Python 3 (ipykernel)",
   "language": "python",
   "name": "python3"
  },
  "language_info": {
   "codemirror_mode": {
    "name": "ipython",
    "version": 3
   },
   "file_extension": ".py",
   "mimetype": "text/x-python",
   "name": "python",
   "nbconvert_exporter": "python",
   "pygments_lexer": "ipython3",
   "version": "3.11.5"
  }
 },
 "nbformat": 4,
 "nbformat_minor": 4
}
