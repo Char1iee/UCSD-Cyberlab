{
 "cells": [
  {
   "cell_type": "code",
   "execution_count": 1,
   "id": "10a70ba4-5b14-4dc8-bcfc-7f88066a92bf",
   "metadata": {},
   "outputs": [],
   "source": [
    "import numpy as np\n",
    "import pandas as pd\n",
    "\n",
    "from sklearn.metrics import accuracy_score, precision_recall_fscore_support, roc_auc_score, confusion_matrix\n",
    "from sklearn.preprocessing import label_binarize\n",
    "\n",
    "import torch\n",
    "import torch.nn as nn\n",
    "import torch.optim as optim\n",
    "import torch.nn.functional as F\n",
    "from torch.utils.data import DataLoader, TensorDataset\n",
    "\n",
    "# from art.attacks.evasion import SimBA, SpatialTransformation, DeepFool, BasicIterativeMethod, FastGradientMethod, ProjectedGradientDescent\n",
    "# from art.estimators.classification import PyTorchClassifier\n",
    "\n",
    "import time"
   ]
  },
  {
   "cell_type": "code",
   "execution_count": 2,
   "id": "75b9c45d-d945-4bcf-a3cc-67f1dae4400a",
   "metadata": {},
   "outputs": [],
   "source": [
    "# head = {\n",
    "#             \"model\" : '',\n",
    "#             \"attack_model\": '',\n",
    "#             'epsilon': '',\n",
    "#             'Accuracy': '',\n",
    "#             'Macro Precision': '',\n",
    "#             'Weighted Precision': '',\n",
    "#             'Macro Recall': '',\n",
    "#             'Weighted Recall': '',\n",
    "#             'Macro F1': '',\n",
    "#             'Weighted F1': '',\n",
    "#             # 'Macro AUC': '',\n",
    "#             # 'Weighted AUC': '',\n",
    "#             'TPR': '',\n",
    "#             'FNR': '',\n",
    "#             'TNR': '',\n",
    "#             'FPR': '',\n",
    "#         }\n",
    "# head = pd.DataFrame([head])\n",
    "# head.to_csv(\"/home/jovyan/Sample_Based_Extension/UNSW/UNSW_Defense/preprocessor/GaussianNoise.csv\", mode='a', index=False)\n",
    "\n",
    "\n"
   ]
  },
  {
   "cell_type": "code",
   "execution_count": 2,
   "id": "262a1b3e-a728-41a9-b195-ef78b52823f0",
   "metadata": {},
   "outputs": [
    {
     "data": {
      "text/plain": [
       "<art.defences.postprocessor.gaussian_noise.GaussianNoise at 0x7efd7e715e20>"
      ]
     },
     "execution_count": 2,
     "metadata": {},
     "output_type": "execute_result"
    }
   ],
   "source": [
    "from art.defences.postprocessor.gaussian_noise import GaussianNoise\n",
    "\n",
    "gaussian_noise = GaussianNoise()\n",
    "gaussian_noise"
   ]
  },
  {
   "cell_type": "code",
   "execution_count": 6,
   "id": "f87f6d67-9ca3-43e0-8573-cbc3abb0e208",
   "metadata": {},
   "outputs": [],
   "source": [
    "# def calculate_performance_metrics(X_test, y_true, model, model_name, attack_name, eps):\n",
    "#     model.eval()\n",
    "#     device = torch.device('cuda' if torch.cuda.is_available() else 'cpu')\n",
    "#     model.to(device)\n",
    "    \n",
    "#     all_preds = []\n",
    "#     all_labels = []\n",
    "#     probabilities = []\n",
    "\n",
    "#     num_classes = len(np.unique(y_true))\n",
    "    \n",
    "#     X_test_tensor = torch.tensor(X_test, dtype=torch.float32)\n",
    "#     y_test_tensor = torch.tensor(y_test, dtype=torch.long)\n",
    "#     test_dataset = TensorDataset(X_test_tensor, y_test_tensor)\n",
    "#     test_loader = DataLoader(dataset=test_dataset)\n",
    "\n",
    "#     with torch.no_grad():\n",
    "        \n",
    "#         for inputs, labels in test_loader:\n",
    "#             inputs, labels = inputs.to(device), labels.to(device)\n",
    "#             outputs = model(inputs)\n",
    "\n",
    "#             outputs_np = outputs.cpu().numpy()       \n",
    "#             outputs_noisy = gaussian_noise(outputs_np)            \n",
    "#             outputs_noisy_tensor = torch.tensor(outputs_noisy).to(device)\n",
    "            \n",
    "#             preds = torch.argmax(outputs_noisy_tensor, dim=1)\n",
    "#             all_preds.extend(preds.cpu().numpy())\n",
    "#             all_labels.extend(labels.cpu().numpy())\n",
    "#             probabilities.extend(torch.nn.functional.softmax(outputs, dim=1).cpu().numpy())\n",
    "        \n",
    "#         all_preds = np.array(all_preds)\n",
    "#         all_labels = np.array(all_labels)\n",
    "#         probabilities = np.array(probabilities)\n",
    "        \n",
    "#         accuracy = accuracy_score(all_labels, all_preds)\n",
    "\n",
    "#         precision_macro, recall_macro, f1_macro, _ = precision_recall_fscore_support(all_labels, all_preds, average='macro')\n",
    "#         precision_weighted, recall_weighted, f1_weighted, _ = precision_recall_fscore_support(all_labels, all_preds, average='weighted')\n",
    "    \n",
    "#         # macro_auc = roc_auc_score(label_binarize(all_labels, classes=range(num_classes)), probabilities[:,1], average='macro')\n",
    "#         # weighted_auc = roc_auc_score(label_binarize(all_labels, classes=range(num_classes)), probabilities[:,1], average='weighted')\n",
    "\n",
    "#         cm = confusion_matrix(all_labels, all_preds)\n",
    "\n",
    "#         def calculate_class_metrics_macro(cm, class_index):\n",
    "#             TP = cm[class_index, class_index]\n",
    "#             FP = cm[:, class_index].sum() - TP\n",
    "#             FN = cm[class_index, :].sum() - TP\n",
    "#             TN = cm.sum() - (TP + FP + FN)\n",
    "            \n",
    "#             TPR = TP / (TP + FN) if (TP + FN) != 0 else 0  \n",
    "#             TNR = TN / (TN + FP) if (TN + FP) != 0 else 0  \n",
    "#             FPR = FP / (FP + TN) if (FP + TN) != 0 else 0  \n",
    "#             FNR = FN / (FN + TP) if (FN + TP) != 0 else 0  \n",
    "            \n",
    "#             return TPR, TNR, FPR, FNR\n",
    "            \n",
    "#         metrics = np.array([calculate_class_metrics_macro(cm, i) for i in range(num_classes)])\n",
    "#         TPR_macro, TNR_macro, FPR_macro, FNR_macro = np.mean(metrics, axis=0)\n",
    "\n",
    "#         print(f\"Accuracy: {accuracy}\")\n",
    "        \n",
    "#         print(\"\\nmacro\")\n",
    "#         print(f\"Precision: {precision_macro}\\nRecall: {recall_macro}\\nF1 Score: {f1_macro}\")\n",
    "    \n",
    "#         print(\"\\nweighted\")\n",
    "#         print(f\"Precision: {precision_weighted}\\nRecall: {recall_weighted}\\nF1 Score: {f1_weighted}\")\n",
    "#         print()\n",
    "        \n",
    "#         print(f\"Mean FNR: {FNR_macro}\\nMean TNR: {TNR_macro}\\nMean FPR: {FPR_macro}\\nMean TPR: {TPR_macro}\")\n",
    "\n",
    "#         new_row = {\n",
    "#             \"model\" : model_name,\n",
    "#             \"attack_model\" : attack_name,\n",
    "#             'epsilon': eps,\n",
    "#             'Accuracy': accuracy,\n",
    "#             'Macro Precision': precision_macro,\n",
    "#             'Weighted Precision': precision_weighted,\n",
    "#             'Macro Recall': recall_macro,\n",
    "#             'Weighted Recall': recall_weighted,\n",
    "#             'Macro F1': f1_macro,\n",
    "#             'Weighted F1': f1_weighted,\n",
    "#             # 'Macro AUC': macro_auc,\n",
    "#             # 'Weighted AUC': weighted_auc,\n",
    "#             'TPR': TPR_macro,\n",
    "#             'FNR': FNR_macro,\n",
    "#             'TNR': TNR_macro,\n",
    "#             'FPR': FPR_macro,\n",
    "#         }\n",
    "#         new_row_df = pd.DataFrame([new_row])\n",
    "#         new_row_df.to_csv(\"/home/jovyan/Sample_Based_Extension/UNSW/UNSW_Defense/preprocessor/GaussianNoise.csv\", mode='a', index=False, header=False)\n",
    "\n",
    "\n"
   ]
  },
  {
   "cell_type": "code",
   "execution_count": 3,
   "id": "6c1feb56-d992-418f-903e-156c57e699e8",
   "metadata": {},
   "outputs": [],
   "source": [
    "def calculate_performance_metrics(X_test, y_true, model, model_name, attack_name, eps):\n",
    "    model.eval()\n",
    "    device = torch.device('cuda' if torch.cuda.is_available() else 'cpu')\n",
    "    model.to(device)\n",
    "    \n",
    "    all_preds = []\n",
    "    all_labels = []\n",
    "    probabilities = []\n",
    "\n",
    "    num_classes = len(np.unique(y_true))\n",
    "    \n",
    "    X_test_tensor = torch.tensor(X_test, dtype=torch.float32)\n",
    "    y_test_tensor = torch.tensor(y_test, dtype=torch.long)\n",
    "    test_dataset = TensorDataset(X_test_tensor, y_test_tensor)\n",
    "    test_loader = DataLoader(dataset=test_dataset)\n",
    "\n",
    "    with torch.no_grad():\n",
    "        \n",
    "        for inputs, labels in test_loader:\n",
    "            inputs, labels = inputs.to(device), labels.to(device)\n",
    "            outputs = model(inputs)\n",
    "\n",
    "            outputs_np = outputs.cpu().numpy()       \n",
    "            outputs_noisy = gaussian_noise(outputs_np)            \n",
    "            outputs_noisy_tensor = torch.tensor(outputs_noisy).to(device)\n",
    "            \n",
    "            preds = torch.argmax(outputs_noisy_tensor, dim=1)\n",
    "            all_preds.extend(preds.cpu().numpy())\n",
    "            all_labels.extend(labels.cpu().numpy())\n",
    "            probabilities.extend(torch.nn.functional.softmax(outputs, dim=1).cpu().numpy())\n",
    "        \n",
    "        all_preds = np.array(all_preds)\n",
    "        all_labels = np.array(all_labels)\n",
    "        probabilities = np.array(probabilities)\n",
    "\n",
    "        np.save(f\"/home/jovyan/Sample_Based_Extension/UNSW/UNSW_Defense_Label/UNSW_Def7/y_pred_{attack_name}{eps}_Def7.npy\", all_preds)\n"
   ]
  },
  {
   "cell_type": "code",
   "execution_count": 4,
   "id": "585cd31f-6d5c-4d5a-af0f-c8b71f76e12b",
   "metadata": {},
   "outputs": [
    {
     "name": "stdout",
     "output_type": "stream",
     "text": [
      "Using cuda device\n"
     ]
    }
   ],
   "source": [
    "device = torch.device(\"cuda\" if torch.cuda.is_available() else \"cpu\")\n",
    "print(f\"Using {device} device\")"
   ]
  },
  {
   "cell_type": "code",
   "execution_count": 5,
   "id": "94c2fa40-7999-4d37-a5f6-d0486d509646",
   "metadata": {},
   "outputs": [],
   "source": [
    "x_test = np.load('/home/jovyan/Sample_Based_Extension/UNSW/x_test.npy')\n",
    "x_train = np.load('/home/jovyan/Sample_Based_Extension/UNSW/x_train.npy')\n",
    "x_val = np.load('/home/jovyan/Sample_Based_Extension/UNSW/x_val.npy')\n",
    "y_test = np.load('/home/jovyan/Sample_Based_Extension/UNSW/y_test.npy')\n",
    "y_train = np.load('/home/jovyan/Sample_Based_Extension/UNSW/y_train.npy')\n",
    "y_val = np.load('/home/jovyan/Sample_Based_Extension/UNSW/y_val.npy')"
   ]
  },
  {
   "cell_type": "code",
   "execution_count": 6,
   "id": "21c01562-ed8f-4673-b2c6-c08a2019f140",
   "metadata": {},
   "outputs": [],
   "source": [
    "input_shape = x_train.shape[1]\n",
    "output_shape = len(np.unique(y_train))"
   ]
  },
  {
   "cell_type": "code",
   "execution_count": 7,
   "id": "de0d2d74-541c-42d5-b968-b036a0bca1cb",
   "metadata": {},
   "outputs": [],
   "source": [
    "class DNNModel(nn.Module):\n",
    "    def __init__(self, input_size, output_size):\n",
    "        super(DNNModel, self).__init__()\n",
    "        self.fc1 = nn.Linear(input_size, 50)\n",
    "        self.fc2 = nn.Linear(50, 30)\n",
    "        self.fc3 = nn.Linear(30, 20)\n",
    "        self.fc4 = nn.Linear(20, output_size)\n",
    "\n",
    "    def forward(self, x):\n",
    "        x = F.relu(self.fc1(x))\n",
    "        x = F.relu(self.fc2(x))\n",
    "        x = F.relu(self.fc3(x))\n",
    "        x = self.fc4(x)\n",
    "        return x"
   ]
  },
  {
   "cell_type": "code",
   "execution_count": 8,
   "id": "10851d47-01f7-4c3d-b875-9008d05220d2",
   "metadata": {},
   "outputs": [
    {
     "name": "stderr",
     "output_type": "stream",
     "text": [
      "/tmp/ipykernel_3157/1956353291.py:2: FutureWarning: You are using `torch.load` with `weights_only=False` (the current default value), which uses the default pickle module implicitly. It is possible to construct malicious pickle data which will execute arbitrary code during unpickling (See https://github.com/pytorch/pytorch/blob/main/SECURITY.md#untrusted-models for more details). In a future release, the default value for `weights_only` will be flipped to `True`. This limits the functions that could be executed during unpickling. Arbitrary objects will no longer be allowed to be loaded via this mode unless they are explicitly allowlisted by the user via `torch.serialization.add_safe_globals`. We recommend you start setting `weights_only=True` for any use case where you don't have full control of the loaded file. Please open an issue on GitHub for any issues related to this experimental feature.\n",
      "  model.load_state_dict(torch.load(\"/home/jovyan/Sample_Based_Extension/UNSW/transfer_attack/dnn_pytorch.pt\"))\n"
     ]
    },
    {
     "data": {
      "text/plain": [
       "<All keys matched successfully>"
      ]
     },
     "execution_count": 8,
     "metadata": {},
     "output_type": "execute_result"
    }
   ],
   "source": [
    "model = DNNModel(input_size=input_shape, output_size=output_shape).to(device)\n",
    "model.load_state_dict(torch.load(\"/home/jovyan/Sample_Based_Extension/UNSW/transfer_attack/dnn_pytorch.pt\"))"
   ]
  },
  {
   "cell_type": "code",
   "execution_count": 11,
   "id": "21a8d703-c5e5-47e6-88ee-f1cc2ccf37e4",
   "metadata": {},
   "outputs": [],
   "source": [
    "calculate_performance_metrics(x_test, y_test, model, 'DNN', 'baseline', '0')\n"
   ]
  },
  {
   "cell_type": "code",
   "execution_count": 9,
   "id": "90334b65-c22f-4d6d-8a76-83d5b18277fd",
   "metadata": {
    "scrolled": true
   },
   "outputs": [
    {
     "name": "stdout",
     "output_type": "stream",
     "text": [
      "start BIM\n",
      "start FGSM\n",
      "start PGD\n"
     ]
    }
   ],
   "source": [
    "epsilon_values = [0.01, 0.1, 0.2, 0.3]\n",
    "\n",
    "# Iterate over epsilon values\n",
    "print(\"start BIM\")\n",
    "for epsilon in epsilon_values:\n",
    "    filename = f'/home/jovyan/Sample_Based_Extension/UNSW/transfer_attack/x_test_adv_BIM_eps_{epsilon}.npy'\n",
    "    x_test_adv = np.load(filename)\n",
    "\n",
    "    calculate_performance_metrics(x_test_adv, y_test, model, 'DNN', 'BIM', epsilon)\n",
    "\n",
    "print(\"start FGSM\")\n",
    "for epsilon in epsilon_values:\n",
    "    filename = f'/home/jovyan/Sample_Based_Extension/UNSW/transfer_attack/x_test_adv_FGSM_eps_{epsilon}.npy'\n",
    "    x_test_adv = np.load(filename)\n",
    "\n",
    "    calculate_performance_metrics(x_test_adv, y_test, model, 'DNN', 'FGSM', epsilon)\n",
    "\n",
    "print(\"start PGD\")\n",
    "for epsilon in epsilon_values:\n",
    "    filename = f'/home/jovyan/Sample_Based_Extension/UNSW/transfer_attack/x_test_adv_PGD_eps_{epsilon}.npy'\n",
    "    x_test_adv = np.load(filename)\n",
    "\n",
    "    calculate_performance_metrics(x_test_adv, y_test, model, 'DNN', 'PGD', epsilon)\n",
    "\n"
   ]
  },
  {
   "cell_type": "code",
   "execution_count": 10,
   "id": "60b4b12e-b41f-479e-a448-0f0325f82019",
   "metadata": {
    "scrolled": true
   },
   "outputs": [
    {
     "name": "stdout",
     "output_type": "stream",
     "text": [
      "start DF\n",
      "start AutoPGD\n",
      "start ZOO\n"
     ]
    }
   ],
   "source": [
    "epsilon_values = [0.01, 0.1, 0.2, 0.3]\n",
    "\n",
    "print(\"start DF\")\n",
    "DF_eps = [0.01, 0.1, 0.2, 0.3]\n",
    "for epsilon in DF_eps:\n",
    "    filename = f'/home/jovyan/Sample_Based_Extension/UNSW/transfer_attack/x_test_adv_DF_eps_{epsilon}.npy'\n",
    "    x_test_adv = np.load(filename)\n",
    "\n",
    "    calculate_performance_metrics(x_test_adv, y_test, model, 'DNN', 'DF', epsilon)\n",
    "    \n",
    "# Iterate over epsilon values\n",
    "print(\"start AutoPGD\")\n",
    "for epsilon in epsilon_values:\n",
    "    filename = f'/home/jovyan/Sample_Based_Extension/UNSW/transfer_attack/x_test_adv_AutoPGD_eps_{epsilon}.npy'\n",
    "    x_test_adv = np.load(filename)\n",
    "\n",
    "    calculate_performance_metrics(x_test_adv, y_test, model, 'DNN', 'AutoPGD', epsilon)\n",
    "\n",
    "print(\"start ZOO\")\n",
    "\n",
    "# Iterate over epsilon values\n",
    "for epsilon in epsilon_values:\n",
    "    filename = f'/home/jovyan/Sample_Based_Extension/UNSW/transfer_attack/x_test_adv_ZOO_eps_{epsilon}.npy'\n",
    "    x_test_adv = np.load(filename)\n",
    "\n",
    "    calculate_performance_metrics(x_test_adv, y_test, model, 'DNN', 'ZOO', epsilon)\n",
    "    "
   ]
  },
  {
   "cell_type": "code",
   "execution_count": 10,
   "id": "af39c043-52d1-4bf2-9568-5555dbf97ac2",
   "metadata": {},
   "outputs": [
    {
     "name": "stdout",
     "output_type": "stream",
     "text": [
      "start SINIFGSM\n"
     ]
    }
   ],
   "source": [
    "epsilon_values = [0.01, 0.1, 0.2, 0.3]\n",
    "\n",
    "print(\"start CaFA\")\n",
    "for epsilon in epsilon_values:\n",
    "    filename = f'/home/jovyan/Sample_Based_Extension/UNSW/transfer_attack/x_test_adv_CaFA_eps_{epsilon}.npy'\n",
    "    x_test_adv = np.load(filename)\n",
    "\n",
    "    calculate_performance_metrics(x_test_adv, y_test, model, 'DNN', 'CaFA', epsilon)\n",
    "\n",
    "print(\"start SINIFGSM\")\n",
    "for epsilon in epsilon_values:\n",
    "    filename = f'/home/jovyan/Sample_Based_Extension/UNSW/transfer_attack/x_test_adv_SINIFGSM_eps_{epsilon}.npy'\n",
    "    x_test_adv = np.load(filename)\n",
    "\n",
    "    calculate_performance_metrics(x_test_adv, y_test, model, 'DNN', 'SINIFGSM', epsilon)\n",
    "\n",
    "\n",
    "print(\"start VNIFGSM\")\n",
    "# Iterate over epsilon values\n",
    "for epsilon in epsilon_values:\n",
    "    filename = f'/home/jovyan/Sample_Based_Extension/UNSW/transfer_attack/x_test_adv_VNIFGSM_eps_{epsilon}.npy'\n",
    "    x_test_adv = np.load(filename)\n",
    "\n",
    "    calculate_performance_metrics(x_test_adv, y_test, model, 'DNN', 'VNIFGSM', epsilon)"
   ]
  },
  {
   "cell_type": "code",
   "execution_count": 12,
   "id": "77e6fc52-0dc5-41ed-b670-f522c428ffa5",
   "metadata": {
    "scrolled": true
   },
   "outputs": [
    {
     "name": "stdout",
     "output_type": "stream",
     "text": [
      "Accuracy: 0.8857867352221179\n",
      "\n",
      "macro\n",
      "Precision: 0.8766047717165164\n",
      "Recall: 0.8560657839730238\n",
      "F1 Score: 0.865109598840373\n",
      "\n",
      "weighted\n",
      "Precision: 0.8844684502780606\n",
      "Recall: 0.8857867352221179\n",
      "F1 Score: 0.8841875958367609\n",
      "\n",
      "Mean FNR: 0.1439342160269762\n",
      "Mean TNR: 0.8560657839730238\n",
      "Mean FPR: 0.1439342160269762\n",
      "Mean TPR: 0.8560657839730238\n",
      "Accuracy: 0.5534302585745496\n",
      "\n",
      "macro\n",
      "Precision: 0.52830578557997\n",
      "Recall: 0.5318949667309396\n",
      "F1 Score: 0.5232105823772067\n",
      "\n",
      "weighted\n",
      "Precision: 0.5920985501596703\n",
      "Recall: 0.5534302585745496\n",
      "F1 Score: 0.566572178889276\n",
      "\n",
      "Mean FNR: 0.4681050332690604\n",
      "Mean TNR: 0.5318949667309396\n",
      "Mean FPR: 0.4681050332690604\n",
      "Mean TPR: 0.5318949667309396\n",
      "Accuracy: 0.052118521378245346\n",
      "\n",
      "macro\n",
      "Precision: 0.06903292156598168\n",
      "Recall: 0.04261809457510815\n",
      "F1 Score: 0.05046779974378823\n",
      "\n",
      "weighted\n",
      "Precision: 0.09102372493002917\n",
      "Recall: 0.052118521378245346\n",
      "F1 Score: 0.06476953804602595\n",
      "\n",
      "Mean FNR: 0.9573819054248919\n",
      "Mean TNR: 0.04261809457510815\n",
      "Mean FPR: 0.9573819054248919\n",
      "Mean TPR: 0.04261809457510815\n",
      "Accuracy: 0.00832667959393179\n",
      "\n",
      "macro\n",
      "Precision: 0.012698307843128804\n",
      "Recall: 0.006124267261145089\n",
      "F1 Score: 0.00825820809188144\n",
      "\n",
      "weighted\n",
      "Precision: 0.017280743025237678\n",
      "Recall: 0.00832667959393179\n",
      "F1 Score: 0.011235019296649097\n",
      "\n",
      "Mean FNR: 0.993875732738855\n",
      "Mean TNR: 0.006124267261145089\n",
      "Mean FPR: 0.993875732738855\n",
      "Mean TPR: 0.006124267261145089\n",
      "Execution Time: 1542.493106 seconds\n"
     ]
    }
   ],
   "source": [
    "# import time\n",
    "\n",
    "# epsilon_values = [0.01, 0.1, 0.2, 0.3]\n",
    "\n",
    "# start_time = time.time()\n",
    "\n",
    "# for epsilon in epsilon_values:\n",
    "#     filename = f'/home/jovyan/Sample_Based_Extension/UNSW/transfer_attack/x_test_adv_BIM_eps_{epsilon}.npy'\n",
    "#     x_test_adv = np.load(filename)\n",
    "\n",
    "#     calculate_performance_metrics(x_test_adv, y_test, model, 'DNN', 'BIM', epsilon)\n",
    "\n",
    "# end_time = time.time()\n",
    "# result = end_time - start_time\n",
    "# print(f\"Execution Time: {result:.6f} seconds\")"
   ]
  },
  {
   "cell_type": "code",
   "execution_count": null,
   "id": "74eb3c71-ff99-4eb0-b464-4f6d25abd2cd",
   "metadata": {},
   "outputs": [],
   "source": []
  }
 ],
 "metadata": {
  "kernelspec": {
   "display_name": "Python 3 (ipykernel)",
   "language": "python",
   "name": "python3"
  },
  "language_info": {
   "codemirror_mode": {
    "name": "ipython",
    "version": 3
   },
   "file_extension": ".py",
   "mimetype": "text/x-python",
   "name": "python",
   "nbconvert_exporter": "python",
   "pygments_lexer": "ipython3",
   "version": "3.12.8"
  }
 },
 "nbformat": 4,
 "nbformat_minor": 5
}
