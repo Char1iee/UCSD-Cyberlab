{
 "cells": [
  {
   "cell_type": "code",
   "execution_count": 1,
   "id": "fdc49b0e-8838-4c2a-b4f3-ec519c98d9c2",
   "metadata": {},
   "outputs": [
    {
     "name": "stderr",
     "output_type": "stream",
     "text": [
      "/opt/conda/lib/python3.11/site-packages/tqdm/auto.py:21: TqdmWarning: IProgress not found. Please update jupyter and ipywidgets. See https://ipywidgets.readthedocs.io/en/stable/user_install.html\n",
      "  from .autonotebook import tqdm as notebook_tqdm\n"
     ]
    }
   ],
   "source": [
    "import numpy as np\n",
    "import pandas as pd\n",
    "\n",
    "from sklearn.metrics import accuracy_score, precision_recall_fscore_support, roc_auc_score, confusion_matrix\n",
    "from sklearn.preprocessing import label_binarize\n",
    "\n",
    "import torch\n",
    "import torch.nn as nn\n",
    "import torch.optim as optim\n",
    "import torch.nn.functional as F\n",
    "from torch.utils.data import DataLoader, TensorDataset\n",
    "\n",
    "from art.attacks.evasion import SimBA, SpatialTransformation, DeepFool, BasicIterativeMethod, FastGradientMethod, ProjectedGradientDescent\n",
    "from art.estimators.classification import PyTorchClassifier\n",
    "\n",
    "from art.defences.trainer import AdversarialTrainerAWPPyTorch\n",
    "\n",
    "import time"
   ]
  },
  {
   "cell_type": "code",
   "execution_count": 2,
   "id": "452730d1-473b-4ed3-a2c6-824fa3256d81",
   "metadata": {},
   "outputs": [],
   "source": [
    "head = {\n",
    "            \"model\" : '',\n",
    "            \"attack_model\": '',\n",
    "            'epsilon': '',\n",
    "            'Accuracy': '',\n",
    "            'Macro Precision': '',\n",
    "            'Weighted Precision': '',\n",
    "            'Macro Recall': '',\n",
    "            'Weighted Recall': '',\n",
    "            'Macro F1': '',\n",
    "            'Weighted F1': '',\n",
    "            # 'Macro AUC': '',\n",
    "            # 'Weighted AUC': '',\n",
    "            # 'TPR': '',\n",
    "            # 'FNR': '',\n",
    "            # 'TNR': '',\n",
    "            # 'FPR': '',\n",
    "        }\n",
    "head = pd.DataFrame([head])\n",
    "head.to_csv(\"/home/jovyan/Defense/AWP/AWP_BIM.csv\", mode='a', index=False)"
   ]
  },
  {
   "cell_type": "code",
   "execution_count": 3,
   "id": "16d8e2c2-2a14-4dde-93f0-14d395f137b5",
   "metadata": {},
   "outputs": [],
   "source": [
    "from sklearn.metrics import confusion_matrix, precision_score, accuracy_score, f1_score,recall_score, roc_auc_score\n",
    "import pandas as pd\n",
    "import matplotlib.pyplot as plt\n",
    "from sklearn.metrics import confusion_matrix, ConfusionMatrixDisplay\n",
    "\n",
    "def calculate_performance_metrics(x_test_adv, y_test, classifier, model_name, attack_name, epsilon):\n",
    "\n",
    "    start_time = time.time()\n",
    "\n",
    "    preds = np.argmax(classifier.predict(x_test_adv), axis=-1)\n",
    "    # preds = classifier.predict(x_test_adv)\n",
    "\n",
    "    y_hat = preds\n",
    "    # y_test_arg = np.argmax(y_test, axis=1)\n",
    "    y_test_arg = y_test\n",
    "\n",
    "\n",
    "    accuracy = accuracy_score(y_test_arg, y_hat)\n",
    "    precision_macro = precision_score(y_test_arg, y_hat, average='macro')\n",
    "    # precision_micro = precision_score(y_test_arg, y_hat, average='micro')\n",
    "    precision_weighted = precision_score(y_test_arg, y_hat, average='weighted')\n",
    "    f1_macro = f1_score(y_test_arg, y_hat, average='macro')\n",
    "    # f1_micro = f1_score(y_test_arg, y_hat, average='micro')\n",
    "    f1_weighted = f1_score(y_test_arg, y_hat, average='weighted')\n",
    "    recall_macro = recall_score(y_test_arg, y_hat, average='macro')\n",
    "    # recall_micro = recall_score(y_test_arg, y_hat, average='micro')\n",
    "    recall_weighted = recall_score(y_test_arg, y_hat, average='weighted')\n",
    "\n",
    "\n",
    "    print(f\"epsilon = {epsilon}\")\n",
    "\n",
    "    print(f\"Accuracy: {accuracy}\")\n",
    "    # print(f\"Precision(micro,macro,weighted): {precision_micro},{precision_macro},{precision_weighted}\")\n",
    "    # print(f\"F1(micro,macro,weighted: {f1_micro},{f1_macro},{f1_weighted}\")\n",
    "    # print(f\"Recall(micro,macro,weighted: {recall_micro},{recall_macro},{recall_weighted}\")\n",
    "    print(f\"Precision(macro,weighted): {precision_macro},{precision_weighted}\")\n",
    "    print(f\"F1(macro,weighted: {f1_macro},{f1_weighted}\")\n",
    "    print(f\"Recall(macro,weighted: {recall_macro},{recall_weighted}\")\n",
    "\n",
    "\n",
    "    \n",
    "    metrics = {\n",
    "        \"model\" : model_name,\n",
    "        \"attack_model\" : attack_name,\n",
    "        \"epsilon\" : epsilon,\n",
    "        \"Accuracy\": accuracy,\n",
    "        # \"Precision-micro\": precision_micro,\n",
    "        \"Precision-macro\": precision_macro,\n",
    "        \"Precision-weighted\": precision_weighted,\n",
    "        # \"Recall_micro\": recall_micro,\n",
    "        \"Recall_macro\": recall_macro,\n",
    "        \"Recall_weighted\": recall_weighted,\n",
    "        \n",
    "        # \"F1-micro\": f1_micro,\n",
    "        \"F1-macro\": f1_macro,\n",
    "        \"F1-weighted\": f1_weighted,\n",
    "\n",
    "    }\n",
    "    metrics_df = pd.DataFrame([metrics])\n",
    "    metrics_df.to_csv(\"/home/jovyan/Defense/AWP/AWP_BIM.csv\", mode='a', index=False, header=False)\n",
    "\n",
    "    end_time = time.time()\n",
    "    elapsed_time = end_time - start_time\n",
    "    print(f\"Time: {elapsed_time:.2f} second\\n\\n\")"
   ]
  },
  {
   "cell_type": "code",
   "execution_count": 4,
   "id": "7b7e28fa-d8bf-43ea-9022-2825067b2132",
   "metadata": {},
   "outputs": [
    {
     "name": "stdout",
     "output_type": "stream",
     "text": [
      "Using cuda device\n"
     ]
    }
   ],
   "source": [
    "device = torch.device(\"cuda\" if torch.cuda.is_available() else \"cpu\")\n",
    "print(f\"Using {device} device\")"
   ]
  },
  {
   "cell_type": "code",
   "execution_count": 5,
   "id": "e4c85229-1dc7-4921-a5a3-5ce8487a11fb",
   "metadata": {},
   "outputs": [],
   "source": [
    "x_test = np.load('/home/jovyan/Wustl_iiot/x_test.npy')\n",
    "x_train = np.load('/home/jovyan/Wustl_iiot/x_train.npy')\n",
    "x_val = np.load('/home/jovyan/Wustl_iiot/x_val.npy')\n",
    "y_test = np.load('/home/jovyan/Wustl_iiot/y_test.npy')\n",
    "y_train = np.load('/home/jovyan/Wustl_iiot/y_train.npy')\n",
    "y_val = np.load('/home/jovyan/Wustl_iiot/y_val.npy')\n",
    "\n",
    "\n",
    "# train_dataset = TensorDataset(x_train_tensor, y_train_tensor)\n",
    "# train_loader = DataLoader(train_dataset, batch_size=100, shuffle=True)\n",
    "\n",
    "# val_dataset = TensorDataset(x_val_tensor, y_val_tensor)\n",
    "# val_loader = DataLoader(val_dataset, batch_size=100, shuffle=True)"
   ]
  },
  {
   "cell_type": "code",
   "execution_count": 6,
   "id": "816993b9-2d83-4217-8804-a68f4aa9992b",
   "metadata": {},
   "outputs": [],
   "source": [
    "input_shape = x_train.shape[1]\n",
    "output_shape = len(np.unique(y_train))"
   ]
  },
  {
   "cell_type": "code",
   "execution_count": 7,
   "id": "b23e7c1b-ba47-4409-9544-5f2f90214545",
   "metadata": {},
   "outputs": [],
   "source": [
    "class DNNModel(nn.Module):\n",
    "    def __init__(self, input_size, output_size):\n",
    "        super(DNNModel, self).__init__()\n",
    "        self.fc1 = nn.Linear(input_size, 50)\n",
    "        self.fc2 = nn.Linear(50, 30)\n",
    "        self.fc3 = nn.Linear(30, 20)\n",
    "        self.fc4 = nn.Linear(20, output_size)\n",
    "\n",
    "    def forward(self, x):\n",
    "        x = F.relu(self.fc1(x))\n",
    "        x = F.relu(self.fc2(x))\n",
    "        x = F.relu(self.fc3(x))\n",
    "        x = self.fc4(x)\n",
    "        return x"
   ]
  },
  {
   "cell_type": "code",
   "execution_count": 8,
   "id": "be599795-b056-4b24-acd2-8edbe7a2c859",
   "metadata": {},
   "outputs": [
    {
     "data": {
      "text/plain": [
       "<All keys matched successfully>"
      ]
     },
     "execution_count": 8,
     "metadata": {},
     "output_type": "execute_result"
    }
   ],
   "source": [
    "model = DNNModel(input_size=input_shape, output_size=output_shape).to(device)\n",
    "model.load_state_dict(torch.load(\"/home/jovyan/Wustl_iiot/transfer_attack/dnn_pytorch.pt\"))"
   ]
  },
  {
   "cell_type": "code",
   "execution_count": 9,
   "id": "e4c38ec7-224b-4f41-b395-35eec4464fc1",
   "metadata": {},
   "outputs": [],
   "source": [
    "x_train = x_train.astype(np.float32)\n",
    "x_test = x_test.astype(np.float32)\n",
    "x_val = x_val.astype(np.float32)"
   ]
  },
  {
   "cell_type": "code",
   "execution_count": 10,
   "id": "4d0f6d43-9ae1-48ef-ac57-cdd68880ed22",
   "metadata": {},
   "outputs": [],
   "source": [
    "criterion = nn.CrossEntropyLoss()\n",
    "optimizer = optim.Adam(model.parameters(), lr=0.001)\n",
    "    \n",
    "classifier = PyTorchClassifier(\n",
    "    model=model,\n",
    "    clip_values=(-5, 5),\n",
    "    loss=criterion,\n",
    "    optimizer=optimizer,\n",
    "    input_shape=(input_shape,),\n",
    "    nb_classes=output_shape,\n",
    "    device_type='gpu'\n",
    ")"
   ]
  },
  {
   "cell_type": "code",
   "execution_count": 11,
   "id": "8c6d4742-62fc-4fcc-b423-fd2b974c4023",
   "metadata": {},
   "outputs": [],
   "source": [
    "from art.attacks.evasion import SimBA, SpatialTransformation, DeepFool, BasicIterativeMethod, FastGradientMethod, ProjectedGradientDescent\n",
    "\n",
    "FGSM = FastGradientMethod(estimator=classifier, eps=0.3)\n",
    "BIM = BasicIterativeMethod(estimator=classifier, eps=0.3, max_iter=3, verbose = False)\n",
    "PGD = ProjectedGradientDescent(estimator=classifier, eps=0.3, max_iter=3)"
   ]
  },
  {
   "cell_type": "code",
   "execution_count": 12,
   "id": "132defe0-b404-4e54-954a-87118f51a031",
   "metadata": {},
   "outputs": [],
   "source": [
    "FGSM_Trainer = AdversarialTrainerAWPPyTorch(classifier, classifier, FGSM, \"TRADES\", 0.1, 6.0, 0)\n",
    "BIM_Trainer = AdversarialTrainerAWPPyTorch(classifier, classifier, BIM, \"TRADES\", 0.1, 6.0, 0)\n",
    "PGD_Trainer = AdversarialTrainerAWPPyTorch(classifier, classifier, PGD, \"TRADES\", 0.1, 6.0, 0)"
   ]
  },
  {
   "cell_type": "code",
   "execution_count": 13,
   "id": "c467b70d-508b-4f6a-bd67-43fe2b4f04ea",
   "metadata": {},
   "outputs": [],
   "source": [
    "# start_time = time.time()\n",
    "# FGSM_Trainer.fit(x_train, y_train, epochs=10, batch_size=128,\n",
    "#                      validation_data=(x_val, y_val))\n",
    "# end_time = time.time()\n",
    "# elapsed_time = end_time - start_time\n",
    "# print(f\"Time: {elapsed_time:.2f} second\\n\\n\")"
   ]
  },
  {
   "cell_type": "code",
   "execution_count": 15,
   "id": "eb567019-e97f-49ed-9401-00dbc9223e1f",
   "metadata": {},
   "outputs": [
    {
     "name": "stderr",
     "output_type": "stream",
     "text": [
      "Adversarial Training AWP with TRADES - Epochs: 100%|██████████| 20/20 [4:19:22<00:00, 778.11s/it]  "
     ]
    },
    {
     "name": "stdout",
     "output_type": "stream",
     "text": [
      "Time: 15562.24 second\n",
      "\n",
      "\n"
     ]
    },
    {
     "name": "stderr",
     "output_type": "stream",
     "text": [
      "\n"
     ]
    }
   ],
   "source": [
    "start_time = time.time()\n",
    "BIM_Trainer.fit(x_train, y_train, epochs=5, batch_size=128,\n",
    "                     validation_data=(x_val, y_val))\n",
    "end_time = time.time()\n",
    "elapsed_time = end_time - start_time\n",
    "print(f\"Time: {elapsed_time:.2f} second\\n\\n\")"
   ]
  },
  {
   "cell_type": "code",
   "execution_count": 15,
   "id": "9dac5c8b-46c9-4c25-8977-029a4e061594",
   "metadata": {
    "scrolled": true
   },
   "outputs": [],
   "source": [
    "# start_time = time.time()\n",
    "# PGD_Trainer.fit(x_train, y_train, epochs=10, batch_size=128,\n",
    "#                      validation_data=(x_val, y_val))\n",
    "# end_time = time.time()\n",
    "# elapsed_time = end_time - start_time\n",
    "# print(f\"Time: {elapsed_time:.2f} second\\n\\n\")"
   ]
  },
  {
   "cell_type": "code",
   "execution_count": 26,
   "id": "ea5567e3-cdc2-4c06-88e9-92004ca18eb0",
   "metadata": {},
   "outputs": [
    {
     "name": "stdout",
     "output_type": "stream",
     "text": [
      "epsilon = 0\n",
      "Accuracy: 0.9998659702705306\n",
      "Precision(macro,weighted): 0.8992601763938672,0.9998892769560725\n",
      "F1(macro,weighted: 0.9139629700221977,0.9998735977989378\n",
      "Recall(macro,weighted: 0.9357276218926704,0.9998659702705306\n",
      "Time: 1.42 second\n",
      "\n",
      "\n"
     ]
    }
   ],
   "source": [
    "calculate_performance_metrics(x_test, y_test, BIM_Trainer, 'BIM_Trainer', 'baseline', '0')\n",
    "# calculate_performance_metrics(x_test, y_test, FGSM_Trainer, 'FGSM_Trainer', 'baseline', '0')\n",
    "# calculate_performance_metrics(x_test, y_test, PGD_Trainer, 'PGD_Trainer', 'baseline', '0')"
   ]
  },
  {
   "cell_type": "code",
   "execution_count": 25,
   "id": "9123acf2-1799-48c0-ad16-065d17d6d213",
   "metadata": {
    "scrolled": true
   },
   "outputs": [
    {
     "name": "stdout",
     "output_type": "stream",
     "text": [
      "epsilon = 0.01\n",
      "Accuracy: 0.999493200085444\n",
      "Precision(macro,weighted): 0.836202806671583,0.9997979760363629\n",
      "F1(macro,weighted: 0.8665067685003798,0.9996060525381799\n",
      "Recall(macro,weighted: 0.9668619404728769,0.999493200085444\n",
      "Time: 1.46 second\n",
      "\n",
      "\n",
      "epsilon = 0.1\n",
      "Accuracy: 0.006098352690856241\n",
      "Precision(macro,weighted): 0.03920746675010343,0.07052984024263906\n",
      "F1(macro,weighted: 0.022585288848983576,0.009607458792202497\n",
      "Recall(macro,weighted: 0.10454538102050237,0.006098352690856241\n",
      "Time: 1.41 second\n",
      "\n",
      "\n",
      "epsilon = 0.2\n",
      "Accuracy: 0.0027727400283975487\n",
      "Precision(macro,weighted): 0.00836860422805645,0.036543342814229475\n",
      "F1(macro,weighted: 0.0012088674331609396,0.004786073547271727\n",
      "Recall(macro,weighted: 0.0067888553714719165,0.0027727400283975487\n",
      "Time: 1.41 second\n",
      "\n",
      "\n",
      "epsilon = 0.3\n",
      "Accuracy: 0.002391592985219034\n",
      "Precision(macro,weighted): 0.007374402686297301,0.0341843669945908\n",
      "F1(macro,weighted: 0.0009643804151395904,0.004470427699152436\n",
      "Recall(macro,weighted: 0.0005159250056471651,0.002391592985219034\n",
      "Time: 1.40 second\n",
      "\n",
      "\n"
     ]
    },
    {
     "name": "stderr",
     "output_type": "stream",
     "text": [
      "/home/jovyan/.local/lib/python3.11/site-packages/sklearn/metrics/_classification.py:1334: UndefinedMetricWarning: Precision is ill-defined and being set to 0.0 in labels with no predicted samples. Use `zero_division` parameter to control this behavior.\n",
      "  _warn_prf(average, modifier, msg_start, len(result))\n",
      "/home/jovyan/.local/lib/python3.11/site-packages/sklearn/metrics/_classification.py:1334: UndefinedMetricWarning: Precision is ill-defined and being set to 0.0 in labels with no predicted samples. Use `zero_division` parameter to control this behavior.\n",
      "  _warn_prf(average, modifier, msg_start, len(result))\n"
     ]
    }
   ],
   "source": [
    "epsilon_values = [0.01, 0.1, 0.2, 0.3]\n",
    "\n",
    "# Iterate over epsilon values\n",
    "for epsilon in epsilon_values:\n",
    "    filename = f'/home/jovyan/Wustl_iiot/transfer_attack/x_test_adv_BIM_eps_{epsilon}.npy'\n",
    "    x_test_adv = np.load(filename)\n",
    "\n",
    "    calculate_performance_metrics(x_test_adv, y_test, BIM_Trainer, 'BIM_Trainer', 'BIM', epsilon)\n",
    "\n",
    "# for epsilon in epsilon_values:\n",
    "#     filename = f'/home/jovyan/Wustl_iiot/transfer_attack/x_test_adv_FGSM_eps_{epsilon}.npy'\n",
    "#     x_test_adv = np.load(filename)\n",
    "\n",
    "#     calculate_performance_metrics(x_test_adv, y_test, FGSM_Trainer, 'FGSM_Trainer', 'FGSM', epsilon)\n",
    "\n",
    "# for epsilon in epsilon_values:\n",
    "#     filename = f'/home/jovyan/Wustl_iiot/transfer_attack/x_test_adv_PGD_eps_{epsilon}.npy'\n",
    "#     x_test_adv = np.load(filename)\n",
    "\n",
    "#     calculate_performance_metrics(x_test_adv, y_test, PGD_Trainer, 'PGD_Trainer', 'PGD', epsilon)"
   ]
  },
  {
   "cell_type": "code",
   "execution_count": 16,
   "id": "ce25e407-621b-474b-b380-7df9123962f0",
   "metadata": {},
   "outputs": [],
   "source": [
    "torch.save(BIM_Trainer, \"/home/jovyan/Defense/AWP/AWP_BIM.pt\")"
   ]
  },
  {
   "cell_type": "code",
   "execution_count": null,
   "id": "abe3ed8a-60a2-41b7-a9be-df8714026373",
   "metadata": {},
   "outputs": [],
   "source": [
    "# skip start here"
   ]
  },
  {
   "cell_type": "code",
   "execution_count": 13,
   "id": "362ea04d-7c45-4694-8ce3-885a76369031",
   "metadata": {},
   "outputs": [],
   "source": [
    "BIM_Trainer = torch.load(\"/home/jovyan/Defense/AWP/AWP_BIM.pt\")\n"
   ]
  },
  {
   "cell_type": "code",
   "execution_count": 17,
   "id": "bfcc0709-ca03-429b-a19e-9948ff5e7e18",
   "metadata": {
    "scrolled": true
   },
   "outputs": [
    {
     "name": "stderr",
     "output_type": "stream",
     "text": [
      "/home/jovyan/.local/lib/python3.11/site-packages/sklearn/metrics/_classification.py:1334: UndefinedMetricWarning: Precision is ill-defined and being set to 0.0 in labels with no predicted samples. Use `zero_division` parameter to control this behavior.\n",
      "  _warn_prf(average, modifier, msg_start, len(result))\n",
      "/home/jovyan/.local/lib/python3.11/site-packages/sklearn/metrics/_classification.py:1334: UndefinedMetricWarning: Precision is ill-defined and being set to 0.0 in labels with no predicted samples. Use `zero_division` parameter to control this behavior.\n",
      "  _warn_prf(average, modifier, msg_start, len(result))\n"
     ]
    },
    {
     "name": "stdout",
     "output_type": "stream",
     "text": [
      "epsilon = 0\n",
      "Accuracy: 0.9979769887708217\n",
      "Precision(macro,weighted): 0.7903507269750408,0.9978215392902711\n",
      "F1(macro,weighted: 0.7243565987227868,0.9977659358010255\n",
      "Recall(macro,weighted: 0.6794342793129201,0.9979769887708217\n",
      "Time: 3.28 second\n",
      "\n",
      "\n",
      "start BIM\n"
     ]
    },
    {
     "name": "stderr",
     "output_type": "stream",
     "text": [
      "/home/jovyan/.local/lib/python3.11/site-packages/sklearn/metrics/_classification.py:1334: UndefinedMetricWarning: Precision is ill-defined and being set to 0.0 in labels with no predicted samples. Use `zero_division` parameter to control this behavior.\n",
      "  _warn_prf(average, modifier, msg_start, len(result))\n",
      "/home/jovyan/.local/lib/python3.11/site-packages/sklearn/metrics/_classification.py:1334: UndefinedMetricWarning: Precision is ill-defined and being set to 0.0 in labels with no predicted samples. Use `zero_division` parameter to control this behavior.\n",
      "  _warn_prf(average, modifier, msg_start, len(result))\n"
     ]
    },
    {
     "name": "stdout",
     "output_type": "stream",
     "text": [
      "epsilon = 0.01\n",
      "Accuracy: 0.9974157392786688\n",
      "Precision(macro,weighted): 0.7886169876868939,0.9972830664448457\n",
      "F1(macro,weighted: 0.7124472072373625,0.9971078227269026\n",
      "Recall(macro,weighted: 0.6631721433905899,0.9974157392786688\n",
      "Time: 3.29 second\n",
      "\n",
      "\n"
     ]
    },
    {
     "name": "stderr",
     "output_type": "stream",
     "text": [
      "/home/jovyan/.local/lib/python3.11/site-packages/sklearn/metrics/_classification.py:1334: UndefinedMetricWarning: Precision is ill-defined and being set to 0.0 in labels with no predicted samples. Use `zero_division` parameter to control this behavior.\n",
      "  _warn_prf(average, modifier, msg_start, len(result))\n",
      "/home/jovyan/.local/lib/python3.11/site-packages/sklearn/metrics/_classification.py:1334: UndefinedMetricWarning: Precision is ill-defined and being set to 0.0 in labels with no predicted samples. Use `zero_division` parameter to control this behavior.\n",
      "  _warn_prf(average, modifier, msg_start, len(result))\n"
     ]
    },
    {
     "name": "stdout",
     "output_type": "stream",
     "text": [
      "epsilon = 0.1\n",
      "Accuracy: 0.021821715329231463\n",
      "Precision(macro,weighted): 0.05410321311403238,0.12985893465324475\n",
      "F1(macro,weighted: 0.04112946998941637,0.019371363449888268\n",
      "Recall(macro,weighted: 0.0883634537625925,0.021821715329231463\n",
      "Time: 3.28 second\n",
      "\n",
      "\n"
     ]
    },
    {
     "name": "stderr",
     "output_type": "stream",
     "text": [
      "/home/jovyan/.local/lib/python3.11/site-packages/sklearn/metrics/_classification.py:1334: UndefinedMetricWarning: Precision is ill-defined and being set to 0.0 in labels with no predicted samples. Use `zero_division` parameter to control this behavior.\n",
      "  _warn_prf(average, modifier, msg_start, len(result))\n",
      "/home/jovyan/.local/lib/python3.11/site-packages/sklearn/metrics/_classification.py:1334: UndefinedMetricWarning: Precision is ill-defined and being set to 0.0 in labels with no predicted samples. Use `zero_division` parameter to control this behavior.\n",
      "  _warn_prf(average, modifier, msg_start, len(result))\n"
     ]
    },
    {
     "name": "stdout",
     "output_type": "stream",
     "text": [
      "epsilon = 0.2\n",
      "Accuracy: 0.0027769284574434665\n",
      "Precision(macro,weighted): 0.008633443674393773,0.03663022555067613\n",
      "F1(macro,weighted: 0.0012340475075046317,0.004794375404457839\n",
      "Recall(macro,weighted: 0.0068016259480634484,0.0027769284574434665\n",
      "Time: 3.28 second\n",
      "\n",
      "\n"
     ]
    },
    {
     "name": "stderr",
     "output_type": "stream",
     "text": [
      "/home/jovyan/.local/lib/python3.11/site-packages/sklearn/metrics/_classification.py:1334: UndefinedMetricWarning: Precision is ill-defined and being set to 0.0 in labels with no predicted samples. Use `zero_division` parameter to control this behavior.\n",
      "  _warn_prf(average, modifier, msg_start, len(result))\n",
      "/home/jovyan/.local/lib/python3.11/site-packages/sklearn/metrics/_classification.py:1334: UndefinedMetricWarning: Precision is ill-defined and being set to 0.0 in labels with no predicted samples. Use `zero_division` parameter to control this behavior.\n",
      "  _warn_prf(average, modifier, msg_start, len(result))\n"
     ]
    },
    {
     "name": "stdout",
     "output_type": "stream",
     "text": [
      "epsilon = 0.3\n",
      "Accuracy: 0.0025633185761016614\n",
      "Precision(macro,weighted): 0.008739430712934596,0.03655648725731792\n",
      "F1(macro,weighted: 0.0011444291595486046,0.004790714962096154\n",
      "Recall(macro,weighted: 0.0006123055597139339,0.0025633185761016614\n",
      "Time: 3.29 second\n",
      "\n",
      "\n",
      "start FGSM\n"
     ]
    },
    {
     "name": "stderr",
     "output_type": "stream",
     "text": [
      "/home/jovyan/.local/lib/python3.11/site-packages/sklearn/metrics/_classification.py:1334: UndefinedMetricWarning: Precision is ill-defined and being set to 0.0 in labels with no predicted samples. Use `zero_division` parameter to control this behavior.\n",
      "  _warn_prf(average, modifier, msg_start, len(result))\n",
      "/home/jovyan/.local/lib/python3.11/site-packages/sklearn/metrics/_classification.py:1334: UndefinedMetricWarning: Precision is ill-defined and being set to 0.0 in labels with no predicted samples. Use `zero_division` parameter to control this behavior.\n",
      "  _warn_prf(average, modifier, msg_start, len(result))\n"
     ]
    },
    {
     "name": "stdout",
     "output_type": "stream",
     "text": [
      "epsilon = 0.01\n",
      "Accuracy: 0.9972984632653831\n",
      "Precision(macro,weighted): 0.788010696663386,0.9971683125757658\n",
      "F1(macro,weighted: 0.709745981346638,0.9969658941806532\n",
      "Recall(macro,weighted: 0.6597740851381628,0.9972984632653831\n",
      "Time: 3.29 second\n",
      "\n",
      "\n"
     ]
    },
    {
     "name": "stderr",
     "output_type": "stream",
     "text": [
      "/home/jovyan/.local/lib/python3.11/site-packages/sklearn/metrics/_classification.py:1334: UndefinedMetricWarning: Precision is ill-defined and being set to 0.0 in labels with no predicted samples. Use `zero_division` parameter to control this behavior.\n",
      "  _warn_prf(average, modifier, msg_start, len(result))\n",
      "/home/jovyan/.local/lib/python3.11/site-packages/sklearn/metrics/_classification.py:1334: UndefinedMetricWarning: Precision is ill-defined and being set to 0.0 in labels with no predicted samples. Use `zero_division` parameter to control this behavior.\n",
      "  _warn_prf(average, modifier, msg_start, len(result))\n"
     ]
    },
    {
     "name": "stdout",
     "output_type": "stream",
     "text": [
      "epsilon = 0.1\n",
      "Accuracy: 0.024200743027312746\n",
      "Precision(macro,weighted): 0.049839797236534436,0.14939010484623716\n",
      "F1(macro,weighted: 0.030565647632726865,0.025667006583045042\n",
      "Recall(macro,weighted: 0.04845228212900887,0.024200743027312746\n",
      "Time: 3.31 second\n",
      "\n",
      "\n"
     ]
    },
    {
     "name": "stderr",
     "output_type": "stream",
     "text": [
      "/home/jovyan/.local/lib/python3.11/site-packages/sklearn/metrics/_classification.py:1334: UndefinedMetricWarning: Precision is ill-defined and being set to 0.0 in labels with no predicted samples. Use `zero_division` parameter to control this behavior.\n",
      "  _warn_prf(average, modifier, msg_start, len(result))\n",
      "/home/jovyan/.local/lib/python3.11/site-packages/sklearn/metrics/_classification.py:1334: UndefinedMetricWarning: Precision is ill-defined and being set to 0.0 in labels with no predicted samples. Use `zero_division` parameter to control this behavior.\n",
      "  _warn_prf(average, modifier, msg_start, len(result))\n"
     ]
    },
    {
     "name": "stdout",
     "output_type": "stream",
     "text": [
      "epsilon = 0.2\n",
      "Accuracy: 0.0027099135927087827\n",
      "Precision(macro,weighted): 0.010693103172235121,0.0408094754358638\n",
      "F1(macro,weighted: 0.0018332932970572043,0.005051726090124084\n",
      "Recall(macro,weighted: 0.001047408710245757,0.0027099135927087827\n",
      "Time: 3.28 second\n",
      "\n",
      "\n"
     ]
    },
    {
     "name": "stderr",
     "output_type": "stream",
     "text": [
      "/home/jovyan/.local/lib/python3.11/site-packages/sklearn/metrics/_classification.py:1334: UndefinedMetricWarning: Precision is ill-defined and being set to 0.0 in labels with no predicted samples. Use `zero_division` parameter to control this behavior.\n",
      "  _warn_prf(average, modifier, msg_start, len(result))\n",
      "/home/jovyan/.local/lib/python3.11/site-packages/sklearn/metrics/_classification.py:1334: UndefinedMetricWarning: Precision is ill-defined and being set to 0.0 in labels with no predicted samples. Use `zero_division` parameter to control this behavior.\n",
      "  _warn_prf(average, modifier, msg_start, len(result))\n"
     ]
    },
    {
     "name": "stdout",
     "output_type": "stream",
     "text": [
      "epsilon = 0.3\n",
      "Accuracy: 0.002701536734616947\n",
      "Precision(macro,weighted): 0.010319985474012913,0.039801052129325415\n",
      "F1(macro,weighted: 0.0018003235832809018,0.005027598730245451\n",
      "Recall(macro,weighted: 0.0010337345872345263,0.002701536734616947\n",
      "Time: 3.28 second\n",
      "\n",
      "\n",
      "start PGD\n"
     ]
    },
    {
     "name": "stderr",
     "output_type": "stream",
     "text": [
      "/home/jovyan/.local/lib/python3.11/site-packages/sklearn/metrics/_classification.py:1334: UndefinedMetricWarning: Precision is ill-defined and being set to 0.0 in labels with no predicted samples. Use `zero_division` parameter to control this behavior.\n",
      "  _warn_prf(average, modifier, msg_start, len(result))\n",
      "/home/jovyan/.local/lib/python3.11/site-packages/sklearn/metrics/_classification.py:1334: UndefinedMetricWarning: Precision is ill-defined and being set to 0.0 in labels with no predicted samples. Use `zero_division` parameter to control this behavior.\n",
      "  _warn_prf(average, modifier, msg_start, len(result))\n"
     ]
    },
    {
     "name": "stdout",
     "output_type": "stream",
     "text": [
      "epsilon = 0.01\n",
      "Accuracy: 0.9974157392786688\n",
      "Precision(macro,weighted): 0.7886169876868939,0.9972830664448457\n",
      "F1(macro,weighted: 0.7124472072373625,0.9971078227269026\n",
      "Recall(macro,weighted: 0.6631721433905899,0.9974157392786688\n",
      "Time: 3.29 second\n",
      "\n",
      "\n"
     ]
    },
    {
     "name": "stderr",
     "output_type": "stream",
     "text": [
      "/home/jovyan/.local/lib/python3.11/site-packages/sklearn/metrics/_classification.py:1334: UndefinedMetricWarning: Precision is ill-defined and being set to 0.0 in labels with no predicted samples. Use `zero_division` parameter to control this behavior.\n",
      "  _warn_prf(average, modifier, msg_start, len(result))\n",
      "/home/jovyan/.local/lib/python3.11/site-packages/sklearn/metrics/_classification.py:1334: UndefinedMetricWarning: Precision is ill-defined and being set to 0.0 in labels with no predicted samples. Use `zero_division` parameter to control this behavior.\n",
      "  _warn_prf(average, modifier, msg_start, len(result))\n"
     ]
    },
    {
     "name": "stdout",
     "output_type": "stream",
     "text": [
      "epsilon = 0.1\n",
      "Accuracy: 0.021821715329231463\n",
      "Precision(macro,weighted): 0.05410321311403238,0.12985893465324475\n",
      "F1(macro,weighted: 0.04112946998941637,0.019371363449888268\n",
      "Recall(macro,weighted: 0.0883634537625925,0.021821715329231463\n",
      "Time: 3.28 second\n",
      "\n",
      "\n"
     ]
    },
    {
     "name": "stderr",
     "output_type": "stream",
     "text": [
      "/home/jovyan/.local/lib/python3.11/site-packages/sklearn/metrics/_classification.py:1334: UndefinedMetricWarning: Precision is ill-defined and being set to 0.0 in labels with no predicted samples. Use `zero_division` parameter to control this behavior.\n",
      "  _warn_prf(average, modifier, msg_start, len(result))\n",
      "/home/jovyan/.local/lib/python3.11/site-packages/sklearn/metrics/_classification.py:1334: UndefinedMetricWarning: Precision is ill-defined and being set to 0.0 in labels with no predicted samples. Use `zero_division` parameter to control this behavior.\n",
      "  _warn_prf(average, modifier, msg_start, len(result))\n"
     ]
    },
    {
     "name": "stdout",
     "output_type": "stream",
     "text": [
      "epsilon = 0.2\n",
      "Accuracy: 0.0027769284574434665\n",
      "Precision(macro,weighted): 0.008633443674393773,0.03663022555067613\n",
      "F1(macro,weighted: 0.0012340475075046317,0.004794375404457839\n",
      "Recall(macro,weighted: 0.0068016259480634484,0.0027769284574434665\n",
      "Time: 3.28 second\n",
      "\n",
      "\n"
     ]
    },
    {
     "name": "stderr",
     "output_type": "stream",
     "text": [
      "/home/jovyan/.local/lib/python3.11/site-packages/sklearn/metrics/_classification.py:1334: UndefinedMetricWarning: Precision is ill-defined and being set to 0.0 in labels with no predicted samples. Use `zero_division` parameter to control this behavior.\n",
      "  _warn_prf(average, modifier, msg_start, len(result))\n",
      "/home/jovyan/.local/lib/python3.11/site-packages/sklearn/metrics/_classification.py:1334: UndefinedMetricWarning: Precision is ill-defined and being set to 0.0 in labels with no predicted samples. Use `zero_division` parameter to control this behavior.\n",
      "  _warn_prf(average, modifier, msg_start, len(result))\n"
     ]
    },
    {
     "name": "stdout",
     "output_type": "stream",
     "text": [
      "epsilon = 0.3\n",
      "Accuracy: 0.0025633185761016614\n",
      "Precision(macro,weighted): 0.008739430712934596,0.03655648725731792\n",
      "F1(macro,weighted: 0.0011444291595486046,0.004790714962096154\n",
      "Recall(macro,weighted: 0.0006123055597139339,0.0025633185761016614\n",
      "Time: 3.28 second\n",
      "\n",
      "\n",
      "start DF\n"
     ]
    },
    {
     "name": "stderr",
     "output_type": "stream",
     "text": [
      "/home/jovyan/.local/lib/python3.11/site-packages/sklearn/metrics/_classification.py:1334: UndefinedMetricWarning: Precision is ill-defined and being set to 0.0 in labels with no predicted samples. Use `zero_division` parameter to control this behavior.\n",
      "  _warn_prf(average, modifier, msg_start, len(result))\n",
      "/home/jovyan/.local/lib/python3.11/site-packages/sklearn/metrics/_classification.py:1334: UndefinedMetricWarning: Precision is ill-defined and being set to 0.0 in labels with no predicted samples. Use `zero_division` parameter to control this behavior.\n",
      "  _warn_prf(average, modifier, msg_start, len(result))\n"
     ]
    },
    {
     "name": "stdout",
     "output_type": "stream",
     "text": [
      "epsilon = 0.01\n",
      "Accuracy: 2.9319003321424233e-05\n",
      "Precision(macro,weighted): 2.3952817589663638e-05,8.761833305029776e-05\n",
      "F1(macro,weighted: 1.1874828371885955e-05,1.1316658322766387e-05\n",
      "Recall(macro,weighted: 7.752700596889596e-05,2.9319003321424233e-05\n",
      "Time: 3.28 second\n",
      "\n",
      "\n"
     ]
    },
    {
     "name": "stderr",
     "output_type": "stream",
     "text": [
      "/home/jovyan/.local/lib/python3.11/site-packages/sklearn/metrics/_classification.py:1334: UndefinedMetricWarning: Precision is ill-defined and being set to 0.0 in labels with no predicted samples. Use `zero_division` parameter to control this behavior.\n",
      "  _warn_prf(average, modifier, msg_start, len(result))\n",
      "/home/jovyan/.local/lib/python3.11/site-packages/sklearn/metrics/_classification.py:1334: UndefinedMetricWarning: Precision is ill-defined and being set to 0.0 in labels with no predicted samples. Use `zero_division` parameter to control this behavior.\n",
      "  _warn_prf(average, modifier, msg_start, len(result))\n"
     ]
    },
    {
     "name": "stdout",
     "output_type": "stream",
     "text": [
      "epsilon = 0.1\n",
      "Accuracy: 1.2565287137753244e-05\n",
      "Precision(macro,weighted): 2.031857733130746e-05,8.638210958541353e-05\n",
      "F1(macro,weighted: 5.1069951348828005e-06,9.0967868282357e-06\n",
      "Recall(macro,weighted: 2.644469960276353e-05,1.2565287137753244e-05\n",
      "Time: 3.28 second\n",
      "\n",
      "\n"
     ]
    },
    {
     "name": "stderr",
     "output_type": "stream",
     "text": [
      "/home/jovyan/.local/lib/python3.11/site-packages/sklearn/metrics/_classification.py:1334: UndefinedMetricWarning: Precision is ill-defined and being set to 0.0 in labels with no predicted samples. Use `zero_division` parameter to control this behavior.\n",
      "  _warn_prf(average, modifier, msg_start, len(result))\n",
      "/home/jovyan/.local/lib/python3.11/site-packages/sklearn/metrics/_classification.py:1334: UndefinedMetricWarning: Precision is ill-defined and being set to 0.0 in labels with no predicted samples. Use `zero_division` parameter to control this behavior.\n",
      "  _warn_prf(average, modifier, msg_start, len(result))\n"
     ]
    },
    {
     "name": "stdout",
     "output_type": "stream",
     "text": [
      "epsilon = 0.2\n",
      "Accuracy: 1.2565287137753244e-05\n",
      "Precision(macro,weighted): 2.0301608152929018e-05,8.630284704572267e-05\n",
      "F1(macro,weighted: 5.107164286544857e-06,9.096522629800135e-06\n",
      "Recall(macro,weighted: 2.644469960276353e-05,1.2565287137753244e-05\n",
      "Time: 3.27 second\n",
      "\n",
      "\n"
     ]
    },
    {
     "name": "stderr",
     "output_type": "stream",
     "text": [
      "/home/jovyan/.local/lib/python3.11/site-packages/sklearn/metrics/_classification.py:1334: UndefinedMetricWarning: Precision is ill-defined and being set to 0.0 in labels with no predicted samples. Use `zero_division` parameter to control this behavior.\n",
      "  _warn_prf(average, modifier, msg_start, len(result))\n",
      "/home/jovyan/.local/lib/python3.11/site-packages/sklearn/metrics/_classification.py:1334: UndefinedMetricWarning: Precision is ill-defined and being set to 0.0 in labels with no predicted samples. Use `zero_division` parameter to control this behavior.\n",
      "  _warn_prf(average, modifier, msg_start, len(result))\n"
     ]
    },
    {
     "name": "stdout",
     "output_type": "stream",
     "text": [
      "epsilon = 0.3\n",
      "Accuracy: 1.2565287137753244e-05\n",
      "Precision(macro,weighted): 2.0294855615936784e-05,8.627119169217399e-05\n",
      "F1(macro,weighted: 5.10727777509721e-06,9.096431988535046e-06\n",
      "Recall(macro,weighted: 2.644469960276353e-05,1.2565287137753244e-05\n",
      "Time: 3.28 second\n",
      "\n",
      "\n",
      "start AutoPGD\n"
     ]
    },
    {
     "name": "stderr",
     "output_type": "stream",
     "text": [
      "/home/jovyan/.local/lib/python3.11/site-packages/sklearn/metrics/_classification.py:1334: UndefinedMetricWarning: Precision is ill-defined and being set to 0.0 in labels with no predicted samples. Use `zero_division` parameter to control this behavior.\n",
      "  _warn_prf(average, modifier, msg_start, len(result))\n",
      "/home/jovyan/.local/lib/python3.11/site-packages/sklearn/metrics/_classification.py:1334: UndefinedMetricWarning: Precision is ill-defined and being set to 0.0 in labels with no predicted samples. Use `zero_division` parameter to control this behavior.\n",
      "  _warn_prf(average, modifier, msg_start, len(result))\n"
     ]
    },
    {
     "name": "stdout",
     "output_type": "stream",
     "text": [
      "epsilon = 0.01\n",
      "Accuracy: 0.9979937424870055\n",
      "Precision(macro,weighted): 0.7895619353737748,0.9978291150734674\n",
      "F1(macro,weighted: 0.7243931802253,0.9977851528762104\n",
      "Recall(macro,weighted: 0.6799197162061239,0.9979937424870055\n",
      "Time: 3.29 second\n",
      "\n",
      "\n"
     ]
    },
    {
     "name": "stderr",
     "output_type": "stream",
     "text": [
      "/home/jovyan/.local/lib/python3.11/site-packages/sklearn/metrics/_classification.py:1334: UndefinedMetricWarning: Precision is ill-defined and being set to 0.0 in labels with no predicted samples. Use `zero_division` parameter to control this behavior.\n",
      "  _warn_prf(average, modifier, msg_start, len(result))\n",
      "/home/jovyan/.local/lib/python3.11/site-packages/sklearn/metrics/_classification.py:1334: UndefinedMetricWarning: Precision is ill-defined and being set to 0.0 in labels with no predicted samples. Use `zero_division` parameter to control this behavior.\n",
      "  _warn_prf(average, modifier, msg_start, len(result))\n"
     ]
    },
    {
     "name": "stdout",
     "output_type": "stream",
     "text": [
      "epsilon = 0.1\n",
      "Accuracy: 0.006098352690856241\n",
      "Precision(macro,weighted): 0.018019235653506185,0.08264280823715571\n",
      "F1(macro,weighted: 0.002539795883555363,0.011353535071368378\n",
      "Recall(macro,weighted: 0.0013748987379384652,0.006098352690856241\n",
      "Time: 3.28 second\n",
      "\n",
      "\n"
     ]
    },
    {
     "name": "stderr",
     "output_type": "stream",
     "text": [
      "/home/jovyan/.local/lib/python3.11/site-packages/sklearn/metrics/_classification.py:1334: UndefinedMetricWarning: Precision is ill-defined and being set to 0.0 in labels with no predicted samples. Use `zero_division` parameter to control this behavior.\n",
      "  _warn_prf(average, modifier, msg_start, len(result))\n",
      "/home/jovyan/.local/lib/python3.11/site-packages/sklearn/metrics/_classification.py:1334: UndefinedMetricWarning: Precision is ill-defined and being set to 0.0 in labels with no predicted samples. Use `zero_division` parameter to control this behavior.\n",
      "  _warn_prf(average, modifier, msg_start, len(result))\n"
     ]
    },
    {
     "name": "stdout",
     "output_type": "stream",
     "text": [
      "epsilon = 0.2\n",
      "Accuracy: 0.0024544194209078\n",
      "Precision(macro,weighted): 0.00686423802272461,0.03181947632762923\n",
      "F1(macro,weighted: 0.0009831225044458613,0.004557307475907976\n",
      "Recall(macro,weighted: 0.0005294782019426248,0.0024544194209078\n",
      "Time: 3.32 second\n",
      "\n",
      "\n"
     ]
    },
    {
     "name": "stderr",
     "output_type": "stream",
     "text": [
      "/home/jovyan/.local/lib/python3.11/site-packages/sklearn/metrics/_classification.py:1334: UndefinedMetricWarning: Precision is ill-defined and being set to 0.0 in labels with no predicted samples. Use `zero_division` parameter to control this behavior.\n",
      "  _warn_prf(average, modifier, msg_start, len(result))\n",
      "/home/jovyan/.local/lib/python3.11/site-packages/sklearn/metrics/_classification.py:1334: UndefinedMetricWarning: Precision is ill-defined and being set to 0.0 in labels with no predicted samples. Use `zero_division` parameter to control this behavior.\n",
      "  _warn_prf(average, modifier, msg_start, len(result))\n"
     ]
    },
    {
     "name": "stdout",
     "output_type": "stream",
     "text": [
      "epsilon = 0.3\n",
      "Accuracy: 0.0002973784622601601\n",
      "Precision(macro,weighted): 0.000881057268722467,0.004084179600501734\n",
      "F1(macro,weighted: 0.00011959556485743282,0.0005543904847518723\n",
      "Recall(macro,weighted: 6.415179579850915e-05,0.0002973784622601601\n",
      "Time: 3.31 second\n",
      "\n",
      "\n",
      "start BA\n"
     ]
    },
    {
     "name": "stderr",
     "output_type": "stream",
     "text": [
      "/home/jovyan/.local/lib/python3.11/site-packages/sklearn/metrics/_classification.py:1334: UndefinedMetricWarning: Precision is ill-defined and being set to 0.0 in labels with no predicted samples. Use `zero_division` parameter to control this behavior.\n",
      "  _warn_prf(average, modifier, msg_start, len(result))\n",
      "/home/jovyan/.local/lib/python3.11/site-packages/sklearn/metrics/_classification.py:1334: UndefinedMetricWarning: Precision is ill-defined and being set to 0.0 in labels with no predicted samples. Use `zero_division` parameter to control this behavior.\n",
      "  _warn_prf(average, modifier, msg_start, len(result))\n"
     ]
    },
    {
     "name": "stdout",
     "output_type": "stream",
     "text": [
      "epsilon = 0.01\n",
      "Accuracy: 0.9979769887708217\n",
      "Precision(macro,weighted): 0.7903507269750408,0.9978215392902711\n",
      "F1(macro,weighted: 0.7243565987227868,0.9977659358010255\n",
      "Recall(macro,weighted: 0.6794342793129201,0.9979769887708217\n",
      "Time: 3.28 second\n",
      "\n",
      "\n"
     ]
    },
    {
     "name": "stderr",
     "output_type": "stream",
     "text": [
      "/home/jovyan/.local/lib/python3.11/site-packages/sklearn/metrics/_classification.py:1334: UndefinedMetricWarning: Precision is ill-defined and being set to 0.0 in labels with no predicted samples. Use `zero_division` parameter to control this behavior.\n",
      "  _warn_prf(average, modifier, msg_start, len(result))\n",
      "/home/jovyan/.local/lib/python3.11/site-packages/sklearn/metrics/_classification.py:1334: UndefinedMetricWarning: Precision is ill-defined and being set to 0.0 in labels with no predicted samples. Use `zero_division` parameter to control this behavior.\n",
      "  _warn_prf(average, modifier, msg_start, len(result))\n"
     ]
    },
    {
     "name": "stdout",
     "output_type": "stream",
     "text": [
      "epsilon = 0.1\n",
      "Accuracy: 0.9979769887708217\n",
      "Precision(macro,weighted): 0.7903507269750408,0.9978215392902711\n",
      "F1(macro,weighted: 0.7243565987227868,0.9977659358010255\n",
      "Recall(macro,weighted: 0.6794342793129201,0.9979769887708217\n",
      "Time: 3.28 second\n",
      "\n",
      "\n"
     ]
    },
    {
     "name": "stderr",
     "output_type": "stream",
     "text": [
      "/home/jovyan/.local/lib/python3.11/site-packages/sklearn/metrics/_classification.py:1334: UndefinedMetricWarning: Precision is ill-defined and being set to 0.0 in labels with no predicted samples. Use `zero_division` parameter to control this behavior.\n",
      "  _warn_prf(average, modifier, msg_start, len(result))\n",
      "/home/jovyan/.local/lib/python3.11/site-packages/sklearn/metrics/_classification.py:1334: UndefinedMetricWarning: Precision is ill-defined and being set to 0.0 in labels with no predicted samples. Use `zero_division` parameter to control this behavior.\n",
      "  _warn_prf(average, modifier, msg_start, len(result))\n"
     ]
    },
    {
     "name": "stdout",
     "output_type": "stream",
     "text": [
      "epsilon = 0.2\n",
      "Accuracy: 0.9979769887708217\n",
      "Precision(macro,weighted): 0.7903507269750408,0.9978215392902711\n",
      "F1(macro,weighted: 0.7243565987227868,0.9977659358010255\n",
      "Recall(macro,weighted: 0.6794342793129201,0.9979769887708217\n",
      "Time: 3.29 second\n",
      "\n",
      "\n"
     ]
    },
    {
     "name": "stderr",
     "output_type": "stream",
     "text": [
      "/home/jovyan/.local/lib/python3.11/site-packages/sklearn/metrics/_classification.py:1334: UndefinedMetricWarning: Precision is ill-defined and being set to 0.0 in labels with no predicted samples. Use `zero_division` parameter to control this behavior.\n",
      "  _warn_prf(average, modifier, msg_start, len(result))\n",
      "/home/jovyan/.local/lib/python3.11/site-packages/sklearn/metrics/_classification.py:1334: UndefinedMetricWarning: Precision is ill-defined and being set to 0.0 in labels with no predicted samples. Use `zero_division` parameter to control this behavior.\n",
      "  _warn_prf(average, modifier, msg_start, len(result))\n"
     ]
    },
    {
     "name": "stdout",
     "output_type": "stream",
     "text": [
      "epsilon = 0.3\n",
      "Accuracy: 0.9979769887708217\n",
      "Precision(macro,weighted): 0.7903507269750408,0.9978215392902711\n",
      "F1(macro,weighted: 0.7243565987227868,0.9977659358010255\n",
      "Recall(macro,weighted: 0.6794342793129201,0.9979769887708217\n",
      "Time: 3.29 second\n",
      "\n",
      "\n",
      "start HopSkipJump\n",
      "epsilon = 0\n",
      "Accuracy: 0.5428916076447207\n",
      "Precision(macro,weighted): 0.21961316883189658,0.8917402047978596\n",
      "F1(macro,weighted: 0.18569366520846195,0.6602816135762086\n",
      "Recall(macro,weighted: 0.29040199302814806,0.5428916076447208\n",
      "Time: 3.35 second\n",
      "\n",
      "\n",
      "start ZOO\n"
     ]
    },
    {
     "name": "stderr",
     "output_type": "stream",
     "text": [
      "/home/jovyan/.local/lib/python3.11/site-packages/sklearn/metrics/_classification.py:1334: UndefinedMetricWarning: Precision is ill-defined and being set to 0.0 in labels with no predicted samples. Use `zero_division` parameter to control this behavior.\n",
      "  _warn_prf(average, modifier, msg_start, len(result))\n",
      "/home/jovyan/.local/lib/python3.11/site-packages/sklearn/metrics/_classification.py:1334: UndefinedMetricWarning: Precision is ill-defined and being set to 0.0 in labels with no predicted samples. Use `zero_division` parameter to control this behavior.\n",
      "  _warn_prf(average, modifier, msg_start, len(result))\n"
     ]
    },
    {
     "name": "stdout",
     "output_type": "stream",
     "text": [
      "epsilon = 0\n",
      "Accuracy: 0.9979769887708217\n",
      "Precision(macro,weighted): 0.790072910123644,0.9978184131196459\n",
      "F1(macro,weighted: 0.7242581515759381,0.9977659217468832\n",
      "Recall(macro,weighted: 0.6794342793129201,0.9979769887708217\n",
      "Time: 3.29 second\n",
      "\n",
      "\n"
     ]
    },
    {
     "name": "stderr",
     "output_type": "stream",
     "text": [
      "/home/jovyan/.local/lib/python3.11/site-packages/sklearn/metrics/_classification.py:1334: UndefinedMetricWarning: Precision is ill-defined and being set to 0.0 in labels with no predicted samples. Use `zero_division` parameter to control this behavior.\n",
      "  _warn_prf(average, modifier, msg_start, len(result))\n",
      "/home/jovyan/.local/lib/python3.11/site-packages/sklearn/metrics/_classification.py:1334: UndefinedMetricWarning: Precision is ill-defined and being set to 0.0 in labels with no predicted samples. Use `zero_division` parameter to control this behavior.\n",
      "  _warn_prf(average, modifier, msg_start, len(result))\n"
     ]
    },
    {
     "name": "stdout",
     "output_type": "stream",
     "text": [
      "epsilon = 0.01\n",
      "Accuracy: 0.9979769887708217\n",
      "Precision(macro,weighted): 0.790072910123644,0.9978184131196459\n",
      "F1(macro,weighted: 0.7242581515759381,0.9977659217468832\n",
      "Recall(macro,weighted: 0.6794342793129201,0.9979769887708217\n",
      "Time: 3.29 second\n",
      "\n",
      "\n"
     ]
    },
    {
     "name": "stderr",
     "output_type": "stream",
     "text": [
      "/home/jovyan/.local/lib/python3.11/site-packages/sklearn/metrics/_classification.py:1334: UndefinedMetricWarning: Precision is ill-defined and being set to 0.0 in labels with no predicted samples. Use `zero_division` parameter to control this behavior.\n",
      "  _warn_prf(average, modifier, msg_start, len(result))\n",
      "/home/jovyan/.local/lib/python3.11/site-packages/sklearn/metrics/_classification.py:1334: UndefinedMetricWarning: Precision is ill-defined and being set to 0.0 in labels with no predicted samples. Use `zero_division` parameter to control this behavior.\n",
      "  _warn_prf(average, modifier, msg_start, len(result))\n"
     ]
    },
    {
     "name": "stdout",
     "output_type": "stream",
     "text": [
      "epsilon = 0.1\n",
      "Accuracy: 0.9979769887708217\n",
      "Precision(macro,weighted): 0.790072910123644,0.9978184131196459\n",
      "F1(macro,weighted: 0.7242581515759381,0.9977659217468832\n",
      "Recall(macro,weighted: 0.6794342793129201,0.9979769887708217\n",
      "Time: 3.29 second\n",
      "\n",
      "\n"
     ]
    },
    {
     "name": "stderr",
     "output_type": "stream",
     "text": [
      "/home/jovyan/.local/lib/python3.11/site-packages/sklearn/metrics/_classification.py:1334: UndefinedMetricWarning: Precision is ill-defined and being set to 0.0 in labels with no predicted samples. Use `zero_division` parameter to control this behavior.\n",
      "  _warn_prf(average, modifier, msg_start, len(result))\n",
      "/home/jovyan/.local/lib/python3.11/site-packages/sklearn/metrics/_classification.py:1334: UndefinedMetricWarning: Precision is ill-defined and being set to 0.0 in labels with no predicted samples. Use `zero_division` parameter to control this behavior.\n",
      "  _warn_prf(average, modifier, msg_start, len(result))\n"
     ]
    },
    {
     "name": "stdout",
     "output_type": "stream",
     "text": [
      "epsilon = 0.2\n",
      "Accuracy: 0.9979769887708217\n",
      "Precision(macro,weighted): 0.790072910123644,0.9978184131196459\n",
      "F1(macro,weighted: 0.7242581515759381,0.9977659217468832\n",
      "Recall(macro,weighted: 0.6794342793129201,0.9979769887708217\n",
      "Time: 3.29 second\n",
      "\n",
      "\n",
      "epsilon = 0.3\n",
      "Accuracy: 0.9979769887708217\n",
      "Precision(macro,weighted): 0.790072910123644,0.9978184131196459\n",
      "F1(macro,weighted: 0.7242581515759381,0.9977659217468832\n",
      "Recall(macro,weighted: 0.6794342793129201,0.9979769887708217\n",
      "Time: 3.29 second\n",
      "\n",
      "\n"
     ]
    },
    {
     "name": "stderr",
     "output_type": "stream",
     "text": [
      "/home/jovyan/.local/lib/python3.11/site-packages/sklearn/metrics/_classification.py:1334: UndefinedMetricWarning: Precision is ill-defined and being set to 0.0 in labels with no predicted samples. Use `zero_division` parameter to control this behavior.\n",
      "  _warn_prf(average, modifier, msg_start, len(result))\n",
      "/home/jovyan/.local/lib/python3.11/site-packages/sklearn/metrics/_classification.py:1334: UndefinedMetricWarning: Precision is ill-defined and being set to 0.0 in labels with no predicted samples. Use `zero_division` parameter to control this behavior.\n",
      "  _warn_prf(average, modifier, msg_start, len(result))\n"
     ]
    }
   ],
   "source": [
    "calculate_performance_metrics(x_test, y_test, BIM_Trainer, 'BIM_Trainer', 'baseline', '0')\n",
    "\n",
    "epsilon_values = [0.01, 0.1, 0.2, 0.3]\n",
    "\n",
    "# Iterate over epsilon values\n",
    "print(\"start BIM\")\n",
    "for epsilon in epsilon_values:\n",
    "    filename = f'/home/jovyan/Wustl_iiot/transfer_attack/x_test_adv_BIM_eps_{epsilon}.npy'\n",
    "    x_test_adv = np.load(filename)\n",
    "\n",
    "    calculate_performance_metrics(x_test_adv, y_test, BIM_Trainer, 'BIM_Trainer', 'BIM', epsilon)\n",
    "\n",
    "print(\"start FGSM\")\n",
    "for epsilon in epsilon_values:\n",
    "    filename = f'/home/jovyan/Wustl_iiot/transfer_attack/x_test_adv_FGSM_eps_{epsilon}.npy'\n",
    "    x_test_adv = np.load(filename)\n",
    "\n",
    "    calculate_performance_metrics(x_test_adv, y_test, BIM_Trainer, 'BIM_Trainer', 'FGSM', epsilon)\n",
    "\n",
    "print(\"start PGD\")\n",
    "for epsilon in epsilon_values:\n",
    "    filename = f'/home/jovyan/Wustl_iiot/transfer_attack/x_test_adv_PGD_eps_{epsilon}.npy'\n",
    "    x_test_adv = np.load(filename)\n",
    "\n",
    "    calculate_performance_metrics(x_test_adv, y_test, BIM_Trainer, 'BIM_Trainer', 'PGD', epsilon)\n",
    "\n",
    "epsilon_values = [0.01, 0.1, 0.2, 0.3]\n",
    "\n",
    "print(\"start DF\")\n",
    "for epsilon in epsilon_values:\n",
    "    filename = f'/home/jovyan/Wustl_iiot/transfer_attack/x_test_adv_DF_eps_{epsilon}.npy'\n",
    "    x_test_adv = np.load(filename)\n",
    "\n",
    "    calculate_performance_metrics(x_test_adv, y_test, BIM_Trainer, 'BIM_Trainer', 'DF', epsilon)\n",
    "    \n",
    "# Iterate over epsilon values\n",
    "print(\"start AutoPGD\")\n",
    "for epsilon in epsilon_values:\n",
    "    filename = f'/home/jovyan/Wustl_iiot/transfer_attack/x_test_adv_AutoPGD_eps_{epsilon}.npy'\n",
    "    x_test_adv = np.load(filename)\n",
    "\n",
    "    calculate_performance_metrics(x_test_adv, y_test, BIM_Trainer, 'BIM_Trainer', 'AutoPGD', epsilon)\n",
    "\n",
    "print(\"start BA\")\n",
    "for epsilon in epsilon_values:\n",
    "    filename = f'/home/jovyan/Wustl_iiot/transfer_attack/x_test_adv_BA_eps_{epsilon}.npy'\n",
    "    x_test_adv = np.load(filename)\n",
    "\n",
    "    calculate_performance_metrics(x_test_adv, y_test, BIM_Trainer, 'BIM_Trainer', 'BA', epsilon)\n",
    "\n",
    "print(\"start HopSkipJump\")\n",
    "filename = f'/home/jovyan/Wustl_iiot/transfer_attack/x_test_adv_HopSkipJump_eps_0.npy'\n",
    "x_test_adv = np.load(filename)\n",
    "\n",
    "calculate_performance_metrics(x_test_adv, y_test, BIM_Trainer, 'BIM_Trainer', 'HopSkipJump', '0')\n",
    "\n",
    "print(\"start ZOO\")\n",
    "ZOO_epsilon_values = [0, 0.01, 0.1, 0.2, 0.3]\n",
    "# Iterate over epsilon values\n",
    "for epsilon in ZOO_epsilon_values:\n",
    "    filename = f'/home/jovyan/Wustl_iiot/transfer_attack/x_test_adv_ZOO_eps_{epsilon}.npy'\n",
    "    x_test_adv = np.load(filename)\n",
    "\n",
    "    calculate_performance_metrics(x_test_adv, y_test, BIM_Trainer, 'BIM_Trainer', 'ZOO', epsilon)"
   ]
  },
  {
   "cell_type": "markdown",
   "id": "934b5428-54b9-4a16-8882-a45f36a983b6",
   "metadata": {},
   "source": []
  }
 ],
 "metadata": {
  "kernelspec": {
   "display_name": "Python 3 (ipykernel)",
   "language": "python",
   "name": "python3"
  },
  "language_info": {
   "codemirror_mode": {
    "name": "ipython",
    "version": 3
   },
   "file_extension": ".py",
   "mimetype": "text/x-python",
   "name": "python",
   "nbconvert_exporter": "python",
   "pygments_lexer": "ipython3",
   "version": "3.11.5"
  }
 },
 "nbformat": 4,
 "nbformat_minor": 5
}
