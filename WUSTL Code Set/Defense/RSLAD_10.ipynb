{
 "cells": [
  {
   "cell_type": "code",
   "execution_count": 1,
   "id": "ddea530e-6be0-41c5-9465-167ce81f9d5a",
   "metadata": {},
   "outputs": [
    {
     "name": "stderr",
     "output_type": "stream",
     "text": [
      "/opt/conda/lib/python3.11/site-packages/tqdm/auto.py:21: TqdmWarning: IProgress not found. Please update jupyter and ipywidgets. See https://ipywidgets.readthedocs.io/en/stable/user_install.html\n",
      "  from .autonotebook import tqdm as notebook_tqdm\n"
     ]
    }
   ],
   "source": [
    "import numpy as np\n",
    "import pandas as pd\n",
    "\n",
    "from sklearn.metrics import accuracy_score, precision_recall_fscore_support, roc_auc_score, confusion_matrix\n",
    "from sklearn.preprocessing import label_binarize\n",
    "\n",
    "import torch\n",
    "import torch.nn as nn\n",
    "import torch.optim as optim\n",
    "import torch.nn.functional as F\n",
    "from torch.utils.data import DataLoader, TensorDataset\n",
    "\n",
    "from art.attacks.evasion import SimBA, SpatialTransformation, DeepFool, BasicIterativeMethod, FastGradientMethod, ProjectedGradientDescent\n",
    "from art.estimators.classification import PyTorchClassifier\n",
    "\n",
    "import time"
   ]
  },
  {
   "cell_type": "code",
   "execution_count": 2,
   "id": "ac054ea5-7fdd-4616-856d-8a5f56d2d74f",
   "metadata": {},
   "outputs": [],
   "source": [
    "head = {\n",
    "            \"model\" : '',\n",
    "            \"attack_model\": '',\n",
    "            'epsilon': '',\n",
    "            'Accuracy': '',\n",
    "            'Macro Precision': '',\n",
    "            'Weighted Precision': '',\n",
    "            'Macro Recall': '',\n",
    "            'Weighted Recall': '',\n",
    "            'Macro F1': '',\n",
    "            'Weighted F1': '',\n",
    "            # 'Macro AUC': '',\n",
    "            # 'Weighted AUC': '',\n",
    "            'TPR': '',\n",
    "            'FNR': '',\n",
    "            'TNR': '',\n",
    "            'FPR': '',\n",
    "        }\n",
    "head = pd.DataFrame([head])\n",
    "head.to_csv(\"/home/jovyan/Defense/RSLAD/RSLAD.csv\", mode='a', index=False)\n"
   ]
  },
  {
   "cell_type": "code",
   "execution_count": 3,
   "id": "15e4b2a1-406e-4f69-9a23-4f1a87c2633a",
   "metadata": {},
   "outputs": [],
   "source": [
    "def calculate_performance_metrics(X_test, y_true, model, model_name, attack_name, eps):\n",
    "    model.eval()\n",
    "    device = torch.device('cuda' if torch.cuda.is_available() else 'cpu')\n",
    "    model.to(device)\n",
    "    \n",
    "    all_preds = []\n",
    "    all_labels = []\n",
    "    probabilities = []\n",
    "\n",
    "    num_classes = len(np.unique(y_true))\n",
    "    \n",
    "    X_test_tensor = torch.tensor(X_test, dtype=torch.float32)\n",
    "    y_test_tensor = torch.tensor(y_test, dtype=torch.long)\n",
    "    test_dataset = TensorDataset(X_test_tensor, y_test_tensor)\n",
    "    test_loader = DataLoader(dataset=test_dataset)\n",
    "\n",
    "    with torch.no_grad():\n",
    "        \n",
    "        for inputs, labels in test_loader:\n",
    "            inputs, labels = inputs.to(device), labels.to(device)\n",
    "            outputs = model(inputs)\n",
    "            preds = torch.argmax(outputs, dim=1)\n",
    "            all_preds.extend(preds.cpu().numpy())\n",
    "            all_labels.extend(labels.cpu().numpy())\n",
    "            probabilities.extend(torch.nn.functional.softmax(outputs, dim=1).cpu().numpy())\n",
    "        \n",
    "        all_preds = np.array(all_preds)\n",
    "        all_labels = np.array(all_labels)\n",
    "        probabilities = np.array(probabilities)\n",
    "        \n",
    "        accuracy = accuracy_score(all_labels, all_preds)\n",
    "\n",
    "        precision_macro, recall_macro, f1_macro, _ = precision_recall_fscore_support(all_labels, all_preds, average='macro')\n",
    "        precision_weighted, recall_weighted, f1_weighted, _ = precision_recall_fscore_support(all_labels, all_preds, average='weighted')\n",
    "    \n",
    "        # macro_auc = roc_auc_score(label_binarize(all_labels, classes=range(num_classes)), probabilities[:,1], average='macro')\n",
    "        # weighted_auc = roc_auc_score(label_binarize(all_labels, classes=range(num_classes)), probabilities[:,1], average='weighted')\n",
    "\n",
    "        cm = confusion_matrix(all_labels, all_preds)\n",
    "\n",
    "        def calculate_class_metrics_macro(cm, class_index):\n",
    "            TP = cm[class_index, class_index]\n",
    "            FP = cm[:, class_index].sum() - TP\n",
    "            FN = cm[class_index, :].sum() - TP\n",
    "            TN = cm.sum() - (TP + FP + FN)\n",
    "            \n",
    "            TPR = TP / (TP + FN) if (TP + FN) != 0 else 0  \n",
    "            TNR = TN / (TN + FP) if (TN + FP) != 0 else 0  \n",
    "            FPR = FP / (FP + TN) if (FP + TN) != 0 else 0  \n",
    "            FNR = FN / (FN + TP) if (FN + TP) != 0 else 0  \n",
    "            \n",
    "            return TPR, TNR, FPR, FNR\n",
    "            \n",
    "        metrics = np.array([calculate_class_metrics_macro(cm, i) for i in range(num_classes)])\n",
    "        TPR_macro, TNR_macro, FPR_macro, FNR_macro = np.mean(metrics, axis=0)\n",
    "\n",
    "        print(f\"Accuracy: {accuracy}\")\n",
    "        \n",
    "        print(\"\\nmacro\")\n",
    "        print(f\"Precision: {precision_macro}\\nRecall: {recall_macro}\\nF1 Score: {f1_macro}\")\n",
    "    \n",
    "        print(\"\\nweighted\")\n",
    "        print(f\"Precision: {precision_weighted}\\nRecall: {recall_weighted}\\nF1 Score: {f1_weighted}\")\n",
    "        print()\n",
    "        \n",
    "        print(f\"Mean FNR: {FNR_macro}\\nMean TNR: {TNR_macro}\\nMean FPR: {FPR_macro}\\nMean TPR: {TPR_macro}\")\n",
    "\n",
    "        new_row = {\n",
    "            \"model\" : model_name,\n",
    "            \"attack_model\" : attack_name,\n",
    "            'epsilon': eps,\n",
    "            'Accuracy': accuracy,\n",
    "            'Macro Precision': precision_macro,\n",
    "            'Weighted Precision': precision_weighted,\n",
    "            'Macro Recall': recall_macro,\n",
    "            'Weighted Recall': recall_weighted,\n",
    "            'Macro F1': f1_macro,\n",
    "            'Weighted F1': f1_weighted,\n",
    "            # 'Macro AUC': macro_auc,\n",
    "            # 'Weighted AUC': weighted_auc,\n",
    "            'TPR': TPR_macro,\n",
    "            'FNR': FNR_macro,\n",
    "            'TNR': TNR_macro,\n",
    "            'FPR': FPR_macro,\n",
    "        }\n",
    "        new_row_df = pd.DataFrame([new_row])\n",
    "        new_row_df.to_csv(\"/home/jovyan/Defense/RSLAD/RSLAD.csv\", mode='a', index=False, header=False)\n",
    "\n"
   ]
  },
  {
   "cell_type": "code",
   "execution_count": 4,
   "id": "3dc5288c-f704-4c1e-8b20-f7df5fcf0220",
   "metadata": {},
   "outputs": [],
   "source": [
    "x_test = np.load('/home/jovyan/Wustl_iiot/x_test.npy')\n",
    "x_train = np.load('/home/jovyan/Wustl_iiot/x_train.npy')\n",
    "x_val = np.load('/home/jovyan/Wustl_iiot/x_val.npy')\n",
    "y_test = np.load('/home/jovyan/Wustl_iiot/y_test.npy')\n",
    "y_train = np.load('/home/jovyan/Wustl_iiot/y_train.npy')\n",
    "y_val = np.load('/home/jovyan/Wustl_iiot/y_val.npy')"
   ]
  },
  {
   "cell_type": "code",
   "execution_count": 5,
   "id": "9b4e66be-bf25-4a39-b3ef-4d0d8b807d52",
   "metadata": {},
   "outputs": [
    {
     "name": "stdout",
     "output_type": "stream",
     "text": [
      "Using cuda device\n"
     ]
    }
   ],
   "source": [
    "device = torch.device(\"cuda\" if torch.cuda.is_available() else \"cpu\")\n",
    "print(f\"Using {device} device\")"
   ]
  },
  {
   "cell_type": "code",
   "execution_count": 6,
   "id": "b03857e0-e780-4fa8-96f3-e1399d7f2f14",
   "metadata": {},
   "outputs": [],
   "source": [
    "input_shape = x_train.shape[1]\n",
    "output_shape = len(np.unique(y_train))"
   ]
  },
  {
   "cell_type": "code",
   "execution_count": 7,
   "id": "3f9ac046-77b7-4630-a4a8-fe44438ac801",
   "metadata": {},
   "outputs": [],
   "source": [
    "x_train_tensor = torch.tensor(x_train, dtype=torch.float32).to(device)\n",
    "y_train_tensor = torch.tensor(y_train, dtype=torch.long).to(device)\n",
    "\n",
    "x_val_tensor = torch.tensor(x_val, dtype=torch.float32).to(device)\n",
    "y_val_tensor = torch.tensor(y_val, dtype=torch.long).to(device)\n",
    "\n",
    "train_dataset = TensorDataset(x_train_tensor, y_train_tensor)\n",
    "train_loader = DataLoader(train_dataset, batch_size=100, shuffle=True)\n",
    "\n",
    "val_dataset = TensorDataset(x_val_tensor, y_val_tensor)\n",
    "val_loader = DataLoader(val_dataset, batch_size=100, shuffle=True)"
   ]
  },
  {
   "cell_type": "code",
   "execution_count": 8,
   "id": "884d3dd2-ab96-48dc-85be-71553ba9454c",
   "metadata": {},
   "outputs": [],
   "source": [
    "import torch\n",
    "import torch.nn as nn\n",
    "import torch.optim as optim\n",
    "import torch.nn.functional as F\n",
    "\n",
    "from torch.autograd import Variable\n",
    "\n",
    "class DNNModel(nn.Module):\n",
    "    def __init__(self, input_size, output_size):\n",
    "        super(DNNModel, self).__init__()\n",
    "        self.fc1 = nn.Linear(input_size, 50)\n",
    "        self.fc2 = nn.Linear(50, 30)\n",
    "        self.fc3 = nn.Linear(30, 20)\n",
    "        self.fc4 = nn.Linear(20, output_size)\n",
    "\n",
    "    def forward(self, x):\n",
    "        x = F.relu(self.fc1(x))\n",
    "        x = F.relu(self.fc2(x))\n",
    "        x = F.relu(self.fc3(x))\n",
    "        x = self.fc4(x)\n",
    "        return x\n"
   ]
  },
  {
   "cell_type": "code",
   "execution_count": 9,
   "id": "8e5f35a4-8402-4f6a-bcec-7288dc61b0c5",
   "metadata": {},
   "outputs": [],
   "source": [
    "# Initialize model, optimizer, and loss function\n",
    "device = torch.device(\"cuda\" if torch.cuda.is_available() else \"cpu\")\n",
    "model = DNNModel(input_size=input_shape, output_size=output_shape).to(device)\n",
    "optimizer = optim.Adam(model.parameters(), lr=0.001)\n",
    "loss_function = nn.CrossEntropyLoss()\n",
    "\n",
    "# Early stopping variables\n",
    "min_delta = 0.001\n",
    "patience = 5\n",
    "patience_counter = 0\n",
    "best_loss = float('inf')\n"
   ]
  },
  {
   "cell_type": "code",
   "execution_count": 10,
   "id": "1ca2345c-93cf-4ba4-8667-fac5279d7772",
   "metadata": {},
   "outputs": [],
   "source": [
    "import torch\n",
    "import torch.nn as nn\n",
    "import torch.nn.functional as F\n",
    "from torch.autograd import Variable\n",
    "import torch.optim as optim\n",
    "import numpy as np\n",
    "\n",
    "def attack_pgd(model,train_batch_data,train_batch_labels,attack_iters=10,step_size=2/255.0,epsilon=8.0/255.0):\n",
    "    ce_loss = torch.nn.CrossEntropyLoss().cuda()\n",
    "    train_ifgsm_data = train_batch_data.detach() + torch.zeros_like(train_batch_data).uniform_(-epsilon,epsilon)\n",
    "    train_ifgsm_data = torch.clamp(train_ifgsm_data,0,1)\n",
    "    for i in range(attack_iters):\n",
    "        train_ifgsm_data.requires_grad_()\n",
    "        logits = model(train_ifgsm_data)\n",
    "        loss = ce_loss(logits,train_batch_labels.cuda())\n",
    "        loss.backward()\n",
    "        train_grad = train_ifgsm_data.grad.detach()\n",
    "        train_ifgsm_data = train_ifgsm_data + step_size*torch.sign(train_grad)\n",
    "        train_ifgsm_data = torch.clamp(train_ifgsm_data.detach(),0,1)\n",
    "        train_ifgsm_pert = train_ifgsm_data - train_batch_data\n",
    "        train_ifgsm_pert = torch.clamp(train_ifgsm_pert,-epsilon,epsilon)\n",
    "        train_ifgsm_data = train_batch_data + train_ifgsm_pert\n",
    "        train_ifgsm_data = train_ifgsm_data.detach()\n",
    "    return train_ifgsm_data\n",
    "\n",
    "def rslad_inner_loss(model,\n",
    "                teacher_logits,\n",
    "                x_natural,\n",
    "                y,\n",
    "                optimizer,\n",
    "                step_size=0.003,\n",
    "                epsilon=0.031,\n",
    "                perturb_steps=10,\n",
    "                beta=6.0):\n",
    "    # define KL-loss\n",
    "    criterion_kl = nn.KLDivLoss(size_average=False,reduce=False)\n",
    "    model.eval()\n",
    "    batch_size = len(x_natural)\n",
    "    # generate adversarial example\n",
    "    x_adv = x_natural.detach() + 0.001 * torch.randn(x_natural.shape).cuda().detach()\n",
    "\n",
    "    for _ in range(perturb_steps):\n",
    "        x_adv.requires_grad_()\n",
    "        with torch.enable_grad():\n",
    "            loss_kl = criterion_kl(F.log_softmax(model(x_adv), dim=1),\n",
    "                                       F.softmax(teacher_logits, dim=1))\n",
    "            loss_kl = torch.sum(loss_kl)\n",
    "        grad = torch.autograd.grad(loss_kl, [x_adv])[0]\n",
    "        x_adv = x_adv.detach() + step_size * torch.sign(grad.detach())\n",
    "        x_adv = torch.min(torch.max(x_adv, x_natural - epsilon), x_natural + epsilon)\n",
    "        x_adv = torch.clamp(x_adv, 0.0, 1.0)\n",
    "\n",
    "    model.train()\n",
    "\n",
    "    x_adv = Variable(torch.clamp(x_adv, 0.0, 1.0), requires_grad=False)\n",
    "    # zero gradient\n",
    "    optimizer.zero_grad()\n",
    "    logits = model(x_adv)\n",
    "    return logits\n",
    "  "
   ]
  },
  {
   "cell_type": "code",
   "execution_count": 11,
   "id": "ffab852c-4d7b-4449-b6cf-d7ad427319df",
   "metadata": {},
   "outputs": [
    {
     "name": "stderr",
     "output_type": "stream",
     "text": [
      "/opt/conda/lib/python3.11/site-packages/torch/nn/_reduction.py:42: UserWarning: size_average and reduce args will be deprecated, please use reduction='none' instead.\n",
      "  warnings.warn(warning.format(ret))\n"
     ]
    },
    {
     "name": "stdout",
     "output_type": "stream",
     "text": [
      "Train Epoch: 0 [0/716256 (0%)]\tLoss: 0.311971\n",
      "Train Epoch: 0 [100000/716256 (14%)]\tLoss: 0.004985\n",
      "Train Epoch: 0 [200000/716256 (28%)]\tLoss: 0.002600\n",
      "Train Epoch: 0 [300000/716256 (42%)]\tLoss: 0.000850\n",
      "Train Epoch: 0 [400000/716256 (56%)]\tLoss: 0.007853\n",
      "Train Epoch: 0 [500000/716256 (70%)]\tLoss: 0.001380\n",
      "Train Epoch: 0 [600000/716256 (84%)]\tLoss: 0.000127\n",
      "Train Epoch: 0 [700000/716256 (98%)]\tLoss: 0.000292\n",
      "Epoch 1, Training Loss: 0.0040, Validation Loss: 0.0001, Validation Accuracy: 0.9995\n",
      "Train Epoch: 1 [0/716256 (0%)]\tLoss: 0.000656\n",
      "Train Epoch: 1 [100000/716256 (14%)]\tLoss: 0.000391\n",
      "Train Epoch: 1 [200000/716256 (28%)]\tLoss: 0.000494\n",
      "Train Epoch: 1 [300000/716256 (42%)]\tLoss: 0.001457\n",
      "Train Epoch: 1 [400000/716256 (56%)]\tLoss: 0.007200\n",
      "Train Epoch: 1 [500000/716256 (70%)]\tLoss: 0.000244\n",
      "Train Epoch: 1 [600000/716256 (84%)]\tLoss: 0.009225\n",
      "Train Epoch: 1 [700000/716256 (98%)]\tLoss: 0.001090\n",
      "Epoch 2, Training Loss: 0.0009, Validation Loss: 0.0003, Validation Accuracy: 0.9996\n",
      "Train Epoch: 2 [0/716256 (0%)]\tLoss: 0.000187\n",
      "Train Epoch: 2 [100000/716256 (14%)]\tLoss: 0.000507\n",
      "Train Epoch: 2 [200000/716256 (28%)]\tLoss: 0.000147\n",
      "Train Epoch: 2 [300000/716256 (42%)]\tLoss: 0.001422\n",
      "Train Epoch: 2 [400000/716256 (56%)]\tLoss: 0.005945\n",
      "Train Epoch: 2 [500000/716256 (70%)]\tLoss: 0.000873\n",
      "Train Epoch: 2 [600000/716256 (84%)]\tLoss: 0.000158\n",
      "Train Epoch: 2 [700000/716256 (98%)]\tLoss: 0.000150\n",
      "Epoch 3, Training Loss: 0.0009, Validation Loss: 0.0004, Validation Accuracy: 0.9996\n",
      "Train Epoch: 3 [0/716256 (0%)]\tLoss: 0.000332\n",
      "Train Epoch: 3 [100000/716256 (14%)]\tLoss: 0.000485\n",
      "Train Epoch: 3 [200000/716256 (28%)]\tLoss: 0.000199\n",
      "Train Epoch: 3 [300000/716256 (42%)]\tLoss: 0.000338\n",
      "Train Epoch: 3 [400000/716256 (56%)]\tLoss: 0.001103\n",
      "Train Epoch: 3 [500000/716256 (70%)]\tLoss: 0.000154\n",
      "Train Epoch: 3 [600000/716256 (84%)]\tLoss: 0.000237\n",
      "Train Epoch: 3 [700000/716256 (98%)]\tLoss: 0.000231\n",
      "Epoch 4, Training Loss: 0.0009, Validation Loss: 0.0001, Validation Accuracy: 0.9996\n",
      "Train Epoch: 4 [0/716256 (0%)]\tLoss: 0.000188\n",
      "Train Epoch: 4 [100000/716256 (14%)]\tLoss: 0.001211\n",
      "Train Epoch: 4 [200000/716256 (28%)]\tLoss: 0.000572\n",
      "Train Epoch: 4 [300000/716256 (42%)]\tLoss: 0.000216\n",
      "Train Epoch: 4 [400000/716256 (56%)]\tLoss: 0.000234\n",
      "Train Epoch: 4 [500000/716256 (70%)]\tLoss: 0.000177\n",
      "Train Epoch: 4 [600000/716256 (84%)]\tLoss: 0.000364\n",
      "Train Epoch: 4 [700000/716256 (98%)]\tLoss: 0.000112\n",
      "Epoch 5, Training Loss: 0.0008, Validation Loss: 0.0003, Validation Accuracy: 0.9996\n",
      "Train Epoch: 5 [0/716256 (0%)]\tLoss: 0.007311\n",
      "Train Epoch: 5 [100000/716256 (14%)]\tLoss: 0.000598\n",
      "Train Epoch: 5 [200000/716256 (28%)]\tLoss: 0.002103\n",
      "Train Epoch: 5 [300000/716256 (42%)]\tLoss: 0.000268\n",
      "Train Epoch: 5 [400000/716256 (56%)]\tLoss: 0.000184\n",
      "Train Epoch: 5 [500000/716256 (70%)]\tLoss: 0.001380\n",
      "Train Epoch: 5 [600000/716256 (84%)]\tLoss: 0.001824\n",
      "Train Epoch: 5 [700000/716256 (98%)]\tLoss: 0.000357\n",
      "Epoch 6, Training Loss: 0.0008, Validation Loss: 0.0003, Validation Accuracy: 0.9995\n",
      "Early stopping triggered\n"
     ]
    }
   ],
   "source": [
    "import os\n",
    "import argparse\n",
    "import torch\n",
    "# from rslad_loss import *\n",
    "# from cifar10_models import *\n",
    "import torchvision\n",
    "from torchvision import datasets, transforms\n",
    "import time\n",
    "# # we fix the random seed to 0, in the same computer, this method can make the results same as before.\n",
    "# torch.manual_seed(0)\n",
    "# torch.cuda.manual_seed_all(0)\n",
    "# torch.backends.cudnn.deterministic = True\n",
    "\n",
    "# prefix = 'mobilenet_v2-CIFAR10_RSLAD'\n",
    "epochs = 10\n",
    "batch_size = 128\n",
    "epsilon = 8/255.0\n",
    "\n",
    "\n",
    "\n",
    "student = DNNModel(input_shape,output_shape )\n",
    "student = torch.nn.DataParallel(student)\n",
    "student = student.cuda()\n",
    "student.train()\n",
    "optimizer = optim.SGD(student.parameters(), lr=0.1, momentum=0.9, weight_decay=2e-4)\n",
    "def kl_loss(a,b):\n",
    "    loss = -a*b + torch.log(b+1e-5)*b\n",
    "    return loss\n",
    "teacher = DNNModel(input_shape,output_shape )\n",
    "teacher.load_state_dict(torch.load('/home/jovyan/Wustl_iiot/transfer_attack/dnn_pytorch.pt'))\n",
    "teacher = torch.nn.DataParallel(teacher)\n",
    "teacher = teacher.cuda()\n",
    "teacher.eval()\n",
    "\n",
    "for epoch in range(0,epochs):\n",
    "    train_loss = 0.0\n",
    "    for step,(train_batch_data,train_batch_labels) in enumerate(train_loader):\n",
    "        student.train()\n",
    "        train_batch_data = train_batch_data.float().cuda()\n",
    "        train_batch_labels = train_batch_labels.cuda()\n",
    "        optimizer.zero_grad()\n",
    "        with torch.no_grad():\n",
    "            teacher_logits = teacher(train_batch_data)\n",
    "\n",
    "        adv_logits = rslad_inner_loss(student,teacher_logits,train_batch_data,train_batch_labels,optimizer,step_size=2/255.0,epsilon=epsilon,perturb_steps=3)\n",
    "        student.train()\n",
    "        nat_logits = student(train_batch_data)\n",
    "        kl_Loss1 = kl_loss(F.log_softmax(adv_logits,dim=1),F.softmax(teacher_logits.detach(),dim=1))\n",
    "        kl_Loss2 = kl_loss(F.log_softmax(nat_logits,dim=1),F.softmax(teacher_logits.detach(),dim=1))\n",
    "        kl_Loss1 = torch.mean(kl_Loss1)\n",
    "        kl_Loss2 = torch.mean(kl_Loss2)\n",
    "        loss = 5/6.0*kl_Loss1 + 1/6.0*kl_Loss2\n",
    "        loss.backward()\n",
    "        optimizer.step()\n",
    "        if step % 1000 == 0:\n",
    "            print('Train Epoch: {} [{}/{} ({:.0f}%)]\\tLoss: {:.6f}'.format(\n",
    "                epoch, step * len(train_batch_data), len(train_loader.dataset),\n",
    "                100. * step / len(train_loader), loss.item()))\n",
    "        train_loss += loss.item()\n",
    "\n",
    "    avg_train_loss = train_loss / len(train_loader)\n",
    "\n",
    "    model.eval()\n",
    "    val_train_loss = 0.0\n",
    "    correct_predictions = 0\n",
    "    with torch.no_grad():\n",
    "        for inputs, labels in val_loader:\n",
    "            inputs, labels = inputs.to(device), labels.to(device)\n",
    "            \n",
    "            outputs = student(inputs)\n",
    "            kl_Loss1 = kl_loss(F.log_softmax(adv_logits,dim=1),F.softmax(teacher_logits.detach(),dim=1))\n",
    "            kl_Loss2 = kl_loss(F.log_softmax(nat_logits,dim=1),F.softmax(teacher_logits.detach(),dim=1))\n",
    "            kl_Loss1 = torch.mean(kl_Loss1)\n",
    "            kl_Loss2 = torch.mean(kl_Loss2)\n",
    "            loss = 5/6.0*kl_Loss1 + 1/6.0*kl_Loss2\n",
    "            \n",
    "            val_train_loss += loss.item()\n",
    "            _, predicted = torch.max(outputs.data, 1)\n",
    "            correct_predictions += (predicted == labels).sum().item()\n",
    "\n",
    "    avg_val_loss = val_train_loss / len(val_loader)\n",
    "    val_accuracy = correct_predictions / len(val_dataset)\n",
    "\n",
    "    print(f\"Epoch {epoch+1}, Training Loss: {avg_train_loss:.4f}, Validation Loss: {avg_val_loss:.4f}, Validation Accuracy: {val_accuracy:.4f}\")\n",
    "    # print(f\"Epoch {epoch+1}, Training Loss: {avg_train_loss:.4f}\")\n",
    "\n",
    "    \n",
    "    # if (epoch%2 == 0):\n",
    "    #     test_accs = []\n",
    "    #     student.eval()\n",
    "    #     for step,(test_batch_data,test_batch_labels) in enumerate(test_loader):\n",
    "    #         test_ifgsm_data = attack_pgd(student,test_batch_data,test_batch_labels,attack_iters=20,step_size=0.003,epsilon=8.0/255.0)\n",
    "    #         logits = student(test_ifgsm_data)\n",
    "    #         predictions = np.argmax(logits.cpu().detach().numpy(),axis=1)\n",
    "    #         predictions = predictions - test_batch_labels.cpu().detach().numpy()\n",
    "    #         test_accs = test_accs + predictions.tolist()\n",
    "    #     test_accs = np.array(test_accs)\n",
    "    #     test_acc = np.sum(test_accs==0)/len(test_accs)\n",
    "    #     print('robust acc',np.sum(test_accs==0)/len(test_accs))\n",
    "    #     # torch.save(student.state_dict(),'./models/'+prefix+str(np.sum(test_accs==0)/len(test_accs))+'.pth')\n",
    "\n",
    "\n",
    "    # Early stopping check using min_delta\n",
    "    if best_loss - avg_val_loss > min_delta:\n",
    "        best_loss = avg_val_loss\n",
    "        patience_counter = 0\n",
    "    else:\n",
    "        patience_counter += 1\n",
    "\n",
    "    if patience_counter >= patience:\n",
    "        print(\"Early stopping triggered\")\n",
    "        break\n",
    "\n",
    "    "
   ]
  },
  {
   "cell_type": "code",
   "execution_count": 12,
   "id": "a8f8ba48-e84d-42c6-b472-b24b2e15feda",
   "metadata": {},
   "outputs": [
    {
     "name": "stdout",
     "output_type": "stream",
     "text": [
      "Accuracy: 0.999539272804949\n",
      "\n",
      "macro\n",
      "Precision: 0.5889412976971776\n",
      "Recall: 0.598709784307441\n",
      "F1 Score: 0.5937057223384301\n",
      "\n",
      "weighted\n",
      "Precision: 0.9991646978316373\n",
      "Recall: 0.999539272804949\n",
      "F1 Score: 0.9993478440835507\n",
      "\n",
      "Mean FNR: 0.40129021569255896\n",
      "Mean TNR: 0.9999063663757234\n",
      "Mean FPR: 9.36336242766083e-05\n",
      "Mean TPR: 0.598709784307441\n"
     ]
    },
    {
     "name": "stderr",
     "output_type": "stream",
     "text": [
      "/home/jovyan/.local/lib/python3.11/site-packages/sklearn/metrics/_classification.py:1334: UndefinedMetricWarning: Precision and F-score are ill-defined and being set to 0.0 in labels with no predicted samples. Use `zero_division` parameter to control this behavior.\n",
      "  _warn_prf(average, modifier, msg_start, len(result))\n",
      "/home/jovyan/.local/lib/python3.11/site-packages/sklearn/metrics/_classification.py:1334: UndefinedMetricWarning: Precision and F-score are ill-defined and being set to 0.0 in labels with no predicted samples. Use `zero_division` parameter to control this behavior.\n",
      "  _warn_prf(average, modifier, msg_start, len(result))\n"
     ]
    }
   ],
   "source": [
    "calculate_performance_metrics(x_test, y_test, student, 'DNN', 'baseline', '0')"
   ]
  },
  {
   "cell_type": "code",
   "execution_count": 21,
   "id": "b0575444-678d-4c09-909d-4ec33601e1a5",
   "metadata": {
    "scrolled": true
   },
   "outputs": [
    {
     "name": "stderr",
     "output_type": "stream",
     "text": [
      "/home/jovyan/.local/lib/python3.11/site-packages/sklearn/metrics/_classification.py:1334: UndefinedMetricWarning: Precision and F-score are ill-defined and being set to 0.0 in labels with no predicted samples. Use `zero_division` parameter to control this behavior.\n",
      "  _warn_prf(average, modifier, msg_start, len(result))\n",
      "/home/jovyan/.local/lib/python3.11/site-packages/sklearn/metrics/_classification.py:1334: UndefinedMetricWarning: Precision and F-score are ill-defined and being set to 0.0 in labels with no predicted samples. Use `zero_division` parameter to control this behavior.\n",
      "  _warn_prf(average, modifier, msg_start, len(result))\n"
     ]
    },
    {
     "name": "stdout",
     "output_type": "stream",
     "text": [
      "Accuracy: 0.9995476496630409\n",
      "\n",
      "macro\n",
      "Precision: 0.5883346576042859\n",
      "Recall: 0.5993868573408807\n",
      "F1 Score: 0.5937022266153751\n",
      "\n",
      "weighted\n",
      "Precision: 0.9991774469241438\n",
      "Recall: 0.9995476496630409\n",
      "F1 Score: 0.9993570764345204\n",
      "\n",
      "Mean FNR: 0.4006131426591192\n",
      "Mean TNR: 0.9999085302388739\n",
      "Mean FPR: 9.146976112606663e-05\n",
      "Mean TPR: 0.5993868573408807\n"
     ]
    },
    {
     "name": "stderr",
     "output_type": "stream",
     "text": [
      "/home/jovyan/.local/lib/python3.11/site-packages/sklearn/metrics/_classification.py:1334: UndefinedMetricWarning: Precision and F-score are ill-defined and being set to 0.0 in labels with no predicted samples. Use `zero_division` parameter to control this behavior.\n",
      "  _warn_prf(average, modifier, msg_start, len(result))\n",
      "/home/jovyan/.local/lib/python3.11/site-packages/sklearn/metrics/_classification.py:1334: UndefinedMetricWarning: Precision and F-score are ill-defined and being set to 0.0 in labels with no predicted samples. Use `zero_division` parameter to control this behavior.\n",
      "  _warn_prf(average, modifier, msg_start, len(result))\n"
     ]
    },
    {
     "name": "stdout",
     "output_type": "stream",
     "text": [
      "Accuracy: 0.9937341101473071\n",
      "\n",
      "macro\n",
      "Precision: 0.5057191691150574\n",
      "Recall: 0.5818529548897452\n",
      "F1 Score: 0.5292020068944725\n",
      "\n",
      "weighted\n",
      "Precision: 0.9961515446697649\n",
      "Recall: 0.9937341101473071\n",
      "F1 Score: 0.9943271412143198\n",
      "\n",
      "Mean FNR: 0.4181470451102549\n",
      "Mean TNR: 0.9987355156408235\n",
      "Mean FPR: 0.0012644843591766187\n",
      "Mean TPR: 0.5818529548897452\n"
     ]
    },
    {
     "name": "stderr",
     "output_type": "stream",
     "text": [
      "/home/jovyan/.local/lib/python3.11/site-packages/sklearn/metrics/_classification.py:1334: UndefinedMetricWarning: Precision and F-score are ill-defined and being set to 0.0 in labels with no predicted samples. Use `zero_division` parameter to control this behavior.\n",
      "  _warn_prf(average, modifier, msg_start, len(result))\n",
      "/home/jovyan/.local/lib/python3.11/site-packages/sklearn/metrics/_classification.py:1334: UndefinedMetricWarning: Precision and F-score are ill-defined and being set to 0.0 in labels with no predicted samples. Use `zero_division` parameter to control this behavior.\n",
      "  _warn_prf(average, modifier, msg_start, len(result))\n"
     ]
    },
    {
     "name": "stdout",
     "output_type": "stream",
     "text": [
      "Accuracy: 0.9398876663329885\n",
      "\n",
      "macro\n",
      "Precision: 0.40788486249092654\n",
      "Recall: 0.3696282498788624\n",
      "F1 Score: 0.2758251796429482\n",
      "\n",
      "weighted\n",
      "Precision: 0.988484276268386\n",
      "Recall: 0.9398876663329885\n",
      "F1 Score: 0.94204470265983\n",
      "\n",
      "Mean FNR: 0.6303717501211377\n",
      "Mean TNR: 0.9819369677378109\n",
      "Mean FPR: 0.018063032262189225\n",
      "Mean TPR: 0.3696282498788624\n"
     ]
    },
    {
     "name": "stderr",
     "output_type": "stream",
     "text": [
      "/home/jovyan/.local/lib/python3.11/site-packages/sklearn/metrics/_classification.py:1334: UndefinedMetricWarning: Precision and F-score are ill-defined and being set to 0.0 in labels with no predicted samples. Use `zero_division` parameter to control this behavior.\n",
      "  _warn_prf(average, modifier, msg_start, len(result))\n",
      "/home/jovyan/.local/lib/python3.11/site-packages/sklearn/metrics/_classification.py:1334: UndefinedMetricWarning: Precision and F-score are ill-defined and being set to 0.0 in labels with no predicted samples. Use `zero_division` parameter to control this behavior.\n",
      "  _warn_prf(average, modifier, msg_start, len(result))\n"
     ]
    },
    {
     "name": "stdout",
     "output_type": "stream",
     "text": [
      "Accuracy: 0.930187264662643\n",
      "\n",
      "macro\n",
      "Precision: 0.21682896281869418\n",
      "Recall: 0.3366704328476072\n",
      "F1 Score: 0.2353617161297835\n",
      "\n",
      "weighted\n",
      "Precision: 0.8973865345584183\n",
      "Recall: 0.930187264662643\n",
      "F1 Score: 0.912014261163876\n",
      "\n",
      "Mean FNR: 0.6633295671523929\n",
      "Mean TNR: 0.9051565027271261\n",
      "Mean FPR: 0.0948434972728739\n",
      "Mean TPR: 0.3366704328476072\n"
     ]
    },
    {
     "name": "stderr",
     "output_type": "stream",
     "text": [
      "/home/jovyan/.local/lib/python3.11/site-packages/sklearn/metrics/_classification.py:1334: UndefinedMetricWarning: Precision and F-score are ill-defined and being set to 0.0 in labels with no predicted samples. Use `zero_division` parameter to control this behavior.\n",
      "  _warn_prf(average, modifier, msg_start, len(result))\n",
      "/home/jovyan/.local/lib/python3.11/site-packages/sklearn/metrics/_classification.py:1334: UndefinedMetricWarning: Precision and F-score are ill-defined and being set to 0.0 in labels with no predicted samples. Use `zero_division` parameter to control this behavior.\n",
      "  _warn_prf(average, modifier, msg_start, len(result))\n"
     ]
    },
    {
     "name": "stdout",
     "output_type": "stream",
     "text": [
      "Accuracy: 0.9995644033792246\n",
      "\n",
      "macro\n",
      "Precision: 0.5884122143058914\n",
      "Recall: 0.5998722942340847\n",
      "F1 Score: 0.5939705493821013\n",
      "\n",
      "weighted\n",
      "Precision: 0.9991951143407213\n",
      "Recall: 0.9995644033792246\n",
      "F1 Score: 0.999373829936835\n",
      "\n",
      "Mean FNR: 0.4001277057659153\n",
      "Mean TNR: 0.9999121162034086\n",
      "Mean FPR: 8.788379659125589e-05\n",
      "Mean TPR: 0.5998722942340847\n"
     ]
    },
    {
     "name": "stderr",
     "output_type": "stream",
     "text": [
      "/home/jovyan/.local/lib/python3.11/site-packages/sklearn/metrics/_classification.py:1334: UndefinedMetricWarning: Precision and F-score are ill-defined and being set to 0.0 in labels with no predicted samples. Use `zero_division` parameter to control this behavior.\n",
      "  _warn_prf(average, modifier, msg_start, len(result))\n",
      "/home/jovyan/.local/lib/python3.11/site-packages/sklearn/metrics/_classification.py:1334: UndefinedMetricWarning: Precision and F-score are ill-defined and being set to 0.0 in labels with no predicted samples. Use `zero_division` parameter to control this behavior.\n",
      "  _warn_prf(average, modifier, msg_start, len(result))\n"
     ]
    },
    {
     "name": "stdout",
     "output_type": "stream",
     "text": [
      "Accuracy: 0.9885278928432313\n",
      "\n",
      "macro\n",
      "Precision: 0.4498389791256554\n",
      "Recall: 0.478914767585844\n",
      "F1 Score: 0.4589552062435297\n",
      "\n",
      "weighted\n",
      "Precision: 0.9911424394122029\n",
      "Recall: 0.9885278928432313\n",
      "F1 Score: 0.9895882742742832\n",
      "\n",
      "Mean FNR: 0.5210852324141559\n",
      "Mean TNR: 0.9976462381127342\n",
      "Mean FPR: 0.0023537618872657073\n",
      "Mean TPR: 0.478914767585844\n"
     ]
    },
    {
     "name": "stderr",
     "output_type": "stream",
     "text": [
      "/home/jovyan/.local/lib/python3.11/site-packages/sklearn/metrics/_classification.py:1334: UndefinedMetricWarning: Precision and F-score are ill-defined and being set to 0.0 in labels with no predicted samples. Use `zero_division` parameter to control this behavior.\n",
      "  _warn_prf(average, modifier, msg_start, len(result))\n",
      "/home/jovyan/.local/lib/python3.11/site-packages/sklearn/metrics/_classification.py:1334: UndefinedMetricWarning: Precision and F-score are ill-defined and being set to 0.0 in labels with no predicted samples. Use `zero_division` parameter to control this behavior.\n",
      "  _warn_prf(average, modifier, msg_start, len(result))\n"
     ]
    },
    {
     "name": "stdout",
     "output_type": "stream",
     "text": [
      "Accuracy: 0.9621072824215822\n",
      "\n",
      "macro\n",
      "Precision: 0.3846654320109055\n",
      "Recall: 0.35812965647617384\n",
      "F1 Score: 0.3477048153199626\n",
      "\n",
      "weighted\n",
      "Precision: 0.9835250794314431\n",
      "Recall: 0.9621072824215822\n",
      "F1 Score: 0.9693333978993168\n",
      "\n",
      "Mean FNR: 0.6418703435238262\n",
      "Mean TNR: 0.9900674783674737\n",
      "Mean FPR: 0.009932521632526337\n",
      "Mean TPR: 0.35812965647617384\n"
     ]
    },
    {
     "name": "stderr",
     "output_type": "stream",
     "text": [
      "/home/jovyan/.local/lib/python3.11/site-packages/sklearn/metrics/_classification.py:1334: UndefinedMetricWarning: Precision and F-score are ill-defined and being set to 0.0 in labels with no predicted samples. Use `zero_division` parameter to control this behavior.\n",
      "  _warn_prf(average, modifier, msg_start, len(result))\n",
      "/home/jovyan/.local/lib/python3.11/site-packages/sklearn/metrics/_classification.py:1334: UndefinedMetricWarning: Precision and F-score are ill-defined and being set to 0.0 in labels with no predicted samples. Use `zero_division` parameter to control this behavior.\n",
      "  _warn_prf(average, modifier, msg_start, len(result))\n"
     ]
    },
    {
     "name": "stdout",
     "output_type": "stream",
     "text": [
      "Accuracy: 0.9560717561664147\n",
      "\n",
      "macro\n",
      "Precision: 0.375651126129574\n",
      "Recall: 0.3292605271157272\n",
      "F1 Score: 0.33181033249492276\n",
      "\n",
      "weighted\n",
      "Precision: 0.9669240350861033\n",
      "Recall: 0.9560717561664147\n",
      "F1 Score: 0.9571067511122312\n",
      "\n",
      "Mean FNR: 0.6707394728842729\n",
      "Mean TNR: 0.9514253411090732\n",
      "Mean FPR: 0.04857465889092687\n",
      "Mean TPR: 0.3292605271157272\n"
     ]
    },
    {
     "name": "stderr",
     "output_type": "stream",
     "text": [
      "/home/jovyan/.local/lib/python3.11/site-packages/sklearn/metrics/_classification.py:1334: UndefinedMetricWarning: Precision and F-score are ill-defined and being set to 0.0 in labels with no predicted samples. Use `zero_division` parameter to control this behavior.\n",
      "  _warn_prf(average, modifier, msg_start, len(result))\n",
      "/home/jovyan/.local/lib/python3.11/site-packages/sklearn/metrics/_classification.py:1334: UndefinedMetricWarning: Precision and F-score are ill-defined and being set to 0.0 in labels with no predicted samples. Use `zero_division` parameter to control this behavior.\n",
      "  _warn_prf(average, modifier, msg_start, len(result))\n"
     ]
    },
    {
     "name": "stdout",
     "output_type": "stream",
     "text": [
      "Accuracy: 0.9995476496630409\n",
      "\n",
      "macro\n",
      "Precision: 0.5883346576042859\n",
      "Recall: 0.5993868573408807\n",
      "F1 Score: 0.5937022266153751\n",
      "\n",
      "weighted\n",
      "Precision: 0.9991774469241438\n",
      "Recall: 0.9995476496630409\n",
      "F1 Score: 0.9993570764345204\n",
      "\n",
      "Mean FNR: 0.4006131426591192\n",
      "Mean TNR: 0.9999085302388739\n",
      "Mean FPR: 9.146976112606663e-05\n",
      "Mean TPR: 0.5993868573408807\n"
     ]
    },
    {
     "name": "stderr",
     "output_type": "stream",
     "text": [
      "/home/jovyan/.local/lib/python3.11/site-packages/sklearn/metrics/_classification.py:1334: UndefinedMetricWarning: Precision and F-score are ill-defined and being set to 0.0 in labels with no predicted samples. Use `zero_division` parameter to control this behavior.\n",
      "  _warn_prf(average, modifier, msg_start, len(result))\n",
      "/home/jovyan/.local/lib/python3.11/site-packages/sklearn/metrics/_classification.py:1334: UndefinedMetricWarning: Precision and F-score are ill-defined and being set to 0.0 in labels with no predicted samples. Use `zero_division` parameter to control this behavior.\n",
      "  _warn_prf(average, modifier, msg_start, len(result))\n"
     ]
    },
    {
     "name": "stdout",
     "output_type": "stream",
     "text": [
      "Accuracy: 0.9937341101473071\n",
      "\n",
      "macro\n",
      "Precision: 0.5057191691150574\n",
      "Recall: 0.5818529548897452\n",
      "F1 Score: 0.5292020068944725\n",
      "\n",
      "weighted\n",
      "Precision: 0.9961515446697649\n",
      "Recall: 0.9937341101473071\n",
      "F1 Score: 0.9943271412143198\n",
      "\n",
      "Mean FNR: 0.4181470451102549\n",
      "Mean TNR: 0.9987355156408235\n",
      "Mean FPR: 0.0012644843591766187\n",
      "Mean TPR: 0.5818529548897452\n"
     ]
    },
    {
     "name": "stderr",
     "output_type": "stream",
     "text": [
      "/home/jovyan/.local/lib/python3.11/site-packages/sklearn/metrics/_classification.py:1334: UndefinedMetricWarning: Precision and F-score are ill-defined and being set to 0.0 in labels with no predicted samples. Use `zero_division` parameter to control this behavior.\n",
      "  _warn_prf(average, modifier, msg_start, len(result))\n",
      "/home/jovyan/.local/lib/python3.11/site-packages/sklearn/metrics/_classification.py:1334: UndefinedMetricWarning: Precision and F-score are ill-defined and being set to 0.0 in labels with no predicted samples. Use `zero_division` parameter to control this behavior.\n",
      "  _warn_prf(average, modifier, msg_start, len(result))\n"
     ]
    },
    {
     "name": "stdout",
     "output_type": "stream",
     "text": [
      "Accuracy: 0.9398876663329885\n",
      "\n",
      "macro\n",
      "Precision: 0.40788486249092654\n",
      "Recall: 0.3696282498788624\n",
      "F1 Score: 0.2758251796429482\n",
      "\n",
      "weighted\n",
      "Precision: 0.988484276268386\n",
      "Recall: 0.9398876663329885\n",
      "F1 Score: 0.94204470265983\n",
      "\n",
      "Mean FNR: 0.6303717501211377\n",
      "Mean TNR: 0.9819369677378109\n",
      "Mean FPR: 0.018063032262189225\n",
      "Mean TPR: 0.3696282498788624\n",
      "Accuracy: 0.930187264662643\n",
      "\n",
      "macro\n",
      "Precision: 0.21682896281869418\n",
      "Recall: 0.3366704328476072\n",
      "F1 Score: 0.2353617161297835\n",
      "\n",
      "weighted\n",
      "Precision: 0.8973865345584183\n",
      "Recall: 0.930187264662643\n",
      "F1 Score: 0.912014261163876\n",
      "\n",
      "Mean FNR: 0.6633295671523929\n",
      "Mean TNR: 0.9051565027271261\n",
      "Mean FPR: 0.0948434972728739\n",
      "Mean TPR: 0.3366704328476072\n"
     ]
    },
    {
     "name": "stderr",
     "output_type": "stream",
     "text": [
      "/home/jovyan/.local/lib/python3.11/site-packages/sklearn/metrics/_classification.py:1334: UndefinedMetricWarning: Precision and F-score are ill-defined and being set to 0.0 in labels with no predicted samples. Use `zero_division` parameter to control this behavior.\n",
      "  _warn_prf(average, modifier, msg_start, len(result))\n",
      "/home/jovyan/.local/lib/python3.11/site-packages/sklearn/metrics/_classification.py:1334: UndefinedMetricWarning: Precision and F-score are ill-defined and being set to 0.0 in labels with no predicted samples. Use `zero_division` parameter to control this behavior.\n",
      "  _warn_prf(average, modifier, msg_start, len(result))\n"
     ]
    }
   ],
   "source": [
    "epsilon_values = [0.01, 0.1, 0.2, 0.3]\n",
    "\n",
    "# Iterate over epsilon values\n",
    "for epsilon in epsilon_values:\n",
    "    filename = f'/home/jovyan/Wustl_iiot/transfer_attack/x_test_adv_BIM_eps_{epsilon}.npy'\n",
    "    x_test_adv = np.load(filename)\n",
    "\n",
    "    calculate_performance_metrics(x_test_adv, y_test, student, 'DNN', 'BIM', epsilon)\n",
    "\n",
    "for epsilon in epsilon_values:\n",
    "    filename = f'/home/jovyan/Wustl_iiot/transfer_attack/x_test_adv_FGSM_eps_{epsilon}.npy'\n",
    "    x_test_adv = np.load(filename)\n",
    "\n",
    "    calculate_performance_metrics(x_test_adv, y_test, student, 'DNN', 'FGSM', epsilon)\n",
    "\n",
    "for epsilon in epsilon_values:\n",
    "    filename = f'/home/jovyan/Wustl_iiot/transfer_attack/x_test_adv_PGD_eps_{epsilon}.npy'\n",
    "    x_test_adv = np.load(filename)\n",
    "\n",
    "    calculate_performance_metrics(x_test_adv, y_test, student, 'DNN', 'PGD', epsilon)"
   ]
  },
  {
   "cell_type": "code",
   "execution_count": null,
   "id": "d0fdd08f-c86d-4544-804e-c1bf1c0cf9b8",
   "metadata": {},
   "outputs": [],
   "source": [
    "torch.save(model.state_dict(), \"/home/jovyan/Defense/RSLAD/RSLAD_10.pt\")"
   ]
  },
  {
   "cell_type": "code",
   "execution_count": 13,
   "id": "15605e82-c422-42f8-86c5-db351cfb5e9c",
   "metadata": {
    "scrolled": true
   },
   "outputs": [
    {
     "name": "stdout",
     "output_type": "stream",
     "text": [
      "start DF\n"
     ]
    },
    {
     "name": "stderr",
     "output_type": "stream",
     "text": [
      "/home/jovyan/.local/lib/python3.11/site-packages/sklearn/metrics/_classification.py:1334: UndefinedMetricWarning: Precision and F-score are ill-defined and being set to 0.0 in labels with no predicted samples. Use `zero_division` parameter to control this behavior.\n",
      "  _warn_prf(average, modifier, msg_start, len(result))\n",
      "/home/jovyan/.local/lib/python3.11/site-packages/sklearn/metrics/_classification.py:1334: UndefinedMetricWarning: Precision and F-score are ill-defined and being set to 0.0 in labels with no predicted samples. Use `zero_division` parameter to control this behavior.\n",
      "  _warn_prf(average, modifier, msg_start, len(result))\n"
     ]
    },
    {
     "name": "stdout",
     "output_type": "stream",
     "text": [
      "Accuracy: 0.025105443701230978\n",
      "\n",
      "macro\n",
      "Precision: 0.08054312439513923\n",
      "Recall: 0.1066674869206248\n",
      "F1 Score: 0.03515415398207049\n",
      "\n",
      "weighted\n",
      "Precision: 0.27427392267686906\n",
      "Recall: 0.025105443701230978\n",
      "F1 Score: 0.0198738794684289\n",
      "\n",
      "Mean FNR: 0.8933325130793752\n",
      "Mean TNR: 0.7722418258840619\n",
      "Mean FPR: 0.2277581741159381\n",
      "Mean TPR: 0.1066674869206248\n"
     ]
    },
    {
     "name": "stderr",
     "output_type": "stream",
     "text": [
      "/home/jovyan/.local/lib/python3.11/site-packages/sklearn/metrics/_classification.py:1334: UndefinedMetricWarning: Precision and F-score are ill-defined and being set to 0.0 in labels with no predicted samples. Use `zero_division` parameter to control this behavior.\n",
      "  _warn_prf(average, modifier, msg_start, len(result))\n",
      "/home/jovyan/.local/lib/python3.11/site-packages/sklearn/metrics/_classification.py:1334: UndefinedMetricWarning: Precision and F-score are ill-defined and being set to 0.0 in labels with no predicted samples. Use `zero_division` parameter to control this behavior.\n",
      "  _warn_prf(average, modifier, msg_start, len(result))\n"
     ]
    },
    {
     "name": "stdout",
     "output_type": "stream",
     "text": [
      "Accuracy: 0.02114318982379279\n",
      "\n",
      "macro\n",
      "Precision: 0.056046006210653886\n",
      "Recall: 0.09557736527801136\n",
      "F1 Score: 0.02963207979418801\n",
      "\n",
      "weighted\n",
      "Precision: 0.17594738712705082\n",
      "Recall: 0.02114318982379279\n",
      "F1 Score: 0.016688539492306087\n",
      "\n",
      "Mean FNR: 0.9044226347219887\n",
      "Mean TNR: 0.7559867894675635\n",
      "Mean FPR: 0.24401321053243658\n",
      "Mean TPR: 0.09557736527801136\n"
     ]
    },
    {
     "name": "stderr",
     "output_type": "stream",
     "text": [
      "/home/jovyan/.local/lib/python3.11/site-packages/sklearn/metrics/_classification.py:1334: UndefinedMetricWarning: Precision and F-score are ill-defined and being set to 0.0 in labels with no predicted samples. Use `zero_division` parameter to control this behavior.\n",
      "  _warn_prf(average, modifier, msg_start, len(result))\n",
      "/home/jovyan/.local/lib/python3.11/site-packages/sklearn/metrics/_classification.py:1334: UndefinedMetricWarning: Precision and F-score are ill-defined and being set to 0.0 in labels with no predicted samples. Use `zero_division` parameter to control this behavior.\n",
      "  _warn_prf(average, modifier, msg_start, len(result))\n"
     ]
    },
    {
     "name": "stdout",
     "output_type": "stream",
     "text": [
      "Accuracy: 0.018236420065925872\n",
      "\n",
      "macro\n",
      "Precision: 0.04175607102737865\n",
      "Recall: 0.08604404471240726\n",
      "F1 Score: 0.024831426355651855\n",
      "\n",
      "weighted\n",
      "Precision: 0.12391493733107765\n",
      "Recall: 0.018236420065925872\n",
      "F1 Score: 0.014792520711437742\n",
      "\n",
      "Mean FNR: 0.9139559552875929\n",
      "Mean TNR: 0.734266140400692\n",
      "Mean FPR: 0.265733859599308\n",
      "Mean TPR: 0.08604404471240726\n"
     ]
    },
    {
     "name": "stderr",
     "output_type": "stream",
     "text": [
      "/home/jovyan/.local/lib/python3.11/site-packages/sklearn/metrics/_classification.py:1334: UndefinedMetricWarning: Precision and F-score are ill-defined and being set to 0.0 in labels with no predicted samples. Use `zero_division` parameter to control this behavior.\n",
      "  _warn_prf(average, modifier, msg_start, len(result))\n",
      "/home/jovyan/.local/lib/python3.11/site-packages/sklearn/metrics/_classification.py:1334: UndefinedMetricWarning: Precision and F-score are ill-defined and being set to 0.0 in labels with no predicted samples. Use `zero_division` parameter to control this behavior.\n",
      "  _warn_prf(average, modifier, msg_start, len(result))\n"
     ]
    },
    {
     "name": "stdout",
     "output_type": "stream",
     "text": [
      "Accuracy: 0.016129640255829247\n",
      "\n",
      "macro\n",
      "Precision: 0.03408054329249941\n",
      "Recall: 0.07778451934781458\n",
      "F1 Score: 0.021419057875151314\n",
      "\n",
      "weighted\n",
      "Precision: 0.09836968305502071\n",
      "Recall: 0.016129640255829247\n",
      "F1 Score: 0.013554626144805498\n",
      "\n",
      "Mean FNR: 0.9222154806521854\n",
      "Mean TNR: 0.7147753771669514\n",
      "Mean FPR: 0.2852246228330487\n",
      "Mean TPR: 0.07778451934781458\n",
      "start AutoPGD\n"
     ]
    },
    {
     "name": "stderr",
     "output_type": "stream",
     "text": [
      "/home/jovyan/.local/lib/python3.11/site-packages/sklearn/metrics/_classification.py:1334: UndefinedMetricWarning: Precision and F-score are ill-defined and being set to 0.0 in labels with no predicted samples. Use `zero_division` parameter to control this behavior.\n",
      "  _warn_prf(average, modifier, msg_start, len(result))\n",
      "/home/jovyan/.local/lib/python3.11/site-packages/sklearn/metrics/_classification.py:1334: UndefinedMetricWarning: Precision and F-score are ill-defined and being set to 0.0 in labels with no predicted samples. Use `zero_division` parameter to control this behavior.\n",
      "  _warn_prf(average, modifier, msg_start, len(result))\n"
     ]
    },
    {
     "name": "stdout",
     "output_type": "stream",
     "text": [
      "Accuracy: 0.9995141422306736\n",
      "\n",
      "macro\n",
      "Precision: 0.5890086473632508\n",
      "Recall: 0.5977644516742163\n",
      "F1 Score: 0.593293136105229\n",
      "\n",
      "weighted\n",
      "Precision: 0.9991371172411876\n",
      "Recall: 0.9995141422306736\n",
      "F1 Score: 0.9993223819128251\n",
      "\n",
      "Mean FNR: 0.40223554832578357\n",
      "Mean TNR: 0.9999008814629546\n",
      "Mean FPR: 9.911853704543481e-05\n",
      "Mean TPR: 0.5977644516742163\n"
     ]
    },
    {
     "name": "stderr",
     "output_type": "stream",
     "text": [
      "/home/jovyan/.local/lib/python3.11/site-packages/sklearn/metrics/_classification.py:1334: UndefinedMetricWarning: Precision and F-score are ill-defined and being set to 0.0 in labels with no predicted samples. Use `zero_division` parameter to control this behavior.\n",
      "  _warn_prf(average, modifier, msg_start, len(result))\n",
      "/home/jovyan/.local/lib/python3.11/site-packages/sklearn/metrics/_classification.py:1334: UndefinedMetricWarning: Precision and F-score are ill-defined and being set to 0.0 in labels with no predicted samples. Use `zero_division` parameter to control this behavior.\n",
      "  _warn_prf(average, modifier, msg_start, len(result))\n"
     ]
    },
    {
     "name": "stdout",
     "output_type": "stream",
     "text": [
      "Accuracy: 0.9906681800856952\n",
      "\n",
      "macro\n",
      "Precision: 0.47154187004499526\n",
      "Recall: 0.5086547685595935\n",
      "F1 Score: 0.484427256365043\n",
      "\n",
      "weighted\n",
      "Precision: 0.992577595601694\n",
      "Recall: 0.9906681800856952\n",
      "F1 Score: 0.9913807428540163\n",
      "\n",
      "Mean FNR: 0.4913452314404066\n",
      "Mean TNR: 0.9980330870512473\n",
      "Mean FPR: 0.001966912948752667\n",
      "Mean TPR: 0.5086547685595935\n"
     ]
    },
    {
     "name": "stderr",
     "output_type": "stream",
     "text": [
      "/home/jovyan/.local/lib/python3.11/site-packages/sklearn/metrics/_classification.py:1334: UndefinedMetricWarning: Precision and F-score are ill-defined and being set to 0.0 in labels with no predicted samples. Use `zero_division` parameter to control this behavior.\n",
      "  _warn_prf(average, modifier, msg_start, len(result))\n",
      "/home/jovyan/.local/lib/python3.11/site-packages/sklearn/metrics/_classification.py:1334: UndefinedMetricWarning: Precision and F-score are ill-defined and being set to 0.0 in labels with no predicted samples. Use `zero_division` parameter to control this behavior.\n",
      "  _warn_prf(average, modifier, msg_start, len(result))\n"
     ]
    },
    {
     "name": "stdout",
     "output_type": "stream",
     "text": [
      "Accuracy: 0.9368468668456522\n",
      "\n",
      "macro\n",
      "Precision: 0.3819219989541849\n",
      "Recall: 0.32825445705550366\n",
      "F1 Score: 0.3039904915863247\n",
      "\n",
      "weighted\n",
      "Precision: 0.9826394695184234\n",
      "Recall: 0.9368468668456522\n",
      "F1 Score: 0.9500966027330184\n",
      "\n",
      "Mean FNR: 0.6717455429444963\n",
      "Mean TNR: 0.9823029400203268\n",
      "Mean FPR: 0.01769705997967333\n",
      "Mean TPR: 0.32825445705550366\n"
     ]
    },
    {
     "name": "stderr",
     "output_type": "stream",
     "text": [
      "/home/jovyan/.local/lib/python3.11/site-packages/sklearn/metrics/_classification.py:1334: UndefinedMetricWarning: Precision and F-score are ill-defined and being set to 0.0 in labels with no predicted samples. Use `zero_division` parameter to control this behavior.\n",
      "  _warn_prf(average, modifier, msg_start, len(result))\n",
      "/home/jovyan/.local/lib/python3.11/site-packages/sklearn/metrics/_classification.py:1334: UndefinedMetricWarning: Precision and F-score are ill-defined and being set to 0.0 in labels with no predicted samples. Use `zero_division` parameter to control this behavior.\n",
      "  _warn_prf(average, modifier, msg_start, len(result))\n"
     ]
    },
    {
     "name": "stdout",
     "output_type": "stream",
     "text": [
      "Accuracy: 0.028816391835914102\n",
      "\n",
      "macro\n",
      "Precision: 0.14232590140041274\n",
      "Recall: 0.05007938249521886\n",
      "F1 Score: 0.01526602073269622\n",
      "\n",
      "weighted\n",
      "Precision: 0.6147664444013351\n",
      "Recall: 0.028816391835914102\n",
      "F1 Score: 0.052261069563240885\n",
      "\n",
      "Mean FNR: 0.9499206175047812\n",
      "Mean TNR: 0.7692803023151764\n",
      "Mean FPR: 0.23071969768482353\n",
      "Mean TPR: 0.05007938249521886\n",
      "start BA\n"
     ]
    },
    {
     "name": "stderr",
     "output_type": "stream",
     "text": [
      "/home/jovyan/.local/lib/python3.11/site-packages/sklearn/metrics/_classification.py:1334: UndefinedMetricWarning: Precision and F-score are ill-defined and being set to 0.0 in labels with no predicted samples. Use `zero_division` parameter to control this behavior.\n",
      "  _warn_prf(average, modifier, msg_start, len(result))\n",
      "/home/jovyan/.local/lib/python3.11/site-packages/sklearn/metrics/_classification.py:1334: UndefinedMetricWarning: Precision and F-score are ill-defined and being set to 0.0 in labels with no predicted samples. Use `zero_division` parameter to control this behavior.\n",
      "  _warn_prf(average, modifier, msg_start, len(result))\n"
     ]
    },
    {
     "name": "stdout",
     "output_type": "stream",
     "text": [
      "Accuracy: 0.9995769686663623\n",
      "\n",
      "macro\n",
      "Precision: 0.5892020527688708\n",
      "Recall: 0.5996934286704404\n",
      "F1 Score: 0.5943073151157034\n",
      "\n",
      "weighted\n",
      "Precision: 0.9992036461203417\n",
      "Recall: 0.9995769686663623\n",
      "F1 Score: 0.9993854603947829\n",
      "\n",
      "Mean FNR: 0.4003065713295596\n",
      "Mean TNR: 0.9999143818129432\n",
      "Mean FPR: 8.56181870565893e-05\n",
      "Mean TPR: 0.5996934286704404\n"
     ]
    },
    {
     "name": "stderr",
     "output_type": "stream",
     "text": [
      "/home/jovyan/.local/lib/python3.11/site-packages/sklearn/metrics/_classification.py:1334: UndefinedMetricWarning: Precision and F-score are ill-defined and being set to 0.0 in labels with no predicted samples. Use `zero_division` parameter to control this behavior.\n",
      "  _warn_prf(average, modifier, msg_start, len(result))\n",
      "/home/jovyan/.local/lib/python3.11/site-packages/sklearn/metrics/_classification.py:1334: UndefinedMetricWarning: Precision and F-score are ill-defined and being set to 0.0 in labels with no predicted samples. Use `zero_division` parameter to control this behavior.\n",
      "  _warn_prf(average, modifier, msg_start, len(result))\n"
     ]
    },
    {
     "name": "stdout",
     "output_type": "stream",
     "text": [
      "Accuracy: 0.9995769686663623\n",
      "\n",
      "macro\n",
      "Precision: 0.5892020527688708\n",
      "Recall: 0.5996934286704404\n",
      "F1 Score: 0.5943073151157034\n",
      "\n",
      "weighted\n",
      "Precision: 0.9992036461203417\n",
      "Recall: 0.9995769686663623\n",
      "F1 Score: 0.9993854603947829\n",
      "\n",
      "Mean FNR: 0.4003065713295596\n",
      "Mean TNR: 0.9999143818129432\n",
      "Mean FPR: 8.56181870565893e-05\n",
      "Mean TPR: 0.5996934286704404\n"
     ]
    },
    {
     "name": "stderr",
     "output_type": "stream",
     "text": [
      "/home/jovyan/.local/lib/python3.11/site-packages/sklearn/metrics/_classification.py:1334: UndefinedMetricWarning: Precision and F-score are ill-defined and being set to 0.0 in labels with no predicted samples. Use `zero_division` parameter to control this behavior.\n",
      "  _warn_prf(average, modifier, msg_start, len(result))\n",
      "/home/jovyan/.local/lib/python3.11/site-packages/sklearn/metrics/_classification.py:1334: UndefinedMetricWarning: Precision and F-score are ill-defined and being set to 0.0 in labels with no predicted samples. Use `zero_division` parameter to control this behavior.\n",
      "  _warn_prf(average, modifier, msg_start, len(result))\n"
     ]
    },
    {
     "name": "stdout",
     "output_type": "stream",
     "text": [
      "Accuracy: 0.9995769686663623\n",
      "\n",
      "macro\n",
      "Precision: 0.5892020527688708\n",
      "Recall: 0.5996934286704404\n",
      "F1 Score: 0.5943073151157034\n",
      "\n",
      "weighted\n",
      "Precision: 0.9992036461203417\n",
      "Recall: 0.9995769686663623\n",
      "F1 Score: 0.9993854603947829\n",
      "\n",
      "Mean FNR: 0.4003065713295596\n",
      "Mean TNR: 0.9999143818129432\n",
      "Mean FPR: 8.56181870565893e-05\n",
      "Mean TPR: 0.5996934286704404\n"
     ]
    },
    {
     "name": "stderr",
     "output_type": "stream",
     "text": [
      "/home/jovyan/.local/lib/python3.11/site-packages/sklearn/metrics/_classification.py:1334: UndefinedMetricWarning: Precision and F-score are ill-defined and being set to 0.0 in labels with no predicted samples. Use `zero_division` parameter to control this behavior.\n",
      "  _warn_prf(average, modifier, msg_start, len(result))\n",
      "/home/jovyan/.local/lib/python3.11/site-packages/sklearn/metrics/_classification.py:1334: UndefinedMetricWarning: Precision and F-score are ill-defined and being set to 0.0 in labels with no predicted samples. Use `zero_division` parameter to control this behavior.\n",
      "  _warn_prf(average, modifier, msg_start, len(result))\n"
     ]
    },
    {
     "name": "stdout",
     "output_type": "stream",
     "text": [
      "Accuracy: 0.9995769686663623\n",
      "\n",
      "macro\n",
      "Precision: 0.5892020527688708\n",
      "Recall: 0.5996934286704404\n",
      "F1 Score: 0.5943073151157034\n",
      "\n",
      "weighted\n",
      "Precision: 0.9992036461203417\n",
      "Recall: 0.9995769686663623\n",
      "F1 Score: 0.9993854603947829\n",
      "\n",
      "Mean FNR: 0.4003065713295596\n",
      "Mean TNR: 0.9999143818129432\n",
      "Mean FPR: 8.56181870565893e-05\n",
      "Mean TPR: 0.5996934286704404\n",
      "start HopSkipJump\n",
      "Accuracy: 0.8618237257751735\n",
      "\n",
      "macro\n",
      "Precision: 0.2907167581634499\n",
      "Recall: 0.4443614014923324\n",
      "F1 Score: 0.3138645732126467\n",
      "\n",
      "weighted\n",
      "Precision: 0.9420724394287551\n",
      "Recall: 0.8618237257751735\n",
      "F1 Score: 0.893800864889362\n",
      "\n",
      "Mean FNR: 0.5556385985076677\n",
      "Mean TNR: 0.9458645857228545\n",
      "Mean FPR: 0.05413541427714561\n",
      "Mean TPR: 0.4443614014923324\n"
     ]
    },
    {
     "name": "stderr",
     "output_type": "stream",
     "text": [
      "/home/jovyan/.local/lib/python3.11/site-packages/sklearn/metrics/_classification.py:1334: UndefinedMetricWarning: Precision and F-score are ill-defined and being set to 0.0 in labels with no predicted samples. Use `zero_division` parameter to control this behavior.\n",
      "  _warn_prf(average, modifier, msg_start, len(result))\n",
      "/home/jovyan/.local/lib/python3.11/site-packages/sklearn/metrics/_classification.py:1334: UndefinedMetricWarning: Precision and F-score are ill-defined and being set to 0.0 in labels with no predicted samples. Use `zero_division` parameter to control this behavior.\n",
      "  _warn_prf(average, modifier, msg_start, len(result))\n"
     ]
    }
   ],
   "source": [
    "epsilon_values = [0.01, 0.1, 0.2, 0.3]\n",
    "\n",
    "print(\"start DF\")\n",
    "for epsilon in epsilon_values:\n",
    "    filename = f'/home/jovyan/Wustl_iiot/transfer_attack/x_test_adv_DF_eps_{epsilon}.npy'\n",
    "    x_test_adv = np.load(filename)\n",
    "\n",
    "    calculate_performance_metrics(x_test_adv, y_test, student, 'DNN', 'DF', epsilon)\n",
    "    \n",
    "# Iterate over epsilon values\n",
    "print(\"start AutoPGD\")\n",
    "for epsilon in epsilon_values:\n",
    "    filename = f'/home/jovyan/Wustl_iiot/transfer_attack/x_test_adv_AutoPGD_eps_{epsilon}.npy'\n",
    "    x_test_adv = np.load(filename)\n",
    "\n",
    "    calculate_performance_metrics(x_test_adv, y_test, student, 'DNN', 'AutoPGD', epsilon)\n",
    "\n",
    "print(\"start BA\")\n",
    "for epsilon in epsilon_values:\n",
    "    filename = f'/home/jovyan/Wustl_iiot/transfer_attack/x_test_adv_BA_eps_{epsilon}.npy'\n",
    "    x_test_adv = np.load(filename)\n",
    "\n",
    "    calculate_performance_metrics(x_test_adv, y_test, student, 'DNN', 'BA', epsilon)\n",
    "\n",
    "print(\"start HopSkipJump\")\n",
    "filename = f'/home/jovyan/Wustl_iiot/transfer_attack/x_test_adv_HopSkipJump_eps_0.npy'\n",
    "x_test_adv = np.load(filename)\n",
    "\n",
    "calculate_performance_metrics(x_test_adv, y_test, student, 'DNN', 'HopSkipJump', '0')"
   ]
  },
  {
   "cell_type": "code",
   "execution_count": 13,
   "id": "45c57433-eac8-483b-937f-aeca62571276",
   "metadata": {},
   "outputs": [
    {
     "name": "stdout",
     "output_type": "stream",
     "text": [
      "start ZOO\n"
     ]
    },
    {
     "name": "stderr",
     "output_type": "stream",
     "text": [
      "/home/jovyan/.local/lib/python3.11/site-packages/sklearn/metrics/_classification.py:1334: UndefinedMetricWarning: Precision and F-score are ill-defined and being set to 0.0 in labels with no predicted samples. Use `zero_division` parameter to control this behavior.\n",
      "  _warn_prf(average, modifier, msg_start, len(result))\n",
      "/home/jovyan/.local/lib/python3.11/site-packages/sklearn/metrics/_classification.py:1334: UndefinedMetricWarning: Precision and F-score are ill-defined and being set to 0.0 in labels with no predicted samples. Use `zero_division` parameter to control this behavior.\n",
      "  _warn_prf(average, modifier, msg_start, len(result))\n"
     ]
    },
    {
     "name": "stdout",
     "output_type": "stream",
     "text": [
      "Accuracy: 0.999438750507847\n",
      "\n",
      "macro\n",
      "Precision: 0.5884832577686624\n",
      "Recall: 0.5957971629482178\n",
      "F1 Score: 0.5920784665043111\n",
      "\n",
      "weighted\n",
      "Precision: 0.9990592317563687\n",
      "Recall: 0.999438750507847\n",
      "F1 Score: 0.9992467912810069\n",
      "\n",
      "Mean FNR: 0.40420283705178217\n",
      "Mean TNR: 0.9998848505885146\n",
      "Mean FPR: 0.0001151494114854728\n",
      "Mean TPR: 0.5957971629482178\n"
     ]
    },
    {
     "name": "stderr",
     "output_type": "stream",
     "text": [
      "/home/jovyan/.local/lib/python3.11/site-packages/sklearn/metrics/_classification.py:1334: UndefinedMetricWarning: Precision and F-score are ill-defined and being set to 0.0 in labels with no predicted samples. Use `zero_division` parameter to control this behavior.\n",
      "  _warn_prf(average, modifier, msg_start, len(result))\n",
      "/home/jovyan/.local/lib/python3.11/site-packages/sklearn/metrics/_classification.py:1334: UndefinedMetricWarning: Precision and F-score are ill-defined and being set to 0.0 in labels with no predicted samples. Use `zero_division` parameter to control this behavior.\n",
      "  _warn_prf(average, modifier, msg_start, len(result))\n"
     ]
    },
    {
     "name": "stdout",
     "output_type": "stream",
     "text": [
      "Accuracy: 0.999438750507847\n",
      "\n",
      "macro\n",
      "Precision: 0.5884832577686624\n",
      "Recall: 0.5957971629482178\n",
      "F1 Score: 0.5920784665043111\n",
      "\n",
      "weighted\n",
      "Precision: 0.9990592317563687\n",
      "Recall: 0.999438750507847\n",
      "F1 Score: 0.9992467912810069\n",
      "\n",
      "Mean FNR: 0.40420283705178217\n",
      "Mean TNR: 0.9998848505885146\n",
      "Mean FPR: 0.0001151494114854728\n",
      "Mean TPR: 0.5957971629482178\n"
     ]
    },
    {
     "name": "stderr",
     "output_type": "stream",
     "text": [
      "/home/jovyan/.local/lib/python3.11/site-packages/sklearn/metrics/_classification.py:1334: UndefinedMetricWarning: Precision and F-score are ill-defined and being set to 0.0 in labels with no predicted samples. Use `zero_division` parameter to control this behavior.\n",
      "  _warn_prf(average, modifier, msg_start, len(result))\n",
      "/home/jovyan/.local/lib/python3.11/site-packages/sklearn/metrics/_classification.py:1334: UndefinedMetricWarning: Precision and F-score are ill-defined and being set to 0.0 in labels with no predicted samples. Use `zero_division` parameter to control this behavior.\n",
      "  _warn_prf(average, modifier, msg_start, len(result))\n"
     ]
    },
    {
     "name": "stdout",
     "output_type": "stream",
     "text": [
      "Accuracy: 0.999438750507847\n",
      "\n",
      "macro\n",
      "Precision: 0.5884832577686624\n",
      "Recall: 0.5957971629482178\n",
      "F1 Score: 0.5920784665043111\n",
      "\n",
      "weighted\n",
      "Precision: 0.9990592317563687\n",
      "Recall: 0.999438750507847\n",
      "F1 Score: 0.9992467912810069\n",
      "\n",
      "Mean FNR: 0.40420283705178217\n",
      "Mean TNR: 0.9998848505885146\n",
      "Mean FPR: 0.0001151494114854728\n",
      "Mean TPR: 0.5957971629482178\n"
     ]
    },
    {
     "name": "stderr",
     "output_type": "stream",
     "text": [
      "/home/jovyan/.local/lib/python3.11/site-packages/sklearn/metrics/_classification.py:1334: UndefinedMetricWarning: Precision and F-score are ill-defined and being set to 0.0 in labels with no predicted samples. Use `zero_division` parameter to control this behavior.\n",
      "  _warn_prf(average, modifier, msg_start, len(result))\n",
      "/home/jovyan/.local/lib/python3.11/site-packages/sklearn/metrics/_classification.py:1334: UndefinedMetricWarning: Precision and F-score are ill-defined and being set to 0.0 in labels with no predicted samples. Use `zero_division` parameter to control this behavior.\n",
      "  _warn_prf(average, modifier, msg_start, len(result))\n"
     ]
    },
    {
     "name": "stdout",
     "output_type": "stream",
     "text": [
      "Accuracy: 0.999438750507847\n",
      "\n",
      "macro\n",
      "Precision: 0.5884832577686624\n",
      "Recall: 0.5957971629482178\n",
      "F1 Score: 0.5920784665043111\n",
      "\n",
      "weighted\n",
      "Precision: 0.9990592317563687\n",
      "Recall: 0.999438750507847\n",
      "F1 Score: 0.9992467912810069\n",
      "\n",
      "Mean FNR: 0.40420283705178217\n",
      "Mean TNR: 0.9998848505885146\n",
      "Mean FPR: 0.0001151494114854728\n",
      "Mean TPR: 0.5957971629482178\n",
      "Accuracy: 0.999438750507847\n",
      "\n",
      "macro\n",
      "Precision: 0.5884832577686624\n",
      "Recall: 0.5957971629482178\n",
      "F1 Score: 0.5920784665043111\n",
      "\n",
      "weighted\n",
      "Precision: 0.9990592317563687\n",
      "Recall: 0.999438750507847\n",
      "F1 Score: 0.9992467912810069\n",
      "\n",
      "Mean FNR: 0.40420283705178217\n",
      "Mean TNR: 0.9998848505885146\n",
      "Mean FPR: 0.0001151494114854728\n",
      "Mean TPR: 0.5957971629482178\n"
     ]
    },
    {
     "name": "stderr",
     "output_type": "stream",
     "text": [
      "/home/jovyan/.local/lib/python3.11/site-packages/sklearn/metrics/_classification.py:1334: UndefinedMetricWarning: Precision and F-score are ill-defined and being set to 0.0 in labels with no predicted samples. Use `zero_division` parameter to control this behavior.\n",
      "  _warn_prf(average, modifier, msg_start, len(result))\n",
      "/home/jovyan/.local/lib/python3.11/site-packages/sklearn/metrics/_classification.py:1334: UndefinedMetricWarning: Precision and F-score are ill-defined and being set to 0.0 in labels with no predicted samples. Use `zero_division` parameter to control this behavior.\n",
      "  _warn_prf(average, modifier, msg_start, len(result))\n"
     ]
    }
   ],
   "source": [
    "print(\"start ZOO\")\n",
    "ZOO_epsilon_values = [0, 0.01, 0.1, 0.2, 0.3]\n",
    "# Iterate over epsilon values\n",
    "for epsilon in ZOO_epsilon_values:\n",
    "    filename = f'/home/jovyan/Wustl_iiot/transfer_attack/x_test_adv_ZOO_eps_{epsilon}.npy'\n",
    "    x_test_adv = np.load(filename)\n",
    "\n",
    "    calculate_performance_metrics(x_test_adv, y_test, student, 'DNN', 'ZOO', epsilon)"
   ]
  },
  {
   "cell_type": "code",
   "execution_count": null,
   "id": "ed9fe989-93a1-4ca9-abab-e710ad8306d0",
   "metadata": {},
   "outputs": [],
   "source": []
  }
 ],
 "metadata": {
  "kernelspec": {
   "display_name": "Python 3 (ipykernel)",
   "language": "python",
   "name": "python3"
  },
  "language_info": {
   "codemirror_mode": {
    "name": "ipython",
    "version": 3
   },
   "file_extension": ".py",
   "mimetype": "text/x-python",
   "name": "python",
   "nbconvert_exporter": "python",
   "pygments_lexer": "ipython3",
   "version": "3.11.5"
  }
 },
 "nbformat": 4,
 "nbformat_minor": 5
}
