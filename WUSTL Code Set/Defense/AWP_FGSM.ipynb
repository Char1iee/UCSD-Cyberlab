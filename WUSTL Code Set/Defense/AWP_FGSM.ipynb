{
 "cells": [
  {
   "cell_type": "code",
   "execution_count": 1,
   "id": "fdc49b0e-8838-4c2a-b4f3-ec519c98d9c2",
   "metadata": {},
   "outputs": [
    {
     "name": "stderr",
     "output_type": "stream",
     "text": [
      "/opt/conda/lib/python3.11/site-packages/tqdm/auto.py:21: TqdmWarning: IProgress not found. Please update jupyter and ipywidgets. See https://ipywidgets.readthedocs.io/en/stable/user_install.html\n",
      "  from .autonotebook import tqdm as notebook_tqdm\n"
     ]
    }
   ],
   "source": [
    "import numpy as np\n",
    "import pandas as pd\n",
    "\n",
    "from sklearn.metrics import accuracy_score, precision_recall_fscore_support, roc_auc_score, confusion_matrix\n",
    "from sklearn.preprocessing import label_binarize\n",
    "\n",
    "import torch\n",
    "import torch.nn as nn\n",
    "import torch.optim as optim\n",
    "import torch.nn.functional as F\n",
    "from torch.utils.data import DataLoader, TensorDataset\n",
    "\n",
    "from art.attacks.evasion import SimBA, SpatialTransformation, DeepFool, BasicIterativeMethod, FastGradientMethod, ProjectedGradientDescent\n",
    "from art.estimators.classification import PyTorchClassifier\n",
    "\n",
    "from art.defences.trainer import AdversarialTrainerAWPPyTorch\n",
    "\n",
    "import time"
   ]
  },
  {
   "cell_type": "code",
   "execution_count": 2,
   "id": "452730d1-473b-4ed3-a2c6-824fa3256d81",
   "metadata": {},
   "outputs": [],
   "source": [
    "head = {\n",
    "            \"model\" : '',\n",
    "            \"attack_model\": '',\n",
    "            'epsilon': '',\n",
    "            'Accuracy': '',\n",
    "            'Macro Precision': '',\n",
    "            'Weighted Precision': '',\n",
    "            'Macro Recall': '',\n",
    "            'Weighted Recall': '',\n",
    "            'Macro F1': '',\n",
    "            'Weighted F1': '',\n",
    "            # 'Macro AUC': '',\n",
    "            # 'Weighted AUC': '',\n",
    "            # 'TPR': '',\n",
    "            # 'FNR': '',\n",
    "            # 'TNR': '',\n",
    "            # 'FPR': '',\n",
    "        }\n",
    "head = pd.DataFrame([head])\n",
    "head.to_csv(\"/home/jovyan/Defense/AWP/AWP.csv\", mode='a', index=False)"
   ]
  },
  {
   "cell_type": "code",
   "execution_count": 3,
   "id": "16d8e2c2-2a14-4dde-93f0-14d395f137b5",
   "metadata": {},
   "outputs": [],
   "source": [
    "from sklearn.metrics import confusion_matrix, precision_score, accuracy_score, f1_score,recall_score, roc_auc_score\n",
    "import pandas as pd\n",
    "import matplotlib.pyplot as plt\n",
    "from sklearn.metrics import confusion_matrix, ConfusionMatrixDisplay\n",
    "\n",
    "def calculate_performance_metrics(x_test_adv, y_test, classifier, model_name, attack_name, epsilon):\n",
    "\n",
    "    start_time = time.time()\n",
    "\n",
    "    preds = np.argmax(classifier.predict(x_test_adv), axis=1)\n",
    "    # preds = classifier.predict(x_test_adv)\n",
    "\n",
    "    y_hat = preds\n",
    "    # y_test_arg = np.argmax(y_test, axis=-1)\n",
    "    y_test_arg = y_test\n",
    "\n",
    "\n",
    "    accuracy = accuracy_score(y_test_arg, y_hat)\n",
    "    precision_macro = precision_score(y_test_arg, y_hat, average='macro')\n",
    "    # precision_micro = precision_score(y_test_arg, y_hat, average='micro')\n",
    "    precision_weighted = precision_score(y_test_arg, y_hat, average='weighted')\n",
    "    f1_macro = f1_score(y_test_arg, y_hat, average='macro')\n",
    "    # f1_micro = f1_score(y_test_arg, y_hat, average='micro')\n",
    "    f1_weighted = f1_score(y_test_arg, y_hat, average='weighted')\n",
    "    recall_macro = recall_score(y_test_arg, y_hat, average='macro')\n",
    "    # recall_micro = recall_score(y_test_arg, y_hat, average='micro')\n",
    "    recall_weighted = recall_score(y_test_arg, y_hat, average='weighted')\n",
    "\n",
    "\n",
    "    print(f\"epsilon = {epsilon}\")\n",
    "\n",
    "    print(f\"Accuracy: {accuracy}\")\n",
    "    # print(f\"Precision(micro,macro,weighted): {precision_micro},{precision_macro},{precision_weighted}\")\n",
    "    # print(f\"F1(micro,macro,weighted: {f1_micro},{f1_macro},{f1_weighted}\")\n",
    "    # print(f\"Recall(micro,macro,weighted: {recall_micro},{recall_macro},{recall_weighted}\")\n",
    "    print(f\"Precision(macro,weighted): {precision_macro},{precision_weighted}\")\n",
    "    print(f\"F1(macro,weighted: {f1_macro},{f1_weighted}\")\n",
    "    print(f\"Recall(macro,weighted: {recall_macro},{recall_weighted}\")\n",
    "\n",
    "\n",
    "    \n",
    "    metrics = {\n",
    "        \"model\" : model_name,\n",
    "        \"attack_model\" : attack_name,\n",
    "        \"epsilon\" : epsilon,\n",
    "        \"Accuracy\": accuracy,\n",
    "        # \"Precision-micro\": precision_micro,\n",
    "        \"Precision-macro\": precision_macro,\n",
    "        \"Precision-weighted\": precision_weighted,\n",
    "        # \"Recall_micro\": recall_micro,\n",
    "        \"Recall_macro\": recall_macro,\n",
    "        \"Recall_weighted\": recall_weighted,\n",
    "        \n",
    "        # \"F1-micro\": f1_micro,\n",
    "        \"F1-macro\": f1_macro,\n",
    "        \"F1-weighted\": f1_weighted,\n",
    "\n",
    "    }\n",
    "    metrics_df = pd.DataFrame([metrics])\n",
    "    metrics_df.to_csv(\"/home/jovyan/Defense/AWP/AWP.csv\", mode='a', index=False, header=False)\n",
    "\n",
    "    end_time = time.time()\n",
    "    elapsed_time = end_time - start_time\n",
    "    print(f\"Time: {elapsed_time:.2f} second\\n\\n\")"
   ]
  },
  {
   "cell_type": "code",
   "execution_count": 4,
   "id": "7b7e28fa-d8bf-43ea-9022-2825067b2132",
   "metadata": {},
   "outputs": [
    {
     "name": "stdout",
     "output_type": "stream",
     "text": [
      "Using cuda device\n"
     ]
    }
   ],
   "source": [
    "device = torch.device(\"cuda\" if torch.cuda.is_available() else \"cpu\")\n",
    "print(f\"Using {device} device\")"
   ]
  },
  {
   "cell_type": "code",
   "execution_count": 5,
   "id": "e4c85229-1dc7-4921-a5a3-5ce8487a11fb",
   "metadata": {},
   "outputs": [],
   "source": [
    "x_test = np.load('/home/jovyan/Wustl_iiot/x_test.npy')\n",
    "x_train = np.load('/home/jovyan/Wustl_iiot/x_train.npy')\n",
    "x_val = np.load('/home/jovyan/Wustl_iiot/x_val.npy')\n",
    "y_test = np.load('/home/jovyan/Wustl_iiot/y_test.npy')\n",
    "y_train = np.load('/home/jovyan/Wustl_iiot/y_train.npy')\n",
    "y_val = np.load('/home/jovyan/Wustl_iiot/y_val.npy')\n",
    "\n",
    "\n",
    "# train_dataset = TensorDataset(x_train_tensor, y_train_tensor)\n",
    "# train_loader = DataLoader(train_dataset, batch_size=100, shuffle=True)\n",
    "\n",
    "# val_dataset = TensorDataset(x_val_tensor, y_val_tensor)\n",
    "# val_loader = DataLoader(val_dataset, batch_size=100, shuffle=True)"
   ]
  },
  {
   "cell_type": "code",
   "execution_count": 6,
   "id": "816993b9-2d83-4217-8804-a68f4aa9992b",
   "metadata": {},
   "outputs": [],
   "source": [
    "input_shape = x_train.shape[1]\n",
    "output_shape = len(np.unique(y_train))"
   ]
  },
  {
   "cell_type": "code",
   "execution_count": 7,
   "id": "b23e7c1b-ba47-4409-9544-5f2f90214545",
   "metadata": {},
   "outputs": [],
   "source": [
    "class DNNModel(nn.Module):\n",
    "    def __init__(self, input_size, output_size):\n",
    "        super(DNNModel, self).__init__()\n",
    "        self.fc1 = nn.Linear(input_size, 50)\n",
    "        self.fc2 = nn.Linear(50, 30)\n",
    "        self.fc3 = nn.Linear(30, 20)\n",
    "        self.fc4 = nn.Linear(20, output_size)\n",
    "\n",
    "    def forward(self, x):\n",
    "        x = F.relu(self.fc1(x))\n",
    "        x = F.relu(self.fc2(x))\n",
    "        x = F.relu(self.fc3(x))\n",
    "        x = self.fc4(x)\n",
    "        return x"
   ]
  },
  {
   "cell_type": "code",
   "execution_count": 9,
   "id": "be599795-b056-4b24-acd2-8edbe7a2c859",
   "metadata": {},
   "outputs": [
    {
     "data": {
      "text/plain": [
       "<All keys matched successfully>"
      ]
     },
     "execution_count": 9,
     "metadata": {},
     "output_type": "execute_result"
    }
   ],
   "source": [
    "model = DNNModel(input_size=input_shape, output_size=output_shape).to(device)\n",
    "model.load_state_dict(torch.load(\"/home/jovyan/Wustl_iiot/transfer_attack/dnn_pytorch.pt\"))"
   ]
  },
  {
   "cell_type": "code",
   "execution_count": 10,
   "id": "e4c38ec7-224b-4f41-b395-35eec4464fc1",
   "metadata": {},
   "outputs": [],
   "source": [
    "x_train = x_train.astype(np.float32)\n",
    "x_test = x_test.astype(np.float32)\n",
    "x_val = x_val.astype(np.float32)"
   ]
  },
  {
   "cell_type": "code",
   "execution_count": 11,
   "id": "4d0f6d43-9ae1-48ef-ac57-cdd68880ed22",
   "metadata": {},
   "outputs": [],
   "source": [
    "criterion = nn.CrossEntropyLoss()\n",
    "optimizer = optim.Adam(model.parameters(), lr=0.001)\n",
    "    \n",
    "classifier = PyTorchClassifier(\n",
    "    model=model,\n",
    "    clip_values=(-5, 5),\n",
    "    loss=criterion,\n",
    "    optimizer=optimizer,\n",
    "    input_shape=(input_shape,),\n",
    "    nb_classes=output_shape,\n",
    "    device_type='gpu'\n",
    ")"
   ]
  },
  {
   "cell_type": "code",
   "execution_count": 12,
   "id": "8c6d4742-62fc-4fcc-b423-fd2b974c4023",
   "metadata": {},
   "outputs": [],
   "source": [
    "from art.attacks.evasion import SimBA, SpatialTransformation, DeepFool, BasicIterativeMethod, FastGradientMethod, ProjectedGradientDescent\n",
    "\n",
    "FGSM = FastGradientMethod(estimator=classifier, eps=0.3)\n",
    "BIM = BasicIterativeMethod(estimator=classifier, eps=0.3, max_iter=3)\n",
    "PGD = ProjectedGradientDescent(estimator=classifier, eps=0.3, max_iter=3)"
   ]
  },
  {
   "cell_type": "code",
   "execution_count": 13,
   "id": "132defe0-b404-4e54-954a-87118f51a031",
   "metadata": {},
   "outputs": [],
   "source": [
    "FGSM_Trainer = AdversarialTrainerAWPPyTorch(classifier, classifier, FGSM, \"TRADES\", 0.1, 6.0, 0)\n",
    "BIM_Trainer = AdversarialTrainerAWPPyTorch(classifier, classifier, BIM, \"TRADES\", 0.1, 6.0, 0)\n",
    "PGD_Trainer = AdversarialTrainerAWPPyTorch(classifier, classifier, PGD, \"TRADES\", 0.1, 6.0, 0)"
   ]
  },
  {
   "cell_type": "code",
   "execution_count": null,
   "id": "8eb7775b-118e-49d7-b436-bc810719ed20",
   "metadata": {},
   "outputs": [],
   "source": [
    "# trining here, skip"
   ]
  },
  {
   "cell_type": "code",
   "execution_count": 13,
   "id": "c467b70d-508b-4f6a-bd67-43fe2b4f04ea",
   "metadata": {},
   "outputs": [
    {
     "name": "stderr",
     "output_type": "stream",
     "text": [
      "Adversarial Training AWP with TRADES - Epochs: 100%|██████████| 20/20 [59:04<00:00, 177.21s/it]"
     ]
    },
    {
     "name": "stdout",
     "output_type": "stream",
     "text": [
      "Time: 3544.17 second\n",
      "\n",
      "\n"
     ]
    },
    {
     "name": "stderr",
     "output_type": "stream",
     "text": [
      "\n"
     ]
    }
   ],
   "source": [
    "start_time = time.time()\n",
    "FGSM_Trainer.fit(x_train, y_train, epochs=10, batch_size=128,\n",
    "                     validation_data=(x_val, y_val))\n",
    "end_time = time.time()\n",
    "elapsed_time = end_time - start_time\n",
    "print(f\"Time: {elapsed_time:.2f} second\\n\\n\")"
   ]
  },
  {
   "cell_type": "code",
   "execution_count": 14,
   "id": "eb567019-e97f-49ed-9401-00dbc9223e1f",
   "metadata": {},
   "outputs": [],
   "source": [
    "# start_time = time.time()\n",
    "# BIM_Trainer.fit(x_train, y_train, epochs=10, batch_size=128,\n",
    "#                      validation_data=(x_val, y_val))\n",
    "# end_time = time.time()\n",
    "# elapsed_time = end_time - start_time\n",
    "# print(f\"Time: {elapsed_time:.2f} second\\n\\n\")"
   ]
  },
  {
   "cell_type": "code",
   "execution_count": 15,
   "id": "9dac5c8b-46c9-4c25-8977-029a4e061594",
   "metadata": {
    "scrolled": true
   },
   "outputs": [],
   "source": [
    "# start_time = time.time()\n",
    "# PGD_Trainer.fit(x_train, y_train, epochs=10, batch_size=128,\n",
    "#                      validation_data=(x_val, y_val))\n",
    "# end_time = time.time()\n",
    "# elapsed_time = end_time - start_time\n",
    "# print(f\"Time: {elapsed_time:.2f} second\\n\\n\")"
   ]
  },
  {
   "cell_type": "code",
   "execution_count": 16,
   "id": "ea5567e3-cdc2-4c06-88e9-92004ca18eb0",
   "metadata": {},
   "outputs": [
    {
     "name": "stdout",
     "output_type": "stream",
     "text": [
      "epsilon = 0\n",
      "Accuracy: 0.9982953093783115\n",
      "Precision(macro,weighted): 0.5947964623438752,0.9979435892168569\n",
      "F1(macro,weighted: 0.5763951699364166,0.9980405778895473\n",
      "Recall(macro,weighted: 0.5620145631067961,0.9982953093783115\n",
      "Time: 2.71 second\n",
      "\n",
      "\n"
     ]
    },
    {
     "name": "stderr",
     "output_type": "stream",
     "text": [
      "/home/jovyan/.local/lib/python3.11/site-packages/sklearn/metrics/_classification.py:1334: UndefinedMetricWarning: Precision is ill-defined and being set to 0.0 in labels with no predicted samples. Use `zero_division` parameter to control this behavior.\n",
      "  _warn_prf(average, modifier, msg_start, len(result))\n",
      "/home/jovyan/.local/lib/python3.11/site-packages/sklearn/metrics/_classification.py:1334: UndefinedMetricWarning: Precision is ill-defined and being set to 0.0 in labels with no predicted samples. Use `zero_division` parameter to control this behavior.\n",
      "  _warn_prf(average, modifier, msg_start, len(result))\n"
     ]
    }
   ],
   "source": [
    "# calculate_performance_metrics(x_test, y_test, BIM_Trainer, 'BIM_Trainer', 'baseline', '0')\n",
    "calculate_performance_metrics(x_test, y_test, FGSM_Trainer, 'FGSM_Trainer', 'baseline', '0')\n",
    "# calculate_performance_metrics(x_test, y_test, PGD_Trainer, 'PGD_Trainer', 'baseline', '0')"
   ]
  },
  {
   "cell_type": "code",
   "execution_count": 24,
   "id": "9123acf2-1799-48c0-ad16-065d17d6d213",
   "metadata": {
    "scrolled": true
   },
   "outputs": [
    {
     "name": "stderr",
     "output_type": "stream",
     "text": [
      "/home/jovyan/.local/lib/python3.11/site-packages/sklearn/metrics/_classification.py:1334: UndefinedMetricWarning: Precision is ill-defined and being set to 0.0 in labels with no predicted samples. Use `zero_division` parameter to control this behavior.\n",
      "  _warn_prf(average, modifier, msg_start, len(result))\n",
      "/home/jovyan/.local/lib/python3.11/site-packages/sklearn/metrics/_classification.py:1334: UndefinedMetricWarning: Precision is ill-defined and being set to 0.0 in labels with no predicted samples. Use `zero_division` parameter to control this behavior.\n",
      "  _warn_prf(average, modifier, msg_start, len(result))\n"
     ]
    },
    {
     "name": "stdout",
     "output_type": "stream",
     "text": [
      "epsilon = 0.01\n",
      "Accuracy: 0.9975288268629086\n",
      "Precision(macro,weighted): 0.5923191328252375,0.9972863517591573\n",
      "F1(macro,weighted: 0.5607801249689307,0.9972070501564786\n",
      "Recall(macro,weighted: 0.5398058252427185,0.9975288268629086\n",
      "Time: 1.54 second\n",
      "\n",
      "\n"
     ]
    },
    {
     "name": "stderr",
     "output_type": "stream",
     "text": [
      "/home/jovyan/.local/lib/python3.11/site-packages/sklearn/metrics/_classification.py:1334: UndefinedMetricWarning: Precision is ill-defined and being set to 0.0 in labels with no predicted samples. Use `zero_division` parameter to control this behavior.\n",
      "  _warn_prf(average, modifier, msg_start, len(result))\n",
      "/home/jovyan/.local/lib/python3.11/site-packages/sklearn/metrics/_classification.py:1334: UndefinedMetricWarning: Precision is ill-defined and being set to 0.0 in labels with no predicted samples. Use `zero_division` parameter to control this behavior.\n",
      "  _warn_prf(average, modifier, msg_start, len(result))\n"
     ]
    },
    {
     "name": "stdout",
     "output_type": "stream",
     "text": [
      "epsilon = 0.1\n",
      "Accuracy: 0.024611209073812684\n",
      "Precision(macro,weighted): 0.13380173428184372,0.17813086546885487\n",
      "F1(macro,weighted: 0.06718830202308065,0.03607870562058654\n",
      "Recall(macro,weighted: 0.0914337628988501,0.024611209073812684\n",
      "Time: 1.46 second\n",
      "\n",
      "\n"
     ]
    },
    {
     "name": "stderr",
     "output_type": "stream",
     "text": [
      "/home/jovyan/.local/lib/python3.11/site-packages/sklearn/metrics/_classification.py:1334: UndefinedMetricWarning: Precision is ill-defined and being set to 0.0 in labels with no predicted samples. Use `zero_division` parameter to control this behavior.\n",
      "  _warn_prf(average, modifier, msg_start, len(result))\n",
      "/home/jovyan/.local/lib/python3.11/site-packages/sklearn/metrics/_classification.py:1334: UndefinedMetricWarning: Precision is ill-defined and being set to 0.0 in labels with no predicted samples. Use `zero_division` parameter to control this behavior.\n",
      "  _warn_prf(average, modifier, msg_start, len(result))\n"
     ]
    },
    {
     "name": "stdout",
     "output_type": "stream",
     "text": [
      "epsilon = 0.2\n",
      "Accuracy: 0.0029737846226016006\n",
      "Precision(macro,weighted): 0.014296737429416886,0.042264516975433646\n",
      "F1(macro,weighted: 0.0031604479322787384,0.005482040411108736\n",
      "Recall(macro,weighted: 0.0018638220656841786,0.0029737846226016006\n",
      "Time: 1.46 second\n",
      "\n",
      "\n",
      "epsilon = 0.3\n",
      "Accuracy: 0.0002638710298928181\n",
      "Precision(macro,weighted): 0.003527735226657179,0.0028232557301714222\n",
      "F1(macro,weighted: 0.0008657407475840638,0.00047474217071601506\n",
      "Recall(macro,weighted: 0.0004960035407988551,0.0002638710298928181\n",
      "Time: 1.46 second\n",
      "\n",
      "\n"
     ]
    },
    {
     "name": "stderr",
     "output_type": "stream",
     "text": [
      "/home/jovyan/.local/lib/python3.11/site-packages/sklearn/metrics/_classification.py:1334: UndefinedMetricWarning: Precision is ill-defined and being set to 0.0 in labels with no predicted samples. Use `zero_division` parameter to control this behavior.\n",
      "  _warn_prf(average, modifier, msg_start, len(result))\n",
      "/home/jovyan/.local/lib/python3.11/site-packages/sklearn/metrics/_classification.py:1334: UndefinedMetricWarning: Precision is ill-defined and being set to 0.0 in labels with no predicted samples. Use `zero_division` parameter to control this behavior.\n",
      "  _warn_prf(average, modifier, msg_start, len(result))\n"
     ]
    }
   ],
   "source": [
    "epsilon_values = [0.01, 0.1, 0.2, 0.3]\n",
    "\n",
    "# Iterate over epsilon values\n",
    "# for epsilon in epsilon_values:\n",
    "#     filename = f'/home/jovyan/Wustl_iiot/transfer_attack/x_test_adv_BIM_eps_{epsilon}.npy'\n",
    "#     x_test_adv = np.load(filename)\n",
    "\n",
    "#     calculate_performance_metrics(x_test_adv, y_test, BIM_Trainer, 'BIM_Trainer', 'BIM', epsilon)\n",
    "\n",
    "for epsilon in epsilon_values:\n",
    "    filename = f'/home/jovyan/Wustl_iiot/transfer_attack/x_test_adv_FGSM_eps_{epsilon}.npy'\n",
    "    x_test_adv = np.load(filename)\n",
    "\n",
    "    calculate_performance_metrics(x_test_adv, y_test, FGSM_Trainer, 'FGSM_Trainer', 'FGSM', epsilon)\n",
    "\n",
    "# for epsilon in epsilon_values:\n",
    "#     filename = f'/home/jovyan/Wustl_iiot/transfer_attack/x_test_adv_PGD_eps_{epsilon}.npy'\n",
    "#     x_test_adv = np.load(filename)\n",
    "\n",
    "#     calculate_performance_metrics(x_test_adv, y_test, PGD_Trainer, 'PGD_Trainer', 'PGD', epsilon)"
   ]
  },
  {
   "cell_type": "code",
   "execution_count": 23,
   "id": "ce25e407-621b-474b-b380-7df9123962f0",
   "metadata": {},
   "outputs": [],
   "source": [
    "torch.save(FGSM_Trainer, \"/home/jovyan/Defense/AWP/AWP_FGSM.pt\")"
   ]
  },
  {
   "cell_type": "code",
   "execution_count": null,
   "id": "dd1d7925-0b1f-4374-a586-7c9dee4e97ed",
   "metadata": {},
   "outputs": [],
   "source": [
    "# skip star here"
   ]
  },
  {
   "cell_type": "code",
   "execution_count": 15,
   "id": "1ebe38b7-0261-4e48-a4c5-b7f32f4b0e6d",
   "metadata": {},
   "outputs": [],
   "source": [
    "FGSM_Trainer = torch.load(\"/home/jovyan/Defense/AWP/AWP_FGSM.pt\")\n",
    "\n"
   ]
  },
  {
   "cell_type": "code",
   "execution_count": 17,
   "id": "0bb648e2-69c8-447e-a45e-a4bc8331b012",
   "metadata": {
    "scrolled": true
   },
   "outputs": [
    {
     "name": "stderr",
     "output_type": "stream",
     "text": [
      "/home/jovyan/.local/lib/python3.11/site-packages/sklearn/metrics/_classification.py:1334: UndefinedMetricWarning: Precision is ill-defined and being set to 0.0 in labels with no predicted samples. Use `zero_division` parameter to control this behavior.\n",
      "  _warn_prf(average, modifier, msg_start, len(result))\n",
      "/home/jovyan/.local/lib/python3.11/site-packages/sklearn/metrics/_classification.py:1334: UndefinedMetricWarning: Precision is ill-defined and being set to 0.0 in labels with no predicted samples. Use `zero_division` parameter to control this behavior.\n",
      "  _warn_prf(average, modifier, msg_start, len(result))\n"
     ]
    },
    {
     "name": "stdout",
     "output_type": "stream",
     "text": [
      "epsilon = 0\n",
      "Accuracy: 0.9982953093783115\n",
      "Precision(macro,weighted): 0.5947964623438752,0.9979435892168569\n",
      "F1(macro,weighted: 0.5763951699364166,0.9980405778895473\n",
      "Recall(macro,weighted: 0.5620145631067961,0.9982953093783115\n",
      "Time: 2.61 second\n",
      "\n",
      "\n",
      "start BIM\n"
     ]
    },
    {
     "name": "stderr",
     "output_type": "stream",
     "text": [
      "/home/jovyan/.local/lib/python3.11/site-packages/sklearn/metrics/_classification.py:1334: UndefinedMetricWarning: Precision is ill-defined and being set to 0.0 in labels with no predicted samples. Use `zero_division` parameter to control this behavior.\n",
      "  _warn_prf(average, modifier, msg_start, len(result))\n",
      "/home/jovyan/.local/lib/python3.11/site-packages/sklearn/metrics/_classification.py:1334: UndefinedMetricWarning: Precision is ill-defined and being set to 0.0 in labels with no predicted samples. Use `zero_division` parameter to control this behavior.\n",
      "  _warn_prf(average, modifier, msg_start, len(result))\n"
     ]
    },
    {
     "name": "stdout",
     "output_type": "stream",
     "text": [
      "epsilon = 0.01\n",
      "Accuracy: 0.997553957437184\n",
      "Precision(macro,weighted): 0.591916560926691,0.997303888717741\n",
      "F1(macro,weighted: 0.5611629805979546,0.9972365382985824\n",
      "Recall(macro,weighted: 0.5405339805825242,0.997553957437184\n",
      "Time: 2.59 second\n",
      "\n",
      "\n"
     ]
    },
    {
     "name": "stderr",
     "output_type": "stream",
     "text": [
      "/home/jovyan/.local/lib/python3.11/site-packages/sklearn/metrics/_classification.py:1334: UndefinedMetricWarning: Precision is ill-defined and being set to 0.0 in labels with no predicted samples. Use `zero_division` parameter to control this behavior.\n",
      "  _warn_prf(average, modifier, msg_start, len(result))\n",
      "/home/jovyan/.local/lib/python3.11/site-packages/sklearn/metrics/_classification.py:1334: UndefinedMetricWarning: Precision is ill-defined and being set to 0.0 in labels with no predicted samples. Use `zero_division` parameter to control this behavior.\n",
      "  _warn_prf(average, modifier, msg_start, len(result))\n"
     ]
    },
    {
     "name": "stdout",
     "output_type": "stream",
     "text": [
      "epsilon = 0.1\n",
      "Accuracy: 0.017344284679145394\n",
      "Precision(macro,weighted): 0.03827254242877593,0.14584193032306275\n",
      "F1(macro,weighted: 0.0148761523715992,0.02287461719614792\n",
      "Recall(macro,weighted: 0.046139453721812315,0.017344284679145394\n",
      "Time: 2.64 second\n",
      "\n",
      "\n"
     ]
    },
    {
     "name": "stderr",
     "output_type": "stream",
     "text": [
      "/home/jovyan/.local/lib/python3.11/site-packages/sklearn/metrics/_classification.py:1334: UndefinedMetricWarning: Precision is ill-defined and being set to 0.0 in labels with no predicted samples. Use `zero_division` parameter to control this behavior.\n",
      "  _warn_prf(average, modifier, msg_start, len(result))\n",
      "/home/jovyan/.local/lib/python3.11/site-packages/sklearn/metrics/_classification.py:1334: UndefinedMetricWarning: Precision is ill-defined and being set to 0.0 in labels with no predicted samples. Use `zero_division` parameter to control this behavior.\n",
      "  _warn_prf(average, modifier, msg_start, len(result))\n"
     ]
    },
    {
     "name": "stdout",
     "output_type": "stream",
     "text": [
      "epsilon = 0.2\n",
      "Accuracy: 0.0027727400283975487\n",
      "Precision(macro,weighted): 0.008191357107280214,0.03648514962936827\n",
      "F1(macro,weighted: 0.0012041785196946222,0.004784416343925809\n",
      "Recall(macro,weighted: 0.0067888553714719165,0.0027727400283975487\n",
      "Time: 2.61 second\n",
      "\n",
      "\n"
     ]
    },
    {
     "name": "stderr",
     "output_type": "stream",
     "text": [
      "/home/jovyan/.local/lib/python3.11/site-packages/sklearn/metrics/_classification.py:1334: UndefinedMetricWarning: Precision is ill-defined and being set to 0.0 in labels with no predicted samples. Use `zero_division` parameter to control this behavior.\n",
      "  _warn_prf(average, modifier, msg_start, len(result))\n",
      "/home/jovyan/.local/lib/python3.11/site-packages/sklearn/metrics/_classification.py:1334: UndefinedMetricWarning: Precision is ill-defined and being set to 0.0 in labels with no predicted samples. Use `zero_division` parameter to control this behavior.\n",
      "  _warn_prf(average, modifier, msg_start, len(result))\n"
     ]
    },
    {
     "name": "stdout",
     "output_type": "stream",
     "text": [
      "epsilon = 0.3\n",
      "Accuracy: 0.002550753288963908\n",
      "Precision(macro,weighted): 0.008114842823629046,0.03635163808402137\n",
      "F1(macro,weighted: 0.0010720214162057522,0.004766967037075477\n",
      "Recall(macro,weighted: 0.0005739938299393346,0.002550753288963908\n",
      "Time: 2.60 second\n",
      "\n",
      "\n",
      "start FGSM\n"
     ]
    },
    {
     "name": "stderr",
     "output_type": "stream",
     "text": [
      "/home/jovyan/.local/lib/python3.11/site-packages/sklearn/metrics/_classification.py:1334: UndefinedMetricWarning: Precision is ill-defined and being set to 0.0 in labels with no predicted samples. Use `zero_division` parameter to control this behavior.\n",
      "  _warn_prf(average, modifier, msg_start, len(result))\n",
      "/home/jovyan/.local/lib/python3.11/site-packages/sklearn/metrics/_classification.py:1334: UndefinedMetricWarning: Precision is ill-defined and being set to 0.0 in labels with no predicted samples. Use `zero_division` parameter to control this behavior.\n",
      "  _warn_prf(average, modifier, msg_start, len(result))\n"
     ]
    },
    {
     "name": "stdout",
     "output_type": "stream",
     "text": [
      "epsilon = 0.01\n",
      "Accuracy: 0.9975288268629086\n",
      "Precision(macro,weighted): 0.5923191328252375,0.9972863517591573\n",
      "F1(macro,weighted: 0.5607801249689307,0.9972070501564786\n",
      "Recall(macro,weighted: 0.5398058252427185,0.9975288268629086\n",
      "Time: 2.61 second\n",
      "\n",
      "\n"
     ]
    },
    {
     "name": "stderr",
     "output_type": "stream",
     "text": [
      "/home/jovyan/.local/lib/python3.11/site-packages/sklearn/metrics/_classification.py:1334: UndefinedMetricWarning: Precision is ill-defined and being set to 0.0 in labels with no predicted samples. Use `zero_division` parameter to control this behavior.\n",
      "  _warn_prf(average, modifier, msg_start, len(result))\n",
      "/home/jovyan/.local/lib/python3.11/site-packages/sklearn/metrics/_classification.py:1334: UndefinedMetricWarning: Precision is ill-defined and being set to 0.0 in labels with no predicted samples. Use `zero_division` parameter to control this behavior.\n",
      "  _warn_prf(average, modifier, msg_start, len(result))\n"
     ]
    },
    {
     "name": "stdout",
     "output_type": "stream",
     "text": [
      "epsilon = 0.1\n",
      "Accuracy: 0.024611209073812684\n",
      "Precision(macro,weighted): 0.13380173428184372,0.17813086546885487\n",
      "F1(macro,weighted: 0.06718830202308065,0.03607870562058654\n",
      "Recall(macro,weighted: 0.0914337628988501,0.024611209073812684\n",
      "Time: 2.61 second\n",
      "\n",
      "\n"
     ]
    },
    {
     "name": "stderr",
     "output_type": "stream",
     "text": [
      "/home/jovyan/.local/lib/python3.11/site-packages/sklearn/metrics/_classification.py:1334: UndefinedMetricWarning: Precision is ill-defined and being set to 0.0 in labels with no predicted samples. Use `zero_division` parameter to control this behavior.\n",
      "  _warn_prf(average, modifier, msg_start, len(result))\n",
      "/home/jovyan/.local/lib/python3.11/site-packages/sklearn/metrics/_classification.py:1334: UndefinedMetricWarning: Precision is ill-defined and being set to 0.0 in labels with no predicted samples. Use `zero_division` parameter to control this behavior.\n",
      "  _warn_prf(average, modifier, msg_start, len(result))\n"
     ]
    },
    {
     "name": "stdout",
     "output_type": "stream",
     "text": [
      "epsilon = 0.2\n",
      "Accuracy: 0.0029737846226016006\n",
      "Precision(macro,weighted): 0.014296737429416886,0.042264516975433646\n",
      "F1(macro,weighted: 0.0031604479322787384,0.005482040411108736\n",
      "Recall(macro,weighted: 0.0018638220656841786,0.0029737846226016006\n",
      "Time: 2.59 second\n",
      "\n",
      "\n"
     ]
    },
    {
     "name": "stderr",
     "output_type": "stream",
     "text": [
      "/home/jovyan/.local/lib/python3.11/site-packages/sklearn/metrics/_classification.py:1334: UndefinedMetricWarning: Precision is ill-defined and being set to 0.0 in labels with no predicted samples. Use `zero_division` parameter to control this behavior.\n",
      "  _warn_prf(average, modifier, msg_start, len(result))\n",
      "/home/jovyan/.local/lib/python3.11/site-packages/sklearn/metrics/_classification.py:1334: UndefinedMetricWarning: Precision is ill-defined and being set to 0.0 in labels with no predicted samples. Use `zero_division` parameter to control this behavior.\n",
      "  _warn_prf(average, modifier, msg_start, len(result))\n"
     ]
    },
    {
     "name": "stdout",
     "output_type": "stream",
     "text": [
      "epsilon = 0.3\n",
      "Accuracy: 0.0002638710298928181\n",
      "Precision(macro,weighted): 0.003527735226657179,0.0028232557301714222\n",
      "F1(macro,weighted: 0.0008657407475840638,0.00047474217071601506\n",
      "Recall(macro,weighted: 0.0004960035407988551,0.0002638710298928181\n",
      "Time: 2.49 second\n",
      "\n",
      "\n",
      "start PGD\n"
     ]
    },
    {
     "name": "stderr",
     "output_type": "stream",
     "text": [
      "/home/jovyan/.local/lib/python3.11/site-packages/sklearn/metrics/_classification.py:1334: UndefinedMetricWarning: Precision is ill-defined and being set to 0.0 in labels with no predicted samples. Use `zero_division` parameter to control this behavior.\n",
      "  _warn_prf(average, modifier, msg_start, len(result))\n",
      "/home/jovyan/.local/lib/python3.11/site-packages/sklearn/metrics/_classification.py:1334: UndefinedMetricWarning: Precision is ill-defined and being set to 0.0 in labels with no predicted samples. Use `zero_division` parameter to control this behavior.\n",
      "  _warn_prf(average, modifier, msg_start, len(result))\n"
     ]
    },
    {
     "name": "stdout",
     "output_type": "stream",
     "text": [
      "epsilon = 0.01\n",
      "Accuracy: 0.997553957437184\n",
      "Precision(macro,weighted): 0.591916560926691,0.997303888717741\n",
      "F1(macro,weighted: 0.5611629805979546,0.9972365382985824\n",
      "Recall(macro,weighted: 0.5405339805825242,0.997553957437184\n",
      "Time: 2.61 second\n",
      "\n",
      "\n"
     ]
    },
    {
     "name": "stderr",
     "output_type": "stream",
     "text": [
      "/home/jovyan/.local/lib/python3.11/site-packages/sklearn/metrics/_classification.py:1334: UndefinedMetricWarning: Precision is ill-defined and being set to 0.0 in labels with no predicted samples. Use `zero_division` parameter to control this behavior.\n",
      "  _warn_prf(average, modifier, msg_start, len(result))\n",
      "/home/jovyan/.local/lib/python3.11/site-packages/sklearn/metrics/_classification.py:1334: UndefinedMetricWarning: Precision is ill-defined and being set to 0.0 in labels with no predicted samples. Use `zero_division` parameter to control this behavior.\n",
      "  _warn_prf(average, modifier, msg_start, len(result))\n"
     ]
    },
    {
     "name": "stdout",
     "output_type": "stream",
     "text": [
      "epsilon = 0.1\n",
      "Accuracy: 0.017344284679145394\n",
      "Precision(macro,weighted): 0.03827254242877593,0.14584193032306275\n",
      "F1(macro,weighted: 0.0148761523715992,0.02287461719614792\n",
      "Recall(macro,weighted: 0.046139453721812315,0.017344284679145394\n",
      "Time: 2.64 second\n",
      "\n",
      "\n"
     ]
    },
    {
     "name": "stderr",
     "output_type": "stream",
     "text": [
      "/home/jovyan/.local/lib/python3.11/site-packages/sklearn/metrics/_classification.py:1334: UndefinedMetricWarning: Precision is ill-defined and being set to 0.0 in labels with no predicted samples. Use `zero_division` parameter to control this behavior.\n",
      "  _warn_prf(average, modifier, msg_start, len(result))\n",
      "/home/jovyan/.local/lib/python3.11/site-packages/sklearn/metrics/_classification.py:1334: UndefinedMetricWarning: Precision is ill-defined and being set to 0.0 in labels with no predicted samples. Use `zero_division` parameter to control this behavior.\n",
      "  _warn_prf(average, modifier, msg_start, len(result))\n"
     ]
    },
    {
     "name": "stdout",
     "output_type": "stream",
     "text": [
      "epsilon = 0.2\n",
      "Accuracy: 0.0027727400283975487\n",
      "Precision(macro,weighted): 0.008191357107280214,0.03648514962936827\n",
      "F1(macro,weighted: 0.0012041785196946222,0.004784416343925809\n",
      "Recall(macro,weighted: 0.0067888553714719165,0.0027727400283975487\n",
      "Time: 2.61 second\n",
      "\n",
      "\n",
      "epsilon = 0.3\n",
      "Accuracy: 0.002550753288963908\n",
      "Precision(macro,weighted): 0.008114842823629046,0.03635163808402137\n",
      "F1(macro,weighted: 0.0010720214162057522,0.004766967037075477\n",
      "Recall(macro,weighted: 0.0005739938299393346,0.002550753288963908\n",
      "Time: 2.61 second\n",
      "\n",
      "\n"
     ]
    },
    {
     "name": "stderr",
     "output_type": "stream",
     "text": [
      "/home/jovyan/.local/lib/python3.11/site-packages/sklearn/metrics/_classification.py:1334: UndefinedMetricWarning: Precision is ill-defined and being set to 0.0 in labels with no predicted samples. Use `zero_division` parameter to control this behavior.\n",
      "  _warn_prf(average, modifier, msg_start, len(result))\n",
      "/home/jovyan/.local/lib/python3.11/site-packages/sklearn/metrics/_classification.py:1334: UndefinedMetricWarning: Precision is ill-defined and being set to 0.0 in labels with no predicted samples. Use `zero_division` parameter to control this behavior.\n",
      "  _warn_prf(average, modifier, msg_start, len(result))\n"
     ]
    }
   ],
   "source": [
    "calculate_performance_metrics(x_test, y_test, FGSM_Trainer, 'FGSM_Trainer', 'baseline', '0')\n",
    "\n",
    "epsilon_values = [0.01, 0.1, 0.2, 0.3]\n",
    "\n",
    "# Iterate over epsilon values\n",
    "print(\"start BIM\")\n",
    "for epsilon in epsilon_values:\n",
    "    filename = f'/home/jovyan/Wustl_iiot/transfer_attack/x_test_adv_BIM_eps_{epsilon}.npy'\n",
    "    x_test_adv = np.load(filename)\n",
    "\n",
    "    calculate_performance_metrics(x_test_adv, y_test, FGSM_Trainer, 'FGSM_Trainer', 'BIM', epsilon)\n",
    "\n",
    "print(\"start FGSM\")\n",
    "for epsilon in epsilon_values:\n",
    "    filename = f'/home/jovyan/Wustl_iiot/transfer_attack/x_test_adv_FGSM_eps_{epsilon}.npy'\n",
    "    x_test_adv = np.load(filename)\n",
    "\n",
    "    calculate_performance_metrics(x_test_adv, y_test, FGSM_Trainer, 'FGSM_Trainer', 'FGSM', epsilon)\n",
    "\n",
    "print(\"start PGD\")\n",
    "for epsilon in epsilon_values:\n",
    "    filename = f'/home/jovyan/Wustl_iiot/transfer_attack/x_test_adv_PGD_eps_{epsilon}.npy'\n",
    "    x_test_adv = np.load(filename)\n",
    "\n",
    "    calculate_performance_metrics(x_test_adv, y_test, FGSM_Trainer, 'FGSM_Trainer', 'PGD', epsilon)"
   ]
  },
  {
   "cell_type": "code",
   "execution_count": 18,
   "id": "e1986ae3-8940-44fa-a06c-8ccd2a75c7a6",
   "metadata": {
    "scrolled": true
   },
   "outputs": [
    {
     "name": "stdout",
     "output_type": "stream",
     "text": [
      "start DF\n"
     ]
    },
    {
     "name": "stderr",
     "output_type": "stream",
     "text": [
      "/home/jovyan/.local/lib/python3.11/site-packages/sklearn/metrics/_classification.py:1334: UndefinedMetricWarning: Precision is ill-defined and being set to 0.0 in labels with no predicted samples. Use `zero_division` parameter to control this behavior.\n",
      "  _warn_prf(average, modifier, msg_start, len(result))\n",
      "/home/jovyan/.local/lib/python3.11/site-packages/sklearn/metrics/_classification.py:1334: UndefinedMetricWarning: Precision is ill-defined and being set to 0.0 in labels with no predicted samples. Use `zero_division` parameter to control this behavior.\n",
      "  _warn_prf(average, modifier, msg_start, len(result))\n"
     ]
    },
    {
     "name": "stdout",
     "output_type": "stream",
     "text": [
      "epsilon = 0.01\n",
      "Accuracy: 1.2565287137753244e-05\n",
      "Precision(macro,weighted): 3.0230526355835674e-05,9.096036596913069e-05\n",
      "F1(macro,weighted: 1.750337927859863e-05,1.3168152955172047e-05\n",
      "Recall(macro,weighted: 2.644469960276353e-05,1.2565287137753244e-05\n",
      "Time: 2.77 second\n",
      "\n",
      "\n"
     ]
    },
    {
     "name": "stderr",
     "output_type": "stream",
     "text": [
      "/home/jovyan/.local/lib/python3.11/site-packages/sklearn/metrics/_classification.py:1334: UndefinedMetricWarning: Precision is ill-defined and being set to 0.0 in labels with no predicted samples. Use `zero_division` parameter to control this behavior.\n",
      "  _warn_prf(average, modifier, msg_start, len(result))\n",
      "/home/jovyan/.local/lib/python3.11/site-packages/sklearn/metrics/_classification.py:1334: UndefinedMetricWarning: Precision is ill-defined and being set to 0.0 in labels with no predicted samples. Use `zero_division` parameter to control this behavior.\n",
      "  _warn_prf(average, modifier, msg_start, len(result))\n"
     ]
    },
    {
     "name": "stdout",
     "output_type": "stream",
     "text": [
      "epsilon = 0.1\n",
      "Accuracy: 1.2565287137753244e-05\n",
      "Precision(macro,weighted): 3.0205434313858823e-05,9.08075345950202e-05\n",
      "F1(macro,weighted: 1.751133405906842e-05,1.3170153635903032e-05\n",
      "Recall(macro,weighted: 2.644469960276353e-05,1.2565287137753244e-05\n",
      "Time: 2.62 second\n",
      "\n",
      "\n"
     ]
    },
    {
     "name": "stderr",
     "output_type": "stream",
     "text": [
      "/home/jovyan/.local/lib/python3.11/site-packages/sklearn/metrics/_classification.py:1334: UndefinedMetricWarning: Precision is ill-defined and being set to 0.0 in labels with no predicted samples. Use `zero_division` parameter to control this behavior.\n",
      "  _warn_prf(average, modifier, msg_start, len(result))\n",
      "/home/jovyan/.local/lib/python3.11/site-packages/sklearn/metrics/_classification.py:1334: UndefinedMetricWarning: Precision is ill-defined and being set to 0.0 in labels with no predicted samples. Use `zero_division` parameter to control this behavior.\n",
      "  _warn_prf(average, modifier, msg_start, len(result))\n"
     ]
    },
    {
     "name": "stdout",
     "output_type": "stream",
     "text": [
      "epsilon = 0.2\n",
      "Accuracy: 1.2565287137753244e-05\n",
      "Precision(macro,weighted): 3.020327878413264e-05,9.077645087412161e-05\n",
      "F1(macro,weighted: 1.7515978878900058e-05,1.3171548972479588e-05\n",
      "Recall(macro,weighted: 2.644469960276353e-05,1.2565287137753244e-05\n",
      "Time: 2.63 second\n",
      "\n",
      "\n"
     ]
    },
    {
     "name": "stderr",
     "output_type": "stream",
     "text": [
      "/home/jovyan/.local/lib/python3.11/site-packages/sklearn/metrics/_classification.py:1334: UndefinedMetricWarning: Precision is ill-defined and being set to 0.0 in labels with no predicted samples. Use `zero_division` parameter to control this behavior.\n",
      "  _warn_prf(average, modifier, msg_start, len(result))\n",
      "/home/jovyan/.local/lib/python3.11/site-packages/sklearn/metrics/_classification.py:1334: UndefinedMetricWarning: Precision is ill-defined and being set to 0.0 in labels with no predicted samples. Use `zero_division` parameter to control this behavior.\n",
      "  _warn_prf(average, modifier, msg_start, len(result))\n"
     ]
    },
    {
     "name": "stdout",
     "output_type": "stream",
     "text": [
      "epsilon = 0.3\n",
      "Accuracy: 1.2565287137753244e-05\n",
      "Precision(macro,weighted): 3.021147809133008e-05,9.074120115395378e-05\n",
      "F1(macro,weighted: 1.7532168270002418e-05,1.317669863331578e-05\n",
      "Recall(macro,weighted: 2.644469960276353e-05,1.2565287137753244e-05\n",
      "Time: 2.63 second\n",
      "\n",
      "\n",
      "start AutoPGD\n"
     ]
    },
    {
     "name": "stderr",
     "output_type": "stream",
     "text": [
      "/home/jovyan/.local/lib/python3.11/site-packages/sklearn/metrics/_classification.py:1334: UndefinedMetricWarning: Precision is ill-defined and being set to 0.0 in labels with no predicted samples. Use `zero_division` parameter to control this behavior.\n",
      "  _warn_prf(average, modifier, msg_start, len(result))\n",
      "/home/jovyan/.local/lib/python3.11/site-packages/sklearn/metrics/_classification.py:1334: UndefinedMetricWarning: Precision is ill-defined and being set to 0.0 in labels with no predicted samples. Use `zero_division` parameter to control this behavior.\n",
      "  _warn_prf(average, modifier, msg_start, len(result))\n"
     ]
    },
    {
     "name": "stdout",
     "output_type": "stream",
     "text": [
      "epsilon = 0.01\n",
      "Accuracy: 0.9980858879260156\n",
      "Precision(macro,weighted): 0.5931995559914349,0.9977351601209847\n",
      "F1(macro,weighted: 0.5719497637613596,0.9978084778446215\n",
      "Recall(macro,weighted: 0.5559466019417476,0.9980858879260156\n",
      "Time: 2.61 second\n",
      "\n",
      "\n"
     ]
    },
    {
     "name": "stderr",
     "output_type": "stream",
     "text": [
      "/home/jovyan/.local/lib/python3.11/site-packages/sklearn/metrics/_classification.py:1334: UndefinedMetricWarning: Precision is ill-defined and being set to 0.0 in labels with no predicted samples. Use `zero_division` parameter to control this behavior.\n",
      "  _warn_prf(average, modifier, msg_start, len(result))\n",
      "/home/jovyan/.local/lib/python3.11/site-packages/sklearn/metrics/_classification.py:1334: UndefinedMetricWarning: Precision is ill-defined and being set to 0.0 in labels with no predicted samples. Use `zero_division` parameter to control this behavior.\n",
      "  _warn_prf(average, modifier, msg_start, len(result))\n"
     ]
    },
    {
     "name": "stdout",
     "output_type": "stream",
     "text": [
      "epsilon = 0.1\n",
      "Accuracy: 0.006022960968029721\n",
      "Precision(macro,weighted): 0.01657445827570309,0.07683162807015784\n",
      "F1(macro,weighted: 0.00240969912275557,0.011170265940573423\n",
      "Recall(macro,weighted: 0.0012992997515247347,0.006022960968029721\n",
      "Time: 2.60 second\n",
      "\n",
      "\n"
     ]
    },
    {
     "name": "stderr",
     "output_type": "stream",
     "text": [
      "/home/jovyan/.local/lib/python3.11/site-packages/sklearn/metrics/_classification.py:1334: UndefinedMetricWarning: Precision is ill-defined and being set to 0.0 in labels with no predicted samples. Use `zero_division` parameter to control this behavior.\n",
      "  _warn_prf(average, modifier, msg_start, len(result))\n",
      "/home/jovyan/.local/lib/python3.11/site-packages/sklearn/metrics/_classification.py:1334: UndefinedMetricWarning: Precision is ill-defined and being set to 0.0 in labels with no predicted samples. Use `zero_division` parameter to control this behavior.\n",
      "  _warn_prf(average, modifier, msg_start, len(result))\n"
     ]
    },
    {
     "name": "stdout",
     "output_type": "stream",
     "text": [
      "epsilon = 0.2\n",
      "Accuracy: 0.002228244252428242\n",
      "Precision(macro,weighted): 0.006245964191370707,0.02895344087320172\n",
      "F1(macro,weighted: 0.0008926736162090736,0.004138027688612885\n",
      "Recall(macro,weighted: 0.00048068669527896995,0.002228244252428242\n",
      "Time: 2.63 second\n",
      "\n",
      "\n"
     ]
    },
    {
     "name": "stderr",
     "output_type": "stream",
     "text": [
      "/home/jovyan/.local/lib/python3.11/site-packages/sklearn/metrics/_classification.py:1334: UndefinedMetricWarning: Precision is ill-defined and being set to 0.0 in labels with no predicted samples. Use `zero_division` parameter to control this behavior.\n",
      "  _warn_prf(average, modifier, msg_start, len(result))\n",
      "/home/jovyan/.local/lib/python3.11/site-packages/sklearn/metrics/_classification.py:1334: UndefinedMetricWarning: Precision is ill-defined and being set to 0.0 in labels with no predicted samples. Use `zero_division` parameter to control this behavior.\n",
      "  _warn_prf(average, modifier, msg_start, len(result))\n"
     ]
    },
    {
     "name": "stdout",
     "output_type": "stream",
     "text": [
      "epsilon = 0.3\n",
      "Accuracy: 5.0261148551012974e-05\n",
      "Precision(macro,weighted): 0.00014869888475836432,0.0006893002002333781\n",
      "F1(macro,weighted: 2.0211377321150365e-05,9.369072577175226e-05\n",
      "Recall(macro,weighted: 1.0842557036367743e-05,5.0261148551012974e-05\n",
      "Time: 2.64 second\n",
      "\n",
      "\n",
      "start BA\n"
     ]
    },
    {
     "name": "stderr",
     "output_type": "stream",
     "text": [
      "/home/jovyan/.local/lib/python3.11/site-packages/sklearn/metrics/_classification.py:1334: UndefinedMetricWarning: Precision is ill-defined and being set to 0.0 in labels with no predicted samples. Use `zero_division` parameter to control this behavior.\n",
      "  _warn_prf(average, modifier, msg_start, len(result))\n",
      "/home/jovyan/.local/lib/python3.11/site-packages/sklearn/metrics/_classification.py:1334: UndefinedMetricWarning: Precision is ill-defined and being set to 0.0 in labels with no predicted samples. Use `zero_division` parameter to control this behavior.\n",
      "  _warn_prf(average, modifier, msg_start, len(result))\n"
     ]
    },
    {
     "name": "stdout",
     "output_type": "stream",
     "text": [
      "epsilon = 0.01\n",
      "Accuracy: 0.9982994978073574\n",
      "Precision(macro,weighted): 0.5948087083935087,0.9979475727559578\n",
      "F1(macro,weighted: 0.576475445170083,0.9980451746503273\n",
      "Recall(macro,weighted: 0.562135922330097,0.9982994978073574\n",
      "Time: 2.61 second\n",
      "\n",
      "\n"
     ]
    },
    {
     "name": "stderr",
     "output_type": "stream",
     "text": [
      "/home/jovyan/.local/lib/python3.11/site-packages/sklearn/metrics/_classification.py:1334: UndefinedMetricWarning: Precision is ill-defined and being set to 0.0 in labels with no predicted samples. Use `zero_division` parameter to control this behavior.\n",
      "  _warn_prf(average, modifier, msg_start, len(result))\n",
      "/home/jovyan/.local/lib/python3.11/site-packages/sklearn/metrics/_classification.py:1334: UndefinedMetricWarning: Precision is ill-defined and being set to 0.0 in labels with no predicted samples. Use `zero_division` parameter to control this behavior.\n",
      "  _warn_prf(average, modifier, msg_start, len(result))\n"
     ]
    },
    {
     "name": "stdout",
     "output_type": "stream",
     "text": [
      "epsilon = 0.1\n",
      "Accuracy: 0.9982994978073574\n",
      "Precision(macro,weighted): 0.5948087083935087,0.9979475727559578\n",
      "F1(macro,weighted: 0.576475445170083,0.9980451746503273\n",
      "Recall(macro,weighted: 0.562135922330097,0.9982994978073574\n",
      "Time: 2.61 second\n",
      "\n",
      "\n"
     ]
    },
    {
     "name": "stderr",
     "output_type": "stream",
     "text": [
      "/home/jovyan/.local/lib/python3.11/site-packages/sklearn/metrics/_classification.py:1334: UndefinedMetricWarning: Precision is ill-defined and being set to 0.0 in labels with no predicted samples. Use `zero_division` parameter to control this behavior.\n",
      "  _warn_prf(average, modifier, msg_start, len(result))\n",
      "/home/jovyan/.local/lib/python3.11/site-packages/sklearn/metrics/_classification.py:1334: UndefinedMetricWarning: Precision is ill-defined and being set to 0.0 in labels with no predicted samples. Use `zero_division` parameter to control this behavior.\n",
      "  _warn_prf(average, modifier, msg_start, len(result))\n"
     ]
    },
    {
     "name": "stdout",
     "output_type": "stream",
     "text": [
      "epsilon = 0.2\n",
      "Accuracy: 0.9982994978073574\n",
      "Precision(macro,weighted): 0.5948087083935087,0.9979475727559578\n",
      "F1(macro,weighted: 0.576475445170083,0.9980451746503273\n",
      "Recall(macro,weighted: 0.562135922330097,0.9982994978073574\n",
      "Time: 2.61 second\n",
      "\n",
      "\n"
     ]
    },
    {
     "name": "stderr",
     "output_type": "stream",
     "text": [
      "/home/jovyan/.local/lib/python3.11/site-packages/sklearn/metrics/_classification.py:1334: UndefinedMetricWarning: Precision is ill-defined and being set to 0.0 in labels with no predicted samples. Use `zero_division` parameter to control this behavior.\n",
      "  _warn_prf(average, modifier, msg_start, len(result))\n",
      "/home/jovyan/.local/lib/python3.11/site-packages/sklearn/metrics/_classification.py:1334: UndefinedMetricWarning: Precision is ill-defined and being set to 0.0 in labels with no predicted samples. Use `zero_division` parameter to control this behavior.\n",
      "  _warn_prf(average, modifier, msg_start, len(result))\n"
     ]
    },
    {
     "name": "stdout",
     "output_type": "stream",
     "text": [
      "epsilon = 0.3\n",
      "Accuracy: 0.9982994978073574\n",
      "Precision(macro,weighted): 0.5948087083935087,0.9979475727559578\n",
      "F1(macro,weighted: 0.576475445170083,0.9980451746503273\n",
      "Recall(macro,weighted: 0.562135922330097,0.9982994978073574\n",
      "Time: 2.61 second\n",
      "\n",
      "\n",
      "start HopSkipJump\n",
      "epsilon = 0\n",
      "Accuracy: 0.5563783491725759\n",
      "Precision(macro,weighted): 0.22528027479563076,0.9028840444071512\n",
      "F1(macro,weighted: 0.1933069725011623,0.671981733610544\n",
      "Recall(macro,weighted: 0.283332935429603,0.5563783491725759\n",
      "Time: 2.67 second\n",
      "\n",
      "\n",
      "start ZOO\n"
     ]
    },
    {
     "name": "stderr",
     "output_type": "stream",
     "text": [
      "/home/jovyan/.local/lib/python3.11/site-packages/sklearn/metrics/_classification.py:1334: UndefinedMetricWarning: Precision is ill-defined and being set to 0.0 in labels with no predicted samples. Use `zero_division` parameter to control this behavior.\n",
      "  _warn_prf(average, modifier, msg_start, len(result))\n",
      "/home/jovyan/.local/lib/python3.11/site-packages/sklearn/metrics/_classification.py:1334: UndefinedMetricWarning: Precision is ill-defined and being set to 0.0 in labels with no predicted samples. Use `zero_division` parameter to control this behavior.\n",
      "  _warn_prf(average, modifier, msg_start, len(result))\n"
     ]
    },
    {
     "name": "stdout",
     "output_type": "stream",
     "text": [
      "epsilon = 0\n",
      "Accuracy: 0.9981822217940717\n",
      "Precision(macro,weighted): 0.593777550122324,0.9978295900788636\n",
      "F1(macro,weighted: 0.5739471068859714,0.9979156854547531\n",
      "Recall(macro,weighted: 0.5587378640776699,0.9981822217940717\n",
      "Time: 2.60 second\n",
      "\n",
      "\n"
     ]
    },
    {
     "name": "stderr",
     "output_type": "stream",
     "text": [
      "/home/jovyan/.local/lib/python3.11/site-packages/sklearn/metrics/_classification.py:1334: UndefinedMetricWarning: Precision is ill-defined and being set to 0.0 in labels with no predicted samples. Use `zero_division` parameter to control this behavior.\n",
      "  _warn_prf(average, modifier, msg_start, len(result))\n",
      "/home/jovyan/.local/lib/python3.11/site-packages/sklearn/metrics/_classification.py:1334: UndefinedMetricWarning: Precision is ill-defined and being set to 0.0 in labels with no predicted samples. Use `zero_division` parameter to control this behavior.\n",
      "  _warn_prf(average, modifier, msg_start, len(result))\n"
     ]
    },
    {
     "name": "stdout",
     "output_type": "stream",
     "text": [
      "epsilon = 0.01\n",
      "Accuracy: 0.9981822217940717\n",
      "Precision(macro,weighted): 0.593777550122324,0.9978295900788636\n",
      "F1(macro,weighted: 0.5739471068859714,0.9979156854547531\n",
      "Recall(macro,weighted: 0.5587378640776699,0.9981822217940717\n",
      "Time: 2.60 second\n",
      "\n",
      "\n"
     ]
    },
    {
     "name": "stderr",
     "output_type": "stream",
     "text": [
      "/home/jovyan/.local/lib/python3.11/site-packages/sklearn/metrics/_classification.py:1334: UndefinedMetricWarning: Precision is ill-defined and being set to 0.0 in labels with no predicted samples. Use `zero_division` parameter to control this behavior.\n",
      "  _warn_prf(average, modifier, msg_start, len(result))\n",
      "/home/jovyan/.local/lib/python3.11/site-packages/sklearn/metrics/_classification.py:1334: UndefinedMetricWarning: Precision is ill-defined and being set to 0.0 in labels with no predicted samples. Use `zero_division` parameter to control this behavior.\n",
      "  _warn_prf(average, modifier, msg_start, len(result))\n"
     ]
    },
    {
     "name": "stdout",
     "output_type": "stream",
     "text": [
      "epsilon = 0.1\n",
      "Accuracy: 0.9981822217940717\n",
      "Precision(macro,weighted): 0.593777550122324,0.9978295900788636\n",
      "F1(macro,weighted: 0.5739471068859714,0.9979156854547531\n",
      "Recall(macro,weighted: 0.5587378640776699,0.9981822217940717\n",
      "Time: 2.62 second\n",
      "\n",
      "\n"
     ]
    },
    {
     "name": "stderr",
     "output_type": "stream",
     "text": [
      "/home/jovyan/.local/lib/python3.11/site-packages/sklearn/metrics/_classification.py:1334: UndefinedMetricWarning: Precision is ill-defined and being set to 0.0 in labels with no predicted samples. Use `zero_division` parameter to control this behavior.\n",
      "  _warn_prf(average, modifier, msg_start, len(result))\n",
      "/home/jovyan/.local/lib/python3.11/site-packages/sklearn/metrics/_classification.py:1334: UndefinedMetricWarning: Precision is ill-defined and being set to 0.0 in labels with no predicted samples. Use `zero_division` parameter to control this behavior.\n",
      "  _warn_prf(average, modifier, msg_start, len(result))\n"
     ]
    },
    {
     "name": "stdout",
     "output_type": "stream",
     "text": [
      "epsilon = 0.2\n",
      "Accuracy: 0.9981822217940717\n",
      "Precision(macro,weighted): 0.593777550122324,0.9978295900788636\n",
      "F1(macro,weighted: 0.5739471068859714,0.9979156854547531\n",
      "Recall(macro,weighted: 0.5587378640776699,0.9981822217940717\n",
      "Time: 2.61 second\n",
      "\n",
      "\n"
     ]
    },
    {
     "name": "stderr",
     "output_type": "stream",
     "text": [
      "/home/jovyan/.local/lib/python3.11/site-packages/sklearn/metrics/_classification.py:1334: UndefinedMetricWarning: Precision is ill-defined and being set to 0.0 in labels with no predicted samples. Use `zero_division` parameter to control this behavior.\n",
      "  _warn_prf(average, modifier, msg_start, len(result))\n",
      "/home/jovyan/.local/lib/python3.11/site-packages/sklearn/metrics/_classification.py:1334: UndefinedMetricWarning: Precision is ill-defined and being set to 0.0 in labels with no predicted samples. Use `zero_division` parameter to control this behavior.\n",
      "  _warn_prf(average, modifier, msg_start, len(result))\n"
     ]
    },
    {
     "name": "stdout",
     "output_type": "stream",
     "text": [
      "epsilon = 0.3\n",
      "Accuracy: 0.9981822217940717\n",
      "Precision(macro,weighted): 0.593777550122324,0.9978295900788636\n",
      "F1(macro,weighted: 0.5739471068859714,0.9979156854547531\n",
      "Recall(macro,weighted: 0.5587378640776699,0.9981822217940717\n",
      "Time: 2.61 second\n",
      "\n",
      "\n"
     ]
    }
   ],
   "source": [
    "epsilon_values = [0.01, 0.1, 0.2, 0.3]\n",
    "\n",
    "print(\"start DF\")\n",
    "for epsilon in epsilon_values:\n",
    "    filename = f'/home/jovyan/Wustl_iiot/transfer_attack/x_test_adv_DF_eps_{epsilon}.npy'\n",
    "    x_test_adv = np.load(filename)\n",
    "\n",
    "    calculate_performance_metrics(x_test_adv, y_test, FGSM_Trainer, 'FGSM_Trainer', 'DF', epsilon)\n",
    "    \n",
    "# Iterate over epsilon values\n",
    "print(\"start AutoPGD\")\n",
    "for epsilon in epsilon_values:\n",
    "    filename = f'/home/jovyan/Wustl_iiot/transfer_attack/x_test_adv_AutoPGD_eps_{epsilon}.npy'\n",
    "    x_test_adv = np.load(filename)\n",
    "\n",
    "    calculate_performance_metrics(x_test_adv, y_test, FGSM_Trainer, 'FGSM_Trainer', 'AutoPGD', epsilon)\n",
    "\n",
    "print(\"start BA\")\n",
    "for epsilon in epsilon_values:\n",
    "    filename = f'/home/jovyan/Wustl_iiot/transfer_attack/x_test_adv_BA_eps_{epsilon}.npy'\n",
    "    x_test_adv = np.load(filename)\n",
    "\n",
    "    calculate_performance_metrics(x_test_adv, y_test, FGSM_Trainer, 'FGSM_Trainer', 'BA', epsilon)\n",
    "\n",
    "print(\"start HopSkipJump\")\n",
    "filename = f'/home/jovyan/Wustl_iiot/transfer_attack/x_test_adv_HopSkipJump_eps_0.npy'\n",
    "x_test_adv = np.load(filename)\n",
    "\n",
    "calculate_performance_metrics(x_test_adv, y_test, FGSM_Trainer, 'FGSM_Trainer', 'HopSkipJump', '0')\n",
    "\n",
    "print(\"start ZOO\")\n",
    "ZOO_epsilon_values = [0, 0.01, 0.1, 0.2, 0.3]\n",
    "# Iterate over epsilon values\n",
    "for epsilon in ZOO_epsilon_values:\n",
    "    filename = f'/home/jovyan/Wustl_iiot/transfer_attack/x_test_adv_ZOO_eps_{epsilon}.npy'\n",
    "    x_test_adv = np.load(filename)\n",
    "\n",
    "    calculate_performance_metrics(x_test_adv, y_test, FGSM_Trainer, 'FGSM_Trainer', 'ZOO', epsilon)"
   ]
  },
  {
   "cell_type": "code",
   "execution_count": null,
   "id": "65a0d09b-a30a-4ad0-b7d6-1bebac5fe6dc",
   "metadata": {},
   "outputs": [],
   "source": []
  }
 ],
 "metadata": {
  "kernelspec": {
   "display_name": "Python 3 (ipykernel)",
   "language": "python",
   "name": "python3"
  },
  "language_info": {
   "codemirror_mode": {
    "name": "ipython",
    "version": 3
   },
   "file_extension": ".py",
   "mimetype": "text/x-python",
   "name": "python",
   "nbconvert_exporter": "python",
   "pygments_lexer": "ipython3",
   "version": "3.11.5"
  }
 },
 "nbformat": 4,
 "nbformat_minor": 5
}
