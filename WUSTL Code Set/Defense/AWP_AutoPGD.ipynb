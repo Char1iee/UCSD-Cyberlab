{
 "cells": [
  {
   "cell_type": "code",
   "execution_count": 1,
   "id": "fdc49b0e-8838-4c2a-b4f3-ec519c98d9c2",
   "metadata": {},
   "outputs": [
    {
     "name": "stderr",
     "output_type": "stream",
     "text": [
      "/opt/conda/lib/python3.11/site-packages/tqdm/auto.py:21: TqdmWarning: IProgress not found. Please update jupyter and ipywidgets. See https://ipywidgets.readthedocs.io/en/stable/user_install.html\n",
      "  from .autonotebook import tqdm as notebook_tqdm\n"
     ]
    }
   ],
   "source": [
    "import numpy as np\n",
    "import pandas as pd\n",
    "\n",
    "from sklearn.metrics import accuracy_score, precision_recall_fscore_support, roc_auc_score, confusion_matrix\n",
    "from sklearn.preprocessing import label_binarize\n",
    "\n",
    "import torch\n",
    "import torch.nn as nn\n",
    "import torch.optim as optim\n",
    "import torch.nn.functional as F\n",
    "from torch.utils.data import DataLoader, TensorDataset\n",
    "\n",
    "from art.attacks.evasion import SimBA, SpatialTransformation, DeepFool, BasicIterativeMethod, FastGradientMethod, ProjectedGradientDescent\n",
    "from art.estimators.classification import PyTorchClassifier\n",
    "\n",
    "from art.defences.trainer import AdversarialTrainerAWPPyTorch\n",
    "\n",
    "import time"
   ]
  },
  {
   "cell_type": "code",
   "execution_count": 2,
   "id": "452730d1-473b-4ed3-a2c6-824fa3256d81",
   "metadata": {},
   "outputs": [],
   "source": [
    "head = {\n",
    "            \"model\" : '',\n",
    "            \"attack_model\": '',\n",
    "            'epsilon': '',\n",
    "            'Accuracy': '',\n",
    "            'Macro Precision': '',\n",
    "            'Weighted Precision': '',\n",
    "            'Macro Recall': '',\n",
    "            'Weighted Recall': '',\n",
    "            'Macro F1': '',\n",
    "            'Weighted F1': '',\n",
    "            # 'Macro AUC': '',\n",
    "            # 'Weighted AUC': '',\n",
    "            # 'TPR': '',\n",
    "            # 'FNR': '',\n",
    "            # 'TNR': '',\n",
    "            # 'FPR': '',\n",
    "        }\n",
    "head = pd.DataFrame([head])\n",
    "head.to_csv(\"/home/jovyan/Defense/AWP/AWP_AutoPGD.csv\", mode='a', index=False)"
   ]
  },
  {
   "cell_type": "code",
   "execution_count": 3,
   "id": "16d8e2c2-2a14-4dde-93f0-14d395f137b5",
   "metadata": {},
   "outputs": [],
   "source": [
    "from sklearn.metrics import confusion_matrix, precision_score, accuracy_score, f1_score,recall_score, roc_auc_score\n",
    "import pandas as pd\n",
    "import matplotlib.pyplot as plt\n",
    "from sklearn.metrics import confusion_matrix, ConfusionMatrixDisplay\n",
    "\n",
    "def calculate_performance_metrics(x_test_adv, y_test, classifier, model_name, attack_name, epsilon):\n",
    "\n",
    "    start_time = time.time()\n",
    "\n",
    "    preds = np.argmax(classifier.predict(x_test_adv), axis=1)\n",
    "    # preds = classifier.predict(x_test_adv)\n",
    "\n",
    "    y_hat = preds\n",
    "    # y_test_arg = np.argmax(y_test, axis=-1)\n",
    "    y_test_arg = y_test\n",
    "\n",
    "\n",
    "    accuracy = accuracy_score(y_test_arg, y_hat)\n",
    "    precision_macro = precision_score(y_test_arg, y_hat, average='macro')\n",
    "    # precision_micro = precision_score(y_test_arg, y_hat, average='micro')\n",
    "    precision_weighted = precision_score(y_test_arg, y_hat, average='weighted')\n",
    "    f1_macro = f1_score(y_test_arg, y_hat, average='macro')\n",
    "    # f1_micro = f1_score(y_test_arg, y_hat, average='micro')\n",
    "    f1_weighted = f1_score(y_test_arg, y_hat, average='weighted')\n",
    "    recall_macro = recall_score(y_test_arg, y_hat, average='macro')\n",
    "    # recall_micro = recall_score(y_test_arg, y_hat, average='micro')\n",
    "    recall_weighted = recall_score(y_test_arg, y_hat, average='weighted')\n",
    "\n",
    "\n",
    "    print(f\"epsilon = {epsilon}\")\n",
    "\n",
    "    print(f\"Accuracy: {accuracy}\")\n",
    "    # print(f\"Precision(micro,macro,weighted): {precision_micro},{precision_macro},{precision_weighted}\")\n",
    "    # print(f\"F1(micro,macro,weighted: {f1_micro},{f1_macro},{f1_weighted}\")\n",
    "    # print(f\"Recall(micro,macro,weighted: {recall_micro},{recall_macro},{recall_weighted}\")\n",
    "    print(f\"Precision(macro,weighted): {precision_macro},{precision_weighted}\")\n",
    "    print(f\"F1(macro,weighted: {f1_macro},{f1_weighted}\")\n",
    "    print(f\"Recall(macro,weighted: {recall_macro},{recall_weighted}\")\n",
    "\n",
    "\n",
    "    \n",
    "    metrics = {\n",
    "        \"model\" : model_name,\n",
    "        \"attack_model\" : attack_name,\n",
    "        \"epsilon\" : epsilon,\n",
    "        \"Accuracy\": accuracy,\n",
    "        # \"Precision-micro\": precision_micro,\n",
    "        \"Precision-macro\": precision_macro,\n",
    "        \"Precision-weighted\": precision_weighted,\n",
    "        # \"Recall_micro\": recall_micro,\n",
    "        \"Recall_macro\": recall_macro,\n",
    "        \"Recall_weighted\": recall_weighted,\n",
    "        \n",
    "        # \"F1-micro\": f1_micro,\n",
    "        \"F1-macro\": f1_macro,\n",
    "        \"F1-weighted\": f1_weighted,\n",
    "\n",
    "    }\n",
    "    metrics_df = pd.DataFrame([metrics])\n",
    "    metrics_df.to_csv(\"/home/jovyan/Defense/AWP/AWP_AutoPGD.csv\", mode='a', index=False, header=False)\n",
    "\n",
    "    end_time = time.time()\n",
    "    elapsed_time = end_time - start_time\n",
    "    print(f\"Time: {elapsed_time:.2f} second\\n\\n\")"
   ]
  },
  {
   "cell_type": "code",
   "execution_count": 4,
   "id": "7b7e28fa-d8bf-43ea-9022-2825067b2132",
   "metadata": {},
   "outputs": [
    {
     "name": "stdout",
     "output_type": "stream",
     "text": [
      "Using cuda device\n"
     ]
    }
   ],
   "source": [
    "device = torch.device(\"cuda\" if torch.cuda.is_available() else \"cpu\")\n",
    "print(f\"Using {device} device\")"
   ]
  },
  {
   "cell_type": "code",
   "execution_count": 5,
   "id": "e4c85229-1dc7-4921-a5a3-5ce8487a11fb",
   "metadata": {},
   "outputs": [],
   "source": [
    "x_test = np.load('/home/jovyan/Wustl_iiot/x_test.npy')\n",
    "x_train = np.load('/home/jovyan/Wustl_iiot/x_train.npy')\n",
    "x_val = np.load('/home/jovyan/Wustl_iiot/x_val.npy')\n",
    "y_test = np.load('/home/jovyan/Wustl_iiot/y_test.npy')\n",
    "y_train = np.load('/home/jovyan/Wustl_iiot/y_train.npy')\n",
    "y_val = np.load('/home/jovyan/Wustl_iiot/y_val.npy')\n",
    "\n",
    "\n",
    "# train_dataset = TensorDataset(x_train_tensor, y_train_tensor)\n",
    "# train_loader = DataLoader(train_dataset, batch_size=100, shuffle=True)\n",
    "\n",
    "# val_dataset = TensorDataset(x_val_tensor, y_val_tensor)\n",
    "# val_loader = DataLoader(val_dataset, batch_size=100, shuffle=True)"
   ]
  },
  {
   "cell_type": "code",
   "execution_count": 6,
   "id": "816993b9-2d83-4217-8804-a68f4aa9992b",
   "metadata": {},
   "outputs": [],
   "source": [
    "input_shape = x_train.shape[1]\n",
    "output_shape = len(np.unique(y_train))"
   ]
  },
  {
   "cell_type": "code",
   "execution_count": 7,
   "id": "b23e7c1b-ba47-4409-9544-5f2f90214545",
   "metadata": {},
   "outputs": [],
   "source": [
    "class DNNModel(nn.Module):\n",
    "    def __init__(self, input_size, output_size):\n",
    "        super(DNNModel, self).__init__()\n",
    "        self.fc1 = nn.Linear(input_size, 50)\n",
    "        self.fc2 = nn.Linear(50, 30)\n",
    "        self.fc3 = nn.Linear(30, 20)\n",
    "        self.fc4 = nn.Linear(20, output_size)\n",
    "\n",
    "    def forward(self, x):\n",
    "        x = F.relu(self.fc1(x))\n",
    "        x = F.relu(self.fc2(x))\n",
    "        x = F.relu(self.fc3(x))\n",
    "        x = self.fc4(x)\n",
    "        return x"
   ]
  },
  {
   "cell_type": "code",
   "execution_count": 8,
   "id": "be599795-b056-4b24-acd2-8edbe7a2c859",
   "metadata": {},
   "outputs": [
    {
     "data": {
      "text/plain": [
       "<All keys matched successfully>"
      ]
     },
     "execution_count": 8,
     "metadata": {},
     "output_type": "execute_result"
    }
   ],
   "source": [
    "model = DNNModel(input_size=input_shape, output_size=output_shape).to(device)\n",
    "model.load_state_dict(torch.load(\"/home/jovyan/Wustl_iiot/transfer_attack/dnn_pytorch.pt\"))"
   ]
  },
  {
   "cell_type": "code",
   "execution_count": 9,
   "id": "e4c38ec7-224b-4f41-b395-35eec4464fc1",
   "metadata": {},
   "outputs": [],
   "source": [
    "x_train = x_train.astype(np.float32)\n",
    "x_test = x_test.astype(np.float32)\n",
    "x_val = x_val.astype(np.float32)"
   ]
  },
  {
   "cell_type": "code",
   "execution_count": 10,
   "id": "4d0f6d43-9ae1-48ef-ac57-cdd68880ed22",
   "metadata": {},
   "outputs": [],
   "source": [
    "criterion = nn.CrossEntropyLoss()\n",
    "optimizer = optim.Adam(model.parameters(), lr=0.001)\n",
    "    \n",
    "classifier = PyTorchClassifier(\n",
    "    model=model,\n",
    "    clip_values=(-5, 5),\n",
    "    loss=criterion,\n",
    "    optimizer=optimizer,\n",
    "    input_shape=(input_shape,),\n",
    "    nb_classes=output_shape,\n",
    "    device_type='gpu'\n",
    ")"
   ]
  },
  {
   "cell_type": "code",
   "execution_count": 14,
   "id": "8c6d4742-62fc-4fcc-b423-fd2b974c4023",
   "metadata": {},
   "outputs": [],
   "source": [
    "from art.attacks.evasion import SimBA, SpatialTransformation, DeepFool, BasicIterativeMethod, FastGradientMethod, ProjectedGradientDescent, AutoProjectedGradientDescent\n",
    "\n",
    "# FGSM = FastGradientMethod(estimator=classifier, eps=0.3)\n",
    "# BIM = BasicIterativeMethod(estimator=classifier, eps=0.3, max_iter=3)\n",
    "# PGD = ProjectedGradientDescent(estimator=classifier, eps=0.3, max_iter=3)\n",
    "# DF = DeepFool(classifier, epsilon=0.3, verbose=False, max_iter=3)\n",
    "AutoPGD = AutoProjectedGradientDescent(classifier, eps=0.3, max_iter = 10, batch_size=128, verbose = False)\n"
   ]
  },
  {
   "cell_type": "code",
   "execution_count": 15,
   "id": "132defe0-b404-4e54-954a-87118f51a031",
   "metadata": {},
   "outputs": [],
   "source": [
    "# FGSM_Trainer = AdversarialTrainerAWPPyTorch(classifier, classifier, FGSM, \"TRADES\", 0.1, 6.0, 0)\n",
    "# BIM_Trainer = AdversarialTrainerAWPPyTorch(classifier, classifier, BIM, \"TRADES\", 0.1, 6.0, 0)\n",
    "# PGD_Trainer = AdversarialTrainerAWPPyTorch(classifier, classifier, PGD, \"TRADES\", 0.1, 6.0, 0)\n",
    "# DF_Trainer = AdversarialTrainerAWPPyTorch(classifier, classifier, DF, \"TRADES\", 0.1, 6.0, 0)\n",
    "AutoPGD_Trainer = AdversarialTrainerAWPPyTorch(classifier, classifier, AutoPGD, \"TRADES\", 0.1, 6.0, 0)"
   ]
  },
  {
   "cell_type": "code",
   "execution_count": 14,
   "id": "c467b70d-508b-4f6a-bd67-43fe2b4f04ea",
   "metadata": {},
   "outputs": [],
   "source": [
    "# start_time = time.time()\n",
    "# FGSM_Trainer.fit(x_train, y_train, epochs=10, batch_size=128,\n",
    "#                      validation_data=(x_val, y_val))\n",
    "# end_time = time.time()\n",
    "# elapsed_time = end_time - start_time\n",
    "# print(f\"Time: {elapsed_time:.2f} second\\n\\n\")"
   ]
  },
  {
   "cell_type": "code",
   "execution_count": 15,
   "id": "eb567019-e97f-49ed-9401-00dbc9223e1f",
   "metadata": {},
   "outputs": [],
   "source": [
    "# start_time = time.time()\n",
    "# BIM_Trainer.fit(x_train, y_train, epochs=10, batch_size=128,\n",
    "#                      validation_data=(x_val, y_val))\n",
    "# end_time = time.time()\n",
    "# elapsed_time = end_time - start_time\n",
    "# print(f\"Time: {elapsed_time:.2f} second\\n\\n\")"
   ]
  },
  {
   "cell_type": "code",
   "execution_count": 16,
   "id": "9dac5c8b-46c9-4c25-8977-029a4e061594",
   "metadata": {
    "scrolled": true
   },
   "outputs": [],
   "source": [
    "# start_time = time.time()\n",
    "# PGD_Trainer.fit(x_train, y_train, epochs=10, batch_size=128,\n",
    "#                      validation_data=(x_val, y_val))\n",
    "# end_time = time.time()\n",
    "# elapsed_time = end_time - start_time\n",
    "# print(f\"Time: {elapsed_time:.2f} second\\n\\n\")"
   ]
  },
  {
   "cell_type": "code",
   "execution_count": null,
   "id": "1ece198d-b050-497f-86b5-abf997ae4454",
   "metadata": {},
   "outputs": [],
   "source": [
    "# start_time = time.time()\n",
    "# DF_Trainer.fit(x_train, y_train, epochs=5, batch_size=128,\n",
    "#                      validation_data=(x_val, y_val))\n",
    "# end_time = time.time()\n",
    "# elapsed_time = end_time - start_time\n",
    "# print(f\"Time: {elapsed_time:.2f} second\\n\\n\")"
   ]
  },
  {
   "cell_type": "code",
   "execution_count": 16,
   "id": "949ae1ad-ad12-45fe-b4b9-c838e151b6a5",
   "metadata": {},
   "outputs": [
    {
     "name": "stderr",
     "output_type": "stream",
     "text": [
      "Adversarial Training AWP with TRADES - Epochs: 100%|██████████| 20/20 [5:27:57<00:00, 983.88s/it]   "
     ]
    },
    {
     "name": "stdout",
     "output_type": "stream",
     "text": [
      "Time: 19677.53 second\n",
      "\n",
      "\n"
     ]
    },
    {
     "name": "stderr",
     "output_type": "stream",
     "text": [
      "\n"
     ]
    }
   ],
   "source": [
    "start_time = time.time()\n",
    "AutoPGD_Trainer.fit(x_train, y_train, epochs=5, batch_size=128,\n",
    "                     validation_data=(x_val, y_val))\n",
    "end_time = time.time()\n",
    "elapsed_time = end_time - start_time\n",
    "print(f\"Time: {elapsed_time:.2f} second\\n\\n\")"
   ]
  },
  {
   "cell_type": "code",
   "execution_count": 16,
   "id": "ea5567e3-cdc2-4c06-88e9-92004ca18eb0",
   "metadata": {},
   "outputs": [
    {
     "name": "stdout",
     "output_type": "stream",
     "text": [
      "epsilon = 0\n",
      "Accuracy: 0.9982953093783115\n",
      "Precision(macro,weighted): 0.5947964623438752,0.9979435892168569\n",
      "F1(macro,weighted: 0.5763951699364166,0.9980405778895473\n",
      "Recall(macro,weighted: 0.5620145631067961,0.9982953093783115\n",
      "Time: 2.71 second\n",
      "\n",
      "\n"
     ]
    },
    {
     "name": "stderr",
     "output_type": "stream",
     "text": [
      "/home/jovyan/.local/lib/python3.11/site-packages/sklearn/metrics/_classification.py:1334: UndefinedMetricWarning: Precision is ill-defined and being set to 0.0 in labels with no predicted samples. Use `zero_division` parameter to control this behavior.\n",
      "  _warn_prf(average, modifier, msg_start, len(result))\n",
      "/home/jovyan/.local/lib/python3.11/site-packages/sklearn/metrics/_classification.py:1334: UndefinedMetricWarning: Precision is ill-defined and being set to 0.0 in labels with no predicted samples. Use `zero_division` parameter to control this behavior.\n",
      "  _warn_prf(average, modifier, msg_start, len(result))\n"
     ]
    }
   ],
   "source": [
    "# calculate_performance_metrics(x_test, y_test, BIM_Trainer, 'BIM_Trainer', 'baseline', '0')\n",
    "# calculate_performance_metrics(x_test, y_test, FGSM_Trainer, 'FGSM_Trainer', 'baseline', '0')\n",
    "# calculate_performance_metrics(x_test, y_test, PGD_Trainer, 'PGD_Trainer', 'baseline', '0')"
   ]
  },
  {
   "cell_type": "code",
   "execution_count": null,
   "id": "9123acf2-1799-48c0-ad16-065d17d6d213",
   "metadata": {
    "scrolled": true
   },
   "outputs": [],
   "source": [
    "# epsilon_values = [0.01, 0.1, 0.2, 0.3]\n",
    "\n",
    "# Iterate over epsilon values\n",
    "# for epsilon in epsilon_values:\n",
    "#     filename = f'/home/jovyan/Wustl_iiot/transfer_attack/x_test_adv_BIM_eps_{epsilon}.npy'\n",
    "#     x_test_adv = np.load(filename)\n",
    "\n",
    "#     calculate_performance_metrics(x_test_adv, y_test, BIM_Trainer, 'BIM_Trainer', 'BIM', epsilon)\n",
    "\n",
    "# for epsilon in epsilon_values:\n",
    "#     filename = f'/home/jovyan/Wustl_iiot/transfer_attack/x_test_adv_FGSM_eps_{epsilon}.npy'\n",
    "#     x_test_adv = np.load(filename)\n",
    "\n",
    "#     calculate_performance_metrics(x_test_adv, y_test, FGSM_Trainer, 'FGSM_Trainer', 'FGSM', epsilon)\n",
    "\n",
    "# for epsilon in epsilon_values:\n",
    "#     filename = f'/home/jovyan/Wustl_iiot/transfer_attack/x_test_adv_PGD_eps_{epsilon}.npy'\n",
    "#     x_test_adv = np.load(filename)\n",
    "\n",
    "#     calculate_performance_metrics(x_test_adv, y_test, PGD_Trainer, 'PGD_Trainer', 'PGD', epsilon)"
   ]
  },
  {
   "cell_type": "code",
   "execution_count": 17,
   "id": "a3e9e3f9-1f7b-4f66-9f0a-f4087dc9a48d",
   "metadata": {},
   "outputs": [],
   "source": [
    "torch.save(AutoPGD_Trainer, \"/home/jovyan/Defense/AWP/AWP_AutoPGD.pt\")"
   ]
  },
  {
   "cell_type": "code",
   "execution_count": null,
   "id": "8a9f8ea5-a17f-4798-a33a-eb75be5c1b00",
   "metadata": {},
   "outputs": [],
   "source": [
    "# skip start here"
   ]
  },
  {
   "cell_type": "code",
   "execution_count": 18,
   "id": "fecfee58-40cf-4fd2-b305-af78de99ae23",
   "metadata": {},
   "outputs": [],
   "source": [
    "AutoPGD_Trainer = torch.load(\"/home/jovyan/Defense/AWP/AWP_AutoPGD.pt\")\n"
   ]
  },
  {
   "cell_type": "code",
   "execution_count": 19,
   "id": "d8ae2b3a-3ce3-4cfb-9c8c-d5835a4444a4",
   "metadata": {},
   "outputs": [
    {
     "name": "stderr",
     "output_type": "stream",
     "text": [
      "/home/jovyan/.local/lib/python3.11/site-packages/sklearn/metrics/_classification.py:1334: UndefinedMetricWarning: Precision is ill-defined and being set to 0.0 in labels with no predicted samples. Use `zero_division` parameter to control this behavior.\n",
      "  _warn_prf(average, modifier, msg_start, len(result))\n",
      "/home/jovyan/.local/lib/python3.11/site-packages/sklearn/metrics/_classification.py:1334: UndefinedMetricWarning: Precision is ill-defined and being set to 0.0 in labels with no predicted samples. Use `zero_division` parameter to control this behavior.\n",
      "  _warn_prf(average, modifier, msg_start, len(result))\n"
     ]
    },
    {
     "name": "stdout",
     "output_type": "stream",
     "text": [
      "epsilon = 0\n",
      "Accuracy: 0.9992963439202858\n",
      "Precision(macro,weighted): 0.7945788214251042,0.9991192183142162\n",
      "F1(macro,weighted: 0.7487562825516576,0.9991946828363167\n",
      "Recall(macro,weighted: 0.7176624346527258,0.9992963439202858\n",
      "Time: 2.76 second\n",
      "\n",
      "\n",
      "start BIM\n"
     ]
    },
    {
     "name": "stderr",
     "output_type": "stream",
     "text": [
      "/home/jovyan/.local/lib/python3.11/site-packages/sklearn/metrics/_classification.py:1334: UndefinedMetricWarning: Precision is ill-defined and being set to 0.0 in labels with no predicted samples. Use `zero_division` parameter to control this behavior.\n",
      "  _warn_prf(average, modifier, msg_start, len(result))\n",
      "/home/jovyan/.local/lib/python3.11/site-packages/sklearn/metrics/_classification.py:1334: UndefinedMetricWarning: Precision is ill-defined and being set to 0.0 in labels with no predicted samples. Use `zero_division` parameter to control this behavior.\n",
      "  _warn_prf(average, modifier, msg_start, len(result))\n"
     ]
    },
    {
     "name": "stdout",
     "output_type": "stream",
     "text": [
      "epsilon = 0.01\n",
      "Accuracy: 0.9988607472995104\n",
      "Precision(macro,weighted): 0.792965392245776,0.9986855572595491\n",
      "F1(macro,weighted: 0.6910966996067209,0.9987192954492665\n",
      "Recall(macro,weighted: 0.6492896117635131,0.9988607472995104\n",
      "Time: 2.74 second\n",
      "\n",
      "\n"
     ]
    },
    {
     "name": "stderr",
     "output_type": "stream",
     "text": [
      "/home/jovyan/.local/lib/python3.11/site-packages/sklearn/metrics/_classification.py:1334: UndefinedMetricWarning: Precision is ill-defined and being set to 0.0 in labels with no predicted samples. Use `zero_division` parameter to control this behavior.\n",
      "  _warn_prf(average, modifier, msg_start, len(result))\n",
      "/home/jovyan/.local/lib/python3.11/site-packages/sklearn/metrics/_classification.py:1334: UndefinedMetricWarning: Precision is ill-defined and being set to 0.0 in labels with no predicted samples. Use `zero_division` parameter to control this behavior.\n",
      "  _warn_prf(average, modifier, msg_start, len(result))\n"
     ]
    },
    {
     "name": "stdout",
     "output_type": "stream",
     "text": [
      "epsilon = 0.1\n",
      "Accuracy: 0.018307623359706475\n",
      "Precision(macro,weighted): 0.14654834980692927,0.14765414040498975\n",
      "F1(macro,weighted: 0.05534777367640696,0.02947247412980986\n",
      "Recall(macro,weighted: 0.06046073902298129,0.018307623359706475\n",
      "Time: 2.75 second\n",
      "\n",
      "\n"
     ]
    },
    {
     "name": "stderr",
     "output_type": "stream",
     "text": [
      "/home/jovyan/.local/lib/python3.11/site-packages/sklearn/metrics/_classification.py:1334: UndefinedMetricWarning: Precision is ill-defined and being set to 0.0 in labels with no predicted samples. Use `zero_division` parameter to control this behavior.\n",
      "  _warn_prf(average, modifier, msg_start, len(result))\n",
      "/home/jovyan/.local/lib/python3.11/site-packages/sklearn/metrics/_classification.py:1334: UndefinedMetricWarning: Precision is ill-defined and being set to 0.0 in labels with no predicted samples. Use `zero_division` parameter to control this behavior.\n",
      "  _warn_prf(average, modifier, msg_start, len(result))\n"
     ]
    },
    {
     "name": "stdout",
     "output_type": "stream",
     "text": [
      "epsilon = 0.2\n",
      "Accuracy: 0.0027727400283975487\n",
      "Precision(macro,weighted): 0.008814876304295857,0.036689760316699675\n",
      "F1(macro,weighted: 0.0012131014253200754,0.004787563572995766\n",
      "Recall(macro,weighted: 0.0067888553714719165,0.0027727400283975487\n",
      "Time: 2.73 second\n",
      "\n",
      "\n"
     ]
    },
    {
     "name": "stderr",
     "output_type": "stream",
     "text": [
      "/home/jovyan/.local/lib/python3.11/site-packages/sklearn/metrics/_classification.py:1334: UndefinedMetricWarning: Precision is ill-defined and being set to 0.0 in labels with no predicted samples. Use `zero_division` parameter to control this behavior.\n",
      "  _warn_prf(average, modifier, msg_start, len(result))\n",
      "/home/jovyan/.local/lib/python3.11/site-packages/sklearn/metrics/_classification.py:1334: UndefinedMetricWarning: Precision is ill-defined and being set to 0.0 in labels with no predicted samples. Use `zero_division` parameter to control this behavior.\n",
      "  _warn_prf(average, modifier, msg_start, len(result))\n"
     ]
    },
    {
     "name": "stdout",
     "output_type": "stream",
     "text": [
      "epsilon = 0.3\n",
      "Accuracy: 0.002550753288963908\n",
      "Precision(macro,weighted): 0.008929190308385454,0.0366187236485749\n",
      "F1(macro,weighted: 0.0010749575188754256,0.004767930005161946\n",
      "Recall(macro,weighted: 0.0005739938299393346,0.002550753288963908\n",
      "Time: 2.74 second\n",
      "\n",
      "\n",
      "start FGSM\n"
     ]
    },
    {
     "name": "stderr",
     "output_type": "stream",
     "text": [
      "/home/jovyan/.local/lib/python3.11/site-packages/sklearn/metrics/_classification.py:1334: UndefinedMetricWarning: Precision is ill-defined and being set to 0.0 in labels with no predicted samples. Use `zero_division` parameter to control this behavior.\n",
      "  _warn_prf(average, modifier, msg_start, len(result))\n",
      "/home/jovyan/.local/lib/python3.11/site-packages/sklearn/metrics/_classification.py:1334: UndefinedMetricWarning: Precision is ill-defined and being set to 0.0 in labels with no predicted samples. Use `zero_division` parameter to control this behavior.\n",
      "  _warn_prf(average, modifier, msg_start, len(result))\n"
     ]
    },
    {
     "name": "stdout",
     "output_type": "stream",
     "text": [
      "epsilon = 0.01\n",
      "Accuracy: 0.99888168944474\n",
      "Precision(macro,weighted): 0.7929998710741355,0.9987049368260972\n",
      "F1(macro,weighted: 0.7415381241163457,0.9987615350719515\n",
      "Recall(macro,weighted: 0.705768327222811,0.99888168944474\n",
      "Time: 2.73 second\n",
      "\n",
      "\n"
     ]
    },
    {
     "name": "stderr",
     "output_type": "stream",
     "text": [
      "/home/jovyan/.local/lib/python3.11/site-packages/sklearn/metrics/_classification.py:1334: UndefinedMetricWarning: Precision is ill-defined and being set to 0.0 in labels with no predicted samples. Use `zero_division` parameter to control this behavior.\n",
      "  _warn_prf(average, modifier, msg_start, len(result))\n",
      "/home/jovyan/.local/lib/python3.11/site-packages/sklearn/metrics/_classification.py:1334: UndefinedMetricWarning: Precision is ill-defined and being set to 0.0 in labels with no predicted samples. Use `zero_division` parameter to control this behavior.\n",
      "  _warn_prf(average, modifier, msg_start, len(result))\n"
     ]
    },
    {
     "name": "stdout",
     "output_type": "stream",
     "text": [
      "epsilon = 0.1\n",
      "Accuracy: 0.01965210908344607\n",
      "Precision(macro,weighted): 0.12487114199380134,0.1599088875624419\n",
      "F1(macro,weighted: 0.05104622167541238,0.02964688499496861\n",
      "Recall(macro,weighted: 0.08897783884670063,0.01965210908344607\n",
      "Time: 2.75 second\n",
      "\n",
      "\n"
     ]
    },
    {
     "name": "stderr",
     "output_type": "stream",
     "text": [
      "/home/jovyan/.local/lib/python3.11/site-packages/sklearn/metrics/_classification.py:1334: UndefinedMetricWarning: Precision is ill-defined and being set to 0.0 in labels with no predicted samples. Use `zero_division` parameter to control this behavior.\n",
      "  _warn_prf(average, modifier, msg_start, len(result))\n",
      "/home/jovyan/.local/lib/python3.11/site-packages/sklearn/metrics/_classification.py:1334: UndefinedMetricWarning: Precision is ill-defined and being set to 0.0 in labels with no predicted samples. Use `zero_division` parameter to control this behavior.\n",
      "  _warn_prf(average, modifier, msg_start, len(result))\n"
     ]
    },
    {
     "name": "stdout",
     "output_type": "stream",
     "text": [
      "epsilon = 0.2\n",
      "Accuracy: 0.002701536734616947\n",
      "Precision(macro,weighted): 0.011577820565675339,0.04067325680249823\n",
      "F1(macro,weighted: 0.0018669457878616237,0.00505282130115723\n",
      "Recall(macro,weighted: 0.0010337345872345263,0.002701536734616947\n",
      "Time: 2.90 second\n",
      "\n",
      "\n"
     ]
    },
    {
     "name": "stderr",
     "output_type": "stream",
     "text": [
      "/home/jovyan/.local/lib/python3.11/site-packages/sklearn/metrics/_classification.py:1334: UndefinedMetricWarning: Precision is ill-defined and being set to 0.0 in labels with no predicted samples. Use `zero_division` parameter to control this behavior.\n",
      "  _warn_prf(average, modifier, msg_start, len(result))\n",
      "/home/jovyan/.local/lib/python3.11/site-packages/sklearn/metrics/_classification.py:1334: UndefinedMetricWarning: Precision is ill-defined and being set to 0.0 in labels with no predicted samples. Use `zero_division` parameter to control this behavior.\n",
      "  _warn_prf(average, modifier, msg_start, len(result))\n"
     ]
    },
    {
     "name": "stdout",
     "output_type": "stream",
     "text": [
      "epsilon = 0.3\n",
      "Accuracy: 0.0021486641005558044\n",
      "Precision(macro,weighted): 0.009770472630443986,0.0319943284811944\n",
      "F1(macro,weighted: 0.001645288095959882,0.004013990043455853\n",
      "Recall(macro,weighted: 0.0009144664598344811,0.0021486641005558044\n",
      "Time: 2.75 second\n",
      "\n",
      "\n",
      "start PGD\n"
     ]
    },
    {
     "name": "stderr",
     "output_type": "stream",
     "text": [
      "/home/jovyan/.local/lib/python3.11/site-packages/sklearn/metrics/_classification.py:1334: UndefinedMetricWarning: Precision is ill-defined and being set to 0.0 in labels with no predicted samples. Use `zero_division` parameter to control this behavior.\n",
      "  _warn_prf(average, modifier, msg_start, len(result))\n",
      "/home/jovyan/.local/lib/python3.11/site-packages/sklearn/metrics/_classification.py:1334: UndefinedMetricWarning: Precision is ill-defined and being set to 0.0 in labels with no predicted samples. Use `zero_division` parameter to control this behavior.\n",
      "  _warn_prf(average, modifier, msg_start, len(result))\n"
     ]
    },
    {
     "name": "stdout",
     "output_type": "stream",
     "text": [
      "epsilon = 0.01\n",
      "Accuracy: 0.9988607472995104\n",
      "Precision(macro,weighted): 0.792965392245776,0.9986855572595491\n",
      "F1(macro,weighted: 0.6910966996067209,0.9987192954492665\n",
      "Recall(macro,weighted: 0.6492896117635131,0.9988607472995104\n",
      "Time: 2.75 second\n",
      "\n",
      "\n"
     ]
    },
    {
     "name": "stderr",
     "output_type": "stream",
     "text": [
      "/home/jovyan/.local/lib/python3.11/site-packages/sklearn/metrics/_classification.py:1334: UndefinedMetricWarning: Precision is ill-defined and being set to 0.0 in labels with no predicted samples. Use `zero_division` parameter to control this behavior.\n",
      "  _warn_prf(average, modifier, msg_start, len(result))\n",
      "/home/jovyan/.local/lib/python3.11/site-packages/sklearn/metrics/_classification.py:1334: UndefinedMetricWarning: Precision is ill-defined and being set to 0.0 in labels with no predicted samples. Use `zero_division` parameter to control this behavior.\n",
      "  _warn_prf(average, modifier, msg_start, len(result))\n"
     ]
    },
    {
     "name": "stdout",
     "output_type": "stream",
     "text": [
      "epsilon = 0.1\n",
      "Accuracy: 0.018307623359706475\n",
      "Precision(macro,weighted): 0.14654834980692927,0.14765414040498975\n",
      "F1(macro,weighted: 0.05534777367640696,0.02947247412980986\n",
      "Recall(macro,weighted: 0.06046073902298129,0.018307623359706475\n",
      "Time: 2.73 second\n",
      "\n",
      "\n"
     ]
    },
    {
     "name": "stderr",
     "output_type": "stream",
     "text": [
      "/home/jovyan/.local/lib/python3.11/site-packages/sklearn/metrics/_classification.py:1334: UndefinedMetricWarning: Precision is ill-defined and being set to 0.0 in labels with no predicted samples. Use `zero_division` parameter to control this behavior.\n",
      "  _warn_prf(average, modifier, msg_start, len(result))\n",
      "/home/jovyan/.local/lib/python3.11/site-packages/sklearn/metrics/_classification.py:1334: UndefinedMetricWarning: Precision is ill-defined and being set to 0.0 in labels with no predicted samples. Use `zero_division` parameter to control this behavior.\n",
      "  _warn_prf(average, modifier, msg_start, len(result))\n"
     ]
    },
    {
     "name": "stdout",
     "output_type": "stream",
     "text": [
      "epsilon = 0.2\n",
      "Accuracy: 0.0027727400283975487\n",
      "Precision(macro,weighted): 0.008814876304295857,0.036689760316699675\n",
      "F1(macro,weighted: 0.0012131014253200754,0.004787563572995766\n",
      "Recall(macro,weighted: 0.0067888553714719165,0.0027727400283975487\n",
      "Time: 2.74 second\n",
      "\n",
      "\n"
     ]
    },
    {
     "name": "stderr",
     "output_type": "stream",
     "text": [
      "/home/jovyan/.local/lib/python3.11/site-packages/sklearn/metrics/_classification.py:1334: UndefinedMetricWarning: Precision is ill-defined and being set to 0.0 in labels with no predicted samples. Use `zero_division` parameter to control this behavior.\n",
      "  _warn_prf(average, modifier, msg_start, len(result))\n",
      "/home/jovyan/.local/lib/python3.11/site-packages/sklearn/metrics/_classification.py:1334: UndefinedMetricWarning: Precision is ill-defined and being set to 0.0 in labels with no predicted samples. Use `zero_division` parameter to control this behavior.\n",
      "  _warn_prf(average, modifier, msg_start, len(result))\n"
     ]
    },
    {
     "name": "stdout",
     "output_type": "stream",
     "text": [
      "epsilon = 0.3\n",
      "Accuracy: 0.002550753288963908\n",
      "Precision(macro,weighted): 0.008929190308385454,0.0366187236485749\n",
      "F1(macro,weighted: 0.0010749575188754256,0.004767930005161946\n",
      "Recall(macro,weighted: 0.0005739938299393346,0.002550753288963908\n",
      "Time: 2.73 second\n",
      "\n",
      "\n",
      "start DF\n"
     ]
    },
    {
     "name": "stderr",
     "output_type": "stream",
     "text": [
      "/home/jovyan/.local/lib/python3.11/site-packages/sklearn/metrics/_classification.py:1334: UndefinedMetricWarning: Precision is ill-defined and being set to 0.0 in labels with no predicted samples. Use `zero_division` parameter to control this behavior.\n",
      "  _warn_prf(average, modifier, msg_start, len(result))\n",
      "/home/jovyan/.local/lib/python3.11/site-packages/sklearn/metrics/_classification.py:1334: UndefinedMetricWarning: Precision is ill-defined and being set to 0.0 in labels with no predicted samples. Use `zero_division` parameter to control this behavior.\n",
      "  _warn_prf(average, modifier, msg_start, len(result))\n"
     ]
    },
    {
     "name": "stdout",
     "output_type": "stream",
     "text": [
      "epsilon = 0.01\n",
      "Accuracy: 1.2565287137753244e-05\n",
      "Precision(macro,weighted): 3.0175693373545227e-05,9.136389542127708e-05\n",
      "F1(macro,weighted: 1.735732860509513e-05,1.3122013389999361e-05\n",
      "Recall(macro,weighted: 2.644469960276353e-05,1.2565287137753244e-05\n",
      "Time: 2.77 second\n",
      "\n",
      "\n"
     ]
    },
    {
     "name": "stderr",
     "output_type": "stream",
     "text": [
      "/home/jovyan/.local/lib/python3.11/site-packages/sklearn/metrics/_classification.py:1334: UndefinedMetricWarning: Precision is ill-defined and being set to 0.0 in labels with no predicted samples. Use `zero_division` parameter to control this behavior.\n",
      "  _warn_prf(average, modifier, msg_start, len(result))\n",
      "/home/jovyan/.local/lib/python3.11/site-packages/sklearn/metrics/_classification.py:1334: UndefinedMetricWarning: Precision is ill-defined and being set to 0.0 in labels with no predicted samples. Use `zero_division` parameter to control this behavior.\n",
      "  _warn_prf(average, modifier, msg_start, len(result))\n"
     ]
    },
    {
     "name": "stdout",
     "output_type": "stream",
     "text": [
      "epsilon = 0.1\n",
      "Accuracy: 1.2565287137753244e-05\n",
      "Precision(macro,weighted): 3.014946347198764e-05,9.122453932759102e-05\n",
      "F1(macro,weighted: 1.73611743662937e-05,1.312273018284811e-05\n",
      "Recall(macro,weighted: 2.644469960276353e-05,1.2565287137753244e-05\n",
      "Time: 2.76 second\n",
      "\n",
      "\n"
     ]
    },
    {
     "name": "stderr",
     "output_type": "stream",
     "text": [
      "/home/jovyan/.local/lib/python3.11/site-packages/sklearn/metrics/_classification.py:1334: UndefinedMetricWarning: Precision is ill-defined and being set to 0.0 in labels with no predicted samples. Use `zero_division` parameter to control this behavior.\n",
      "  _warn_prf(average, modifier, msg_start, len(result))\n",
      "/home/jovyan/.local/lib/python3.11/site-packages/sklearn/metrics/_classification.py:1334: UndefinedMetricWarning: Precision is ill-defined and being set to 0.0 in labels with no predicted samples. Use `zero_division` parameter to control this behavior.\n",
      "  _warn_prf(average, modifier, msg_start, len(result))\n"
     ]
    },
    {
     "name": "stdout",
     "output_type": "stream",
     "text": [
      "epsilon = 0.2\n",
      "Accuracy: 1.2565287137753244e-05\n",
      "Precision(macro,weighted): 3.0147609194329342e-05,9.120090060819209e-05\n",
      "F1(macro,weighted: 1.736451470561838e-05,1.3123729646869924e-05\n",
      "Recall(macro,weighted: 2.644469960276353e-05,1.2565287137753244e-05\n",
      "Time: 2.75 second\n",
      "\n",
      "\n"
     ]
    },
    {
     "name": "stderr",
     "output_type": "stream",
     "text": [
      "/home/jovyan/.local/lib/python3.11/site-packages/sklearn/metrics/_classification.py:1334: UndefinedMetricWarning: Precision is ill-defined and being set to 0.0 in labels with no predicted samples. Use `zero_division` parameter to control this behavior.\n",
      "  _warn_prf(average, modifier, msg_start, len(result))\n",
      "/home/jovyan/.local/lib/python3.11/site-packages/sklearn/metrics/_classification.py:1334: UndefinedMetricWarning: Precision is ill-defined and being set to 0.0 in labels with no predicted samples. Use `zero_division` parameter to control this behavior.\n",
      "  _warn_prf(average, modifier, msg_start, len(result))\n"
     ]
    },
    {
     "name": "stdout",
     "output_type": "stream",
     "text": [
      "epsilon = 0.3\n",
      "Accuracy: 1.2565287137753244e-05\n",
      "Precision(macro,weighted): 3.015409072472602e-05,9.119535243146446e-05\n",
      "F1(macro,weighted: 1.737246109282202e-05,1.3126303835408342e-05\n",
      "Recall(macro,weighted: 2.644469960276353e-05,1.2565287137753244e-05\n",
      "Time: 2.75 second\n",
      "\n",
      "\n",
      "start AutoPGD\n"
     ]
    },
    {
     "name": "stderr",
     "output_type": "stream",
     "text": [
      "/home/jovyan/.local/lib/python3.11/site-packages/sklearn/metrics/_classification.py:1334: UndefinedMetricWarning: Precision is ill-defined and being set to 0.0 in labels with no predicted samples. Use `zero_division` parameter to control this behavior.\n",
      "  _warn_prf(average, modifier, msg_start, len(result))\n",
      "/home/jovyan/.local/lib/python3.11/site-packages/sklearn/metrics/_classification.py:1334: UndefinedMetricWarning: Precision is ill-defined and being set to 0.0 in labels with no predicted samples. Use `zero_division` parameter to control this behavior.\n",
      "  _warn_prf(average, modifier, msg_start, len(result))\n"
     ]
    },
    {
     "name": "stdout",
     "output_type": "stream",
     "text": [
      "epsilon = 0.01\n",
      "Accuracy: 0.9990617918937145\n",
      "Precision(macro,weighted): 0.792821142908261,0.9988817913417378\n",
      "F1(macro,weighted: 0.7442906177325188,0.9989513018599652\n",
      "Recall(macro,weighted: 0.7108663181478716,0.9990617918937145\n",
      "Time: 2.73 second\n",
      "\n",
      "\n"
     ]
    },
    {
     "name": "stderr",
     "output_type": "stream",
     "text": [
      "/home/jovyan/.local/lib/python3.11/site-packages/sklearn/metrics/_classification.py:1334: UndefinedMetricWarning: Precision is ill-defined and being set to 0.0 in labels with no predicted samples. Use `zero_division` parameter to control this behavior.\n",
      "  _warn_prf(average, modifier, msg_start, len(result))\n",
      "/home/jovyan/.local/lib/python3.11/site-packages/sklearn/metrics/_classification.py:1334: UndefinedMetricWarning: Precision is ill-defined and being set to 0.0 in labels with no predicted samples. Use `zero_division` parameter to control this behavior.\n",
      "  _warn_prf(average, modifier, msg_start, len(result))\n"
     ]
    },
    {
     "name": "stdout",
     "output_type": "stream",
     "text": [
      "epsilon = 0.1\n",
      "Accuracy: 0.006064845258488899\n",
      "Precision(macro,weighted): 0.016677161610303227,0.07729922074089798\n",
      "F1(macro,weighted: 0.002426860300007804,0.011232959259117568\n",
      "Recall(macro,weighted: 0.001549246569484255,0.006064845258488899\n",
      "Time: 2.75 second\n",
      "\n",
      "\n"
     ]
    },
    {
     "name": "stderr",
     "output_type": "stream",
     "text": [
      "/home/jovyan/.local/lib/python3.11/site-packages/sklearn/metrics/_classification.py:1334: UndefinedMetricWarning: Precision is ill-defined and being set to 0.0 in labels with no predicted samples. Use `zero_division` parameter to control this behavior.\n",
      "  _warn_prf(average, modifier, msg_start, len(result))\n",
      "/home/jovyan/.local/lib/python3.11/site-packages/sklearn/metrics/_classification.py:1334: UndefinedMetricWarning: Precision is ill-defined and being set to 0.0 in labels with no predicted samples. Use `zero_division` parameter to control this behavior.\n",
      "  _warn_prf(average, modifier, msg_start, len(result))\n"
     ]
    },
    {
     "name": "stdout",
     "output_type": "stream",
     "text": [
      "epsilon = 0.2\n",
      "Accuracy: 0.0021821715329231467\n",
      "Precision(macro,weighted): 0.006101189568669957,0.028272560006059606\n",
      "F1(macro,weighted: 0.0008751294100338482,0.004037326765103724\n",
      "Recall(macro,weighted: 0.0007116590384248466,0.0021821715329231467\n",
      "Time: 2.78 second\n",
      "\n",
      "\n"
     ]
    },
    {
     "name": "stderr",
     "output_type": "stream",
     "text": [
      "/home/jovyan/.local/lib/python3.11/site-packages/sklearn/metrics/_classification.py:1334: UndefinedMetricWarning: Precision is ill-defined and being set to 0.0 in labels with no predicted samples. Use `zero_division` parameter to control this behavior.\n",
      "  _warn_prf(average, modifier, msg_start, len(result))\n",
      "/home/jovyan/.local/lib/python3.11/site-packages/sklearn/metrics/_classification.py:1334: UndefinedMetricWarning: Precision is ill-defined and being set to 0.0 in labels with no predicted samples. Use `zero_division` parameter to control this behavior.\n",
      "  _warn_prf(average, modifier, msg_start, len(result))\n"
     ]
    },
    {
     "name": "stdout",
     "output_type": "stream",
     "text": [
      "epsilon = 0.3\n",
      "Accuracy: 7.95801518724372e-05\n",
      "Precision(macro,weighted): 0.0002136291057661401,0.0009791399626227423\n",
      "F1(macro,weighted: 3.343545032847277e-05,0.00013291758326590248\n",
      "Recall(macro,weighted: 0.00025807873573679605,7.95801518724372e-05\n",
      "Time: 2.78 second\n",
      "\n",
      "\n",
      "start BA\n"
     ]
    },
    {
     "name": "stderr",
     "output_type": "stream",
     "text": [
      "/home/jovyan/.local/lib/python3.11/site-packages/sklearn/metrics/_classification.py:1334: UndefinedMetricWarning: Precision is ill-defined and being set to 0.0 in labels with no predicted samples. Use `zero_division` parameter to control this behavior.\n",
      "  _warn_prf(average, modifier, msg_start, len(result))\n",
      "/home/jovyan/.local/lib/python3.11/site-packages/sklearn/metrics/_classification.py:1334: UndefinedMetricWarning: Precision is ill-defined and being set to 0.0 in labels with no predicted samples. Use `zero_division` parameter to control this behavior.\n",
      "  _warn_prf(average, modifier, msg_start, len(result))\n"
     ]
    },
    {
     "name": "stdout",
     "output_type": "stream",
     "text": [
      "epsilon = 0.01\n",
      "Accuracy: 0.9993047207783776\n",
      "Precision(macro,weighted): 0.7945079653164583,0.9991273532236463\n",
      "F1(macro,weighted: 0.7488512019251858,0.9992033118080097\n",
      "Recall(macro,weighted: 0.7179051530993278,0.9993047207783776\n",
      "Time: 2.75 second\n",
      "\n",
      "\n"
     ]
    },
    {
     "name": "stderr",
     "output_type": "stream",
     "text": [
      "/home/jovyan/.local/lib/python3.11/site-packages/sklearn/metrics/_classification.py:1334: UndefinedMetricWarning: Precision is ill-defined and being set to 0.0 in labels with no predicted samples. Use `zero_division` parameter to control this behavior.\n",
      "  _warn_prf(average, modifier, msg_start, len(result))\n",
      "/home/jovyan/.local/lib/python3.11/site-packages/sklearn/metrics/_classification.py:1334: UndefinedMetricWarning: Precision is ill-defined and being set to 0.0 in labels with no predicted samples. Use `zero_division` parameter to control this behavior.\n",
      "  _warn_prf(average, modifier, msg_start, len(result))\n"
     ]
    },
    {
     "name": "stdout",
     "output_type": "stream",
     "text": [
      "epsilon = 0.1\n",
      "Accuracy: 0.9993047207783776\n",
      "Precision(macro,weighted): 0.7945079653164583,0.9991273532236463\n",
      "F1(macro,weighted: 0.7488512019251858,0.9992033118080097\n",
      "Recall(macro,weighted: 0.7179051530993278,0.9993047207783776\n",
      "Time: 2.74 second\n",
      "\n",
      "\n"
     ]
    },
    {
     "name": "stderr",
     "output_type": "stream",
     "text": [
      "/home/jovyan/.local/lib/python3.11/site-packages/sklearn/metrics/_classification.py:1334: UndefinedMetricWarning: Precision is ill-defined and being set to 0.0 in labels with no predicted samples. Use `zero_division` parameter to control this behavior.\n",
      "  _warn_prf(average, modifier, msg_start, len(result))\n",
      "/home/jovyan/.local/lib/python3.11/site-packages/sklearn/metrics/_classification.py:1334: UndefinedMetricWarning: Precision is ill-defined and being set to 0.0 in labels with no predicted samples. Use `zero_division` parameter to control this behavior.\n",
      "  _warn_prf(average, modifier, msg_start, len(result))\n"
     ]
    },
    {
     "name": "stdout",
     "output_type": "stream",
     "text": [
      "epsilon = 0.2\n",
      "Accuracy: 0.9993047207783776\n",
      "Precision(macro,weighted): 0.7945196205943468,0.9991272839324506\n",
      "F1(macro,weighted: 0.7488570821701607,0.9992032943763106\n",
      "Recall(macro,weighted: 0.7179051530993278,0.9993047207783776\n",
      "Time: 2.74 second\n",
      "\n",
      "\n"
     ]
    },
    {
     "name": "stderr",
     "output_type": "stream",
     "text": [
      "/home/jovyan/.local/lib/python3.11/site-packages/sklearn/metrics/_classification.py:1334: UndefinedMetricWarning: Precision is ill-defined and being set to 0.0 in labels with no predicted samples. Use `zero_division` parameter to control this behavior.\n",
      "  _warn_prf(average, modifier, msg_start, len(result))\n",
      "/home/jovyan/.local/lib/python3.11/site-packages/sklearn/metrics/_classification.py:1334: UndefinedMetricWarning: Precision is ill-defined and being set to 0.0 in labels with no predicted samples. Use `zero_division` parameter to control this behavior.\n",
      "  _warn_prf(average, modifier, msg_start, len(result))\n"
     ]
    },
    {
     "name": "stdout",
     "output_type": "stream",
     "text": [
      "epsilon = 0.3\n",
      "Accuracy: 0.9993047207783776\n",
      "Precision(macro,weighted): 0.7944963116370571,0.9991274230742709\n",
      "F1(macro,weighted: 0.7488453220848594,0.9992033293812148\n",
      "Recall(macro,weighted: 0.7179051530993278,0.9993047207783776\n",
      "Time: 2.74 second\n",
      "\n",
      "\n",
      "start HopSkipJump\n",
      "epsilon = 0\n",
      "Accuracy: 0.49510163223079917\n",
      "Precision(macro,weighted): 0.2214886899655434,0.8957062830512943\n",
      "F1(macro,weighted: 0.17791254932097372,0.6237332290812794\n",
      "Recall(macro,weighted: 0.2915316375031475,0.49510163223079917\n",
      "Time: 2.81 second\n",
      "\n",
      "\n",
      "start ZOO\n"
     ]
    },
    {
     "name": "stderr",
     "output_type": "stream",
     "text": [
      "/home/jovyan/.local/lib/python3.11/site-packages/sklearn/metrics/_classification.py:1334: UndefinedMetricWarning: Precision is ill-defined and being set to 0.0 in labels with no predicted samples. Use `zero_division` parameter to control this behavior.\n",
      "  _warn_prf(average, modifier, msg_start, len(result))\n",
      "/home/jovyan/.local/lib/python3.11/site-packages/sklearn/metrics/_classification.py:1334: UndefinedMetricWarning: Precision is ill-defined and being set to 0.0 in labels with no predicted samples. Use `zero_division` parameter to control this behavior.\n",
      "  _warn_prf(average, modifier, msg_start, len(result))\n"
     ]
    },
    {
     "name": "stdout",
     "output_type": "stream",
     "text": [
      "epsilon = 0\n",
      "Accuracy: 0.9989696464547042\n",
      "Precision(macro,weighted): 0.7924756192725059,0.9987894226788265\n",
      "F1(macro,weighted: 0.7426650276781599,0.9988544798792183\n",
      "Recall(macro,weighted: 0.7081964152352501,0.9989696464547042\n",
      "Time: 2.74 second\n",
      "\n",
      "\n"
     ]
    },
    {
     "name": "stderr",
     "output_type": "stream",
     "text": [
      "/home/jovyan/.local/lib/python3.11/site-packages/sklearn/metrics/_classification.py:1334: UndefinedMetricWarning: Precision is ill-defined and being set to 0.0 in labels with no predicted samples. Use `zero_division` parameter to control this behavior.\n",
      "  _warn_prf(average, modifier, msg_start, len(result))\n",
      "/home/jovyan/.local/lib/python3.11/site-packages/sklearn/metrics/_classification.py:1334: UndefinedMetricWarning: Precision is ill-defined and being set to 0.0 in labels with no predicted samples. Use `zero_division` parameter to control this behavior.\n",
      "  _warn_prf(average, modifier, msg_start, len(result))\n"
     ]
    },
    {
     "name": "stdout",
     "output_type": "stream",
     "text": [
      "epsilon = 0.01\n",
      "Accuracy: 0.9989696464547042\n",
      "Precision(macro,weighted): 0.7924756192725059,0.9987894226788265\n",
      "F1(macro,weighted: 0.7426650276781599,0.9988544798792183\n",
      "Recall(macro,weighted: 0.7081964152352501,0.9989696464547042\n",
      "Time: 2.74 second\n",
      "\n",
      "\n"
     ]
    },
    {
     "name": "stderr",
     "output_type": "stream",
     "text": [
      "/home/jovyan/.local/lib/python3.11/site-packages/sklearn/metrics/_classification.py:1334: UndefinedMetricWarning: Precision is ill-defined and being set to 0.0 in labels with no predicted samples. Use `zero_division` parameter to control this behavior.\n",
      "  _warn_prf(average, modifier, msg_start, len(result))\n",
      "/home/jovyan/.local/lib/python3.11/site-packages/sklearn/metrics/_classification.py:1334: UndefinedMetricWarning: Precision is ill-defined and being set to 0.0 in labels with no predicted samples. Use `zero_division` parameter to control this behavior.\n",
      "  _warn_prf(average, modifier, msg_start, len(result))\n"
     ]
    },
    {
     "name": "stdout",
     "output_type": "stream",
     "text": [
      "epsilon = 0.1\n",
      "Accuracy: 0.9989696464547042\n",
      "Precision(macro,weighted): 0.7924756192725059,0.9987894226788265\n",
      "F1(macro,weighted: 0.7426650276781599,0.9988544798792183\n",
      "Recall(macro,weighted: 0.7081964152352501,0.9989696464547042\n",
      "Time: 2.73 second\n",
      "\n",
      "\n"
     ]
    },
    {
     "name": "stderr",
     "output_type": "stream",
     "text": [
      "/home/jovyan/.local/lib/python3.11/site-packages/sklearn/metrics/_classification.py:1334: UndefinedMetricWarning: Precision is ill-defined and being set to 0.0 in labels with no predicted samples. Use `zero_division` parameter to control this behavior.\n",
      "  _warn_prf(average, modifier, msg_start, len(result))\n",
      "/home/jovyan/.local/lib/python3.11/site-packages/sklearn/metrics/_classification.py:1334: UndefinedMetricWarning: Precision is ill-defined and being set to 0.0 in labels with no predicted samples. Use `zero_division` parameter to control this behavior.\n",
      "  _warn_prf(average, modifier, msg_start, len(result))\n"
     ]
    },
    {
     "name": "stdout",
     "output_type": "stream",
     "text": [
      "epsilon = 0.2\n",
      "Accuracy: 0.9989612695966124\n",
      "Precision(macro,weighted): 0.7924441416550259,0.9987810342976272\n",
      "F1(macro,weighted: 0.7425162248841931,0.998845645430917\n",
      "Recall(macro,weighted: 0.7079536967886482,0.9989612695966124\n",
      "Time: 2.75 second\n",
      "\n",
      "\n",
      "epsilon = 0.3\n",
      "Accuracy: 0.9989612695966124\n",
      "Precision(macro,weighted): 0.7924441416550259,0.9987810342976272\n",
      "F1(macro,weighted: 0.7425162248841931,0.998845645430917\n",
      "Recall(macro,weighted: 0.7079536967886482,0.9989612695966124\n",
      "Time: 2.74 second\n",
      "\n",
      "\n"
     ]
    },
    {
     "name": "stderr",
     "output_type": "stream",
     "text": [
      "/home/jovyan/.local/lib/python3.11/site-packages/sklearn/metrics/_classification.py:1334: UndefinedMetricWarning: Precision is ill-defined and being set to 0.0 in labels with no predicted samples. Use `zero_division` parameter to control this behavior.\n",
      "  _warn_prf(average, modifier, msg_start, len(result))\n",
      "/home/jovyan/.local/lib/python3.11/site-packages/sklearn/metrics/_classification.py:1334: UndefinedMetricWarning: Precision is ill-defined and being set to 0.0 in labels with no predicted samples. Use `zero_division` parameter to control this behavior.\n",
      "  _warn_prf(average, modifier, msg_start, len(result))\n"
     ]
    }
   ],
   "source": [
    "calculate_performance_metrics(x_test, y_test, AutoPGD_Trainer, 'AutoPGD_Trainer', 'baseline', '0')\n",
    "\n",
    "epsilon_values = [0.01, 0.1, 0.2, 0.3]\n",
    "\n",
    "# Iterate over epsilon values\n",
    "print(\"start BIM\")\n",
    "for epsilon in epsilon_values:\n",
    "    filename = f'/home/jovyan/Wustl_iiot/transfer_attack/x_test_adv_BIM_eps_{epsilon}.npy'\n",
    "    x_test_adv = np.load(filename)\n",
    "\n",
    "    calculate_performance_metrics(x_test_adv, y_test, AutoPGD_Trainer, 'AutoPGD_Trainer', 'BIM', epsilon)\n",
    "\n",
    "print(\"start FGSM\")\n",
    "for epsilon in epsilon_values:\n",
    "    filename = f'/home/jovyan/Wustl_iiot/transfer_attack/x_test_adv_FGSM_eps_{epsilon}.npy'\n",
    "    x_test_adv = np.load(filename)\n",
    "\n",
    "    calculate_performance_metrics(x_test_adv, y_test, AutoPGD_Trainer, 'AutoPGD_Trainer', 'FGSM', epsilon)\n",
    "\n",
    "print(\"start PGD\")\n",
    "for epsilon in epsilon_values:\n",
    "    filename = f'/home/jovyan/Wustl_iiot/transfer_attack/x_test_adv_PGD_eps_{epsilon}.npy'\n",
    "    x_test_adv = np.load(filename)\n",
    "\n",
    "    calculate_performance_metrics(x_test_adv, y_test, AutoPGD_Trainer, 'AutoPGD_Trainer', 'PGD', epsilon)\n",
    "\n",
    "epsilon_values = [0.01, 0.1, 0.2, 0.3]\n",
    "\n",
    "print(\"start DF\")\n",
    "for epsilon in epsilon_values:\n",
    "    filename = f'/home/jovyan/Wustl_iiot/transfer_attack/x_test_adv_DF_eps_{epsilon}.npy'\n",
    "    x_test_adv = np.load(filename)\n",
    "\n",
    "    calculate_performance_metrics(x_test_adv, y_test, AutoPGD_Trainer, 'AutoPGD_Trainer', 'DF', epsilon)\n",
    "    \n",
    "# Iterate over epsilon values\n",
    "print(\"start AutoPGD\")\n",
    "for epsilon in epsilon_values:\n",
    "    filename = f'/home/jovyan/Wustl_iiot/transfer_attack/x_test_adv_AutoPGD_eps_{epsilon}.npy'\n",
    "    x_test_adv = np.load(filename)\n",
    "\n",
    "    calculate_performance_metrics(x_test_adv, y_test, AutoPGD_Trainer, 'AutoPGD_Trainer', 'AutoPGD', epsilon)\n",
    "\n",
    "print(\"start BA\")\n",
    "for epsilon in epsilon_values:\n",
    "    filename = f'/home/jovyan/Wustl_iiot/transfer_attack/x_test_adv_BA_eps_{epsilon}.npy'\n",
    "    x_test_adv = np.load(filename)\n",
    "\n",
    "    calculate_performance_metrics(x_test_adv, y_test, AutoPGD_Trainer, 'AutoPGD_Trainer', 'BA', epsilon)\n",
    "\n",
    "print(\"start HopSkipJump\")\n",
    "filename = f'/home/jovyan/Wustl_iiot/transfer_attack/x_test_adv_HopSkipJump_eps_0.npy'\n",
    "x_test_adv = np.load(filename)\n",
    "\n",
    "calculate_performance_metrics(x_test_adv, y_test, AutoPGD_Trainer, 'AutoPGD_Trainer', 'HopSkipJump', '0')\n",
    "\n",
    "print(\"start ZOO\")\n",
    "ZOO_epsilon_values = [0, 0.01, 0.1, 0.2, 0.3]\n",
    "# Iterate over epsilon values\n",
    "for epsilon in ZOO_epsilon_values:\n",
    "    filename = f'/home/jovyan/Wustl_iiot/transfer_attack/x_test_adv_ZOO_eps_{epsilon}.npy'\n",
    "    x_test_adv = np.load(filename)\n",
    "\n",
    "    calculate_performance_metrics(x_test_adv, y_test, AutoPGD_Trainer, 'AutoPGD_Trainer', 'ZOO', epsilon)"
   ]
  },
  {
   "cell_type": "code",
   "execution_count": null,
   "id": "93916a9b-85d9-400c-926b-b4bd451b792c",
   "metadata": {},
   "outputs": [],
   "source": []
  }
 ],
 "metadata": {
  "kernelspec": {
   "display_name": "Python 3 (ipykernel)",
   "language": "python",
   "name": "python3"
  },
  "language_info": {
   "codemirror_mode": {
    "name": "ipython",
    "version": 3
   },
   "file_extension": ".py",
   "mimetype": "text/x-python",
   "name": "python",
   "nbconvert_exporter": "python",
   "pygments_lexer": "ipython3",
   "version": "3.11.5"
  }
 },
 "nbformat": 4,
 "nbformat_minor": 5
}
