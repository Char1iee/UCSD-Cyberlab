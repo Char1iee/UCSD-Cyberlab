{
 "cells": [
  {
   "cell_type": "code",
   "execution_count": 1,
   "metadata": {
    "id": "yBcwWIT3xfs1"
   },
   "outputs": [],
   "source": [
    "import pandas as pd\n",
    "import numpy as np\n",
    "import seaborn as sns\n",
    "from sklearn.preprocessing import LabelEncoder, scale, MinMaxScaler\n",
    "from sklearn import preprocessing\n",
    "from sklearn.model_selection import train_test_split\n",
    "from sklearn.manifold import TSNE\n",
    "from time import time\n",
    "import random\n",
    "import warnings\n",
    "warnings.filterwarnings(\"ignore\")"
   ]
  },
  {
   "cell_type": "code",
   "execution_count": 2,
   "metadata": {
    "scrolled": true
   },
   "outputs": [
    {
     "data": {
      "text/plain": [
       "StartTime      object\n",
       "LastTime       object\n",
       "SrcAddr        object\n",
       "DstAddr        object\n",
       "Mean            int64\n",
       "Sport           int64\n",
       "Dport           int64\n",
       "SrcPkts         int64\n",
       "DstPkts         int64\n",
       "TotPkts         int64\n",
       "DstBytes        int64\n",
       "SrcBytes        int64\n",
       "TotBytes        int64\n",
       "SrcLoad       float64\n",
       "DstLoad       float64\n",
       "Load          float64\n",
       "SrcRate       float64\n",
       "DstRate       float64\n",
       "Rate          float64\n",
       "SrcLoss         int64\n",
       "DstLoss         int64\n",
       "Loss            int64\n",
       "pLoss         float64\n",
       "SrcJitter     float64\n",
       "DstJitter     float64\n",
       "SIntPkt       float64\n",
       "DIntPkt       float64\n",
       "Proto           int64\n",
       "Dur           float64\n",
       "TcpRtt        float64\n",
       "IdleTime        int64\n",
       "Sum           float64\n",
       "Min           float64\n",
       "Max           float64\n",
       "sDSb            int64\n",
       "sTtl            int64\n",
       "dTtl            int64\n",
       "sIpId           int64\n",
       "dIpId           int64\n",
       "SAppBytes       int64\n",
       "DAppBytes       int64\n",
       "TotAppByte      int64\n",
       "SynAck        float64\n",
       "RunTime       float64\n",
       "sTos            int64\n",
       "SrcJitAct     float64\n",
       "DstJitAct     float64\n",
       "Traffic        object\n",
       "Target          int64\n",
       "dtype: object"
      ]
     },
     "execution_count": 2,
     "metadata": {},
     "output_type": "execute_result"
    }
   ],
   "source": [
    "df = pd.read_csv('/home/jovyan/Wustl_iiot/wustl_iiot_2021.csv', low_memory=False)\n",
    "df.dtypes"
   ]
  },
  {
   "cell_type": "code",
   "execution_count": 3,
   "metadata": {
    "scrolled": true
   },
   "outputs": [
    {
     "name": "stdout",
     "output_type": "stream",
     "text": [
      "StartTime     2019-08-19 12:23:28\n",
      "LastTime      2019-08-19 12:23:28\n",
      "SrcAddr              192.168.0.20\n",
      "DstAddr               192.168.0.2\n",
      "Mean                            0\n",
      "Sport                       59034\n",
      "Dport                         502\n",
      "SrcPkts                        10\n",
      "DstPkts                         8\n",
      "TotPkts                        18\n",
      "DstBytes                      508\n",
      "SrcBytes                      644\n",
      "TotBytes                     1152\n",
      "SrcLoad               87486.09375\n",
      "DstLoad              67122.953125\n",
      "Load                154609.046875\n",
      "SrcRate                169.692856\n",
      "DstRate                131.983337\n",
      "Rate                   320.530945\n",
      "SrcLoss                         2\n",
      "DstLoss                         2\n",
      "Loss                            4\n",
      "pLoss                   18.181818\n",
      "SrcJitter              527.431726\n",
      "DstJitter               11.523097\n",
      "SIntPkt                     5.893\n",
      "DIntPkt                  7.406429\n",
      "Proto                           6\n",
      "Dur                      0.053037\n",
      "TcpRtt                   0.001266\n",
      "IdleTime               1548786176\n",
      "Sum                      0.053037\n",
      "Min                      0.053037\n",
      "Max                      0.053037\n",
      "sDSb                            0\n",
      "sTtl                          128\n",
      "dTtl                           64\n",
      "sIpId                       53331\n",
      "dIpId                       64402\n",
      "SAppBytes                      24\n",
      "DAppBytes                      20\n",
      "TotAppByte                     44\n",
      "SynAck                   0.001176\n",
      "RunTime                  0.053037\n",
      "sTos                            0\n",
      "SrcJitAct                     0.0\n",
      "DstJitAct                     0.0\n",
      "Traffic                    normal\n",
      "Target                          0\n",
      "Name: 0, dtype: object\n"
     ]
    }
   ],
   "source": [
    "first_row = df.iloc[0]\n",
    "\n",
    "print(first_row)"
   ]
  },
  {
   "cell_type": "code",
   "execution_count": 4,
   "metadata": {},
   "outputs": [
    {
     "data": {
      "text/plain": [
       "StartTime      object\n",
       "LastTime       object\n",
       "SrcAddr        object\n",
       "DstAddr        object\n",
       "Mean            int64\n",
       "Sport           int64\n",
       "Dport           int64\n",
       "SrcPkts         int64\n",
       "DstPkts         int64\n",
       "TotPkts         int64\n",
       "DstBytes        int64\n",
       "SrcBytes        int64\n",
       "TotBytes        int64\n",
       "SrcLoad       float64\n",
       "DstLoad       float64\n",
       "Load          float64\n",
       "SrcRate       float64\n",
       "DstRate       float64\n",
       "Rate          float64\n",
       "SrcLoss         int64\n",
       "DstLoss         int64\n",
       "Loss            int64\n",
       "pLoss         float64\n",
       "SrcJitter     float64\n",
       "DstJitter     float64\n",
       "SIntPkt       float64\n",
       "DIntPkt       float64\n",
       "Proto           int64\n",
       "Dur           float64\n",
       "TcpRtt        float64\n",
       "IdleTime        int64\n",
       "Sum           float64\n",
       "Min           float64\n",
       "Max           float64\n",
       "sDSb            int64\n",
       "sTtl            int64\n",
       "dTtl            int64\n",
       "sIpId           int64\n",
       "dIpId           int64\n",
       "SAppBytes       int64\n",
       "DAppBytes       int64\n",
       "TotAppByte      int64\n",
       "SynAck        float64\n",
       "RunTime       float64\n",
       "sTos            int64\n",
       "SrcJitAct     float64\n",
       "DstJitAct     float64\n",
       "Traffic        object\n",
       "Target          int64\n",
       "dtype: object"
      ]
     },
     "execution_count": 4,
     "metadata": {},
     "output_type": "execute_result"
    }
   ],
   "source": [
    "df.dtypes"
   ]
  },
  {
   "cell_type": "code",
   "execution_count": 6,
   "metadata": {
    "executionInfo": {
     "elapsed": 2097,
     "status": "ok",
     "timestamp": 1705034129838,
     "user": {
      "displayName": "Kris Chen",
      "userId": "14019901183015848448"
     },
     "user_tz": 480
    },
    "id": "FkEjK12Fw812"
   },
   "outputs": [],
   "source": [
    "\n",
    "\n",
    "# #read file\n",
    "df = pd.read_csv('/home/jovyan/Wustl_iiot/wustl_iiot_2021.csv', low_memory=False)\n",
    "\n",
    "# #label non-integer data\n",
    "# label_encoders = {}\n",
    "# non_numeric_columns = df.select_dtypes(include=['object']).columns\n",
    "# for column in non_numeric_columns:\n",
    "#     le = LabelEncoder()\n",
    "#     df[column] = le.fit_transform(df[column].astype(str))\n",
    "#     label_encoders[column] = le\n",
    "\n",
    "from sklearn.utils import shuffle\n",
    "\n",
    "drop_columns = ['StartTime', 'LastTime', 'SrcAddr', 'DstAddr', 'sIpId', 'dIpId']\n",
    "\n",
    "df.drop(drop_columns, axis=1, inplace=True)\n",
    "\n",
    "df.dropna(axis=0, how='any', inplace=True)\n",
    "\n",
    "df.drop_duplicates(subset=None, keep=\"first\", inplace=True)\n",
    "\n",
    "df = shuffle(df)\n",
    "\n",
    "df.isna().sum()\n",
    "\n",
    "\n",
    "y = df['Traffic']\n",
    "X = df.drop(columns=['Traffic'])\n",
    "\n",
    "encoder = LabelEncoder()\n",
    "y = encoder.fit_transform(y.values.reshape(-1, 1))\n",
    "\n",
    "scaler = MinMaxScaler()\n",
    "X = scaler.fit_transform(X)\n",
    "\n",
    "\n",
    "x_train, x_temp, y_train, y_temp = train_test_split(X, y, test_size=0.4, random_state=42, stratify=y)\n",
    "x_val, x_test, y_val, y_test = train_test_split(x_temp, y_temp, test_size=0.5, random_state=42, stratify=y_temp)\n",
    "\n",
    "# # preprocessing\n",
    "# x_train_scaled = preprocessing.scale(x_train)\n",
    "# x_test_scaled = preprocessing.scale(x_test)\n",
    "# x_val_scaled = preprocessing.scale(x_val)\n",
    "\n",
    "# x_train = np.copy(x_train_scaled)\n",
    "# x_test = np.copy(x_test_scaled)\n",
    "# x_val = np.copy(x_val_scaled)\n",
    "\n",
    "# label_encoder = LabelEncoder()\n",
    "# y_train = label_encoder.fit_transform(y_train)\n",
    "# y_test = label_encoder.transform(y_test)\n",
    "# y_val = label_encoder.transform(y_val)\n",
    "\n",
    "\n",
    "np.save('/home/jovyan/Wustl_iiot/x_train.npy', x_train)\n",
    "np.save('/home/jovyan/Wustl_iiot/y_train.npy', y_train)\n",
    "np.save('/home/jovyan/Wustl_iiot/x_val.npy', x_val)\n",
    "np.save('/home/jovyan/Wustl_iiot/y_val.npy', y_val)\n",
    "np.save('/home/jovyan/Wustl_iiot/x_test.npy', x_test)\n",
    "np.save('/home/jovyan/Wustl_iiot/y_test.npy', y_test)"
   ]
  },
  {
   "cell_type": "code",
   "execution_count": null,
   "metadata": {},
   "outputs": [],
   "source": [
    "print(\"done\")"
   ]
  },
  {
   "cell_type": "code",
   "execution_count": null,
   "metadata": {},
   "outputs": [],
   "source": []
  }
 ],
 "metadata": {
  "colab": {
   "authorship_tag": "ABX9TyNNv8T4vA6/2+/ypCce0gGR",
   "mount_file_id": "1fpPzLxt4vkgz2Q8y97GQC034tGPU6BAG",
   "provenance": []
  },
  "kernelspec": {
   "display_name": "Python 3 (ipykernel)",
   "language": "python",
   "name": "python3"
  },
  "language_info": {
   "codemirror_mode": {
    "name": "ipython",
    "version": 3
   },
   "file_extension": ".py",
   "mimetype": "text/x-python",
   "name": "python",
   "nbconvert_exporter": "python",
   "pygments_lexer": "ipython3",
   "version": "3.11.5"
  }
 },
 "nbformat": 4,
 "nbformat_minor": 4
}
