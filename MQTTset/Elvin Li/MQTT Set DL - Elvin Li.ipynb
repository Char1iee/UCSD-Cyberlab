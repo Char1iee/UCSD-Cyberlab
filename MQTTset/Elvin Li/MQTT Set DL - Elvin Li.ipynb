{
 "cells": [
  {
   "cell_type": "markdown",
   "id": "650fa3f6",
   "metadata": {},
   "source": [
    "# Imports"
   ]
  },
  {
   "cell_type": "code",
   "execution_count": 76,
   "id": "4a1cf05a",
   "metadata": {},
   "outputs": [],
   "source": [
    "import pandas as pd\n",
    "import numpy as np\n",
    "import matplotlib.pyplot as plt\n",
    "\n",
    "from sklearn.model_selection import train_test_split\n",
    "from sklearn import metrics\n",
    "from tensorflow.keras.models import Sequential\n",
    "from tensorflow.keras.layers import Dense, Activation\n",
    "from tensorflow.keras.callbacks import EarlyStopping\n",
    "from sklearn import tree \n",
    "from sklearn.metrics import confusion_matrix\n",
    "from matplotlib import pyplot as pyplot\n",
    "from sklearn.metrics import roc_auc_score, roc_curve\n",
    "from sklearn.metrics import accuracy_score, precision_score, recall_score, f1_score\n",
    "from sklearn.preprocessing import label_binarize\n",
    "from sklearn.metrics import precision_recall_fscore_support\n",
    "\n",
    "from warnings import simplefilter\n",
    "import time\n",
    "start = time.time()"
   ]
  },
  {
   "cell_type": "code",
   "execution_count": 68,
   "id": "bde6aff5",
   "metadata": {},
   "outputs": [],
   "source": [
    "dftrain = pd.read_csv(\"train70.csv\", low_memory=False) \n",
    "dftest = pd.read_csv(\"test30.csv\", low_memory=False)\n",
    "simplefilter(action='ignore', category=FutureWarning)\n",
    "seed = 7"
   ]
  },
  {
   "cell_type": "code",
   "execution_count": 69,
   "id": "2e41972b",
   "metadata": {},
   "outputs": [],
   "source": [
    "class_names = dftrain.target.unique()\n",
    "dftrain=dftrain.astype('category')\n",
    "cat_columns = dftrain.select_dtypes(['category']).columns\n",
    "dftrain[cat_columns] = dftrain[cat_columns].apply(lambda x: x.cat.codes)\n",
    "x_columns = dftrain.columns.drop('target')\n",
    "x_train = dftrain[x_columns].values\n",
    "y_train = dftrain['target']\n",
    "\n",
    "class_names = dftest.target.unique()\n",
    "dftest=dftest.astype('category')\n",
    "cat_columns = dftest.select_dtypes(['category']).columns\n",
    "dftest[cat_columns] = dftest[cat_columns].apply(lambda x: x.cat.codes)\n",
    "x_columns = dftest.columns.drop('target')\n",
    "x_test = dftest[x_columns].values\n",
    "y_test = dftest['target']"
   ]
  },
  {
   "cell_type": "markdown",
   "id": "2972548c",
   "metadata": {},
   "source": [
    "## DNN"
   ]
  },
  {
   "cell_type": "code",
   "execution_count": 23,
   "id": "dca71a29",
   "metadata": {},
   "outputs": [],
   "source": [
    "import torch\n",
    "import torch.nn as nn\n",
    "import torch.optim as optim\n",
    "import torch.nn.functional as F\n",
    "from torch.utils.data import DataLoader, TensorDataset"
   ]
  },
  {
   "cell_type": "code",
   "execution_count": 26,
   "id": "44c4567a",
   "metadata": {},
   "outputs": [],
   "source": [
    "# Get X tensors\n",
    "X_train_tensor = torch.tensor(x_train, dtype=torch.float32)\n",
    "X_test_tensor = torch.tensor(x_test, dtype=torch.float32)\n",
    "\n",
    "# Get y tensors\n",
    "y_train_tensor = torch.tensor(y_train, dtype=torch.long)\n",
    "y_test_tensor = torch.tensor(y_test, dtype=torch.long)\n",
    "\n",
    "# Load training\n",
    "train_dataset = TensorDataset(X_train_tensor, y_train_tensor)\n",
    "train_loader = DataLoader(dataset=train_dataset, batch_size=1000)\n",
    "\n",
    "# Load testing\n",
    "test_dataset = TensorDataset(X_test_tensor, y_test_tensor)\n",
    "test_loader = DataLoader(dataset=test_dataset, batch_size=1000)"
   ]
  },
  {
   "cell_type": "code",
   "execution_count": 27,
   "id": "aeacd16a",
   "metadata": {},
   "outputs": [],
   "source": [
    "class EarlyStopping:\n",
    "    def __init__(self, patience=5, delta=0):\n",
    "        self.patience = patience\n",
    "        self.counter = 0\n",
    "        self.best_loss = None\n",
    "        self.early_stop = False\n",
    "        self.delta = delta\n",
    "\n",
    "    def __call__(self, val_loss):\n",
    "        if self.best_loss is None:\n",
    "            self.best_loss = val_loss\n",
    "        elif val_loss > self.best_loss - self.delta:\n",
    "            self.counter += 1\n",
    "            if self.counter >= self.patience:\n",
    "                self.early_stop = True\n",
    "        else:\n",
    "            self.best_loss = val_loss\n",
    "            self.counter = 0"
   ]
  },
  {
   "cell_type": "code",
   "execution_count": 28,
   "id": "f96ab657",
   "metadata": {},
   "outputs": [],
   "source": [
    "class DNNMulticlass(nn.Module):\n",
    "\n",
    "    def __init__(self):\n",
    "        super().__init__()\n",
    "        self.layer1 = nn.Linear(33, 50) # 33 features => X_train.shape[1]\n",
    "        self.layer2 = nn.Linear(50, 30)\n",
    "        self.layer3 = nn.Linear(30, 20)\n",
    "        self.out_layer = nn.Linear(20, 6) # 6 classifications =>  y_train.value_counts()\n",
    "\n",
    "    def forward(self, x):\n",
    "        x = F.leaky_relu(self.layer1(x), negative_slope=0.05)\n",
    "        x = F.leaky_relu(self.layer2(x), negative_slope=0.05)\n",
    "        x = F.leaky_relu(self.layer3(x), negative_slope=0.05)\n",
    "        x = self.out_layer(x) \n",
    "        return x\n",
    "    "
   ]
  },
  {
   "cell_type": "code",
   "execution_count": 30,
   "id": "0653ec79",
   "metadata": {},
   "outputs": [
    {
     "name": "stdout",
     "output_type": "stream",
     "text": [
      "Epoch [1/10], Training Loss: 0.0460, Validation Loss: 0.0576\n",
      "Epoch [2/10], Training Loss: 0.0202, Validation Loss: 0.0652\n",
      "Epoch [3/10], Training Loss: 0.0156, Validation Loss: 0.0625\n",
      "Epoch [4/10], Training Loss: 0.0143, Validation Loss: 0.0599\n",
      "Epoch [5/10], Training Loss: 0.0137, Validation Loss: 0.0605\n",
      "Epoch [6/10], Training Loss: 0.0134, Validation Loss: 0.0604\n",
      "Epoch [7/10], Training Loss: 0.0131, Validation Loss: 0.0604\n",
      "Epoch [8/10], Training Loss: 0.0129, Validation Loss: 0.0589\n",
      "Epoch [9/10], Training Loss: 0.0129, Validation Loss: 0.0546\n",
      "Epoch [10/10], Training Loss: 0.0128, Validation Loss: 0.0547\n",
      "Finished Training\n"
     ]
    }
   ],
   "source": [
    "# Training script\n",
    "\n",
    "model_dnn = DNNMulticlass()\n",
    "early_stopping = EarlyStopping(patience=10, delta=0.001) # If model doesn't improve by 0.001 in \"patience\" steps, end training \n",
    "\n",
    "criterion = nn.CrossEntropyLoss() \n",
    "optimizer = optim.Adam(model_dnn.parameters(), lr=0.001)\n",
    "\n",
    "training_losses = []\n",
    "validation_losses = []\n",
    "\n",
    "epochs = 10\n",
    "for epoch in range(epochs): \n",
    "    model_dnn.train()\n",
    "    train_loss = 0.0\n",
    "    for inputs, labels in train_loader:\n",
    "\n",
    "        optimizer.zero_grad()\n",
    "\n",
    "        # Feed forward + backpropogate\n",
    "        outputs = model_dnn(inputs)\n",
    "        loss = criterion(outputs, labels)\n",
    "        loss.backward()\n",
    "        optimizer.step()\n",
    "        train_loss += loss.item()\n",
    "\n",
    "    avg_train_loss = train_loss / len(train_loader)\n",
    "    training_losses.append(avg_train_loss)\n",
    "\n",
    "    # Validation\n",
    "    model_dnn.eval()\n",
    "    with torch.no_grad():\n",
    "        val_loss = 0.0\n",
    "        for inputs, labels in test_loader:\n",
    "            outputs = model_dnn(inputs)\n",
    "            loss = criterion(outputs, labels)\n",
    "            val_loss += loss.item()\n",
    "\n",
    "        # Average validation loss for this epoch\n",
    "        avg_val_loss = val_loss / len(test_loader)\n",
    "        validation_losses.append(avg_val_loss)\n",
    "\n",
    "    print(f'Epoch [{epoch + 1}/{epochs}], Training Loss: {avg_train_loss:.4f}, Validation Loss: {avg_val_loss:.4f}')\n",
    "\n",
    "    early_stopping(avg_val_loss)\n",
    "    if early_stopping.early_stop:\n",
    "        print(\"Early stopping triggered\")\n",
    "        break\n",
    "\n",
    "print('Finished Training')"
   ]
  },
  {
   "cell_type": "code",
   "execution_count": 31,
   "id": "40d6d0fe",
   "metadata": {},
   "outputs": [
    {
     "data": {
      "image/png": "[encoded data removed]",
      "text/plain": [
       "<Figure size 1000x600 with 1 Axes>"
      ]
     },
     "metadata": {},
     "output_type": "display_data"
    }
   ],
   "source": [
    "# Get the training and validation graphs\n",
    "\n",
    "plt.figure(figsize=(10, 6))\n",
    "plt.plot(training_losses, label='Training Loss')\n",
    "plt.plot(validation_losses, label='Validation Loss')\n",
    "plt.title('Training and Validation Loss per Epoch')\n",
    "plt.xlabel('Epochs')\n",
    "plt.ylabel('Loss')\n",
    "plt.legend()\n",
    "plt.show()"
   ]
  },
  {
   "cell_type": "code",
   "execution_count": 32,
   "id": "0a090ded",
   "metadata": {},
   "outputs": [],
   "source": [
    "# Evaluations\n",
    "model_dnn.eval()\n",
    "\n",
    "all_predictions = []\n",
    "all_labels = []\n",
    "\n",
    "with torch.no_grad():\n",
    "    for inputs, labels in test_loader:\n",
    "        outputs = model_dnn(inputs)\n",
    "        _, predicted = torch.max(outputs, 1)  # Get the index of the max logit\n",
    "        all_predictions.extend(predicted.numpy())\n",
    "        all_labels.extend(labels.numpy())\n",
    "\n",
    "all_predictions = np.array(all_predictions)\n",
    "all_labels = np.array(all_labels)\n",
    "\n",
    "conf_matrix = confusion_matrix(all_labels, all_predictions)"
   ]
  },
  {
   "cell_type": "code",
   "execution_count": 43,
   "id": "debce7ba",
   "metadata": {},
   "outputs": [
    {
     "name": "stdout",
     "output_type": "stream",
     "text": [
      "AUC (One-vs-Rest): 0.97\n"
     ]
    }
   ],
   "source": [
    "model_dnn.eval()\n",
    "\n",
    "all_probabilities = []\n",
    "all_labels = []\n",
    "\n",
    "with torch.no_grad():\n",
    "    for inputs, labels in test_loader:\n",
    "        outputs = model_dnn(inputs)\n",
    "        probabilities = F.softmax(outputs, dim=1)\n",
    "        all_probabilities.extend(probabilities.numpy())\n",
    "        all_labels.extend(labels.numpy())\n",
    "\n",
    "all_probabilities = np.array(all_probabilities)\n",
    "all_labels = np.array(all_labels)\n",
    "\n",
    "classes = np.arange(6)  # 6 classes\n",
    "y_test_binarized = label_binarize(all_labels, classes=classes)\n",
    "\n",
    "auc = roc_auc_score(y_test_binarized, all_probabilities, multi_class='ovr')\n",
    "\n",
    "print(f\"AUC (One-vs-Rest): {auc:.2f}\")"
   ]
  },
  {
   "cell_type": "code",
   "execution_count": null,
   "id": "51a0aea6",
   "metadata": {},
   "outputs": [],
   "source": []
  },
  {
   "cell_type": "code",
   "execution_count": 51,
   "id": "21c6ebfb",
   "metadata": {},
   "outputs": [
    {
     "name": "stdout",
     "output_type": "stream",
     "text": [
      "0.9695215986106736\n"
     ]
    }
   ],
   "source": [
    "auc = roc_auc_score(y_test_binarized, all_probabilities, multi_class='ovr', average='weighted')\n",
    "print(auc)"
   ]
  },
  {
   "cell_type": "code",
   "execution_count": 57,
   "id": "7bcf0e6c",
   "metadata": {},
   "outputs": [
    {
     "name": "stdout",
     "output_type": "stream",
     "text": [
      "0.9997075410520507\n"
     ]
    }
   ],
   "source": [
    "auc = roc_auc_score(y_test_binarized, all_probabilities, multi_class='ovr', average='micro')\n",
    "print(auc)"
   ]
  },
  {
   "cell_type": "code",
   "execution_count": 59,
   "id": "48777126",
   "metadata": {},
   "outputs": [
    {
     "name": "stdout",
     "output_type": "stream",
     "text": [
      "Accuracy: 0.9964029570964963\n",
      "Precision: 0.9964029570964963\n",
      "Recall: 0.9964029570964963\n",
      "F1 Score: 0.9964029570964963\n"
     ]
    }
   ],
   "source": [
    "accuracy = accuracy_score(all_labels, all_predictions)\n",
    "precision = precision_score(all_labels, all_predictions, average='micro')\n",
    "recall = recall_score(all_labels, all_predictions, average='micro')\n",
    "f1 = f1_score(all_labels, all_predictions, average='micro')\n",
    "\n",
    "# Print the metrics\n",
    "print(f'Accuracy: {accuracy}')\n",
    "print(f'Precision: {precision}')\n",
    "print(f'Recall: {recall}')\n",
    "print(f'F1 Score: {f1}')"
   ]
  },
  {
   "cell_type": "code",
   "execution_count": 54,
   "id": "7f6dda35",
   "metadata": {},
   "outputs": [
    {
     "data": {
      "text/plain": [
       "{'Weighted True Positive Rate (TPR)': 0.9964,\n",
       " 'Weighted False Positive Rate (FPR)': 0.1318,\n",
       " 'Weighted False Negative Rate (FNR)': 0.0036,\n",
       " 'Weighted True Negative Rate (TNR)': 0.8682}"
      ]
     },
     "execution_count": 54,
     "metadata": {},
     "output_type": "execute_result"
    }
   ],
   "source": [
    "num_classes = 6\n",
    "weighted_TPR, weighted_FPR, weighted_FNR, weighted_TNR = 0, 0, 0, 0\n",
    "total_instances = np.sum(conf_matrix)\n",
    "\n",
    "for i in range(num_classes):\n",
    "    TP = conf_matrix[i, i]\n",
    "    FP = np.sum(conf_matrix[:, i]) - TP\n",
    "    FN = np.sum(conf_matrix[i, :]) - TP\n",
    "    TN = np.sum(conf_matrix) - TP - FP - FN\n",
    "\n",
    "    TPR = TP / (TP + FN) if TP + FN > 0 else 0\n",
    "    FPR = FP / (FP + TN) if FP + TN > 0 else 0\n",
    "    FNR = FN / (FN + TP) if FN + TP > 0 else 0\n",
    "    TNR = TN / (TN + FP) if TN + FP > 0 else 0\n",
    "\n",
    "    class_weight = np.sum(conf_matrix[i, :]) / total_instances\n",
    "\n",
    "    weighted_TPR += TPR * class_weight\n",
    "    weighted_FPR += FPR * class_weight\n",
    "    weighted_FNR += FNR * class_weight\n",
    "    weighted_TNR += TNR * class_weight\n",
    "\n",
    "weighted_metrics = {\n",
    "    \"Weighted True Positive Rate (TPR)\": round(weighted_TPR, 4),\n",
    "    \"Weighted False Positive Rate (FPR)\": round(weighted_FPR, 4),\n",
    "    \"Weighted False Negative Rate (FNR)\": round(weighted_FNR, 4),\n",
    "    \"Weighted True Negative Rate (TNR)\": round(weighted_TNR, 4)\n",
    "}\n",
    "\n",
    "weighted_metrics"
   ]
  },
  {
   "cell_type": "code",
   "execution_count": 56,
   "id": "eb0bb4db",
   "metadata": {},
   "outputs": [
    {
     "data": {
      "text/plain": [
       "{'Macro True Positive Rate (TPR)': 0.7516,\n",
       " 'Macro False Positive Rate (FPR)': 0.0226,\n",
       " 'Macro False Negative Rate (FNR)': 0.2484,\n",
       " 'Macro True Negative Rate (TNR)': 0.9774}"
      ]
     },
     "execution_count": 56,
     "metadata": {},
     "output_type": "execute_result"
    }
   ],
   "source": [
    "num_classes = 6\n",
    "total_TPR, total_FPR, total_FNR, total_TNR = 0, 0, 0, 0\n",
    "\n",
    "for i in range(num_classes):\n",
    "    TP = conf_matrix[i, i]\n",
    "    FP = np.sum(conf_matrix[:, i]) - TP\n",
    "    FN = np.sum(conf_matrix[i, :]) - TP\n",
    "    TN = np.sum(conf_matrix) - TP - FP - FN\n",
    "\n",
    "    TPR = TP / (TP + FN) if TP + FN > 0 else 0\n",
    "    FPR = FP / (FP + TN) if FP + TN > 0 else 0\n",
    "    FNR = FN / (FN + TP) if FN + TP > 0 else 0\n",
    "    TNR = TN / (TN + FP) if TN + FP > 0 else 0\n",
    "\n",
    "    total_TPR += TPR\n",
    "    total_FPR += FPR\n",
    "    total_FNR += FNR\n",
    "    total_TNR += TNR\n",
    "\n",
    "macro_TPR = total_TPR / num_classes\n",
    "macro_FPR = total_FPR / num_classes\n",
    "macro_FNR = total_FNR / num_classes\n",
    "macro_TNR = total_TNR / num_classes\n",
    "\n",
    "macro_metrics = {\n",
    "    \"Macro True Positive Rate (TPR)\": round(macro_TPR, 4),\n",
    "    \"Macro False Positive Rate (FPR)\": round(macro_FPR, 4),\n",
    "    \"Macro False Negative Rate (FNR)\": round(macro_FNR, 4),\n",
    "    \"Macro True Negative Rate (TNR)\": round(macro_TNR, 4)\n",
    "}\n",
    "\n",
    "macro_metrics"
   ]
  },
  {
   "cell_type": "code",
   "execution_count": 58,
   "id": "c4b2f583",
   "metadata": {},
   "outputs": [
    {
     "data": {
      "text/plain": [
       "{'Micro True Positive Rate (TPR)': 0.9964,\n",
       " 'Micro False Positive Rate (FPR)': 0.0007,\n",
       " 'Micro False Negative Rate (FNR)': 0.0036,\n",
       " 'Micro True Negative Rate (TNR)': 0.9993}"
      ]
     },
     "execution_count": 58,
     "metadata": {},
     "output_type": "execute_result"
    }
   ],
   "source": [
    "num_classes = 6\n",
    "total_TP, total_FP, total_FN, total_TN = 0, 0, 0, 0\n",
    "\n",
    "for i in range(num_classes):\n",
    "    TP = conf_matrix[i, i]\n",
    "    FP = np.sum(conf_matrix[:, i]) - TP\n",
    "    FN = np.sum(conf_matrix[i, :]) - TP\n",
    "    TN = np.sum(conf_matrix) - TP - FP - FN\n",
    "\n",
    "    total_TP += TP\n",
    "    total_FP += FP\n",
    "    total_FN += FN\n",
    "    total_TN += TN\n",
    "\n",
    "micro_TPR = total_TP / (total_TP + total_FN) if total_TP + total_FN > 0 else 0\n",
    "micro_FPR = total_FP / (total_FP + total_TN) if total_FP + total_TN > 0 else 0\n",
    "micro_FNR = total_FN / (total_FN + total_TP) if total_FN + total_TP > 0 else 0\n",
    "micro_TNR = total_TN / (total_TN + total_FP) if total_TN + total_FP > 0 else 0\n",
    "\n",
    "micro_metrics = {\n",
    "    \"Micro True Positive Rate (TPR)\": round(micro_TPR, 4),\n",
    "    \"Micro False Positive Rate (FPR)\": round(micro_FPR, 4),\n",
    "    \"Micro False Negative Rate (FNR)\": round(micro_FNR, 4),\n",
    "    \"Micro True Negative Rate (TNR)\": round(micro_TNR, 4)\n",
    "}\n",
    "\n",
    "micro_metrics"
   ]
  },
  {
   "cell_type": "markdown",
   "id": "7673773a",
   "metadata": {},
   "source": [
    "## CNN"
   ]
  },
  {
   "cell_type": "code",
   "execution_count": 60,
   "id": "97d6c297",
   "metadata": {},
   "outputs": [],
   "source": [
    "import tensorflow as tf\n",
    "from tensorflow.keras import Model\n",
    "from tensorflow.keras.models import Sequential\n",
    "from tensorflow.keras.layers import Input, Dense, Conv1D, MaxPooling1D, Flatten\n",
    "from tensorflow.keras.optimizers import SGD"
   ]
  },
  {
   "cell_type": "code",
   "execution_count": 61,
   "id": "f334f773",
   "metadata": {},
   "outputs": [
    {
     "data": {
      "text/plain": [
       "array([[    6,   142,    11, ...,     0,     0,     0],\n",
       "       [    6, 11039,    11, ...,     0,     0,     0],\n",
       "       [    2,     8,     0, ...,     0,     0,     0],\n",
       "       ...,\n",
       "       [    2,     8,     0, ...,     0,     0,     0],\n",
       "       [    6,    10,    11, ...,     0,     0,     0],\n",
       "       [    2,     4,     0, ...,     0,     0,     0]], dtype=int32)"
      ]
     },
     "execution_count": 61,
     "metadata": {},
     "output_type": "execute_result"
    }
   ],
   "source": [
    "x_train"
   ]
  },
  {
   "cell_type": "code",
   "execution_count": 62,
   "id": "024e3c88",
   "metadata": {
    "scrolled": true
   },
   "outputs": [
    {
     "data": {
      "text/plain": [
       "array([[   6, 7185,    7, ...,    0,    0,    0],\n",
       "       [   6, 8387,   10, ...,    0,    0,    0],\n",
       "       [   6,  157,    7, ...,    0,    0,    0],\n",
       "       ...,\n",
       "       [   6,    5,   10, ...,    0,    0,    0],\n",
       "       [   6,  103,   10, ...,    0,    0,    0],\n",
       "       [   6,   10,   10, ...,    0,    0,    0]], dtype=int16)"
      ]
     },
     "execution_count": 62,
     "metadata": {},
     "output_type": "execute_result"
    }
   ],
   "source": [
    "x_test"
   ]
  },
  {
   "cell_type": "code",
   "execution_count": 70,
   "id": "2128d8b7",
   "metadata": {},
   "outputs": [],
   "source": [
    "### Reshape training and test data for CNN model training\n",
    "x_train_cnn = x_train.reshape(x_train.shape[0], x_train.shape[1], 1)\n",
    "x_test_cnn = x_test.reshape(x_test.shape[0], x_test.shape[1], 1)\n",
    "input_shape = x_train_cnn.shape[1:]\n",
    "\n",
    "y_train_cnn = np.array(y_train)\n",
    "num_classes = len(np.unique(y_train))"
   ]
  },
  {
   "cell_type": "code",
   "execution_count": 120,
   "id": "67942758",
   "metadata": {},
   "outputs": [],
   "source": [
    "cnn_model = Sequential()\n",
    "cnn_model.add(Conv1D(filters=20, kernel_size=4, strides=2, padding='valid', activation='relu', input_shape=input_shape))\n",
    "cnn_model.add(MaxPooling1D())\n",
    "cnn_model.add(Conv1D(filters=20, kernel_size=4, strides=2, padding='same', activation='relu'))\n",
    "cnn_model.add(Conv1D(filters=3, kernel_size=2, strides=1, padding='same', activation='relu'))\n",
    "cnn_model.add(Flatten())\n",
    "cnn_model.add(Dense(units=100, activation='relu'))\n",
    "cnn_model.add(Dense(units=50, activation='relu'))\n",
    "cnn_model.add(Dense(units=30, activation='relu'))\n",
    "cnn_model.add(Dense(units=20, activation='relu'))\n",
    "cnn_model.add(Dense(units=num_classes, activation='softmax'))\n",
    "\n",
    "opt = SGD(learning_rate=0.001) \n",
    "cnn_model.compile(loss = \"sparse_categorical_crossentropy\", optimizer=opt, metrics=['accuracy'])"
   ]
  },
  {
   "cell_type": "code",
   "execution_count": 121,
   "id": "9a1140a3",
   "metadata": {
    "scrolled": true
   },
   "outputs": [
    {
     "name": "stdout",
     "output_type": "stream",
     "text": [
      "Epoch 1/10\n",
      "6766/6766 [==============================] - 153s 22ms/step - loss: 0.2027 - accuracy: 0.9929 - val_loss: 0.1551 - val_accuracy: 0.9688\n",
      "Epoch 2/10\n",
      "6766/6766 [==============================] - 164s 24ms/step - loss: 0.0512 - accuracy: 0.9938 - val_loss: 0.0482 - val_accuracy: 0.9939\n",
      "Epoch 3/10\n",
      "6766/6766 [==============================] - 175s 26ms/step - loss: 0.0481 - accuracy: 0.9939 - val_loss: 0.0463 - val_accuracy: 0.9940\n",
      "Epoch 4/10\n",
      "6766/6766 [==============================] - 352s 52ms/step - loss: 0.0469 - accuracy: 0.9939 - val_loss: 0.0462 - val_accuracy: 0.9940\n",
      "Epoch 5/10\n",
      "6766/6766 [==============================] - 145s 21ms/step - loss: 0.0458 - accuracy: 0.9939 - val_loss: 0.0449 - val_accuracy: 0.9940\n",
      "Epoch 6/10\n",
      "6766/6766 [==============================] - 158s 23ms/step - loss: 0.0450 - accuracy: 0.9939 - val_loss: 0.0437 - val_accuracy: 0.9940\n",
      "Epoch 7/10\n",
      "6766/6766 [==============================] - 151s 22ms/step - loss: 0.0442 - accuracy: 0.9939 - val_loss: 0.0432 - val_accuracy: 0.9940\n",
      "Epoch 8/10\n",
      "6766/6766 [==============================] - 138s 20ms/step - loss: 0.0430 - accuracy: 0.9939 - val_loss: 0.0424 - val_accuracy: 0.9940\n",
      "Epoch 9/10\n",
      "6766/6766 [==============================] - 137s 20ms/step - loss: 0.0415 - accuracy: 0.9940 - val_loss: 0.0401 - val_accuracy: 0.9940\n",
      "Epoch 10/10\n",
      "6766/6766 [==============================] - 138s 20ms/step - loss: 0.0404 - accuracy: 0.9940 - val_loss: 0.0400 - val_accuracy: 0.9942\n"
     ]
    }
   ],
   "source": [
    "hist = cnn_model.fit(x_train, y_train, epochs=10,\n",
    "                       batch_size=1000, validation_split=0.2,\n",
    "                       callbacks = [tf.keras.callbacks.EarlyStopping(monitor='val_loss', min_delta=0.001, patience=5)])"
   ]
  },
  {
   "cell_type": "code",
   "execution_count": 122,
   "id": "d6d70a8e",
   "metadata": {
    "scrolled": false
   },
   "outputs": [
    {
     "data": {
      "image/png": "[encoded data removed]",
      "text/plain": [
       "<Figure size 800x500 with 1 Axes>"
      ]
     },
     "metadata": {},
     "output_type": "display_data"
    }
   ],
   "source": [
    "train_loss = hist.history['loss']\n",
    "val_loss = hist.history['val_loss']\n",
    "\n",
    "epochs = range(1, len(train_loss) + 1)\n",
    "\n",
    "# Plotting\n",
    "plt.figure(figsize=(8, 5))\n",
    "plt.plot(epochs, train_loss, 'bo-', label='Training Loss')\n",
    "plt.plot(epochs, val_loss, 'ro-', label='Validation Loss')\n",
    "plt.title('Training and Validation Loss')\n",
    "plt.xlabel('Epochs')\n",
    "plt.ylabel('Loss')\n",
    "plt.legend()\n",
    "\n",
    "plt.show()"
   ]
  },
  {
   "cell_type": "code",
   "execution_count": 123,
   "id": "99dafc81",
   "metadata": {},
   "outputs": [
    {
     "name": "stdout",
     "output_type": "stream",
     "text": [
      "113262/113262 [==============================] - 169s 1ms/step\n"
     ]
    }
   ],
   "source": [
    "y_pred_probs = cnn_model.predict(x_test)\n"
   ]
  },
  {
   "cell_type": "code",
   "execution_count": 108,
   "id": "8b80b51f",
   "metadata": {},
   "outputs": [
    {
     "data": {
      "text/plain": [
       "array([[3.56696721e-04, 1.27647037e-03, 1.25250197e-04, 9.97684002e-01,\n",
       "        2.89653806e-04, 2.67946773e-04],\n",
       "       [4.64322511e-05, 2.01809671e-04, 1.11731952e-05, 9.99675632e-01,\n",
       "        3.92713628e-05, 2.57839129e-05],\n",
       "       [1.16304145e-04, 9.74070630e-04, 3.18301572e-05, 9.97052193e-01,\n",
       "        1.82323856e-03, 2.45624847e-06],\n",
       "       ...,\n",
       "       [1.01470425e-04, 9.22890496e-04, 2.34731524e-05, 9.97199535e-01,\n",
       "        1.75068132e-03, 1.86520197e-06],\n",
       "       [1.44444362e-04, 6.80928526e-04, 5.25187352e-05, 9.98894274e-01,\n",
       "        1.25193139e-04, 1.02689592e-04],\n",
       "       [1.57016402e-04, 7.22041645e-04, 5.62560963e-05, 9.98818815e-01,\n",
       "        1.36438117e-04, 1.09422093e-04]], dtype=float32)"
      ]
     },
     "execution_count": 108,
     "metadata": {},
     "output_type": "execute_result"
    }
   ],
   "source": [
    "y_pred_probs"
   ]
  },
  {
   "cell_type": "code",
   "execution_count": 124,
   "id": "87c1dba2",
   "metadata": {},
   "outputs": [],
   "source": [
    "y_pred = np.argmax(y_pred_probs, axis=-1)"
   ]
  },
  {
   "cell_type": "code",
   "execution_count": 117,
   "id": "89947079",
   "metadata": {
    "scrolled": true
   },
   "outputs": [
    {
     "data": {
      "text/plain": [
       "array([1, 3, 4], dtype=int64)"
      ]
     },
     "execution_count": 117,
     "metadata": {},
     "output_type": "execute_result"
    }
   ],
   "source": [
    "np.unique(y_pred)"
   ]
  },
  {
   "cell_type": "code",
   "execution_count": 125,
   "id": "5d17ee6e",
   "metadata": {},
   "outputs": [],
   "source": [
    "conf_matrix = confusion_matrix(y_test, y_pred)"
   ]
  },
  {
   "cell_type": "code",
   "execution_count": 132,
   "id": "77757a88",
   "metadata": {},
   "outputs": [
    {
     "name": "stdout",
     "output_type": "stream",
     "text": [
      "Macro-average AUC: 0.8908673224587403\n"
     ]
    }
   ],
   "source": [
    "num_classes = y_pred_probs.shape[1]\n",
    "y_test_binarized = label_binarize(y_test, classes=range(num_classes))\n",
    "\n",
    "auc_scores = []\n",
    "for i in range(num_classes):\n",
    "    auc_score = roc_auc_score(y_test_binarized[:, i], y_pred_probs[:, i])\n",
    "    auc_scores.append(auc_score)\n",
    "\n",
    "macro_auc = np.mean(auc_scores)\n",
    "print(\"Macro-average AUC:\", macro_auc)"
   ]
  },
  {
   "cell_type": "code",
   "execution_count": 135,
   "id": "78fe80b3",
   "metadata": {},
   "outputs": [
    {
     "name": "stdout",
     "output_type": "stream",
     "text": [
      "Weighted-average AUC: 0.9677888539370741\n"
     ]
    }
   ],
   "source": [
    "class_support = np.sum(y_test_binarized, axis=0)\n",
    "\n",
    "weighted_auc = 0\n",
    "total_instances = len(y_test)\n",
    "for i in range(num_classes):\n",
    "    class_weight = class_support[i] / total_instances\n",
    "    auc_score = roc_auc_score(y_test_binarized[:, i], y_pred_probs[:, i])\n",
    "    weighted_auc += auc_score * class_weight\n",
    "\n",
    "print(\"Weighted-average AUC:\", weighted_auc)"
   ]
  },
  {
   "cell_type": "code",
   "execution_count": 136,
   "id": "79eb5e3b",
   "metadata": {},
   "outputs": [
    {
     "name": "stdout",
     "output_type": "stream",
     "text": [
      "Micro-average AUC: 0.9992057671536149\n"
     ]
    }
   ],
   "source": [
    "y_test_flat = y_test_binarized.ravel()\n",
    "y_pred_probs_flat = y_pred_probs.ravel()\n",
    "\n",
    "# Calculate the micro-average AUC\n",
    "micro_auc = roc_auc_score(y_test_flat, y_pred_probs_flat)\n",
    "\n",
    "print(\"Micro-average AUC:\", micro_auc)"
   ]
  },
  {
   "cell_type": "code",
   "execution_count": 126,
   "id": "5975dedb",
   "metadata": {},
   "outputs": [
    {
     "name": "stdout",
     "output_type": "stream",
     "text": [
      "Macro Accuracy: 0.9940\n",
      "Macro Precision: 0.3323\n",
      "Macro Recall: 0.2853\n",
      "Macro F1 Score: 0.3048\n"
     ]
    },
    {
     "name": "stderr",
     "output_type": "stream",
     "text": [
      "C:\\Users\\Elvin\\anaconda3\\lib\\site-packages\\sklearn\\metrics\\_classification.py:1344: UndefinedMetricWarning: Precision and F-score are ill-defined and being set to 0.0 in labels with no predicted samples. Use `zero_division` parameter to control this behavior.\n",
      "  _warn_prf(average, modifier, msg_start, len(result))\n"
     ]
    }
   ],
   "source": [
    "precision, recall, f1_score, _ = precision_recall_fscore_support(y_test, y_pred, average='macro')\n",
    "accuracy = accuracy_score(y_test, y_pred)\n",
    "\n",
    "print(f\"Macro Accuracy: {accuracy:.4f}\")\n",
    "print(f\"Macro Precision: {precision:.4f}\")\n",
    "print(f\"Macro Recall: {recall:.4f}\")\n",
    "print(f\"Macro F1 Score: {f1_score:.4f}\")"
   ]
  },
  {
   "cell_type": "code",
   "execution_count": 127,
   "id": "1a5780e4",
   "metadata": {},
   "outputs": [
    {
     "name": "stdout",
     "output_type": "stream",
     "text": [
      "Micro Accuracy: 0.9940\n",
      "Micro Precision: 0.9940\n",
      "Micro Recall: 0.9940\n",
      "Micro F1 Score: 0.9940\n"
     ]
    }
   ],
   "source": [
    "precision, recall, f1_score, _ = precision_recall_fscore_support(y_test, y_pred, average='micro')\n",
    "accuracy = accuracy_score(y_test, y_pred)\n",
    "\n",
    "print(f\"Micro Accuracy: {accuracy:.4f}\")\n",
    "print(f\"Micro Precision: {precision:.4f}\")\n",
    "print(f\"Micro Recall: {recall:.4f}\")\n",
    "print(f\"Micro F1 Score: {f1_score:.4f}\")"
   ]
  },
  {
   "cell_type": "code",
   "execution_count": 128,
   "id": "52332534",
   "metadata": {},
   "outputs": [
    {
     "name": "stdout",
     "output_type": "stream",
     "text": [
      "Weighted Accuracy: 0.9940\n",
      "Weighted Precision: 0.9911\n",
      "Weighted Recall: 0.9940\n",
      "Weighted F1 Score: 0.9923\n"
     ]
    },
    {
     "name": "stderr",
     "output_type": "stream",
     "text": [
      "C:\\Users\\Elvin\\anaconda3\\lib\\site-packages\\sklearn\\metrics\\_classification.py:1344: UndefinedMetricWarning: Precision and F-score are ill-defined and being set to 0.0 in labels with no predicted samples. Use `zero_division` parameter to control this behavior.\n",
      "  _warn_prf(average, modifier, msg_start, len(result))\n"
     ]
    }
   ],
   "source": [
    "precision, recall, f1_score, _ = precision_recall_fscore_support(y_test, y_pred, average='weighted')\n",
    "accuracy = accuracy_score(y_test, y_pred)\n",
    "\n",
    "print(f\"Weighted Accuracy: {accuracy:.4f}\")\n",
    "print(f\"Weighted Precision: {precision:.4f}\")\n",
    "print(f\"Weighted Recall: {recall:.4f}\")\n",
    "print(f\"Weighted F1 Score: {f1_score:.4f}\")"
   ]
  },
  {
   "cell_type": "code",
   "execution_count": 129,
   "id": "f8c0e645",
   "metadata": {},
   "outputs": [
    {
     "data": {
      "text/plain": [
       "{'Weighted True Positive Rate (TPR)': 0.994,\n",
       " 'Weighted False Positive Rate (FPR)': 0.4337,\n",
       " 'Weighted False Negative Rate (FNR)': 0.006,\n",
       " 'Weighted True Negative Rate (TNR)': 0.5663}"
      ]
     },
     "execution_count": 129,
     "metadata": {},
     "output_type": "execute_result"
    }
   ],
   "source": [
    "num_classes = 6\n",
    "weighted_TPR, weighted_FPR, weighted_FNR, weighted_TNR = 0, 0, 0, 0\n",
    "total_instances = np.sum(conf_matrix)\n",
    "\n",
    "for i in range(num_classes):\n",
    "    TP = conf_matrix[i, i]\n",
    "    FP = np.sum(conf_matrix[:, i]) - TP\n",
    "    FN = np.sum(conf_matrix[i, :]) - TP\n",
    "    TN = np.sum(conf_matrix) - TP - FP - FN\n",
    "\n",
    "    TPR = TP / (TP + FN) if TP + FN > 0 else 0\n",
    "    FPR = FP / (FP + TN) if FP + TN > 0 else 0\n",
    "    FNR = FN / (FN + TP) if FN + TP > 0 else 0\n",
    "    TNR = TN / (TN + FP) if TN + FP > 0 else 0\n",
    "\n",
    "    class_weight = np.sum(conf_matrix[i, :]) / total_instances\n",
    "\n",
    "    weighted_TPR += TPR * class_weight\n",
    "    weighted_FPR += FPR * class_weight\n",
    "    weighted_FNR += FNR * class_weight\n",
    "    weighted_TNR += TNR * class_weight\n",
    "\n",
    "weighted_metrics = {\n",
    "    \"Weighted True Positive Rate (TPR)\": round(weighted_TPR, 4),\n",
    "    \"Weighted False Positive Rate (FPR)\": round(weighted_FPR, 4),\n",
    "    \"Weighted False Negative Rate (FNR)\": round(weighted_FNR, 4),\n",
    "    \"Weighted True Negative Rate (TNR)\": round(weighted_TNR, 4)\n",
    "}\n",
    "\n",
    "weighted_metrics"
   ]
  },
  {
   "cell_type": "code",
   "execution_count": 130,
   "id": "04b870f2",
   "metadata": {},
   "outputs": [
    {
     "data": {
      "text/plain": [
       "{'Macro True Positive Rate (TPR)': 0.2853,\n",
       " 'Macro False Positive Rate (FPR)': 0.0733,\n",
       " 'Macro False Negative Rate (FNR)': 0.7147,\n",
       " 'Macro True Negative Rate (TNR)': 0.9267}"
      ]
     },
     "execution_count": 130,
     "metadata": {},
     "output_type": "execute_result"
    }
   ],
   "source": [
    "num_classes = 6\n",
    "total_TPR, total_FPR, total_FNR, total_TNR = 0, 0, 0, 0\n",
    "\n",
    "for i in range(num_classes):\n",
    "    TP = conf_matrix[i, i]\n",
    "    FP = np.sum(conf_matrix[:, i]) - TP\n",
    "    FN = np.sum(conf_matrix[i, :]) - TP\n",
    "    TN = np.sum(conf_matrix) - TP - FP - FN\n",
    "\n",
    "    TPR = TP / (TP + FN) if TP + FN > 0 else 0\n",
    "    FPR = FP / (FP + TN) if FP + TN > 0 else 0\n",
    "    FNR = FN / (FN + TP) if FN + TP > 0 else 0\n",
    "    TNR = TN / (TN + FP) if TN + FP > 0 else 0\n",
    "\n",
    "    total_TPR += TPR\n",
    "    total_FPR += FPR\n",
    "    total_FNR += FNR\n",
    "    total_TNR += TNR\n",
    "\n",
    "macro_TPR = total_TPR / num_classes\n",
    "macro_FPR = total_FPR / num_classes\n",
    "macro_FNR = total_FNR / num_classes\n",
    "macro_TNR = total_TNR / num_classes\n",
    "\n",
    "macro_metrics = {\n",
    "    \"Macro True Positive Rate (TPR)\": round(macro_TPR, 4),\n",
    "    \"Macro False Positive Rate (FPR)\": round(macro_FPR, 4),\n",
    "    \"Macro False Negative Rate (FNR)\": round(macro_FNR, 4),\n",
    "    \"Macro True Negative Rate (TNR)\": round(macro_TNR, 4)\n",
    "}\n",
    "\n",
    "macro_metrics"
   ]
  },
  {
   "cell_type": "code",
   "execution_count": 131,
   "id": "fc43d8e2",
   "metadata": {},
   "outputs": [
    {
     "data": {
      "text/plain": [
       "{'Micro True Positive Rate (TPR)': 0.994,\n",
       " 'Micro False Positive Rate (FPR)': 0.0012,\n",
       " 'Micro False Negative Rate (FNR)': 0.006,\n",
       " 'Micro True Negative Rate (TNR)': 0.9988}"
      ]
     },
     "execution_count": 131,
     "metadata": {},
     "output_type": "execute_result"
    }
   ],
   "source": [
    "num_classes = 6\n",
    "total_TP, total_FP, total_FN, total_TN = 0, 0, 0, 0\n",
    "\n",
    "for i in range(num_classes):\n",
    "    TP = conf_matrix[i, i]\n",
    "    FP = np.sum(conf_matrix[:, i]) - TP\n",
    "    FN = np.sum(conf_matrix[i, :]) - TP\n",
    "    TN = np.sum(conf_matrix) - TP - FP - FN\n",
    "\n",
    "    total_TP += TP\n",
    "    total_FP += FP\n",
    "    total_FN += FN\n",
    "    total_TN += TN\n",
    "\n",
    "micro_TPR = total_TP / (total_TP + total_FN) if total_TP + total_FN > 0 else 0\n",
    "micro_FPR = total_FP / (total_FP + total_TN) if total_FP + total_TN > 0 else 0\n",
    "micro_FNR = total_FN / (total_FN + total_TP) if total_FN + total_TP > 0 else 0\n",
    "micro_TNR = total_TN / (total_TN + total_FP) if total_TN + total_FP > 0 else 0\n",
    "\n",
    "micro_metrics = {\n",
    "    \"Micro True Positive Rate (TPR)\": round(micro_TPR, 4),\n",
    "    \"Micro False Positive Rate (FPR)\": round(micro_FPR, 4),\n",
    "    \"Micro False Negative Rate (FNR)\": round(micro_FNR, 4),\n",
    "    \"Micro True Negative Rate (TNR)\": round(micro_TNR, 4)\n",
    "}\n",
    "\n",
    "micro_metrics"
   ]
  },
  {
   "cell_type": "markdown",
   "id": "c13cc7bc",
   "metadata": {},
   "source": [
    "## RNN"
   ]
  },
  {
   "cell_type": "code",
   "execution_count": 141,
   "id": "151d1f86",
   "metadata": {},
   "outputs": [],
   "source": [
    "class EarlyStopping:\n",
    "    def __init__(self, patience=5, delta=0):\n",
    "        self.patience = patience\n",
    "        self.counter = 0\n",
    "        self.best_loss = None\n",
    "        self.early_stop = False\n",
    "        self.delta = delta\n",
    "\n",
    "    def __call__(self, val_loss):\n",
    "        if self.best_loss is None:\n",
    "            self.best_loss = val_loss\n",
    "        elif val_loss > self.best_loss - self.delta:\n",
    "            self.counter += 1\n",
    "            if self.counter >= self.patience:\n",
    "                self.early_stop = True\n",
    "        else:\n",
    "            self.best_loss = val_loss\n",
    "            self.counter = 0"
   ]
  },
  {
   "cell_type": "code",
   "execution_count": 138,
   "id": "951979cc",
   "metadata": {},
   "outputs": [],
   "source": [
    "num_features = 33\n",
    "num_classes = 6  # Number of classes\n",
    "\n",
    "class RNNTabularMulticlass(nn.Module):\n",
    "    def __init__(self, input_size, hidden_size, output_size):\n",
    "        super(RNNTabularMulticlass, self).__init__()\n",
    "        self.rnn = nn.RNN(input_size, hidden_size, num_layers=3, batch_first=True)\n",
    "        self.fc = nn.Linear(hidden_size, output_size)\n",
    "\n",
    "    def forward(self, x):\n",
    "        out, _ = self.rnn(x)\n",
    "        out = self.fc(out[:, -1, :])  # Take the output of the last time step\n",
    "        return out"
   ]
  },
  {
   "cell_type": "code",
   "execution_count": 143,
   "id": "47392b56",
   "metadata": {},
   "outputs": [],
   "source": [
    "# Get X tensors\n",
    "X_train_tensor = torch.tensor(x_train, dtype=torch.float32)\n",
    "X_test_tensor = torch.tensor(x_test, dtype=torch.float32)\n",
    "\n",
    "# Get y tensors\n",
    "y_train_tensor = torch.tensor(y_train, dtype=torch.long)\n",
    "y_test_tensor = torch.tensor(y_test, dtype=torch.long)\n",
    "\n",
    "# Load training\n",
    "train_dataset = TensorDataset(X_train_tensor, y_train_tensor)\n",
    "train_loader = DataLoader(dataset=train_dataset, batch_size=2000)\n",
    "\n",
    "# Load testing\n",
    "test_dataset = TensorDataset(X_test_tensor, y_test_tensor)\n",
    "test_loader = DataLoader(dataset=test_dataset, batch_size=2000)"
   ]
  },
  {
   "cell_type": "code",
   "execution_count": 146,
   "id": "232f6db4",
   "metadata": {},
   "outputs": [
    {
     "name": "stdout",
     "output_type": "stream",
     "text": [
      "Epoch [1/10], Training Loss: 0.0340, Validation Loss: 0.0537\n",
      "Epoch [2/10], Training Loss: 0.0232, Validation Loss: 0.0572\n",
      "Epoch [3/10], Training Loss: 0.0193, Validation Loss: 0.0632\n",
      "Epoch [4/10], Training Loss: 0.0182, Validation Loss: 0.0818\n",
      "Epoch [5/10], Training Loss: 0.0189, Validation Loss: 0.0692\n",
      "Epoch [6/10], Training Loss: 0.0190, Validation Loss: 0.0480\n",
      "Epoch [7/10], Training Loss: 0.0191, Validation Loss: 0.0536\n",
      "Epoch [8/10], Training Loss: 0.0182, Validation Loss: 0.0738\n",
      "Epoch [9/10], Training Loss: 0.0170, Validation Loss: 0.0627\n",
      "Epoch [10/10], Training Loss: 0.0177, Validation Loss: 0.0556\n",
      "Finished Training\n"
     ]
    }
   ],
   "source": [
    "input_size = num_features\n",
    "hidden_size = 100\n",
    "output_size = num_classes  # Multiclass classification\n",
    "model_rnn = RNNTabularMulticlass(input_size, hidden_size, output_size)\n",
    "\n",
    "early_stopping = EarlyStopping(5, 0.0001)\n",
    "\n",
    "criterion = nn.CrossEntropyLoss()\n",
    "optimizer = optim.Adam(model_rnn.parameters(), lr=0.001)\n",
    "\n",
    "epochs = 10\n",
    "training_losses = []\n",
    "validation_losses = [] \n",
    "\n",
    "for epoch in range(epochs):\n",
    "    model_rnn.train()\n",
    "    train_loss = 0.0\n",
    "    for inputs, labels in train_loader:\n",
    "        optimizer.zero_grad()\n",
    "\n",
    "        # Forward pass\n",
    "        outputs = model_rnn(inputs.unsqueeze(1))  # Reshape input\n",
    "        loss = criterion(outputs.squeeze(), labels)\n",
    "        loss.backward()\n",
    "        optimizer.step()\n",
    "        train_loss += loss.item()\n",
    "\n",
    "    avg_train_loss = train_loss / len(train_loader)\n",
    "    training_losses.append(avg_train_loss)\n",
    "\n",
    "    # Validation\n",
    "    model_rnn.eval()\n",
    "    with torch.no_grad():\n",
    "        val_loss = 0.0\n",
    "        for inputs, labels in test_loader:\n",
    "            outputs = model_rnn(inputs.unsqueeze(1))  # Reshape input\n",
    "            loss = criterion(outputs.squeeze(), labels)\n",
    "            val_loss += loss.item()\n",
    "\n",
    "        avg_val_loss = val_loss / len(test_loader)\n",
    "        validation_losses.append(avg_val_loss)\n",
    "\n",
    "    print(f'Epoch [{epoch + 1}/{epochs}], Training Loss: {avg_train_loss:.4f}, Validation Loss: {avg_val_loss:.4f}')\n",
    "\n",
    "    # Implement early stopping\n",
    "    if early_stopping is None:\n",
    "        early_stopping = EarlyStopping(patience=5, delta=0.0001)\n",
    "    \n",
    "    early_stopping(avg_val_loss)\n",
    "    if early_stopping.early_stop:\n",
    "        print(\"Early stopping triggered\")\n",
    "        break\n",
    "\n",
    "print('Finished Training')\n"
   ]
  },
  {
   "cell_type": "code",
   "execution_count": 147,
   "id": "824a8e76",
   "metadata": {},
   "outputs": [
    {
     "data": {
      "image/png": "[encoded data removed]",
      "text/plain": [
       "<Figure size 1000x600 with 1 Axes>"
      ]
     },
     "metadata": {},
     "output_type": "display_data"
    }
   ],
   "source": [
    "# Get the training and validation graphs\n",
    "\n",
    "plt.figure(figsize=(10, 6))\n",
    "plt.plot(training_losses, label='Training Loss')\n",
    "plt.plot(validation_losses, label='Validation Loss')\n",
    "plt.title('Training and Validation Loss per Epoch')\n",
    "plt.xlabel('Epochs')\n",
    "plt.ylabel('Loss')\n",
    "plt.legend()\n",
    "plt.show()"
   ]
  },
  {
   "cell_type": "code",
   "execution_count": 148,
   "id": "9b8e1852",
   "metadata": {},
   "outputs": [],
   "source": [
    "# Evaluations\n",
    "model_rnn.eval()\n",
    "\n",
    "all_predictions = []\n",
    "all_labels = []\n",
    "\n",
    "with torch.no_grad():\n",
    "    test_outputs = model_rnn(X_test_tensor.unsqueeze(1))\n",
    "    predicted_probs = torch.softmax(test_outputs, dim=1).numpy()\n",
    "    predicted_labels = torch.argmax(test_outputs.squeeze(), dim=1).numpy()\n",
    "\n",
    "conf_matrix = confusion_matrix(y_test_tensor.numpy(), predicted_labels)"
   ]
  },
  {
   "cell_type": "code",
   "execution_count": 149,
   "id": "ec9cf6ba",
   "metadata": {},
   "outputs": [
    {
     "data": {
      "image/png": "[encoded data removed]",
      "text/plain": [
       "<Figure size 800x600 with 1 Axes>"
      ]
     },
     "metadata": {},
     "output_type": "display_data"
    }
   ],
   "source": [
    "import seaborn as sns\n",
    "\n",
    "plt.figure(figsize=(8, 6))\n",
    "sns.set(font_scale=1.2)  # Adjust the font size for better readability\n",
    "sns.heatmap(conf_matrix, annot=True, fmt='d', cmap='Blues', linewidths=0.5, square=True, cbar=False,\n",
    "            xticklabels=[f'Class {i}' for i in range(num_classes)],\n",
    "            yticklabels=[f'Class {i}' for i in range(num_classes)])\n",
    "plt.xlabel('Predicted Labels')\n",
    "plt.ylabel('True Labels')\n",
    "plt.title('Confusion Matrix')\n",
    "plt.show()"
   ]
  },
  {
   "cell_type": "code",
   "execution_count": 150,
   "id": "01811ef7",
   "metadata": {},
   "outputs": [
    {
     "name": "stdout",
     "output_type": "stream",
     "text": [
      "Accuracy: 0.9957\n",
      "Macro Precision: 0.8412\n",
      "Macro Recall: 0.6022\n",
      "Macro F1 Score: 0.6726\n"
     ]
    }
   ],
   "source": [
    "accuracy = accuracy_score(y_test_tensor.numpy(), predicted_labels)\n",
    "precision, recall, f1, _ = precision_recall_fscore_support(y_test_tensor.numpy(), predicted_labels, average='macro')\n",
    "\n",
    "print(f'Accuracy: {accuracy:.4f}')\n",
    "print(f'Macro Precision: {precision:.4f}')\n",
    "print(f'Macro Recall: {recall:.4f}')\n",
    "print(f'Macro F1 Score: {f1:.4f}')"
   ]
  },
  {
   "cell_type": "code",
   "execution_count": 151,
   "id": "13f00466",
   "metadata": {},
   "outputs": [
    {
     "name": "stdout",
     "output_type": "stream",
     "text": [
      "Accuracy: 0.9957\n",
      "Micro Precision: 0.9957\n",
      "Micro Recall: 0.9957\n",
      "Micro F1 Score: 0.9957\n"
     ]
    }
   ],
   "source": [
    "accuracy = accuracy_score(y_test_tensor.numpy(), predicted_labels)\n",
    "precision, recall, f1, _ = precision_recall_fscore_support(y_test_tensor.numpy(), predicted_labels, average='micro')\n",
    "\n",
    "print(f'Accuracy: {accuracy:.4f}')\n",
    "print(f'Micro Precision: {precision:.4f}')\n",
    "print(f'Micro Recall: {recall:.4f}')\n",
    "print(f'Micro F1 Score: {f1:.4f}')"
   ]
  },
  {
   "cell_type": "code",
   "execution_count": 152,
   "id": "3df34f98",
   "metadata": {},
   "outputs": [
    {
     "name": "stdout",
     "output_type": "stream",
     "text": [
      "Accuracy: 0.9957\n",
      "Macro Precision: 0.9954\n",
      "Macro Recall: 0.9957\n",
      "Macro F1 Score: 0.9955\n"
     ]
    }
   ],
   "source": [
    "accuracy = accuracy_score(y_test_tensor.numpy(), predicted_labels)\n",
    "precision, recall, f1, _ = precision_recall_fscore_support(y_test_tensor.numpy(), predicted_labels, average='weighted')\n",
    "\n",
    "print(f'Accuracy: {accuracy:.4f}')\n",
    "print(f'Macro Precision: {precision:.4f}')\n",
    "print(f'Macro Recall: {recall:.4f}')\n",
    "print(f'Macro F1 Score: {f1:.4f}')"
   ]
  },
  {
   "cell_type": "code",
   "execution_count": 153,
   "id": "eb108f8b",
   "metadata": {},
   "outputs": [
    {
     "name": "stdout",
     "output_type": "stream",
     "text": [
      "0.9494115245977076\n"
     ]
    }
   ],
   "source": [
    "roc_auc = roc_auc_score(y_test_tensor.numpy(), predicted_probs, average='macro', multi_class='ovr')\n",
    "print(roc_auc)"
   ]
  },
  {
   "cell_type": "code",
   "execution_count": 154,
   "id": "e76f43f7",
   "metadata": {},
   "outputs": [
    {
     "name": "stdout",
     "output_type": "stream",
     "text": [
      "0.9997487540762712\n"
     ]
    }
   ],
   "source": [
    "roc_auc = roc_auc_score(y_test_tensor.numpy(), predicted_probs, average='micro', multi_class='ovr')\n",
    "print(roc_auc)"
   ]
  },
  {
   "cell_type": "code",
   "execution_count": 155,
   "id": "f97ee29d",
   "metadata": {},
   "outputs": [
    {
     "name": "stdout",
     "output_type": "stream",
     "text": [
      "0.9719165780624988\n"
     ]
    }
   ],
   "source": [
    "roc_auc = roc_auc_score(y_test_tensor.numpy(), predicted_probs, average='weighted', multi_class='ovr')\n",
    "print(roc_auc)"
   ]
  },
  {
   "cell_type": "code",
   "execution_count": 156,
   "id": "35c88708",
   "metadata": {},
   "outputs": [
    {
     "name": "stdout",
     "output_type": "stream",
     "text": [
      "Macro-Average TPR: 0.6022\n",
      "Macro-Average FPR: 0.0336\n",
      "Macro-Average TNR: 0.9664\n",
      "Macro-Average FNR: 0.3978\n"
     ]
    }
   ],
   "source": [
    "class_labels = list(range(num_classes))\n",
    "tpr = []\n",
    "fpr = []\n",
    "tnr = []\n",
    "fnr = []\n",
    "\n",
    "for i in class_labels:\n",
    "    tp = conf_matrix[i, i]\n",
    "    fp = conf_matrix[:, i].sum() - tp\n",
    "    tn = conf_matrix.sum() - (fp + conf_matrix[i, :].sum())\n",
    "    fn = conf_matrix[i, :].sum() - tp\n",
    "\n",
    "    tpr_i = tp / (tp + fn)\n",
    "    fpr_i = fp / (fp + tn)\n",
    "    tnr_i = tn / (tn + fp)  \n",
    "    fnr_i = fn / (fn + tp)  \n",
    "\n",
    "    tpr.append(tpr_i)\n",
    "    fpr.append(fpr_i)\n",
    "    tnr.append(tnr_i)\n",
    "    fnr.append(fnr_i)\n",
    "\n",
    "macro_avg_tpr = sum(tpr) / len(tpr)\n",
    "macro_avg_fpr = sum(fpr) / len(fpr)\n",
    "macro_avg_tnr = sum(tnr) / len(tnr)\n",
    "macro_avg_fnr = sum(fnr) / len(fnr)\n",
    "\n",
    "print(f'Macro-Average TPR: {macro_avg_tpr:.4f}')\n",
    "print(f'Macro-Average FPR: {macro_avg_fpr:.4f}')\n",
    "print(f'Macro-Average TNR: {macro_avg_tnr:.4f}')\n",
    "print(f'Macro-Average FNR: {macro_avg_fnr:.4f}')"
   ]
  },
  {
   "cell_type": "code",
   "execution_count": 157,
   "id": "6c4a56ad",
   "metadata": {},
   "outputs": [
    {
     "name": "stdout",
     "output_type": "stream",
     "text": [
      "Micro-Average TPR: 0.9957\n",
      "Micro-Average FPR: 0.0009\n",
      "Micro-Average TNR: 0.9991\n",
      "Micro-Average FNR: 0.0043\n"
     ]
    }
   ],
   "source": [
    "class_labels = list(range(num_classes))\n",
    "\n",
    "tp_total = 0\n",
    "fp_total = 0\n",
    "tn_total = 0\n",
    "fn_total = 0\n",
    "\n",
    "for i in class_labels:\n",
    "    tp = conf_matrix[i, i]\n",
    "    fp = conf_matrix[:, i].sum() - tp\n",
    "    tn = conf_matrix.sum() - (fp + conf_matrix[i, :].sum())\n",
    "    fn = conf_matrix[i, :].sum() - tp\n",
    "\n",
    "    # Aggregate counts\n",
    "    tp_total += tp\n",
    "    fp_total += fp\n",
    "    tn_total += tn\n",
    "    fn_total += fn\n",
    "\n",
    "# Compute micro-average rates\n",
    "micro_avg_tpr = tp_total / (tp_total + fn_total)\n",
    "micro_avg_fpr = fp_total / (fp_total + tn_total)\n",
    "micro_avg_tnr = tn_total / (tn_total + fp_total)\n",
    "micro_avg_fnr = fn_total / (fn_total + tp_total)\n",
    "\n",
    "print(f'Micro-Average TPR: {micro_avg_tpr:.4f}')\n",
    "print(f'Micro-Average FPR: {micro_avg_fpr:.4f}')\n",
    "print(f'Micro-Average TNR: {micro_avg_tnr:.4f}')\n",
    "print(f'Micro-Average FNR: {micro_avg_fnr:.4f}')"
   ]
  },
  {
   "cell_type": "code",
   "execution_count": 158,
   "id": "cfaf3cdc",
   "metadata": {},
   "outputs": [
    {
     "name": "stdout",
     "output_type": "stream",
     "text": [
      "Weighted-Average TPR: 0.9957\n",
      "Weighted-Average FPR: 0.1974\n",
      "Weighted-Average TNR: 0.8026\n",
      "Weighted-Average FNR: 0.0043\n"
     ]
    }
   ],
   "source": [
    "class_labels = list(range(num_classes))\n",
    "\n",
    "weighted_sum_tpr = 0\n",
    "weighted_sum_fpr = 0\n",
    "weighted_sum_tnr = 0\n",
    "weighted_sum_fnr = 0\n",
    "\n",
    "total_instances = conf_matrix.sum()\n",
    "\n",
    "for i in class_labels:\n",
    "    tp = conf_matrix[i, i]\n",
    "    fp = conf_matrix[:, i].sum() - tp\n",
    "    tn = conf_matrix.sum() - (fp + conf_matrix[i, :].sum())\n",
    "    fn = conf_matrix[i, :].sum() - tp\n",
    "\n",
    "    tpr_i = tp / (tp + fn) if (tp + fn) > 0 else 0\n",
    "    fpr_i = fp / (fp + tn) if (fp + tn) > 0 else 0\n",
    "    tnr_i = tn / (tn + fp) if (tn + fp) > 0 else 0\n",
    "    fnr_i = fn / (fn + tp) if (fn + tp) > 0 else 0\n",
    "\n",
    "    class_weight = (tp + fn) / total_instances\n",
    "\n",
    "    weighted_sum_tpr += tpr_i * class_weight\n",
    "    weighted_sum_fpr += fpr_i * class_weight\n",
    "    weighted_sum_tnr += tnr_i * class_weight\n",
    "    weighted_sum_fnr += fnr_i * class_weight\n",
    "\n",
    "print(f'Weighted-Average TPR: {weighted_sum_tpr:.4f}')\n",
    "print(f'Weighted-Average FPR: {weighted_sum_fpr:.4f}')\n",
    "print(f'Weighted-Average TNR: {weighted_sum_tnr:.4f}')\n",
    "print(f'Weighted-Average FNR: {weighted_sum_fnr:.4f}')"
   ]
  },
  {
   "cell_type": "code",
   "execution_count": null,
   "id": "bdf4205c",
   "metadata": {},
   "outputs": [],
   "source": []
  }
 ],
 "metadata": {
  "kernelspec": {
   "display_name": "Python 3 (ipykernel)",
   "language": "python",
   "name": "python3"
  },
  "language_info": {
   "codemirror_mode": {
    "name": "ipython",
    "version": 3
   },
   "file_extension": ".py",
   "mimetype": "text/x-python",
   "name": "python",
   "nbconvert_exporter": "python",
   "pygments_lexer": "ipython3",
   "version": "3.10.9"
  }
 },
 "nbformat": 4,
 "nbformat_minor": 5
}
