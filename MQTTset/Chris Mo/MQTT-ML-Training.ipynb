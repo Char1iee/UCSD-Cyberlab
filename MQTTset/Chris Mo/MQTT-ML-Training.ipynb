{
 "cells": [
  {
   "cell_type": "code",
   "execution_count": 1,
   "metadata": {
    "executionInfo": {
     "elapsed": 2538,
     "status": "ok",
     "timestamp": 1704846037577,
     "user": {
      "displayName": "Christopher Mo",
      "userId": "06796390870629921230"
     },
     "user_tz": 480
    },
    "id": "Emk10v9gdqi8"
   },
   "outputs": [],
   "source": [
    "import pandas as pd\n",
    "import numpy as np\n",
    "import seaborn as sns\n",
    "from sklearn.preprocessing import LabelEncoder\n",
    "from sklearn import preprocessing\n",
    "from sklearn.model_selection import train_test_split\n",
    "from sklearn.manifold import TSNE\n",
    "from time import time\n",
    "import random\n",
    "import warnings\n",
    "warnings.filterwarnings(\"ignore\")\n",
    "from sklearn.metrics import f1_score as f1_score_rep\n",
    "from sklearn.metrics import accuracy_score\n",
    "from sklearn.metrics import confusion_matrix\n",
    "import matplotlib as plt"
   ]
  },
  {
   "cell_type": "code",
   "execution_count": 2,
   "metadata": {
    "executionInfo": {
     "elapsed": 5154,
     "status": "ok",
     "timestamp": 1704846935983,
     "user": {
      "displayName": "Christopher Mo",
      "userId": "06796390870629921230"
     },
     "user_tz": 480
    },
    "id": "WQ1JFyYrdqi_"
   },
   "outputs": [],
   "source": [
    "train = pd.read_csv(\"F://CyberLab/MQTT/Data/FINAL_CSV/train70.csv\")\n",
    "test = pd.read_csv(\"F://CyberLab/MQTT/Data/FINAL_CSV/test30.csv\")"
   ]
  },
  {
   "cell_type": "code",
   "execution_count": 3,
   "metadata": {},
   "outputs": [],
   "source": [
    "class_names = train.target.unique()\n",
    "train = train.astype('category')\n",
    "cat_col = train.select_dtypes(['category']).columns\n",
    "train[cat_col] = train[cat_col].apply(lambda x: x.cat.codes)\n",
    "x_col = train.columns.drop('target')\n",
    "x_train = train[x_col].values\n",
    "y_train = train['target']"
   ]
  },
  {
   "cell_type": "code",
   "execution_count": 4,
   "metadata": {},
   "outputs": [],
   "source": [
    "class_names = test.target.unique()\n",
    "test = test.astype('category')\n",
    "cat_col = test.select_dtypes(['category']).columns\n",
    "test[cat_col] = test[cat_col].apply(lambda x: x.cat.codes)\n",
    "x_col = test.columns.drop('target')\n",
    "x_test = test[x_col].values\n",
    "y_test = test['target']"
   ]
  },
  {
   "cell_type": "code",
   "execution_count": 5,
   "metadata": {
    "executionInfo": {
     "elapsed": 1356,
     "status": "ok",
     "timestamp": 1704846960066,
     "user": {
      "displayName": "Christopher Mo",
      "userId": "06796390870629921230"
     },
     "user_tz": 480
    },
    "id": "mGCwtPTcdqi_"
   },
   "outputs": [],
   "source": [
    "from sklearn import preprocessing\n",
    "X_train_scaled = preprocessing.scale(x_train)\n",
    "X_test_scaled = preprocessing.scale(x_test)"
   ]
  },
  {
   "cell_type": "code",
   "execution_count": 6,
   "metadata": {
    "executionInfo": {
     "elapsed": 438,
     "status": "ok",
     "timestamp": 1704846961555,
     "user": {
      "displayName": "Christopher Mo",
      "userId": "06796390870629921230"
     },
     "user_tz": 480
    },
    "id": "yBRULAYAdqi_"
   },
   "outputs": [],
   "source": [
    "x_train = np.copy(X_train_scaled)\n",
    "x_test = np.copy(X_test_scaled)"
   ]
  },
  {
   "cell_type": "code",
   "execution_count": 7,
   "metadata": {
    "executionInfo": {
     "elapsed": 234,
     "status": "ok",
     "timestamp": 1704846964012,
     "user": {
      "displayName": "Christopher Mo",
      "userId": "06796390870629921230"
     },
     "user_tz": 480
    },
    "id": "o4yn7bTvdqjA"
   },
   "outputs": [],
   "source": [
    "label_encoder = LabelEncoder()\n",
    "y_train = label_encoder.fit_transform(y_train)\n",
    "y_test = label_encoder.transform(y_test)"
   ]
  },
  {
   "cell_type": "code",
   "execution_count": 8,
   "metadata": {},
   "outputs": [],
   "source": [
    "def report(test, pred):\n",
    "    cm = confusion_matrix(test, pred)\n",
    "    cm_df = pd.DataFrame(cm)\n",
    "    \n",
    "    tp_arr = []\n",
    "    fp_arr = []\n",
    "    tn_arr = []\n",
    "    fn_arr = []\n",
    "    for i in range(cm_df.shape[0]):\n",
    "      tp = cm_df[i][i]\n",
    "      fp = sum(cm_df[i])-tp\n",
    "      fn = sum(cm_df.iloc[i])-tp\n",
    "      total = cm_df.sum().sum()\n",
    "      tn = total-fp-fn-tp\n",
    "      tpr = tp/(tp+fn)\n",
    "      fpr = fp/(tn+fp)\n",
    "      fnr = fn/(fn+tp)\n",
    "      tnr = tn/(tn+fp)\n",
    "      tp_arr.append(tpr)\n",
    "      tn_arr.append(tnr)\n",
    "      fp_arr.append(fpr)\n",
    "      fn_arr.append(fnr)\n",
    "    \n",
    "    print(\"TPR: \", np.mean(tp_arr))\n",
    "    print(\"FPR: \", np.mean(fp_arr))\n",
    "    print(\"FNR: \", np.mean(fn_arr))\n",
    "    print(\"TNR: \", np.mean(tn_arr))\n",
    "    return"
   ]
  },
  {
   "cell_type": "code",
   "execution_count": 8,
   "metadata": {
    "executionInfo": {
     "elapsed": 31553,
     "status": "ok",
     "timestamp": 1704846997200,
     "user": {
      "displayName": "Christopher Mo",
      "userId": "06796390870629921230"
     },
     "user_tz": 480
    },
    "id": "IQhlI0yLdqjA"
   },
   "outputs": [],
   "source": [
    "### DesicionTree\n",
    "from sklearn.tree import DecisionTreeClassifier\n",
    "clf = DecisionTreeClassifier(random_state=0)\n",
    "clf = clf.fit(x_train, y_train)\n",
    "dt_pred = clf.predict(x_test)"
   ]
  },
  {
   "cell_type": "code",
   "execution_count": 9,
   "metadata": {
    "colab": {
     "base_uri": "https://localhost:8080/"
    },
    "executionInfo": {
     "elapsed": 8,
     "status": "ok",
     "timestamp": 1704846997201,
     "user": {
      "displayName": "Christopher Mo",
      "userId": "06796390870629921230"
     },
     "user_tz": 480
    },
    "id": "x5AtFxd4dqjA",
    "outputId": "ce045ef8-58c7-4899-e498-6b9544a1f5e9"
   },
   "outputs": [
    {
     "name": "stdout",
     "output_type": "stream",
     "text": [
      "****************** Decision Tree prediction results ******************\n",
      "Accuracy:  0.6355815058412975\n",
      "Micro F1 Score:  0.6355815058412975\n",
      "Macro F1 Score:  0.2573396797163891\n"
     ]
    }
   ],
   "source": [
    "print('****************** Decision Tree prediction results ******************')\n",
    "print(\"Accuracy: \", accuracy_score(y_test, dt_pred))\n",
    "print(\"Micro F1 Score: \", f1_score_rep(y_test, dt_pred, average=\"micro\"))\n",
    "print(\"Macro F1 Score: \", f1_score_rep(y_test, dt_pred, average=\"macro\"))"
   ]
  },
  {
   "cell_type": "code",
   "execution_count": 11,
   "metadata": {},
   "outputs": [
    {
     "ename": "NameError",
     "evalue": "name 'dt_pred' is not defined",
     "output_type": "error",
     "traceback": [
      "\u001b[1;31m---------------------------------------------------------------------------\u001b[0m",
      "\u001b[1;31mNameError\u001b[0m                                 Traceback (most recent call last)",
      "Cell \u001b[1;32mIn[11], line 29\u001b[0m\n\u001b[0;32m     27\u001b[0m     \u001b[38;5;28mprint\u001b[39m(\u001b[38;5;124m\"\u001b[39m\u001b[38;5;124mTNR: \u001b[39m\u001b[38;5;124m\"\u001b[39m, np\u001b[38;5;241m.\u001b[39mmean(tn_arr))\n\u001b[0;32m     28\u001b[0m     \u001b[38;5;28;01mreturn\u001b[39;00m\n\u001b[1;32m---> 29\u001b[0m report(y_test, \u001b[43mdt_pred\u001b[49m)\n",
      "\u001b[1;31mNameError\u001b[0m: name 'dt_pred' is not defined"
     ]
    }
   ],
   "source": [
    "report(y_test, dt_pred)"
   ]
  },
  {
   "cell_type": "code",
   "execution_count": 11,
   "metadata": {
    "executionInfo": {
     "elapsed": 2384,
     "status": "ok",
     "timestamp": 1704846999582,
     "user": {
      "displayName": "Christopher Mo",
      "userId": "06796390870629921230"
     },
     "user_tz": 480
    },
    "id": "tjSr2uHpdqjA"
   },
   "outputs": [],
   "source": [
    "### Gaussian Naive Bayes\n",
    "from sklearn.naive_bayes import GaussianNB\n",
    "gb = GaussianNB()\n",
    "gb = gb.fit(x_train, y_train)\n",
    "gb_pred = gb.predict(x_test)"
   ]
  },
  {
   "cell_type": "code",
   "execution_count": 12,
   "metadata": {
    "colab": {
     "base_uri": "https://localhost:8080/"
    },
    "executionInfo": {
     "elapsed": 238,
     "status": "ok",
     "timestamp": 1704846999814,
     "user": {
      "displayName": "Christopher Mo",
      "userId": "06796390870629921230"
     },
     "user_tz": 480
    },
    "id": "nJ6s6oS5dqjB",
    "outputId": "5aba1776-3b47-4559-cd65-6b4fd705eaf7"
   },
   "outputs": [
    {
     "name": "stdout",
     "output_type": "stream",
     "text": [
      "****************** Gaussian NB prediction results ******************\n",
      "Accuracy:  0.011025100665881978\n",
      "Micro F1 Score:  0.011025100665881978\n",
      "Macro F1 Score:  0.06140052595282137\n"
     ]
    }
   ],
   "source": [
    "print('****************** Gaussian NB prediction results ******************')\n",
    "print(\"Accuracy: \", accuracy_score(y_test, gb_pred))\n",
    "print(\"Micro F1 Score: \", f1_score_rep(y_test, gb_pred, average=\"micro\"))\n",
    "print(\"Macro F1 Score: \", f1_score_rep(y_test, gb_pred, average=\"macro\"))"
   ]
  },
  {
   "cell_type": "code",
   "execution_count": 13,
   "metadata": {},
   "outputs": [
    {
     "name": "stdout",
     "output_type": "stream",
     "text": [
      "TPR:  0.2010287808183532\n",
      "FPR:  0.16662548287694698\n",
      "FNR:  0.7989712191816468\n",
      "TNR:  0.833374517123053\n"
     ]
    }
   ],
   "source": [
    "report(y_test, gb_pred)"
   ]
  },
  {
   "cell_type": "code",
   "execution_count": null,
   "metadata": {
    "executionInfo": {
     "elapsed": 470899,
     "status": "ok",
     "timestamp": 1704847470709,
     "user": {
      "displayName": "Christopher Mo",
      "userId": "06796390870629921230"
     },
     "user_tz": 480
    },
    "id": "o4XA3IL5dqjB"
   },
   "outputs": [],
   "source": [
    "### k-Nearest Neighbors\n",
    "from sklearn.neighbors import KNeighborsClassifier\n",
    "knn = KNeighborsClassifier(n_neighbors=3)\n",
    "knn = knn.fit(x_train, y_train)\n",
    "knn_pred = knn.predict(x_test)"
   ]
  },
  {
   "cell_type": "code",
   "execution_count": null,
   "metadata": {
    "colab": {
     "base_uri": "https://localhost:8080/"
    },
    "executionInfo": {
     "elapsed": 44,
     "status": "ok",
     "timestamp": 1704847470717,
     "user": {
      "displayName": "Christopher Mo",
      "userId": "06796390870629921230"
     },
     "user_tz": 480
    },
    "id": "xC2kbN8EdqjB",
    "outputId": "f9982328-1db2-4831-ab44-ce086a78c64e"
   },
   "outputs": [],
   "source": [
    "print('****************** Gaussian NB prediction results ******************')\n",
    "print(\"Accuracy: \", accuracy_score(y_test, knn_pred))\n",
    "print(\"Micro F1 Score: \", f1_score_rep(y_test, knn_pred, average=\"micro\"))\n",
    "print(\"Macro F1 Score: \", f1_score_rep(y_test, knn_pred, average=\"macro\"))"
   ]
  },
  {
   "cell_type": "code",
   "execution_count": null,
   "metadata": {},
   "outputs": [],
   "source": [
    "report(y_test, knn_pred)"
   ]
  },
  {
   "cell_type": "markdown",
   "metadata": {
    "colab": {
     "background_save": true
    },
    "id": "N8_V_-p9dqjB"
   },
   "source": [
    "### Support Vector Machine\n",
    "from sklearn.svm import SVC\n",
    "svm = SVC(kernel='rbf', C = 1)\n",
    "t_s = time()\n",
    "svm = svm.fit(x_train, y_train)\n",
    "print(time() - t_s)\n",
    "svm_pred = svm.predict(x_test)"
   ]
  },
  {
   "cell_type": "markdown",
   "metadata": {
    "colab": {
     "background_save": true
    },
    "id": "nzOZ_QK2dqjB"
   },
   "source": [
    "print('****************** SVM prediction results ******************')\n",
    "print(\"Accuracy: \", accuracy_score(y_test, svm_pred))\n",
    "print(\"Micro F1 Score: \", f1_score_rep(y_test, svm_pred, average=\"micro\"))\n",
    "print(\"Macro F1 Score: \", f1_score_rep(y_test, svm_pred, average=\"macro\"))"
   ]
  },
  {
   "cell_type": "code",
   "execution_count": 8,
   "metadata": {
    "colab": {
     "background_save": true
    },
    "id": "Zkx-kDSadqjB"
   },
   "outputs": [
    {
     "name": "stdout",
     "output_type": "stream",
     "text": [
      "196.60500383377075\n"
     ]
    }
   ],
   "source": [
    "### Logistic Regression\n",
    "from sklearn.linear_model import LogisticRegression\n",
    "lr = LogisticRegression(random_state=0)\n",
    "t_s = time()\n",
    "lr = lr.fit(x_train, y_train)\n",
    "print(time() - t_s)\n",
    "lr_pred = lr.predict(x_test)"
   ]
  },
  {
   "cell_type": "code",
   "execution_count": 9,
   "metadata": {
    "colab": {
     "background_save": true
    },
    "id": "2rbdms3NdqjB"
   },
   "outputs": [
    {
     "name": "stdout",
     "output_type": "stream",
     "text": [
      "****************** Logistic Regression prediction results ******************\n",
      "Accuracy:  0.9947047290477838\n",
      "Micro F1 Score:  0.9947047290477838\n",
      "Macro F1 Score:  0.6106085502074924\n"
     ]
    }
   ],
   "source": [
    "print('****************** Logistic Regression prediction results ******************')\n",
    "print(\"Accuracy: \", accuracy_score(y_test, lr_pred))\n",
    "print(\"Micro F1 Score: \", f1_score_rep(y_test, lr_pred, average=\"micro\"))\n",
    "print(\"Macro F1 Score: \", f1_score_rep(y_test, lr_pred, average=\"macro\"))"
   ]
  },
  {
   "cell_type": "code",
   "execution_count": 12,
   "metadata": {},
   "outputs": [
    {
     "name": "stdout",
     "output_type": "stream",
     "text": [
      "TPR:  0.4970425933361226\n",
      "FPR:  0.06236704128121057\n",
      "FNR:  0.5029574066638774\n",
      "TNR:  0.9376329587187894\n"
     ]
    }
   ],
   "source": [
    "def report(test, pred):\n",
    "    cm = confusion_matrix(test, pred)\n",
    "    cm_df = pd.DataFrame(cm)\n",
    "    \n",
    "    tp_arr = []\n",
    "    fp_arr = []\n",
    "    tn_arr = []\n",
    "    fn_arr = []\n",
    "    for i in range(cm_df.shape[0]):\n",
    "      tp = cm_df[i][i]\n",
    "      fp = sum(cm_df[i])-tp\n",
    "      fn = sum(cm_df.iloc[i])-tp\n",
    "      total = cm_df.sum().sum()\n",
    "      tn = total-fp-fn-tp\n",
    "      tpr = tp/(tp+fn)\n",
    "      fpr = fp/(tn+fp)\n",
    "      fnr = fn/(fn+tp)\n",
    "      tnr = tn/(tn+fp)\n",
    "      tp_arr.append(tpr)\n",
    "      tn_arr.append(tnr)\n",
    "      fp_arr.append(fpr)\n",
    "      fn_arr.append(fnr)\n",
    "    \n",
    "    print(\"TPR: \", np.mean(tp_arr))\n",
    "    print(\"FPR: \", np.mean(fp_arr))\n",
    "    print(\"FNR: \", np.mean(fn_arr))\n",
    "    print(\"TNR: \", np.mean(tn_arr))\n",
    "    return\n",
    "report(y_test, lr_pred)"
   ]
  },
  {
   "cell_type": "code",
   "execution_count": null,
   "metadata": {
    "id": "jsBvCpSLdqjB"
   },
   "outputs": [],
   "source": [
    "### Multi-layer Perceptron\n",
    "from sklearn.neural_network import MLPClassifier\n",
    "mlp = MLPClassifier(random_state=1, max_iter=100)\n",
    "mlp = mlp.fit(x_train, y_train)\n",
    "mlp_pred = mlp.predict(x_test)"
   ]
  },
  {
   "cell_type": "code",
   "execution_count": null,
   "metadata": {
    "id": "h4z22sBwdqjB"
   },
   "outputs": [],
   "source": [
    "print('****************** MLP prediction results ******************')\n",
    "print(\"Accuracy: \", accuracy_score(y_test, mlp_pred))\n",
    "print(\"Micro F1 Score: \", f1_score_rep(y_test, mlp_pred, average=\"micro\"))\n",
    "print(\"Macro F1 Score: \", f1_score_rep(y_test, mlp_pred, average=\"macro\"))"
   ]
  },
  {
   "cell_type": "code",
   "execution_count": null,
   "metadata": {},
   "outputs": [],
   "source": [
    "report(y_test, mlp_pred)"
   ]
  },
  {
   "cell_type": "code",
   "execution_count": 9,
   "metadata": {
    "id": "8sykth6XdqjD"
   },
   "outputs": [],
   "source": [
    "### Random Forest\n",
    "from sklearn.ensemble import RandomForestClassifier\n",
    "rf = RandomForestClassifier(max_depth=5, random_state=0)\n",
    "rf = rf.fit(x_train, y_train)\n",
    "rf_pred = rf.predict(x_test)"
   ]
  },
  {
   "cell_type": "code",
   "execution_count": 10,
   "metadata": {
    "id": "bA1C56OhdqjD"
   },
   "outputs": [
    {
     "name": "stdout",
     "output_type": "stream",
     "text": [
      "****************** RF prediction results ******************\n",
      "Accuracy:  0.9943054868078997\n",
      "Micro F1 Score:  0.9943054868078997\n",
      "Macro F1 Score:  0.40614848049847385\n"
     ]
    }
   ],
   "source": [
    "print('****************** RF prediction results ******************')\n",
    "print(\"Accuracy: \", accuracy_score(y_test, rf_pred))\n",
    "print(\"Micro F1 Score: \", f1_score_rep(y_test, rf_pred, average=\"micro\"))\n",
    "print(\"Macro F1 Score: \", f1_score_rep(y_test, rf_pred, average=\"macro\"))"
   ]
  },
  {
   "cell_type": "code",
   "execution_count": 11,
   "metadata": {},
   "outputs": [
    {
     "name": "stdout",
     "output_type": "stream",
     "text": [
      "TPR:  0.34227308742191437\n",
      "FPR:  0.0690584344212764\n",
      "FNR:  0.6577269125780857\n",
      "TNR:  0.9309415655787237\n"
     ]
    }
   ],
   "source": [
    "report(y_test, rf_pred)"
   ]
  },
  {
   "cell_type": "code",
   "execution_count": 12,
   "metadata": {
    "id": "P44oRcM3dqjD"
   },
   "outputs": [],
   "source": [
    "### AdaBoost Classifier\n",
    "from sklearn.ensemble import AdaBoostClassifier\n",
    "ada = AdaBoostClassifier(n_estimators=100)\n",
    "ada = ada.fit(x_train, y_train)\n",
    "ada_pred = ada.predict(x_test)"
   ]
  },
  {
   "cell_type": "code",
   "execution_count": 13,
   "metadata": {
    "id": "edn2tOZXdqjD"
   },
   "outputs": [
    {
     "name": "stdout",
     "output_type": "stream",
     "text": [
      "****************** ADA prediction results ******************\n",
      "Accuracy:  0.7190854897104763\n",
      "Micro F1 Score:  0.7190854897104763\n",
      "Macro F1 Score:  0.14474168785613004\n"
     ]
    }
   ],
   "source": [
    "print('****************** ADA prediction results ******************')\n",
    "print(\"Accuracy: \", accuracy_score(y_test, ada_pred))\n",
    "print(\"Micro F1 Score: \", f1_score_rep(y_test, ada_pred, average=\"micro\"))\n",
    "print(\"Macro F1 Score: \", f1_score_rep(y_test, ada_pred, average=\"macro\"))"
   ]
  },
  {
   "cell_type": "code",
   "execution_count": 14,
   "metadata": {},
   "outputs": [
    {
     "name": "stdout",
     "output_type": "stream",
     "text": [
      "TPR:  0.15309499822291842\n",
      "FPR:  0.20649498780664255\n",
      "FNR:  0.8469050017770816\n",
      "TNR:  0.7935050121933576\n"
     ]
    }
   ],
   "source": [
    "report(y_test, ada_pred)"
   ]
  },
  {
   "cell_type": "code",
   "execution_count": null,
   "metadata": {
    "id": "M-aNjwSrdqjD"
   },
   "outputs": [],
   "source": [
    "### Gradient Boosting Classifier\n",
    "from sklearn.ensemble import GradientBoostingClassifier\n",
    "gb = GradientBoostingClassifier(n_estimators=100, learning_rate=1.0, max_depth=1, random_state=0)\n",
    "gb = gb.fit(x_train, y_train)\n",
    "gb_pred = gb.predict(x_test)"
   ]
  },
  {
   "cell_type": "code",
   "execution_count": null,
   "metadata": {
    "id": "wx3948uudqjD"
   },
   "outputs": [],
   "source": [
    "print('****************** GB prediction results ******************')\n",
    "print(\"Accuracy: \", accuracy_score(y_test, gb_pred))\n",
    "print(\"Micro F1 Score: \", f1_score_rep(y_test, gb_pred, average=\"micro\"))\n",
    "print(\"Macro F1 Score: \", f1_score_rep(y_test, gb_pred, average=\"macro\"))"
   ]
  },
  {
   "cell_type": "code",
   "execution_count": null,
   "metadata": {},
   "outputs": [],
   "source": [
    "report(y_test, gb_pred)"
   ]
  },
  {
   "cell_type": "code",
   "execution_count": 15,
   "metadata": {
    "id": "zph8LN3hdqjE"
   },
   "outputs": [],
   "source": [
    "### XGBoost\n",
    "from xgboost import XGBClassifier\n",
    "xgb = XGBClassifier()\n",
    "xgb = xgb.fit(x_train, y_train)\n",
    "xgb_pred = xgb.predict(x_test)"
   ]
  },
  {
   "cell_type": "code",
   "execution_count": 16,
   "metadata": {
    "id": "Omvbk_atdqjE"
   },
   "outputs": [
    {
     "name": "stdout",
     "output_type": "stream",
     "text": [
      "****************** GB prediction results ******************\n",
      "Accuracy:  0.6319052766745963\n",
      "Micro F1 Score:  0.6319052766745963\n",
      "Macro F1 Score:  0.39569944656616\n"
     ]
    }
   ],
   "source": [
    "print('****************** GB prediction results ******************')\n",
    "print(\"Accuracy: \", accuracy_score(y_test, xgb_pred))\n",
    "print(\"Micro F1 Score: \", f1_score_rep(y_test, xgb_pred, average=\"micro\"))\n",
    "print(\"Macro F1 Score: \", f1_score_rep(y_test, xgb_pred, average=\"macro\"))"
   ]
  },
  {
   "cell_type": "code",
   "execution_count": 17,
   "metadata": {},
   "outputs": [
    {
     "name": "stdout",
     "output_type": "stream",
     "text": [
      "TPR:  0.4995115399751138\n",
      "FPR:  0.062004103249792615\n",
      "FNR:  0.5004884600248861\n",
      "TNR:  0.9379958967502074\n"
     ]
    }
   ],
   "source": [
    "report(y_test, xgb_pred)"
   ]
  },
  {
   "cell_type": "code",
   "execution_count": null,
   "metadata": {},
   "outputs": [],
   "source": []
  }
 ],
 "metadata": {
  "colab": {
   "name": "",
   "version": ""
  },
  "kernelspec": {
   "display_name": "Python 3 (ipykernel)",
   "language": "python",
   "name": "python3"
  },
  "language_info": {
   "codemirror_mode": {
    "name": "ipython",
    "version": 3
   },
   "file_extension": ".py",
   "mimetype": "text/x-python",
   "name": "python",
   "nbconvert_exporter": "python",
   "pygments_lexer": "ipython3",
   "version": "3.11.7"
  }
 },
 "nbformat": 4,
 "nbformat_minor": 4
}
