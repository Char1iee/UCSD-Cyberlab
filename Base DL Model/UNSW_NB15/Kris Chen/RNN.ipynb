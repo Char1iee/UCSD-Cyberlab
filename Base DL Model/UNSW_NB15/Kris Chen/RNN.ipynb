{
 "cells": [
  {
   "cell_type": "code",
   "execution_count": 1,
   "metadata": {
    "id": "gHqVTFNhw6jM"
   },
   "outputs": [
    {
     "name": "stderr",
     "output_type": "stream",
     "text": [
      "2024-01-30 10:07:55.705754: I external/local_tsl/tsl/cuda/cudart_stub.cc:31] Could not find cuda drivers on your machine, GPU will not be used.\n",
      "2024-01-30 10:07:55.854678: E external/local_xla/xla/stream_executor/cuda/cuda_dnn.cc:9261] Unable to register cuDNN factory: Attempting to register factory for plugin cuDNN when one has already been registered\n",
      "2024-01-30 10:07:55.854771: E external/local_xla/xla/stream_executor/cuda/cuda_fft.cc:607] Unable to register cuFFT factory: Attempting to register factory for plugin cuFFT when one has already been registered\n",
      "2024-01-30 10:07:55.857678: E external/local_xla/xla/stream_executor/cuda/cuda_blas.cc:1515] Unable to register cuBLAS factory: Attempting to register factory for plugin cuBLAS when one has already been registered\n",
      "2024-01-30 10:07:55.876489: I external/local_tsl/tsl/cuda/cudart_stub.cc:31] Could not find cuda drivers on your machine, GPU will not be used.\n",
      "2024-01-30 10:07:55.877341: I tensorflow/core/platform/cpu_feature_guard.cc:182] This TensorFlow binary is optimized to use available CPU instructions in performance-critical operations.\n",
      "To enable the following instructions: AVX2 FMA, in other operations, rebuild TensorFlow with the appropriate compiler flags.\n",
      "2024-01-30 10:07:58.115997: W tensorflow/compiler/tf2tensorrt/utils/py_utils.cc:38] TF-TRT Warning: Could not find TensorRT\n"
     ]
    }
   ],
   "source": [
    "import pandas as pd\n",
    "import numpy as np\n",
    "import seaborn as sns\n",
    "from sklearn.preprocessing import LabelEncoder\n",
    "from sklearn import preprocessing\n",
    "from sklearn.model_selection import train_test_split\n",
    "from time import time\n",
    "import random\n",
    "import warnings\n",
    "warnings.filterwarnings(\"ignore\")\n",
    "from sklearn.metrics import f1_score as f1_score_rep\n",
    "from sklearn.metrics import accuracy_score\n",
    "\n",
    "import numpy as np\n",
    "import tensorflow as tf\n",
    "from tensorflow.keras.models import Sequential\n",
    "from tensorflow.keras.layers import Conv1D, MaxPooling1D, Flatten, Dense\n",
    "from tensorflow.keras.layers import SimpleRNN, LSTM\n",
    "from tensorflow.keras.optimizers import SGD\n",
    "from tensorflow.keras.callbacks import EarlyStopping"
   ]
  },
  {
   "cell_type": "code",
   "execution_count": 2,
   "metadata": {
    "id": "MUnOy66Zxa8g"
   },
   "outputs": [],
   "source": [
    "x_test = np.load('/home/jovyan/UNSW/x_test.npy',allow_pickle=True)\n",
    "x_train = np.load('/home/jovyan/UNSW/x_train.npy',allow_pickle=True)\n",
    "x_val = np.load('/home/jovyan/UNSW/x_val.npy',allow_pickle=True)\n",
    "y_test = np.load('/home/jovyan/UNSW/y_test.npy',allow_pickle=True)\n",
    "y_train = np.load('/home/jovyan/UNSW/y_train.npy',allow_pickle=True)\n",
    "y_val = np.load('/home/jovyan/UNSW/y_val.npy',allow_pickle=True)"
   ]
  },
  {
   "cell_type": "code",
   "execution_count": 3,
   "metadata": {
    "id": "iBtiPGFRyBrP"
   },
   "outputs": [
    {
     "name": "stderr",
     "output_type": "stream",
     "text": [
      "2024-01-30 10:08:00.485568: W tensorflow/core/common_runtime/gpu/gpu_device.cc:2256] Cannot dlopen some GPU libraries. Please make sure the missing libraries mentioned above are installed properly if you would like to use GPU. Follow the guide at https://www.tensorflow.org/install/gpu for how to download and setup the required libraries for your platform.\n",
      "Skipping registering GPU devices...\n",
      "WARNING:absl:`lr` is deprecated in Keras optimizer, please use `learning_rate` or use the legacy optimizer, e.g.,tf.keras.optimizers.legacy.SGD.\n"
     ]
    },
    {
     "name": "stdout",
     "output_type": "stream",
     "text": [
      "Epoch 1/10\n",
      "1287/1287 [==============================] - 10s 6ms/step - loss: 0.3348 - accuracy: 0.8371 - val_loss: 0.2379 - val_accuracy: 0.8932\n",
      "Epoch 2/10\n",
      "1287/1287 [==============================] - 6s 5ms/step - loss: 0.2056 - accuracy: 0.9092 - val_loss: 0.1918 - val_accuracy: 0.9134\n",
      "Epoch 3/10\n",
      "1287/1287 [==============================] - 7s 5ms/step - loss: 0.1721 - accuracy: 0.9272 - val_loss: 0.1643 - val_accuracy: 0.9336\n",
      "Epoch 4/10\n",
      "1287/1287 [==============================] - 6s 5ms/step - loss: 0.1549 - accuracy: 0.9376 - val_loss: 0.1463 - val_accuracy: 0.9458\n",
      "Epoch 5/10\n",
      "1287/1287 [==============================] - 6s 5ms/step - loss: 0.1446 - accuracy: 0.9429 - val_loss: 0.1483 - val_accuracy: 0.9371\n",
      "Epoch 6/10\n",
      "1287/1287 [==============================] - 7s 5ms/step - loss: 0.1376 - accuracy: 0.9467 - val_loss: 0.1321 - val_accuracy: 0.9513\n",
      "Epoch 7/10\n",
      "1287/1287 [==============================] - 7s 5ms/step - loss: 0.1324 - accuracy: 0.9482 - val_loss: 0.1645 - val_accuracy: 0.9213\n",
      "Epoch 8/10\n",
      "1287/1287 [==============================] - 6s 5ms/step - loss: 0.1284 - accuracy: 0.9498 - val_loss: 0.1234 - val_accuracy: 0.9535\n",
      "Epoch 9/10\n",
      "1287/1287 [==============================] - 6s 5ms/step - loss: 0.1248 - accuracy: 0.9512 - val_loss: 0.1198 - val_accuracy: 0.9539\n",
      "Epoch 10/10\n",
      "1287/1287 [==============================] - 6s 5ms/step - loss: 0.1217 - accuracy: 0.9525 - val_loss: 0.1289 - val_accuracy: 0.9465\n",
      "3562/3562 [==============================] - 7s 2ms/step - loss: 0.2902 - accuracy: 0.8905\n",
      "Test accuracy: 0.8904809355735779\n",
      "3562/3562 [==============================] - 7s 2ms/step\n"
     ]
    }
   ],
   "source": [
    "timesteps = 1 # Number of timesteps; adjust based on your data\n",
    "features_per_timestep = x_train.shape[1] # Features per timestep\n",
    "x_train = x_train.reshape(-1, timesteps, features_per_timestep)\n",
    "x_val = x_val.reshape(-1, timesteps, features_per_timestep)\n",
    "x_test = x_test.reshape(-1, timesteps, features_per_timestep)\n",
    "\n",
    "input_shape = x_train.shape[1:]\n",
    "num_classes = len(np.unique(y_train))\n",
    "\n",
    "\n",
    "rnn_model = Sequential()\n",
    "rnn_model.add(SimpleRNN(50, return_sequences=True, input_shape=input_shape))\n",
    "rnn_model.add(SimpleRNN(50))\n",
    "rnn_model.add(Dense(units=30, activation='relu'))\n",
    "rnn_model.add(Dense(units=num_classes, activation='softmax'))\n",
    "\n",
    "\n",
    "\n",
    "opt = SGD(lr=0.01)\n",
    "\n",
    "rnn_model.compile(loss=\"sparse_categorical_crossentropy\", optimizer=opt, metrics=['accuracy'])\n",
    "\n",
    "early_stopping = EarlyStopping(monitor='val_loss', min_delta=0, patience=5)\n",
    "hist = rnn_model.fit(x_train, y_train, epochs=10, batch_size=64,\n",
    "                     validation_data=(x_val, y_val), # validation\n",
    "                     callbacks=[early_stopping])\n",
    "\n",
    "test_loss, test_acc = rnn_model.evaluate(x_test, y_test)\n",
    "print('Test accuracy:', test_acc)\n",
    "\n",
    "y_hat = rnn_model.predict(x_test)\n",
    "y_hat = np.argmax(y_hat, axis=-1)"
   ]
  },
  {
   "cell_type": "code",
   "execution_count": 5,
   "metadata": {
    "id": "4YBRvKV1yDG0"
   },
   "outputs": [
    {
     "name": "stdout",
     "output_type": "stream",
     "text": [
      "FPR: [0.14635624 0.03101648]\n",
      "TPR: [0.96898352 0.85364376]\n",
      "FNR: [0.03101648 0.14635624]\n",
      "TNR: [0.85364376 0.96898352]\n",
      "Precision: 0.8698674373739224\n",
      "Accuracy: 0.8904809118108993\n",
      "F1-score: 0.8817632313932409\n",
      "FPR: 0.08868636244767467\n",
      "tpr: 0.9113136375523253\n",
      "fnr: 0.08868636244767467\n",
      "tnr: 0.9113136375523253\n"
     ]
    },
    {
     "data": {
      "image/png": "[encoded data removed]",
      "text/plain": [
       "<Figure size 640x480 with 2 Axes>"
      ]
     },
     "metadata": {},
     "output_type": "display_data"
    }
   ],
   "source": [
    "from sklearn.metrics import confusion_matrix, precision_score, accuracy_score, f1_score, roc_auc_score\n",
    "\n",
    "\n",
    "\n",
    "conf_matrix = confusion_matrix(y_test, y_hat)\n",
    "# tn, fp, fn, tp = conf_matrix.ravel()\n",
    "cm = conf_matrix\n",
    "fp = cm.sum(axis=0) - np.diag(cm)\n",
    "fn = cm.sum(axis=1) - np.diag(cm)\n",
    "tp = np.diag(cm)\n",
    "tn = cm.sum() - (fp + fn + tp)\n",
    "\n",
    "\n",
    "fpr = fp / (fp + tn)\n",
    "tpr = tp / (tp + fn)\n",
    "fnr = fn / (fn + tp)\n",
    "tnr = tn / (tn + fp)\n",
    "precision = precision_score(y_test, y_hat, average='macro')\n",
    "accuracy = accuracy_score(y_test, y_hat)\n",
    "f1 = f1_score(y_test, y_hat, average='macro')\n",
    "# auc = roc_auc_score(y_test, rnn_model.predict(x_test), multi_class='ovr')\n",
    "\n",
    "print(f\"FPR: {fpr}\")\n",
    "print(f\"TPR: {tpr}\")\n",
    "print(f\"FNR: {fnr}\")\n",
    "print(f\"TNR: {tnr}\")\n",
    "print(f\"Precision: {precision}\")\n",
    "print(f\"Accuracy: {accuracy}\")\n",
    "print(f\"F1-score: {f1}\")\n",
    "# print(f\"AUC: {auc}\")\n",
    "\n",
    "print(f\"FPR: {np.mean(fpr)}\")\n",
    "print(f\"tpr: {np.mean(tpr)}\")\n",
    "print(f\"fnr: {np.mean(fnr)}\")\n",
    "print(f\"tnr: {np.mean(tnr)}\")\n",
    "\n",
    "import matplotlib.pyplot as plt\n",
    "from sklearn.metrics import confusion_matrix, ConfusionMatrixDisplay\n",
    "disp = ConfusionMatrixDisplay(confusion_matrix=conf_matrix)\n",
    "disp.plot()\n",
    "plt.show()\n",
    "\n",
    "import pandas as pd\n",
    "metrics = {\n",
    "    \"model\" : \"rnn\",\n",
    "    \"Accuracy\": accuracy,\n",
    "    \"Precision\": precision,\n",
    "    \"F1-score\": f1,\n",
    "    \"FPR\": np.mean(fpr),\n",
    "    \"TPR\": np.mean(tpr),\n",
    "    \"FNR\": np.mean(fnr),\n",
    "    \"TNR\": np.mean(tnr),\n",
    "    # \"AUC\": auc\n",
    "}\n",
    "metrics_df = pd.DataFrame([metrics])\n",
    "metrics_df.to_csv(\"/home/jovyan/UNSW/model.csv\", mode='a', index=False)"
   ]
  },
  {
   "cell_type": "code",
   "execution_count": null,
   "metadata": {},
   "outputs": [],
   "source": []
  }
 ],
 "metadata": {
  "colab": {
   "provenance": []
  },
  "kernelspec": {
   "display_name": "Python 3 (ipykernel)",
   "language": "python",
   "name": "python3"
  },
  "language_info": {
   "codemirror_mode": {
    "name": "ipython",
    "version": 3
   },
   "file_extension": ".py",
   "mimetype": "text/x-python",
   "name": "python",
   "nbconvert_exporter": "python",
   "pygments_lexer": "ipython3",
   "version": "3.11.5"
  }
 },
 "nbformat": 4,
 "nbformat_minor": 4
}
