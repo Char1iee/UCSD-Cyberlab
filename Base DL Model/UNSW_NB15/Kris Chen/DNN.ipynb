{
 "cells": [
  {
   "cell_type": "code",
   "execution_count": 1,
   "metadata": {
    "id": "gx_S9x8b8H97"
   },
   "outputs": [
    {
     "name": "stderr",
     "output_type": "stream",
     "text": [
      "2024-01-30 10:14:04.125052: I external/local_tsl/tsl/cuda/cudart_stub.cc:31] Could not find cuda drivers on your machine, GPU will not be used.\n",
      "2024-01-30 10:14:04.277820: E external/local_xla/xla/stream_executor/cuda/cuda_dnn.cc:9261] Unable to register cuDNN factory: Attempting to register factory for plugin cuDNN when one has already been registered\n",
      "2024-01-30 10:14:04.277932: E external/local_xla/xla/stream_executor/cuda/cuda_fft.cc:607] Unable to register cuFFT factory: Attempting to register factory for plugin cuFFT when one has already been registered\n",
      "2024-01-30 10:14:04.280482: E external/local_xla/xla/stream_executor/cuda/cuda_blas.cc:1515] Unable to register cuBLAS factory: Attempting to register factory for plugin cuBLAS when one has already been registered\n",
      "2024-01-30 10:14:04.301987: I external/local_tsl/tsl/cuda/cudart_stub.cc:31] Could not find cuda drivers on your machine, GPU will not be used.\n",
      "2024-01-30 10:14:04.307047: I tensorflow/core/platform/cpu_feature_guard.cc:182] This TensorFlow binary is optimized to use available CPU instructions in performance-critical operations.\n",
      "To enable the following instructions: AVX2 FMA, in other operations, rebuild TensorFlow with the appropriate compiler flags.\n",
      "2024-01-30 10:14:06.584652: W tensorflow/compiler/tf2tensorrt/utils/py_utils.cc:38] TF-TRT Warning: Could not find TensorRT\n"
     ]
    }
   ],
   "source": [
    "import numpy as np\n",
    "import tensorflow as tf\n",
    "from tensorflow.keras.models import Sequential\n",
    "from tensorflow.keras.layers import Dense, Input\n",
    "from tensorflow.keras.optimizers import SGD\n",
    "from tensorflow.keras.callbacks import EarlyStopping\n",
    "\n",
    "x_test = np.load('/home/jovyan/UNSW/x_test.npy',allow_pickle=True)\n",
    "x_train = np.load('/home/jovyan/UNSW/x_train.npy',allow_pickle=True)\n",
    "x_val = np.load('/home/jovyan/UNSW/x_val.npy',allow_pickle=True)\n",
    "y_test = np.load('/home/jovyan/UNSW/y_test.npy',allow_pickle=True)\n",
    "y_train = np.load('/home/jovyan/UNSW/y_train.npy',allow_pickle=True)\n",
    "y_val = np.load('/home/jovyan/UNSW/y_val.npy',allow_pickle=True)"
   ]
  },
  {
   "cell_type": "code",
   "execution_count": 2,
   "metadata": {},
   "outputs": [],
   "source": [
    "import tensorflow as tf\n",
    "from tensorflow.keras import Model\n",
    "from tensorflow.keras.models import Sequential\n",
    "from tensorflow.keras.layers import Input, Dense, Conv1D, MaxPooling1D\n",
    "from tensorflow.keras.optimizers import SGD"
   ]
  },
  {
   "cell_type": "code",
   "execution_count": 3,
   "metadata": {
    "id": "cncKTHBU7-L1"
   },
   "outputs": [
    {
     "name": "stderr",
     "output_type": "stream",
     "text": [
      "2024-01-30 10:14:09.804694: W tensorflow/core/common_runtime/gpu/gpu_device.cc:2256] Cannot dlopen some GPU libraries. Please make sure the missing libraries mentioned above are installed properly if you would like to use GPU. Follow the guide at https://www.tensorflow.org/install/gpu for how to download and setup the required libraries for your platform.\n",
      "Skipping registering GPU devices...\n",
      "WARNING:absl:`lr` is deprecated in Keras optimizer, please use `learning_rate` or use the legacy optimizer, e.g.,tf.keras.optimizers.legacy.SGD.\n"
     ]
    },
    {
     "name": "stdout",
     "output_type": "stream",
     "text": [
      "Epoch 1/10\n",
      "1287/1287 [==============================] - 6s 4ms/step - loss: 0.3683 - accuracy: 0.8196 - val_loss: 0.2643 - val_accuracy: 0.8754\n",
      "Epoch 2/10\n",
      "1287/1287 [==============================] - 4s 3ms/step - loss: 0.2312 - accuracy: 0.8910 - val_loss: 0.2071 - val_accuracy: 0.9083\n",
      "Epoch 3/10\n",
      "1287/1287 [==============================] - 4s 3ms/step - loss: 0.1945 - accuracy: 0.9131 - val_loss: 0.1865 - val_accuracy: 0.9160\n",
      "Epoch 4/10\n",
      "1287/1287 [==============================] - 4s 3ms/step - loss: 0.1730 - accuracy: 0.9265 - val_loss: 0.1637 - val_accuracy: 0.9359\n",
      "Epoch 5/10\n",
      "1287/1287 [==============================] - 4s 3ms/step - loss: 0.1562 - accuracy: 0.9374 - val_loss: 0.1486 - val_accuracy: 0.9428\n",
      "Epoch 6/10\n",
      "1287/1287 [==============================] - 4s 3ms/step - loss: 0.1445 - accuracy: 0.9432 - val_loss: 0.1402 - val_accuracy: 0.9460\n",
      "Epoch 7/10\n",
      "1287/1287 [==============================] - 4s 3ms/step - loss: 0.1368 - accuracy: 0.9470 - val_loss: 0.1419 - val_accuracy: 0.9391\n",
      "Epoch 8/10\n",
      "1287/1287 [==============================] - 4s 3ms/step - loss: 0.1307 - accuracy: 0.9497 - val_loss: 0.1258 - val_accuracy: 0.9528\n",
      "Epoch 9/10\n",
      "1287/1287 [==============================] - 4s 3ms/step - loss: 0.1266 - accuracy: 0.9509 - val_loss: 0.1228 - val_accuracy: 0.9535\n",
      "Epoch 10/10\n",
      "1287/1287 [==============================] - 4s 3ms/step - loss: 0.1226 - accuracy: 0.9517 - val_loss: 0.1191 - val_accuracy: 0.9538\n",
      "3562/3562 [==============================] - 6s 2ms/step - loss: 0.2374 - accuracy: 0.9127\n",
      "Test accuracy: 0.9126883149147034\n",
      "3562/3562 [==============================] - 5s 1ms/step\n"
     ]
    }
   ],
   "source": [
    "input_shape = x_train.shape[1:]\n",
    "num_classes = len(np.unique(y_train))\n",
    "\n",
    "\n",
    "dnn_model = Sequential()\n",
    "dnn_model.add(Input(shape=input_shape))\n",
    "dnn_model.add(Dense(units=30, activation='relu'))\n",
    "dnn_model.add(Dense(units=20, activation='relu'))\n",
    "dnn_model.add(Dense(units=num_classes, activation='softmax'))\n",
    "\n",
    "opt = SGD(lr=0.01)\n",
    "\n",
    "dnn_model.compile(loss=\"sparse_categorical_crossentropy\", optimizer=opt, metrics=['accuracy'])\n",
    "\n",
    "early_stopping = EarlyStopping(monitor='val_loss', min_delta=0, patience=5)\n",
    "hist = dnn_model.fit(x_train, y_train, epochs=10, batch_size=64,\n",
    "                     validation_data=(x_val, y_val),\n",
    "                     callbacks=[early_stopping])\n",
    "\n",
    "test_loss, test_acc = dnn_model.evaluate(x_test, y_test)\n",
    "print('Test accuracy:', test_acc)\n",
    "\n",
    "y_hat = dnn_model.predict(x_test)\n",
    "y_hat = np.argmax(y_hat, axis=-1)"
   ]
  },
  {
   "cell_type": "code",
   "execution_count": 5,
   "metadata": {
    "id": "szJtL6DD8PZa"
   },
   "outputs": [
    {
     "name": "stdout",
     "output_type": "stream",
     "text": [
      "FPR: [0.10073352 0.05870879]\n",
      "TPR: [0.94129121 0.89926648]\n",
      "FNR: [0.05870879 0.10073352]\n",
      "TNR: [0.89926648 0.94129121]\n",
      "Precision: 0.8922842638584749\n",
      "Accuracy: 0.9126883154486668\n",
      "F1-score: 0.9033105285784727\n",
      "FPR: 0.0797211563783962\n",
      "tpr: 0.9202788436216038\n",
      "fnr: 0.0797211563783962\n",
      "tnr: 0.9202788436216038\n"
     ]
    },
    {
     "data": {
      "image/png": "[encoded data removed]",
      "text/plain": [
       "<Figure size 640x480 with 2 Axes>"
      ]
     },
     "metadata": {},
     "output_type": "display_data"
    }
   ],
   "source": [
    "from sklearn.metrics import confusion_matrix, precision_score, accuracy_score, f1_score, roc_auc_score\n",
    "\n",
    "\n",
    "\n",
    "conf_matrix = confusion_matrix(y_test, y_hat)\n",
    "# tn, fp, fn, tp = conf_matrix.ravel()\n",
    "cm = conf_matrix\n",
    "fp = cm.sum(axis=0) - np.diag(cm)\n",
    "fn = cm.sum(axis=1) - np.diag(cm)\n",
    "tp = np.diag(cm)\n",
    "tn = cm.sum() - (fp + fn + tp)\n",
    "\n",
    "\n",
    "fpr = fp / (fp + tn)\n",
    "tpr = tp / (tp + fn)\n",
    "fnr = fn / (fn + tp)\n",
    "tnr = tn / (tn + fp)\n",
    "precision = precision_score(y_test, y_hat, average='macro')\n",
    "accuracy = accuracy_score(y_test, y_hat)\n",
    "f1 = f1_score(y_test, y_hat, average='macro')\n",
    "# auc = roc_auc_score(y_test, dnn_model.predict(x_test), multi_class='ovr')\n",
    "\n",
    "print(f\"FPR: {fpr}\")\n",
    "print(f\"TPR: {tpr}\")\n",
    "print(f\"FNR: {fnr}\")\n",
    "print(f\"TNR: {tnr}\")\n",
    "print(f\"Precision: {precision}\")\n",
    "print(f\"Accuracy: {accuracy}\")\n",
    "print(f\"F1-score: {f1}\")\n",
    "# print(f\"AUC: {auc}\")\n",
    "\n",
    "print(f\"FPR: {np.mean(fpr)}\")\n",
    "print(f\"tpr: {np.mean(tpr)}\")\n",
    "print(f\"fnr: {np.mean(fnr)}\")\n",
    "print(f\"tnr: {np.mean(tnr)}\")\n",
    "\n",
    "import matplotlib.pyplot as plt\n",
    "from sklearn.metrics import confusion_matrix, ConfusionMatrixDisplay\n",
    "disp = ConfusionMatrixDisplay(confusion_matrix=conf_matrix)\n",
    "disp.plot()\n",
    "plt.show()\n",
    "\n",
    "import pandas as pd\n",
    "metrics = {\n",
    "    \"model\" : \"dnn\",\n",
    "    \"Accuracy\": accuracy,\n",
    "    \"Precision\": precision,\n",
    "    \"F1-score\": f1,\n",
    "    \"FPR\": np.mean(fpr),\n",
    "    \"TPR\": np.mean(tpr),\n",
    "    \"FNR\": np.mean(fnr),\n",
    "    \"TNR\": np.mean(tnr),\n",
    "    # \"AUC\": auc\n",
    "}\n",
    "metrics_df = pd.DataFrame([metrics])\n",
    "metrics_df.to_csv(\"/home/jovyan/UNSW/model.csv\", mode='a', index=False)"
   ]
  },
  {
   "cell_type": "code",
   "execution_count": null,
   "metadata": {},
   "outputs": [],
   "source": []
  }
 ],
 "metadata": {
  "colab": {
   "provenance": []
  },
  "kernelspec": {
   "display_name": "Python 3 (ipykernel)",
   "language": "python",
   "name": "python3"
  },
  "language_info": {
   "codemirror_mode": {
    "name": "ipython",
    "version": 3
   },
   "file_extension": ".py",
   "mimetype": "text/x-python",
   "name": "python",
   "nbconvert_exporter": "python",
   "pygments_lexer": "ipython3",
   "version": "3.11.5"
  }
 },
 "nbformat": 4,
 "nbformat_minor": 4
}
