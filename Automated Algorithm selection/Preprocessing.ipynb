{
 "cells": [
  {
   "cell_type": "code",
   "execution_count": 23,
   "id": "24d32de1-963a-47f8-9120-e6954c394ec8",
   "metadata": {},
   "outputs": [],
   "source": [
    "# pgd adversarial training #1\n",
    "# interpolated adversarial training #2\n",
    "# TRADES #3\n",
    "# Free_Adv_Training #4\n",
    "# Feature Squeezing #5\n",
    "# gaussian_augmenter #6\n",
    "# Gaussian Noise #7\n",
    "# Defensive Distillation #8\n",
    "# RSLAD10 #9\n",
    "# RSLAD100 #10"
   ]
  },
  {
   "cell_type": "code",
   "execution_count": 1,
   "id": "c316fe07-82f9-448f-a170-8fcbd50a8394",
   "metadata": {},
   "outputs": [],
   "source": [
    "import numpy as np"
   ]
  },
  {
   "cell_type": "code",
   "execution_count": 2,
   "id": "ca014956-af3d-46aa-84af-b1ff092b6802",
   "metadata": {},
   "outputs": [],
   "source": [
    "Index = [2, 1, 5, 5, 2, 1, 1,5,2,1,5,5,6,6,6,6,2,1,3,5,7,7,7,7,6,2,2,1,1,2]"
   ]
  },
  {
   "cell_type": "code",
   "execution_count": 3,
   "id": "dbe10e8b-9e89-4f5b-8634-783225d30a20",
   "metadata": {},
   "outputs": [],
   "source": [
    "# WUSTL\n",
    "\n",
    "# BIM 0.1 y=1\n",
    "x_train1 = np.load('/home/jovyan/Wustl_iiot/transfer_attack/x_test_adv_BIM_eps_0.1.npy')\n",
    "y_train1 = np.full(len(x_train1), 1)\n",
    "x_train2 = np.load('/home/jovyan/Wustl_iiot/transfer_attack/x_test_adv_BIM_eps_0.2.npy')\n",
    "y_train2 = np.full(len(x_train2), 5)\n",
    "\n",
    "# FGSM 0.01 y=2\n",
    "x_train3 = np.load('/home/jovyan/Wustl_iiot/transfer_attack/x_test_adv_FGSM_eps_0.1.npy')\n",
    "y_train3 = np.full(len(x_train3), 1)\n",
    "x_train4 = np.load('/home/jovyan/Wustl_iiot/transfer_attack/x_test_adv_FGSM_eps_0.2.npy')\n",
    "y_train4 = np.full(len(x_train4), 1)\n",
    "\n",
    "\n",
    "# PGD 0.2 y=5\n",
    "x_train5 = np.load('/home/jovyan/Wustl_iiot/transfer_attack/x_test_adv_PGD_eps_0.1.npy')\n",
    "y_train5 = np.full(len(x_train5), 1)\n",
    "x_train6 = np.load('/home/jovyan/Wustl_iiot/transfer_attack/x_test_adv_PGD_eps_0.2.npy')\n",
    "y_train6 = np.full(len(x_train6), 5)\n",
    "\n",
    "\n",
    "# DF 0.01 y=6\n",
    "x_train7 = np.load('/home/jovyan/Wustl_iiot/transfer_attack/x_test_adv_DF_eps_0.1.npy')\n",
    "y_train7 = np.full(len(x_train7), 6)\n",
    "x_train8 = np.load('/home/jovyan/Wustl_iiot/transfer_attack/x_test_adv_DF_eps_0.2.npy')\n",
    "y_train8 = np.full(len(x_train8), 6)\n",
    "\n",
    "\n",
    "# AutoPGD 0.2 y=3\n",
    "x_train9 = np.load('/home/jovyan/Wustl_iiot/transfer_attack/x_test_adv_AutoPGD_eps_0.1.npy')\n",
    "y_train9 = np.full(len(x_train9), 1)\n",
    "x_train10 = np.load('/home/jovyan/Wustl_iiot/transfer_attack/x_test_adv_AutoPGD_eps_0.2.npy')\n",
    "y_train10 = np.full(len(x_train10), 3)\n",
    "\n",
    "\n",
    "# BA 0.2 y=7\n",
    "x_train11 = np.load('/home/jovyan/Wustl_iiot/transfer_attack/x_test_adv_BA_eps_0.1.npy')\n",
    "y_train11 = np.full(len(x_train11), 7)\n",
    "x_train12 = np.load('/home/jovyan/Wustl_iiot/transfer_attack/x_test_adv_BA_eps_0.2.npy')\n",
    "y_train12 = np.full(len(x_train12), 7)\n",
    "\n",
    "\n",
    "# # HopSkipJump y=6\n",
    "# x_train13 = np.load('/home/jovyan/Wustl_iiot/transfer_attack/x_test_adv_HopSkipJump_eps_0.npy')\n",
    "# y_train13 = np.full(len(x_train13), 6)\n",
    "\n",
    "\n",
    "# ZOO 0 y=2\n",
    "x_train14 = np.load('/home/jovyan/Wustl_iiot/transfer_attack/x_test_adv_ZOO_eps_0.01.npy')\n",
    "y_train14 = np.full(len(x_train14), 2)\n",
    "x_train15 = np.load('/home/jovyan/Wustl_iiot/transfer_attack/x_test_adv_ZOO_eps_0.1.npy')\n",
    "y_train15 = np.full(len(x_train15), 1)"
   ]
  },
  {
   "cell_type": "code",
   "execution_count": 4,
   "id": "58ca9a3b-3692-41b2-980d-84693e95a6c4",
   "metadata": {},
   "outputs": [],
   "source": [
    "# X = np.concatenate((x_train1, x_train2, x_train3, x_train4, \n",
    "#                           x_train5, x_train6, x_train7, x_train8,\n",
    "#                    x_train9, x_train10, x_train11, \n",
    "#                           x_train12, x_train13, x_train14, x_train15), axis=0)\n",
    "# y = np.concatenate((y_train1, y_train2, y_train3, y_train4, \n",
    "#                           y_train5, y_train6, y_train7, y_train8,\n",
    "#                    y_train9, y_train10, y_train11, \n",
    "#                           y_train12, y_train13, y_train14, y_train15), axis=0)\n",
    "\n",
    "X = np.concatenate((x_train1, x_train2, x_train3, x_train4, \n",
    "                          x_train5, x_train6, x_train7, x_train8,\n",
    "                   x_train9, x_train10, x_train11, \n",
    "                          x_train12, x_train14, x_train15), axis=0)\n",
    "y = np.concatenate((y_train1, y_train2, y_train3, y_train4, \n",
    "                          y_train5, y_train6, y_train7, y_train8,\n",
    "                   y_train9, y_train10, y_train11, \n",
    "                          y_train12, y_train14, y_train15), axis=0)"
   ]
  },
  {
   "cell_type": "code",
   "execution_count": 5,
   "id": "56df4996-2917-4ab3-82ed-e45e7d7cabe9",
   "metadata": {},
   "outputs": [
    {
     "name": "stdout",
     "output_type": "stream",
     "text": [
      "Time: 5.73 second\n",
      "\n",
      "\n"
     ]
    }
   ],
   "source": [
    "from sklearn.decomposition import PCA\n",
    "import pandas as pd\n",
    "import time\n",
    "\n",
    "start_time = time.time()\n",
    "\n",
    "n_components = 4\n",
    "pca = PCA(n_components=n_components)\n",
    "\n",
    "X_pca = pca.fit_transform(X)\n",
    "\n",
    "end_time = time.time()\n",
    "elapsed_time = end_time - start_time\n",
    "print(f\"Time: {elapsed_time:.2f} second\\n\\n\")"
   ]
  },
  {
   "cell_type": "code",
   "execution_count": 6,
   "id": "230445b1-1456-4e9a-9b1a-e29f2406b3d3",
   "metadata": {},
   "outputs": [],
   "source": [
    "from sklearn.preprocessing import LabelEncoder\n",
    "\n",
    "label_encoder = LabelEncoder()\n",
    "label_encoder.fit(y)\n",
    "\n",
    "y = label_encoder.transform(y)"
   ]
  },
  {
   "cell_type": "code",
   "execution_count": 7,
   "id": "bc5f9abe-2057-4a2d-b960-c6b5f2c345f8",
   "metadata": {},
   "outputs": [
    {
     "name": "stdout",
     "output_type": "stream",
     "text": [
      "defense '1' encode 0\n",
      "defense '2' encode 1\n",
      "defense '3' encode 2\n",
      "defense '5' encode 3\n",
      "defense '6' encode 4\n",
      "defense '7' encode 5\n"
     ]
    }
   ],
   "source": [
    "for index, class_label in enumerate(label_encoder.classes_):\n",
    "    print(f\"defense '{class_label}' encode {index}\")"
   ]
  },
  {
   "cell_type": "code",
   "execution_count": 8,
   "id": "8de5e9dc-d9a3-4124-ac2f-5fa2da9b2707",
   "metadata": {},
   "outputs": [],
   "source": [
    "# train val test = 0.6 0.2 0.2\n",
    "from sklearn.model_selection import train_test_split\n",
    "x_train, x_temp, y_train, y_temp = train_test_split(X_pca, y, test_size = 0.4, random_state = 0, stratify=y)\n",
    "x_test, x_val, y_test, y_val = train_test_split(x_temp, y_temp, test_size = 0.5, random_state = 0, stratify=y_temp)\n",
    "\n",
    "np.save('/home/jovyan/Automated_Selection/Input_Data/x_train.npy', x_train)\n",
    "np.save('/home/jovyan/Automated_Selection/Input_Data/y_train.npy', y_train)\n",
    "np.save('/home/jovyan/Automated_Selection/Input_Data/x_val.npy', x_val)\n",
    "np.save('/home/jovyan/Automated_Selection/Input_Data/y_val.npy', y_val)\n",
    "np.save('/home/jovyan/Automated_Selection/Input_Data/x_test.npy', x_test)\n",
    "np.save('/home/jovyan/Automated_Selection/Input_Data/y_test.npy', y_test)"
   ]
  },
  {
   "cell_type": "code",
   "execution_count": 9,
   "id": "75a00541-d91a-4081-9149-1c0c009ecf0d",
   "metadata": {},
   "outputs": [],
   "source": [
    "# WUSTL\n",
    "\n",
    "# BIM 0.1 y=1\n",
    "x_train1 = np.load('/home/jovyan/Wustl_iiot/transfer_attack/x_test_adv_BIM_eps_0.01.npy')\n",
    "y_train1 = np.full(len(x_train1), 2)\n",
    "x_train2 = np.load('/home/jovyan/Wustl_iiot/transfer_attack/x_test_adv_BIM_eps_0.3.npy')\n",
    "y_train2 = np.full(len(x_train2), 5)\n",
    "\n",
    "# FGSM 0.01 y=2\n",
    "x_train3 = np.load('/home/jovyan/Wustl_iiot/transfer_attack/x_test_adv_FGSM_eps_0.01.npy')\n",
    "y_train3 = np.full(len(x_train3), 2)\n",
    "x_train4 = np.load('/home/jovyan/Wustl_iiot/transfer_attack/x_test_adv_FGSM_eps_0.3.npy')\n",
    "y_train4 = np.full(len(x_train4), 5)\n",
    "\n",
    "\n",
    "# PGD 0.2 y=5\n",
    "x_train5 = np.load('/home/jovyan/Wustl_iiot/transfer_attack/x_test_adv_PGD_eps_0.01.npy')\n",
    "y_train5 = np.full(len(x_train5), 2)\n",
    "x_train6 = np.load('/home/jovyan/Wustl_iiot/transfer_attack/x_test_adv_PGD_eps_0.3.npy')\n",
    "y_train6 = np.full(len(x_train6), 5)\n",
    "\n",
    "\n",
    "# DF 0.01 y=6\n",
    "x_train7 = np.load('/home/jovyan/Wustl_iiot/transfer_attack/x_test_adv_DF_eps_0.01.npy')\n",
    "y_train7 = np.full(len(x_train7), 6)\n",
    "x_train8 = np.load('/home/jovyan/Wustl_iiot/transfer_attack/x_test_adv_DF_eps_0.3.npy')\n",
    "y_train8 = np.full(len(x_train8), 6)\n",
    "\n",
    "\n",
    "# AutoPGD 0.2 y=3\n",
    "x_train9 = np.load('/home/jovyan/Wustl_iiot/transfer_attack/x_test_adv_AutoPGD_eps_0.01.npy')\n",
    "y_train9 = np.full(len(x_train9), 2)\n",
    "x_train10 = np.load('/home/jovyan/Wustl_iiot/transfer_attack/x_test_adv_AutoPGD_eps_0.3.npy')\n",
    "y_train10 = np.full(len(x_train10), 5)\n",
    "\n",
    "\n",
    "# BA 0.2 y=7\n",
    "x_train11 = np.load('/home/jovyan/Wustl_iiot/transfer_attack/x_test_adv_BA_eps_0.01.npy')\n",
    "y_train11 = np.full(len(x_train11), 7)\n",
    "x_train12 = np.load('/home/jovyan/Wustl_iiot/transfer_attack/x_test_adv_BA_eps_0.3.npy')\n",
    "y_train12 = np.full(len(x_train12), 7)\n",
    "\n",
    "\n",
    "# # HopSkipJump y=6\n",
    "# x_train13 = np.load('/home/jovyan/Wustl_iiot/transfer_attack/x_test_adv_HopSkipJump_eps_0.npy')\n",
    "# y_train13 = np.full(len(x_train13), 6)\n",
    "\n",
    "\n",
    "# ZOO 0 y=2\n",
    "x_train14 = np.load('/home/jovyan/Wustl_iiot/transfer_attack/x_test_adv_ZOO_eps_0.npy')\n",
    "y_train14 = np.full(len(x_train14), 2)\n",
    "x_train15 = np.load('/home/jovyan/Wustl_iiot/transfer_attack/x_test_adv_ZOO_eps_0.2.npy')\n",
    "y_train15 = np.full(len(x_train15), 1)\n",
    "x_train16 = np.load('/home/jovyan/Wustl_iiot/transfer_attack/x_test_adv_ZOO_eps_0.3.npy')\n",
    "y_train16 = np.full(len(x_train16), 2)"
   ]
  },
  {
   "cell_type": "code",
   "execution_count": 10,
   "id": "1b7ba40b-6a44-4f2e-91a2-e69318d9d771",
   "metadata": {},
   "outputs": [],
   "source": [
    "# X_Wustl = np.concatenate((x_train1, x_train2, x_train3, x_train4, \n",
    "#                           x_train5, x_train6, x_train7, x_train8,\n",
    "#                    x_train9, x_train10, x_train11, \n",
    "#                           x_train12, x_train13, x_train14, x_train15,\n",
    "#                    x_train16), axis=0)\n",
    "# y_Wustl = np.concatenate((y_train1, y_train2, y_train3, y_train4, \n",
    "#                           y_train5, y_train6, y_train7, y_train8,\n",
    "#                    y_train9, y_train10, y_train11, \n",
    "#                           y_train12, y_train13, y_train14, y_train15,\n",
    "#                    y_train16), axis=0)\n",
    "\n",
    "X_Wustl = np.concatenate((x_train1, x_train2, x_train3, x_train4, \n",
    "                          x_train5, x_train6, x_train7, x_train8,\n",
    "                   x_train9, x_train10, x_train11, \n",
    "                          x_train12, x_train14, x_train15,\n",
    "                   x_train16), axis=0)\n",
    "y_Wustl = np.concatenate((y_train1, y_train2, y_train3, y_train4, \n",
    "                          y_train5, y_train6, y_train7, y_train8,\n",
    "                   y_train9, y_train10, y_train11, \n",
    "                          y_train12, y_train14, y_train15,\n",
    "                   y_train16), axis=0)\n",
    "\n",
    "X_Wustl_pca = pca.fit_transform(X_Wustl)\n",
    "y_Wustl = label_encoder.transform(y_Wustl)\n",
    "\n",
    "np.save('/home/jovyan/Automated_Selection/Input_Data/x_Wustl.npy', X_Wustl_pca)\n",
    "np.save('/home/jovyan/Automated_Selection/Input_Data/y_Wustl.npy', y_Wustl)"
   ]
  },
  {
   "cell_type": "code",
   "execution_count": 9,
   "id": "5fa8583d-6011-41cb-9772-5c14dfb5862e",
   "metadata": {},
   "outputs": [],
   "source": [
    "# UNSW\n",
    "\n",
    "# BIM 0.1 y=1\n",
    "x_UNSW1 = np.load('/home/jovyan/UNSW/transfer_attack/x_test_adv_BIM_eps_0.1.npy')\n",
    "y_UNSW1 = np.full(len(x_UNSW1), 1)\n",
    "\n",
    "# FGSM 0.3 y=6\n",
    "x_UNSW2 = np.load('/home/jovyan/UNSW/transfer_attack/x_test_adv_FGSM_eps_0.01.npy')\n",
    "y_UNSW2 = np.full(len(x_UNSW2), 6)\n",
    "\n",
    "# PGD 0.1 y=1\n",
    "x_UNSW3 = np.load('/home/jovyan/UNSW/transfer_attack/x_test_adv_PGD_eps_0.1.npy')\n",
    "y_UNSW3 = np.full(len(x_UNSW3), 1)\n",
    "\n",
    "\n",
    "# DF 0.01 y=6\n",
    "x_UNSW4 = np.load('/home/jovyan/UNSW/transfer_attack/x_test_adv_DF_eps_0.01.npy')\n",
    "y_UNSW4 = np.full(len(x_UNSW4), 6)\n",
    "\n",
    "\n",
    "# BA 0.01 y=7\n",
    "x_UNSW5 = np.load('/home/jovyan/UNSW/transfer_attack/x_test_adv_DF_eps_0.01.npy')\n",
    "y_UNSW5 = np.full(len(x_UNSW5), 7)\n"
   ]
  },
  {
   "cell_type": "code",
   "execution_count": 10,
   "id": "9a584d31-57bb-4161-93a6-f3425b8aa55d",
   "metadata": {},
   "outputs": [],
   "source": [
    "X_UNSW = np.concatenate((x_UNSW1, x_UNSW2, x_UNSW3, x_UNSW4, x_UNSW5), axis=0)\n",
    "y_UNSW = np.concatenate((y_UNSW1, y_UNSW2, y_UNSW3, y_UNSW4, y_UNSW5), axis=0)"
   ]
  },
  {
   "cell_type": "code",
   "execution_count": 11,
   "id": "a485d3e4-4288-4dbb-b96c-cf268b3f8891",
   "metadata": {},
   "outputs": [],
   "source": [
    "X_UNSW_pca = pca.fit_transform(X_UNSW)\n",
    "y_UNSW = label_encoder.transform(y_UNSW)"
   ]
  },
  {
   "cell_type": "code",
   "execution_count": 12,
   "id": "1925e2cb-2879-4c99-bd26-14bc56e975ab",
   "metadata": {},
   "outputs": [],
   "source": [
    "np.save('/home/jovyan/Automated_Selection/Input_Data/x_UNSW.npy', X_UNSW_pca)\n",
    "np.save('/home/jovyan/Automated_Selection/Input_Data/y_UNSW.npy', y_UNSW)"
   ]
  },
  {
   "cell_type": "code",
   "execution_count": 13,
   "id": "dca42821-b090-48ec-8b73-0bdcf5920fda",
   "metadata": {},
   "outputs": [
    {
     "data": {
      "text/plain": [
       "(569855, 10)"
      ]
     },
     "execution_count": 13,
     "metadata": {},
     "output_type": "execute_result"
    }
   ],
   "source": [
    "X_UNSW_pca.shape"
   ]
  },
  {
   "cell_type": "code",
   "execution_count": 14,
   "id": "074b2737-63c6-4042-b7f8-f37cd6ced0cf",
   "metadata": {},
   "outputs": [
    {
     "data": {
      "text/plain": [
       "(569855,)"
      ]
     },
     "execution_count": 14,
     "metadata": {},
     "output_type": "execute_result"
    }
   ],
   "source": [
    "y_UNSW.shape"
   ]
  },
  {
   "cell_type": "code",
   "execution_count": 15,
   "id": "db2e5f64-d44a-43fd-923b-61a4cb265c86",
   "metadata": {},
   "outputs": [
    {
     "name": "stdout",
     "output_type": "stream",
     "text": [
      "defense '1' encode 0\n",
      "defense '2' encode 1\n",
      "defense '3' encode 2\n",
      "defense '5' encode 3\n",
      "defense '6' encode 4\n",
      "defense '7' encode 5\n"
     ]
    }
   ],
   "source": [
    "for index, class_label in enumerate(label_encoder.classes_):\n",
    "    print(f\"defense '{class_label}' encode {index}\")"
   ]
  },
  {
   "cell_type": "code",
   "execution_count": null,
   "id": "e8e58e97-aa4a-4a4b-b3ef-999576f72292",
   "metadata": {},
   "outputs": [],
   "source": []
  }
 ],
 "metadata": {
  "kernelspec": {
   "display_name": "Python 3 (ipykernel)",
   "language": "python",
   "name": "python3"
  },
  "language_info": {
   "codemirror_mode": {
    "name": "ipython",
    "version": 3
   },
   "file_extension": ".py",
   "mimetype": "text/x-python",
   "name": "python",
   "nbconvert_exporter": "python",
   "pygments_lexer": "ipython3",
   "version": "3.11.9"
  }
 },
 "nbformat": 4,
 "nbformat_minor": 5
}
