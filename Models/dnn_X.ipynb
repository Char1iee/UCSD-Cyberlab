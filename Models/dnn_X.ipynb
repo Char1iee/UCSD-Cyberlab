{
 "cells": [
  {
   "cell_type": "code",
   "execution_count": 19,
   "id": "f31954fa-fe50-444a-839d-d2c83ebd9a26",
   "metadata": {},
   "outputs": [],
   "source": [
    "import numpy as np\n",
    "\n",
    "from sklearn.metrics import accuracy_score, precision_recall_fscore_support, roc_auc_score, confusion_matrix\n",
    "from sklearn.preprocessing import label_binarize\n",
    "\n",
    "import torch\n",
    "import torch.nn as nn\n",
    "import torch.nn.functional as F\n",
    "import torch.optim as optim\n",
    "from torch.utils.data import DataLoader, TensorDataset"
   ]
  },
  {
   "cell_type": "code",
   "execution_count": 20,
   "id": "788429b6-bf70-436f-b9de-8a966a28b078",
   "metadata": {},
   "outputs": [],
   "source": [
    "def calculate_performance_metrics(X_test, y_true, model):\n",
    "    model.eval()\n",
    "    device = torch.device('cuda' if torch.cuda.is_available() else 'cpu')\n",
    "    model.to(device)\n",
    "    \n",
    "    all_preds = []\n",
    "    all_labels = []\n",
    "    probabilities = []\n",
    "\n",
    "    num_classes = len(np.unique(y_true))\n",
    "    \n",
    "    X_test_tensor = torch.tensor(X_test, dtype=torch.float32).to(device)\n",
    "    y_test_tensor = torch.tensor(y_test, dtype=torch.long).to(device)\n",
    "    test_dataset = TensorDataset(X_test_tensor, y_test_tensor)\n",
    "    test_loader = DataLoader(dataset=test_dataset)\n",
    "\n",
    "    with torch.no_grad():\n",
    "        \n",
    "        for inputs, labels in test_loader:\n",
    "            inputs, labels = inputs.to(device), labels.to(device)\n",
    "            outputs = model(inputs)\n",
    "            preds = torch.argmax(outputs, dim=1)\n",
    "            all_preds.extend(preds.cpu().numpy())\n",
    "            all_labels.extend(labels.cpu().numpy())\n",
    "            probabilities.extend(torch.nn.functional.softmax(outputs, dim=1).cpu().numpy())\n",
    "        \n",
    "        all_preds = np.array(all_preds)\n",
    "        all_labels = np.array(all_labels)\n",
    "        probabilities = np.array(probabilities)\n",
    "        \n",
    "        accuracy = accuracy_score(all_labels, all_preds)\n",
    "\n",
    "        precision_macro, recall_macro, f1_macro, _ = precision_recall_fscore_support(all_labels, all_preds, average='macro')\n",
    "        precision_weighted, recall_weighted, f1_weighted, _ = precision_recall_fscore_support(all_labels, all_preds, average='weighted')\n",
    "    \n",
    "        macro_auc = roc_auc_score(label_binarize(all_labels, classes=range(num_classes)), probabilities, average='macro', multi_class='ovr')\n",
    "        weighted_auc = roc_auc_score(label_binarize(all_labels, classes=range(num_classes)), probabilities, average='weighted', multi_class='ovr')\n",
    "\n",
    "        cm = confusion_matrix(all_labels, all_preds)\n",
    "\n",
    "        def calculate_class_metrics_macro(cm, class_index):\n",
    "            TP = cm[class_index, class_index]\n",
    "            FP = cm[:, class_index].sum() - TP\n",
    "            FN = cm[class_index, :].sum() - TP\n",
    "            TN = cm.sum() - (TP + FP + FN)\n",
    "            \n",
    "            TPR = TP / (TP + FN) if (TP + FN) != 0 else 0  \n",
    "            TNR = TN / (TN + FP) if (TN + FP) != 0 else 0  \n",
    "            FPR = FP / (FP + TN) if (FP + TN) != 0 else 0  \n",
    "            FNR = FN / (FN + TP) if (FN + TP) != 0 else 0  \n",
    "            \n",
    "            return TPR, TNR, FPR, FNR\n",
    "            \n",
    "        metrics = np.array([calculate_class_metrics_macro(cm, i) for i in range(num_classes)])\n",
    "        TPR_macro, TNR_macro, FPR_macro, FNR_macro = np.mean(metrics, axis=0)\n",
    "\n",
    "        print(f\"Accuracy: {accuracy}\")\n",
    "        \n",
    "        print(\"\\nmacro\")\n",
    "        print(f\"Precision: {precision_macro}\\nRecall: {recall_macro}\\nF1 Score: {f1_macro}\\nAUC: {macro_auc}\")\n",
    "    \n",
    "        print(\"\\nweighted\")\n",
    "        print(f\"Precision: {precision_weighted}\\nRecall: {recall_weighted}\\nF1 Score: {f1_weighted}\\nAUC: {weighted_auc}\")\n",
    "        print()\n",
    "        \n",
    "        print(f\"Mean FNR: {FNR_macro}\\nMean TNR: {TNR_macro}\\nMean FPR: {FPR_macro}\\nMean TPR: {TPR_macro}\")\n"
   ]
  },
  {
   "cell_type": "code",
   "execution_count": 15,
   "id": "ba12eda5-1986-49cf-bdd8-2158a9e97d44",
   "metadata": {},
   "outputs": [],
   "source": [
    "x_train = np.load(\"/home/jovyan/X-IIoT/dataset/preprocessed/x_train.npy\")\n",
    "y_train = np.load(\"/home/jovyan/X-IIoT/dataset/preprocessed/y_train.npy\")\n",
    "x_val = np.load(\"/home/jovyan/X-IIoT/dataset/preprocessed/x_val.npy\")\n",
    "y_val = np.load(\"/home/jovyan/X-IIoT/dataset/preprocessed/y_val.npy\")\n",
    "x_test = np.load(\"/home/jovyan/X-IIoT/dataset/preprocessed/x_test.npy\")\n",
    "y_test = np.load(\"/home/jovyan/X-IIoT/dataset/preprocessed/y_test.npy\")"
   ]
  },
  {
   "cell_type": "code",
   "execution_count": 3,
   "id": "c5b0b8a8-9cc1-46c6-978e-a9b3e7d8b57a",
   "metadata": {},
   "outputs": [
    {
     "name": "stdout",
     "output_type": "stream",
     "text": [
      "Using cuda device\n"
     ]
    }
   ],
   "source": [
    "device = torch.device(\"cuda\" if torch.cuda.is_available() else \"cpu\")\n",
    "print(f\"Using {device} device\")"
   ]
  },
  {
   "cell_type": "code",
   "execution_count": 4,
   "id": "a367c986-b049-44c0-afcf-a7649e82cec5",
   "metadata": {},
   "outputs": [],
   "source": [
    "input_shape = x_train.shape[1]\n",
    "output_shape = len(np.unique(y_train))"
   ]
  },
  {
   "cell_type": "code",
   "execution_count": 17,
   "id": "1be14ab9-3b6b-4a1a-8f80-a26d92b9a496",
   "metadata": {},
   "outputs": [],
   "source": [
    "x_train_tensor = torch.tensor(x_train, dtype=torch.float32).to(device)\n",
    "y_train_tensor = torch.tensor(y_train, dtype=torch.long).to(device)\n",
    "\n",
    "x_val_tensor = torch.tensor(x_val, dtype=torch.float32).to(device)\n",
    "y_val_tensor = torch.tensor(y_val, dtype=torch.long).to(device)\n",
    "\n",
    "train_dataset = TensorDataset(x_train_tensor, y_train_tensor)\n",
    "train_loader = DataLoader(train_dataset, batch_size=100, shuffle=True)\n",
    "\n",
    "val_dataset = TensorDataset(x_val_tensor, y_val_tensor)\n",
    "val_loader = DataLoader(val_dataset, batch_size=100, shuffle=True)"
   ]
  },
  {
   "cell_type": "code",
   "execution_count": 8,
   "id": "d90f28f3-fdb5-4ba3-a7a7-57e79f3a7434",
   "metadata": {},
   "outputs": [],
   "source": [
    "class MyModel(nn.Module):\n",
    "    def __init__(self, input_size, output_size):\n",
    "        super(MyModel, self).__init__()\n",
    "        self.fc1 = nn.Linear(input_size, 190)\n",
    "        self.fc2 = nn.Linear(190, 190)\n",
    "        self.fc3 = nn.Linear(190, 190)\n",
    "        self.fc4 = nn.Linear(190, output_size)\n",
    "        \n",
    "    def forward(self, x):\n",
    "        x = F.relu(self.fc1(x))\n",
    "        x = F.relu(self.fc2(x))\n",
    "        x = F.relu(self.fc3(x))\n",
    "        x = self.fc4(x)\n",
    "        return x\n",
    "\n",
    "model = MyModel(input_size=input_shape, output_size=output_shape).to(device)\n",
    "\n",
    "# Compile model\n",
    "optimizer = optim.Adam(model.parameters(), lr=0.001)\n",
    "loss_function = nn.CrossEntropyLoss() # This includes softmax\n",
    "\n",
    "# Early stopping variables\n",
    "min_delta = 0.001\n",
    "patience = 5\n",
    "patience_counter = 0\n",
    "best_loss = float('inf')"
   ]
  },
  {
   "cell_type": "code",
   "execution_count": 9,
   "id": "399aec70-75df-4869-9405-a134c9f3674a",
   "metadata": {},
   "outputs": [
    {
     "name": "stdout",
     "output_type": "stream",
     "text": [
      "Epoch 1, Training Loss: 0.1840, Validation Loss: 0.0986, Validation Accuracy: 0.9659\n",
      "Epoch 2, Training Loss: 0.0960, Validation Loss: 0.0803, Validation Accuracy: 0.9712\n",
      "Epoch 3, Training Loss: 0.0795, Validation Loss: 0.0703, Validation Accuracy: 0.9773\n",
      "Epoch 4, Training Loss: 0.0710, Validation Loss: 0.0710, Validation Accuracy: 0.9743\n",
      "Epoch 5, Training Loss: 0.0663, Validation Loss: 0.0701, Validation Accuracy: 0.9765\n",
      "Epoch 6, Training Loss: 0.0625, Validation Loss: 0.0699, Validation Accuracy: 0.9759\n",
      "Epoch 7, Training Loss: 0.0600, Validation Loss: 0.0598, Validation Accuracy: 0.9789\n",
      "Epoch 8, Training Loss: 0.0582, Validation Loss: 0.0548, Validation Accuracy: 0.9809\n",
      "Epoch 9, Training Loss: 0.0559, Validation Loss: 0.0566, Validation Accuracy: 0.9795\n",
      "Epoch 10, Training Loss: 0.0550, Validation Loss: 0.0537, Validation Accuracy: 0.9803\n",
      "Epoch 11, Training Loss: 0.0534, Validation Loss: 0.0514, Validation Accuracy: 0.9818\n",
      "Epoch 12, Training Loss: 0.0526, Validation Loss: 0.0552, Validation Accuracy: 0.9814\n",
      "Epoch 13, Training Loss: 0.0521, Validation Loss: 0.0530, Validation Accuracy: 0.9815\n",
      "Epoch 14, Training Loss: 0.0513, Validation Loss: 0.0500, Validation Accuracy: 0.9823\n",
      "Epoch 15, Training Loss: 0.0504, Validation Loss: 0.0499, Validation Accuracy: 0.9826\n",
      "Epoch 16, Training Loss: 0.0491, Validation Loss: 0.0499, Validation Accuracy: 0.9820\n",
      "Epoch 17, Training Loss: 0.0491, Validation Loss: 0.0512, Validation Accuracy: 0.9823\n",
      "Epoch 18, Training Loss: 0.0482, Validation Loss: 0.0622, Validation Accuracy: 0.9779\n",
      "Epoch 19, Training Loss: 0.0473, Validation Loss: 0.0527, Validation Accuracy: 0.9829\n",
      "Early stopping triggered\n"
     ]
    }
   ],
   "source": [
    "for epoch in range(50):\n",
    "    model.train()\n",
    "    train_loss = 0.0\n",
    "    for inputs, labels in train_loader:\n",
    "        inputs, labels = inputs.to(device), labels.to(device)\n",
    "        optimizer.zero_grad()\n",
    "        outputs = model(inputs)\n",
    "        loss = loss_function(outputs, labels)\n",
    "        loss.backward()\n",
    "        optimizer.step()\n",
    "        train_loss += loss.item()\n",
    "\n",
    "    avg_train_loss = train_loss / len(train_loader)\n",
    "\n",
    "    model.eval()\n",
    "    val_train_loss = 0.0\n",
    "    correct_predictions = 0\n",
    "    with torch.no_grad():\n",
    "        for inputs, labels in val_loader:\n",
    "            inputs, labels = inputs.to(device), labels.to(device)\n",
    "            outputs = model(inputs)\n",
    "            loss = loss_function(outputs, labels)\n",
    "            val_train_loss += loss.item()\n",
    "            _, predicted = torch.max(outputs.data, 1)\n",
    "            correct_predictions += (predicted == labels).sum().item()\n",
    "\n",
    "    avg_val_loss = val_train_loss / len(val_loader)\n",
    "    val_accuracy = correct_predictions / len(val_dataset)\n",
    "\n",
    "    print(f\"Epoch {epoch+1}, Training Loss: {avg_train_loss:.4f}, Validation Loss: {avg_val_loss:.4f}, Validation Accuracy: {val_accuracy:.4f}\")\n",
    "\n",
    "    # Early stopping check using min_delta\n",
    "    if best_loss - avg_val_loss > min_delta:\n",
    "        best_loss = avg_val_loss\n",
    "        patience_counter = 0\n",
    "    else:\n",
    "        patience_counter += 1\n",
    "\n",
    "    if patience_counter >= patience:\n",
    "        print(\"Early stopping triggered\")\n",
    "        break"
   ]
  },
  {
   "cell_type": "code",
   "execution_count": 21,
   "id": "ad0cc8ff-ade2-4838-9624-500a4e741eb3",
   "metadata": {},
   "outputs": [
    {
     "name": "stdout",
     "output_type": "stream",
     "text": [
      "Accuracy: 0.9824003422948014\n",
      "\n",
      "macro\n",
      "Precision: 0.9593649907054885\n",
      "Recall: 0.8853677625408182\n",
      "F1 Score: 0.9090682535088785\n",
      "AUC: 0.9990992008608196\n",
      "\n",
      "weighted\n",
      "Precision: 0.9818813774373656\n",
      "Recall: 0.9824003422948014\n",
      "F1 Score: 0.9816685839523295\n",
      "AUC: 0.998684100092309\n",
      "\n",
      "Mean FNR: 0.11463223745918166\n",
      "Mean TNR: 0.9982247510865335\n",
      "Mean FPR: 0.0017752489134663107\n",
      "Mean TPR: 0.8853677625408182\n"
     ]
    }
   ],
   "source": [
    "calculate_performance_metrics(x_test, y_test, model)"
   ]
  },
  {
   "cell_type": "code",
   "execution_count": 22,
   "id": "ba9a6afa-841b-4cce-b048-984869d43150",
   "metadata": {},
   "outputs": [],
   "source": [
    "torch.save(model.state_dict(), \"/home/jovyan/X-IIoT/model/dnn_pytorch.pt\")"
   ]
  },
  {
   "cell_type": "code",
   "execution_count": null,
   "id": "8e8ab28f-4e63-4aed-96ad-9527900887ae",
   "metadata": {},
   "outputs": [],
   "source": []
  }
 ],
 "metadata": {
  "kernelspec": {
   "display_name": "Python 3 (ipykernel)",
   "language": "python",
   "name": "python3"
  },
  "language_info": {
   "codemirror_mode": {
    "name": "ipython",
    "version": 3
   },
   "file_extension": ".py",
   "mimetype": "text/x-python",
   "name": "python",
   "nbconvert_exporter": "python",
   "pygments_lexer": "ipython3",
   "version": "3.11.5"
  }
 },
 "nbformat": 4,
 "nbformat_minor": 5
}
