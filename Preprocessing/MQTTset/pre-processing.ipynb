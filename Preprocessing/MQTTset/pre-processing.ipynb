{
 "cells": [
  {
   "cell_type": "code",
   "execution_count": 1,
   "metadata": {
    "scrolled": true
   },
   "outputs": [],
   "source": [
    "# !pip install pandas\n",
    "# !pip install pyarrow\n",
    "# !pip install numpy\n",
    "# !pip install seaborn"
   ]
  },
  {
   "cell_type": "code",
   "execution_count": 2,
   "metadata": {
    "id": "yBcwWIT3xfs1"
   },
   "outputs": [],
   "source": [
    "import pandas as pd\n",
    "import numpy as np\n",
    "import seaborn as sns\n",
    "from sklearn.preprocessing import LabelEncoder, scale\n",
    "from sklearn import preprocessing\n",
    "from sklearn.model_selection import train_test_split\n",
    "from sklearn.manifold import TSNE\n",
    "from time import time\n",
    "import random\n",
    "import warnings\n",
    "warnings.filterwarnings(\"ignore\")"
   ]
  },
  {
   "cell_type": "code",
   "execution_count": 3,
   "metadata": {
    "executionInfo": {
     "elapsed": 2097,
     "status": "ok",
     "timestamp": 1705034129838,
     "user": {
      "displayName": "Kris Chen",
      "userId": "14019901183015848448"
     },
     "user_tz": 480
    },
    "id": "FkEjK12Fw812"
   },
   "outputs": [],
   "source": [
    "dftrain = pd.read_csv(\"train70.csv\") \n",
    "dftest = pd.read_csv(\"test30.csv\")\n",
    "# simplefilter(action='ignore', category=FutureWarning)\n",
    "\n",
    "#train\n",
    "#print(dftrain.loc[dftrain['target'] == 'legitimate'])\n",
    "class_names = dftrain.target.unique()\n",
    "dftrain=dftrain.astype('category')\n",
    "cat_columns = dftrain.select_dtypes(['category']).columns\n",
    "dftrain[cat_columns] = dftrain[cat_columns].apply(lambda x: x.cat.codes)\n",
    "#print(dftrain.loc[125, 'target'])\n",
    "x_columns = dftrain.columns.drop('target')\n",
    "X = dftrain[x_columns].values\n",
    "y = dftrain['target']\n",
    "\n",
    "x_train, x_val, y_train, y_val = train_test_split(X, y, test_size=0.15, random_state=42, stratify=y)\n",
    "\n",
    "\n",
    "\n",
    "#test\n",
    "class_names = dftest.target.unique()\n",
    "dftest=dftest.astype('category')\n",
    "cat_columns = dftest.select_dtypes(['category']).columns\n",
    "dftest[cat_columns] = dftest[cat_columns].apply(lambda x: x.cat.codes)\n",
    "x_columns = dftest.columns.drop('target')\n",
    "x_test = dftest[x_columns].values\n",
    "y_test = dftest['target']"
   ]
  },
  {
   "cell_type": "code",
   "execution_count": 4,
   "metadata": {},
   "outputs": [
    {
     "name": "stdout",
     "output_type": "stream",
     "text": [
      "done\n"
     ]
    }
   ],
   "source": [
    "print(\"done\")"
   ]
  },
  {
   "cell_type": "code",
   "execution_count": 5,
   "metadata": {},
   "outputs": [],
   "source": [
    "np.save('/home/jovyan/MQTTset/x_train.npy', x_train)\n",
    "np.save('/home/jovyan/MQTTset/y_train.npy', y_train)\n",
    "np.save('/home/jovyan/MQTTset/x_val.npy', x_val)\n",
    "np.save('/home/jovyan/MQTTset/y_val.npy', y_val)\n",
    "np.save('/home/jovyan/MQTTset/x_test.npy', x_test)\n",
    "np.save('/home/jovyan/MQTTset/y_test.npy', y_test)\n"
   ]
  }
 ],
 "metadata": {
  "colab": {
   "authorship_tag": "ABX9TyNNv8T4vA6/2+/ypCce0gGR",
   "mount_file_id": "1fpPzLxt4vkgz2Q8y97GQC034tGPU6BAG",
   "provenance": []
  },
  "kernelspec": {
   "display_name": "Python 3 (ipykernel)",
   "language": "python",
   "name": "python3"
  },
  "language_info": {
   "codemirror_mode": {
    "name": "ipython",
    "version": 3
   },
   "file_extension": ".py",
   "mimetype": "text/x-python",
   "name": "python",
   "nbconvert_exporter": "python",
   "pygments_lexer": "ipython3",
   "version": "3.11.5"
  }
 },
 "nbformat": 4,
 "nbformat_minor": 4
}
