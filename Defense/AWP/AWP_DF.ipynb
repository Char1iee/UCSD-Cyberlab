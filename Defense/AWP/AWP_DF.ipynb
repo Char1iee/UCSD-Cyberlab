{
 "cells": [
  {
   "cell_type": "code",
   "execution_count": 1,
   "id": "fdc49b0e-8838-4c2a-b4f3-ec519c98d9c2",
   "metadata": {},
   "outputs": [
    {
     "name": "stderr",
     "output_type": "stream",
     "text": [
      "/opt/conda/lib/python3.11/site-packages/tqdm/auto.py:21: TqdmWarning: IProgress not found. Please update jupyter and ipywidgets. See https://ipywidgets.readthedocs.io/en/stable/user_install.html\n",
      "  from .autonotebook import tqdm as notebook_tqdm\n"
     ]
    }
   ],
   "source": [
    "import numpy as np\n",
    "import pandas as pd\n",
    "\n",
    "from sklearn.metrics import accuracy_score, precision_recall_fscore_support, roc_auc_score, confusion_matrix\n",
    "from sklearn.preprocessing import label_binarize\n",
    "\n",
    "import torch\n",
    "import torch.nn as nn\n",
    "import torch.optim as optim\n",
    "import torch.nn.functional as F\n",
    "from torch.utils.data import DataLoader, TensorDataset\n",
    "\n",
    "from art.attacks.evasion import SimBA, SpatialTransformation, DeepFool, BasicIterativeMethod, FastGradientMethod, ProjectedGradientDescent\n",
    "from art.estimators.classification import PyTorchClassifier\n",
    "\n",
    "from art.defences.trainer import AdversarialTrainerAWPPyTorch\n",
    "\n",
    "import time"
   ]
  },
  {
   "cell_type": "code",
   "execution_count": 1,
   "id": "452730d1-473b-4ed3-a2c6-824fa3256d81",
   "metadata": {},
   "outputs": [
    {
     "ename": "NameError",
     "evalue": "name 'pd' is not defined",
     "output_type": "error",
     "traceback": [
      "\u001b[0;31m---------------------------------------------------------------------------\u001b[0m",
      "\u001b[0;31mNameError\u001b[0m                                 Traceback (most recent call last)",
      "Cell \u001b[0;32mIn[1], line 19\u001b[0m\n\u001b[1;32m      1\u001b[0m head \u001b[38;5;241m=\u001b[39m {\n\u001b[1;32m      2\u001b[0m             \u001b[38;5;124m\"\u001b[39m\u001b[38;5;124mmodel\u001b[39m\u001b[38;5;124m\"\u001b[39m : \u001b[38;5;124m'\u001b[39m\u001b[38;5;124m'\u001b[39m,\n\u001b[1;32m      3\u001b[0m             \u001b[38;5;124m\"\u001b[39m\u001b[38;5;124mattack_model\u001b[39m\u001b[38;5;124m\"\u001b[39m: \u001b[38;5;124m'\u001b[39m\u001b[38;5;124m'\u001b[39m,\n\u001b[0;32m   (...)\u001b[0m\n\u001b[1;32m     17\u001b[0m             \u001b[38;5;66;03m# 'FPR': '',\u001b[39;00m\n\u001b[1;32m     18\u001b[0m         }\n\u001b[0;32m---> 19\u001b[0m head \u001b[38;5;241m=\u001b[39m \u001b[43mpd\u001b[49m\u001b[38;5;241m.\u001b[39mDataFrame([head])\n\u001b[1;32m     20\u001b[0m head\u001b[38;5;241m.\u001b[39mto_csv(\u001b[38;5;124m\"\u001b[39m\u001b[38;5;124m/home/jovyan/Defense/AWP/AWP_DF.csv\u001b[39m\u001b[38;5;124m\"\u001b[39m, mode\u001b[38;5;241m=\u001b[39m\u001b[38;5;124m'\u001b[39m\u001b[38;5;124ma\u001b[39m\u001b[38;5;124m'\u001b[39m, index\u001b[38;5;241m=\u001b[39m\u001b[38;5;28;01mFalse\u001b[39;00m)\n",
      "\u001b[0;31mNameError\u001b[0m: name 'pd' is not defined"
     ]
    }
   ],
   "source": [
    "head = {\n",
    "            \"model\" : '',\n",
    "            \"attack_model\": '',\n",
    "            'epsilon': '',\n",
    "            'Accuracy': '',\n",
    "            'Macro Precision': '',\n",
    "            'Weighted Precision': '',\n",
    "            'Macro Recall': '',\n",
    "            'Weighted Recall': '',\n",
    "            'Macro F1': '',\n",
    "            'Weighted F1': '',\n",
    "            # 'Macro AUC': '',\n",
    "            # 'Weighted AUC': '',\n",
    "            # 'TPR': '',\n",
    "            # 'FNR': '',\n",
    "            # 'TNR': '',\n",
    "            # 'FPR': '',\n",
    "        }\n",
    "head = pd.DataFrame([head])\n",
    "head.to_csv(\"/home/jovyan/Defense/AWP/AWP_DF.csv\", mode='a', index=False)"
   ]
  },
  {
   "cell_type": "code",
   "execution_count": 3,
   "id": "16d8e2c2-2a14-4dde-93f0-14d395f137b5",
   "metadata": {},
   "outputs": [],
   "source": [
    "from sklearn.metrics import confusion_matrix, precision_score, accuracy_score, f1_score,recall_score, roc_auc_score\n",
    "import pandas as pd\n",
    "import matplotlib.pyplot as plt\n",
    "from sklearn.metrics import confusion_matrix, ConfusionMatrixDisplay\n",
    "\n",
    "def calculate_performance_metrics(x_test_adv, y_test, classifier, model_name, attack_name, epsilon):\n",
    "\n",
    "    start_time = time.time()\n",
    "\n",
    "    preds = np.argmax(classifier.predict(x_test_adv), axis=1)\n",
    "    # preds = classifier.predict(x_test_adv)\n",
    "\n",
    "    y_hat = preds\n",
    "    # y_test_arg = np.argmax(y_test, axis=-1)\n",
    "    y_test_arg = y_test\n",
    "\n",
    "\n",
    "    accuracy = accuracy_score(y_test_arg, y_hat)\n",
    "    precision_macro = precision_score(y_test_arg, y_hat, average='macro')\n",
    "    # precision_micro = precision_score(y_test_arg, y_hat, average='micro')\n",
    "    precision_weighted = precision_score(y_test_arg, y_hat, average='weighted')\n",
    "    f1_macro = f1_score(y_test_arg, y_hat, average='macro')\n",
    "    # f1_micro = f1_score(y_test_arg, y_hat, average='micro')\n",
    "    f1_weighted = f1_score(y_test_arg, y_hat, average='weighted')\n",
    "    recall_macro = recall_score(y_test_arg, y_hat, average='macro')\n",
    "    # recall_micro = recall_score(y_test_arg, y_hat, average='micro')\n",
    "    recall_weighted = recall_score(y_test_arg, y_hat, average='weighted')\n",
    "\n",
    "\n",
    "    print(f\"epsilon = {epsilon}\")\n",
    "\n",
    "    print(f\"Accuracy: {accuracy}\")\n",
    "    # print(f\"Precision(micro,macro,weighted): {precision_micro},{precision_macro},{precision_weighted}\")\n",
    "    # print(f\"F1(micro,macro,weighted: {f1_micro},{f1_macro},{f1_weighted}\")\n",
    "    # print(f\"Recall(micro,macro,weighted: {recall_micro},{recall_macro},{recall_weighted}\")\n",
    "    print(f\"Precision(macro,weighted): {precision_macro},{precision_weighted}\")\n",
    "    print(f\"F1(macro,weighted: {f1_macro},{f1_weighted}\")\n",
    "    print(f\"Recall(macro,weighted: {recall_macro},{recall_weighted}\")\n",
    "\n",
    "\n",
    "    \n",
    "    metrics = {\n",
    "        \"model\" : model_name,\n",
    "        \"attack_model\" : attack_name,\n",
    "        \"epsilon\" : epsilon,\n",
    "        \"Accuracy\": accuracy,\n",
    "        # \"Precision-micro\": precision_micro,\n",
    "        \"Precision-macro\": precision_macro,\n",
    "        \"Precision-weighted\": precision_weighted,\n",
    "        # \"Recall_micro\": recall_micro,\n",
    "        \"Recall_macro\": recall_macro,\n",
    "        \"Recall_weighted\": recall_weighted,\n",
    "        \n",
    "        # \"F1-micro\": f1_micro,\n",
    "        \"F1-macro\": f1_macro,\n",
    "        \"F1-weighted\": f1_weighted,\n",
    "\n",
    "    }\n",
    "    metrics_df = pd.DataFrame([metrics])\n",
    "    metrics_df.to_csv(\"/home/jovyan/Defense/AWP/AWP.csv\", mode='a', index=False, header=False)\n",
    "\n",
    "    end_time = time.time()\n",
    "    elapsed_time = end_time - start_time\n",
    "    print(f\"Time: {elapsed_time:.2f} second\\n\\n\")"
   ]
  },
  {
   "cell_type": "code",
   "execution_count": 4,
   "id": "7b7e28fa-d8bf-43ea-9022-2825067b2132",
   "metadata": {},
   "outputs": [
    {
     "name": "stdout",
     "output_type": "stream",
     "text": [
      "Using cuda device\n"
     ]
    }
   ],
   "source": [
    "device = torch.device(\"cuda\" if torch.cuda.is_available() else \"cpu\")\n",
    "print(f\"Using {device} device\")"
   ]
  },
  {
   "cell_type": "code",
   "execution_count": 5,
   "id": "e4c85229-1dc7-4921-a5a3-5ce8487a11fb",
   "metadata": {},
   "outputs": [],
   "source": [
    "x_test = np.load('/home/jovyan/Wustl_iiot/x_test.npy')\n",
    "x_train = np.load('/home/jovyan/Wustl_iiot/x_train.npy')\n",
    "x_val = np.load('/home/jovyan/Wustl_iiot/x_val.npy')\n",
    "y_test = np.load('/home/jovyan/Wustl_iiot/y_test.npy')\n",
    "y_train = np.load('/home/jovyan/Wustl_iiot/y_train.npy')\n",
    "y_val = np.load('/home/jovyan/Wustl_iiot/y_val.npy')\n",
    "\n",
    "\n",
    "# train_dataset = TensorDataset(x_train_tensor, y_train_tensor)\n",
    "# train_loader = DataLoader(train_dataset, batch_size=100, shuffle=True)\n",
    "\n",
    "# val_dataset = TensorDataset(x_val_tensor, y_val_tensor)\n",
    "# val_loader = DataLoader(val_dataset, batch_size=100, shuffle=True)"
   ]
  },
  {
   "cell_type": "code",
   "execution_count": 6,
   "id": "816993b9-2d83-4217-8804-a68f4aa9992b",
   "metadata": {},
   "outputs": [],
   "source": [
    "input_shape = x_train.shape[1]\n",
    "output_shape = len(np.unique(y_train))"
   ]
  },
  {
   "cell_type": "code",
   "execution_count": 7,
   "id": "b23e7c1b-ba47-4409-9544-5f2f90214545",
   "metadata": {},
   "outputs": [],
   "source": [
    "class DNNModel(nn.Module):\n",
    "    def __init__(self, input_size, output_size):\n",
    "        super(DNNModel, self).__init__()\n",
    "        self.fc1 = nn.Linear(input_size, 50)\n",
    "        self.fc2 = nn.Linear(50, 30)\n",
    "        self.fc3 = nn.Linear(30, 20)\n",
    "        self.fc4 = nn.Linear(20, output_size)\n",
    "\n",
    "    def forward(self, x):\n",
    "        x = F.relu(self.fc1(x))\n",
    "        x = F.relu(self.fc2(x))\n",
    "        x = F.relu(self.fc3(x))\n",
    "        x = self.fc4(x)\n",
    "        return x"
   ]
  },
  {
   "cell_type": "code",
   "execution_count": 8,
   "id": "be599795-b056-4b24-acd2-8edbe7a2c859",
   "metadata": {},
   "outputs": [
    {
     "data": {
      "text/plain": [
       "<All keys matched successfully>"
      ]
     },
     "execution_count": 8,
     "metadata": {},
     "output_type": "execute_result"
    }
   ],
   "source": [
    "model = DNNModel(input_size=input_shape, output_size=output_shape).to(device)\n",
    "model.load_state_dict(torch.load(\"/home/jovyan/Wustl_iiot/transfer_attack/dnn_pytorch.pt\"))"
   ]
  },
  {
   "cell_type": "code",
   "execution_count": 9,
   "id": "e4c38ec7-224b-4f41-b395-35eec4464fc1",
   "metadata": {},
   "outputs": [],
   "source": [
    "x_train = x_train.astype(np.float32)\n",
    "x_test = x_test.astype(np.float32)\n",
    "x_val = x_val.astype(np.float32)"
   ]
  },
  {
   "cell_type": "code",
   "execution_count": 10,
   "id": "4d0f6d43-9ae1-48ef-ac57-cdd68880ed22",
   "metadata": {},
   "outputs": [],
   "source": [
    "criterion = nn.CrossEntropyLoss()\n",
    "optimizer = optim.Adam(model.parameters(), lr=0.001)\n",
    "    \n",
    "classifier = PyTorchClassifier(\n",
    "    model=model,\n",
    "    clip_values=(-5, 5),\n",
    "    loss=criterion,\n",
    "    optimizer=optimizer,\n",
    "    input_shape=(input_shape,),\n",
    "    nb_classes=output_shape,\n",
    "    device_type='gpu'\n",
    ")"
   ]
  },
  {
   "cell_type": "code",
   "execution_count": 11,
   "id": "8c6d4742-62fc-4fcc-b423-fd2b974c4023",
   "metadata": {},
   "outputs": [],
   "source": [
    "from art.attacks.evasion import SimBA, SpatialTransformation, DeepFool, BasicIterativeMethod, FastGradientMethod, ProjectedGradientDescent\n",
    "\n",
    "FGSM = FastGradientMethod(estimator=classifier, eps=0.3)\n",
    "BIM = BasicIterativeMethod(estimator=classifier, eps=0.3, max_iter=3)\n",
    "PGD = ProjectedGradientDescent(estimator=classifier, eps=0.3, max_iter=3)"
   ]
  },
  {
   "cell_type": "code",
   "execution_count": 12,
   "id": "132defe0-b404-4e54-954a-87118f51a031",
   "metadata": {},
   "outputs": [],
   "source": [
    "FGSM_Trainer = AdversarialTrainerAWPPyTorch(classifier, classifier, FGSM, \"TRADES\", 0.1, 6.0, 0)\n",
    "BIM_Trainer = AdversarialTrainerAWPPyTorch(classifier, classifier, BIM, \"TRADES\", 0.1, 6.0, 0)\n",
    "PGD_Trainer = AdversarialTrainerAWPPyTorch(classifier, classifier, PGD, \"TRADES\", 0.1, 6.0, 0)"
   ]
  },
  {
   "cell_type": "code",
   "execution_count": 13,
   "id": "c467b70d-508b-4f6a-bd67-43fe2b4f04ea",
   "metadata": {},
   "outputs": [
    {
     "name": "stderr",
     "output_type": "stream",
     "text": [
      "Adversarial Training AWP with TRADES - Epochs: 100%|██████████| 20/20 [59:04<00:00, 177.21s/it]"
     ]
    },
    {
     "name": "stdout",
     "output_type": "stream",
     "text": [
      "Time: 3544.17 second\n",
      "\n",
      "\n"
     ]
    },
    {
     "name": "stderr",
     "output_type": "stream",
     "text": [
      "\n"
     ]
    }
   ],
   "source": [
    "start_time = time.time()\n",
    "FGSM_Trainer.fit(x_train, y_train, epochs=10, batch_size=128,\n",
    "                     validation_data=(x_val, y_val))\n",
    "end_time = time.time()\n",
    "elapsed_time = end_time - start_time\n",
    "print(f\"Time: {elapsed_time:.2f} second\\n\\n\")"
   ]
  },
  {
   "cell_type": "code",
   "execution_count": 14,
   "id": "eb567019-e97f-49ed-9401-00dbc9223e1f",
   "metadata": {},
   "outputs": [],
   "source": [
    "# start_time = time.time()\n",
    "# BIM_Trainer.fit(x_train, y_train, epochs=10, batch_size=128,\n",
    "#                      validation_data=(x_val, y_val))\n",
    "# end_time = time.time()\n",
    "# elapsed_time = end_time - start_time\n",
    "# print(f\"Time: {elapsed_time:.2f} second\\n\\n\")"
   ]
  },
  {
   "cell_type": "code",
   "execution_count": 15,
   "id": "9dac5c8b-46c9-4c25-8977-029a4e061594",
   "metadata": {
    "scrolled": true
   },
   "outputs": [],
   "source": [
    "# start_time = time.time()\n",
    "# PGD_Trainer.fit(x_train, y_train, epochs=10, batch_size=128,\n",
    "#                      validation_data=(x_val, y_val))\n",
    "# end_time = time.time()\n",
    "# elapsed_time = end_time - start_time\n",
    "# print(f\"Time: {elapsed_time:.2f} second\\n\\n\")"
   ]
  },
  {
   "cell_type": "code",
   "execution_count": 16,
   "id": "ea5567e3-cdc2-4c06-88e9-92004ca18eb0",
   "metadata": {},
   "outputs": [
    {
     "name": "stdout",
     "output_type": "stream",
     "text": [
      "epsilon = 0\n",
      "Accuracy: 0.9982953093783115\n",
      "Precision(macro,weighted): 0.5947964623438752,0.9979435892168569\n",
      "F1(macro,weighted: 0.5763951699364166,0.9980405778895473\n",
      "Recall(macro,weighted: 0.5620145631067961,0.9982953093783115\n",
      "Time: 2.71 second\n",
      "\n",
      "\n"
     ]
    },
    {
     "name": "stderr",
     "output_type": "stream",
     "text": [
      "/home/jovyan/.local/lib/python3.11/site-packages/sklearn/metrics/_classification.py:1334: UndefinedMetricWarning: Precision is ill-defined and being set to 0.0 in labels with no predicted samples. Use `zero_division` parameter to control this behavior.\n",
      "  _warn_prf(average, modifier, msg_start, len(result))\n",
      "/home/jovyan/.local/lib/python3.11/site-packages/sklearn/metrics/_classification.py:1334: UndefinedMetricWarning: Precision is ill-defined and being set to 0.0 in labels with no predicted samples. Use `zero_division` parameter to control this behavior.\n",
      "  _warn_prf(average, modifier, msg_start, len(result))\n"
     ]
    }
   ],
   "source": [
    "# calculate_performance_metrics(x_test, y_test, BIM_Trainer, 'BIM_Trainer', 'baseline', '0')\n",
    "calculate_performance_metrics(x_test, y_test, FGSM_Trainer, 'FGSM_Trainer', 'baseline', '0')\n",
    "# calculate_performance_metrics(x_test, y_test, PGD_Trainer, 'PGD_Trainer', 'baseline', '0')"
   ]
  },
  {
   "cell_type": "code",
   "execution_count": 3,
   "id": "9123acf2-1799-48c0-ad16-065d17d6d213",
   "metadata": {},
   "outputs": [
    {
     "ename": "NameError",
     "evalue": "name 'np' is not defined",
     "output_type": "error",
     "traceback": [
      "\u001b[0;31m---------------------------------------------------------------------------\u001b[0m",
      "\u001b[0;31mNameError\u001b[0m                                 Traceback (most recent call last)",
      "Cell \u001b[0;32mIn[3], line 12\u001b[0m\n\u001b[1;32m     10\u001b[0m \u001b[38;5;28;01mfor\u001b[39;00m epsilon \u001b[38;5;129;01min\u001b[39;00m epsilon_values:\n\u001b[1;32m     11\u001b[0m     filename \u001b[38;5;241m=\u001b[39m \u001b[38;5;124mf\u001b[39m\u001b[38;5;124m'\u001b[39m\u001b[38;5;124m/home/jovyan/Wustl_iiot/transfer_attack/x_test_adv_FGSM_eps_\u001b[39m\u001b[38;5;132;01m{\u001b[39;00mepsilon\u001b[38;5;132;01m}\u001b[39;00m\u001b[38;5;124m.npy\u001b[39m\u001b[38;5;124m'\u001b[39m\n\u001b[0;32m---> 12\u001b[0m     x_test_adv \u001b[38;5;241m=\u001b[39m \u001b[43mnp\u001b[49m\u001b[38;5;241m.\u001b[39mload(filename)\n\u001b[1;32m     14\u001b[0m     calculate_performance_metrics(x_test_adv, y_test, FGSM_Trainer, \u001b[38;5;124m'\u001b[39m\u001b[38;5;124mFGSM_Trainer\u001b[39m\u001b[38;5;124m'\u001b[39m, \u001b[38;5;124m'\u001b[39m\u001b[38;5;124mFGSM\u001b[39m\u001b[38;5;124m'\u001b[39m, epsilon)\n\u001b[1;32m     16\u001b[0m \u001b[38;5;66;03m# for epsilon in epsilon_values:\u001b[39;00m\n\u001b[1;32m     17\u001b[0m \u001b[38;5;66;03m#     filename = f'/home/jovyan/Wustl_iiot/transfer_attack/x_test_adv_PGD_eps_{epsilon}.npy'\u001b[39;00m\n\u001b[1;32m     18\u001b[0m \u001b[38;5;66;03m#     x_test_adv = np.load(filename)\u001b[39;00m\n\u001b[1;32m     19\u001b[0m \n\u001b[1;32m     20\u001b[0m \u001b[38;5;66;03m#     calculate_performance_metrics(x_test_adv, y_test, PGD_Trainer, 'PGD_Trainer', 'PGD', epsilon)\u001b[39;00m\n",
      "\u001b[0;31mNameError\u001b[0m: name 'np' is not defined"
     ]
    }
   ],
   "source": [
    "epsilon_values = [0.01, 0.1, 0.2, 0.3]\n",
    "\n",
    "# Iterate over epsilon values\n",
    "# for epsilon in epsilon_values:\n",
    "#     filename = f'/home/jovyan/Wustl_iiot/transfer_attack/x_test_adv_BIM_eps_{epsilon}.npy'\n",
    "#     x_test_adv = np.load(filename)\n",
    "\n",
    "#     calculate_performance_metrics(x_test_adv, y_test, BIM_Trainer, 'BIM_Trainer', 'BIM', epsilon)\n",
    "\n",
    "for epsilon in epsilon_values:\n",
    "    filename = f'/home/jovyan/Wustl_iiot/transfer_attack/x_test_adv_FGSM_eps_{epsilon}.npy'\n",
    "    x_test_adv = np.load(filename)\n",
    "\n",
    "    calculate_performance_metrics(x_test_adv, y_test, FGSM_Trainer, 'FGSM_Trainer', 'FGSM', epsilon)\n",
    "\n",
    "# for epsilon in epsilon_values:\n",
    "#     filename = f'/home/jovyan/Wustl_iiot/transfer_attack/x_test_adv_PGD_eps_{epsilon}.npy'\n",
    "#     x_test_adv = np.load(filename)\n",
    "\n",
    "#     calculate_performance_metrics(x_test_adv, y_test, PGD_Trainer, 'PGD_Trainer', 'PGD', epsilon)"
   ]
  },
  {
   "cell_type": "code",
   "execution_count": null,
   "id": "a3e9e3f9-1f7b-4f66-9f0a-f4087dc9a48d",
   "metadata": {},
   "outputs": [],
   "source": []
  }
 ],
 "metadata": {
  "kernelspec": {
   "display_name": "Python 3 (ipykernel)",
   "language": "python",
   "name": "python3"
  },
  "language_info": {
   "codemirror_mode": {
    "name": "ipython",
    "version": 3
   },
   "file_extension": ".py",
   "mimetype": "text/x-python",
   "name": "python",
   "nbconvert_exporter": "python",
   "pygments_lexer": "ipython3",
   "version": "3.11.5"
  }
 },
 "nbformat": 4,
 "nbformat_minor": 5
}
