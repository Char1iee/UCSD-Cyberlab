{
 "cells": [
  {
   "cell_type": "code",
   "execution_count": 36,
   "id": "078bcb4e-03d7-492c-813a-a3222cbbb5f4",
   "metadata": {},
   "outputs": [],
   "source": [
    "import tensorflow as tf\n",
    "from tensorflow.keras import Model\n",
    "from tensorflow.keras.models import Sequential\n",
    "from tensorflow.keras.layers import Dense, SimpleRNN, Dropout\n",
    "\n",
    "from sklearn.metrics import accuracy_score, precision_recall_fscore_support, roc_auc_score, confusion_matrix\n",
    "from sklearn import metrics\n",
    "import numpy as np\n",
    "import pandas as pd\n",
    "import matplotlib.pyplot as plt"
   ]
  },
  {
   "cell_type": "code",
   "execution_count": 43,
   "id": "d5fc14a1-6130-46d2-b289-10d9bed62b58",
   "metadata": {},
   "outputs": [],
   "source": [
    "def calculate_performance_metrics(x_test, y_test, model):\n",
    "\n",
    "    # Predictions\n",
    "    y_pred = model.predict(x_test)\n",
    "    y_pred_classes = np.argmax(y_pred, axis=1)\n",
    "\n",
    "    accuracy = accuracy_score(y_test, y_pred_classes)\n",
    "    \n",
    "    precision_macro, recall_macro, f1_macro, _ = precision_recall_fscore_support(y_test, y_pred_classes, average='macro')\n",
    "    precision_weighted, recall_weighted, f1_weighted, _ = precision_recall_fscore_support(y_test, y_pred_classes, average='macro')\n",
    "\n",
    "    auc = metrics.roc_auc_score(y_test, y_pred, average = 'macro', multi_class = 'ovr')\n",
    "\n",
    "    print(f\"Accuracy: {accuracy}\\nAUC: {auc}\")\n",
    "    \n",
    "    print(\"\\nmacro\")\n",
    "    print(f\"Precision: {precision_macro}\\nRecall: {recall_macro}\\nF1 Score: {f1_macro}\")\n",
    "\n",
    "    print(\"\\nweighted\")\n",
    "    print(f\"Precision: {precision_weighted}\\nRecall: {recall_weighted}\\nF1 Score: {f1_weighted}\")\n",
    "    print()\n",
    "    \n",
    "    # Confusion matrix for FNR, TNR, FPR, TPR\n",
    "    cm = metrics.confusion_matrix(y_test, y_pred_classes)\n",
    "    def calculate_rates(conf_matrix, class_index):\n",
    "        tp = conf_matrix[class_index, class_index]\n",
    "        fn = np.sum(conf_matrix[class_index, :]) - tp\n",
    "        fp = np.sum(conf_matrix[:, class_index]) - tp\n",
    "        tn = np.sum(conf_matrix) - (tp + fn + fp)\n",
    "    \n",
    "        fnr = fn / (fn + tp)\n",
    "        tnr = tn / (tn + fp)\n",
    "        fpr = fp / (fp + tn)\n",
    "        tpr = tp / (tp + fn)\n",
    "        return fnr, tnr, fpr, tpr\n",
    "\n",
    "    # Calculate and aggregate rates\n",
    "    fnrs, tnrs, fprs, tprs = [], [], [], []\n",
    "    for i in range(cm.shape[0]):\n",
    "        fnr, tnr, fpr, tpr = calculate_rates(cm, i)\n",
    "        fnrs.append(fnr)\n",
    "        tnrs.append(tnr)\n",
    "        fprs.append(fpr)\n",
    "        tprs.append(tpr)\n",
    "    \n",
    "    mean_fnr = np.mean(fnrs)\n",
    "    mean_tnr = np.mean(tnrs)\n",
    "    mean_fpr = np.mean(fprs)\n",
    "    mean_tpr = np.mean(tprs)\n",
    "\n",
    "    # Printing the mean metrics\n",
    "    print(f\"Mean FNR: {mean_fnr}\\nMean TNR: {mean_tnr}\\nMean FPR: {mean_fpr}\\nMean TPR: {mean_tpr}\")"
   ]
  },
  {
   "cell_type": "code",
   "execution_count": 33,
   "id": "7bc359e9-2375-4892-9a40-a69b0470b725",
   "metadata": {},
   "outputs": [],
   "source": [
    "def model_plot(history):\n",
    "\n",
    "    plt.plot(history.history['loss'])\n",
    "    plt.plot(history.history['val_loss'])\n",
    "    plt.ylabel('loss')\n",
    "    plt.xlabel('epoch')\n",
    "\n",
    "    plt.legend(['train', 'val'], loc='upper left')\n",
    "    plt.show()"
   ]
  },
  {
   "cell_type": "code",
   "execution_count": 15,
   "id": "4c857853-c85a-4253-a088-3dbdcca8ea88",
   "metadata": {},
   "outputs": [],
   "source": [
    "x_test = np.load(\"/home/jovyan/X-IIoT/X-IIoT_preprocessed/x_test.npy\")\n",
    "x_train = np.load(\"/home/jovyan/X-IIoT/X-IIoT_preprocessed/x_train.npy\")\n",
    "x_val = np.load(\"/home/jovyan/X-IIoT/X-IIoT_preprocessed/x_val.npy\")\n",
    "y_test = np.load(\"/home/jovyan/X-IIoT/X-IIoT_preprocessed/y_test.npy\")\n",
    "y_train = np.load(\"/home/jovyan/X-IIoT/X-IIoT_preprocessed/y_train.npy\")\n",
    "y_val = np.load(\"/home/jovyan/X-IIoT/X-IIoT_preprocessed/y_val.npy\")"
   ]
  },
  {
   "cell_type": "code",
   "execution_count": 16,
   "id": "fd93f844-9c19-47a2-9fe4-da18ebf4ddfd",
   "metadata": {},
   "outputs": [
    {
     "data": {
      "text/plain": [
       "array([[6.66666667e-01, 2.50000000e-01, 1.84336595e-03, ...,\n",
       "        0.00000000e+00, 1.00000000e+00, 0.00000000e+00],\n",
       "       [6.66666667e-01, 6.87500000e-01, 2.57195581e-08, ...,\n",
       "        0.00000000e+00, 0.00000000e+00, 0.00000000e+00],\n",
       "       [6.66666667e-01, 8.75000000e-01, 2.52193550e-04, ...,\n",
       "        1.00000000e+00, 0.00000000e+00, 1.00000000e+00],\n",
       "       ...,\n",
       "       [6.66666667e-01, 2.50000000e-01, 5.85182960e-04, ...,\n",
       "        0.00000000e+00, 1.00000000e+00, 0.00000000e+00],\n",
       "       [1.00000000e+00, 1.25000000e-01, 2.38977561e-08, ...,\n",
       "        0.00000000e+00, 0.00000000e+00, 0.00000000e+00],\n",
       "       [6.66666667e-01, 6.87500000e-01, 4.82241715e-09, ...,\n",
       "        0.00000000e+00, 0.00000000e+00, 0.00000000e+00]])"
      ]
     },
     "execution_count": 16,
     "metadata": {},
     "output_type": "execute_result"
    }
   ],
   "source": [
    "x_train"
   ]
  },
  {
   "cell_type": "code",
   "execution_count": 17,
   "id": "4eb5829f-34ac-406a-a5f7-3b79860c65f1",
   "metadata": {},
   "outputs": [],
   "source": [
    "timesteps = 1\n",
    "features_per_timestep = x_train.shape[1]\n",
    "\n",
    "x_train_reshaped = x_train.reshape(-1, timesteps, features_per_timestep)\n",
    "x_val_reshaped = x_val.reshape(-1, timesteps, features_per_timestep)\n",
    "x_test_reshaped = x_test.reshape(-1, timesteps, features_per_timestep)\n",
    "\n",
    "num_classes = len(np.unique(y_train))"
   ]
  },
  {
   "cell_type": "code",
   "execution_count": 38,
   "id": "858e2d0e-f142-4a50-b878-d32af3103ba4",
   "metadata": {},
   "outputs": [
    {
     "name": "stdout",
     "output_type": "stream",
     "text": [
      "Epoch 1/50\n",
      "3590/3590 [==============================] - 12s 3ms/step - loss: 0.1919 - accuracy: 0.9418 - val_loss: 0.1094 - val_accuracy: 0.9633\n",
      "Epoch 2/50\n",
      "3590/3590 [==============================] - 11s 3ms/step - loss: 0.1087 - accuracy: 0.9644 - val_loss: 0.0905 - val_accuracy: 0.9676\n",
      "Epoch 3/50\n",
      "3590/3590 [==============================] - 10s 3ms/step - loss: 0.0969 - accuracy: 0.9668 - val_loss: 0.0826 - val_accuracy: 0.9705\n",
      "Epoch 4/50\n",
      "3590/3590 [==============================] - 10s 3ms/step - loss: 0.0898 - accuracy: 0.9691 - val_loss: 0.0742 - val_accuracy: 0.9748\n",
      "Epoch 5/50\n",
      "3590/3590 [==============================] - 10s 3ms/step - loss: 0.0833 - accuracy: 0.9716 - val_loss: 0.0702 - val_accuracy: 0.9754\n",
      "Epoch 6/50\n",
      "3590/3590 [==============================] - 10s 3ms/step - loss: 0.0796 - accuracy: 0.9726 - val_loss: 0.0636 - val_accuracy: 0.9778\n",
      "Epoch 7/50\n",
      "3590/3590 [==============================] - 9s 3ms/step - loss: 0.0769 - accuracy: 0.9740 - val_loss: 0.0701 - val_accuracy: 0.9783\n",
      "Epoch 8/50\n",
      "3590/3590 [==============================] - 9s 3ms/step - loss: 0.0748 - accuracy: 0.9743 - val_loss: 0.0624 - val_accuracy: 0.9780\n",
      "Epoch 9/50\n",
      "3590/3590 [==============================] - 10s 3ms/step - loss: 0.0727 - accuracy: 0.9749 - val_loss: 0.0736 - val_accuracy: 0.9752\n",
      "Epoch 10/50\n",
      "3590/3590 [==============================] - 10s 3ms/step - loss: 0.0708 - accuracy: 0.9757 - val_loss: 0.0693 - val_accuracy: 0.9792\n",
      "Epoch 11/50\n",
      "3590/3590 [==============================] - 10s 3ms/step - loss: 0.0700 - accuracy: 0.9761 - val_loss: 0.0594 - val_accuracy: 0.9802\n",
      "Epoch 12/50\n",
      "3590/3590 [==============================] - 9s 3ms/step - loss: 0.0685 - accuracy: 0.9765 - val_loss: 0.0569 - val_accuracy: 0.9809\n",
      "Epoch 13/50\n",
      "3590/3590 [==============================] - 10s 3ms/step - loss: 0.0680 - accuracy: 0.9767 - val_loss: 0.0607 - val_accuracy: 0.9795\n",
      "Epoch 14/50\n",
      "3590/3590 [==============================] - 10s 3ms/step - loss: 0.0668 - accuracy: 0.9769 - val_loss: 0.0567 - val_accuracy: 0.9798\n",
      "Epoch 15/50\n",
      "3590/3590 [==============================] - 9s 3ms/step - loss: 0.0668 - accuracy: 0.9770 - val_loss: 0.0567 - val_accuracy: 0.9807\n"
     ]
    }
   ],
   "source": [
    "model = Sequential()\n",
    "model.add(SimpleRNN(200, activation='relu', input_shape=(timesteps, features_per_timestep)))\n",
    "model.add(Dropout(0.2))\n",
    "model.add(Dense(200, activation = 'relu'))\n",
    "model.add(Dropout(0.2))\n",
    "model.add(Dense(200, activation = 'relu'))\n",
    "model.add(Dropout(0.2))\n",
    "model.add(Dense(units = num_classes, activation = 'softmax'))\n",
    "\n",
    "model.compile(optimizer='adam',\n",
    "              loss='sparse_categorical_crossentropy',\n",
    "              metrics=['accuracy'])\n",
    "\n",
    "# Train the model\n",
    "history = model.fit(x_train_reshaped, y_train, batch_size=100, epochs=50, validation_split = 0.2,\n",
    "                        callbacks = [tf.keras.callbacks.EarlyStopping(monitor='val_loss', min_delta=0.001, patience=3)])"
   ]
  },
  {
   "cell_type": "code",
   "execution_count": 44,
   "id": "ad8d80ae-6636-409e-9275-a10742a931b5",
   "metadata": {},
   "outputs": [
    {
     "name": "stdout",
     "output_type": "stream",
     "text": [
      "4383/4383 [==============================] - 3s 661us/step\n",
      "Accuracy: 0.9807031305712044\n",
      "AUC: 0.9988116684249126\n",
      "\n",
      "macro\n",
      "Precision: 0.9673437382145315\n",
      "Recall: 0.8569211607287169\n",
      "F1 Score: 0.8874007881645516\n",
      "\n",
      "weighted\n",
      "Precision: 0.9673437382145315\n",
      "Recall: 0.8569211607287169\n",
      "F1 Score: 0.8874007881645516\n",
      "\n",
      "Mean FNR: 0.143078839271283\n",
      "Mean TNR: 0.9978994577482186\n",
      "Mean FPR: 0.0021005422517813726\n",
      "Mean TPR: 0.8569211607287169\n"
     ]
    }
   ],
   "source": [
    "calculate_performance_metrics(x_test_reshaped, y_test, model)"
   ]
  },
  {
   "cell_type": "code",
   "execution_count": 40,
   "id": "b2ccd41a-f352-4ea8-a6db-d76635397877",
   "metadata": {},
   "outputs": [
    {
     "data": {
      "image/png": "[encoded data removed]",
      "text/plain": [
       "<Figure size 640x480 with 1 Axes>"
      ]
     },
     "metadata": {},
     "output_type": "display_data"
    }
   ],
   "source": [
    "model_plot(history)"
   ]
  },
  {
   "cell_type": "code",
   "execution_count": null,
   "id": "d8ff9084-6a08-4dc7-8a29-197e84b1469b",
   "metadata": {},
   "outputs": [],
   "source": []
  }
 ],
 "metadata": {
  "kernelspec": {
   "display_name": "Python 3 (ipykernel)",
   "language": "python",
   "name": "python3"
  },
  "language_info": {
   "codemirror_mode": {
    "name": "ipython",
    "version": 3
   },
   "file_extension": ".py",
   "mimetype": "text/x-python",
   "name": "python",
   "nbconvert_exporter": "python",
   "pygments_lexer": "ipython3",
   "version": "3.11.5"
  }
 },
 "nbformat": 4,
 "nbformat_minor": 5
}
