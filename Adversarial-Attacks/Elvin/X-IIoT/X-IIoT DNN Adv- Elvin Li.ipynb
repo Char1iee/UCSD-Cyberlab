{
 "cells": [
  {
   "cell_type": "markdown",
   "id": "57284b52",
   "metadata": {
    "tags": []
   },
   "source": [
    "# Imports and Data"
   ]
  },
  {
   "cell_type": "code",
   "execution_count": 212,
   "id": "67be295d",
   "metadata": {
    "tags": []
   },
   "outputs": [],
   "source": [
    "import pandas as pd\n",
    "import numpy as np\n",
    "import matplotlib.pyplot as plt\n",
    "import seaborn as sns\n",
    "\n",
    "from sklearn.metrics import accuracy_score, precision_recall_fscore_support, roc_auc_score, confusion_matrix\n",
    "from sklearn.preprocessing import label_binarize\n",
    "\n",
    "import time"
   ]
  },
  {
   "cell_type": "code",
   "execution_count": 42,
   "id": "08bffe14-de8d-4999-b1a7-a6f36557442c",
   "metadata": {
    "tags": []
   },
   "outputs": [],
   "source": [
    "device = 'cpu'"
   ]
  },
  {
   "cell_type": "code",
   "execution_count": 43,
   "id": "323c72c3",
   "metadata": {
    "tags": []
   },
   "outputs": [],
   "source": [
    "X_train = np.load('X-IIoT-pre-processed/x_train.npy')\n",
    "y_train = np.load('X-IIoT-pre-processed/y_train.npy')\n",
    "X_val = np.load('X-IIoT-pre-processed/X_val.npy')\n",
    "y_val = np.load('X-IIoT-pre-processed/y_val.npy')\n",
    "X_test = np.load('X-IIoT-pre-processed/X_test.npy')\n",
    "y_test = np.load('X-IIoT-pre-processed/y_test.npy')"
   ]
  },
  {
   "cell_type": "markdown",
   "id": "7463ec7d",
   "metadata": {
    "tags": []
   },
   "source": [
    "# Deep Neural Network"
   ]
  },
  {
   "cell_type": "markdown",
   "id": "0ed958e2",
   "metadata": {},
   "source": [
    "Parameters:\n",
    "4 hidden layers (relu), 200 neurons each, batch=100, epoch=100, optimizer=Adam, lr=0.001, earlyStop={patience:10,delta:0.001}"
   ]
  },
  {
   "cell_type": "code",
   "execution_count": 3,
   "id": "cb27d763",
   "metadata": {
    "tags": []
   },
   "outputs": [],
   "source": [
    "import torch\n",
    "import torch.nn as nn\n",
    "import torch.optim as optim\n",
    "import torch.nn.functional as F\n",
    "from torch.utils.data import DataLoader, TensorDataset"
   ]
  },
  {
   "cell_type": "code",
   "execution_count": 99,
   "id": "78975f9a",
   "metadata": {
    "tags": []
   },
   "outputs": [],
   "source": [
    "class DNNMulticlass(nn.Module):\n",
    "\n",
    "    def __init__(self):\n",
    "        super().__init__()\n",
    "        self.layer1 = nn.Linear(58, 200) # 58 features => len(X_train[0])\n",
    "        self.layer2 = nn.Linear(200, 200)\n",
    "        self.layer3 = nn.Linear(200, 200)\n",
    "        self.layer4 = nn.Linear(200, 200)\n",
    "        self.out_layer = nn.Linear(200, 19) # 19 classifications =>  np.unique(y_train)\n",
    "\n",
    "    def forward(self, x):\n",
    "        x = F.relu(self.layer1(x))\n",
    "        x = F.relu(self.layer2(x))\n",
    "        x = F.relu(self.layer3(x))\n",
    "        x = F.relu(self.layer4(x))\n",
    "        x = self.out_layer(x) \n",
    "        return x"
   ]
  },
  {
   "cell_type": "code",
   "execution_count": 100,
   "id": "4c89e5c3",
   "metadata": {
    "tags": []
   },
   "outputs": [],
   "source": [
    "class EarlyStopping:\n",
    "    def __init__(self, patience=5, delta=0):\n",
    "        self.patience = patience\n",
    "        self.counter = 0\n",
    "        self.best_loss = None\n",
    "        self.early_stop = False\n",
    "        self.delta = delta\n",
    "\n",
    "    def __call__(self, val_loss):\n",
    "        if self.best_loss is None:\n",
    "            self.best_loss = val_loss\n",
    "        elif val_loss > self.best_loss - self.delta:\n",
    "            self.counter += 1\n",
    "            if self.counter >= self.patience:\n",
    "                self.early_stop = True\n",
    "        else:\n",
    "            self.best_loss = val_loss\n",
    "            self.counter = 0"
   ]
  },
  {
   "cell_type": "code",
   "execution_count": 109,
   "id": "40d84331",
   "metadata": {
    "tags": []
   },
   "outputs": [],
   "source": [
    "X_train_tensor = torch.tensor(X_train, dtype=torch.float32)\n",
    "X_test_tensor = torch.tensor(X_test, dtype=torch.float32)\n",
    "\n",
    "y_train_tensor = torch.tensor(y_train, dtype=torch.long)\n",
    "\n",
    "y_test_tensor = torch.tensor(y_test, dtype=torch.long)\n",
    "\n",
    "train_dataset = TensorDataset(X_train_tensor, y_train_tensor)\n",
    "train_loader = DataLoader(dataset=train_dataset, batch_size=100)\n",
    "\n",
    "test_dataset = TensorDataset(X_test_tensor, y_test_tensor)\n",
    "test_loader = DataLoader(dataset=test_dataset, batch_size=100)"
   ]
  },
  {
   "cell_type": "code",
   "execution_count": 110,
   "id": "9c590ad3",
   "metadata": {
    "tags": []
   },
   "outputs": [
    {
     "name": "stdout",
     "output_type": "stream",
     "text": [
      "Epoch [1/100], Training Loss: 0.1890, Validation Loss: 0.1339\n",
      "Epoch [2/100], Training Loss: 0.0982, Validation Loss: 0.1214\n",
      "Epoch [3/100], Training Loss: 0.0833, Validation Loss: 0.0759\n",
      "Epoch [4/100], Training Loss: 0.0742, Validation Loss: 0.0825\n",
      "Epoch [5/100], Training Loss: 0.0687, Validation Loss: 0.0692\n",
      "Epoch [6/100], Training Loss: 0.0656, Validation Loss: 0.0873\n",
      "Epoch [7/100], Training Loss: 0.0626, Validation Loss: 0.0590\n",
      "Epoch [8/100], Training Loss: 0.0606, Validation Loss: 0.0713\n",
      "Epoch [9/100], Training Loss: 0.0585, Validation Loss: 0.0591\n",
      "Epoch [10/100], Training Loss: 0.0579, Validation Loss: 0.0540\n",
      "Epoch [11/100], Training Loss: 0.0563, Validation Loss: 0.0592\n",
      "Epoch [12/100], Training Loss: 0.0551, Validation Loss: 0.0531\n",
      "Epoch [13/100], Training Loss: 0.0537, Validation Loss: 0.0538\n",
      "Epoch [14/100], Training Loss: 0.0531, Validation Loss: 0.0558\n",
      "Epoch [15/100], Training Loss: 0.0526, Validation Loss: 0.1058\n",
      "Epoch [16/100], Training Loss: 0.0520, Validation Loss: 0.0499\n",
      "Epoch [17/100], Training Loss: 0.0511, Validation Loss: 0.0654\n",
      "Epoch [18/100], Training Loss: 0.0507, Validation Loss: 0.0502\n",
      "Epoch [19/100], Training Loss: 0.0503, Validation Loss: 0.0502\n",
      "Epoch [20/100], Training Loss: 0.0497, Validation Loss: 0.0525\n",
      "Epoch [21/100], Training Loss: 0.0493, Validation Loss: 0.0498\n",
      "Epoch [22/100], Training Loss: 0.0485, Validation Loss: 0.0488\n",
      "Epoch [23/100], Training Loss: 0.0489, Validation Loss: 0.0496\n",
      "Epoch [24/100], Training Loss: 0.0478, Validation Loss: 0.0564\n",
      "Epoch [25/100], Training Loss: 0.0473, Validation Loss: 0.0509\n",
      "Epoch [26/100], Training Loss: 0.0470, Validation Loss: 0.0506\n",
      "Epoch [27/100], Training Loss: 0.0469, Validation Loss: 0.0500\n",
      "Epoch [28/100], Training Loss: 0.0466, Validation Loss: 0.0497\n",
      "Epoch [29/100], Training Loss: 0.0463, Validation Loss: 0.0489\n",
      "Epoch [30/100], Training Loss: 0.0466, Validation Loss: 0.0492\n",
      "Epoch [31/100], Training Loss: 0.0455, Validation Loss: 0.0499\n",
      "Epoch [32/100], Training Loss: 0.0453, Validation Loss: 0.0475\n",
      "Epoch [33/100], Training Loss: 0.0450, Validation Loss: 0.0495\n",
      "Epoch [34/100], Training Loss: 0.0449, Validation Loss: 0.0515\n",
      "Epoch [35/100], Training Loss: 0.0445, Validation Loss: 0.0598\n",
      "Epoch [36/100], Training Loss: 0.0458, Validation Loss: 0.0528\n",
      "Epoch [37/100], Training Loss: 0.0444, Validation Loss: 0.0532\n",
      "Epoch [38/100], Training Loss: 0.0452, Validation Loss: 0.0485\n",
      "Epoch [39/100], Training Loss: 0.0445, Validation Loss: 0.0563\n",
      "Epoch [40/100], Training Loss: 0.0434, Validation Loss: 0.0533\n",
      "Epoch [41/100], Training Loss: 0.0438, Validation Loss: 0.0527\n",
      "Epoch [42/100], Training Loss: 0.0433, Validation Loss: 0.0488\n",
      "Early stopping triggered\n",
      "Finished Training\n",
      "Training time: 202.57495403289795\n"
     ]
    }
   ],
   "source": [
    "# Training\n",
    "\n",
    "start_time = time.time()\n",
    "\n",
    "model_dnn = DNNMulticlass().to(device)\n",
    "early_stopping = EarlyStopping(patience=10, delta=0.001)\n",
    "\n",
    "criterion = nn.CrossEntropyLoss()\n",
    "optimizer = optim.Adam(model_dnn.parameters(), lr=0.001)\n",
    "\n",
    "training_losses = []\n",
    "validation_losses = []\n",
    "\n",
    "epochs = 100\n",
    "for epoch in range(epochs): # Epochs/steps\n",
    "    model_dnn.train()\n",
    "    train_loss = 0.0\n",
    "    for inputs, labels in train_loader:\n",
    "        inputs, labels = inputs.to(device), labels.to(device)\n",
    "\n",
    "        optimizer.zero_grad()\n",
    "\n",
    "        # Feed forward + backpropogate\n",
    "        outputs = model_dnn(inputs)\n",
    "        loss = criterion(outputs, labels)\n",
    "        loss.backward()\n",
    "        optimizer.step()\n",
    "        train_loss += loss.item()\n",
    "\n",
    "    avg_train_loss = train_loss / len(train_loader)\n",
    "    training_losses.append(avg_train_loss)\n",
    "\n",
    "    # Validation\n",
    "    model_dnn.eval()\n",
    "    with torch.no_grad():\n",
    "        val_loss = 0.0\n",
    "        for inputs, labels in test_loader:\n",
    "            inputs, labels = inputs.to(device), labels.to(device)\n",
    "\n",
    "            outputs = model_dnn(inputs)\n",
    "            loss = criterion(outputs, labels)\n",
    "            val_loss += loss.item()\n",
    "\n",
    "        # Average validation loss for this epoch\n",
    "        avg_val_loss = val_loss / len(test_loader)\n",
    "        validation_losses.append(avg_val_loss)\n",
    "\n",
    "    print(f'Epoch [{epoch + 1}/{epochs}], Training Loss: {avg_train_loss:.4f}, Validation Loss: {avg_val_loss:.4f}')\n",
    "\n",
    "\n",
    "    early_stopping(avg_val_loss)\n",
    "    if early_stopping.early_stop:\n",
    "        print(\"Early stopping triggered\")\n",
    "        break\n",
    "\n",
    "\n",
    "print('Finished Training')\n",
    "\n",
    "training_time = time.time() - start_time\n",
    "print(f\"Training time: {training_time}\")"
   ]
  },
  {
   "cell_type": "code",
   "execution_count": 111,
   "id": "ebd2f657-360e-4a5a-b489-7ff6169a2e62",
   "metadata": {
    "tags": []
   },
   "outputs": [],
   "source": [
    "model_dnn.eval()\n",
    "all_preds = []\n",
    "all_labels = []\n",
    "with torch.no_grad():\n",
    "    for inputs, labels in test_loader:\n",
    "        inputs, labels = inputs.to(device), labels.to(device)\n",
    "        outputs = model_dnn(inputs)\n",
    "        preds = torch.argmax(outputs, dim=1)\n",
    "        all_preds.extend(preds.cpu().numpy())\n",
    "        all_labels.extend(labels.cpu().numpy())"
   ]
  },
  {
   "cell_type": "code",
   "execution_count": 112,
   "id": "955a1c0e-f45b-4752-88f4-2fc913fd641a",
   "metadata": {
    "tags": []
   },
   "outputs": [],
   "source": [
    "cm = confusion_matrix(all_labels, all_preds)"
   ]
  },
  {
   "cell_type": "code",
   "execution_count": 113,
   "id": "4360f2e0-d288-45ad-b4a5-10099c6de974",
   "metadata": {
    "tags": []
   },
   "outputs": [
    {
     "data": {
      "image/png": "[encoded data removed]",
      "text/plain": [
       "<Figure size 1000x700 with 2 Axes>"
      ]
     },
     "metadata": {},
     "output_type": "display_data"
    }
   ],
   "source": [
    "plt.figure(figsize=(10, 7))\n",
    "sns.heatmap(cm, annot=True, fmt='g', cmap='Blues')\n",
    "plt.xlabel('Predicted labels')\n",
    "plt.ylabel('True labels')\n",
    "plt.title('Confusion Matrix')\n",
    "plt.show()"
   ]
  },
  {
   "cell_type": "code",
   "execution_count": 95,
   "id": "e6ffb2d9",
   "metadata": {
    "tags": []
   },
   "outputs": [
    {
     "data": {
      "image/png": "[encoded data removed]",
      "text/plain": [
       "<Figure size 1000x600 with 1 Axes>"
      ]
     },
     "metadata": {},
     "output_type": "display_data"
    }
   ],
   "source": [
    "# Get the training and validation graphs\n",
    "\n",
    "plt.figure(figsize=(10, 6))\n",
    "plt.plot(training_losses, label='Training Loss')\n",
    "plt.plot(validation_losses, label='Validation Loss')\n",
    "plt.title('Training and Validation Loss per Epoch')\n",
    "plt.xlabel('Epochs')\n",
    "plt.ylabel('Loss')\n",
    "plt.legend()\n",
    "plt.show()"
   ]
  },
  {
   "cell_type": "markdown",
   "id": "de97d5ed-6319-4b18-a3f7-3883260ee195",
   "metadata": {
    "tags": []
   },
   "source": [
    "# Metrics (No Attacks)"
   ]
  },
  {
   "cell_type": "markdown",
   "id": "f768812b-57ff-424e-bd87-c77862fa31f7",
   "metadata": {
    "tags": []
   },
   "source": [
    "### Helpers"
   ]
  },
  {
   "cell_type": "code",
   "execution_count": 80,
   "id": "18244306-4f25-4220-aaaa-31d9e88598c6",
   "metadata": {
    "tags": []
   },
   "outputs": [],
   "source": [
    "def calculate_weighted_rates(cm):\n",
    "    num_classes = cm.shape[0]\n",
    "    total_instances = np.sum(cm)\n",
    "    \n",
    "    weighted_TPR = 0\n",
    "    weighted_TNR = 0\n",
    "    weighted_FPR = 0\n",
    "    weighted_FNR = 0\n",
    "    \n",
    "    for class_index in range(num_classes):\n",
    "        TP = cm[class_index, class_index]\n",
    "        FP = cm[:, class_index].sum() - TP\n",
    "        FN = cm[class_index, :].sum() - TP\n",
    "        TN = cm.sum() - (TP + FP + FN)\n",
    "        \n",
    "        class_size = cm[class_index, :].sum()  # Total true instances for the class\n",
    "        \n",
    "        TPR = TP / (TP + FN) if (TP + FN) != 0 else 0\n",
    "        TNR = TN / (TN + FP) if (TN + FP) != 0 else 0\n",
    "        FPR = FP / (FP + TN) if (FP + TN) != 0 else 0\n",
    "        FNR = FN / (FN + TP) if (FN + TP) != 0 else 0\n",
    "        \n",
    "        weighted_TPR += (class_size / total_instances) * TPR\n",
    "        weighted_TNR += (class_size / total_instances) * TNR\n",
    "        weighted_FPR += (class_size / total_instances) * FPR\n",
    "        weighted_FNR += (class_size / total_instances) * FNR\n",
    "\n",
    "    return weighted_TPR, weighted_TNR, weighted_FPR, weighted_FNR\n",
    "\n",
    "def metrics_weighted(model, test_load, num_classes, device='cpu'):\n",
    "    model.eval()\n",
    "    all_preds = []\n",
    "    all_labels = []\n",
    "    probabilities = []\n",
    "\n",
    "    with torch.no_grad():\n",
    "        for inputs, labels in test_load:\n",
    "            inputs, labels = inputs.to(device), labels.to(device)\n",
    "            outputs = model(inputs)\n",
    "            preds = torch.argmax(outputs, dim=1)\n",
    "            all_preds.extend(preds.cpu().numpy())\n",
    "            all_labels.extend(labels.cpu().numpy())\n",
    "            probabilities.extend(torch.nn.functional.softmax(outputs, dim=1).cpu().numpy())\n",
    "\n",
    "    all_preds = np.array(all_preds)\n",
    "    all_labels = np.array(all_labels)\n",
    "    probabilities = np.array(probabilities)\n",
    "\n",
    "    labels_binarized = label_binarize(all_labels, classes=range(num_classes))\n",
    "\n",
    "    accuracy = accuracy_score(all_labels, all_preds)\n",
    "    precision, recall, f1, _ = precision_recall_fscore_support(all_labels, all_preds, average='weighted')\n",
    "    auc = roc_auc_score(labels_binarized, probabilities, average='weighted', multi_class='ovr')\n",
    "\n",
    "    cm = confusion_matrix(all_labels, all_preds)\n",
    "    \n",
    "    TPR, TNR, FPR, FNR = calculate_weighted_rates(cm)\n",
    "\n",
    "    print(f'Accuracy (Weighted): {accuracy:.4f}')\n",
    "    print(f'Precision (Weighted): {precision:.4f}')\n",
    "    print(f'Recall (Weighted): {recall:.4f}')\n",
    "    print(f'F1 Score (Weighted): {f1:.4f}')\n",
    "    print(f'AUC (Weighted): {auc:.4f}')\n",
    "    print(f'TPR (Weighted): {TPR:.4f}')\n",
    "    print(f'TNR (Weighted): {TNR:.4f}')\n",
    "    print(f'FPR (Weighted): {FPR:.4f}')\n",
    "    print(f'FNR (Weighted): {FNR:.4f}')"
   ]
  },
  {
   "cell_type": "code",
   "execution_count": 83,
   "id": "c7f815c3-d9d3-44cb-b0b6-89662badad29",
   "metadata": {
    "tags": []
   },
   "outputs": [],
   "source": [
    "def calculate_class_metrics_macro(cm, class_index):\n",
    "    TP = cm[class_index, class_index]\n",
    "    FP = cm[:, class_index].sum() - TP\n",
    "    FN = cm[class_index, :].sum() - TP\n",
    "    TN = cm.sum() - (TP + FP + FN)\n",
    "    \n",
    "    TPR = TP / (TP + FN) if (TP + FN) != 0 else 0  \n",
    "    TNR = TN / (TN + FP) if (TN + FP) != 0 else 0  \n",
    "    FPR = FP / (FP + TN) if (FP + TN) != 0 else 0  \n",
    "    FNR = FN / (FN + TP) if (FN + TP) != 0 else 0  \n",
    "    \n",
    "    return TPR, TNR, FPR, FNR\n",
    "\n",
    "def metrics_macro(model, test_load, num_classes, device='cpu'):\n",
    "    model.eval()\n",
    "    all_preds = []\n",
    "    all_labels = []\n",
    "    probabilities = []\n",
    "\n",
    "    with torch.no_grad():\n",
    "        for inputs, labels in test_load:\n",
    "            inputs, labels = inputs.to(device), labels.to(device)\n",
    "            outputs = model(inputs)\n",
    "            preds = torch.argmax(outputs, dim=1)\n",
    "            all_preds.extend(preds.cpu().numpy())\n",
    "            all_labels.extend(labels.cpu().numpy())\n",
    "            probabilities.extend(torch.nn.functional.softmax(outputs, dim=1).cpu().numpy())\n",
    "\n",
    "    all_preds = np.array(all_preds)\n",
    "    all_labels = np.array(all_labels)\n",
    "    probabilities = np.array(probabilities)\n",
    "\n",
    "    accuracy = accuracy_score(all_labels, all_preds)\n",
    "    precision, recall, f1, _ = precision_recall_fscore_support(all_labels, all_preds, average='macro')\n",
    "    auc = roc_auc_score(label_binarize(all_labels, classes=range(num_classes)), probabilities, average='macro', multi_class='ovr')\n",
    "\n",
    "    cm = confusion_matrix(all_labels, all_preds)\n",
    "\n",
    "    # Calculate metrics for each class and take the average\n",
    "    metrics = np.array([calculate_class_metrics_macro(cm, i) for i in range(num_classes)])\n",
    "    TPR_macro, TNR_macro, FPR_macro, FNR_macro = np.mean(metrics, axis=0)\n",
    "\n",
    "    print(f'Accuracy (Macro): {accuracy:.4f}')\n",
    "    print(f'Precision (Macro): {precision:.4f}')\n",
    "    print(f'Recall (Macro): {recall:.4f}')\n",
    "    print(f'F1 Score (Macro): {f1:.4f}')\n",
    "    print(f'AUC (Macro): {auc:.4f}')\n",
    "    print(f'TPR (Macro): {TPR_macro:.4f}')\n",
    "    print(f'TNR (Macro): {TNR_macro:.4f}')\n",
    "    print(f'FPR (Macro): {FPR_macro:.4f}')\n",
    "    print(f'FNR (Macro): {FNR_macro:.4f}')"
   ]
  },
  {
   "cell_type": "code",
   "execution_count": 89,
   "id": "2e6546c1-7b8b-49db-ba9b-0ea6a22ca866",
   "metadata": {
    "tags": []
   },
   "outputs": [],
   "source": [
    "def calculate_metrics_micro(cm):\n",
    "    TP_sum = np.sum(np.diag(cm))  # Sum of True Positives\n",
    "    FP_sum = np.sum(cm) - TP_sum  # Sum of False Positives (total minus TP)\n",
    "    FN_sum = FP_sum  # In micro-averaging for multi-class, FN and FP are equivalent in sum\n",
    "    TN_sum = np.sum(cm) * (cm.shape[0] - 1) - 2 * FP_sum  # Adjusting TN for multi-class\n",
    "    \n",
    "    TPR_micro = TP_sum / (TP_sum + FN_sum) if (TP_sum + FN_sum) != 0 else 0\n",
    "    TNR_micro = TN_sum / (TN_sum + FP_sum) if (TN_sum + FP_sum) != 0 else 0\n",
    "    FPR_micro = FP_sum / (FP_sum + TN_sum) if (FP_sum + TN_sum) != 0 else 0\n",
    "    FNR_micro = FN_sum / (FN_sum + TP_sum) if (FN_sum + TP_sum) != 0 else 0\n",
    "    \n",
    "    return TPR_micro, TNR_micro, FPR_micro, FNR_micro\n",
    "\n",
    "def metrics_micro(model, test_load, num_classes, device='cpu'):\n",
    "    model.eval()\n",
    "    all_preds = []\n",
    "    all_labels = []\n",
    "    probabilities = []\n",
    "\n",
    "    with torch.no_grad():\n",
    "        for inputs, labels in test_load:\n",
    "            inputs, labels = inputs.to(device), labels.to(device)\n",
    "            outputs = model(inputs)\n",
    "            preds = torch.argmax(outputs, dim=1)\n",
    "            all_preds.extend(preds.cpu().numpy())\n",
    "            all_labels.extend(labels.cpu().numpy())\n",
    "            probabilities.extend(torch.nn.functional.softmax(outputs, dim=1).cpu().numpy())\n",
    "\n",
    "    all_preds = np.array(all_preds)\n",
    "    all_labels = np.array(all_labels)\n",
    "    probabilities = np.array(probabilities)\n",
    "\n",
    "    accuracy = accuracy_score(all_labels, all_preds)\n",
    "    precision, recall, f1, _ = precision_recall_fscore_support(all_labels, all_preds, average='micro')\n",
    "    auc = roc_auc_score(label_binarize(all_labels, classes=range(num_classes)), probabilities, average='micro', multi_class='ovr')\n",
    "\n",
    "    cm = confusion_matrix(all_labels, all_preds)\n",
    "    TPR_micro, TNR_micro, FPR_micro, FNR_micro = calculate_metrics_micro(cm)\n",
    "\n",
    "    print(f'Accuracy (Micro): {accuracy:.4f}')\n",
    "    print(f'Precision (Micro): {precision:.4f}')\n",
    "    print(f'Recall (Micro): {recall:.4f}')\n",
    "    print(f'F1 Score (Micro): {f1:.4f}')\n",
    "    print(f'AUC (Micro): {auc:.4f}')\n",
    "    print(f'TPR (Micro): {TPR_micro:.4f}')\n",
    "    print(f'TNR (Micro): {TNR_micro:.4f}')\n",
    "    print(f'FPR (Micro): {FPR_micro:.4f}')\n",
    "    print(f'FNR (Micro): {FNR_micro:.4f}')\n"
   ]
  },
  {
   "cell_type": "markdown",
   "id": "35483c3f-3103-4995-a1b6-d5e81bb7a1cb",
   "metadata": {
    "tags": []
   },
   "source": [
    "## Evaluations"
   ]
  },
  {
   "cell_type": "markdown",
   "id": "04f59fdc-54e6-4617-af5e-3eae5d810e77",
   "metadata": {
    "tags": []
   },
   "source": [
    "### DNN on normal samples"
   ]
  },
  {
   "cell_type": "code",
   "execution_count": 114,
   "id": "a861c9b9-93cc-49c7-b851-678a40964b72",
   "metadata": {
    "tags": []
   },
   "outputs": [
    {
     "name": "stdout",
     "output_type": "stream",
     "text": [
      "Accuracy (Weighted): 0.9840\n",
      "Precision (Weighted): 0.9839\n",
      "Recall (Weighted): 0.9840\n",
      "F1 Score (Weighted): 0.9830\n",
      "AUC (Weighted): 0.9989\n",
      "TPR (Weighted): 0.9840\n",
      "TNR (Weighted): 0.9825\n",
      "FPR (Weighted): 0.0175\n",
      "FNR (Weighted): 0.0160\n"
     ]
    }
   ],
   "source": [
    "metrics_weighted(model_dnn, test_loader, 19, 'cpu')"
   ]
  },
  {
   "cell_type": "code",
   "execution_count": 115,
   "id": "3ca6b101-d033-4cd8-85a9-41cf73495cc2",
   "metadata": {
    "tags": []
   },
   "outputs": [
    {
     "name": "stdout",
     "output_type": "stream",
     "text": [
      "Accuracy (Macro): 0.9840\n",
      "Precision (Macro): 0.9633\n",
      "Recall (Macro): 0.9020\n",
      "F1 Score (Macro): 0.9257\n",
      "AUC (Macro): 0.9991\n",
      "TPR (Macro): 0.9020\n",
      "TNR (Macro): 0.9982\n",
      "FPR (Macro): 0.0018\n",
      "FNR (Macro): 0.0980\n"
     ]
    }
   ],
   "source": [
    "metrics_macro(model_dnn, test_loader, 19, 'cpu')"
   ]
  },
  {
   "cell_type": "code",
   "execution_count": 116,
   "id": "5c77f331-0c08-4428-a220-769c2dde788e",
   "metadata": {
    "tags": []
   },
   "outputs": [
    {
     "name": "stdout",
     "output_type": "stream",
     "text": [
      "Accuracy (Micro): 0.9840\n",
      "Precision (Micro): 0.9840\n",
      "Recall (Micro): 0.9840\n",
      "F1 Score (Micro): 0.9840\n",
      "AUC (Micro): 0.9999\n",
      "TPR (Micro): 0.9840\n",
      "TNR (Micro): 0.9991\n",
      "FPR (Micro): 0.0009\n",
      "FNR (Micro): 0.0160\n"
     ]
    }
   ],
   "source": [
    "metrics_micro(model_dnn, test_loader, 19, 'cpu')"
   ]
  },
  {
   "cell_type": "markdown",
   "id": "e9fbdca5-fe50-437e-b845-ada9cae6ccac",
   "metadata": {
    "jp-MarkdownHeadingCollapsed": true,
    "tags": []
   },
   "source": [
    "# Adversarial Attacks"
   ]
  },
  {
   "cell_type": "code",
   "execution_count": 119,
   "id": "7da8ae36-7613-4af9-a83d-4b30ac2f037a",
   "metadata": {
    "tags": []
   },
   "outputs": [],
   "source": [
    "from art.estimators.classification import PyTorchClassifier"
   ]
  },
  {
   "cell_type": "code",
   "execution_count": 124,
   "id": "1138cebd-5271-431c-a0b5-d4bf140bbf17",
   "metadata": {
    "tags": []
   },
   "outputs": [],
   "source": [
    "X_train = X_train.astype(np.float32)\n",
    "X_test = X_test.astype(np.float32)"
   ]
  },
  {
   "cell_type": "markdown",
   "id": "62185148-0227-4d09-9020-55a8ccf62a29",
   "metadata": {
    "jp-MarkdownHeadingCollapsed": true,
    "tags": []
   },
   "source": [
    "## Helpers"
   ]
  },
  {
   "cell_type": "code",
   "execution_count": 169,
   "id": "c4e1eba4-d3ad-4e6e-86bb-e99ab23b4bdb",
   "metadata": {
    "tags": []
   },
   "outputs": [],
   "source": [
    "def metrics_weighted_adv(predictions_adv, y_test, predictions_adv_proba, num_classes):\n",
    "    \n",
    "    # Reshape\n",
    "    y_true = y_test\n",
    "    y_pred_adv = np.argmax(predictions_adv, axis=1)\n",
    "\n",
    "    precision_adv, recall_adv, f1_adv, _ = precision_recall_fscore_support(y_true, y_pred_adv, average='weighted')\n",
    "    accuracy_adv = accuracy_score(y_true, y_pred_adv)\n",
    "    \n",
    "    # TPR, TNR, FPR, FNR\n",
    "    cm_adv = confusion_matrix(y_true, y_pred_adv)\n",
    "    \n",
    "    TPR_adv, TNR_adv, FPR_adv, FNR_adv = calculate_weighted_rates(cm_adv)\n",
    "    \n",
    "    # AUC\n",
    "    y_test_binarized = label_binarize(y_test, classes=np.arange(num_classes))\n",
    "    auc_adv = roc_auc_score(y_test_binarized, predictions_adv_proba, average='weighted', multi_class='ovr')\n",
    "    \n",
    "    print(\"Weighted\")\n",
    "    \n",
    "    print(f\"Adv Acc: {accuracy_adv:.4f}\")\n",
    "    print(f\"Adv Prec: {precision_adv:.4f}\")\n",
    "    print(f\"Adv Rec: {recall_adv:.4f}\")\n",
    "    print(f\"Adv F1: {f1_adv:.4f}\")\n",
    "    \n",
    "    print(f\"Adv TPR: {TPR_adv:.4f}\") \n",
    "    print(f\"Adv TNR: {TNR_adv:.4f}\") \n",
    "    print(f\"Adv FPR: {FPR_adv:.4f}\")\n",
    "    print(f\"Adv FNR: {FNR_adv:.4f}\")\n",
    "    \n",
    "    print(f\"Adv AUC: {auc_adv:.4f}\")"
   ]
  },
  {
   "cell_type": "code",
   "execution_count": 167,
   "id": "0be2aeae-675c-447a-a59b-59d4f0acd854",
   "metadata": {
    "tags": []
   },
   "outputs": [],
   "source": [
    "def metrics_macro_adv(predictions_adv, y_test, predictions_adv_proba, num_classes):\n",
    "    y_true = y_test\n",
    " \n",
    "    y_pred_adv = np.argmax(predictions_adv, axis=1)\n",
    "\n",
    "    # Acc, Prec, Rec, F1\n",
    "    precision_adv, recall_adv, f1_adv, _ = precision_recall_fscore_support(y_true, y_pred_adv, average='macro')\n",
    "    accuracy_adv = accuracy_score(y_true, y_pred_adv)\n",
    "    \n",
    "    cm_adv = confusion_matrix(y_true, y_pred_adv)\n",
    "    \n",
    "    # TPR, TNR, FPR, FNR\n",
    "    TPR_adv, TNR_adv, FPR_adv, FNR_adv = np.mean([calculate_class_metrics_macro(cm_adv, i) for i in range(10)], axis=0)\n",
    "    \n",
    "    # Prepare y_test for AUC calculation \n",
    "    y_test_binarized = label_binarize(y_test, classes=np.arange(num_classes))\n",
    "\n",
    "    # AUC\n",
    "    auc_adv = roc_auc_score(y_test_binarized, predictions_adv_proba, average='macro', multi_class='ovr')\n",
    "    \n",
    "    print(\"Macro\")\n",
    "    \n",
    "    print(f\"Adv Acc: {accuracy_adv:.4f}\")\n",
    "    print(f\"Adv Prec: {precision_adv:.4f}\")\n",
    "    print(f\"Adv Rec: {recall_adv:.4f}\")\n",
    "    print(f\"Adv F1: {f1_adv:.4f}\")\n",
    "    \n",
    "    print(f\"Adv TPR: {TPR_adv:.4f}\") \n",
    "    print(f\"Adv TNR: {TNR_adv:.4f}\") \n",
    "    print(f\"Adv FPR: {FPR_adv:.4f}\")\n",
    "    print(f\"Adv FNR: {FNR_adv:.4f}\")\n",
    "    \n",
    "    print(f\"Adv AUC: {auc_adv:.4f}\")"
   ]
  },
  {
   "cell_type": "code",
   "execution_count": 161,
   "id": "cfee8c57-9e0c-4707-af20-448fccaad634",
   "metadata": {
    "tags": []
   },
   "outputs": [],
   "source": [
    "def metrics_micro_adv(predictions_adv, y_test, predictions_adv_proba, num_classes):\n",
    "    y_true = y_test\n",
    "    y_pred_adv = np.argmax(predictions_adv, axis=1)\n",
    "\n",
    "    # Acc, Prec, Rec, F1\n",
    "    precision_adv, recall_adv, f1_adv, _ = precision_recall_fscore_support(y_true, y_pred_adv, average='micro')\n",
    "    accuracy_adv = accuracy_score(y_true, y_pred_adv)\n",
    "    \n",
    "    # TPR, TNR, FPR, FNR\n",
    "    cm_adv = confusion_matrix(y_true, y_pred_adv)\n",
    "    TPR_adv, TNR_adv, FPR_adv, FNR_adv = calculate_metrics_micro(cm_adv)\n",
    "    \n",
    "    # Prepare y_test for AUC calculation\n",
    "    y_test_binarized = label_binarize(y_test, classes=np.arange(num_classes))\n",
    "\n",
    "    # AUC\n",
    "    auc_adv = roc_auc_score(y_test_binarized, predictions_adv_proba, average='micro')\n",
    "    \n",
    "    print(\"Micro\")\n",
    "    \n",
    "    print(f\"Adv Acc: {accuracy_adv:.4f}\")\n",
    "    print(f\"Adv Prec: {precision_adv:.4f}\")\n",
    "    print(f\"Adv Rec: {recall_adv:.4f}\")\n",
    "    print(f\"Adv F1: {f1_adv:.4f}\")\n",
    "    \n",
    "    print(f\"Adv TPR: {TPR_adv:.4f}\") \n",
    "    print(f\"Adv TNR: {TNR_adv:.4f}\") \n",
    "    print(f\"Adv FPR: {FPR_adv:.4f}\")\n",
    "    print(f\"Adv FNR: {FNR_adv:.4f}\")\n",
    "    \n",
    "    print(f\"Adv AUC: {auc_adv:.4f}\")"
   ]
  },
  {
   "cell_type": "markdown",
   "id": "d763faba-4dbb-4eaa-a031-f5b0aba85e6f",
   "metadata": {
    "jp-MarkdownHeadingCollapsed": true,
    "tags": []
   },
   "source": [
    "## FGSM"
   ]
  },
  {
   "cell_type": "code",
   "execution_count": 120,
   "id": "9a817166-1fd4-4384-8bd7-e2f908971b39",
   "metadata": {
    "tags": []
   },
   "outputs": [],
   "source": [
    "from art.attacks.evasion import FastGradientMethod"
   ]
  },
  {
   "cell_type": "code",
   "execution_count": 145,
   "id": "fc270e33-a665-4df3-b2b4-f93a74d2725d",
   "metadata": {
    "tags": []
   },
   "outputs": [],
   "source": [
    "def train(model):\n",
    "    criterion = nn.CrossEntropyLoss()\n",
    "    optimizer = optim.Adam(model.parameters(), lr=0.01)\n",
    "    \n",
    "    classifier = PyTorchClassifier(\n",
    "        model=model,\n",
    "        clip_values=(-4, 4), # 4 std devs each direction\n",
    "        loss=criterion,\n",
    "        optimizer=optimizer,\n",
    "        input_shape=(58,), # features\n",
    "        nb_classes=19, # output\n",
    "    )\n",
    "    \n",
    "    start_time = time.time()\n",
    "    classifier.fit(X_train, y_train, batch_size=250, nb_epochs=20)\n",
    "    \n",
    "    # Prediction on perturbated samples\n",
    "    attack = FastGradientMethod(estimator=classifier, eps=0.3)\n",
    "    X_test_adv = attack.generate(x=X_test)\n",
    "    \n",
    "    predictions_adv = classifier.predict(X_test_adv)\n",
    "    accuracy = np.sum(np.argmax(predictions_adv, axis=1) == y_test) / len(y_test)\n",
    "    print(f\"Accuracy on adversarial test examples: {accuracy*100:.2f}%\")\n",
    "    \n",
    "    # Time\n",
    "    training_time = time.time() - start_time\n",
    "    print(f\"Time: {training_time:.2f} seconds\")\n",
    "    \n",
    "    predictions_adv_proba = F.softmax(torch.tensor(predictions_adv), dim=1).numpy()\n",
    "    \n",
    "    return predictions_adv, predictions_adv_proba"
   ]
  },
  {
   "cell_type": "code",
   "execution_count": 147,
   "id": "c0cd1a88-566a-46f4-949a-565f2374c682",
   "metadata": {
    "tags": []
   },
   "outputs": [
    {
     "name": "stdout",
     "output_type": "stream",
     "text": [
      "Accuracy on adversarial test examples: 23.83%\n",
      "Time: 66.02 seconds\n"
     ]
    }
   ],
   "source": [
    "model = DNNMulticlass()\n",
    "predictions_adv_fgsm, predictions_adv_proba_fgsm = train(model)"
   ]
  },
  {
   "cell_type": "code",
   "execution_count": 172,
   "id": "a2396372-d6a3-460e-9b50-7beec0b60ebb",
   "metadata": {
    "tags": []
   },
   "outputs": [
    {
     "name": "stderr",
     "output_type": "stream",
     "text": [
      "/Users/elvin/anaconda3/lib/python3.11/site-packages/sklearn/metrics/_classification.py:1334: UndefinedMetricWarning: Precision and F-score are ill-defined and being set to 0.0 in labels with no predicted samples. Use `zero_division` parameter to control this behavior.\n",
      "  _warn_prf(average, modifier, msg_start, len(result))\n"
     ]
    },
    {
     "name": "stdout",
     "output_type": "stream",
     "text": [
      "Weighted\n",
      "Adv Acc: 0.2383\n",
      "Adv Prec: 0.3185\n",
      "Adv Rec: 0.2383\n",
      "Adv F1: 0.2622\n",
      "Adv TPR: 0.2383\n",
      "Adv TNR: 0.6216\n",
      "Adv FPR: 0.3784\n",
      "Adv FNR: 0.7617\n",
      "Adv AUC: 0.3992\n"
     ]
    }
   ],
   "source": [
    "metrics_weighted_adv(predictions_adv_fgsm, y_test, predictions_adv_proba_fgsm, 19)"
   ]
  },
  {
   "cell_type": "code",
   "execution_count": 168,
   "id": "e28fb516-5267-45a1-899f-3346f5861dee",
   "metadata": {
    "tags": []
   },
   "outputs": [
    {
     "name": "stderr",
     "output_type": "stream",
     "text": [
      "/Users/elvin/anaconda3/lib/python3.11/site-packages/sklearn/metrics/_classification.py:1334: UndefinedMetricWarning: Precision and F-score are ill-defined and being set to 0.0 in labels with no predicted samples. Use `zero_division` parameter to control this behavior.\n",
      "  _warn_prf(average, modifier, msg_start, len(result))\n"
     ]
    },
    {
     "name": "stdout",
     "output_type": "stream",
     "text": [
      "Macro\n",
      "Adv Acc: 0.2383\n",
      "Adv Prec: 0.1814\n",
      "Adv Rec: 0.1028\n",
      "Adv F1: 0.0932\n",
      "Adv TPR: 0.1255\n",
      "Adv TNR: 0.9848\n",
      "Adv FPR: 0.0152\n",
      "Adv FNR: 0.8745\n",
      "Adv AUC: 0.4877\n"
     ]
    }
   ],
   "source": [
    "metrics_macro_adv(predictions_adv_fgsm, y_test, predictions_adv_proba_fgsm, 19)"
   ]
  },
  {
   "cell_type": "code",
   "execution_count": 163,
   "id": "b504e4bb-28f8-4094-90d7-bce056243dd2",
   "metadata": {
    "tags": []
   },
   "outputs": [
    {
     "name": "stdout",
     "output_type": "stream",
     "text": [
      "Micro\n",
      "Adv Acc: 0.2383\n",
      "Adv Prec: 0.2383\n",
      "Adv Rec: 0.2383\n",
      "Adv F1: 0.2383\n",
      "Adv TPR: 0.2383\n",
      "Adv TNR: 0.9558\n",
      "Adv FPR: 0.0442\n",
      "Adv FNR: 0.7617\n",
      "Adv AUC: 0.6669\n"
     ]
    }
   ],
   "source": [
    "metrics_micro_adv(predictions_adv_fgsm, y_test, predictions_adv_proba_fgsm, 19)"
   ]
  },
  {
   "cell_type": "markdown",
   "id": "e15b7885-8773-4dd9-a6bf-0bd93187676c",
   "metadata": {
    "jp-MarkdownHeadingCollapsed": true,
    "tags": []
   },
   "source": [
    "## PGD"
   ]
  },
  {
   "cell_type": "code",
   "execution_count": 175,
   "id": "4ccd5f4c-9e7f-4a08-ac7e-1aa8922264d9",
   "metadata": {
    "tags": []
   },
   "outputs": [],
   "source": [
    "from art.attacks.evasion import ProjectedGradientDescent"
   ]
  },
  {
   "cell_type": "code",
   "execution_count": 192,
   "id": "0f84f1c7-cc34-46e4-a71b-87c499d0fda2",
   "metadata": {
    "tags": []
   },
   "outputs": [],
   "source": [
    "def train(model):\n",
    "    criterion = nn.CrossEntropyLoss()\n",
    "    optimizer = optim.Adam(model.parameters(), lr=0.01)\n",
    "    \n",
    "    classifier = PyTorchClassifier(\n",
    "        model=model,\n",
    "        clip_values=(-5, 5), # 5 std devs each direction\n",
    "        loss=criterion,\n",
    "        optimizer=optimizer,\n",
    "        input_shape=(58,), # features\n",
    "        nb_classes=19, # output\n",
    "    )\n",
    "    \n",
    "    start_time = time.time()\n",
    "    classifier.fit(X_train, y_train, batch_size=64, nb_epochs=5)\n",
    "    \n",
    "    # Prediction on perturbated samples\n",
    "    attack = ProjectedGradientDescent(estimator=classifier, eps=0.3)\n",
    "    X_test_adv = attack.generate(x=X_test)\n",
    "    \n",
    "    predictions_adv = classifier.predict(X_test_adv)\n",
    "    accuracy = np.sum(np.argmax(predictions_adv, axis=1) == y_test) / len(y_test)\n",
    "    print(f\"Accuracy on adversarial test examples: {accuracy*100:.2f}%\")\n",
    "    \n",
    "    # Time\n",
    "    training_time = time.time() - start_time\n",
    "    print(f\"Time: {training_time:.2f} seconds\")\n",
    "    \n",
    "    predictions_adv_proba = F.softmax(torch.tensor(predictions_adv), dim=1).numpy()\n",
    "    \n",
    "    return predictions_adv, predictions_adv_proba"
   ]
  },
  {
   "cell_type": "code",
   "execution_count": 193,
   "id": "28003c26-0296-48fa-8a9c-95cfdd25e6ba",
   "metadata": {
    "tags": []
   },
   "outputs": [
    {
     "data": {
      "application/vnd.jupyter.widget-view+json": {
       "model_id": "",
       "version_major": 2,
       "version_minor": 0
      },
      "text/plain": [
       "PGD - Batches:   0%|          | 0/4383 [00:00<?, ?it/s]"
      ]
     },
     "metadata": {},
     "output_type": "display_data"
    },
    {
     "name": "stdout",
     "output_type": "stream",
     "text": [
      "Accuracy on adversarial test examples: 5.58%\n",
      "Time: 169.02 seconds\n"
     ]
    }
   ],
   "source": [
    "model = DNNMulticlass()\n",
    "predictions_adv_pgd, predictions_adv_proba_pgd = train(model)"
   ]
  },
  {
   "cell_type": "code",
   "execution_count": 194,
   "id": "da4139a6-c43a-49d6-b3eb-e97e03497464",
   "metadata": {
    "tags": []
   },
   "outputs": [
    {
     "name": "stderr",
     "output_type": "stream",
     "text": [
      "/Users/elvin/anaconda3/lib/python3.11/site-packages/sklearn/metrics/_classification.py:1334: UndefinedMetricWarning: Precision and F-score are ill-defined and being set to 0.0 in labels with no predicted samples. Use `zero_division` parameter to control this behavior.\n",
      "  _warn_prf(average, modifier, msg_start, len(result))\n"
     ]
    },
    {
     "name": "stdout",
     "output_type": "stream",
     "text": [
      "Weighted\n",
      "Adv Acc: 0.0558\n",
      "Adv Prec: 0.2851\n",
      "Adv Rec: 0.0558\n",
      "Adv F1: 0.0730\n",
      "Adv TPR: 0.0558\n",
      "Adv TNR: 0.8143\n",
      "Adv FPR: 0.1857\n",
      "Adv FNR: 0.9442\n",
      "Adv AUC: 0.4628\n"
     ]
    }
   ],
   "source": [
    "metrics_weighted_adv(predictions_adv_pgd, y_test, predictions_adv_proba_pgd, 19)"
   ]
  },
  {
   "cell_type": "code",
   "execution_count": 195,
   "id": "953c792d-eba7-4e80-8d7f-13281171e942",
   "metadata": {
    "tags": []
   },
   "outputs": [
    {
     "name": "stderr",
     "output_type": "stream",
     "text": [
      "/Users/elvin/anaconda3/lib/python3.11/site-packages/sklearn/metrics/_classification.py:1334: UndefinedMetricWarning: Precision and F-score are ill-defined and being set to 0.0 in labels with no predicted samples. Use `zero_division` parameter to control this behavior.\n",
      "  _warn_prf(average, modifier, msg_start, len(result))\n"
     ]
    },
    {
     "name": "stdout",
     "output_type": "stream",
     "text": [
      "Macro\n",
      "Adv Acc: 0.0558\n",
      "Adv Prec: 0.0789\n",
      "Adv Rec: 0.0429\n",
      "Adv F1: 0.0116\n",
      "Adv TPR: 0.0676\n",
      "Adv TNR: 0.9320\n",
      "Adv FPR: 0.0680\n",
      "Adv FNR: 0.9324\n",
      "Adv AUC: 0.4431\n"
     ]
    }
   ],
   "source": [
    "metrics_macro_adv(predictions_adv_pgd, y_test, predictions_adv_proba_pgd, 19)"
   ]
  },
  {
   "cell_type": "code",
   "execution_count": 196,
   "id": "b022b01b-9fe4-4ea7-a410-65c797cb63e4",
   "metadata": {
    "tags": []
   },
   "outputs": [
    {
     "name": "stdout",
     "output_type": "stream",
     "text": [
      "Micro\n",
      "Adv Acc: 0.0558\n",
      "Adv Prec: 0.0558\n",
      "Adv Rec: 0.0558\n",
      "Adv F1: 0.0558\n",
      "Adv TPR: 0.0558\n",
      "Adv TNR: 0.9446\n",
      "Adv FPR: 0.0554\n",
      "Adv FNR: 0.9442\n",
      "Adv AUC: 0.5358\n"
     ]
    }
   ],
   "source": [
    "metrics_micro_adv(predictions_adv_pgd, y_test, predictions_adv_proba_pgd, 19)"
   ]
  },
  {
   "cell_type": "markdown",
   "id": "a959f9f3-a0b7-4cc6-b4b5-bea8a9a812e7",
   "metadata": {
    "jp-MarkdownHeadingCollapsed": true,
    "tags": []
   },
   "source": [
    "## BIM"
   ]
  },
  {
   "cell_type": "code",
   "execution_count": 181,
   "id": "c37b6857-7014-42dd-a4fa-3e71147ff709",
   "metadata": {
    "tags": []
   },
   "outputs": [],
   "source": [
    "from art.attacks.evasion import BasicIterativeMethod"
   ]
  },
  {
   "cell_type": "code",
   "execution_count": 190,
   "id": "c947ea33-0ed2-417a-a140-ee177a07b9aa",
   "metadata": {
    "tags": []
   },
   "outputs": [],
   "source": [
    "def train(model):\n",
    "    criterion = nn.CrossEntropyLoss()\n",
    "    optimizer = optim.Adam(model.parameters(), lr=0.01)\n",
    "    \n",
    "    classifier = PyTorchClassifier(\n",
    "        model=model,\n",
    "        clip_values=(-5, 5), # 5 std devs each direction\n",
    "        loss=criterion,\n",
    "        optimizer=optimizer,\n",
    "        input_shape=(58,), # features\n",
    "        nb_classes=19, # output\n",
    "    )\n",
    "    \n",
    "    start_time = time.time()\n",
    "    classifier.fit(X_train, y_train, batch_size=64, nb_epochs=5)\n",
    "    \n",
    "    # Prediction on perturbated samples\n",
    "    attack = BasicIterativeMethod(estimator=classifier, eps=0.3)\n",
    "    X_test_adv = attack.generate(x=X_test)\n",
    "    \n",
    "    predictions_adv = classifier.predict(X_test_adv)\n",
    "    accuracy = np.sum(np.argmax(predictions_adv, axis=1) == y_test) / len(y_test)\n",
    "    print(f\"Accuracy on adversarial test examples: {accuracy*100:.2f}%\")\n",
    "    \n",
    "    # Time\n",
    "    training_time = time.time() - start_time\n",
    "    print(f\"Time: {training_time:.2f} seconds\")\n",
    "    \n",
    "    predictions_adv_proba = F.softmax(torch.tensor(predictions_adv), dim=1).numpy()\n",
    "    \n",
    "    return predictions_adv, predictions_adv_proba"
   ]
  },
  {
   "cell_type": "code",
   "execution_count": 191,
   "id": "4d9ab699-6a4c-4161-bc77-ae9b999dad37",
   "metadata": {
    "tags": []
   },
   "outputs": [
    {
     "data": {
      "application/vnd.jupyter.widget-view+json": {
       "model_id": "",
       "version_major": 2,
       "version_minor": 0
      },
      "text/plain": [
       "PGD - Batches:   0%|          | 0/4383 [00:00<?, ?it/s]"
      ]
     },
     "metadata": {},
     "output_type": "display_data"
    },
    {
     "name": "stdout",
     "output_type": "stream",
     "text": [
      "Accuracy on adversarial test examples: 14.67%\n",
      "Time: 167.32 seconds\n"
     ]
    }
   ],
   "source": [
    "model = DNNMulticlass()\n",
    "predictions_adv_bim, predictions_adv_proba_bim = train(model)"
   ]
  },
  {
   "cell_type": "code",
   "execution_count": 201,
   "id": "d66a96eb-380a-4fe7-8708-e26ee5ff58b2",
   "metadata": {
    "tags": []
   },
   "outputs": [
    {
     "name": "stderr",
     "output_type": "stream",
     "text": [
      "/Users/elvin/anaconda3/lib/python3.11/site-packages/sklearn/metrics/_classification.py:1334: UndefinedMetricWarning: Precision and F-score are ill-defined and being set to 0.0 in labels with no predicted samples. Use `zero_division` parameter to control this behavior.\n",
      "  _warn_prf(average, modifier, msg_start, len(result))\n"
     ]
    },
    {
     "name": "stdout",
     "output_type": "stream",
     "text": [
      "Weighted\n",
      "Adv Acc: 0.1467\n",
      "Adv Prec: 0.2068\n",
      "Adv Rec: 0.1467\n",
      "Adv F1: 0.1699\n",
      "Adv TPR: 0.1467\n",
      "Adv TNR: 0.6059\n",
      "Adv FPR: 0.3941\n",
      "Adv FNR: 0.8533\n",
      "Adv AUC: 0.3682\n"
     ]
    }
   ],
   "source": [
    "metrics_weighted_adv(predictions_adv_bim, y_test, predictions_adv_proba_bim, 19)"
   ]
  },
  {
   "cell_type": "code",
   "execution_count": 202,
   "id": "db53d3d6-89d1-4227-80b0-c7ce29e1c1fe",
   "metadata": {
    "tags": []
   },
   "outputs": [
    {
     "name": "stderr",
     "output_type": "stream",
     "text": [
      "/Users/elvin/anaconda3/lib/python3.11/site-packages/sklearn/metrics/_classification.py:1334: UndefinedMetricWarning: Precision and F-score are ill-defined and being set to 0.0 in labels with no predicted samples. Use `zero_division` parameter to control this behavior.\n",
      "  _warn_prf(average, modifier, msg_start, len(result))\n"
     ]
    },
    {
     "name": "stdout",
     "output_type": "stream",
     "text": [
      "Macro\n",
      "Adv Acc: 0.1467\n",
      "Adv Prec: 0.0406\n",
      "Adv Rec: 0.0723\n",
      "Adv F1: 0.0425\n",
      "Adv TPR: 0.0259\n",
      "Adv TNR: 0.9694\n",
      "Adv FPR: 0.0306\n",
      "Adv FNR: 0.9741\n",
      "Adv AUC: 0.5072\n"
     ]
    }
   ],
   "source": [
    "metrics_macro_adv(predictions_adv_bim, y_test, predictions_adv_proba_bim, 19)"
   ]
  },
  {
   "cell_type": "code",
   "execution_count": 203,
   "id": "7518b09e-cc0c-419d-86bf-7adb2b52d9e8",
   "metadata": {
    "tags": []
   },
   "outputs": [
    {
     "name": "stdout",
     "output_type": "stream",
     "text": [
      "Micro\n",
      "Adv Acc: 0.1467\n",
      "Adv Prec: 0.1467\n",
      "Adv Rec: 0.1467\n",
      "Adv F1: 0.1467\n",
      "Adv TPR: 0.1467\n",
      "Adv TNR: 0.9502\n",
      "Adv FPR: 0.0498\n",
      "Adv FNR: 0.8533\n",
      "Adv AUC: 0.5548\n"
     ]
    }
   ],
   "source": [
    "metrics_micro_adv(predictions_adv_bim, y_test, predictions_adv_proba_bim, 19)"
   ]
  },
  {
   "cell_type": "markdown",
   "id": "24ddf47a-9459-48e3-92c1-b0ced7d06c44",
   "metadata": {
    "jp-MarkdownHeadingCollapsed": true,
    "tags": []
   },
   "source": [
    "## JSM"
   ]
  },
  {
   "cell_type": "code",
   "execution_count": 199,
   "id": "4bcab35c-feed-4b68-9c30-ba7a8f31995e",
   "metadata": {
    "tags": []
   },
   "outputs": [],
   "source": [
    "from art.attacks.evasion import SaliencyMapMethod"
   ]
  },
  {
   "cell_type": "code",
   "execution_count": 207,
   "id": "942b7bbd-87b4-4f5e-8ae4-d4f8f3fc4c1d",
   "metadata": {
    "tags": []
   },
   "outputs": [],
   "source": [
    "def train(model):\n",
    "    criterion = nn.CrossEntropyLoss()\n",
    "    optimizer = optim.Adam(model.parameters(), lr=0.01)\n",
    "    \n",
    "    classifier = PyTorchClassifier(\n",
    "        model=model,\n",
    "        clip_values=(-5, 5), # 5 std devs each direction\n",
    "        loss=criterion,\n",
    "        optimizer=optimizer,\n",
    "        input_shape=(58,), # features\n",
    "        nb_classes=19, # output\n",
    "    )\n",
    "    \n",
    "    start_time = time.time()\n",
    "    classifier.fit(X_train, y_train, batch_size=64, nb_epochs=5)\n",
    "    \n",
    "    # Prediction on perturbated samples\n",
    "    attack = SaliencyMapMethod(classifier=classifier, theta=0.3, batch_size=250)\n",
    "    X_test_adv = attack.generate(x=X_test)\n",
    "    \n",
    "    predictions_adv = classifier.predict(X_test_adv)\n",
    "    accuracy = np.sum(np.argmax(predictions_adv, axis=1) == y_test) / len(y_test)\n",
    "    print(f\"Accuracy on adversarial test examples: {accuracy*100:.2f}%\")\n",
    "    \n",
    "    # Time\n",
    "    training_time = time.time() - start_time\n",
    "    print(f\"Time: {training_time:.2f} seconds\")\n",
    "    \n",
    "    predictions_adv_proba = F.softmax(torch.tensor(predictions_adv), dim=1).numpy()\n",
    "    \n",
    "    return predictions_adv, predictions_adv_proba"
   ]
  },
  {
   "cell_type": "code",
   "execution_count": 208,
   "id": "0cec9ead-7b22-4504-bcc5-5bde220041ee",
   "metadata": {
    "tags": []
   },
   "outputs": [
    {
     "data": {
      "application/vnd.jupyter.widget-view+json": {
       "model_id": "7bfdadfd45ca4932996de6c5b70fc078",
       "version_major": 2,
       "version_minor": 0
      },
      "text/plain": [
       "JSMA:   0%|          | 0/561 [00:00<?, ?it/s]"
      ]
     },
     "metadata": {},
     "output_type": "display_data"
    },
    {
     "name": "stdout",
     "output_type": "stream",
     "text": [
      "Accuracy on adversarial test examples: 1.73%\n",
      "Time: 1301.88 seconds\n"
     ]
    }
   ],
   "source": [
    "model = DNNMulticlass()\n",
    "predictions_adv_jsm, predictions_adv_proba_jsm = train(model)"
   ]
  },
  {
   "cell_type": "code",
   "execution_count": 209,
   "id": "4c8902ed-29cb-4021-8516-6e3e719a15e0",
   "metadata": {
    "tags": []
   },
   "outputs": [
    {
     "name": "stderr",
     "output_type": "stream",
     "text": [
      "/Users/elvin/anaconda3/lib/python3.11/site-packages/sklearn/metrics/_classification.py:1334: UndefinedMetricWarning: Precision and F-score are ill-defined and being set to 0.0 in labels with no predicted samples. Use `zero_division` parameter to control this behavior.\n",
      "  _warn_prf(average, modifier, msg_start, len(result))\n"
     ]
    },
    {
     "name": "stdout",
     "output_type": "stream",
     "text": [
      "Weighted\n",
      "Adv Acc: 0.0173\n",
      "Adv Prec: 0.0005\n",
      "Adv Rec: 0.0173\n",
      "Adv F1: 0.0009\n",
      "Adv TPR: 0.0173\n",
      "Adv TNR: 0.9803\n",
      "Adv FPR: 0.0197\n",
      "Adv FNR: 0.9827\n",
      "Adv AUC: 0.4602\n"
     ]
    }
   ],
   "source": [
    "metrics_weighted_adv(predictions_adv_jsm, y_test, predictions_adv_proba_jsm, 19)"
   ]
  },
  {
   "cell_type": "code",
   "execution_count": 210,
   "id": "678080f6-c718-4974-a7e0-74b96fef782e",
   "metadata": {
    "tags": []
   },
   "outputs": [
    {
     "name": "stderr",
     "output_type": "stream",
     "text": [
      "/Users/elvin/anaconda3/lib/python3.11/site-packages/sklearn/metrics/_classification.py:1334: UndefinedMetricWarning: Precision and F-score are ill-defined and being set to 0.0 in labels with no predicted samples. Use `zero_division` parameter to control this behavior.\n",
      "  _warn_prf(average, modifier, msg_start, len(result))\n"
     ]
    },
    {
     "name": "stdout",
     "output_type": "stream",
     "text": [
      "Macro\n",
      "Adv Acc: 0.0173\n",
      "Adv Prec: 0.0013\n",
      "Adv Rec: 0.0455\n",
      "Adv F1: 0.0024\n",
      "Adv TPR: 0.0000\n",
      "Adv TNR: 0.9892\n",
      "Adv FPR: 0.0108\n",
      "Adv FNR: 1.0000\n",
      "Adv AUC: 0.4963\n"
     ]
    }
   ],
   "source": [
    "metrics_macro_adv(predictions_adv_jsm, y_test, predictions_adv_proba_jsm, 19)"
   ]
  },
  {
   "cell_type": "code",
   "execution_count": 211,
   "id": "557b2aaa-c001-4456-93fd-709e1e1ac750",
   "metadata": {
    "tags": []
   },
   "outputs": [
    {
     "name": "stdout",
     "output_type": "stream",
     "text": [
      "Micro\n",
      "Adv Acc: 0.0173\n",
      "Adv Prec: 0.0173\n",
      "Adv Rec: 0.0173\n",
      "Adv F1: 0.0173\n",
      "Adv TPR: 0.0173\n",
      "Adv TNR: 0.9423\n",
      "Adv FPR: 0.0577\n",
      "Adv FNR: 0.9827\n",
      "Adv AUC: 0.4618\n"
     ]
    }
   ],
   "source": [
    "metrics_micro_adv(predictions_adv_jsm, y_test, predictions_adv_proba_jsm, 19)"
   ]
  },
  {
   "cell_type": "markdown",
   "id": "58a24de3-dbd8-4d7e-938f-dc53732304e7",
   "metadata": {
    "jp-MarkdownHeadingCollapsed": true,
    "tags": []
   },
   "source": [
    "## DF"
   ]
  },
  {
   "cell_type": "code",
   "execution_count": 213,
   "id": "785510cd-f0c8-40a7-bb52-d1222b230a77",
   "metadata": {
    "tags": []
   },
   "outputs": [],
   "source": [
    "from art.attacks.evasion import DeepFool"
   ]
  },
  {
   "cell_type": "code",
   "execution_count": 214,
   "id": "bc9698af-ad85-4c03-a345-d8ffbc6ae418",
   "metadata": {
    "tags": []
   },
   "outputs": [],
   "source": [
    "def train(model):\n",
    "    criterion = nn.CrossEntropyLoss()\n",
    "    optimizer = optim.Adam(model.parameters(), lr=0.01)\n",
    "    \n",
    "    classifier = PyTorchClassifier(\n",
    "        model=model,\n",
    "        clip_values=(-5, 5), # 5 std devs each direction\n",
    "        loss=criterion,\n",
    "        optimizer=optimizer,\n",
    "        input_shape=(58,), # features\n",
    "        nb_classes=19, # output\n",
    "    )\n",
    "    \n",
    "    start_time = time.time()\n",
    "    classifier.fit(X_train, y_train, batch_size=64, nb_epochs=5)\n",
    "    \n",
    "    # Prediction on perturbated samples\n",
    "    attack = DeepFool(classifier=classifier, max_iter=10)\n",
    "    X_test_adv = attack.generate(x=X_test)\n",
    "    \n",
    "    predictions_adv = classifier.predict(X_test_adv)\n",
    "    accuracy = np.sum(np.argmax(predictions_adv, axis=1) == y_test) / len(y_test)\n",
    "    print(f\"Accuracy on adversarial test examples: {accuracy*100:.2f}%\")\n",
    "    \n",
    "    # Time\n",
    "    training_time = time.time() - start_time\n",
    "    print(f\"Time: {training_time:.2f} seconds\")\n",
    "    \n",
    "    predictions_adv_proba = F.softmax(torch.tensor(predictions_adv), dim=1).numpy()\n",
    "    \n",
    "    return predictions_adv, predictions_adv_proba"
   ]
  },
  {
   "cell_type": "code",
   "execution_count": 215,
   "id": "5228c55b-0d26-447a-8012-93f4a8b2d386",
   "metadata": {
    "tags": []
   },
   "outputs": [
    {
     "data": {
      "application/vnd.jupyter.widget-view+json": {
       "model_id": "5661ca2a236d4693998d631726d135fa",
       "version_major": 2,
       "version_minor": 0
      },
      "text/plain": [
       "DeepFool:   0%|          | 0/140230 [00:00<?, ?it/s]"
      ]
     },
     "metadata": {},
     "output_type": "display_data"
    },
    {
     "name": "stdout",
     "output_type": "stream",
     "text": [
      "Accuracy on adversarial test examples: 2.36%\n",
      "Time: 1382.17 seconds\n"
     ]
    }
   ],
   "source": [
    "model = DNNMulticlass()\n",
    "predictions_adv_df, predictions_adv_proba_df = train(model)"
   ]
  },
  {
   "cell_type": "code",
   "execution_count": 234,
   "id": "95f8522c-a07d-4371-97d3-de09dc3339d4",
   "metadata": {
    "tags": []
   },
   "outputs": [
    {
     "name": "stderr",
     "output_type": "stream",
     "text": [
      "/Users/elvin/anaconda3/lib/python3.11/site-packages/sklearn/metrics/_classification.py:1334: UndefinedMetricWarning: Precision and F-score are ill-defined and being set to 0.0 in labels with no predicted samples. Use `zero_division` parameter to control this behavior.\n",
      "  _warn_prf(average, modifier, msg_start, len(result))\n"
     ]
    },
    {
     "name": "stdout",
     "output_type": "stream",
     "text": [
      "Weighted\n",
      "Adv Acc: 0.0236\n",
      "Adv Prec: 0.0281\n",
      "Adv Rec: 0.0236\n",
      "Adv F1: 0.0217\n",
      "Adv TPR: 0.0236\n",
      "Adv TNR: 0.6452\n",
      "Adv FPR: 0.3548\n",
      "Adv FNR: 0.9764\n",
      "Adv AUC: 0.3118\n"
     ]
    }
   ],
   "source": [
    "metrics_weighted_adv(predictions_adv_df, y_test, predictions_adv_proba_df, 19)"
   ]
  },
  {
   "cell_type": "code",
   "execution_count": 235,
   "id": "e137cb59-600a-483c-8c1f-14e41ef415b0",
   "metadata": {
    "tags": []
   },
   "outputs": [
    {
     "name": "stderr",
     "output_type": "stream",
     "text": [
      "/Users/elvin/anaconda3/lib/python3.11/site-packages/sklearn/metrics/_classification.py:1334: UndefinedMetricWarning: Precision and F-score are ill-defined and being set to 0.0 in labels with no predicted samples. Use `zero_division` parameter to control this behavior.\n",
      "  _warn_prf(average, modifier, msg_start, len(result))\n"
     ]
    },
    {
     "name": "stdout",
     "output_type": "stream",
     "text": [
      "Macro\n",
      "Adv Acc: 0.0236\n",
      "Adv Prec: 0.0741\n",
      "Adv Rec: 0.0461\n",
      "Adv F1: 0.0427\n",
      "Adv TPR: 0.0426\n",
      "Adv TNR: 0.9306\n",
      "Adv FPR: 0.0694\n",
      "Adv FNR: 0.9574\n",
      "Adv AUC: 0.5474\n"
     ]
    }
   ],
   "source": [
    "metrics_macro_adv(predictions_adv_df, y_test, predictions_adv_proba_df, 19)"
   ]
  },
  {
   "cell_type": "code",
   "execution_count": 236,
   "id": "d879925f-8f83-4b46-8d82-82fc0ac9017e",
   "metadata": {
    "tags": []
   },
   "outputs": [
    {
     "name": "stdout",
     "output_type": "stream",
     "text": [
      "Micro\n",
      "Adv Acc: 0.0236\n",
      "Adv Prec: 0.0236\n",
      "Adv Rec: 0.0236\n",
      "Adv F1: 0.0236\n",
      "Adv TPR: 0.0236\n",
      "Adv TNR: 0.9426\n",
      "Adv FPR: 0.0574\n",
      "Adv FNR: 0.9764\n",
      "Adv AUC: 0.5928\n"
     ]
    }
   ],
   "source": [
    "metrics_micro_adv(predictions_adv_df, y_test, predictions_adv_proba_df, 19)"
   ]
  },
  {
   "cell_type": "markdown",
   "id": "3d00f9ad-e0dc-4362-adb1-c89c362e4319",
   "metadata": {
    "jp-MarkdownHeadingCollapsed": true,
    "tags": []
   },
   "source": [
    "## C&W (L_2)"
   ]
  },
  {
   "cell_type": "code",
   "execution_count": 216,
   "id": "a563c77d-d984-4dad-a319-ca049bea9da7",
   "metadata": {
    "tags": []
   },
   "outputs": [],
   "source": [
    "from art.attacks.evasion import CarliniL2Method"
   ]
  },
  {
   "cell_type": "code",
   "execution_count": 218,
   "id": "2d488f25-788a-4c73-be4f-5854843ff385",
   "metadata": {
    "tags": []
   },
   "outputs": [],
   "source": [
    "def train(model):\n",
    "    criterion = nn.CrossEntropyLoss()\n",
    "    optimizer = optim.Adam(model.parameters(), lr=0.01)\n",
    "    \n",
    "    classifier = PyTorchClassifier(\n",
    "        model=model,\n",
    "        clip_values=(-5, 5), # 5 std devs each direction\n",
    "        loss=criterion,\n",
    "        optimizer=optimizer,\n",
    "        input_shape=(58,), # features\n",
    "        nb_classes=19, # output\n",
    "    )\n",
    "    \n",
    "    start_time = time.time()\n",
    "    classifier.fit(X_train, y_train, batch_size=64, nb_epochs=5)\n",
    "    \n",
    "    # Prediction on perturbated samples\n",
    "    attack = CarliniL2Method(classifier=classifier, max_iter=10)\n",
    "    X_test_adv = attack.generate(x=X_test)\n",
    "    \n",
    "    predictions_adv = classifier.predict(X_test_adv)\n",
    "    accuracy = np.sum(np.argmax(predictions_adv, axis=1) == y_test) / len(y_test)\n",
    "    print(f\"Accuracy on adversarial test examples: {accuracy*100:.2f}%\")\n",
    "    \n",
    "    # Time\n",
    "    training_time = time.time() - start_time\n",
    "    print(f\"Time: {training_time:.2f} seconds\")\n",
    "    \n",
    "    predictions_adv_proba = F.softmax(torch.tensor(predictions_adv), dim=1).numpy()\n",
    "    \n",
    "    return predictions_adv, predictions_adv_proba"
   ]
  },
  {
   "cell_type": "code",
   "execution_count": 219,
   "id": "baa8b6f9-8c86-4b65-9e45-0cd1000f916a",
   "metadata": {
    "tags": []
   },
   "outputs": [
    {
     "data": {
      "application/vnd.jupyter.widget-view+json": {
       "model_id": "af714d01a52549098a569a0aa60e186e",
       "version_major": 2,
       "version_minor": 0
      },
      "text/plain": [
       "C&W L_2:   0%|          | 0/140230 [00:00<?, ?it/s]"
      ]
     },
     "metadata": {},
     "output_type": "display_data"
    },
    {
     "name": "stdout",
     "output_type": "stream",
     "text": [
      "Accuracy on adversarial test examples: 3.20%\n",
      "Time: 14110.55 seconds\n"
     ]
    }
   ],
   "source": [
    "model = DNNMulticlass()\n",
    "predictions_adv_cw_l2, predictions_adv_proba_cw_l2 = train(model)"
   ]
  },
  {
   "cell_type": "code",
   "execution_count": 231,
   "id": "6078a6b4-5e1c-4df8-906c-73201c60eb97",
   "metadata": {
    "tags": []
   },
   "outputs": [
    {
     "name": "stderr",
     "output_type": "stream",
     "text": [
      "/Users/elvin/anaconda3/lib/python3.11/site-packages/sklearn/metrics/_classification.py:1334: UndefinedMetricWarning: Precision and F-score are ill-defined and being set to 0.0 in labels with no predicted samples. Use `zero_division` parameter to control this behavior.\n",
      "  _warn_prf(average, modifier, msg_start, len(result))\n"
     ]
    },
    {
     "name": "stdout",
     "output_type": "stream",
     "text": [
      "Weighted\n",
      "Adv Acc: 0.0320\n",
      "Adv Prec: 0.0341\n",
      "Adv Rec: 0.0320\n",
      "Adv F1: 0.0197\n",
      "Adv TPR: 0.0320\n",
      "Adv TNR: 0.7668\n",
      "Adv FPR: 0.2332\n",
      "Adv FNR: 0.9680\n",
      "Adv AUC: 0.6776\n"
     ]
    }
   ],
   "source": [
    "metrics_weighted_adv(predictions_adv_cw_l2, y_test, predictions_adv_proba_cw_l2, 19)"
   ]
  },
  {
   "cell_type": "code",
   "execution_count": 232,
   "id": "4bf05d4c-1a20-4862-822a-4e9d4210b9ea",
   "metadata": {
    "tags": []
   },
   "outputs": [
    {
     "name": "stderr",
     "output_type": "stream",
     "text": [
      "/Users/elvin/anaconda3/lib/python3.11/site-packages/sklearn/metrics/_classification.py:1334: UndefinedMetricWarning: Precision and F-score are ill-defined and being set to 0.0 in labels with no predicted samples. Use `zero_division` parameter to control this behavior.\n",
      "  _warn_prf(average, modifier, msg_start, len(result))\n"
     ]
    },
    {
     "name": "stdout",
     "output_type": "stream",
     "text": [
      "Macro\n",
      "Adv Acc: 0.0320\n",
      "Adv Prec: 0.0541\n",
      "Adv Rec: 0.1242\n",
      "Adv F1: 0.0468\n",
      "Adv TPR: 0.0833\n",
      "Adv TNR: 0.9544\n",
      "Adv FPR: 0.0456\n",
      "Adv FNR: 0.9167\n",
      "Adv AUC: 0.8592\n"
     ]
    }
   ],
   "source": [
    "metrics_macro_adv(predictions_adv_cw_l2, y_test, predictions_adv_proba_cw_l2, 19)"
   ]
  },
  {
   "cell_type": "code",
   "execution_count": 233,
   "id": "4325f1d9-791c-4bba-8397-692fc02a5c31",
   "metadata": {
    "tags": []
   },
   "outputs": [
    {
     "name": "stdout",
     "output_type": "stream",
     "text": [
      "Micro\n",
      "Adv Acc: 0.0320\n",
      "Adv Prec: 0.0320\n",
      "Adv Rec: 0.0320\n",
      "Adv F1: 0.0320\n",
      "Adv TPR: 0.0320\n",
      "Adv TNR: 0.9432\n",
      "Adv FPR: 0.0568\n",
      "Adv FNR: 0.9680\n",
      "Adv AUC: 0.8990\n"
     ]
    }
   ],
   "source": [
    "metrics_micro_adv(predictions_adv_cw_l2, y_test, predictions_adv_proba_cw_l2, 19)"
   ]
  },
  {
   "cell_type": "markdown",
   "id": "2d4b4555-142c-4ef2-9ce8-a062a8f0d577",
   "metadata": {
    "jp-MarkdownHeadingCollapsed": true,
    "tags": []
   },
   "source": [
    "## C&W (L_inf)"
   ]
  },
  {
   "cell_type": "code",
   "execution_count": 217,
   "id": "7ea0f37c-ed1f-4d86-9ec9-de3c8c43acc1",
   "metadata": {
    "tags": []
   },
   "outputs": [],
   "source": [
    "from art.attacks.evasion import CarliniLInfMethod"
   ]
  },
  {
   "cell_type": "code",
   "execution_count": 220,
   "id": "a60fcbbf-5545-48bb-8195-256537c2edda",
   "metadata": {
    "tags": []
   },
   "outputs": [],
   "source": [
    "def train(model):\n",
    "    criterion = nn.CrossEntropyLoss()\n",
    "    optimizer = optim.Adam(model.parameters(), lr=0.01)\n",
    "    \n",
    "    classifier = PyTorchClassifier(\n",
    "        model=model,\n",
    "        clip_values=(-5, 5), # 5 std devs each direction\n",
    "        loss=criterion,\n",
    "        optimizer=optimizer,\n",
    "        input_shape=(58,), # features\n",
    "        nb_classes=19, # output\n",
    "    )\n",
    "    \n",
    "    start_time = time.time()\n",
    "    classifier.fit(X_train, y_train, batch_size=64, nb_epochs=5)\n",
    "    \n",
    "    # Prediction on perturbated samples\n",
    "    attack = CarliniLInfMethod(classifier=classifier, max_iter=5)\n",
    "    X_test_adv = attack.generate(x=X_test)\n",
    "    \n",
    "    predictions_adv = classifier.predict(X_test_adv)\n",
    "    accuracy = np.sum(np.argmax(predictions_adv, axis=1) == y_test) / len(y_test)\n",
    "    print(f\"Accuracy on adversarial test examples: {accuracy*100:.2f}%\")\n",
    "    \n",
    "    # Time\n",
    "    training_time = time.time() - start_time\n",
    "    print(f\"Time: {training_time:.2f} seconds\")\n",
    "    \n",
    "    predictions_adv_proba = F.softmax(torch.tensor(predictions_adv), dim=1).numpy()\n",
    "    \n",
    "    return predictions_adv, predictions_adv_proba"
   ]
  },
  {
   "cell_type": "code",
   "execution_count": 221,
   "id": "7a547ef6-0910-47ca-9368-f13479512100",
   "metadata": {
    "tags": []
   },
   "outputs": [
    {
     "data": {
      "application/vnd.jupyter.widget-view+json": {
       "model_id": "d172cd9f4c9a4c56a9f3732f9c4306d9",
       "version_major": 2,
       "version_minor": 0
      },
      "text/plain": [
       "C&W L_inf:   0%|          | 0/140230 [00:00<?, ?it/s]"
      ]
     },
     "metadata": {},
     "output_type": "display_data"
    },
    {
     "name": "stdout",
     "output_type": "stream",
     "text": [
      "Accuracy on adversarial test examples: 14.66%\n",
      "Time: 12045.47 seconds\n"
     ]
    }
   ],
   "source": [
    "model = DNNMulticlass()\n",
    "predictions_adv_cw_linf, predictions_adv_proba_cw_linf = train(model)"
   ]
  },
  {
   "cell_type": "code",
   "execution_count": 225,
   "id": "5987b110-95a2-446d-bcf0-d056dbe54cca",
   "metadata": {
    "tags": []
   },
   "outputs": [
    {
     "name": "stderr",
     "output_type": "stream",
     "text": [
      "/Users/elvin/anaconda3/lib/python3.11/site-packages/sklearn/metrics/_classification.py:1334: UndefinedMetricWarning: Precision and F-score are ill-defined and being set to 0.0 in labels with no predicted samples. Use `zero_division` parameter to control this behavior.\n",
      "  _warn_prf(average, modifier, msg_start, len(result))\n"
     ]
    },
    {
     "name": "stdout",
     "output_type": "stream",
     "text": [
      "Weighted\n",
      "Adv Acc: 0.1466\n",
      "Adv Prec: 0.2512\n",
      "Adv Rec: 0.1466\n",
      "Adv F1: 0.1744\n",
      "Adv TPR: 0.1466\n",
      "Adv TNR: 0.7279\n",
      "Adv FPR: 0.2721\n",
      "Adv FNR: 0.8534\n",
      "Adv AUC: 0.4891\n"
     ]
    }
   ],
   "source": [
    "metrics_weighted_adv(predictions_adv_cw_linf, y_test, predictions_adv_proba_cw_linf, 19)"
   ]
  },
  {
   "cell_type": "code",
   "execution_count": 226,
   "id": "edcafb39-52ab-4152-b157-2628fcfdda8d",
   "metadata": {
    "tags": []
   },
   "outputs": [
    {
     "name": "stderr",
     "output_type": "stream",
     "text": [
      "/Users/elvin/anaconda3/lib/python3.11/site-packages/sklearn/metrics/_classification.py:1334: UndefinedMetricWarning: Precision and F-score are ill-defined and being set to 0.0 in labels with no predicted samples. Use `zero_division` parameter to control this behavior.\n",
      "  _warn_prf(average, modifier, msg_start, len(result))\n"
     ]
    },
    {
     "name": "stdout",
     "output_type": "stream",
     "text": [
      "Macro\n",
      "Adv Acc: 0.1466\n",
      "Adv Prec: 0.0461\n",
      "Adv Rec: 0.1397\n",
      "Adv F1: 0.0359\n",
      "Adv TPR: 0.1245\n",
      "Adv TNR: 0.9824\n",
      "Adv FPR: 0.0176\n",
      "Adv FNR: 0.8755\n",
      "Adv AUC: 0.6040\n"
     ]
    }
   ],
   "source": [
    "metrics_macro_adv(predictions_adv_cw_linf, y_test, predictions_adv_proba_cw_linf, 19)"
   ]
  },
  {
   "cell_type": "code",
   "execution_count": 227,
   "id": "b8e6ae06-0ab0-43ae-9243-18c765717e6e",
   "metadata": {
    "tags": []
   },
   "outputs": [
    {
     "name": "stdout",
     "output_type": "stream",
     "text": [
      "Micro\n",
      "Adv Acc: 0.1466\n",
      "Adv Prec: 0.1466\n",
      "Adv Rec: 0.1466\n",
      "Adv F1: 0.1466\n",
      "Adv TPR: 0.1466\n",
      "Adv TNR: 0.9502\n",
      "Adv FPR: 0.0498\n",
      "Adv FNR: 0.8534\n",
      "Adv AUC: 0.7057\n"
     ]
    }
   ],
   "source": [
    "metrics_micro_adv(predictions_adv_cw_linf, y_test, predictions_adv_proba_cw_linf, 19)"
   ]
  },
  {
   "cell_type": "markdown",
   "id": "e770ed8a-7bc6-4f51-a11e-9993c657970f",
   "metadata": {
    "jp-MarkdownHeadingCollapsed": true,
    "tags": []
   },
   "source": [
    "## EN"
   ]
  },
  {
   "cell_type": "code",
   "execution_count": 222,
   "id": "7e8fb276-d291-4435-8a2a-a7af02e304ee",
   "metadata": {
    "tags": []
   },
   "outputs": [],
   "source": [
    "from art.attacks.evasion import ElasticNet"
   ]
  },
  {
   "cell_type": "code",
   "execution_count": 223,
   "id": "af6099de-97e8-494a-b4a3-65fa67ba4e06",
   "metadata": {
    "tags": []
   },
   "outputs": [],
   "source": [
    "def train(model):\n",
    "    criterion = nn.CrossEntropyLoss()\n",
    "    optimizer = optim.Adam(model.parameters(), lr=0.01)\n",
    "    \n",
    "    classifier = PyTorchClassifier(\n",
    "        model=model,\n",
    "        clip_values=(-5, 5), # 5 std devs each direction\n",
    "        loss=criterion,\n",
    "        optimizer=optimizer,\n",
    "        input_shape=(58,), # features\n",
    "        nb_classes=19, # output\n",
    "    )\n",
    "    \n",
    "    start_time = time.time()\n",
    "    classifier.fit(X_train, y_train, batch_size=64, nb_epochs=5)\n",
    "    \n",
    "    # Prediction on perturbated samples\n",
    "    attack = ElasticNet(classifier=classifier, max_iter=3)\n",
    "    X_test_adv = attack.generate(x=X_test)\n",
    "    \n",
    "    predictions_adv = classifier.predict(X_test_adv)\n",
    "    accuracy = np.sum(np.argmax(predictions_adv, axis=1) == y_test) / len(y_test)\n",
    "    print(f\"Accuracy on adversarial test examples: {accuracy*100:.2f}%\")\n",
    "    \n",
    "    # Time\n",
    "    training_time = time.time() - start_time\n",
    "    print(f\"Time: {training_time:.2f} seconds\")\n",
    "    \n",
    "    predictions_adv_proba = F.softmax(torch.tensor(predictions_adv), dim=1).numpy()\n",
    "    \n",
    "    return predictions_adv, predictions_adv_proba"
   ]
  },
  {
   "cell_type": "code",
   "execution_count": 224,
   "id": "02b59753-8f49-40eb-ac1e-5700a2830922",
   "metadata": {
    "tags": []
   },
   "outputs": [
    {
     "data": {
      "application/vnd.jupyter.widget-view+json": {
       "model_id": "a9e46200a3dc492b984fb893698b2de3",
       "version_major": 2,
       "version_minor": 0
      },
      "text/plain": [
       "EAD:   0%|          | 0/140230 [00:00<?, ?it/s]"
      ]
     },
     "metadata": {},
     "output_type": "display_data"
    },
    {
     "name": "stdout",
     "output_type": "stream",
     "text": [
      "Accuracy on adversarial test examples: 3.50%\n",
      "Time: 2382.61 seconds\n"
     ]
    }
   ],
   "source": [
    "model = DNNMulticlass()\n",
    "predictions_adv_en, predictions_adv_proba_en = train(model)"
   ]
  },
  {
   "cell_type": "code",
   "execution_count": 228,
   "id": "eb91d59e-4281-4db2-9fa9-d07b78007195",
   "metadata": {
    "tags": []
   },
   "outputs": [
    {
     "name": "stderr",
     "output_type": "stream",
     "text": [
      "/Users/elvin/anaconda3/lib/python3.11/site-packages/sklearn/metrics/_classification.py:1334: UndefinedMetricWarning: Precision and F-score are ill-defined and being set to 0.0 in labels with no predicted samples. Use `zero_division` parameter to control this behavior.\n",
      "  _warn_prf(average, modifier, msg_start, len(result))\n"
     ]
    },
    {
     "name": "stdout",
     "output_type": "stream",
     "text": [
      "Weighted\n",
      "Adv Acc: 0.0350\n",
      "Adv Prec: 0.0547\n",
      "Adv Rec: 0.0350\n",
      "Adv F1: 0.0252\n",
      "Adv TPR: 0.0350\n",
      "Adv TNR: 0.7573\n",
      "Adv FPR: 0.2427\n",
      "Adv FNR: 0.9650\n",
      "Adv AUC: 0.6590\n"
     ]
    }
   ],
   "source": [
    "metrics_weighted_adv(predictions_adv_en, y_test, predictions_adv_proba_en, 19)"
   ]
  },
  {
   "cell_type": "code",
   "execution_count": 229,
   "id": "5a51d1f5-c695-489b-9daa-03e3d369d5c2",
   "metadata": {
    "tags": []
   },
   "outputs": [
    {
     "name": "stderr",
     "output_type": "stream",
     "text": [
      "/Users/elvin/anaconda3/lib/python3.11/site-packages/sklearn/metrics/_classification.py:1334: UndefinedMetricWarning: Precision and F-score are ill-defined and being set to 0.0 in labels with no predicted samples. Use `zero_division` parameter to control this behavior.\n",
      "  _warn_prf(average, modifier, msg_start, len(result))\n"
     ]
    },
    {
     "name": "stdout",
     "output_type": "stream",
     "text": [
      "Macro\n",
      "Adv Acc: 0.0350\n",
      "Adv Prec: 0.0407\n",
      "Adv Rec: 0.0777\n",
      "Adv F1: 0.0396\n",
      "Adv TPR: 0.0835\n",
      "Adv TNR: 0.9622\n",
      "Adv FPR: 0.0378\n",
      "Adv FNR: 0.9165\n",
      "Adv AUC: 0.8276\n"
     ]
    }
   ],
   "source": [
    "metrics_macro_adv(predictions_adv_en, y_test, predictions_adv_proba_en, 19)"
   ]
  },
  {
   "cell_type": "code",
   "execution_count": 230,
   "id": "685f25af-210a-4955-a541-4ec062e395fb",
   "metadata": {
    "tags": []
   },
   "outputs": [
    {
     "name": "stdout",
     "output_type": "stream",
     "text": [
      "Micro\n",
      "Adv Acc: 0.0350\n",
      "Adv Prec: 0.0350\n",
      "Adv Rec: 0.0350\n",
      "Adv F1: 0.0350\n",
      "Adv TPR: 0.0350\n",
      "Adv TNR: 0.9434\n",
      "Adv FPR: 0.0566\n",
      "Adv FNR: 0.9650\n",
      "Adv AUC: 0.8718\n"
     ]
    }
   ],
   "source": [
    "metrics_micro_adv(predictions_adv_en, y_test, predictions_adv_proba_en, 19)"
   ]
  },
  {
   "cell_type": "code",
   "execution_count": null,
   "id": "4a148bb2-552e-4523-8248-8ca2d79b15cf",
   "metadata": {},
   "outputs": [],
   "source": []
  }
 ],
 "metadata": {
  "kernelspec": {
   "display_name": "Python 3 (ipykernel)",
   "language": "python",
   "name": "python3"
  },
  "language_info": {
   "codemirror_mode": {
    "name": "ipython",
    "version": 3
   },
   "file_extension": ".py",
   "mimetype": "text/x-python",
   "name": "python",
   "nbconvert_exporter": "python",
   "pygments_lexer": "ipython3",
   "version": "3.11.5"
  }
 },
 "nbformat": 4,
 "nbformat_minor": 5
}
