{
 "cells": [
  {
   "cell_type": "markdown",
   "id": "58e7346d-fd25-4a14-977c-3a4ee9e3d8f1",
   "metadata": {},
   "source": [
    "# **Basic Iterative Method**"
   ]
  },
  {
   "cell_type": "markdown",
   "id": "6234c632-0ad8-4b9c-abeb-446da44d77f2",
   "metadata": {
    "jp-MarkdownHeadingCollapsed": true,
    "tags": []
   },
   "source": [
    "# Imports"
   ]
  },
  {
   "cell_type": "code",
   "execution_count": 1,
   "id": "0dff2229-e24c-4f13-9dc3-d296f73d2c8d",
   "metadata": {
    "tags": []
   },
   "outputs": [],
   "source": [
    "import torch\n",
    "import torch.nn as nn\n",
    "import torch.nn.functional as F\n",
    "import torch.optim as optim\n",
    "\n",
    "import numpy as np\n",
    "import pandas as pd\n",
    "import matplotlib.pyplot as plt\n",
    "\n",
    "import time\n",
    "\n",
    "from sklearn.model_selection import train_test_split\n",
    "from sklearn.metrics import precision_recall_fscore_support, accuracy_score, confusion_matrix, roc_auc_score\n",
    "from sklearn.preprocessing import label_binarize"
   ]
  },
  {
   "cell_type": "code",
   "execution_count": 2,
   "id": "f358ddbb-4264-4c67-b8cb-df81035bb62f",
   "metadata": {
    "tags": []
   },
   "outputs": [],
   "source": [
    "from art.attacks.evasion import BasicIterativeMethod\n",
    "from art.estimators.classification import PyTorchClassifier\n",
    "from art.utils import load_mnist"
   ]
  },
  {
   "cell_type": "markdown",
   "id": "1af6baa1-d691-4899-86be-254117f49a17",
   "metadata": {
    "tags": []
   },
   "source": [
    "# Data"
   ]
  },
  {
   "cell_type": "code",
   "execution_count": 3,
   "id": "fa87cf2b-4056-48e7-8db1-0a0be618973b",
   "metadata": {
    "tags": []
   },
   "outputs": [],
   "source": [
    "(X_train, y_train), (X_test, y_test), min_pixel_value, max_pixel_value = load_mnist()"
   ]
  },
  {
   "cell_type": "code",
   "execution_count": 4,
   "id": "c5a53e96-71ba-4ba2-97f1-6c884b7e7d65",
   "metadata": {
    "tags": []
   },
   "outputs": [],
   "source": [
    "X_train = np.transpose(X_train, (0, 3, 1, 2)).astype(np.float32)\n",
    "X_test = np.transpose(X_test, (0, 3, 1, 2)).astype(np.float32)"
   ]
  },
  {
   "cell_type": "markdown",
   "id": "5219c508-a9a6-4df7-8a4d-70fcc6246e77",
   "metadata": {
    "tags": []
   },
   "source": [
    "# Model"
   ]
  },
  {
   "cell_type": "code",
   "execution_count": 5,
   "id": "74e904a0-4b49-4184-9bf4-f98ffa7913a9",
   "metadata": {
    "tags": []
   },
   "outputs": [],
   "source": [
    "class MNIST_NN(nn.Module):\n",
    "    def __init__(self):\n",
    "        super(MNIST_NN, self).__init__()\n",
    "        self.conv_1 = nn.Conv2d(in_channels=1, out_channels=4, kernel_size=5, stride=1)\n",
    "        self.conv_2 = nn.Conv2d(in_channels=4, out_channels=10, kernel_size=5, stride=1)\n",
    "        self.fc_1 = nn.Linear(in_features=4 * 4 * 10, out_features=100)\n",
    "        self.fc_2 = nn.Linear(in_features=100, out_features=10)\n",
    "\n",
    "    def forward(self, x):\n",
    "        x = F.relu(self.conv_1(x))\n",
    "        x = F.max_pool2d(x, 2, 2)\n",
    "        x = F.relu(self.conv_2(x))\n",
    "        x = F.max_pool2d(x, 2, 2)\n",
    "        x = x.view(-1, 4 * 4 * 10)\n",
    "        x = F.relu(self.fc_1(x))\n",
    "        x = self.fc_2(x)\n",
    "        return x"
   ]
  },
  {
   "cell_type": "code",
   "execution_count": 19,
   "id": "ed6c994e-6e4d-4d81-acb2-5c12ae90f339",
   "metadata": {
    "tags": []
   },
   "outputs": [],
   "source": [
    "def train(model):\n",
    "    criterion = nn.CrossEntropyLoss()\n",
    "    optimizer = optim.Adam(model.parameters(), lr=0.01)\n",
    "    \n",
    "    classifier = PyTorchClassifier(\n",
    "        model=model,\n",
    "        clip_values=(min_pixel_value, max_pixel_value),\n",
    "        loss=criterion,\n",
    "        optimizer=optimizer,\n",
    "        input_shape=(1, 28, 28),\n",
    "        nb_classes=10,\n",
    "    )\n",
    "    \n",
    "    start_time = time.time()\n",
    "    classifier.fit(X_train, y_train, batch_size=64, nb_epochs=5)\n",
    "    \n",
    "    # Prediction on normal X_test samples\n",
    "    predictions_benign = classifier.predict(X_test)\n",
    "    accuracy = np.sum(np.argmax(predictions_benign, axis=1) == np.argmax(y_test, axis=1)) / len(y_test)\n",
    "    print(\"Accuracy on benign test examples: {}%\".format(accuracy * 100))\n",
    "    \n",
    "    # Prediction on perturbated samples\n",
    "    attack = BasicIterativeMethod(estimator=classifier, eps=0.2)\n",
    "    X_test_adv = attack.generate(x=X_test)\n",
    "    \n",
    "    predictions_adv = classifier.predict(X_test_adv)\n",
    "    accuracy = np.sum(np.argmax(predictions_adv, axis=1) == np.argmax(y_test, axis=1)) / len(y_test)\n",
    "    print(\"Accuracy on adversarial test examples: {}%\".format(accuracy * 100))\n",
    "    \n",
    "    # Time\n",
    "    training_time = time.time() - start_time\n",
    "    print(f\"Time: {training_time:.2f} seconds\")\n",
    "    \n",
    "    predictions_benign_proba = F.softmax(torch.tensor(predictions_benign), dim=1).numpy()\n",
    "    predictions_adv_proba = F.softmax(torch.tensor(predictions_adv), dim=1).numpy()\n",
    "    \n",
    "    return predictions_benign, predictions_adv, predictions_benign_proba, predictions_adv_proba"
   ]
  },
  {
   "cell_type": "code",
   "execution_count": 20,
   "id": "67fcd57f-0ec1-495e-a50c-ac7f679e0c1c",
   "metadata": {
    "tags": []
   },
   "outputs": [
    {
     "name": "stdout",
     "output_type": "stream",
     "text": [
      "Accuracy on benign test examples: 97.85000000000001%\n"
     ]
    },
    {
     "data": {
      "application/vnd.jupyter.widget-view+json": {
       "model_id": "",
       "version_major": 2,
       "version_minor": 0
      },
      "text/plain": [
       "PGD - Batches:   0%|          | 0/313 [00:00<?, ?it/s]"
      ]
     },
     "metadata": {},
     "output_type": "display_data"
    },
    {
     "name": "stdout",
     "output_type": "stream",
     "text": [
      "Accuracy on adversarial test examples: 1.8900000000000001%\n",
      "Time: 168.28 seconds\n"
     ]
    }
   ],
   "source": [
    "model = MNIST_NN()\n",
    "predictions_benign, predictions_adv, predictions_benign_proba, predictions_adv_proba = train(model)"
   ]
  },
  {
   "cell_type": "markdown",
   "id": "855a735a-6248-4e3b-a89c-57bccb8af017",
   "metadata": {
    "tags": []
   },
   "source": [
    "# Evaluations"
   ]
  },
  {
   "cell_type": "markdown",
   "id": "a1ebc17e-8b5f-48bb-a680-d0794cff62c7",
   "metadata": {
    "tags": []
   },
   "source": [
    "## Helpers"
   ]
  },
  {
   "cell_type": "code",
   "execution_count": 10,
   "id": "5cfe177e-65de-4392-bf38-9796c7612cf0",
   "metadata": {
    "tags": []
   },
   "outputs": [],
   "source": [
    "def calculate_weighted_rates(cm):\n",
    "    num_classes = cm.shape[0]\n",
    "    total_instances = np.sum(cm)\n",
    "    \n",
    "    weighted_TPR = 0\n",
    "    weighted_TNR = 0\n",
    "    weighted_FPR = 0\n",
    "    weighted_FNR = 0\n",
    "    \n",
    "    for class_index in range(num_classes):\n",
    "        TP = cm[class_index, class_index]\n",
    "        FP = cm[:, class_index].sum() - TP\n",
    "        FN = cm[class_index, :].sum() - TP\n",
    "        TN = cm.sum() - (TP + FP + FN)\n",
    "        \n",
    "        class_size = cm[class_index, :].sum()  # Total true instances for the class\n",
    "        \n",
    "        # Calculate rates\n",
    "        TPR = TP / (TP + FN) if (TP + FN) != 0 else 0\n",
    "        TNR = TN / (TN + FP) if (TN + FP) != 0 else 0\n",
    "        FPR = FP / (FP + TN) if (FP + TN) != 0 else 0\n",
    "        FNR = FN / (FN + TP) if (FN + TP) != 0 else 0\n",
    "        \n",
    "        # Weight by class proportion and accumulate\n",
    "        weighted_TPR += (class_size / total_instances) * TPR\n",
    "        weighted_TNR += (class_size / total_instances) * TNR\n",
    "        weighted_FPR += (class_size / total_instances) * FPR\n",
    "        weighted_FNR += (class_size / total_instances) * FNR\n",
    "\n",
    "    return weighted_TPR, weighted_TNR, weighted_FPR, weighted_FNR"
   ]
  },
  {
   "cell_type": "code",
   "execution_count": 11,
   "id": "5c41fa25-3c4b-4d7d-b951-bae024377a8d",
   "metadata": {
    "tags": []
   },
   "outputs": [],
   "source": [
    "def calculate_class_metrics_macro(cm, class_index):\n",
    "\n",
    "    TP = cm[class_index, class_index]\n",
    "    FP = cm[:, class_index].sum() - TP\n",
    "    FN = cm[class_index, :].sum() - TP\n",
    "    TN = cm.sum() - (TP + FP + FN)\n",
    "    \n",
    "    TPR = TP / (TP + FN) if (TP + FN) != 0 else 0  \n",
    "    TNR = TN / (TN + FP) if (TN + FP) != 0 else 0  \n",
    "    FPR = FP / (FP + TN) if (FP + TN) != 0 else 0  \n",
    "    FNR = FN / (FN + TP) if (FN + TP) != 0 else 0  \n",
    "    \n",
    "    return TPR, TNR, FPR, FNR"
   ]
  },
  {
   "cell_type": "code",
   "execution_count": 12,
   "id": "10c9f3da-d710-48e5-a63d-feae1661ec1b",
   "metadata": {
    "tags": []
   },
   "outputs": [],
   "source": [
    "def calculate_metrics_micro(cm):\n",
    "    \n",
    "    TP_sum = np.sum([cm[i, i] for i in range(cm.shape[0])])  # Sum of True Positives\n",
    "    FP_sum = np.sum(cm) - np.sum(np.diag(cm))  # Sum of False Positives (total minus TP)\n",
    "    FN_sum = FP_sum  # In micro-averaging for multi-class, FN and FP are equivalent in sum\n",
    "    TN_sum = np.sum(cm) * (cm.shape[0] - 1) - 2 * FP_sum  # Adjusting TN for multi-class\n",
    "    \n",
    "    TPR_micro = TP_sum / (TP_sum + FN_sum) if (TP_sum + FN_sum) != 0 else 0  \n",
    "    TNR_micro = TN_sum / (TN_sum + FP_sum) if (TN_sum + FP_sum) != 0 else 0  \n",
    "    FPR_micro = FP_sum / (FP_sum + TN_sum) if (FP_sum + TN_sum) != 0 else 0 \n",
    "    FNR_micro = FN_sum / (FN_sum + TP_sum) if (FN_sum + TP_sum) != 0 else 0  \n",
    "    \n",
    "    return TPR_micro, TNR_micro, FPR_micro, FNR_micro"
   ]
  },
  {
   "cell_type": "markdown",
   "id": "e0b9898d-1408-4607-95a2-466c490680a3",
   "metadata": {},
   "source": [
    "## Weighted, Macro, Micro"
   ]
  },
  {
   "cell_type": "code",
   "execution_count": 13,
   "id": "5b642a0c-1364-4bc2-a552-d8e4e290a68c",
   "metadata": {
    "tags": []
   },
   "outputs": [],
   "source": [
    "def metrics_weighted(predictions_benign, predictions_adv):\n",
    "    \n",
    "    # Reshape\n",
    "    y_true = np.argmax(y_test, axis=1)\n",
    "    y_pred_benign = np.argmax(predictions_benign, axis=1)\n",
    "    y_pred_adv = np.argmax(predictions_adv, axis=1)\n",
    "    \n",
    "    # Acc, Prec, Rec, F1\n",
    "    precision_benign, recall_benign, f1_benign, _ = precision_recall_fscore_support(y_true, y_pred_benign, average='weighted')\n",
    "    accuracy_benign = accuracy_score(y_true, y_pred_benign)\n",
    "\n",
    "    precision_adv, recall_adv, f1_adv, _ = precision_recall_fscore_support(y_true, y_pred_adv, average='weighted')\n",
    "    accuracy_adv = accuracy_score(y_true, y_pred_adv)\n",
    "    \n",
    "    # TPR, TNR, FPR, FNR\n",
    "    cm_benign = confusion_matrix(y_true, y_pred_benign)\n",
    "    cm_adv = confusion_matrix(y_true, y_pred_adv)\n",
    "    \n",
    "    TPR_benign, TNR_benign, FPR_benign, FNR_benign = calculate_weighted_rates(cm_benign)\n",
    "    TPR_adv, TNR_adv, FPR_adv, FNR_adv = calculate_weighted_rates(cm_adv)\n",
    "    \n",
    "    # AUC\n",
    "    auc_benign = roc_auc_score(y_test, predictions_benign_proba, multi_class='ovr', average='weighted')\n",
    "    auc_adv = roc_auc_score(y_test, predictions_adv_proba, multi_class='ovr', average='weighted')\n",
    "    \n",
    "    print(\"Weighted\")\n",
    "    print(f\"Benign Acc: {accuracy_benign:.4f}\")\n",
    "    print(f\"Benign Prec: {precision_benign:.4f}\")\n",
    "    print(f\"Benign Rec: {recall_benign:.4f}\")\n",
    "    print(f\"Benign F1: {f1_benign:.4f}\")\n",
    "    \n",
    "    print(f\"Adv Acc: {accuracy_adv:.4f}\")\n",
    "    print(f\"Adv Prec: {precision_adv:.4f}\")\n",
    "    print(f\"Adv Rec: {recall_adv:.4f}\")\n",
    "    print(f\"Adv F1: {f1_adv:.4f}\")\n",
    "    \n",
    "    print(f\"Benign TPR: {TPR_benign:.4f}\") \n",
    "    print(f\"Benign TNR: {TNR_benign:.4f}\") \n",
    "    print(f\"Benign FPR: {FPR_benign:.4f}\")\n",
    "    print(f\"Benign FNR: {FNR_benign:.4f}\")\n",
    "    \n",
    "    print(f\"Adv TPR: {TPR_adv:.4f}\") \n",
    "    print(f\"Adv TNR: {TNR_adv:.4f}\") \n",
    "    print(f\"Adv FPR: {FPR_adv:.4f}\")\n",
    "    print(f\"Adv FNR: {FNR_adv:.4f}\")\n",
    "    \n",
    "    print(f\"Benign AUC: {auc_benign:.4f}\")\n",
    "    print(f\"Adv AUC: {auc_adv:.4f}\")"
   ]
  },
  {
   "cell_type": "code",
   "execution_count": 14,
   "id": "9c78e891-bddf-4ba5-8296-95a554d2eace",
   "metadata": {
    "tags": []
   },
   "outputs": [
    {
     "name": "stdout",
     "output_type": "stream",
     "text": [
      "Weighted\n",
      "Benign Acc: 0.9770\n",
      "Benign Prec: 0.9772\n",
      "Benign Rec: 0.9770\n",
      "Benign F1: 0.9770\n",
      "Adv Acc: 0.0171\n",
      "Adv Prec: 0.0368\n",
      "Adv Rec: 0.0171\n",
      "Adv F1: 0.0196\n",
      "Benign TPR: 0.9770\n",
      "Benign TNR: 0.9974\n",
      "Benign FPR: 0.0026\n",
      "Benign FNR: 0.0230\n",
      "Adv TPR: 0.0171\n",
      "Adv TNR: 0.8912\n",
      "Adv FPR: 0.1088\n",
      "Adv FNR: 0.9829\n",
      "Benign AUC: 0.9996\n",
      "Adv AUC: 0.5121\n"
     ]
    }
   ],
   "source": [
    "metrics_weighted(predictions_benign, predictions_adv)"
   ]
  },
  {
   "cell_type": "code",
   "execution_count": 15,
   "id": "c2d2eeed-e23e-4b95-808a-83130d5cf7a5",
   "metadata": {
    "tags": []
   },
   "outputs": [],
   "source": [
    "def metrics_macro():\n",
    "    y_true = np.argmax(y_test, axis=1)\n",
    "    y_pred_benign = np.argmax(predictions_benign, axis=1)\n",
    "    y_pred_adv = np.argmax(predictions_adv, axis=1)\n",
    "\n",
    "    \n",
    "    # Acc, Prec, Rec, F1\n",
    "    precision_benign, recall_benign, f1_benign, _ = precision_recall_fscore_support(y_true, y_pred_benign, average='macro')\n",
    "    accuracy_benign = accuracy_score(y_true, y_pred_benign)\n",
    "    \n",
    "    precision_adv, recall_adv, f1_adv, _ = precision_recall_fscore_support(y_true, y_pred_adv, average='macro')\n",
    "    accuracy_adv = accuracy_score(y_true, y_pred_adv)\n",
    "    \n",
    "    cm_benign = confusion_matrix(y_true, y_pred_benign)\n",
    "    cm_adv = confusion_matrix(y_true, y_pred_adv)\n",
    "    \n",
    "    # TPR, TNR, FPR, FNR\n",
    "    TPR_benign, TNR_benign, FPR_benign, FNR_benign = np.mean([calculate_class_metrics_macro(cm_benign, i) for i in range(10)], axis=0)\n",
    "    TPR_adv, TNR_adv, FPR_adv, FNR_adv = np.mean([calculate_class_metrics_macro(cm_adv, i) for i in range(10)], axis=0)\n",
    "    \n",
    "    # AUC\n",
    "    auc_benign = roc_auc_score(y_test, predictions_benign_proba, multi_class='ovr', average='macro')\n",
    "    auc_adv = roc_auc_score(y_test, predictions_adv_proba, multi_class='ovr', average='macro')\n",
    "    \n",
    "    print(\"Macro\")\n",
    "    print(f\"Benign Acc: {accuracy_benign:.4f}\")\n",
    "    print(f\"Benign Prec: {precision_benign:.4f}\")\n",
    "    print(f\"Benign Rec: {recall_benign:.4f}\")\n",
    "    print(f\"Benign F1: {f1_benign:.4f}\")\n",
    "    \n",
    "    print(f\"Adv Acc: {accuracy_adv:.4f}\")\n",
    "    print(f\"Adv Prec: {precision_adv:.4f}\")\n",
    "    print(f\"Adv Rec: {recall_adv:.4f}\")\n",
    "    print(f\"Adv F1: {f1_adv:.4f}\")\n",
    "    \n",
    "    print(f\"Benign TPR: {TPR_benign:.4f}\") \n",
    "    print(f\"Benign TNR: {TNR_benign:.4f}\") \n",
    "    print(f\"Benign FPR: {FPR_benign:.4f}\")\n",
    "    print(f\"Benign FNR: {FNR_benign:.4f}\")\n",
    "    \n",
    "    print(f\"Adv TPR: {TPR_adv:.4f}\") \n",
    "    print(f\"Adv TNR: {TNR_adv:.4f}\") \n",
    "    print(f\"Adv FPR: {FPR_adv:.4f}\")\n",
    "    print(f\"Adv FNR: {FNR_adv:.4f}\")\n",
    "    \n",
    "    print(f\"Benign AUC: {auc_benign:.4f}\")\n",
    "    print(f\"Adv AUC: {auc_adv:.4f}\")"
   ]
  },
  {
   "cell_type": "code",
   "execution_count": 16,
   "id": "f9e94fd2-c75a-486a-bf34-90fe4002249c",
   "metadata": {
    "tags": []
   },
   "outputs": [
    {
     "name": "stdout",
     "output_type": "stream",
     "text": [
      "Macro\n",
      "Benign Acc: 0.9770\n",
      "Benign Prec: 0.9772\n",
      "Benign Rec: 0.9768\n",
      "Benign F1: 0.9769\n",
      "Adv Acc: 0.0171\n",
      "Adv Prec: 0.0376\n",
      "Adv Rec: 0.0173\n",
      "Adv F1: 0.0199\n",
      "Benign TPR: 0.9768\n",
      "Benign TNR: 0.9974\n",
      "Benign FPR: 0.0026\n",
      "Benign FNR: 0.0232\n",
      "Adv TPR: 0.0173\n",
      "Adv TNR: 0.8908\n",
      "Adv FPR: 0.1092\n",
      "Adv FNR: 0.9827\n",
      "Benign AUC: 0.9996\n",
      "Adv AUC: 0.5095\n"
     ]
    }
   ],
   "source": [
    "metrics_macro()"
   ]
  },
  {
   "cell_type": "code",
   "execution_count": 17,
   "id": "b9d92f77-9a3d-4dc5-825d-cdd29c096aa7",
   "metadata": {
    "tags": []
   },
   "outputs": [],
   "source": [
    "def metrics_micro():\n",
    "    y_true = np.argmax(y_test, axis=1)\n",
    "    y_pred_benign = np.argmax(predictions_benign, axis=1)\n",
    "    y_pred_adv = np.argmax(predictions_adv, axis=1)\n",
    "\n",
    "    # Acc, Prec, Rec, F1\n",
    "    precision_benign, recall_benign, f1_benign, _ = precision_recall_fscore_support(y_true, y_pred_benign, average='micro')\n",
    "    accuracy_benign = accuracy_score(y_true, y_pred_benign)\n",
    "    \n",
    "    precision_adv, recall_adv, f1_adv, _ = precision_recall_fscore_support(y_true, y_pred_adv, average='micro')\n",
    "    accuracy_adv = accuracy_score(y_true, y_pred_adv)\n",
    "    \n",
    "    # TPR, TNR, FPR, FNR\n",
    "    cm_benign = confusion_matrix(y_true, y_pred_benign)\n",
    "    cm_adv = confusion_matrix(y_true, y_pred_adv)\n",
    "    \n",
    "    TPR_benign, TNR_benign, FPR_benign, FNR_benign = calculate_metrics_micro(cm_benign)\n",
    "    TPR_adv, TNR_adv, FPR_adv, FNR_adv = calculate_metrics_micro(cm_adv)\n",
    "    \n",
    "    # AUC\n",
    "    auc_benign = roc_auc_score(y_test, predictions_benign_proba, multi_class='ovr', average='micro')\n",
    "    auc_adv = roc_auc_score(y_test, predictions_adv_proba, multi_class='ovr', average='micro')\n",
    "    \n",
    "    print(\"Weighted\")\n",
    "    print(f\"Benign Acc: {accuracy_benign:.4f}\")\n",
    "    print(f\"Benign Prec: {precision_benign:.4f}\")\n",
    "    print(f\"Benign Rec: {recall_benign:.4f}\")\n",
    "    print(f\"Benign F1: {f1_benign:.4f}\")\n",
    "    \n",
    "    print(f\"Adv Acc: {accuracy_adv:.4f}\")\n",
    "    print(f\"Adv Prec: {precision_adv:.4f}\")\n",
    "    print(f\"Adv Rec: {recall_adv:.4f}\")\n",
    "    print(f\"Adv F1: {f1_adv:.4f}\")\n",
    "    \n",
    "    print(f\"Benign TPR: {TPR_benign:.4f}\") \n",
    "    print(f\"Benign TNR: {TNR_benign:.4f}\") \n",
    "    print(f\"Benign FPR: {FPR_benign:.4f}\")\n",
    "    print(f\"Benign FNR: {FNR_benign:.4f}\")\n",
    "    \n",
    "    print(f\"Adv TPR: {TPR_adv:.4f}\") \n",
    "    print(f\"Adv TNR: {TNR_adv:.4f}\") \n",
    "    print(f\"Adv FPR: {FPR_adv:.4f}\")\n",
    "    print(f\"Adv FNR: {FNR_adv:.4f}\")\n",
    "    \n",
    "    print(f\"Benign AUC: {auc_benign:.4f}\")\n",
    "    print(f\"Adv AUC: {auc_adv:.4f}\")"
   ]
  },
  {
   "cell_type": "code",
   "execution_count": 18,
   "id": "afbdc187-fdde-41c9-94ce-2ffa5c376862",
   "metadata": {
    "tags": []
   },
   "outputs": [
    {
     "name": "stdout",
     "output_type": "stream",
     "text": [
      "Weighted\n",
      "Benign Acc: 0.9770\n",
      "Benign Prec: 0.9770\n",
      "Benign Rec: 0.9770\n",
      "Benign F1: 0.9770\n",
      "Adv Acc: 0.0171\n",
      "Adv Prec: 0.0171\n",
      "Adv Rec: 0.0171\n",
      "Adv F1: 0.0171\n",
      "Benign TPR: 0.9770\n",
      "Benign TNR: 0.9974\n",
      "Benign FPR: 0.0026\n",
      "Benign FNR: 0.0230\n",
      "Adv TPR: 0.0171\n",
      "Adv TNR: 0.8774\n",
      "Adv FPR: 0.1226\n",
      "Adv FNR: 0.9829\n",
      "Benign AUC: 0.9996\n",
      "Adv AUC: 0.5104\n"
     ]
    }
   ],
   "source": [
    "metrics_micro()"
   ]
  }
 ],
 "metadata": {
  "kernelspec": {
   "display_name": "Python 3 (ipykernel)",
   "language": "python",
   "name": "python3"
  },
  "language_info": {
   "codemirror_mode": {
    "name": "ipython",
    "version": 3
   },
   "file_extension": ".py",
   "mimetype": "text/x-python",
   "name": "python",
   "nbconvert_exporter": "python",
   "pygments_lexer": "ipython3",
   "version": "3.11.5"
  }
 },
 "nbformat": 4,
 "nbformat_minor": 5
}
