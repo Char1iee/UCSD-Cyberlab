{
 "cells": [
  {
   "cell_type": "markdown",
   "id": "b6389409-0d01-4c27-929d-c95d9a8941c9",
   "metadata": {
    "tags": []
   },
   "source": [
    "# **Carlini And Wagner L_2 Attack**"
   ]
  },
  {
   "cell_type": "markdown",
   "id": "3881668f-2e3b-4ccc-b9d7-1c3c959d1f4b",
   "metadata": {
    "jp-MarkdownHeadingCollapsed": true,
    "tags": []
   },
   "source": [
    "# Imports"
   ]
  },
  {
   "cell_type": "code",
   "execution_count": 2,
   "id": "354f53e4-736d-48cf-b001-4acbe3443410",
   "metadata": {
    "tags": []
   },
   "outputs": [],
   "source": [
    "import torch\n",
    "import torch.nn as nn\n",
    "import torch.nn.functional as F\n",
    "import torch.optim as optim\n",
    "\n",
    "import numpy as np\n",
    "import pandas as pd\n",
    "import matplotlib.pyplot as plt\n",
    "\n",
    "import time\n",
    "\n",
    "from sklearn.model_selection import train_test_split\n",
    "from sklearn.metrics import precision_recall_fscore_support, accuracy_score, confusion_matrix, roc_auc_score\n",
    "from sklearn.preprocessing import label_binarize"
   ]
  },
  {
   "cell_type": "code",
   "execution_count": 3,
   "id": "792c3b9b-dd4f-44ab-8532-aaf19470c1ff",
   "metadata": {
    "tags": []
   },
   "outputs": [],
   "source": [
    "from art.attacks.evasion import CarliniL2Method\n",
    "from art.estimators.classification import PyTorchClassifier\n",
    "from art.utils import load_mnist"
   ]
  },
  {
   "cell_type": "markdown",
   "id": "2691347b-ea7f-45d3-8325-02ca8203252f",
   "metadata": {
    "jp-MarkdownHeadingCollapsed": true,
    "tags": []
   },
   "source": [
    "# Data"
   ]
  },
  {
   "cell_type": "code",
   "execution_count": 4,
   "id": "fda13b41-b51a-4a76-9306-79de2227990a",
   "metadata": {
    "tags": []
   },
   "outputs": [],
   "source": [
    "(X_train, y_train), (X_test, y_test), min_pixel_value, max_pixel_value = load_mnist()"
   ]
  },
  {
   "cell_type": "code",
   "execution_count": 5,
   "id": "32806c32-4a50-4625-b9a3-71c749e8e64f",
   "metadata": {
    "tags": []
   },
   "outputs": [],
   "source": [
    "X_train = np.transpose(X_train, (0, 3, 1, 2)).astype(np.float32)\n",
    "X_test = np.transpose(X_test, (0, 3, 1, 2)).astype(np.float32)"
   ]
  },
  {
   "cell_type": "markdown",
   "id": "40a92c21-91a7-4bbf-8aa4-dbe3851ed60b",
   "metadata": {
    "jp-MarkdownHeadingCollapsed": true,
    "tags": []
   },
   "source": [
    "# Model"
   ]
  },
  {
   "cell_type": "code",
   "execution_count": 6,
   "id": "12306550-ccb2-4804-bd7f-8e3d45974b3e",
   "metadata": {
    "tags": []
   },
   "outputs": [],
   "source": [
    "class MNIST_NN(nn.Module):\n",
    "    def __init__(self):\n",
    "        super(MNIST_NN, self).__init__()\n",
    "        self.conv_1 = nn.Conv2d(in_channels=1, out_channels=4, kernel_size=5, stride=1)\n",
    "        self.conv_2 = nn.Conv2d(in_channels=4, out_channels=10, kernel_size=5, stride=1)\n",
    "        self.fc_1 = nn.Linear(in_features=4 * 4 * 10, out_features=100)\n",
    "        self.fc_2 = nn.Linear(in_features=100, out_features=10)\n",
    "\n",
    "    def forward(self, x):\n",
    "        x = F.relu(self.conv_1(x))\n",
    "        x = F.max_pool2d(x, 2, 2)\n",
    "        x = F.relu(self.conv_2(x))\n",
    "        x = F.max_pool2d(x, 2, 2)\n",
    "        x = x.view(-1, 4 * 4 * 10)\n",
    "        x = F.relu(self.fc_1(x))\n",
    "        x = self.fc_2(x)\n",
    "        return x"
   ]
  },
  {
   "cell_type": "code",
   "execution_count": 13,
   "id": "8eb637a1-ceb4-4045-b4af-0f19f3371bfb",
   "metadata": {
    "tags": []
   },
   "outputs": [],
   "source": [
    "def train(model):\n",
    "    criterion = nn.CrossEntropyLoss()\n",
    "    optimizer = optim.Adam(model.parameters(), lr=0.01)\n",
    "    \n",
    "    classifier = PyTorchClassifier(\n",
    "        model=model,\n",
    "        clip_values=(min_pixel_value, max_pixel_value),\n",
    "        loss=criterion,\n",
    "        optimizer=optimizer,\n",
    "        input_shape=(1, 28, 28),\n",
    "        nb_classes=10,\n",
    "    )\n",
    "    \n",
    "    start_time = time.time()\n",
    "    classifier.fit(X_train, y_train, batch_size=64, nb_epochs=5)\n",
    "    \n",
    "    # Prediction on normal X_test samples\n",
    "    predictions_benign = classifier.predict(X_test)\n",
    "    accuracy = np.sum(np.argmax(predictions_benign, axis=1) == np.argmax(y_test, axis=1)) / len(y_test)\n",
    "    print(\"Accuracy on benign test examples: {}%\".format(accuracy * 100))\n",
    "    \n",
    "    # Prediction on perturbated samples\n",
    "    attack = CarliniL2Method(classifier=classifier)\n",
    "    X_test_adv = attack.generate(x=X_test)\n",
    "    \n",
    "    predictions_adv = classifier.predict(X_test_adv)\n",
    "    accuracy = np.sum(np.argmax(predictions_adv, axis=1) == np.argmax(y_test, axis=1)) / len(y_test)\n",
    "    print(\"Accuracy on adversarial test examples: {}%\".format(accuracy * 100))\n",
    "    \n",
    "    # Time\n",
    "    training_time = time.time() - start_time\n",
    "    print(f\"Time: {training_time:.2f} seconds\")\n",
    "    \n",
    "    predictions_benign_proba = F.softmax(torch.tensor(predictions_benign), dim=1).numpy()\n",
    "    predictions_adv_proba = F.softmax(torch.tensor(predictions_adv), dim=1).numpy()\n",
    "    \n",
    "    return predictions_benign, predictions_adv, predictions_benign_proba, predictions_adv_proba"
   ]
  },
  {
   "cell_type": "code",
   "execution_count": 14,
   "id": "852e4a4f-627a-40bf-89dd-3ced6d6c9aa4",
   "metadata": {
    "tags": []
   },
   "outputs": [
    {
     "name": "stdout",
     "output_type": "stream",
     "text": [
      "Accuracy on benign test examples: 97.61999999999999%\n"
     ]
    },
    {
     "data": {
      "application/vnd.jupyter.widget-view+json": {
       "model_id": "cc02c216e1d540d68bd74f427d4714a1",
       "version_major": 2,
       "version_minor": 0
      },
      "text/plain": [
       "C&W L_2:   0%|          | 0/10000 [00:00<?, ?it/s]"
      ]
     },
     "metadata": {},
     "output_type": "display_data"
    },
    {
     "name": "stdout",
     "output_type": "stream",
     "text": [
      "Accuracy on adversarial test examples: 9.86%\n",
      "Time: 33.50 seconds\n"
     ]
    }
   ],
   "source": [
    "model = MNIST_NN()\n",
    "predictions_benign, predictions_adv, predictions_benign_proba, predictions_adv_proba = train(model)"
   ]
  },
  {
   "cell_type": "markdown",
   "id": "9c3581fc-975d-43c3-875b-e441a81ebe92",
   "metadata": {
    "tags": []
   },
   "source": [
    "# Evaluations"
   ]
  },
  {
   "cell_type": "markdown",
   "id": "0485a959-d4a1-47d4-ab87-46a13f7a2994",
   "metadata": {
    "tags": []
   },
   "source": [
    "## Helpers"
   ]
  },
  {
   "cell_type": "code",
   "execution_count": 15,
   "id": "d82d683e-5833-4da7-917e-2fd503fa05e3",
   "metadata": {
    "tags": []
   },
   "outputs": [],
   "source": [
    "def calculate_weighted_rates(cm):\n",
    "    num_classes = cm.shape[0]\n",
    "    total_instances = np.sum(cm)\n",
    "    \n",
    "    weighted_TPR = 0\n",
    "    weighted_TNR = 0\n",
    "    weighted_FPR = 0\n",
    "    weighted_FNR = 0\n",
    "    \n",
    "    for class_index in range(num_classes):\n",
    "        TP = cm[class_index, class_index]\n",
    "        FP = cm[:, class_index].sum() - TP\n",
    "        FN = cm[class_index, :].sum() - TP\n",
    "        TN = cm.sum() - (TP + FP + FN)\n",
    "        \n",
    "        class_size = cm[class_index, :].sum()  # Total true instances for the class\n",
    "        \n",
    "        # Calculate rates\n",
    "        TPR = TP / (TP + FN) if (TP + FN) != 0 else 0\n",
    "        TNR = TN / (TN + FP) if (TN + FP) != 0 else 0\n",
    "        FPR = FP / (FP + TN) if (FP + TN) != 0 else 0\n",
    "        FNR = FN / (FN + TP) if (FN + TP) != 0 else 0\n",
    "        \n",
    "        # Weight by class proportion and accumulate\n",
    "        weighted_TPR += (class_size / total_instances) * TPR\n",
    "        weighted_TNR += (class_size / total_instances) * TNR\n",
    "        weighted_FPR += (class_size / total_instances) * FPR\n",
    "        weighted_FNR += (class_size / total_instances) * FNR\n",
    "\n",
    "    return weighted_TPR, weighted_TNR, weighted_FPR, weighted_FNR"
   ]
  },
  {
   "cell_type": "code",
   "execution_count": 16,
   "id": "dcb9e9d4-6899-41d3-8015-61056e930c7d",
   "metadata": {
    "tags": []
   },
   "outputs": [],
   "source": [
    "def calculate_class_metrics_macro(cm, class_index):\n",
    "\n",
    "    TP = cm[class_index, class_index]\n",
    "    FP = cm[:, class_index].sum() - TP\n",
    "    FN = cm[class_index, :].sum() - TP\n",
    "    TN = cm.sum() - (TP + FP + FN)\n",
    "    \n",
    "    TPR = TP / (TP + FN) if (TP + FN) != 0 else 0  \n",
    "    TNR = TN / (TN + FP) if (TN + FP) != 0 else 0  \n",
    "    FPR = FP / (FP + TN) if (FP + TN) != 0 else 0  \n",
    "    FNR = FN / (FN + TP) if (FN + TP) != 0 else 0  \n",
    "    \n",
    "    return TPR, TNR, FPR, FNR"
   ]
  },
  {
   "cell_type": "code",
   "execution_count": 17,
   "id": "ddb5dd79-ed8c-460e-94a8-8a5f83150240",
   "metadata": {
    "tags": []
   },
   "outputs": [],
   "source": [
    "def calculate_metrics_micro(cm):\n",
    "    \n",
    "    TP_sum = np.sum([cm[i, i] for i in range(cm.shape[0])])  # Sum of True Positives\n",
    "    FP_sum = np.sum(cm) - np.sum(np.diag(cm))  # Sum of False Positives (total minus TP)\n",
    "    FN_sum = FP_sum  # In micro-averaging for multi-class, FN and FP are equivalent in sum\n",
    "    TN_sum = np.sum(cm) * (cm.shape[0] - 1) - 2 * FP_sum  # Adjusting TN for multi-class\n",
    "    \n",
    "    TPR_micro = TP_sum / (TP_sum + FN_sum) if (TP_sum + FN_sum) != 0 else 0  \n",
    "    TNR_micro = TN_sum / (TN_sum + FP_sum) if (TN_sum + FP_sum) != 0 else 0  \n",
    "    FPR_micro = FP_sum / (FP_sum + TN_sum) if (FP_sum + TN_sum) != 0 else 0 \n",
    "    FNR_micro = FN_sum / (FN_sum + TP_sum) if (FN_sum + TP_sum) != 0 else 0  \n",
    "    \n",
    "    return TPR_micro, TNR_micro, FPR_micro, FNR_micro"
   ]
  },
  {
   "cell_type": "markdown",
   "id": "4982048c-db6c-4a80-8413-42c83816407a",
   "metadata": {},
   "source": [
    "## Weighted, Macro, Micro"
   ]
  },
  {
   "cell_type": "code",
   "execution_count": 18,
   "id": "cafef64f-a62e-49df-99d5-1561eaac7cef",
   "metadata": {
    "tags": []
   },
   "outputs": [],
   "source": [
    "def metrics_weighted(predictions_benign, predictions_adv):\n",
    "    \n",
    "    # Reshape\n",
    "    y_true = np.argmax(y_test, axis=1)\n",
    "    y_pred_benign = np.argmax(predictions_benign, axis=1)\n",
    "    y_pred_adv = np.argmax(predictions_adv, axis=1)\n",
    "    \n",
    "    # Acc, Prec, Rec, F1\n",
    "    precision_benign, recall_benign, f1_benign, _ = precision_recall_fscore_support(y_true, y_pred_benign, average='weighted')\n",
    "    accuracy_benign = accuracy_score(y_true, y_pred_benign)\n",
    "\n",
    "    precision_adv, recall_adv, f1_adv, _ = precision_recall_fscore_support(y_true, y_pred_adv, average='weighted')\n",
    "    accuracy_adv = accuracy_score(y_true, y_pred_adv)\n",
    "    \n",
    "    # TPR, TNR, FPR, FNR\n",
    "    cm_benign = confusion_matrix(y_true, y_pred_benign)\n",
    "    cm_adv = confusion_matrix(y_true, y_pred_adv)\n",
    "    \n",
    "    TPR_benign, TNR_benign, FPR_benign, FNR_benign = calculate_weighted_rates(cm_benign)\n",
    "    TPR_adv, TNR_adv, FPR_adv, FNR_adv = calculate_weighted_rates(cm_adv)\n",
    "    \n",
    "    # AUC\n",
    "    auc_benign = roc_auc_score(y_test, predictions_benign_proba, multi_class='ovr', average='weighted')\n",
    "    auc_adv = roc_auc_score(y_test, predictions_adv_proba, multi_class='ovr', average='weighted')\n",
    "    \n",
    "    print(\"Weighted\")\n",
    "    print(f\"Benign Acc: {accuracy_benign:.4f}\")\n",
    "    print(f\"Benign Prec: {precision_benign:.4f}\")\n",
    "    print(f\"Benign Rec: {recall_benign:.4f}\")\n",
    "    print(f\"Benign F1: {f1_benign:.4f}\")\n",
    "    \n",
    "    print(f\"Adv Acc: {accuracy_adv:.4f}\")\n",
    "    print(f\"Adv Prec: {precision_adv:.4f}\")\n",
    "    print(f\"Adv Rec: {recall_adv:.4f}\")\n",
    "    print(f\"Adv F1: {f1_adv:.4f}\")\n",
    "    \n",
    "    print(f\"Benign TPR: {TPR_benign:.4f}\") \n",
    "    print(f\"Benign TNR: {TNR_benign:.4f}\") \n",
    "    print(f\"Benign FPR: {FPR_benign:.4f}\")\n",
    "    print(f\"Benign FNR: {FNR_benign:.4f}\")\n",
    "    \n",
    "    print(f\"Adv TPR: {TPR_adv:.4f}\") \n",
    "    print(f\"Adv TNR: {TNR_adv:.4f}\") \n",
    "    print(f\"Adv FPR: {FPR_adv:.4f}\")\n",
    "    print(f\"Adv FNR: {FNR_adv:.4f}\")\n",
    "    \n",
    "    print(f\"Benign AUC: {auc_benign:.4f}\")\n",
    "    print(f\"Adv AUC: {auc_adv:.4f}\")"
   ]
  },
  {
   "cell_type": "code",
   "execution_count": 19,
   "id": "1316853b-ef26-461f-894e-69e64c15bb72",
   "metadata": {
    "tags": []
   },
   "outputs": [
    {
     "name": "stdout",
     "output_type": "stream",
     "text": [
      "Weighted\n",
      "Benign Acc: 0.9762\n",
      "Benign Prec: 0.9763\n",
      "Benign Rec: 0.9762\n",
      "Benign F1: 0.9762\n",
      "Adv Acc: 0.0986\n",
      "Adv Prec: 0.1258\n",
      "Adv Rec: 0.0986\n",
      "Adv F1: 0.1040\n",
      "Benign TPR: 0.9762\n",
      "Benign TNR: 0.9973\n",
      "Benign FPR: 0.0027\n",
      "Benign FNR: 0.0238\n",
      "Adv TPR: 0.0986\n",
      "Adv TNR: 0.9002\n",
      "Adv FPR: 0.0998\n",
      "Adv FNR: 0.9014\n",
      "Benign AUC: 0.9994\n",
      "Adv AUC: 0.8927\n"
     ]
    }
   ],
   "source": [
    "metrics_weighted(predictions_benign, predictions_adv)"
   ]
  },
  {
   "cell_type": "code",
   "execution_count": 20,
   "id": "b425f3d8-bf69-40d5-8f95-15c315d9994e",
   "metadata": {
    "tags": []
   },
   "outputs": [],
   "source": [
    "def metrics_macro():\n",
    "    y_true = np.argmax(y_test, axis=1)\n",
    "    y_pred_benign = np.argmax(predictions_benign, axis=1)\n",
    "    y_pred_adv = np.argmax(predictions_adv, axis=1)\n",
    "\n",
    "    \n",
    "    # Acc, Prec, Rec, F1\n",
    "    precision_benign, recall_benign, f1_benign, _ = precision_recall_fscore_support(y_true, y_pred_benign, average='macro')\n",
    "    accuracy_benign = accuracy_score(y_true, y_pred_benign)\n",
    "    \n",
    "    precision_adv, recall_adv, f1_adv, _ = precision_recall_fscore_support(y_true, y_pred_adv, average='macro')\n",
    "    accuracy_adv = accuracy_score(y_true, y_pred_adv)\n",
    "    \n",
    "    cm_benign = confusion_matrix(y_true, y_pred_benign)\n",
    "    cm_adv = confusion_matrix(y_true, y_pred_adv)\n",
    "    \n",
    "    # TPR, TNR, FPR, FNR\n",
    "    TPR_benign, TNR_benign, FPR_benign, FNR_benign = np.mean([calculate_class_metrics_macro(cm_benign, i) for i in range(10)], axis=0)\n",
    "    TPR_adv, TNR_adv, FPR_adv, FNR_adv = np.mean([calculate_class_metrics_macro(cm_adv, i) for i in range(10)], axis=0)\n",
    "    \n",
    "    # AUC\n",
    "    auc_benign = roc_auc_score(y_test, predictions_benign_proba, multi_class='ovr', average='macro')\n",
    "    auc_adv = roc_auc_score(y_test, predictions_adv_proba, multi_class='ovr', average='macro')\n",
    "    \n",
    "    print(\"Macro\")\n",
    "    print(f\"Benign Acc: {accuracy_benign:.4f}\")\n",
    "    print(f\"Benign Prec: {precision_benign:.4f}\")\n",
    "    print(f\"Benign Rec: {recall_benign:.4f}\")\n",
    "    print(f\"Benign F1: {f1_benign:.4f}\")\n",
    "    \n",
    "    print(f\"Adv Acc: {accuracy_adv:.4f}\")\n",
    "    print(f\"Adv Prec: {precision_adv:.4f}\")\n",
    "    print(f\"Adv Rec: {recall_adv:.4f}\")\n",
    "    print(f\"Adv F1: {f1_adv:.4f}\")\n",
    "    \n",
    "    print(f\"Benign TPR: {TPR_benign:.4f}\") \n",
    "    print(f\"Benign TNR: {TNR_benign:.4f}\") \n",
    "    print(f\"Benign FPR: {FPR_benign:.4f}\")\n",
    "    print(f\"Benign FNR: {FNR_benign:.4f}\")\n",
    "    \n",
    "    print(f\"Adv TPR: {TPR_adv:.4f}\") \n",
    "    print(f\"Adv TNR: {TNR_adv:.4f}\") \n",
    "    print(f\"Adv FPR: {FPR_adv:.4f}\")\n",
    "    print(f\"Adv FNR: {FNR_adv:.4f}\")\n",
    "    \n",
    "    print(f\"Benign AUC: {auc_benign:.4f}\")\n",
    "    print(f\"Adv AUC: {auc_adv:.4f}\")"
   ]
  },
  {
   "cell_type": "code",
   "execution_count": 21,
   "id": "32b83007-4799-4b9d-845d-e0ce3aa24626",
   "metadata": {
    "tags": []
   },
   "outputs": [
    {
     "name": "stdout",
     "output_type": "stream",
     "text": [
      "Macro\n",
      "Benign Acc: 0.9762\n",
      "Benign Prec: 0.9763\n",
      "Benign Rec: 0.9762\n",
      "Benign F1: 0.9762\n",
      "Adv Acc: 0.0986\n",
      "Adv Prec: 0.1243\n",
      "Adv Rec: 0.0981\n",
      "Adv F1: 0.1032\n",
      "Benign TPR: 0.9762\n",
      "Benign TNR: 0.9974\n",
      "Benign FPR: 0.0026\n",
      "Benign FNR: 0.0238\n",
      "Adv TPR: 0.0981\n",
      "Adv TNR: 0.8999\n",
      "Adv FPR: 0.1001\n",
      "Adv FNR: 0.9019\n",
      "Benign AUC: 0.9994\n",
      "Adv AUC: 0.8922\n"
     ]
    }
   ],
   "source": [
    "metrics_macro()"
   ]
  },
  {
   "cell_type": "code",
   "execution_count": 22,
   "id": "028d4f41-4a91-4991-8552-a36623c17f95",
   "metadata": {
    "tags": []
   },
   "outputs": [],
   "source": [
    "def metrics_micro():\n",
    "    y_true = np.argmax(y_test, axis=1)\n",
    "    y_pred_benign = np.argmax(predictions_benign, axis=1)\n",
    "    y_pred_adv = np.argmax(predictions_adv, axis=1)\n",
    "\n",
    "    # Acc, Prec, Rec, F1\n",
    "    precision_benign, recall_benign, f1_benign, _ = precision_recall_fscore_support(y_true, y_pred_benign, average='micro')\n",
    "    accuracy_benign = accuracy_score(y_true, y_pred_benign)\n",
    "    \n",
    "    precision_adv, recall_adv, f1_adv, _ = precision_recall_fscore_support(y_true, y_pred_adv, average='micro')\n",
    "    accuracy_adv = accuracy_score(y_true, y_pred_adv)\n",
    "    \n",
    "    # TPR, TNR, FPR, FNR\n",
    "    cm_benign = confusion_matrix(y_true, y_pred_benign)\n",
    "    cm_adv = confusion_matrix(y_true, y_pred_adv)\n",
    "    \n",
    "    TPR_benign, TNR_benign, FPR_benign, FNR_benign = calculate_metrics_micro(cm_benign)\n",
    "    TPR_adv, TNR_adv, FPR_adv, FNR_adv = calculate_metrics_micro(cm_adv)\n",
    "    \n",
    "    # AUC\n",
    "    auc_benign = roc_auc_score(y_test, predictions_benign_proba, multi_class='ovr', average='micro')\n",
    "    auc_adv = roc_auc_score(y_test, predictions_adv_proba, multi_class='ovr', average='micro')\n",
    "    \n",
    "    print(\"Weighted\")\n",
    "    print(f\"Benign Acc: {accuracy_benign:.4f}\")\n",
    "    print(f\"Benign Prec: {precision_benign:.4f}\")\n",
    "    print(f\"Benign Rec: {recall_benign:.4f}\")\n",
    "    print(f\"Benign F1: {f1_benign:.4f}\")\n",
    "    \n",
    "    print(f\"Adv Acc: {accuracy_adv:.4f}\")\n",
    "    print(f\"Adv Prec: {precision_adv:.4f}\")\n",
    "    print(f\"Adv Rec: {recall_adv:.4f}\")\n",
    "    print(f\"Adv F1: {f1_adv:.4f}\")\n",
    "    \n",
    "    print(f\"Benign TPR: {TPR_benign:.4f}\") \n",
    "    print(f\"Benign TNR: {TNR_benign:.4f}\") \n",
    "    print(f\"Benign FPR: {FPR_benign:.4f}\")\n",
    "    print(f\"Benign FNR: {FNR_benign:.4f}\")\n",
    "    \n",
    "    print(f\"Adv TPR: {TPR_adv:.4f}\") \n",
    "    print(f\"Adv TNR: {TNR_adv:.4f}\") \n",
    "    print(f\"Adv FPR: {FPR_adv:.4f}\")\n",
    "    print(f\"Adv FNR: {FNR_adv:.4f}\")\n",
    "    \n",
    "    print(f\"Benign AUC: {auc_benign:.4f}\")\n",
    "    print(f\"Adv AUC: {auc_adv:.4f}\")"
   ]
  },
  {
   "cell_type": "code",
   "execution_count": 23,
   "id": "df170445-43c0-4251-8f3b-94142322832b",
   "metadata": {
    "tags": []
   },
   "outputs": [
    {
     "name": "stdout",
     "output_type": "stream",
     "text": [
      "Weighted\n",
      "Benign Acc: 0.9762\n",
      "Benign Prec: 0.9762\n",
      "Benign Rec: 0.9762\n",
      "Benign F1: 0.9762\n",
      "Adv Acc: 0.0986\n",
      "Adv Prec: 0.0986\n",
      "Adv Rec: 0.0986\n",
      "Adv F1: 0.0986\n",
      "Benign TPR: 0.9762\n",
      "Benign TNR: 0.9973\n",
      "Benign FPR: 0.0027\n",
      "Benign FNR: 0.0238\n",
      "Adv TPR: 0.0986\n",
      "Adv TNR: 0.8887\n",
      "Adv FPR: 0.1113\n",
      "Adv FNR: 0.9014\n",
      "Benign AUC: 0.9994\n",
      "Adv AUC: 0.8924\n"
     ]
    }
   ],
   "source": [
    "metrics_micro()"
   ]
  },
  {
   "cell_type": "code",
   "execution_count": null,
   "id": "89988217-a246-4a66-9e37-8875abf0e6e3",
   "metadata": {},
   "outputs": [],
   "source": []
  }
 ],
 "metadata": {
  "kernelspec": {
   "display_name": "Python 3 (ipykernel)",
   "language": "python",
   "name": "python3"
  },
  "language_info": {
   "codemirror_mode": {
    "name": "ipython",
    "version": 3
   },
   "file_extension": ".py",
   "mimetype": "text/x-python",
   "name": "python",
   "nbconvert_exporter": "python",
   "pygments_lexer": "ipython3",
   "version": "3.11.5"
  }
 },
 "nbformat": 4,
 "nbformat_minor": 5
}
