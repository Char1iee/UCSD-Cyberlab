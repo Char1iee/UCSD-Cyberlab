{
 "cells": [
  {
   "cell_type": "markdown",
   "id": "08c1374e-cd7d-4b84-b1a7-5a0575a8d655",
   "metadata": {},
   "source": [
    "# **DeepFool**"
   ]
  },
  {
   "cell_type": "markdown",
   "id": "24977441-3df9-48ec-a21b-09425736596d",
   "metadata": {
    "jp-MarkdownHeadingCollapsed": true,
    "tags": []
   },
   "source": [
    "# Imports"
   ]
  },
  {
   "cell_type": "code",
   "execution_count": 1,
   "id": "e5ed8450-5330-4a6b-9c4b-e1a02861dcc1",
   "metadata": {
    "tags": []
   },
   "outputs": [],
   "source": [
    "import torch\n",
    "import torch.nn as nn\n",
    "import torch.nn.functional as F\n",
    "import torch.optim as optim\n",
    "\n",
    "import numpy as np\n",
    "import pandas as pd\n",
    "import matplotlib.pyplot as plt\n",
    "\n",
    "import time\n",
    "\n",
    "from sklearn.model_selection import train_test_split\n",
    "from sklearn.metrics import precision_recall_fscore_support, accuracy_score, confusion_matrix, roc_auc_score\n",
    "from sklearn.preprocessing import label_binarize"
   ]
  },
  {
   "cell_type": "code",
   "execution_count": 2,
   "id": "aedfbd90-28a1-47d1-9a7b-860979402146",
   "metadata": {
    "tags": []
   },
   "outputs": [],
   "source": [
    "from art.attacks.evasion import DeepFool\n",
    "from art.estimators.classification import PyTorchClassifier\n",
    "from art.utils import load_mnist"
   ]
  },
  {
   "cell_type": "markdown",
   "id": "ca689f70-dbb7-4d8b-a604-46e05bbbcadd",
   "metadata": {
    "jp-MarkdownHeadingCollapsed": true,
    "tags": []
   },
   "source": [
    "# Data"
   ]
  },
  {
   "cell_type": "code",
   "execution_count": 3,
   "id": "346e3c83-50fe-478d-a04e-f4c8dc4b20c2",
   "metadata": {
    "tags": []
   },
   "outputs": [],
   "source": [
    "(X_train, y_train), (X_test, y_test), min_pixel_value, max_pixel_value = load_mnist()"
   ]
  },
  {
   "cell_type": "code",
   "execution_count": 4,
   "id": "289cb858-e499-45eb-9131-3e0e684189f7",
   "metadata": {
    "tags": []
   },
   "outputs": [],
   "source": [
    "X_train = np.transpose(X_train, (0, 3, 1, 2)).astype(np.float32)\n",
    "X_test = np.transpose(X_test, (0, 3, 1, 2)).astype(np.float32)"
   ]
  },
  {
   "cell_type": "markdown",
   "id": "3b015c3d-0d66-47e9-bc08-ae82931c5ce4",
   "metadata": {
    "tags": []
   },
   "source": [
    "# Model"
   ]
  },
  {
   "cell_type": "code",
   "execution_count": 5,
   "id": "feeab5c9-8d4d-4f51-aabb-d9b3d2d807df",
   "metadata": {
    "tags": []
   },
   "outputs": [],
   "source": [
    "class MNIST_NN(nn.Module):\n",
    "    def __init__(self):\n",
    "        super(MNIST_NN, self).__init__()\n",
    "        self.conv_1 = nn.Conv2d(in_channels=1, out_channels=4, kernel_size=5, stride=1)\n",
    "        self.conv_2 = nn.Conv2d(in_channels=4, out_channels=10, kernel_size=5, stride=1)\n",
    "        self.fc_1 = nn.Linear(in_features=4 * 4 * 10, out_features=100)\n",
    "        self.fc_2 = nn.Linear(in_features=100, out_features=10)\n",
    "\n",
    "    def forward(self, x):\n",
    "        x = F.relu(self.conv_1(x))\n",
    "        x = F.max_pool2d(x, 2, 2)\n",
    "        x = F.relu(self.conv_2(x))\n",
    "        x = F.max_pool2d(x, 2, 2)\n",
    "        x = x.view(-1, 4 * 4 * 10)\n",
    "        x = F.relu(self.fc_1(x))\n",
    "        x = self.fc_2(x)\n",
    "        return x"
   ]
  },
  {
   "cell_type": "code",
   "execution_count": 8,
   "id": "f14a020e-822e-48aa-ad18-4d99770453dc",
   "metadata": {
    "tags": []
   },
   "outputs": [],
   "source": [
    "def train(model):\n",
    "    criterion = nn.CrossEntropyLoss()\n",
    "    optimizer = optim.Adam(model.parameters(), lr=0.01)\n",
    "    \n",
    "    classifier = PyTorchClassifier(\n",
    "        model=model,\n",
    "        clip_values=(min_pixel_value, max_pixel_value),\n",
    "        loss=criterion,\n",
    "        optimizer=optimizer,\n",
    "        input_shape=(1, 28, 28),\n",
    "        nb_classes=10,\n",
    "    )\n",
    "    \n",
    "    start_time = time.time()\n",
    "    classifier.fit(X_train, y_train, batch_size=64, nb_epochs=5)\n",
    "    training_time = time.time() - start_time\n",
    "    \n",
    "    # Prediction on normal X_test samples\n",
    "    predictions_benign = classifier.predict(X_test)\n",
    "    accuracy = np.sum(np.argmax(predictions_benign, axis=1) == np.argmax(y_test, axis=1)) / len(y_test)\n",
    "    print(\"Accuracy on benign test examples: {}%\".format(accuracy * 100))\n",
    "    \n",
    "    # Prediction on perturbated samples\n",
    "    attack = DeepFool(classifier=classifier)\n",
    "    X_test_adv = attack.generate(x=X_test)\n",
    "    \n",
    "    predictions_adv = classifier.predict(X_test_adv)\n",
    "    accuracy = np.sum(np.argmax(predictions_adv, axis=1) == np.argmax(y_test, axis=1)) / len(y_test)\n",
    "    print(\"Accuracy on adversarial test examples: {}%\".format(accuracy * 100))\n",
    "    \n",
    "\n",
    "    # Time\n",
    "    training_time = time.time() - start_time\n",
    "    print(f\"Time: {training_time:.2f} seconds\")\n",
    "    \n",
    "    predictions_benign_proba = F.softmax(torch.tensor(predictions_benign), dim=1).numpy()\n",
    "    predictions_adv_proba = F.softmax(torch.tensor(predictions_adv), dim=1).numpy()\n",
    "    \n",
    "    return predictions_benign, predictions_adv, predictions_benign_proba, predictions_adv_proba"
   ]
  },
  {
   "cell_type": "code",
   "execution_count": 9,
   "id": "e7918592-8f6d-4bde-99b1-fc61d97c4ecf",
   "metadata": {
    "tags": []
   },
   "outputs": [
    {
     "name": "stdout",
     "output_type": "stream",
     "text": [
      "Accuracy on benign test examples: 98.14%\n"
     ]
    },
    {
     "data": {
      "application/vnd.jupyter.widget-view+json": {
       "model_id": "f54c7162b72c4c48ad64546948c70567",
       "version_major": 2,
       "version_minor": 0
      },
      "text/plain": [
       "DeepFool:   0%|          | 0/10000 [00:00<?, ?it/s]"
      ]
     },
     "metadata": {},
     "output_type": "display_data"
    },
    {
     "name": "stdout",
     "output_type": "stream",
     "text": [
      "Accuracy on adversarial test examples: 6.1899999999999995%\n",
      "Time: 74.28 seconds\n"
     ]
    }
   ],
   "source": [
    "model = MNIST_NN()\n",
    "predictions_benign, predictions_adv, predictions_benign_proba, predictions_adv_proba = train(model)"
   ]
  },
  {
   "cell_type": "markdown",
   "id": "6e4ae24e-9641-4f26-b616-a32477a5049e",
   "metadata": {
    "tags": []
   },
   "source": [
    "# Evaluations"
   ]
  },
  {
   "cell_type": "markdown",
   "id": "2ae2830d-4b70-43ac-9670-6b2a867e9439",
   "metadata": {
    "tags": []
   },
   "source": [
    "## Helpers"
   ]
  },
  {
   "cell_type": "code",
   "execution_count": 10,
   "id": "8156d9e9-071b-49f6-89c1-2a39c5ed30cc",
   "metadata": {
    "tags": []
   },
   "outputs": [],
   "source": [
    "def calculate_weighted_rates(cm):\n",
    "    num_classes = cm.shape[0]\n",
    "    total_instances = np.sum(cm)\n",
    "    \n",
    "    weighted_TPR = 0\n",
    "    weighted_TNR = 0\n",
    "    weighted_FPR = 0\n",
    "    weighted_FNR = 0\n",
    "    \n",
    "    for class_index in range(num_classes):\n",
    "        TP = cm[class_index, class_index]\n",
    "        FP = cm[:, class_index].sum() - TP\n",
    "        FN = cm[class_index, :].sum() - TP\n",
    "        TN = cm.sum() - (TP + FP + FN)\n",
    "        \n",
    "        class_size = cm[class_index, :].sum()  # Total true instances for the class\n",
    "        \n",
    "        # Calculate rates\n",
    "        TPR = TP / (TP + FN) if (TP + FN) != 0 else 0\n",
    "        TNR = TN / (TN + FP) if (TN + FP) != 0 else 0\n",
    "        FPR = FP / (FP + TN) if (FP + TN) != 0 else 0\n",
    "        FNR = FN / (FN + TP) if (FN + TP) != 0 else 0\n",
    "        \n",
    "        # Weight by class proportion and accumulate\n",
    "        weighted_TPR += (class_size / total_instances) * TPR\n",
    "        weighted_TNR += (class_size / total_instances) * TNR\n",
    "        weighted_FPR += (class_size / total_instances) * FPR\n",
    "        weighted_FNR += (class_size / total_instances) * FNR\n",
    "\n",
    "    return weighted_TPR, weighted_TNR, weighted_FPR, weighted_FNR"
   ]
  },
  {
   "cell_type": "code",
   "execution_count": 11,
   "id": "a67e9fac-5ec1-4d00-b98b-616d37d3e83e",
   "metadata": {
    "tags": []
   },
   "outputs": [],
   "source": [
    "def calculate_class_metrics_macro(cm, class_index):\n",
    "\n",
    "    TP = cm[class_index, class_index]\n",
    "    FP = cm[:, class_index].sum() - TP\n",
    "    FN = cm[class_index, :].sum() - TP\n",
    "    TN = cm.sum() - (TP + FP + FN)\n",
    "    \n",
    "    TPR = TP / (TP + FN) if (TP + FN) != 0 else 0  \n",
    "    TNR = TN / (TN + FP) if (TN + FP) != 0 else 0  \n",
    "    FPR = FP / (FP + TN) if (FP + TN) != 0 else 0  \n",
    "    FNR = FN / (FN + TP) if (FN + TP) != 0 else 0  \n",
    "    \n",
    "    return TPR, TNR, FPR, FNR"
   ]
  },
  {
   "cell_type": "code",
   "execution_count": 12,
   "id": "83d6ab1c-3437-4635-9dfa-147b7feb8221",
   "metadata": {
    "tags": []
   },
   "outputs": [],
   "source": [
    "def calculate_metrics_micro(cm):\n",
    "    \n",
    "    TP_sum = np.sum([cm[i, i] for i in range(cm.shape[0])])  # Sum of True Positives\n",
    "    FP_sum = np.sum(cm) - np.sum(np.diag(cm))  # Sum of False Positives (total minus TP)\n",
    "    FN_sum = FP_sum  # In micro-averaging for multi-class, FN and FP are equivalent in sum\n",
    "    TN_sum = np.sum(cm) * (cm.shape[0] - 1) - 2 * FP_sum  # Adjusting TN for multi-class\n",
    "    \n",
    "    TPR_micro = TP_sum / (TP_sum + FN_sum) if (TP_sum + FN_sum) != 0 else 0  \n",
    "    TNR_micro = TN_sum / (TN_sum + FP_sum) if (TN_sum + FP_sum) != 0 else 0  \n",
    "    FPR_micro = FP_sum / (FP_sum + TN_sum) if (FP_sum + TN_sum) != 0 else 0 \n",
    "    FNR_micro = FN_sum / (FN_sum + TP_sum) if (FN_sum + TP_sum) != 0 else 0  \n",
    "    \n",
    "    return TPR_micro, TNR_micro, FPR_micro, FNR_micro"
   ]
  },
  {
   "cell_type": "markdown",
   "id": "7a59a7f8-5fff-40b5-9651-5385609f45c8",
   "metadata": {},
   "source": [
    "## Weighted, Macro, Micro"
   ]
  },
  {
   "cell_type": "code",
   "execution_count": 13,
   "id": "6fa37076-723d-42f5-b1af-16bdb062a1a6",
   "metadata": {
    "tags": []
   },
   "outputs": [],
   "source": [
    "def metrics_weighted(predictions_benign, predictions_adv):\n",
    "    \n",
    "    # Reshape\n",
    "    y_true = np.argmax(y_test, axis=1)\n",
    "    y_pred_benign = np.argmax(predictions_benign, axis=1)\n",
    "    y_pred_adv = np.argmax(predictions_adv, axis=1)\n",
    "    \n",
    "    # Acc, Prec, Rec, F1\n",
    "    precision_benign, recall_benign, f1_benign, _ = precision_recall_fscore_support(y_true, y_pred_benign, average='weighted')\n",
    "    accuracy_benign = accuracy_score(y_true, y_pred_benign)\n",
    "\n",
    "    precision_adv, recall_adv, f1_adv, _ = precision_recall_fscore_support(y_true, y_pred_adv, average='weighted')\n",
    "    accuracy_adv = accuracy_score(y_true, y_pred_adv)\n",
    "    \n",
    "    # TPR, TNR, FPR, FNR\n",
    "    cm_benign = confusion_matrix(y_true, y_pred_benign)\n",
    "    cm_adv = confusion_matrix(y_true, y_pred_adv)\n",
    "    \n",
    "    TPR_benign, TNR_benign, FPR_benign, FNR_benign = calculate_weighted_rates(cm_benign)\n",
    "    TPR_adv, TNR_adv, FPR_adv, FNR_adv = calculate_weighted_rates(cm_adv)\n",
    "    \n",
    "    # AUC\n",
    "    auc_benign = roc_auc_score(y_test, predictions_benign_proba, multi_class='ovr', average='weighted')\n",
    "    auc_adv = roc_auc_score(y_test, predictions_adv_proba, multi_class='ovr', average='weighted')\n",
    "    \n",
    "    print(\"Weighted\")\n",
    "    print(f\"Benign Acc: {accuracy_benign:.4f}\")\n",
    "    print(f\"Benign Prec: {precision_benign:.4f}\")\n",
    "    print(f\"Benign Rec: {recall_benign:.4f}\")\n",
    "    print(f\"Benign F1: {f1_benign:.4f}\")\n",
    "    \n",
    "    print(f\"Adv Acc: {accuracy_adv:.4f}\")\n",
    "    print(f\"Adv Prec: {precision_adv:.4f}\")\n",
    "    print(f\"Adv Rec: {recall_adv:.4f}\")\n",
    "    print(f\"Adv F1: {f1_adv:.4f}\")\n",
    "    \n",
    "    print(f\"Benign TPR: {TPR_benign:.4f}\") \n",
    "    print(f\"Benign TNR: {TNR_benign:.4f}\") \n",
    "    print(f\"Benign FPR: {FPR_benign:.4f}\")\n",
    "    print(f\"Benign FNR: {FNR_benign:.4f}\")\n",
    "    \n",
    "    print(f\"Adv TPR: {TPR_adv:.4f}\") \n",
    "    print(f\"Adv TNR: {TNR_adv:.4f}\") \n",
    "    print(f\"Adv FPR: {FPR_adv:.4f}\")\n",
    "    print(f\"Adv FNR: {FNR_adv:.4f}\")\n",
    "    \n",
    "    print(f\"Benign AUC: {auc_benign:.4f}\")\n",
    "    print(f\"Adv AUC: {auc_adv:.4f}\")"
   ]
  },
  {
   "cell_type": "code",
   "execution_count": 14,
   "id": "f6de1143-2043-409a-a192-6c9d262fef23",
   "metadata": {
    "tags": []
   },
   "outputs": [
    {
     "name": "stdout",
     "output_type": "stream",
     "text": [
      "Weighted\n",
      "Benign Acc: 0.9814\n",
      "Benign Prec: 0.9815\n",
      "Benign Rec: 0.9814\n",
      "Benign F1: 0.9814\n",
      "Adv Acc: 0.0619\n",
      "Adv Prec: 0.0790\n",
      "Adv Rec: 0.0619\n",
      "Adv F1: 0.0648\n",
      "Benign TPR: 0.9814\n",
      "Benign TNR: 0.9979\n",
      "Benign FPR: 0.0021\n",
      "Benign FNR: 0.0186\n",
      "Adv TPR: 0.0619\n",
      "Adv TNR: 0.8963\n",
      "Adv FPR: 0.1037\n",
      "Adv FNR: 0.9381\n",
      "Benign AUC: 0.9997\n",
      "Adv AUC: 0.9421\n"
     ]
    }
   ],
   "source": [
    "metrics_weighted(predictions_benign, predictions_adv)"
   ]
  },
  {
   "cell_type": "code",
   "execution_count": 15,
   "id": "097c3ef0-90eb-4440-bb47-fd4bf749e24a",
   "metadata": {
    "tags": []
   },
   "outputs": [],
   "source": [
    "def metrics_macro():\n",
    "    y_true = np.argmax(y_test, axis=1)\n",
    "    y_pred_benign = np.argmax(predictions_benign, axis=1)\n",
    "    y_pred_adv = np.argmax(predictions_adv, axis=1)\n",
    "\n",
    "    \n",
    "    # Acc, Prec, Rec, F1\n",
    "    precision_benign, recall_benign, f1_benign, _ = precision_recall_fscore_support(y_true, y_pred_benign, average='macro')\n",
    "    accuracy_benign = accuracy_score(y_true, y_pred_benign)\n",
    "    \n",
    "    precision_adv, recall_adv, f1_adv, _ = precision_recall_fscore_support(y_true, y_pred_adv, average='macro')\n",
    "    accuracy_adv = accuracy_score(y_true, y_pred_adv)\n",
    "    \n",
    "    cm_benign = confusion_matrix(y_true, y_pred_benign)\n",
    "    cm_adv = confusion_matrix(y_true, y_pred_adv)\n",
    "    \n",
    "    # TPR, TNR, FPR, FNR\n",
    "    TPR_benign, TNR_benign, FPR_benign, FNR_benign = np.mean([calculate_class_metrics_macro(cm_benign, i) for i in range(10)], axis=0)\n",
    "    TPR_adv, TNR_adv, FPR_adv, FNR_adv = np.mean([calculate_class_metrics_macro(cm_adv, i) for i in range(10)], axis=0)\n",
    "    \n",
    "    # AUC\n",
    "    auc_benign = roc_auc_score(y_test, predictions_benign_proba, multi_class='ovr', average='macro')\n",
    "    auc_adv = roc_auc_score(y_test, predictions_adv_proba, multi_class='ovr', average='macro')\n",
    "    \n",
    "    print(\"Macro\")\n",
    "    print(f\"Benign Acc: {accuracy_benign:.4f}\")\n",
    "    print(f\"Benign Prec: {precision_benign:.4f}\")\n",
    "    print(f\"Benign Rec: {recall_benign:.4f}\")\n",
    "    print(f\"Benign F1: {f1_benign:.4f}\")\n",
    "    \n",
    "    print(f\"Adv Acc: {accuracy_adv:.4f}\")\n",
    "    print(f\"Adv Prec: {precision_adv:.4f}\")\n",
    "    print(f\"Adv Rec: {recall_adv:.4f}\")\n",
    "    print(f\"Adv F1: {f1_adv:.4f}\")\n",
    "    \n",
    "    print(f\"Benign TPR: {TPR_benign:.4f}\") \n",
    "    print(f\"Benign TNR: {TNR_benign:.4f}\") \n",
    "    print(f\"Benign FPR: {FPR_benign:.4f}\")\n",
    "    print(f\"Benign FNR: {FNR_benign:.4f}\")\n",
    "    \n",
    "    print(f\"Adv TPR: {TPR_adv:.4f}\") \n",
    "    print(f\"Adv TNR: {TNR_adv:.4f}\") \n",
    "    print(f\"Adv FPR: {FPR_adv:.4f}\")\n",
    "    print(f\"Adv FNR: {FNR_adv:.4f}\")\n",
    "    \n",
    "    print(f\"Benign AUC: {auc_benign:.4f}\")\n",
    "    print(f\"Adv AUC: {auc_adv:.4f}\")"
   ]
  },
  {
   "cell_type": "code",
   "execution_count": 16,
   "id": "547052e0-cfcb-41ce-9339-c9139566baf9",
   "metadata": {
    "tags": []
   },
   "outputs": [
    {
     "name": "stdout",
     "output_type": "stream",
     "text": [
      "Macro\n",
      "Benign Acc: 0.9814\n",
      "Benign Prec: 0.9813\n",
      "Benign Rec: 0.9812\n",
      "Benign F1: 0.9812\n",
      "Adv Acc: 0.0619\n",
      "Adv Prec: 0.0790\n",
      "Adv Rec: 0.0624\n",
      "Adv F1: 0.0651\n",
      "Benign TPR: 0.9812\n",
      "Benign TNR: 0.9979\n",
      "Benign FPR: 0.0021\n",
      "Benign FNR: 0.0188\n",
      "Adv TPR: 0.0624\n",
      "Adv TNR: 0.8958\n",
      "Adv FPR: 0.1042\n",
      "Adv FNR: 0.9376\n",
      "Benign AUC: 0.9997\n",
      "Adv AUC: 0.9418\n"
     ]
    }
   ],
   "source": [
    "metrics_macro()"
   ]
  },
  {
   "cell_type": "code",
   "execution_count": 17,
   "id": "3e0a22d1-49e1-4d01-9f55-820f8bb8876a",
   "metadata": {
    "tags": []
   },
   "outputs": [],
   "source": [
    "def metrics_micro():\n",
    "    y_true = np.argmax(y_test, axis=1)\n",
    "    y_pred_benign = np.argmax(predictions_benign, axis=1)\n",
    "    y_pred_adv = np.argmax(predictions_adv, axis=1)\n",
    "\n",
    "    # Acc, Prec, Rec, F1\n",
    "    precision_benign, recall_benign, f1_benign, _ = precision_recall_fscore_support(y_true, y_pred_benign, average='micro')\n",
    "    accuracy_benign = accuracy_score(y_true, y_pred_benign)\n",
    "    \n",
    "    precision_adv, recall_adv, f1_adv, _ = precision_recall_fscore_support(y_true, y_pred_adv, average='micro')\n",
    "    accuracy_adv = accuracy_score(y_true, y_pred_adv)\n",
    "    \n",
    "    # TPR, TNR, FPR, FNR\n",
    "    cm_benign = confusion_matrix(y_true, y_pred_benign)\n",
    "    cm_adv = confusion_matrix(y_true, y_pred_adv)\n",
    "    \n",
    "    TPR_benign, TNR_benign, FPR_benign, FNR_benign = calculate_metrics_micro(cm_benign)\n",
    "    TPR_adv, TNR_adv, FPR_adv, FNR_adv = calculate_metrics_micro(cm_adv)\n",
    "    \n",
    "    # AUC\n",
    "    auc_benign = roc_auc_score(y_test, predictions_benign_proba, multi_class='ovr', average='micro')\n",
    "    auc_adv = roc_auc_score(y_test, predictions_adv_proba, multi_class='ovr', average='micro')\n",
    "    \n",
    "    print(\"Weighted\")\n",
    "    print(f\"Benign Acc: {accuracy_benign:.4f}\")\n",
    "    print(f\"Benign Prec: {precision_benign:.4f}\")\n",
    "    print(f\"Benign Rec: {recall_benign:.4f}\")\n",
    "    print(f\"Benign F1: {f1_benign:.4f}\")\n",
    "    \n",
    "    print(f\"Adv Acc: {accuracy_adv:.4f}\")\n",
    "    print(f\"Adv Prec: {precision_adv:.4f}\")\n",
    "    print(f\"Adv Rec: {recall_adv:.4f}\")\n",
    "    print(f\"Adv F1: {f1_adv:.4f}\")\n",
    "    \n",
    "    print(f\"Benign TPR: {TPR_benign:.4f}\") \n",
    "    print(f\"Benign TNR: {TNR_benign:.4f}\") \n",
    "    print(f\"Benign FPR: {FPR_benign:.4f}\")\n",
    "    print(f\"Benign FNR: {FNR_benign:.4f}\")\n",
    "    \n",
    "    print(f\"Adv TPR: {TPR_adv:.4f}\") \n",
    "    print(f\"Adv TNR: {TNR_adv:.4f}\") \n",
    "    print(f\"Adv FPR: {FPR_adv:.4f}\")\n",
    "    print(f\"Adv FNR: {FNR_adv:.4f}\")\n",
    "    \n",
    "    print(f\"Benign AUC: {auc_benign:.4f}\")\n",
    "    print(f\"Adv AUC: {auc_adv:.4f}\")"
   ]
  },
  {
   "cell_type": "code",
   "execution_count": 18,
   "id": "74ccc50d-f863-4e75-a5bb-0561dbc120ce",
   "metadata": {
    "tags": []
   },
   "outputs": [
    {
     "name": "stdout",
     "output_type": "stream",
     "text": [
      "Weighted\n",
      "Benign Acc: 0.9814\n",
      "Benign Prec: 0.9814\n",
      "Benign Rec: 0.9814\n",
      "Benign F1: 0.9814\n",
      "Adv Acc: 0.0619\n",
      "Adv Prec: 0.0619\n",
      "Adv Rec: 0.0619\n",
      "Adv F1: 0.0619\n",
      "Benign TPR: 0.9814\n",
      "Benign TNR: 0.9979\n",
      "Benign FPR: 0.0021\n",
      "Benign FNR: 0.0186\n",
      "Adv TPR: 0.0619\n",
      "Adv TNR: 0.8836\n",
      "Adv FPR: 0.1164\n",
      "Adv FNR: 0.9381\n",
      "Benign AUC: 0.9996\n",
      "Adv AUC: 0.9434\n"
     ]
    }
   ],
   "source": [
    "metrics_micro()"
   ]
  },
  {
   "cell_type": "code",
   "execution_count": null,
   "id": "9545effe-8aac-43ba-9db5-6ff96721449f",
   "metadata": {},
   "outputs": [],
   "source": []
  }
 ],
 "metadata": {
  "kernelspec": {
   "display_name": "Python 3 (ipykernel)",
   "language": "python",
   "name": "python3"
  },
  "language_info": {
   "codemirror_mode": {
    "name": "ipython",
    "version": 3
   },
   "file_extension": ".py",
   "mimetype": "text/x-python",
   "name": "python",
   "nbconvert_exporter": "python",
   "pygments_lexer": "ipython3",
   "version": "3.11.5"
  }
 },
 "nbformat": 4,
 "nbformat_minor": 5
}
