{
 "cells": [
  {
   "cell_type": "markdown",
   "id": "52b8eb0d-d1c0-48c1-b92b-5c2be78161c8",
   "metadata": {},
   "source": [
    "# **Projected Gradient Descent**"
   ]
  },
  {
   "cell_type": "markdown",
   "id": "c6c11601-4876-4f6c-b17c-57988b1ef7ef",
   "metadata": {
    "jp-MarkdownHeadingCollapsed": true,
    "tags": []
   },
   "source": [
    "# Imports"
   ]
  },
  {
   "cell_type": "code",
   "execution_count": 23,
   "id": "16904b46-c3d8-484f-b6fb-4cb8ed8985d8",
   "metadata": {
    "tags": []
   },
   "outputs": [],
   "source": [
    "import torch\n",
    "import torch.nn as nn\n",
    "import torch.nn.functional as F\n",
    "import torch.optim as optim\n",
    "\n",
    "import numpy as np\n",
    "import pandas as pd\n",
    "import matplotlib.pyplot as plt\n",
    "\n",
    "import time\n",
    "\n",
    "from sklearn.model_selection import train_test_split\n",
    "from sklearn.metrics import precision_recall_fscore_support, accuracy_score, confusion_matrix, roc_auc_score\n",
    "from sklearn.preprocessing import label_binarize"
   ]
  },
  {
   "cell_type": "code",
   "execution_count": 24,
   "id": "40dc5fbb-b9e1-462b-bb54-a40d979b7c2e",
   "metadata": {
    "tags": []
   },
   "outputs": [],
   "source": [
    "from art.attacks.evasion import FastGradientMethod\n",
    "from art.estimators.classification import PyTorchClassifier\n",
    "from art.utils import load_mnist"
   ]
  },
  {
   "cell_type": "code",
   "execution_count": 1,
   "id": "80a298a5-2380-4cf7-b016-ec816e806224",
   "metadata": {
    "tags": []
   },
   "outputs": [],
   "source": [
    "\n",
    "\n",
    "import torch\n",
    "import torch.nn as nn\n",
    "import torch.nn.functional as F\n",
    "import torch.optim as optim\n",
    "\n",
    "import numpy as np\n",
    "import pandas as pd\n",
    "import matplotlib.pyplot as plt\n",
    "\n",
    "import time\n",
    "\n",
    "from sklearn.model_selection import train_test_split\n",
    "from sklearn.metrics import precision_recall_fscore_support, accuracy_score, confusion_matrix, roc_auc_score\n",
    "from sklearn.preprocessing import label_binarize"
   ]
  },
  {
   "cell_type": "code",
   "execution_count": 2,
   "id": "43848ebb-11b4-46ae-9aba-4697db9e6446",
   "metadata": {
    "tags": []
   },
   "outputs": [],
   "source": [
    "from art.attacks.evasion import ProjectedGradientDescent\n",
    "from art.estimators.classification import PyTorchClassifier\n",
    "from art.utils import load_mnist"
   ]
  },
  {
   "cell_type": "markdown",
   "id": "39b975f7-23cf-4873-82d7-761e922d3b77",
   "metadata": {
    "jp-MarkdownHeadingCollapsed": true,
    "tags": []
   },
   "source": [
    "# Data"
   ]
  },
  {
   "cell_type": "code",
   "execution_count": 3,
   "id": "a237badd-dc4f-4076-85c3-e704fe5dfd71",
   "metadata": {
    "tags": []
   },
   "outputs": [],
   "source": [
    "(X_train, y_train), (X_test, y_test), min_pixel_value, max_pixel_value = load_mnist()"
   ]
  },
  {
   "cell_type": "code",
   "execution_count": 4,
   "id": "48263dda-0605-43d8-8e57-6626ff42fed3",
   "metadata": {
    "tags": []
   },
   "outputs": [],
   "source": [
    "X_train = np.transpose(X_train, (0, 3, 1, 2)).astype(np.float32)\n",
    "X_test = np.transpose(X_test, (0, 3, 1, 2)).astype(np.float32)"
   ]
  },
  {
   "cell_type": "markdown",
   "id": "f4390807-c34d-4a0a-abc8-edd702390548",
   "metadata": {
    "tags": []
   },
   "source": [
    "# Model"
   ]
  },
  {
   "cell_type": "code",
   "execution_count": 5,
   "id": "b30e30f6-5185-4f61-b300-073152288d92",
   "metadata": {
    "tags": []
   },
   "outputs": [],
   "source": [
    "class MNIST_NN(nn.Module):\n",
    "    def __init__(self):\n",
    "        super(MNIST_NN, self).__init__()\n",
    "        self.conv_1 = nn.Conv2d(in_channels=1, out_channels=4, kernel_size=5, stride=1)\n",
    "        self.conv_2 = nn.Conv2d(in_channels=4, out_channels=10, kernel_size=5, stride=1)\n",
    "        self.fc_1 = nn.Linear(in_features=4 * 4 * 10, out_features=100)\n",
    "        self.fc_2 = nn.Linear(in_features=100, out_features=10)\n",
    "\n",
    "    def forward(self, x):\n",
    "        x = F.relu(self.conv_1(x))\n",
    "        x = F.max_pool2d(x, 2, 2)\n",
    "        x = F.relu(self.conv_2(x))\n",
    "        x = F.max_pool2d(x, 2, 2)\n",
    "        x = x.view(-1, 4 * 4 * 10)\n",
    "        x = F.relu(self.fc_1(x))\n",
    "        x = self.fc_2(x)\n",
    "        return x"
   ]
  },
  {
   "cell_type": "code",
   "execution_count": 26,
   "id": "2a091678-e91b-4b0d-8eef-2fdad4cfb04f",
   "metadata": {
    "tags": []
   },
   "outputs": [],
   "source": [
    "def train(model):\n",
    "    criterion = nn.CrossEntropyLoss()\n",
    "    optimizer = optim.Adam(model.parameters(), lr=0.01)\n",
    "    \n",
    "    classifier = PyTorchClassifier(\n",
    "        model=model,\n",
    "        clip_values=(min_pixel_value, max_pixel_value),\n",
    "        loss=criterion,\n",
    "        optimizer=optimizer,\n",
    "        input_shape=(1, 28, 28),\n",
    "        nb_classes=10,\n",
    "    )\n",
    "    \n",
    "    start_time = time.time()\n",
    "    classifier.fit(X_train, y_train, batch_size=64, nb_epochs=5)\n",
    "    \n",
    "    # Prediction on normal X_test samples\n",
    "    predictions_benign = classifier.predict(X_test)\n",
    "    accuracy = np.sum(np.argmax(predictions_benign, axis=1) == np.argmax(y_test, axis=1)) / len(y_test)\n",
    "    print(\"Accuracy on benign test examples: {}%\".format(accuracy * 100))\n",
    "    \n",
    "    # Prediction on perturbated samples\n",
    "    attack = ProjectedGradientDescent(estimator=classifier, eps=0.2)\n",
    "    X_test_adv = attack.generate(x=X_test)\n",
    "    \n",
    "    predictions_adv = classifier.predict(X_test_adv)\n",
    "    accuracy = np.sum(np.argmax(predictions_adv, axis=1) == np.argmax(y_test, axis=1)) / len(y_test)\n",
    "    print(\"Accuracy on adversarial test examples: {}%\".format(accuracy * 100))\n",
    "    \n",
    "    # Time\n",
    "    training_time = time.time() - start_time\n",
    "    print(f\"Time: {training_time:.2f} seconds\")\n",
    "    \n",
    "    predictions_benign_proba = F.softmax(torch.tensor(predictions_benign), dim=1).numpy()\n",
    "    predictions_adv_proba = F.softmax(torch.tensor(predictions_adv), dim=1).numpy()\n",
    "    \n",
    "    return predictions_benign, predictions_adv, predictions_benign_proba, predictions_adv_proba"
   ]
  },
  {
   "cell_type": "code",
   "execution_count": 27,
   "id": "e87b9fc6-a697-4509-b883-b2c8aec499f8",
   "metadata": {
    "tags": []
   },
   "outputs": [
    {
     "name": "stdout",
     "output_type": "stream",
     "text": [
      "Accuracy on benign test examples: 97.74000000000001%\n"
     ]
    },
    {
     "data": {
      "application/vnd.jupyter.widget-view+json": {
       "model_id": "",
       "version_major": 2,
       "version_minor": 0
      },
      "text/plain": [
       "PGD - Batches:   0%|          | 0/313 [00:00<?, ?it/s]"
      ]
     },
     "metadata": {},
     "output_type": "display_data"
    },
    {
     "name": "stdout",
     "output_type": "stream",
     "text": [
      "Accuracy on adversarial test examples: 2.2399999999999998%\n",
      "Time: 169.40 seconds\n"
     ]
    }
   ],
   "source": [
    "model = MNIST_NN()\n",
    "predictions_benign, predictions_adv, predictions_benign_proba, predictions_adv_proba = train(model)"
   ]
  },
  {
   "cell_type": "markdown",
   "id": "23dba883-6756-49d6-a9c5-5610b29a648f",
   "metadata": {
    "tags": []
   },
   "source": [
    "# Evaluations"
   ]
  },
  {
   "cell_type": "markdown",
   "id": "85e8e0d5-da06-4cc3-9227-4c3e72a3bd67",
   "metadata": {
    "jp-MarkdownHeadingCollapsed": true,
    "tags": []
   },
   "source": [
    "## Helpers"
   ]
  },
  {
   "cell_type": "code",
   "execution_count": 11,
   "id": "837ae6f1-ad77-4a98-b9aa-bf1b24a4c5da",
   "metadata": {
    "tags": []
   },
   "outputs": [],
   "source": [
    "def calculate_weighted_rates(cm):\n",
    "    num_classes = cm.shape[0]\n",
    "    total_instances = np.sum(cm)\n",
    "    \n",
    "    weighted_TPR = 0\n",
    "    weighted_TNR = 0\n",
    "    weighted_FPR = 0\n",
    "    weighted_FNR = 0\n",
    "    \n",
    "    for class_index in range(num_classes):\n",
    "        TP = cm[class_index, class_index]\n",
    "        FP = cm[:, class_index].sum() - TP\n",
    "        FN = cm[class_index, :].sum() - TP\n",
    "        TN = cm.sum() - (TP + FP + FN)\n",
    "        \n",
    "        class_size = cm[class_index, :].sum()  # Total true instances for the class\n",
    "        \n",
    "        # Calculate rates\n",
    "        TPR = TP / (TP + FN) if (TP + FN) != 0 else 0\n",
    "        TNR = TN / (TN + FP) if (TN + FP) != 0 else 0\n",
    "        FPR = FP / (FP + TN) if (FP + TN) != 0 else 0\n",
    "        FNR = FN / (FN + TP) if (FN + TP) != 0 else 0\n",
    "        \n",
    "        # Weight by class proportion and accumulate\n",
    "        weighted_TPR += (class_size / total_instances) * TPR\n",
    "        weighted_TNR += (class_size / total_instances) * TNR\n",
    "        weighted_FPR += (class_size / total_instances) * FPR\n",
    "        weighted_FNR += (class_size / total_instances) * FNR\n",
    "\n",
    "    return weighted_TPR, weighted_TNR, weighted_FPR, weighted_FNR"
   ]
  },
  {
   "cell_type": "code",
   "execution_count": 12,
   "id": "c460197a-9b86-44d5-9436-bce2f00699c6",
   "metadata": {
    "tags": []
   },
   "outputs": [],
   "source": [
    "def calculate_class_metrics_macro(cm, class_index):\n",
    "\n",
    "    TP = cm[class_index, class_index]\n",
    "    FP = cm[:, class_index].sum() - TP\n",
    "    FN = cm[class_index, :].sum() - TP\n",
    "    TN = cm.sum() - (TP + FP + FN)\n",
    "    \n",
    "    TPR = TP / (TP + FN) if (TP + FN) != 0 else 0  \n",
    "    TNR = TN / (TN + FP) if (TN + FP) != 0 else 0  \n",
    "    FPR = FP / (FP + TN) if (FP + TN) != 0 else 0  \n",
    "    FNR = FN / (FN + TP) if (FN + TP) != 0 else 0  \n",
    "    \n",
    "    return TPR, TNR, FPR, FNR"
   ]
  },
  {
   "cell_type": "code",
   "execution_count": 13,
   "id": "fc9e99cd-1221-442b-87d6-ecdd09185627",
   "metadata": {
    "tags": []
   },
   "outputs": [],
   "source": [
    "def calculate_metrics_micro(cm):\n",
    "    \n",
    "    TP_sum = np.sum([cm[i, i] for i in range(cm.shape[0])])  # Sum of True Positives\n",
    "    FP_sum = np.sum(cm) - np.sum(np.diag(cm))  # Sum of False Positives (total minus TP)\n",
    "    FN_sum = FP_sum  # In micro-averaging for multi-class, FN and FP are equivalent in sum\n",
    "    TN_sum = np.sum(cm) * (cm.shape[0] - 1) - 2 * FP_sum  # Adjusting TN for multi-class\n",
    "    \n",
    "    TPR_micro = TP_sum / (TP_sum + FN_sum) if (TP_sum + FN_sum) != 0 else 0  \n",
    "    TNR_micro = TN_sum / (TN_sum + FP_sum) if (TN_sum + FP_sum) != 0 else 0  \n",
    "    FPR_micro = FP_sum / (FP_sum + TN_sum) if (FP_sum + TN_sum) != 0 else 0 \n",
    "    FNR_micro = FN_sum / (FN_sum + TP_sum) if (FN_sum + TP_sum) != 0 else 0  \n",
    "    \n",
    "    return TPR_micro, TNR_micro, FPR_micro, FNR_micro"
   ]
  },
  {
   "cell_type": "markdown",
   "id": "c4ad0639-c0ac-4073-939f-8b1c997ce5c6",
   "metadata": {
    "tags": []
   },
   "source": [
    "## Weighted, Macro, Micro"
   ]
  },
  {
   "cell_type": "code",
   "execution_count": 14,
   "id": "d4de6051-750e-45a4-b555-2652d6fbfbc1",
   "metadata": {
    "tags": []
   },
   "outputs": [],
   "source": [
    "def metrics_weighted(predictions_benign, predictions_adv):\n",
    "    \n",
    "    # Reshape\n",
    "    y_true = np.argmax(y_test, axis=1)\n",
    "    y_pred_benign = np.argmax(predictions_benign, axis=1)\n",
    "    y_pred_adv = np.argmax(predictions_adv, axis=1)\n",
    "    \n",
    "    # Acc, Prec, Rec, F1\n",
    "    precision_benign, recall_benign, f1_benign, _ = precision_recall_fscore_support(y_true, y_pred_benign, average='weighted')\n",
    "    accuracy_benign = accuracy_score(y_true, y_pred_benign)\n",
    "\n",
    "    precision_adv, recall_adv, f1_adv, _ = precision_recall_fscore_support(y_true, y_pred_adv, average='weighted')\n",
    "    accuracy_adv = accuracy_score(y_true, y_pred_adv)\n",
    "    \n",
    "    # TPR, TNR, FPR, FNR\n",
    "    cm_benign = confusion_matrix(y_true, y_pred_benign)\n",
    "    cm_adv = confusion_matrix(y_true, y_pred_adv)\n",
    "    \n",
    "    TPR_benign, TNR_benign, FPR_benign, FNR_benign = calculate_weighted_rates(cm_benign)\n",
    "    TPR_adv, TNR_adv, FPR_adv, FNR_adv = calculate_weighted_rates(cm_adv)\n",
    "    \n",
    "    # AUC\n",
    "    auc_benign = roc_auc_score(y_test, predictions_benign_proba, multi_class='ovr', average='weighted')\n",
    "    auc_adv = roc_auc_score(y_test, predictions_adv_proba, multi_class='ovr', average='weighted')\n",
    "    \n",
    "    print(\"Weighted\")\n",
    "    print(f\"Benign Acc: {accuracy_benign:.4f}\")\n",
    "    print(f\"Benign Prec: {precision_benign:.4f}\")\n",
    "    print(f\"Benign Rec: {recall_benign:.4f}\")\n",
    "    print(f\"Benign F1: {f1_benign:.4f}\")\n",
    "    \n",
    "    print(f\"Adv Acc: {accuracy_adv:.4f}\")\n",
    "    print(f\"Adv Prec: {precision_adv:.4f}\")\n",
    "    print(f\"Adv Rec: {recall_adv:.4f}\")\n",
    "    print(f\"Adv F1: {f1_adv:.4f}\")\n",
    "    \n",
    "    print(f\"Benign TPR: {TPR_benign:.4f}\") \n",
    "    print(f\"Benign TNR: {TNR_benign:.4f}\") \n",
    "    print(f\"Benign FPR: {FPR_benign:.4f}\")\n",
    "    print(f\"Benign FNR: {FNR_benign:.4f}\")\n",
    "    \n",
    "    print(f\"Adv TPR: {TPR_adv:.4f}\") \n",
    "    print(f\"Adv TNR: {TNR_adv:.4f}\") \n",
    "    print(f\"Adv FPR: {FPR_adv:.4f}\")\n",
    "    print(f\"Adv FNR: {FNR_adv:.4f}\")\n",
    "    \n",
    "    print(f\"Benign AUC: {auc_benign:.4f}\")\n",
    "    print(f\"Adv AUC: {auc_adv:.4f}\")"
   ]
  },
  {
   "cell_type": "code",
   "execution_count": 15,
   "id": "44c673fe-fbdb-4749-8272-96440571fdf8",
   "metadata": {
    "tags": []
   },
   "outputs": [
    {
     "name": "stdout",
     "output_type": "stream",
     "text": [
      "Weighted\n",
      "Benign Acc: 0.9806\n",
      "Benign Prec: 0.9808\n",
      "Benign Rec: 0.9806\n",
      "Benign F1: 0.9806\n",
      "Adv Acc: 0.0174\n",
      "Adv Prec: 0.0220\n",
      "Adv Rec: 0.0174\n",
      "Adv F1: 0.0180\n",
      "Benign TPR: 0.9806\n",
      "Benign TNR: 0.9979\n",
      "Benign FPR: 0.0021\n",
      "Benign FNR: 0.0194\n",
      "Adv TPR: 0.0174\n",
      "Adv TNR: 0.8918\n",
      "Adv FPR: 0.1082\n",
      "Adv FNR: 0.9826\n",
      "Benign AUC: 0.9997\n",
      "Adv AUC: 0.5233\n"
     ]
    }
   ],
   "source": [
    "metrics_weighted(predictions_benign, predictions_adv)"
   ]
  },
  {
   "cell_type": "code",
   "execution_count": 18,
   "id": "246139fe-aca3-4299-bd0b-90ae894814b9",
   "metadata": {
    "tags": []
   },
   "outputs": [],
   "source": [
    "def metrics_macro():\n",
    "    y_true = np.argmax(y_test, axis=1)\n",
    "    y_pred_benign = np.argmax(predictions_benign, axis=1)\n",
    "    y_pred_adv = np.argmax(predictions_adv, axis=1)\n",
    "\n",
    "    \n",
    "    # Acc, Prec, Rec, F1\n",
    "    precision_benign, recall_benign, f1_benign, _ = precision_recall_fscore_support(y_true, y_pred_benign, average='macro')\n",
    "    accuracy_benign = accuracy_score(y_true, y_pred_benign)\n",
    "    \n",
    "    precision_adv, recall_adv, f1_adv, _ = precision_recall_fscore_support(y_true, y_pred_adv, average='macro')\n",
    "    accuracy_adv = accuracy_score(y_true, y_pred_adv)\n",
    "    \n",
    "    cm_benign = confusion_matrix(y_true, y_pred_benign)\n",
    "    cm_adv = confusion_matrix(y_true, y_pred_adv)\n",
    "    \n",
    "    # TPR, TNR, FPR, FNR\n",
    "    TPR_benign, TNR_benign, FPR_benign, FNR_benign = np.mean([calculate_class_metrics_macro(cm_benign, i) for i in range(10)], axis=0)\n",
    "    TPR_adv, TNR_adv, FPR_adv, FNR_adv = np.mean([calculate_class_metrics_macro(cm_adv, i) for i in range(10)], axis=0)\n",
    "    \n",
    "    # AUC\n",
    "    auc_benign = roc_auc_score(y_test, predictions_benign_proba, multi_class='ovr', average='macro')\n",
    "    auc_adv = roc_auc_score(y_test, predictions_adv_proba, multi_class='ovr', average='macro')\n",
    "    \n",
    "    print(\"Macro\")\n",
    "    print(f\"Benign Acc: {accuracy_benign:.4f}\")\n",
    "    print(f\"Benign Prec: {precision_benign:.4f}\")\n",
    "    print(f\"Benign Rec: {recall_benign:.4f}\")\n",
    "    print(f\"Benign F1: {f1_benign:.4f}\")\n",
    "    \n",
    "    print(f\"Adv Acc: {accuracy_adv:.4f}\")\n",
    "    print(f\"Adv Prec: {precision_adv:.4f}\")\n",
    "    print(f\"Adv Rec: {recall_adv:.4f}\")\n",
    "    print(f\"Adv F1: {f1_adv:.4f}\")\n",
    "    \n",
    "    print(f\"Benign TPR: {TPR_benign:.4f}\") \n",
    "    print(f\"Benign TNR: {TNR_benign:.4f}\") \n",
    "    print(f\"Benign FPR: {FPR_benign:.4f}\")\n",
    "    print(f\"Benign FNR: {FNR_benign:.4f}\")\n",
    "    \n",
    "    print(f\"Adv TPR: {TPR_adv:.4f}\") \n",
    "    print(f\"Adv TNR: {TNR_adv:.4f}\") \n",
    "    print(f\"Adv FPR: {FPR_adv:.4f}\")\n",
    "    print(f\"Adv FNR: {FNR_adv:.4f}\")\n",
    "    \n",
    "    print(f\"Benign AUC: {auc_benign:.4f}\")\n",
    "    print(f\"Adv AUC: {auc_adv:.4f}\")"
   ]
  },
  {
   "cell_type": "code",
   "execution_count": 19,
   "id": "e5e83088-63fe-40e0-a049-e8f5ae541a7d",
   "metadata": {
    "tags": []
   },
   "outputs": [
    {
     "name": "stdout",
     "output_type": "stream",
     "text": [
      "Macro\n",
      "Benign Acc: 0.9806\n",
      "Benign Prec: 0.9806\n",
      "Benign Rec: 0.9807\n",
      "Benign F1: 0.9806\n",
      "Adv Acc: 0.0174\n",
      "Adv Prec: 0.0218\n",
      "Adv Rec: 0.0175\n",
      "Adv F1: 0.0180\n",
      "Benign TPR: 0.9807\n",
      "Benign TNR: 0.9978\n",
      "Benign FPR: 0.0022\n",
      "Benign FNR: 0.0193\n",
      "Adv TPR: 0.0175\n",
      "Adv TNR: 0.8909\n",
      "Adv FPR: 0.1091\n",
      "Adv FNR: 0.9825\n",
      "Benign AUC: 0.9997\n",
      "Adv AUC: 0.5200\n"
     ]
    }
   ],
   "source": [
    "metrics_macro()"
   ]
  },
  {
   "cell_type": "code",
   "execution_count": 20,
   "id": "9907af52-10b0-4a51-8582-fca05b04c0ed",
   "metadata": {
    "tags": []
   },
   "outputs": [],
   "source": [
    "def metrics_micro():\n",
    "    y_true = np.argmax(y_test, axis=1)\n",
    "    y_pred_benign = np.argmax(predictions_benign, axis=1)\n",
    "    y_pred_adv = np.argmax(predictions_adv, axis=1)\n",
    "\n",
    "    # Acc, Prec, Rec, F1\n",
    "    precision_benign, recall_benign, f1_benign, _ = precision_recall_fscore_support(y_true, y_pred_benign, average='micro')\n",
    "    accuracy_benign = accuracy_score(y_true, y_pred_benign)\n",
    "    \n",
    "    precision_adv, recall_adv, f1_adv, _ = precision_recall_fscore_support(y_true, y_pred_adv, average='micro')\n",
    "    accuracy_adv = accuracy_score(y_true, y_pred_adv)\n",
    "    \n",
    "    # TPR, TNR, FPR, FNR\n",
    "    cm_benign = confusion_matrix(y_true, y_pred_benign)\n",
    "    cm_adv = confusion_matrix(y_true, y_pred_adv)\n",
    "    \n",
    "    TPR_benign, TNR_benign, FPR_benign, FNR_benign = calculate_metrics_micro(cm_benign)\n",
    "    TPR_adv, TNR_adv, FPR_adv, FNR_adv = calculate_metrics_micro(cm_adv)\n",
    "    \n",
    "    # AUC\n",
    "    auc_benign = roc_auc_score(y_test, predictions_benign_proba, multi_class='ovr', average='micro')\n",
    "    auc_adv = roc_auc_score(y_test, predictions_adv_proba, multi_class='ovr', average='micro')\n",
    "    \n",
    "    print(\"Weighted\")\n",
    "    print(f\"Benign Acc: {accuracy_benign:.4f}\")\n",
    "    print(f\"Benign Prec: {precision_benign:.4f}\")\n",
    "    print(f\"Benign Rec: {recall_benign:.4f}\")\n",
    "    print(f\"Benign F1: {f1_benign:.4f}\")\n",
    "    \n",
    "    print(f\"Adv Acc: {accuracy_adv:.4f}\")\n",
    "    print(f\"Adv Prec: {precision_adv:.4f}\")\n",
    "    print(f\"Adv Rec: {recall_adv:.4f}\")\n",
    "    print(f\"Adv F1: {f1_adv:.4f}\")\n",
    "    \n",
    "    print(f\"Benign TPR: {TPR_benign:.4f}\") \n",
    "    print(f\"Benign TNR: {TNR_benign:.4f}\") \n",
    "    print(f\"Benign FPR: {FPR_benign:.4f}\")\n",
    "    print(f\"Benign FNR: {FNR_benign:.4f}\")\n",
    "    \n",
    "    print(f\"Adv TPR: {TPR_adv:.4f}\") \n",
    "    print(f\"Adv TNR: {TNR_adv:.4f}\") \n",
    "    print(f\"Adv FPR: {FPR_adv:.4f}\")\n",
    "    print(f\"Adv FNR: {FNR_adv:.4f}\")\n",
    "    \n",
    "    print(f\"Benign AUC: {auc_benign:.4f}\")\n",
    "    print(f\"Adv AUC: {auc_adv:.4f}\")"
   ]
  },
  {
   "cell_type": "code",
   "execution_count": 21,
   "id": "e4a39fca-f73f-4030-bf5f-56a86d33cf3e",
   "metadata": {
    "tags": []
   },
   "outputs": [
    {
     "name": "stdout",
     "output_type": "stream",
     "text": [
      "Weighted\n",
      "Benign Acc: 0.9806\n",
      "Benign Prec: 0.9806\n",
      "Benign Rec: 0.9806\n",
      "Benign F1: 0.9806\n",
      "Adv Acc: 0.0174\n",
      "Adv Prec: 0.0174\n",
      "Adv Rec: 0.0174\n",
      "Adv F1: 0.0174\n",
      "Benign TPR: 0.9806\n",
      "Benign TNR: 0.9978\n",
      "Benign FPR: 0.0022\n",
      "Benign FNR: 0.0194\n",
      "Adv TPR: 0.0174\n",
      "Adv TNR: 0.8774\n",
      "Adv FPR: 0.1226\n",
      "Adv FNR: 0.9826\n",
      "Benign AUC: 0.9996\n",
      "Adv AUC: 0.5241\n"
     ]
    }
   ],
   "source": [
    "metrics_micro()"
   ]
  }
 ],
 "metadata": {
  "kernelspec": {
   "display_name": "Python 3 (ipykernel)",
   "language": "python",
   "name": "python3"
  },
  "language_info": {
   "codemirror_mode": {
    "name": "ipython",
    "version": 3
   },
   "file_extension": ".py",
   "mimetype": "text/x-python",
   "name": "python",
   "nbconvert_exporter": "python",
   "pygments_lexer": "ipython3",
   "version": "3.11.5"
  }
 },
 "nbformat": 4,
 "nbformat_minor": 5
}
