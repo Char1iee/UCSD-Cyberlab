{
 "cells": [
  {
   "cell_type": "code",
   "execution_count": 1,
   "id": "e8017151-d095-441c-8fe1-2349ec2c66e9",
   "metadata": {},
   "outputs": [],
   "source": [
    "# !pip install art"
   ]
  },
  {
   "cell_type": "code",
   "execution_count": 2,
   "id": "46fff69d-5d7c-4c6f-b4c1-0e85ff50dbe6",
   "metadata": {},
   "outputs": [
    {
     "name": "stderr",
     "output_type": "stream",
     "text": [
      "2024-02-20 23:00:09.839415: I external/local_tsl/tsl/cuda/cudart_stub.cc:31] Could not find cuda drivers on your machine, GPU will not be used.\n",
      "2024-02-20 23:00:09.878836: E external/local_xla/xla/stream_executor/cuda/cuda_dnn.cc:9261] Unable to register cuDNN factory: Attempting to register factory for plugin cuDNN when one has already been registered\n",
      "2024-02-20 23:00:09.878908: E external/local_xla/xla/stream_executor/cuda/cuda_fft.cc:607] Unable to register cuFFT factory: Attempting to register factory for plugin cuFFT when one has already been registered\n",
      "2024-02-20 23:00:09.879721: E external/local_xla/xla/stream_executor/cuda/cuda_blas.cc:1515] Unable to register cuBLAS factory: Attempting to register factory for plugin cuBLAS when one has already been registered\n",
      "2024-02-20 23:00:09.885434: I external/local_tsl/tsl/cuda/cudart_stub.cc:31] Could not find cuda drivers on your machine, GPU will not be used.\n",
      "2024-02-20 23:00:09.885889: I tensorflow/core/platform/cpu_feature_guard.cc:182] This TensorFlow binary is optimized to use available CPU instructions in performance-critical operations.\n",
      "To enable the following instructions: AVX2 FMA, in other operations, rebuild TensorFlow with the appropriate compiler flags.\n",
      "2024-02-20 23:00:10.714457: W tensorflow/compiler/tf2tensorrt/utils/py_utils.cc:38] TF-TRT Warning: Could not find TensorRT\n",
      "/opt/conda/lib/python3.11/site-packages/tqdm/auto.py:21: TqdmWarning: IProgress not found. Please update jupyter and ipywidgets. See https://ipywidgets.readthedocs.io/en/stable/user_install.html\n",
      "  from .autonotebook import tqdm as notebook_tqdm\n"
     ]
    }
   ],
   "source": [
    "import numpy as np\n",
    "import tensorflow as tf\n",
    "from tensorflow.keras.models import Sequential\n",
    "from tensorflow.keras.layers import Dense, Input\n",
    "from tensorflow.keras.optimizers import SGD\n",
    "from tensorflow.keras.callbacks import EarlyStopping\n",
    "from tensorflow.keras import Model\n",
    "from tensorflow.keras.layers import Input, Dense, Conv1D, MaxPooling1D\n",
    "from art.estimators.classification import KerasClassifier\n",
    "tf.compat.v1.disable_eager_execution()\n",
    "\n",
    "\n",
    "\n",
    "x_test = np.load('/home/jovyan/X-IIoTID/x_test.npy')\n",
    "x_train = np.load('/home/jovyan/X-IIoTID/x_train.npy')\n",
    "x_val = np.load('/home/jovyan/X-IIoTID/x_val.npy')\n",
    "y_test = np.load('/home/jovyan/X-IIoTID/y_test.npy')\n",
    "y_train = np.load('/home/jovyan/X-IIoTID/y_train.npy')\n",
    "y_val = np.load('/home/jovyan/X-IIoTID/y_val.npy')"
   ]
  },
  {
   "cell_type": "code",
   "execution_count": 3,
   "id": "0d3ae1af-7581-41e7-bee9-36ff73dc6504",
   "metadata": {},
   "outputs": [
    {
     "name": "stderr",
     "output_type": "stream",
     "text": [
      "2024-02-20 23:00:14.260975: W tensorflow/core/common_runtime/gpu/gpu_device.cc:2256] Cannot dlopen some GPU libraries. Please make sure the missing libraries mentioned above are installed properly if you would like to use GPU. Follow the guide at https://www.tensorflow.org/install/gpu for how to download and setup the required libraries for your platform.\n",
      "Skipping registering GPU devices...\n",
      "2024-02-20 23:00:14.291907: I tensorflow/compiler/mlir/mlir_graph_optimization_pass.cc:388] MLIR V1 optimization pass is not enabled\n",
      "2024-02-20 23:00:14.316543: W tensorflow/c/c_api.cc:305] Operation '{name:'training/Adam/dense_1/bias/v/Assign' id:327 op device:{requested: '', assigned: ''} def:{{{node training/Adam/dense_1/bias/v/Assign}} = AssignVariableOp[_has_manual_control_dependencies=true, dtype=DT_FLOAT, validate_shape=false](training/Adam/dense_1/bias/v, training/Adam/dense_1/bias/v/Initializer/zeros)}}' was changed by setting attribute after it was run by a session. This mutation will have no effect, and will trigger an error in the future. Either don't modify nodes after running them or create a new session.\n",
      "/opt/conda/lib/python3.11/site-packages/keras/src/engine/training_v1.py:2335: UserWarning: `Model.state_updates` will be removed in a future version. This property should not be used in TensorFlow 2.0, as `updates` are applied automatically.\n",
      "  updates = self.state_updates\n",
      "2024-02-20 23:00:24.339981: W tensorflow/c/c_api.cc:305] Operation '{name:'loss/mul' id:156 op device:{requested: '', assigned: ''} def:{{{node loss/mul}} = Mul[T=DT_FLOAT, _has_manual_control_dependencies=true](loss/mul/x, loss/dense_3_loss/value)}}' was changed by setting attribute after it was run by a session. This mutation will have no effect, and will trigger an error in the future. Either don't modify nodes after running them or create a new session.\n"
     ]
    },
    {
     "name": "stdout",
     "output_type": "stream",
     "text": [
      "Test accuracy: 0.97571844\n"
     ]
    },
    {
     "name": "stderr",
     "output_type": "stream",
     "text": [
      "/opt/conda/lib/python3.11/site-packages/keras/src/engine/training_v1.py:2359: UserWarning: `Model.state_updates` will be removed in a future version. This property should not be used in TensorFlow 2.0, as `updates` are applied automatically.\n",
      "  updates=self.state_updates,\n",
      "2024-02-20 23:02:24.551567: W tensorflow/c/c_api.cc:305] Operation '{name:'dense_3/Softmax' id:98 op device:{requested: '', assigned: ''} def:{{{node dense_3/Softmax}} = Softmax[T=DT_FLOAT, _has_manual_control_dependencies=true](dense_3/BiasAdd)}}' was changed by setting attribute after it was run by a session. This mutation will have no effect, and will trigger an error in the future. Either don't modify nodes after running them or create a new session.\n"
     ]
    }
   ],
   "source": [
    "input_shape = x_train.shape[1:]\n",
    "num_classes = len(np.unique(y_train))\n",
    "\n",
    "dnn_model = Sequential()\n",
    "dnn_model.add(Dense(50, input_shape=input_shape, activation='relu'))\n",
    "dnn_model.add(Dense(units=30, activation='relu'))\n",
    "dnn_model.add(Dense(units=20, activation='relu'))\n",
    "dnn_model.add(Dense(units=num_classes, activation='softmax'))\n",
    "\n",
    "# opt = SGD(learning_rate=0.01)\n",
    "\n",
    "dnn_model.compile(loss=\"sparse_categorical_crossentropy\", optimizer=\"adam\", metrics=['accuracy'])\n",
    "\n",
    "early_stopping = EarlyStopping(monitor='val_loss', min_delta=0, patience=5)\n",
    "\n",
    "classifier = KerasClassifier(model=dnn_model, use_logits=False)\n",
    "classifier.fit(x_train, y_train, nb_epochs=10, batch_size=128,validation_data=(x_val, y_val),\n",
    "                     callbacks=[early_stopping])\n",
    "\n",
    "# hist = dnn_model.fit(x_train, y_train, epochs=10, batch_size=128,\n",
    "#                      validation_data=(x_val, y_val),\n",
    "#                      callbacks=[early_stopping])\n",
    "\n",
    "test_loss, test_acc = dnn_model.evaluate(x_test, y_test)\n",
    "print('Test accuracy:', test_acc)\n",
    "\n",
    "y_hat = dnn_model.predict(x_test)\n",
    "y_hat = np.argmax(y_hat, axis=-1)"
   ]
  },
  {
   "cell_type": "code",
   "execution_count": null,
   "id": "3c7081b5-d4ee-4e22-b173-c29eed03be76",
   "metadata": {},
   "outputs": [
    {
     "name": "stdout",
     "output_type": "stream",
     "text": [
      "start\n"
     ]
    },
    {
     "name": "stderr",
     "output_type": "stream",
     "text": [
      "/tmp/ipykernel_30023/994427992.py:14: DeprecationWarning: `product` is deprecated as of NumPy 1.25.0, and will be removed in NumPy 2.0. Please use `prod` instead.\n",
      "  x_test_adv = adv_crafter.generate(x=x_test, y=y_test)\n",
      "JSMA:  11%|█         | 239/2192 [00:19<00:18, 103.77it/s]"
     ]
    }
   ],
   "source": [
    "print(\"start\")\n",
    "from sklearn.metrics import confusion_matrix, precision_score, accuracy_score, f1_score, roc_auc_score\n",
    "import pandas as pd\n",
    "import matplotlib.pyplot as plt\n",
    "from sklearn.metrics import confusion_matrix, ConfusionMatrixDisplay\n",
    "from art.attacks.evasion import SaliencyMapMethod\n",
    "\n",
    "theta_values = [0.1, 0.15, 0.2, 0.25, 0.3]\n",
    "\n",
    "# Iterate over epsilon values\n",
    "for theta in theta_values:\n",
    "    # Craft adversarial samples with FGSM\n",
    "    adv_crafter = SaliencyMapMethod(classifier, theta=theta, batch_size = 64)\n",
    "    x_test_adv = adv_crafter.generate(x=x_test, y=y_test)\n",
    "\n",
    "    # Evaluate the classifier on the adversarial examples\n",
    "    preds = np.argmax(classifier.predict(x_test_adv), axis=1)\n",
    "    # acc = np.sum(preds == np.argmax(y_test, axis=1)) / y_test.shape[0]\n",
    "    # print(\"Test accuracy on adversarial sample (epsilon = %.2f): %.2f%%\" % (epsilon, acc * 100))\n",
    "\n",
    "    y_hat = preds\n",
    "    # y_test_arg = np.argmax(y_test, axis=1)\n",
    "    y_test_arg = y_test\n",
    "    conf_matrix = confusion_matrix(y_test_arg, y_hat)\n",
    "    # tn, fp, fn, tp = conf_matrix.ravel()\n",
    "    cm = conf_matrix\n",
    "    fp = cm.sum(axis=0) - np.diag(cm)\n",
    "    fn = cm.sum(axis=1) - np.diag(cm)\n",
    "    tp = np.diag(cm)\n",
    "    tn = cm.sum() - (fp + fn + tp)\n",
    "    \n",
    "    fpr = fp / (fp + tn)\n",
    "    tpr = tp / (tp + fn)\n",
    "    fnr = fn / (fn + tp)\n",
    "    tnr = tn / (tn + fp)\n",
    "    accuracy = accuracy_score(y_test_arg, y_hat)\n",
    "    precision_macro = precision_score(y_test_arg, y_hat, average='macro')\n",
    "    precision_micro = precision_score(y_test_arg, y_hat, average='micro')\n",
    "    precision_weighted = precision_score(y_test_arg, y_hat, average='weighted')\n",
    "    f1_weighted = f1_score(y_test_arg, y_hat, average='weighted')\n",
    "    f1_macro = f1_score(y_test_arg, y_hat, average='macro')\n",
    "    f1_micro = f1_score(y_test_arg, y_hat, average='micro')\n",
    "    # auc = roc_auc_score(y_test_arg, y_hat, multi_class='ovr')\n",
    "    print(f\"theta = {theta}\")\n",
    "    print(f\"FPR: {fpr}\")\n",
    "    print(f\"TPR: {tpr}\")\n",
    "    print(f\"FNR: {fnr}\")\n",
    "    print(f\"TNR: {tnr}\")\n",
    "    print(f\"Accuracy: {accuracy}\")\n",
    "    print(f\"Precision(micro,macro,weighted): {precision_micro},{precision_macro},{precision_weighted}\")\n",
    "    print(f\"F1(micro,macro,weighted: {f1_micro},{f1_macro},{f1_weighted}\")\n",
    "    # print(f\"AUC: {auc}\")\n",
    "    \n",
    "    print(f\"FPR: {np.mean(fpr)}\")\n",
    "    print(f\"tpr: {np.mean(tpr)}\")\n",
    "    print(f\"fnr: {np.mean(fnr)}\")\n",
    "    print(f\"tnr: {np.mean(tnr)}\")\n",
    "    \n",
    "    disp = ConfusionMatrixDisplay(confusion_matrix=conf_matrix)\n",
    "    disp.plot()\n",
    "    plt.show()\n",
    "    \n",
    "    metrics = {\n",
    "        \"model\" : \"dnn\",\n",
    "        \"attack_model\" : \"jsma\",\n",
    "        \"theta\" : theta,\n",
    "        \"Accuracy\": accuracy,\n",
    "        \"Precision-micro\": precision_micro,\n",
    "        \"Precision-macro\": precision_macro,\n",
    "        \"Precision-weighted\": precision_weighted,\n",
    "        \"F1-micro\": f1_micro,\n",
    "        \"F1-macro\": f1_macro,\n",
    "        \"F1-weighted\": f1_weighted,\n",
    "        \"FPR\": np.mean(fpr),\n",
    "        \"TPR\": np.mean(tpr),\n",
    "        \"FNR\": np.mean(fnr),\n",
    "        \"TNR\": np.mean(tnr),\n",
    "        # \"AUC\": auc\n",
    "    }\n",
    "    metrics_df = pd.DataFrame([metrics])\n",
    "    metrics_df.to_csv(\"/home/jovyan/X-IIoTID/model.csv\", mode='a', index=False)\n",
    "\n",
    "print(\"done\")"
   ]
  }
 ],
 "metadata": {
  "kernelspec": {
   "display_name": "Python 3 (ipykernel)",
   "language": "python",
   "name": "python3"
  },
  "language_info": {
   "codemirror_mode": {
    "name": "ipython",
    "version": 3
   },
   "file_extension": ".py",
   "mimetype": "text/x-python",
   "name": "python",
   "nbconvert_exporter": "python",
   "pygments_lexer": "ipython3",
   "version": "3.11.5"
  }
 },
 "nbformat": 4,
 "nbformat_minor": 5
}
