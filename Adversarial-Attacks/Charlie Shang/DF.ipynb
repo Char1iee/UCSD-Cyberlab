{
 "cells": [
  {
   "cell_type": "code",
   "execution_count": 1,
   "id": "5fbbac85-d62c-490a-9473-01245518e829",
   "metadata": {},
   "outputs": [
    {
     "name": "stderr",
     "output_type": "stream",
     "text": [
      "2024-02-26 02:19:58.054251: I tensorflow/core/util/port.cc:113] oneDNN custom operations are on. You may see slightly different numerical results due to floating-point round-off errors from different computation orders. To turn them off, set the environment variable `TF_ENABLE_ONEDNN_OPTS=0`.\n",
      "2024-02-26 02:19:58.057040: I external/local_tsl/tsl/cuda/cudart_stub.cc:31] Could not find cuda drivers on your machine, GPU will not be used.\n",
      "2024-02-26 02:19:58.088695: E external/local_xla/xla/stream_executor/cuda/cuda_dnn.cc:9261] Unable to register cuDNN factory: Attempting to register factory for plugin cuDNN when one has already been registered\n",
      "2024-02-26 02:19:58.088738: E external/local_xla/xla/stream_executor/cuda/cuda_fft.cc:607] Unable to register cuFFT factory: Attempting to register factory for plugin cuFFT when one has already been registered\n",
      "2024-02-26 02:19:58.090358: E external/local_xla/xla/stream_executor/cuda/cuda_blas.cc:1515] Unable to register cuBLAS factory: Attempting to register factory for plugin cuBLAS when one has already been registered\n",
      "2024-02-26 02:19:58.097663: I external/local_tsl/tsl/cuda/cudart_stub.cc:31] Could not find cuda drivers on your machine, GPU will not be used.\n",
      "2024-02-26 02:19:58.098336: I tensorflow/core/platform/cpu_feature_guard.cc:182] This TensorFlow binary is optimized to use available CPU instructions in performance-critical operations.\n",
      "To enable the following instructions: AVX2 AVX512F AVX512_VNNI AVX512_BF16 AVX_VNNI AMX_TILE AMX_INT8 AMX_BF16 FMA, in other operations, rebuild TensorFlow with the appropriate compiler flags.\n",
      "2024-02-26 02:19:58.876647: W tensorflow/compiler/tf2tensorrt/utils/py_utils.cc:38] TF-TRT Warning: Could not find TensorRT\n",
      "/opt/conda/lib/python3.11/site-packages/tqdm/auto.py:21: TqdmWarning: IProgress not found. Please update jupyter and ipywidgets. See https://ipywidgets.readthedocs.io/en/stable/user_install.html\n",
      "  from .autonotebook import tqdm as notebook_tqdm\n"
     ]
    }
   ],
   "source": [
    "import tensorflow as tf\n",
    "from tensorflow.keras.models import Sequential\n",
    "from tensorflow.keras.layers import Conv2D, MaxPooling2D, Dropout, Flatten, Dense\n",
    "from tensorflow.keras.losses import SparseCategoricalCrossentropy\n",
    "\n",
    "from art.attacks.evasion import DeepFool\n",
    "from art.estimators.classification import TensorFlowV2Classifier\n",
    "from art.utils import load_dataset\n",
    "\n",
    "import numpy as np\n",
    "\n",
    "from sklearn import metrics\n",
    "\n",
    "import joblib"
   ]
  },
  {
   "cell_type": "code",
   "execution_count": 2,
   "id": "130131c1-c01c-489e-8d9d-1cd858815787",
   "metadata": {},
   "outputs": [],
   "source": [
    "def calculate_performance_metrics(x_test, y_test, model):\n",
    "\n",
    "    # Predictions\n",
    "    y_pred = model.predict(x_test)\n",
    "    y_pred_classes = np.argmax(y_pred, axis=1)\n",
    "    \n",
    "    report = metrics.classification_report(y_test, y_pred_classes, output_dict=True, zero_division=1)\n",
    "    \n",
    "    precision_macro = report['macro avg']['precision']\n",
    "    precision_weighted = report['weighted avg']['precision']\n",
    "    accuracy = report['accuracy']\n",
    "    recall_macro = report['macro avg']['recall']\n",
    "    recall_weighted = report['weighted avg']['recall']\n",
    "    f1_macro = report['macro avg']['f1-score']\n",
    "    f1_weighted = report['weighted avg']['f1-score']\n",
    "    auc = metrics.roc_auc_score(y_test, y_pred, multi_class='ovr')\n",
    "\n",
    "    print(f\"Accuracy: {accuracy}\\nAUC: {auc}\")\n",
    "    \n",
    "    print(\"\\nmacro\")\n",
    "    print(f\"Precision: {precision_macro}\\nRecall: {recall_macro}\\nF1 Score: {f1_macro}\")\n",
    "\n",
    "    print(\"\\nweighted\")\n",
    "    print(f\"Precision: {precision_weighted}\\nRecall: {recall_weighted}\\nF1 Score: {f1_weighted}\")\n",
    "    print()\n",
    "    \n",
    "    # Confusion matrix for FNR, TNR, FPR, TPR\n",
    "    cm = metrics.confusion_matrix(y_test, y_pred_classes)\n",
    "    def calculate_rates(conf_matrix, class_index):\n",
    "        tp = conf_matrix[class_index, class_index]\n",
    "        fn = np.sum(conf_matrix[class_index, :]) - tp\n",
    "        fp = np.sum(conf_matrix[:, class_index]) - tp\n",
    "        tn = np.sum(conf_matrix) - (tp + fn + fp)\n",
    "    \n",
    "        fnr = fn / (fn + tp)\n",
    "        tnr = tn / (tn + fp)\n",
    "        fpr = fp / (fp + tn)\n",
    "        tpr = tp / (tp + fn)\n",
    "        return fnr, tnr, fpr, tpr\n",
    "\n",
    "    # Calculate and aggregate rates\n",
    "    fnrs, tnrs, fprs, tprs = [], [], [], []\n",
    "    for i in range(cm.shape[0]):\n",
    "        fnr, tnr, fpr, tpr = calculate_rates(cm, i)\n",
    "        fnrs.append(fnr)\n",
    "        tnrs.append(tnr)\n",
    "        fprs.append(fpr)\n",
    "        tprs.append(tpr)\n",
    "    \n",
    "    mean_fnr = np.mean(fnrs)\n",
    "    mean_tnr = np.mean(tnrs)\n",
    "    mean_fpr = np.mean(fprs)\n",
    "    mean_tpr = np.mean(tprs)\n",
    "\n",
    "    # Printing the mean metrics\n",
    "    print(f\"Mean FNR: {mean_fnr}\\nMean TNR: {mean_tnr}\\nMean FPR: {mean_fpr}\\nMean TPR: {mean_tpr}\")"
   ]
  },
  {
   "cell_type": "code",
   "execution_count": 3,
   "id": "b536545c-9fd8-48dc-bb15-201ff2b8357b",
   "metadata": {},
   "outputs": [],
   "source": [
    "x_test = np.load(\"/home/jovyan/X-IIoT/X-IIoT_preprocessed/x_test.npy\")\n",
    "x_train = np.load(\"/home/jovyan/X-IIoT/X-IIoT_preprocessed/x_train.npy\")\n",
    "x_val = np.load(\"/home/jovyan/X-IIoT/X-IIoT_preprocessed/x_val.npy\")\n",
    "y_test = np.load(\"/home/jovyan/X-IIoT/X-IIoT_preprocessed/y_test.npy\")\n",
    "y_train = np.load(\"/home/jovyan/X-IIoT/X-IIoT_preprocessed/y_train.npy\")\n",
    "y_val = np.load(\"/home/jovyan/X-IIoT/X-IIoT_preprocessed/y_val.npy\")"
   ]
  },
  {
   "cell_type": "code",
   "execution_count": 4,
   "id": "676f3948-6b4b-49d9-980d-5ebe7a58dba8",
   "metadata": {},
   "outputs": [
    {
     "name": "stderr",
     "output_type": "stream",
     "text": [
      "2024-02-26 02:20:03.411762: W tensorflow/core/util/tensor_slice_reader.cc:98] Could not open ram://961f7369c02d4a7395453111879dce0b: INVALID_ARGUMENT: ram://961f7369c02d4a7395453111879dce0b is a directory.\n"
     ]
    }
   ],
   "source": [
    "model = joblib.load(\"/home/jovyan/X-IIoT/dl/dl_new/model/dnn.joblib\")"
   ]
  },
  {
   "cell_type": "code",
   "execution_count": 5,
   "id": "51da522d-90ab-4431-8df4-68b1b9e54115",
   "metadata": {},
   "outputs": [],
   "source": [
    "x_test_trimmed = x_test[20000:25000]\n",
    "y_test_trimmed = y_test[20000:25000]"
   ]
  },
  {
   "cell_type": "code",
   "execution_count": 7,
   "id": "ced35082-cc95-4daf-ac2d-a0734eed63bd",
   "metadata": {},
   "outputs": [],
   "source": [
    "classifier = TensorFlowV2Classifier(\n",
    "    model=model,\n",
    "    nb_classes=19,\n",
    "    input_shape=(58,),\n",
    "    loss_object=tf.keras.losses.SparseCategoricalCrossentropy(),\n",
    ")"
   ]
  },
  {
   "cell_type": "code",
   "execution_count": 8,
   "id": "5c359ac0-fa70-4369-ad57-12d89ddb92df",
   "metadata": {},
   "outputs": [
    {
     "name": "stderr",
     "output_type": "stream",
     "text": [
      "DeepFool:   0%|          | 0/5000 [00:00<?, ?it/s]"
     ]
    },
    {
     "name": "stdout",
     "output_type": "stream",
     "text": [
      "WARNING:tensorflow:Calling GradientTape.gradient on a persistent tape inside its context is significantly less efficient than calling it outside the context (it causes the gradient ops to be recorded on the tape, leading to increased CPU and memory usage). Only call GradientTape.gradient inside the context if you actually want to trace the gradient in order to compute higher order derivatives.\n"
     ]
    },
    {
     "name": "stderr",
     "output_type": "stream",
     "text": [
      "DeepFool: 100%|██████████| 5000/5000 [1:16:30<00:00,  1.09it/s]  \n"
     ]
    }
   ],
   "source": [
    "attack = DeepFool(classifier=classifier, epsilon=0.01)\n",
    "\n",
    "x_test_adv = attack.generate(x=x_test_trimmed)  # x_test is your MNIST test images"
   ]
  },
  {
   "cell_type": "code",
   "execution_count": 9,
   "id": "14164ffc-4a4d-452c-ab3e-1da05ab71e36",
   "metadata": {},
   "outputs": [
    {
     "name": "stdout",
     "output_type": "stream",
     "text": [
      "157/157 [==============================] - 0s 575us/step\n",
      "Accuracy: 0.136\n",
      "AUC: 0.6102342186627555\n",
      "\n",
      "macro\n",
      "Precision: 0.09876952007417407\n",
      "Recall: 0.1144576552780136\n",
      "F1 Score: 0.09294755559793225\n",
      "\n",
      "weighted\n",
      "Precision: 0.2679652931290648\n",
      "Recall: 0.136\n",
      "F1 Score: 0.16674845625723037\n",
      "\n",
      "Mean FNR: 0.8855423447219865\n",
      "Mean TNR: 0.942622408046837\n",
      "Mean FPR: 0.057377591953163096\n",
      "Mean TPR: 0.1144576552780136\n"
     ]
    }
   ],
   "source": [
    "calculate_performance_metrics(x_test_adv, y_test_trimmed, model)"
   ]
  },
  {
   "cell_type": "code",
   "execution_count": 10,
   "id": "80cf2576-6869-4924-8799-01f1655472b5",
   "metadata": {},
   "outputs": [
    {
     "name": "stderr",
     "output_type": "stream",
     "text": [
      "DeepFool: 100%|██████████| 5000/5000 [1:13:50<00:00,  1.13it/s]\n"
     ]
    }
   ],
   "source": [
    "attack = DeepFool(classifier=classifier, epsilon=0.05)\n",
    "\n",
    "x_test_adv = attack.generate(x=x_test_trimmed)  # x_test is your MNIST test images"
   ]
  },
  {
   "cell_type": "code",
   "execution_count": 11,
   "id": "5f91f79c-d90b-4f81-a6c1-1ecfd490f2c9",
   "metadata": {},
   "outputs": [
    {
     "name": "stdout",
     "output_type": "stream",
     "text": [
      "157/157 [==============================] - 0s 609us/step\n",
      "Accuracy: 0.1416\n",
      "AUC: 0.6082219391703667\n",
      "\n",
      "macro\n",
      "Precision: 0.10000115137799186\n",
      "Recall: 0.11496494760521714\n",
      "F1 Score: 0.093707313524651\n",
      "\n",
      "weighted\n",
      "Precision: 0.27542092412333563\n",
      "Recall: 0.1416\n",
      "F1 Score: 0.1735824857186065\n",
      "\n",
      "Mean FNR: 0.8850350523947828\n",
      "Mean TNR: 0.9429489857907156\n",
      "Mean FPR: 0.05705101420928448\n",
      "Mean TPR: 0.11496494760521714\n"
     ]
    }
   ],
   "source": [
    "calculate_performance_metrics(x_test_adv, y_test_trimmed, model)"
   ]
  },
  {
   "cell_type": "code",
   "execution_count": 11,
   "id": "1fa68d5b-31f9-4348-8827-dba47e3a71eb",
   "metadata": {},
   "outputs": [
    {
     "name": "stderr",
     "output_type": "stream",
     "text": [
      "DeepFool: 100%|██████████| 10000/10000 [4:09:54<00:00,  1.50s/it]  \n"
     ]
    }
   ],
   "source": [
    "attack = DeepFool(classifier=classifier, epsilon=0.1)\n",
    "\n",
    "x_test_adv = attack.generate(x=x_test_trimmed)  # x_test is your MNIST test images"
   ]
  },
  {
   "cell_type": "code",
   "execution_count": 12,
   "id": "62903e8a-f02b-446e-97e9-d71c20522028",
   "metadata": {},
   "outputs": [
    {
     "name": "stdout",
     "output_type": "stream",
     "text": [
      "313/313 [==============================] - 0s 589us/step\n",
      "Accuracy: 0.1537\n",
      "AUC: 0.6231929064660084\n",
      "\n",
      "macro\n",
      "Precision: 0.06853119441323076\n",
      "Recall: 0.07050011978965631\n",
      "F1 Score: 0.0543755471725466\n",
      "\n",
      "weighted\n",
      "Precision: 0.23125504930524404\n",
      "Recall: 0.1537\n",
      "F1 Score: 0.18045331338935855\n",
      "\n",
      "Mean FNR: 0.9294998802103438\n",
      "Mean TNR: 0.9365581719746082\n",
      "Mean FPR: 0.06344182802539171\n",
      "Mean TPR: 0.07050011978965631\n"
     ]
    }
   ],
   "source": [
    "calculate_performance_metrics(x_test_adv, y_test_trimmed, model)"
   ]
  },
  {
   "cell_type": "code",
   "execution_count": 9,
   "id": "f28b716d-46a2-42ef-aa1b-14085cb8df2d",
   "metadata": {},
   "outputs": [
    {
     "name": "stderr",
     "output_type": "stream",
     "text": [
      "DeepFool:   0%|          | 0/5000 [00:00<?, ?it/s]"
     ]
    },
    {
     "name": "stdout",
     "output_type": "stream",
     "text": [
      "WARNING:tensorflow:Calling GradientTape.gradient on a persistent tape inside its context is significantly less efficient than calling it outside the context (it causes the gradient ops to be recorded on the tape, leading to increased CPU and memory usage). Only call GradientTape.gradient inside the context if you actually want to trace the gradient in order to compute higher order derivatives.\n"
     ]
    },
    {
     "name": "stderr",
     "output_type": "stream",
     "text": [
      "DeepFool: 100%|██████████| 5000/5000 [2:04:45<00:00,  1.50s/it]  \n"
     ]
    }
   ],
   "source": [
    "attack = DeepFool(classifier=classifier, epsilon=0.15)\n",
    "\n",
    "x_test_adv = attack.generate(x=x_test_trimmed)  # x_test is your MNIST test images"
   ]
  },
  {
   "cell_type": "code",
   "execution_count": 10,
   "id": "7ec71533-52d1-4fb8-a45a-e04f6fb6dcb6",
   "metadata": {},
   "outputs": [
    {
     "name": "stdout",
     "output_type": "stream",
     "text": [
      "157/157 [==============================] - 0s 610us/step\n",
      "Accuracy: 0.1556\n",
      "AUC: 0.6188928543332562\n",
      "\n",
      "macro\n",
      "Precision: 0.06924474679269647\n",
      "Recall: 0.07098424545367793\n",
      "F1 Score: 0.05821787053637322\n",
      "\n",
      "weighted\n",
      "Precision: 0.23225553788236517\n",
      "Recall: 0.1556\n",
      "F1 Score: 0.18276870486718763\n",
      "\n",
      "Mean FNR: 0.9290157545463221\n",
      "Mean TNR: 0.9362994691867641\n",
      "Mean FPR: 0.06370053081323586\n",
      "Mean TPR: 0.07098424545367793\n"
     ]
    }
   ],
   "source": [
    "calculate_performance_metrics(x_test_adv, y_test_trimmed, model)"
   ]
  },
  {
   "cell_type": "code",
   "execution_count": 11,
   "id": "7d4f35e9-bb8c-4133-a5e5-acf35eed601e",
   "metadata": {},
   "outputs": [
    {
     "name": "stderr",
     "output_type": "stream",
     "text": [
      "DeepFool: 100%|██████████| 5000/5000 [2:05:55<00:00,  1.51s/it]  \n"
     ]
    }
   ],
   "source": [
    "attack = DeepFool(classifier=classifier, epsilon=0.2)\n",
    "\n",
    "x_test_adv = attack.generate(x=x_test_trimmed)  # x_test is your MNIST test images"
   ]
  },
  {
   "cell_type": "code",
   "execution_count": 12,
   "id": "a9b530df-4226-44fd-a497-a515f86c8253",
   "metadata": {},
   "outputs": [
    {
     "name": "stdout",
     "output_type": "stream",
     "text": [
      "157/157 [==============================] - 0s 592us/step\n",
      "Accuracy: 0.1564\n",
      "AUC: 0.6183252345763915\n",
      "\n",
      "macro\n",
      "Precision: 0.07086415565830172\n",
      "Recall: 0.07105671578613558\n",
      "F1 Score: 0.059342273925384804\n",
      "\n",
      "weighted\n",
      "Precision: 0.23333992126875583\n",
      "Recall: 0.1564\n",
      "F1 Score: 0.18371389976001073\n",
      "\n",
      "Mean FNR: 0.9289432842138644\n",
      "Mean TNR: 0.9363657367997887\n",
      "Mean FPR: 0.06363426320021108\n",
      "Mean TPR: 0.07105671578613558\n"
     ]
    }
   ],
   "source": [
    "calculate_performance_metrics(x_test_adv, y_test_trimmed, model)"
   ]
  },
  {
   "cell_type": "code",
   "execution_count": 13,
   "id": "0eae84c0-d5ac-456c-99c8-c6550cb9bb72",
   "metadata": {},
   "outputs": [
    {
     "name": "stderr",
     "output_type": "stream",
     "text": [
      "DeepFool: 100%|██████████| 5000/5000 [2:06:05<00:00,  1.51s/it]  \n"
     ]
    }
   ],
   "source": [
    "attack = DeepFool(classifier=classifier, epsilon=0.25)\n",
    "\n",
    "x_test_adv = attack.generate(x=x_test_trimmed)  # x_test is your MNIST test images"
   ]
  },
  {
   "cell_type": "code",
   "execution_count": 14,
   "id": "e437d254-7180-47bf-abc9-56e63fe95959",
   "metadata": {},
   "outputs": [
    {
     "name": "stdout",
     "output_type": "stream",
     "text": [
      "157/157 [==============================] - 0s 610us/step\n",
      "Accuracy: 0.157\n",
      "AUC: 0.6176480906894147\n",
      "\n",
      "macro\n",
      "Precision: 0.07059996780323768\n",
      "Recall: 0.0703946114908643\n",
      "F1 Score: 0.05894065489672211\n",
      "\n",
      "weighted\n",
      "Precision: 0.2342163857459694\n",
      "Recall: 0.157\n",
      "F1 Score: 0.18456470494352548\n",
      "\n",
      "Mean FNR: 0.9296053885091358\n",
      "Mean TNR: 0.9363982972922743\n",
      "Mean FPR: 0.06360170270772564\n",
      "Mean TPR: 0.0703946114908643\n"
     ]
    }
   ],
   "source": [
    "calculate_performance_metrics(x_test_adv, y_test_trimmed, model)"
   ]
  },
  {
   "cell_type": "code",
   "execution_count": 15,
   "id": "2cb1aaee-4241-41d0-bbac-fb68a9b62e53",
   "metadata": {},
   "outputs": [
    {
     "name": "stderr",
     "output_type": "stream",
     "text": [
      "DeepFool: 100%|██████████| 5000/5000 [2:06:20<00:00,  1.52s/it]  \n"
     ]
    }
   ],
   "source": [
    "attack = DeepFool(classifier=classifier, epsilon=0.3)\n",
    "\n",
    "x_test_adv = attack.generate(x=x_test_trimmed)  # x_test is your MNIST test images"
   ]
  },
  {
   "cell_type": "code",
   "execution_count": 16,
   "id": "f70a1330-42b4-4c32-8e87-72ccacb12880",
   "metadata": {},
   "outputs": [
    {
     "name": "stdout",
     "output_type": "stream",
     "text": [
      "157/157 [==============================] - 0s 602us/step\n",
      "Accuracy: 0.1586\n",
      "AUC: 0.6170524100501221\n",
      "\n",
      "macro\n",
      "Precision: 0.07321796618979222\n",
      "Recall: 0.0705395521557796\n",
      "F1 Score: 0.05919346805286544\n",
      "\n",
      "weighted\n",
      "Precision: 0.23564112057949604\n",
      "Recall: 0.1586\n",
      "F1 Score: 0.18609323723678212\n",
      "\n",
      "Mean FNR: 0.9294604478442204\n",
      "Mean TNR: 0.9364325198307268\n",
      "Mean FPR: 0.06356748016927304\n",
      "Mean TPR: 0.0705395521557796\n"
     ]
    }
   ],
   "source": [
    "calculate_performance_metrics(x_test_adv, y_test_trimmed, model)"
   ]
  },
  {
   "cell_type": "code",
   "execution_count": null,
   "id": "b5d47163-0e77-4dd8-8105-e635b730fb59",
   "metadata": {},
   "outputs": [
    {
     "name": "stderr",
     "output_type": "stream",
     "text": [
      "DeepFool:   0%|          | 0/5000 [00:00<?, ?it/s]"
     ]
    },
    {
     "name": "stdout",
     "output_type": "stream",
     "text": [
      "WARNING:tensorflow:Calling GradientTape.gradient on a persistent tape inside its context is significantly less efficient than calling it outside the context (it causes the gradient ops to be recorded on the tape, leading to increased CPU and memory usage). Only call GradientTape.gradient inside the context if you actually want to trace the gradient in order to compute higher order derivatives.\n"
     ]
    },
    {
     "name": "stderr",
     "output_type": "stream",
     "text": [
      "DeepFool:   3%|▎         | 132/5000 [03:25<4:04:30,  3.01s/it]"
     ]
    }
   ],
   "source": [
    "attack = DeepFool(classifier=classifier, epsilon=0.01)\n",
    "\n",
    "x_test_adv = attack.generate(x=x_test_trimmed)  # x_test is your MNIST test images"
   ]
  },
  {
   "cell_type": "code",
   "execution_count": null,
   "id": "718a582c-adf5-42ec-8444-ec4ea95f79af",
   "metadata": {},
   "outputs": [],
   "source": [
    "calculate_performance_metrics(x_test_adv, y_test_trimmed, model)"
   ]
  },
  {
   "cell_type": "code",
   "execution_count": null,
   "id": "bc8b8669-ad0d-436f-a955-b66db99a5179",
   "metadata": {},
   "outputs": [],
   "source": [
    "attack = DeepFool(classifier=classifier, epsilon=0.05)\n",
    "\n",
    "x_test_adv = attack.generate(x=x_test_trimmed)  # x_test is your MNIST test images"
   ]
  },
  {
   "cell_type": "code",
   "execution_count": null,
   "id": "ba8c20ba-dc69-4f2e-b987-53fc53a089f3",
   "metadata": {},
   "outputs": [],
   "source": [
    "calculate_performance_metrics(x_test_adv, y_test_trimmed, model)"
   ]
  },
  {
   "cell_type": "code",
   "execution_count": null,
   "id": "32f5d64c-16f0-4d2e-811a-b2dc19fad980",
   "metadata": {},
   "outputs": [],
   "source": []
  }
 ],
 "metadata": {
  "kernelspec": {
   "display_name": "Python 3 (ipykernel)",
   "language": "python",
   "name": "python3"
  },
  "language_info": {
   "codemirror_mode": {
    "name": "ipython",
    "version": 3
   },
   "file_extension": ".py",
   "mimetype": "text/x-python",
   "name": "python",
   "nbconvert_exporter": "python",
   "pygments_lexer": "ipython3",
   "version": "3.11.5"
  }
 },
 "nbformat": 4,
 "nbformat_minor": 5
}
