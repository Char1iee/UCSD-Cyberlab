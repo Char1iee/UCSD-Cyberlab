{
 "cells": [
  {
   "cell_type": "code",
   "execution_count": 26,
   "id": "5fbbac85-d62c-490a-9473-01245518e829",
   "metadata": {},
   "outputs": [],
   "source": [
    "import tensorflow as tf\n",
    "from tensorflow.keras.models import Sequential\n",
    "from tensorflow.keras.layers import Conv2D, MaxPooling2D, Dropout, Flatten, Dense\n",
    "from tensorflow.keras.losses import SparseCategoricalCrossentropy\n",
    "\n",
    "from art.attacks.evasion import DeepFool\n",
    "from art.estimators.classification import TensorFlowV2Classifier\n",
    "from art.utils import load_dataset\n",
    "\n",
    "import numpy as np\n",
    "import pandas as pd\n",
    "\n",
    "from sklearn import metrics\n",
    "from warnings import simplefilter\n",
    "\n",
    "import joblib"
   ]
  },
  {
   "cell_type": "code",
   "execution_count": 27,
   "id": "130131c1-c01c-489e-8d9d-1cd858815787",
   "metadata": {},
   "outputs": [],
   "source": [
    "def calculate_performance_metrics(x_test, y_test, model):\n",
    "\n",
    "    # Predictions\n",
    "    y_pred = model.predict(x_test)\n",
    "    \n",
    "    y_pred_classes = np.argmax(y_pred, axis=1)\n",
    "    \n",
    "    report = metrics.classification_report(y_test, y_pred_classes, output_dict=True, zero_division=1)\n",
    "    \n",
    "    precision_macro = report['macro avg']['precision']\n",
    "    precision_weighted = report['weighted avg']['precision']\n",
    "    accuracy = report['accuracy']\n",
    "    recall_macro = report['macro avg']['recall']\n",
    "    recall_weighted = report['weighted avg']['recall']\n",
    "    f1_macro = report['macro avg']['f1-score']\n",
    "    f1_weighted = report['weighted avg']['f1-score']\n",
    "    auc = metrics.roc_auc_score(y_test.reshape(-1), y_pred_classes, multi_class='ovr')\n",
    "\n",
    "    print(f\"Accuracy: {accuracy}\\nAUC: {auc}\")\n",
    "    \n",
    "    print(\"\\nmacro\")\n",
    "    print(f\"Precision: {precision_macro}\\nRecall: {recall_macro}\\nF1 Score: {f1_macro}\")\n",
    "\n",
    "    print(\"\\nweighted\")\n",
    "    print(f\"Precision: {precision_weighted}\\nRecall: {recall_weighted}\\nF1 Score: {f1_weighted}\")\n",
    "    print()\n",
    "    \n",
    "    # Confusion matrix for FNR, TNR, FPR, TPR\n",
    "    cm = metrics.confusion_matrix(y_test, y_pred_classes)\n",
    "    def calculate_rates(conf_matrix, class_index):\n",
    "        tp = conf_matrix[class_index, class_index]\n",
    "        fn = np.sum(conf_matrix[class_index, :]) - tp\n",
    "        fp = np.sum(conf_matrix[:, class_index]) - tp\n",
    "        tn = np.sum(conf_matrix) - (tp + fn + fp)\n",
    "    \n",
    "        fnr = fn / (fn + tp)\n",
    "        tnr = tn / (tn + fp)\n",
    "        fpr = fp / (fp + tn)\n",
    "        tpr = tp / (tp + fn)\n",
    "        return fnr, tnr, fpr, tpr\n",
    "\n",
    "    # Calculate and aggregate rates\n",
    "    fnrs, tnrs, fprs, tprs = [], [], [], []\n",
    "    for i in range(cm.shape[0]):\n",
    "        fnr, tnr, fpr, tpr = calculate_rates(cm, i)\n",
    "        fnrs.append(fnr)\n",
    "        tnrs.append(tnr)\n",
    "        fprs.append(fpr)\n",
    "        tprs.append(tpr)\n",
    "    \n",
    "    mean_fnr = np.mean(fnrs)\n",
    "    mean_tnr = np.mean(tnrs)\n",
    "    mean_fpr = np.mean(fprs)\n",
    "    mean_tpr = np.mean(tprs)\n",
    "\n",
    "    # Printing the mean metrics\n",
    "    print(f\"Mean FNR: {mean_fnr}\\nMean TNR: {mean_tnr}\\nMean FPR: {mean_fpr}\\nMean TPR: {mean_tpr}\")"
   ]
  },
  {
   "cell_type": "code",
   "execution_count": 28,
   "id": "b536545c-9fd8-48dc-bb15-201ff2b8357b",
   "metadata": {},
   "outputs": [],
   "source": [
    "x_train = pd.read_csv('/home/jovyan/UNSW/preprocessed_data/x_train.csv', low_memory=False)\n",
    "y_train = pd.read_csv('/home/jovyan/UNSW/preprocessed_data/y_train.csv', low_memory=False)\n",
    "x_test = pd.read_csv('/home/jovyan/UNSW/preprocessed_data/x_test.csv', low_memory=False)\n",
    "y_test = pd.read_csv('/home/jovyan/UNSW/preprocessed_data/y_test.csv', low_memory=False)\n",
    "\n",
    "x_train = x_train.to_numpy()\n",
    "y_train = y_train.to_numpy()\n",
    "x_test = x_test.to_numpy()\n",
    "y_test = y_test.to_numpy()"
   ]
  },
  {
   "cell_type": "code",
   "execution_count": 29,
   "id": "676f3948-6b4b-49d9-980d-5ebe7a58dba8",
   "metadata": {},
   "outputs": [
    {
     "name": "stderr",
     "output_type": "stream",
     "text": [
      "2024-02-26 21:59:12.510335: W tensorflow/core/util/tensor_slice_reader.cc:98] Could not open ram://655f38346f23487980cf0985851e57b9: INVALID_ARGUMENT: ram://655f38346f23487980cf0985851e57b9 is a directory.\n"
     ]
    }
   ],
   "source": [
    "model = joblib.load(\"/home/jovyan/UNSW/dl/new_dl/dnn.joblib\")"
   ]
  },
  {
   "cell_type": "code",
   "execution_count": 30,
   "id": "51da522d-90ab-4431-8df4-68b1b9e54115",
   "metadata": {},
   "outputs": [],
   "source": [
    "x_test_trimmed = x_test[47700:48000]\n",
    "y_test_trimmed = y_test[47700:48000]"
   ]
  },
  {
   "cell_type": "code",
   "execution_count": 31,
   "id": "584220bc-7548-42fe-b42a-b66c7ada7698",
   "metadata": {},
   "outputs": [
    {
     "data": {
      "text/plain": [
       "array([0, 1])"
      ]
     },
     "execution_count": 31,
     "metadata": {},
     "output_type": "execute_result"
    }
   ],
   "source": [
    "np.unique(y_test_trimmed)"
   ]
  },
  {
   "cell_type": "code",
   "execution_count": 32,
   "id": "ced35082-cc95-4daf-ac2d-a0734eed63bd",
   "metadata": {},
   "outputs": [],
   "source": [
    "classifier = TensorFlowV2Classifier(\n",
    "    model=model,\n",
    "    nb_classes=2,\n",
    "    input_shape=(56,),\n",
    "    loss_object=tf.keras.losses.SparseCategoricalCrossentropy(),\n",
    ")"
   ]
  },
  {
   "cell_type": "code",
   "execution_count": 41,
   "id": "327beab8-4645-4ca5-9fb7-4c5481d8fb08",
   "metadata": {},
   "outputs": [
    {
     "name": "stderr",
     "output_type": "stream",
     "text": [
      "DeepFool: 100%|██████████| 300/300 [00:04<00:00, 69.05it/s]\n"
     ]
    }
   ],
   "source": [
    "attack = DeepFool(classifier=classifier, epsilon=0.01)\n",
    "\n",
    "x_test_adv = attack.generate(x=x_test_trimmed)"
   ]
  },
  {
   "cell_type": "code",
   "execution_count": 42,
   "id": "c9121015-d33b-4f2d-9e5b-8e147daed5ed",
   "metadata": {},
   "outputs": [
    {
     "name": "stdout",
     "output_type": "stream",
     "text": [
      "10/10 [==============================] - 0s 908us/step\n",
      "Accuracy: 0.14333333333333334\n",
      "AUC: 0.1018957345971564\n",
      "\n",
      "macro\n",
      "Precision: 0.16287878787878787\n",
      "Recall: 0.1018957345971564\n",
      "F1 Score: 0.12536443148688048\n",
      "\n",
      "weighted\n",
      "Precision: 0.2291161616161616\n",
      "Recall: 0.14333333333333334\n",
      "F1 Score: 0.17634596695821186\n",
      "\n",
      "Mean FNR: 0.8981042654028436\n",
      "Mean TNR: 0.1018957345971564\n",
      "Mean FPR: 0.8981042654028436\n",
      "Mean TPR: 0.1018957345971564\n"
     ]
    }
   ],
   "source": [
    "calculate_performance_metrics(x_test_adv, y_test_trimmed, model)"
   ]
  },
  {
   "cell_type": "code",
   "execution_count": 35,
   "id": "a635e413-0680-4075-9e19-ebf520e66d4a",
   "metadata": {},
   "outputs": [
    {
     "name": "stderr",
     "output_type": "stream",
     "text": [
      "DeepFool: 100%|██████████| 300/300 [00:04<00:00, 68.36it/s]\n"
     ]
    }
   ],
   "source": [
    "attack = DeepFool(classifier=classifier, epsilon=0.05)\n",
    "\n",
    "x_test_adv = attack.generate(x=x_test_trimmed)"
   ]
  },
  {
   "cell_type": "code",
   "execution_count": 36,
   "id": "7a32f98a-3c1a-4764-8fbb-2eb3c411e74d",
   "metadata": {},
   "outputs": [
    {
     "name": "stdout",
     "output_type": "stream",
     "text": [
      "10/10 [==============================] - 0s 930us/step\n",
      "Accuracy: 0.14333333333333334\n",
      "AUC: 0.1018957345971564\n",
      "\n",
      "macro\n",
      "Precision: 0.16287878787878787\n",
      "Recall: 0.1018957345971564\n",
      "F1 Score: 0.12536443148688048\n",
      "\n",
      "weighted\n",
      "Precision: 0.2291161616161616\n",
      "Recall: 0.14333333333333334\n",
      "F1 Score: 0.17634596695821186\n",
      "\n",
      "Mean FNR: 0.8981042654028436\n",
      "Mean TNR: 0.1018957345971564\n",
      "Mean FPR: 0.8981042654028436\n",
      "Mean TPR: 0.1018957345971564\n"
     ]
    }
   ],
   "source": [
    "calculate_performance_metrics(x_test_adv, y_test_trimmed, model)"
   ]
  },
  {
   "cell_type": "code",
   "execution_count": 40,
   "id": "1fa68d5b-31f9-4348-8827-dba47e3a71eb",
   "metadata": {},
   "outputs": [
    {
     "name": "stderr",
     "output_type": "stream",
     "text": [
      "DeepFool:   0%|          | 0/300 [00:00<?, ?it/s]"
     ]
    },
    {
     "name": "stdout",
     "output_type": "stream",
     "text": [
      "WARNING:tensorflow:Calling GradientTape.gradient on a persistent tape inside its context is significantly less efficient than calling it outside the context (it causes the gradient ops to be recorded on the tape, leading to increased CPU and memory usage). Only call GradientTape.gradient inside the context if you actually want to trace the gradient in order to compute higher order derivatives.\n"
     ]
    },
    {
     "name": "stderr",
     "output_type": "stream",
     "text": [
      "DeepFool: 100%|██████████| 300/300 [00:06<00:00, 45.51it/s]\n"
     ]
    }
   ],
   "source": [
    "attack = DeepFool(classifier=classifier, epsilon=0.1)\n",
    "\n",
    "x_test_adv = attack.generate(x=x_test_trimmed)"
   ]
  },
  {
   "cell_type": "code",
   "execution_count": 43,
   "id": "62903e8a-f02b-446e-97e9-d71c20522028",
   "metadata": {},
   "outputs": [
    {
     "name": "stdout",
     "output_type": "stream",
     "text": [
      "10/10 [==============================] - 0s 870us/step\n",
      "Accuracy: 0.14333333333333334\n",
      "AUC: 0.1018957345971564\n",
      "\n",
      "macro\n",
      "Precision: 0.16287878787878787\n",
      "Recall: 0.1018957345971564\n",
      "F1 Score: 0.12536443148688048\n",
      "\n",
      "weighted\n",
      "Precision: 0.2291161616161616\n",
      "Recall: 0.14333333333333334\n",
      "F1 Score: 0.17634596695821186\n",
      "\n",
      "Mean FNR: 0.8981042654028436\n",
      "Mean TNR: 0.1018957345971564\n",
      "Mean FPR: 0.8981042654028436\n",
      "Mean TPR: 0.1018957345971564\n"
     ]
    }
   ],
   "source": [
    "calculate_performance_metrics(x_test_adv, y_test_trimmed, model)"
   ]
  },
  {
   "cell_type": "code",
   "execution_count": 44,
   "id": "f28b716d-46a2-42ef-aa1b-14085cb8df2d",
   "metadata": {},
   "outputs": [
    {
     "name": "stderr",
     "output_type": "stream",
     "text": [
      "DeepFool: 100%|██████████| 300/300 [00:06<00:00, 46.78it/s]\n"
     ]
    }
   ],
   "source": [
    "attack = DeepFool(classifier=classifier, epsilon=0.15)\n",
    "\n",
    "x_test_adv = attack.generate(x=x_test_trimmed)"
   ]
  },
  {
   "cell_type": "code",
   "execution_count": 45,
   "id": "7ec71533-52d1-4fb8-a45a-e04f6fb6dcb6",
   "metadata": {},
   "outputs": [
    {
     "name": "stdout",
     "output_type": "stream",
     "text": [
      "10/10 [==============================] - 0s 715us/step\n",
      "Accuracy: 0.14333333333333334\n",
      "AUC: 0.1018957345971564\n",
      "\n",
      "macro\n",
      "Precision: 0.16287878787878787\n",
      "Recall: 0.1018957345971564\n",
      "F1 Score: 0.12536443148688048\n",
      "\n",
      "weighted\n",
      "Precision: 0.2291161616161616\n",
      "Recall: 0.14333333333333334\n",
      "F1 Score: 0.17634596695821186\n",
      "\n",
      "Mean FNR: 0.8981042654028436\n",
      "Mean TNR: 0.1018957345971564\n",
      "Mean FPR: 0.8981042654028436\n",
      "Mean TPR: 0.1018957345971564\n"
     ]
    }
   ],
   "source": [
    "calculate_performance_metrics(x_test_adv, y_test_trimmed, model)"
   ]
  },
  {
   "cell_type": "code",
   "execution_count": 46,
   "id": "7d4f35e9-bb8c-4133-a5e5-acf35eed601e",
   "metadata": {},
   "outputs": [
    {
     "name": "stderr",
     "output_type": "stream",
     "text": [
      "DeepFool: 100%|██████████| 300/300 [00:06<00:00, 46.27it/s]\n"
     ]
    }
   ],
   "source": [
    "attack = DeepFool(classifier=classifier, epsilon=0.2)\n",
    "\n",
    "x_test_adv = attack.generate(x=x_test_trimmed)"
   ]
  },
  {
   "cell_type": "code",
   "execution_count": 47,
   "id": "a9b530df-4226-44fd-a497-a515f86c8253",
   "metadata": {},
   "outputs": [
    {
     "name": "stdout",
     "output_type": "stream",
     "text": [
      "10/10 [==============================] - 0s 782us/step\n",
      "Accuracy: 0.14333333333333334\n",
      "AUC: 0.1018957345971564\n",
      "\n",
      "macro\n",
      "Precision: 0.16287878787878787\n",
      "Recall: 0.1018957345971564\n",
      "F1 Score: 0.12536443148688048\n",
      "\n",
      "weighted\n",
      "Precision: 0.2291161616161616\n",
      "Recall: 0.14333333333333334\n",
      "F1 Score: 0.17634596695821186\n",
      "\n",
      "Mean FNR: 0.8981042654028436\n",
      "Mean TNR: 0.1018957345971564\n",
      "Mean FPR: 0.8981042654028436\n",
      "Mean TPR: 0.1018957345971564\n"
     ]
    }
   ],
   "source": [
    "calculate_performance_metrics(x_test_adv, y_test_trimmed, model)"
   ]
  },
  {
   "cell_type": "code",
   "execution_count": 48,
   "id": "0eae84c0-d5ac-456c-99c8-c6550cb9bb72",
   "metadata": {},
   "outputs": [
    {
     "name": "stderr",
     "output_type": "stream",
     "text": [
      "DeepFool: 100%|██████████| 300/300 [00:06<00:00, 46.46it/s]\n"
     ]
    }
   ],
   "source": [
    "attack = DeepFool(classifier=classifier, epsilon=0.25)\n",
    "\n",
    "x_test_adv = attack.generate(x=x_test_trimmed)"
   ]
  },
  {
   "cell_type": "code",
   "execution_count": 49,
   "id": "e437d254-7180-47bf-abc9-56e63fe95959",
   "metadata": {},
   "outputs": [
    {
     "name": "stdout",
     "output_type": "stream",
     "text": [
      "10/10 [==============================] - 0s 748us/step\n",
      "Accuracy: 0.14333333333333334\n",
      "AUC: 0.1018957345971564\n",
      "\n",
      "macro\n",
      "Precision: 0.16287878787878787\n",
      "Recall: 0.1018957345971564\n",
      "F1 Score: 0.12536443148688048\n",
      "\n",
      "weighted\n",
      "Precision: 0.2291161616161616\n",
      "Recall: 0.14333333333333334\n",
      "F1 Score: 0.17634596695821186\n",
      "\n",
      "Mean FNR: 0.8981042654028436\n",
      "Mean TNR: 0.1018957345971564\n",
      "Mean FPR: 0.8981042654028436\n",
      "Mean TPR: 0.1018957345971564\n"
     ]
    }
   ],
   "source": [
    "calculate_performance_metrics(x_test_adv, y_test_trimmed, model)"
   ]
  },
  {
   "cell_type": "code",
   "execution_count": 50,
   "id": "2cb1aaee-4241-41d0-bbac-fb68a9b62e53",
   "metadata": {},
   "outputs": [
    {
     "name": "stderr",
     "output_type": "stream",
     "text": [
      "DeepFool: 100%|██████████| 300/300 [00:06<00:00, 46.55it/s]\n"
     ]
    }
   ],
   "source": [
    "attack = DeepFool(classifier=classifier, epsilon=0.3)\n",
    "\n",
    "x_test_adv = attack.generate(x=x_test_trimmed)"
   ]
  },
  {
   "cell_type": "code",
   "execution_count": 51,
   "id": "f70a1330-42b4-4c32-8e87-72ccacb12880",
   "metadata": {},
   "outputs": [
    {
     "name": "stdout",
     "output_type": "stream",
     "text": [
      "10/10 [==============================] - 0s 749us/step\n",
      "Accuracy: 0.14333333333333334\n",
      "AUC: 0.1018957345971564\n",
      "\n",
      "macro\n",
      "Precision: 0.16287878787878787\n",
      "Recall: 0.1018957345971564\n",
      "F1 Score: 0.12536443148688048\n",
      "\n",
      "weighted\n",
      "Precision: 0.2291161616161616\n",
      "Recall: 0.14333333333333334\n",
      "F1 Score: 0.17634596695821186\n",
      "\n",
      "Mean FNR: 0.8981042654028436\n",
      "Mean TNR: 0.1018957345971564\n",
      "Mean FPR: 0.8981042654028436\n",
      "Mean TPR: 0.1018957345971564\n"
     ]
    }
   ],
   "source": [
    "calculate_performance_metrics(x_test_adv, y_test_trimmed, model)"
   ]
  },
  {
   "cell_type": "code",
   "execution_count": 54,
   "id": "b5d47163-0e77-4dd8-8105-e635b730fb59",
   "metadata": {},
   "outputs": [
    {
     "name": "stderr",
     "output_type": "stream",
     "text": [
      "DeepFool: 100%|██████████| 300/300 [00:06<00:00, 46.63it/s]\n"
     ]
    }
   ],
   "source": [
    "attack = DeepFool(classifier=classifier, epsilon=0.001)\n",
    "\n",
    "x_test_adv = attack.generate(x=x_test_trimmed)"
   ]
  },
  {
   "cell_type": "code",
   "execution_count": 55,
   "id": "be723306-4870-407b-90e5-945e02fab57d",
   "metadata": {},
   "outputs": [
    {
     "name": "stdout",
     "output_type": "stream",
     "text": [
      "10/10 [==============================] - 0s 729us/step\n",
      "Accuracy: 0.14666666666666667\n",
      "AUC: 0.10426540284360192\n",
      "\n",
      "macro\n",
      "Precision: 0.16541353383458646\n",
      "Recall: 0.10426540284360189\n",
      "F1 Score: 0.12790697674418605\n",
      "\n",
      "weighted\n",
      "Precision: 0.23268170426065163\n",
      "Recall: 0.14666666666666667\n",
      "F1 Score: 0.17992248062015506\n",
      "\n",
      "Mean FNR: 0.8957345971563981\n",
      "Mean TNR: 0.10426540284360189\n",
      "Mean FPR: 0.8957345971563981\n",
      "Mean TPR: 0.10426540284360189\n"
     ]
    }
   ],
   "source": [
    "calculate_performance_metrics(x_test_adv, y_test_trimmed, model)"
   ]
  },
  {
   "cell_type": "code",
   "execution_count": null,
   "id": "177df7c3-c833-4054-84ec-667a8c2f4290",
   "metadata": {},
   "outputs": [],
   "source": []
  }
 ],
 "metadata": {
  "kernelspec": {
   "display_name": "Python 3 (ipykernel)",
   "language": "python",
   "name": "python3"
  },
  "language_info": {
   "codemirror_mode": {
    "name": "ipython",
    "version": 3
   },
   "file_extension": ".py",
   "mimetype": "text/x-python",
   "name": "python",
   "nbconvert_exporter": "python",
   "pygments_lexer": "ipython3",
   "version": "3.11.5"
  }
 },
 "nbformat": 4,
 "nbformat_minor": 5
}
