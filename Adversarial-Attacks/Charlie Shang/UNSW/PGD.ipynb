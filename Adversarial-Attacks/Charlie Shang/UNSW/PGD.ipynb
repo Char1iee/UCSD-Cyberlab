{
 "cells": [
  {
   "cell_type": "code",
   "execution_count": 1,
   "id": "be6e67ee-0350-4197-bcfc-401515a6f47e",
   "metadata": {},
   "outputs": [
    {
     "name": "stderr",
     "output_type": "stream",
     "text": [
      "2024-02-26 20:48:11.239267: I tensorflow/core/util/port.cc:113] oneDNN custom operations are on. You may see slightly different numerical results due to floating-point round-off errors from different computation orders. To turn them off, set the environment variable `TF_ENABLE_ONEDNN_OPTS=0`.\n",
      "2024-02-26 20:48:11.242049: I external/local_tsl/tsl/cuda/cudart_stub.cc:31] Could not find cuda drivers on your machine, GPU will not be used.\n",
      "2024-02-26 20:48:11.273245: E external/local_xla/xla/stream_executor/cuda/cuda_dnn.cc:9261] Unable to register cuDNN factory: Attempting to register factory for plugin cuDNN when one has already been registered\n",
      "2024-02-26 20:48:11.273289: E external/local_xla/xla/stream_executor/cuda/cuda_fft.cc:607] Unable to register cuFFT factory: Attempting to register factory for plugin cuFFT when one has already been registered\n",
      "2024-02-26 20:48:11.274854: E external/local_xla/xla/stream_executor/cuda/cuda_blas.cc:1515] Unable to register cuBLAS factory: Attempting to register factory for plugin cuBLAS when one has already been registered\n",
      "2024-02-26 20:48:11.281833: I external/local_tsl/tsl/cuda/cudart_stub.cc:31] Could not find cuda drivers on your machine, GPU will not be used.\n",
      "2024-02-26 20:48:11.282230: I tensorflow/core/platform/cpu_feature_guard.cc:182] This TensorFlow binary is optimized to use available CPU instructions in performance-critical operations.\n",
      "To enable the following instructions: AVX2 AVX512F AVX512_VNNI AVX512_BF16 AVX_VNNI AMX_TILE AMX_INT8 AMX_BF16 FMA, in other operations, rebuild TensorFlow with the appropriate compiler flags.\n",
      "2024-02-26 20:48:11.899310: W tensorflow/compiler/tf2tensorrt/utils/py_utils.cc:38] TF-TRT Warning: Could not find TensorRT\n",
      "/opt/conda/lib/python3.11/site-packages/tqdm/auto.py:21: TqdmWarning: IProgress not found. Please update jupyter and ipywidgets. See https://ipywidgets.readthedocs.io/en/stable/user_install.html\n",
      "  from .autonotebook import tqdm as notebook_tqdm\n"
     ]
    }
   ],
   "source": [
    "import tensorflow as tf\n",
    "from tensorflow.keras.models import Sequential\n",
    "from tensorflow.keras.layers import Conv2D, MaxPooling2D, Dropout, Flatten, Dense\n",
    "\n",
    "from art.attacks.evasion import ProjectedGradientDescent\n",
    "from art.estimators.classification import TensorFlowV2Classifier\n",
    "from art.utils import load_dataset\n",
    "\n",
    "import numpy as np\n",
    "import pandas as pd\n",
    "\n",
    "from sklearn import metrics\n",
    "from warnings import simplefilter\n",
    "\n",
    "import joblib"
   ]
  },
  {
   "cell_type": "code",
   "execution_count": 2,
   "id": "cd61f690-d764-42d2-8f61-e4a6ac17bb8b",
   "metadata": {},
   "outputs": [],
   "source": [
    "def calculate_performance_metrics(x_test, y_test, model):\n",
    "\n",
    "    # Predictions\n",
    "    y_pred = model.predict(x_test)\n",
    "    \n",
    "    y_pred_classes = np.argmax(y_pred, axis=1)\n",
    "    \n",
    "    report = metrics.classification_report(y_test, y_pred_classes, output_dict=True, zero_division=1)\n",
    "    \n",
    "    precision_macro = report['macro avg']['precision']\n",
    "    precision_weighted = report['weighted avg']['precision']\n",
    "    accuracy = report['accuracy']\n",
    "    recall_macro = report['macro avg']['recall']\n",
    "    recall_weighted = report['weighted avg']['recall']\n",
    "    f1_macro = report['macro avg']['f1-score']\n",
    "    f1_weighted = report['weighted avg']['f1-score']\n",
    "    auc = metrics.roc_auc_score(y_test.reshape(-1), y_pred_classes, multi_class='ovr')\n",
    "\n",
    "    print(f\"Accuracy: {accuracy}\\nAUC: {auc}\")\n",
    "    \n",
    "    print(\"\\nmacro\")\n",
    "    print(f\"Precision: {precision_macro}\\nRecall: {recall_macro}\\nF1 Score: {f1_macro}\")\n",
    "\n",
    "    print(\"\\nweighted\")\n",
    "    print(f\"Precision: {precision_weighted}\\nRecall: {recall_weighted}\\nF1 Score: {f1_weighted}\")\n",
    "    print()\n",
    "    \n",
    "    # Confusion matrix for FNR, TNR, FPR, TPR\n",
    "    cm = metrics.confusion_matrix(y_test, y_pred_classes)\n",
    "    def calculate_rates(conf_matrix, class_index):\n",
    "        tp = conf_matrix[class_index, class_index]\n",
    "        fn = np.sum(conf_matrix[class_index, :]) - tp\n",
    "        fp = np.sum(conf_matrix[:, class_index]) - tp\n",
    "        tn = np.sum(conf_matrix) - (tp + fn + fp)\n",
    "    \n",
    "        fnr = fn / (fn + tp)\n",
    "        tnr = tn / (tn + fp)\n",
    "        fpr = fp / (fp + tn)\n",
    "        tpr = tp / (tp + fn)\n",
    "        return fnr, tnr, fpr, tpr\n",
    "\n",
    "    # Calculate and aggregate rates\n",
    "    fnrs, tnrs, fprs, tprs = [], [], [], []\n",
    "    for i in range(cm.shape[0]):\n",
    "        fnr, tnr, fpr, tpr = calculate_rates(cm, i)\n",
    "        fnrs.append(fnr)\n",
    "        tnrs.append(tnr)\n",
    "        fprs.append(fpr)\n",
    "        tprs.append(tpr)\n",
    "    \n",
    "    mean_fnr = np.mean(fnrs)\n",
    "    mean_tnr = np.mean(tnrs)\n",
    "    mean_fpr = np.mean(fprs)\n",
    "    mean_tpr = np.mean(tprs)\n",
    "\n",
    "    # Printing the mean metrics\n",
    "    print(f\"Mean FNR: {mean_fnr}\\nMean TNR: {mean_tnr}\\nMean FPR: {mean_fpr}\\nMean TPR: {mean_tpr}\")"
   ]
  },
  {
   "cell_type": "code",
   "execution_count": 3,
   "id": "c9e931bf-6797-49aa-9780-fb41cd7b6777",
   "metadata": {},
   "outputs": [],
   "source": [
    "x_train = pd.read_csv('/home/jovyan/UNSW/preprocessed_data/x_train.csv', low_memory=False)\n",
    "y_train = pd.read_csv('/home/jovyan/UNSW/preprocessed_data/y_train.csv', low_memory=False)\n",
    "x_test = pd.read_csv('/home/jovyan/UNSW/preprocessed_data/x_test.csv', low_memory=False)\n",
    "y_test = pd.read_csv('/home/jovyan/UNSW/preprocessed_data/y_test.csv', low_memory=False)\n",
    "\n",
    "x_train = x_train.to_numpy()\n",
    "y_train = y_train.to_numpy()\n",
    "x_test = x_test.to_numpy()\n",
    "y_test = y_test.to_numpy()"
   ]
  },
  {
   "cell_type": "code",
   "execution_count": 4,
   "id": "bc1eaba0-78b4-48ff-946b-41d18cec41f2",
   "metadata": {},
   "outputs": [
    {
     "name": "stderr",
     "output_type": "stream",
     "text": [
      "2024-02-26 20:48:16.823331: W tensorflow/core/util/tensor_slice_reader.cc:98] Could not open ram://92ab165426bf4b19874efd329b494dea: INVALID_ARGUMENT: ram://92ab165426bf4b19874efd329b494dea is a directory.\n"
     ]
    }
   ],
   "source": [
    "model = joblib.load(\"/home/jovyan/UNSW/dl/new_dl/dnn.joblib\")"
   ]
  },
  {
   "cell_type": "code",
   "execution_count": 5,
   "id": "f778d492-4b74-47f0-8aab-73339777edcb",
   "metadata": {},
   "outputs": [],
   "source": [
    "classifier = TensorFlowV2Classifier(\n",
    "    model=model,\n",
    "    nb_classes=2,\n",
    "    input_shape=(56,),\n",
    "    loss_object=tf.keras.losses.SparseCategoricalCrossentropy(),\n",
    ")"
   ]
  },
  {
   "cell_type": "code",
   "execution_count": 6,
   "id": "d0f03554-b390-4694-8e1b-131c91c1ffed",
   "metadata": {},
   "outputs": [
    {
     "name": "stderr",
     "output_type": "stream",
     "text": [
      "                                        \r"
     ]
    }
   ],
   "source": [
    "# Initialize PGD attack\n",
    "attack = ProjectedGradientDescent(estimator=classifier, eps=0.01)\n",
    "\n",
    "# Generate adversarial test examples\n",
    "adv_test_examples = attack.generate(x=x_test)"
   ]
  },
  {
   "cell_type": "code",
   "execution_count": 7,
   "id": "4a9f2ada-0178-4e0f-b157-fda48cfa569a",
   "metadata": {},
   "outputs": [
    {
     "name": "stdout",
     "output_type": "stream",
     "text": [
      "5480/5480 [==============================] - 3s 559us/step\n",
      "Accuracy: 0.9041182609885879\n",
      "AUC: 0.9135551922342579\n",
      "\n",
      "macro\n",
      "Precision: 0.8828585491637047\n",
      "Recall: 0.913555192234258\n",
      "F1 Score: 0.8943625013609735\n",
      "\n",
      "weighted\n",
      "Precision: 0.9140091981886632\n",
      "Recall: 0.9041182609885879\n",
      "F1 Score: 0.9059593779786471\n",
      "\n",
      "Mean FNR: 0.08644480776574211\n",
      "Mean TNR: 0.913555192234258\n",
      "Mean FPR: 0.08644480776574211\n",
      "Mean TPR: 0.913555192234258\n"
     ]
    }
   ],
   "source": [
    "calculate_performance_metrics(adv_test_examples, y_test, model)"
   ]
  },
  {
   "cell_type": "code",
   "execution_count": 8,
   "id": "40fb5854-b4bc-4aae-9061-d0e6edce33ce",
   "metadata": {},
   "outputs": [
    {
     "name": "stderr",
     "output_type": "stream",
     "text": [
      "                                        \r"
     ]
    }
   ],
   "source": [
    "# Initialize PGD attack\n",
    "attack = ProjectedGradientDescent(estimator=classifier, eps=0.05)\n",
    "\n",
    "# Generate adversarial test examples\n",
    "adv_test_examples = attack.generate(x=x_test)"
   ]
  },
  {
   "cell_type": "code",
   "execution_count": 9,
   "id": "2bd28d18-e419-4772-99a7-56a24d9cbb47",
   "metadata": {},
   "outputs": [
    {
     "name": "stdout",
     "output_type": "stream",
     "text": [
      "5480/5480 [==============================] - 3s 604us/step\n",
      "Accuracy: 0.8894953262499928\n",
      "AUC: 0.893292422628674\n",
      "\n",
      "macro\n",
      "Precision: 0.8674064006392516\n",
      "Recall: 0.8932924226286739\n",
      "F1 Score: 0.8775625640346358\n",
      "\n",
      "weighted\n",
      "Precision: 0.8977320533065243\n",
      "Recall: 0.8894953262499928\n",
      "F1 Score: 0.8913705088542878\n",
      "\n",
      "Mean FNR: 0.1067075773713261\n",
      "Mean TNR: 0.8932924226286739\n",
      "Mean FPR: 0.1067075773713261\n",
      "Mean TPR: 0.8932924226286739\n"
     ]
    }
   ],
   "source": [
    "calculate_performance_metrics(adv_test_examples, y_test, model)"
   ]
  },
  {
   "cell_type": "code",
   "execution_count": 6,
   "id": "b787aecb-ad28-4554-b840-d516f0760ffb",
   "metadata": {},
   "outputs": [
    {
     "name": "stderr",
     "output_type": "stream",
     "text": [
      "                                        \r"
     ]
    }
   ],
   "source": [
    "# Initialize PGD attack\n",
    "attack = ProjectedGradientDescent(estimator=classifier, eps=0.1)\n",
    "\n",
    "# Generate adversarial test examples\n",
    "adv_test_examples = attack.generate(x=x_test)"
   ]
  },
  {
   "cell_type": "code",
   "execution_count": 7,
   "id": "cb192c27-ae29-4afb-922f-e57834a744a6",
   "metadata": {},
   "outputs": [
    {
     "data": {
      "text/plain": [
       "array([[-0.1,  0.1, -0.1, ...,  0.9,  0.9,  0.1],\n",
       "       [-0.1,  0.1, -0.1, ...,  0.9,  6.1,  0.1],\n",
       "       [-0.1,  0.1, -0.1, ...,  1.9,  6.1,  0.1],\n",
       "       ...,\n",
       "       [-0.1, -0.1, -0.1, ...,  2.9, 11.9,  0.1],\n",
       "       [-0.1, -0.1, -0.1, ..., 25.9, 29.9,  0.1],\n",
       "       [-0.1, -0.1, -0.1, ..., 26.1, 29.9,  0.1]], dtype=float32)"
      ]
     },
     "execution_count": 7,
     "metadata": {},
     "output_type": "execute_result"
    }
   ],
   "source": [
    "adv_test_examples"
   ]
  },
  {
   "cell_type": "code",
   "execution_count": 8,
   "id": "8a4722ca-55e4-47ee-b04b-9cc2db379061",
   "metadata": {},
   "outputs": [
    {
     "name": "stdout",
     "output_type": "stream",
     "text": [
      "5480/5480 [==============================] - 3s 566us/step\n",
      "Accuracy: 0.8642930061993487\n",
      "AUC: 0.8671960146165788\n",
      "\n",
      "macro\n",
      "Precision: 0.8404221006533991\n",
      "Recall: 0.8671960146165789\n",
      "F1 Score: 0.850350511497591\n",
      "\n",
      "weighted\n",
      "Precision: 0.8750225955888895\n",
      "Recall: 0.8642930061993487\n",
      "F1 Score: 0.8668514748179205\n",
      "\n",
      "Mean FNR: 0.13280398538342109\n",
      "Mean TNR: 0.8671960146165789\n",
      "Mean FPR: 0.13280398538342109\n",
      "Mean TPR: 0.8671960146165789\n"
     ]
    }
   ],
   "source": [
    "calculate_performance_metrics(adv_test_examples, y_test, model)"
   ]
  },
  {
   "cell_type": "code",
   "execution_count": 9,
   "id": "47c091a7-e69e-4ebf-be61-51449a2878ee",
   "metadata": {},
   "outputs": [
    {
     "name": "stderr",
     "output_type": "stream",
     "text": [
      "                                        \r"
     ]
    }
   ],
   "source": [
    "# Initialize PGD attack\n",
    "attack = ProjectedGradientDescent(estimator=classifier, eps=0.15)\n",
    "\n",
    "# Generate adversarial test examples\n",
    "adv_test_examples = attack.generate(x=x_test)"
   ]
  },
  {
   "cell_type": "code",
   "execution_count": 10,
   "id": "a6ffb1f2-a93f-407b-9773-78b9f88d5f72",
   "metadata": {},
   "outputs": [
    {
     "data": {
      "text/plain": [
       "array([[-0.15,  0.15, -0.15, ...,  0.85,  0.85,  0.15],\n",
       "       [-0.15,  0.15, -0.15, ...,  0.85,  6.15,  0.15],\n",
       "       [-0.15,  0.15, -0.15, ...,  1.85,  6.15,  0.15],\n",
       "       ...,\n",
       "       [-0.15, -0.15, -0.15, ...,  2.85, 11.85,  0.15],\n",
       "       [-0.15, -0.15, -0.15, ..., 25.85, 29.85,  0.15],\n",
       "       [-0.15, -0.15, -0.15, ..., 25.85, 29.85,  0.15]], dtype=float32)"
      ]
     },
     "execution_count": 10,
     "metadata": {},
     "output_type": "execute_result"
    }
   ],
   "source": [
    "adv_test_examples"
   ]
  },
  {
   "cell_type": "code",
   "execution_count": 11,
   "id": "20b7fd14-d8c2-48d7-83d0-4f1bce3af785",
   "metadata": {},
   "outputs": [
    {
     "name": "stdout",
     "output_type": "stream",
     "text": [
      "5480/5480 [==============================] - 3s 574us/step\n",
      "Accuracy: 0.8173330823937356\n",
      "AUC: 0.8270305107842233\n",
      "\n",
      "macro\n",
      "Precision: 0.7941605145632976\n",
      "Recall: 0.8270305107842234\n",
      "F1 Score: 0.8027486662085808\n",
      "\n",
      "weighted\n",
      "Precision: 0.8400069496389738\n",
      "Recall: 0.8173330823937356\n",
      "F1 Score: 0.8221243007902305\n",
      "\n",
      "Mean FNR: 0.17296948921577665\n",
      "Mean TNR: 0.8270305107842234\n",
      "Mean FPR: 0.17296948921577665\n",
      "Mean TPR: 0.8270305107842234\n"
     ]
    }
   ],
   "source": [
    "calculate_performance_metrics(adv_test_examples, y_test, model)"
   ]
  },
  {
   "cell_type": "code",
   "execution_count": 12,
   "id": "748ab693-e374-4d96-9a91-a3438dadf545",
   "metadata": {},
   "outputs": [
    {
     "name": "stderr",
     "output_type": "stream",
     "text": [
      "                                        \r"
     ]
    }
   ],
   "source": [
    "# Initialize PGD attack\n",
    "attack = ProjectedGradientDescent(estimator=classifier, eps=0.2)\n",
    "\n",
    "# Generate adversarial test examples\n",
    "adv_test_examples = attack.generate(x=x_test)"
   ]
  },
  {
   "cell_type": "code",
   "execution_count": 13,
   "id": "48913507-c4de-40e1-bbc9-7dbd4c51e8be",
   "metadata": {},
   "outputs": [
    {
     "name": "stdout",
     "output_type": "stream",
     "text": [
      "5480/5480 [==============================] - 3s 566us/step\n",
      "Accuracy: 0.7409333812399838\n",
      "AUC: 0.7670339465421415\n",
      "\n",
      "macro\n",
      "Precision: 0.7327323968179151\n",
      "Recall: 0.7670339465421416\n",
      "F1 Score: 0.7295875682401609\n",
      "\n",
      "weighted\n",
      "Precision: 0.7939099441360459\n",
      "Recall: 0.7409333812399838\n",
      "F1 Score: 0.7495968994914636\n",
      "\n",
      "Mean FNR: 0.23296605345785848\n",
      "Mean TNR: 0.7670339465421416\n",
      "Mean FPR: 0.23296605345785848\n",
      "Mean TPR: 0.7670339465421416\n"
     ]
    }
   ],
   "source": [
    "calculate_performance_metrics(adv_test_examples, y_test, model)"
   ]
  },
  {
   "cell_type": "code",
   "execution_count": 14,
   "id": "6f53afc2-eb14-4336-aaa6-b56c597a90d3",
   "metadata": {},
   "outputs": [
    {
     "name": "stderr",
     "output_type": "stream",
     "text": [
      "                                        \r"
     ]
    }
   ],
   "source": [
    "# Initialize PGD attack\n",
    "attack = ProjectedGradientDescent(estimator=classifier, eps=0.25)\n",
    "\n",
    "# Generate adversarial test examples\n",
    "adv_test_examples = attack.generate(x=x_test)"
   ]
  },
  {
   "cell_type": "code",
   "execution_count": 15,
   "id": "506006f9-d5ac-420e-9e8a-0bb6490ae4d7",
   "metadata": {},
   "outputs": [
    {
     "name": "stdout",
     "output_type": "stream",
     "text": [
      "5480/5480 [==============================] - 3s 566us/step\n",
      "Accuracy: 0.6894679510211531\n",
      "AUC: 0.7269326937694744\n",
      "\n",
      "macro\n",
      "Precision: 0.6976919597334514\n",
      "Recall: 0.7269326937694744\n",
      "F1 Score: 0.6814251608500221\n",
      "\n",
      "weighted\n",
      "Precision: 0.766044792149891\n",
      "Recall: 0.6894679510211531\n",
      "F1 Score: 0.6997108167089455\n",
      "\n",
      "Mean FNR: 0.2730673062305255\n",
      "Mean TNR: 0.7269326937694744\n",
      "Mean FPR: 0.2730673062305255\n",
      "Mean TPR: 0.7269326937694744\n"
     ]
    }
   ],
   "source": [
    "calculate_performance_metrics(adv_test_examples, y_test, model)"
   ]
  },
  {
   "cell_type": "code",
   "execution_count": 6,
   "id": "06b5eb18-4bc2-4b26-b508-44d8f391e7b0",
   "metadata": {},
   "outputs": [
    {
     "name": "stderr",
     "output_type": "stream",
     "text": [
      "                                        \r"
     ]
    }
   ],
   "source": [
    "# Initialize PGD attack\n",
    "attack = ProjectedGradientDescent(estimator=classifier, eps=0.3)\n",
    "\n",
    "# Generate adversarial test examples\n",
    "adv_test_examples = attack.generate(x=x_test)"
   ]
  },
  {
   "cell_type": "code",
   "execution_count": 7,
   "id": "7d34dba4-3a53-421f-8301-244a0c1011e2",
   "metadata": {},
   "outputs": [
    {
     "name": "stdout",
     "output_type": "stream",
     "text": [
      "5480/5480 [==============================] - 3s 562us/step\n",
      "Accuracy: 0.6444356995796762\n",
      "AUC: 0.6827620025209873\n",
      "\n",
      "macro\n",
      "Precision: 0.6599393496983328\n",
      "Recall: 0.6827620025209873\n",
      "F1 Score: 0.6372703312244625\n",
      "\n",
      "weighted\n",
      "Precision: 0.7298188560077205\n",
      "Recall: 0.6444356995796762\n",
      "F1 Score: 0.6556870491674743\n",
      "\n",
      "Mean FNR: 0.3172379974790127\n",
      "Mean TNR: 0.6827620025209873\n",
      "Mean FPR: 0.3172379974790127\n",
      "Mean TPR: 0.6827620025209873\n"
     ]
    }
   ],
   "source": [
    "calculate_performance_metrics(adv_test_examples, y_test, model)"
   ]
  },
  {
   "cell_type": "code",
   "execution_count": null,
   "id": "1a6c959d-11bb-4fc5-9c0e-2d157b785d70",
   "metadata": {},
   "outputs": [],
   "source": []
  }
 ],
 "metadata": {
  "kernelspec": {
   "display_name": "Python 3 (ipykernel)",
   "language": "python",
   "name": "python3"
  },
  "language_info": {
   "codemirror_mode": {
    "name": "ipython",
    "version": 3
   },
   "file_extension": ".py",
   "mimetype": "text/x-python",
   "name": "python",
   "nbconvert_exporter": "python",
   "pygments_lexer": "ipython3",
   "version": "3.11.5"
  }
 },
 "nbformat": 4,
 "nbformat_minor": 5
}
