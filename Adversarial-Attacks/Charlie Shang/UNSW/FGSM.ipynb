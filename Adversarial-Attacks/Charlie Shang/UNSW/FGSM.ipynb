{
 "cells": [
  {
   "cell_type": "code",
   "execution_count": 1,
   "id": "c074e7bf-66b3-4603-9a73-571a3f128996",
   "metadata": {},
   "outputs": [
    {
     "name": "stderr",
     "output_type": "stream",
     "text": [
      "2024-02-26 20:26:36.859323: I tensorflow/core/util/port.cc:113] oneDNN custom operations are on. You may see slightly different numerical results due to floating-point round-off errors from different computation orders. To turn them off, set the environment variable `TF_ENABLE_ONEDNN_OPTS=0`.\n",
      "2024-02-26 20:26:36.862010: I external/local_tsl/tsl/cuda/cudart_stub.cc:31] Could not find cuda drivers on your machine, GPU will not be used.\n",
      "2024-02-26 20:26:36.891197: E external/local_xla/xla/stream_executor/cuda/cuda_dnn.cc:9261] Unable to register cuDNN factory: Attempting to register factory for plugin cuDNN when one has already been registered\n",
      "2024-02-26 20:26:36.891251: E external/local_xla/xla/stream_executor/cuda/cuda_fft.cc:607] Unable to register cuFFT factory: Attempting to register factory for plugin cuFFT when one has already been registered\n",
      "2024-02-26 20:26:36.892239: E external/local_xla/xla/stream_executor/cuda/cuda_blas.cc:1515] Unable to register cuBLAS factory: Attempting to register factory for plugin cuBLAS when one has already been registered\n",
      "2024-02-26 20:26:36.897517: I external/local_tsl/tsl/cuda/cudart_stub.cc:31] Could not find cuda drivers on your machine, GPU will not be used.\n",
      "2024-02-26 20:26:36.898143: I tensorflow/core/platform/cpu_feature_guard.cc:182] This TensorFlow binary is optimized to use available CPU instructions in performance-critical operations.\n",
      "To enable the following instructions: AVX2 AVX512F AVX512_VNNI AVX512_BF16 AVX_VNNI AMX_TILE AMX_INT8 AMX_BF16 FMA, in other operations, rebuild TensorFlow with the appropriate compiler flags.\n",
      "2024-02-26 20:26:37.711199: W tensorflow/compiler/tf2tensorrt/utils/py_utils.cc:38] TF-TRT Warning: Could not find TensorRT\n",
      "/opt/conda/lib/python3.11/site-packages/tqdm/auto.py:21: TqdmWarning: IProgress not found. Please update jupyter and ipywidgets. See https://ipywidgets.readthedocs.io/en/stable/user_install.html\n",
      "  from .autonotebook import tqdm as notebook_tqdm\n"
     ]
    }
   ],
   "source": [
    "import tensorflow as tf\n",
    "from tensorflow.keras.models import Sequential\n",
    "from tensorflow.keras.layers import Conv2D, MaxPooling2D, Dropout, Flatten, Dense\n",
    "\n",
    "from art.attacks.evasion import FastGradientMethod\n",
    "from art.estimators.classification import TensorFlowV2Classifier\n",
    "from art.utils import load_dataset\n",
    "\n",
    "import numpy as np\n",
    "import pandas as pd\n",
    "\n",
    "from sklearn import metrics\n",
    "\n",
    "from warnings import simplefilter\n",
    "\n",
    "import joblib"
   ]
  },
  {
   "cell_type": "code",
   "execution_count": 2,
   "id": "88abda9a-d288-401c-adb9-438c602ca769",
   "metadata": {},
   "outputs": [],
   "source": [
    "def calculate_performance_metrics(x_test, y_test, model):\n",
    "\n",
    "    # Predictions\n",
    "    y_pred = model.predict(x_test)\n",
    "    \n",
    "    y_pred_classes = np.argmax(y_pred, axis=1)\n",
    "    \n",
    "    report = metrics.classification_report(y_test, y_pred_classes, output_dict=True, zero_division=1)\n",
    "    \n",
    "    precision_macro = report['macro avg']['precision']\n",
    "    precision_weighted = report['weighted avg']['precision']\n",
    "    accuracy = report['accuracy']\n",
    "    recall_macro = report['macro avg']['recall']\n",
    "    recall_weighted = report['weighted avg']['recall']\n",
    "    f1_macro = report['macro avg']['f1-score']\n",
    "    f1_weighted = report['weighted avg']['f1-score']\n",
    "    auc = metrics.roc_auc_score(y_test.reshape(-1), y_pred_classes, multi_class='ovr')\n",
    "\n",
    "    print(f\"Accuracy: {accuracy}\\nAUC: {auc}\")\n",
    "    \n",
    "    print(\"\\nmacro\")\n",
    "    print(f\"Precision: {precision_macro}\\nRecall: {recall_macro}\\nF1 Score: {f1_macro}\")\n",
    "\n",
    "    print(\"\\nweighted\")\n",
    "    print(f\"Precision: {precision_weighted}\\nRecall: {recall_weighted}\\nF1 Score: {f1_weighted}\")\n",
    "    print()\n",
    "    \n",
    "    # Confusion matrix for FNR, TNR, FPR, TPR\n",
    "    cm = metrics.confusion_matrix(y_test, y_pred_classes)\n",
    "    def calculate_rates(conf_matrix, class_index):\n",
    "        tp = conf_matrix[class_index, class_index]\n",
    "        fn = np.sum(conf_matrix[class_index, :]) - tp\n",
    "        fp = np.sum(conf_matrix[:, class_index]) - tp\n",
    "        tn = np.sum(conf_matrix) - (tp + fn + fp)\n",
    "    \n",
    "        fnr = fn / (fn + tp)\n",
    "        tnr = tn / (tn + fp)\n",
    "        fpr = fp / (fp + tn)\n",
    "        tpr = tp / (tp + fn)\n",
    "        return fnr, tnr, fpr, tpr\n",
    "\n",
    "    # Calculate and aggregate rates\n",
    "    fnrs, tnrs, fprs, tprs = [], [], [], []\n",
    "    for i in range(cm.shape[0]):\n",
    "        fnr, tnr, fpr, tpr = calculate_rates(cm, i)\n",
    "        fnrs.append(fnr)\n",
    "        tnrs.append(tnr)\n",
    "        fprs.append(fpr)\n",
    "        tprs.append(tpr)\n",
    "    \n",
    "    mean_fnr = np.mean(fnrs)\n",
    "    mean_tnr = np.mean(tnrs)\n",
    "    mean_fpr = np.mean(fprs)\n",
    "    mean_tpr = np.mean(tprs)\n",
    "\n",
    "    # Printing the mean metrics\n",
    "    print(f\"Mean FNR: {mean_fnr}\\nMean TNR: {mean_tnr}\\nMean FPR: {mean_fpr}\\nMean TPR: {mean_tpr}\")"
   ]
  },
  {
   "cell_type": "code",
   "execution_count": 3,
   "id": "75818739-8004-4cc5-b71a-89a23714c710",
   "metadata": {},
   "outputs": [],
   "source": [
    "x_train = pd.read_csv('/home/jovyan/UNSW/preprocessed_data/x_train.csv', low_memory=False)\n",
    "y_train = pd.read_csv('/home/jovyan/UNSW/preprocessed_data/y_train.csv', low_memory=False)\n",
    "x_test = pd.read_csv('/home/jovyan/UNSW/preprocessed_data/x_test.csv', low_memory=False)\n",
    "y_test = pd.read_csv('/home/jovyan/UNSW/preprocessed_data/y_test.csv', low_memory=False)\n",
    "\n",
    "x_train = x_train.to_numpy()\n",
    "y_train = y_train.to_numpy()\n",
    "x_test = x_test.to_numpy()\n",
    "y_test = y_test.to_numpy()"
   ]
  },
  {
   "cell_type": "code",
   "execution_count": 4,
   "id": "ade3e6c4-ede1-4aa3-8811-7ec987ede255",
   "metadata": {},
   "outputs": [
    {
     "name": "stderr",
     "output_type": "stream",
     "text": [
      "2024-02-26 20:26:42.404107: W tensorflow/core/util/tensor_slice_reader.cc:98] Could not open ram://2d4f21190b514a8e984134c1581c06ee: INVALID_ARGUMENT: ram://2d4f21190b514a8e984134c1581c06ee is a directory.\n"
     ]
    }
   ],
   "source": [
    "model = joblib.load(\"/home/jovyan/UNSW/dl/new_dl/dnn.joblib\")"
   ]
  },
  {
   "cell_type": "code",
   "execution_count": 5,
   "id": "4dd1c761-6b69-43e7-a677-26e3b42820ce",
   "metadata": {},
   "outputs": [
    {
     "data": {
      "text/plain": [
       "array([0, 1])"
      ]
     },
     "execution_count": 5,
     "metadata": {},
     "output_type": "execute_result"
    }
   ],
   "source": [
    "np.unique(y_train)"
   ]
  },
  {
   "cell_type": "code",
   "execution_count": 6,
   "id": "72df0def-3930-444a-8c45-0d29b8418846",
   "metadata": {},
   "outputs": [
    {
     "data": {
      "text/plain": [
       "(82332, 56)"
      ]
     },
     "execution_count": 6,
     "metadata": {},
     "output_type": "execute_result"
    }
   ],
   "source": [
    "x_train.shape"
   ]
  },
  {
   "cell_type": "code",
   "execution_count": 7,
   "id": "4395cb1c-f65e-48bd-b1e4-a472620a7543",
   "metadata": {},
   "outputs": [],
   "source": [
    "classifier = TensorFlowV2Classifier(\n",
    "    model=model,\n",
    "    nb_classes=2,\n",
    "    input_shape=(56,),\n",
    "    loss_object=tf.keras.losses.SparseCategoricalCrossentropy(),\n",
    ")"
   ]
  },
  {
   "cell_type": "code",
   "execution_count": 8,
   "id": "019126a0-278f-424a-9216-c3be2d1817ba",
   "metadata": {},
   "outputs": [],
   "source": [
    "attack = FastGradientMethod(estimator=classifier, eps=0.01)\n",
    "\n",
    "x_test_adv = attack.generate(x=x_test)"
   ]
  },
  {
   "cell_type": "code",
   "execution_count": 9,
   "id": "c4ae513b-b7fc-42e4-82ee-177bf5f9bc64",
   "metadata": {},
   "outputs": [
    {
     "name": "stdout",
     "output_type": "stream",
     "text": [
      "5480/5480 [==============================] - 3s 566us/step\n",
      "Accuracy: 0.9041296673339378\n",
      "AUC: 0.9135683104806515\n",
      "\n",
      "macro\n",
      "Precision: 0.8828706936921161\n",
      "Recall: 0.9135683104806515\n",
      "F1 Score: 0.8943750682772997\n",
      "\n",
      "weighted\n",
      "Precision: 0.9140202610993343\n",
      "Recall: 0.9041296673339378\n",
      "F1 Score: 0.9059705652998487\n",
      "\n",
      "Mean FNR: 0.08643168951934851\n",
      "Mean TNR: 0.9135683104806515\n",
      "Mean FPR: 0.08643168951934851\n",
      "Mean TPR: 0.9135683104806515\n"
     ]
    }
   ],
   "source": [
    "calculate_performance_metrics(x_test_adv, y_test, model)"
   ]
  },
  {
   "cell_type": "code",
   "execution_count": 10,
   "id": "fe529b18-dc64-4aba-844f-1ac4aa874f7e",
   "metadata": {},
   "outputs": [],
   "source": [
    "attack = FastGradientMethod(estimator=classifier, eps=0.05)\n",
    "\n",
    "x_test_adv = attack.generate(x=x_test)"
   ]
  },
  {
   "cell_type": "code",
   "execution_count": 11,
   "id": "36150ef1-5026-47b6-a745-c9ca8decd4f2",
   "metadata": {},
   "outputs": [
    {
     "name": "stdout",
     "output_type": "stream",
     "text": [
      "5480/5480 [==============================] - 3s 609us/step\n",
      "Accuracy: 0.8894554040412681\n",
      "AUC: 0.8933720895225806\n",
      "\n",
      "macro\n",
      "Precision: 0.8673554042125237\n",
      "Recall: 0.8933720895225805\n",
      "F1 Score: 0.8775439249285664\n",
      "\n",
      "weighted\n",
      "Precision: 0.897766129357589\n",
      "Recall: 0.8894554040412681\n",
      "F1 Score: 0.8913406004666867\n",
      "\n",
      "Mean FNR: 0.10662791047741944\n",
      "Mean TNR: 0.8933720895225805\n",
      "Mean FPR: 0.10662791047741944\n",
      "Mean TPR: 0.8933720895225805\n"
     ]
    }
   ],
   "source": [
    "calculate_performance_metrics(x_test_adv, y_test, model)"
   ]
  },
  {
   "cell_type": "code",
   "execution_count": 14,
   "id": "5b95584d-5876-41d8-9e8d-759299ba6f44",
   "metadata": {},
   "outputs": [],
   "source": [
    "attack = FastGradientMethod(estimator=classifier, eps=0.1)\n",
    "\n",
    "x_test_adv = attack.generate(x=x_test)"
   ]
  },
  {
   "cell_type": "code",
   "execution_count": 17,
   "id": "5f1bf0b7-4afa-44d6-b701-5147a6cd6514",
   "metadata": {},
   "outputs": [
    {
     "name": "stdout",
     "output_type": "stream",
     "text": [
      "5480/5480 [==============================] - 3s 561us/step\n",
      "Accuracy: 0.8644698045522724\n",
      "AUC: 0.8675770560530629\n",
      "\n",
      "macro\n",
      "Precision: 0.8406207620386796\n",
      "Recall: 0.8675770560530629\n",
      "F1 Score: 0.8505884666013921\n",
      "\n",
      "weighted\n",
      "Precision: 0.8753086355111701\n",
      "Recall: 0.8644698045522724\n",
      "F1 Score: 0.867040105241989\n",
      "\n",
      "Mean FNR: 0.13242294394693715\n",
      "Mean TNR: 0.8675770560530629\n",
      "Mean FPR: 0.13242294394693715\n",
      "Mean TPR: 0.8675770560530629\n"
     ]
    }
   ],
   "source": [
    "calculate_performance_metrics(x_test_adv, y_test, model)"
   ]
  },
  {
   "cell_type": "code",
   "execution_count": 18,
   "id": "33a9cca4-3034-4428-ac40-d77c97df1016",
   "metadata": {},
   "outputs": [],
   "source": [
    "attack = FastGradientMethod(estimator=classifier, eps=0.15)\n",
    "\n",
    "x_test_adv = attack.generate(x=x_test)"
   ]
  },
  {
   "cell_type": "code",
   "execution_count": 19,
   "id": "9dc7401a-719c-4d69-9204-53be1b4993f5",
   "metadata": {},
   "outputs": [
    {
     "name": "stdout",
     "output_type": "stream",
     "text": [
      "5480/5480 [==============================] - 3s 567us/step\n",
      "Accuracy: 0.8198310720253678\n",
      "AUC: 0.8295669450955067\n",
      "\n",
      "macro\n",
      "Precision: 0.7966243116102427\n",
      "Recall: 0.8295669450955065\n",
      "F1 Score: 0.8053533901506302\n",
      "\n",
      "weighted\n",
      "Precision: 0.8421346807069464\n",
      "Recall: 0.8198310720253678\n",
      "F1 Score: 0.8245301121838327\n",
      "\n",
      "Mean FNR: 0.17043305490449337\n",
      "Mean TNR: 0.8295669450955065\n",
      "Mean FPR: 0.17043305490449337\n",
      "Mean TPR: 0.8295669450955065\n"
     ]
    }
   ],
   "source": [
    "calculate_performance_metrics(x_test_adv, y_test, model)"
   ]
  },
  {
   "cell_type": "code",
   "execution_count": 20,
   "id": "dec308aa-0440-47d7-89e8-2ee56bf84950",
   "metadata": {},
   "outputs": [],
   "source": [
    "attack = FastGradientMethod(estimator=classifier, eps=0.2)\n",
    "\n",
    "x_test_adv = attack.generate(x=x_test)"
   ]
  },
  {
   "cell_type": "code",
   "execution_count": 21,
   "id": "b5a6d221-a190-4c67-b288-ee1e1d0d0d95",
   "metadata": {},
   "outputs": [
    {
     "name": "stdout",
     "output_type": "stream",
     "text": [
      "5480/5480 [==============================] - 3s 562us/step\n",
      "Accuracy: 0.7524823059067759\n",
      "AUC: 0.7767643681162143\n",
      "\n",
      "macro\n",
      "Precision: 0.7416848940649124\n",
      "Recall: 0.7767643681162144\n",
      "F1 Score: 0.740674484072503\n",
      "\n",
      "weighted\n",
      "Precision: 0.8012130395497652\n",
      "Recall: 0.7524823059067759\n",
      "F1 Score: 0.7606643074803523\n",
      "\n",
      "Mean FNR: 0.2232356318837856\n",
      "Mean TNR: 0.7767643681162144\n",
      "Mean FPR: 0.2232356318837856\n",
      "Mean TPR: 0.7767643681162144\n"
     ]
    }
   ],
   "source": [
    "calculate_performance_metrics(x_test_adv, y_test, model)"
   ]
  },
  {
   "cell_type": "code",
   "execution_count": 22,
   "id": "65f45c9a-1fc8-4de0-b8c8-dd044e2f178d",
   "metadata": {},
   "outputs": [],
   "source": [
    "attack = FastGradientMethod(estimator=classifier, eps=0.25)\n",
    "\n",
    "x_test_adv = attack.generate(x=x_test)"
   ]
  },
  {
   "cell_type": "code",
   "execution_count": 23,
   "id": "7e7ab15e-9a23-4b10-9c41-e62abef6c42d",
   "metadata": {},
   "outputs": [
    {
     "name": "stdout",
     "output_type": "stream",
     "text": [
      "5480/5480 [==============================] - 3s 566us/step\n",
      "Accuracy: 0.7071192704501514\n",
      "AUC: 0.7416152183060066\n",
      "\n",
      "macro\n",
      "Precision: 0.7101416406311478\n",
      "Recall: 0.7416152183060067\n",
      "F1 Score: 0.6981463354652429\n",
      "\n",
      "weighted\n",
      "Precision: 0.7766369340088798\n",
      "Recall: 0.7071192704501514\n",
      "F1 Score: 0.7169467282699498\n",
      "\n",
      "Mean FNR: 0.2583847816939933\n",
      "Mean TNR: 0.7416152183060067\n",
      "Mean FPR: 0.2583847816939933\n",
      "Mean TPR: 0.7416152183060067\n"
     ]
    }
   ],
   "source": [
    "calculate_performance_metrics(x_test_adv, y_test, model)"
   ]
  },
  {
   "cell_type": "code",
   "execution_count": 24,
   "id": "f947fc62-333e-4545-aa78-cee85993fe5c",
   "metadata": {},
   "outputs": [],
   "source": [
    "attack = FastGradientMethod(estimator=classifier, eps=0.3)\n",
    "\n",
    "x_test_adv = attack.generate(x=x_test)"
   ]
  },
  {
   "cell_type": "code",
   "execution_count": 25,
   "id": "6932efdd-64ea-4027-bab2-8c54fd3d14aa",
   "metadata": {},
   "outputs": [
    {
     "name": "stdout",
     "output_type": "stream",
     "text": [
      "5480/5480 [==============================] - 3s 611us/step\n",
      "Accuracy: 0.6676133933307099\n",
      "AUC: 0.7108589037176781\n",
      "\n",
      "macro\n",
      "Precision: 0.6847432513508578\n",
      "Recall: 0.7108589037176781\n",
      "F1 Score: 0.6612477900383695\n",
      "\n",
      "weighted\n",
      "Precision: 0.7558037226884824\n",
      "Recall: 0.6676133933307099\n",
      "F1 Score: 0.6780227808080536\n",
      "\n",
      "Mean FNR: 0.2891410962823219\n",
      "Mean TNR: 0.7108589037176781\n",
      "Mean FPR: 0.2891410962823219\n",
      "Mean TPR: 0.7108589037176781\n"
     ]
    }
   ],
   "source": [
    "calculate_performance_metrics(x_test_adv, y_test, model)"
   ]
  },
  {
   "cell_type": "code",
   "execution_count": null,
   "id": "01fecabc-2822-4d84-8a87-bfd5d8a92162",
   "metadata": {},
   "outputs": [],
   "source": []
  }
 ],
 "metadata": {
  "kernelspec": {
   "display_name": "Python 3 (ipykernel)",
   "language": "python",
   "name": "python3"
  },
  "language_info": {
   "codemirror_mode": {
    "name": "ipython",
    "version": 3
   },
   "file_extension": ".py",
   "mimetype": "text/x-python",
   "name": "python",
   "nbconvert_exporter": "python",
   "pygments_lexer": "ipython3",
   "version": "3.11.5"
  }
 },
 "nbformat": 4,
 "nbformat_minor": 5
}
