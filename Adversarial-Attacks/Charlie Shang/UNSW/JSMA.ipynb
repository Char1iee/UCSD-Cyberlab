{
 "cells": [
  {
   "cell_type": "code",
   "execution_count": 3,
   "id": "7f24ad19-3eb0-4249-9bc4-84742b237df4",
   "metadata": {},
   "outputs": [
    {
     "name": "stderr",
     "output_type": "stream",
     "text": [
      "2024-02-27 03:28:18.500626: I tensorflow/core/util/port.cc:113] oneDNN custom operations are on. You may see slightly different numerical results due to floating-point round-off errors from different computation orders. To turn them off, set the environment variable `TF_ENABLE_ONEDNN_OPTS=0`.\n",
      "2024-02-27 03:28:18.503647: I external/local_tsl/tsl/cuda/cudart_stub.cc:31] Could not find cuda drivers on your machine, GPU will not be used.\n",
      "2024-02-27 03:28:18.535924: E external/local_xla/xla/stream_executor/cuda/cuda_dnn.cc:9261] Unable to register cuDNN factory: Attempting to register factory for plugin cuDNN when one has already been registered\n",
      "2024-02-27 03:28:18.535976: E external/local_xla/xla/stream_executor/cuda/cuda_fft.cc:607] Unable to register cuFFT factory: Attempting to register factory for plugin cuFFT when one has already been registered\n",
      "2024-02-27 03:28:18.537648: E external/local_xla/xla/stream_executor/cuda/cuda_blas.cc:1515] Unable to register cuBLAS factory: Attempting to register factory for plugin cuBLAS when one has already been registered\n",
      "2024-02-27 03:28:18.545263: I external/local_tsl/tsl/cuda/cudart_stub.cc:31] Could not find cuda drivers on your machine, GPU will not be used.\n",
      "2024-02-27 03:28:18.546349: I tensorflow/core/platform/cpu_feature_guard.cc:182] This TensorFlow binary is optimized to use available CPU instructions in performance-critical operations.\n",
      "To enable the following instructions: AVX2 AVX512F AVX512_VNNI AVX512_BF16 AVX_VNNI AMX_TILE AMX_INT8 AMX_BF16 FMA, in other operations, rebuild TensorFlow with the appropriate compiler flags.\n",
      "2024-02-27 03:28:19.244585: W tensorflow/compiler/tf2tensorrt/utils/py_utils.cc:38] TF-TRT Warning: Could not find TensorRT\n",
      "/opt/conda/lib/python3.11/site-packages/tqdm/auto.py:21: TqdmWarning: IProgress not found. Please update jupyter and ipywidgets. See https://ipywidgets.readthedocs.io/en/stable/user_install.html\n",
      "  from .autonotebook import tqdm as notebook_tqdm\n"
     ]
    }
   ],
   "source": [
    "import tensorflow as tf\n",
    "from tensorflow.keras.models import Sequential\n",
    "from tensorflow.keras.layers import Conv2D, MaxPooling2D, Dropout, Flatten, Dense\n",
    "from tensorflow.keras.losses import SparseCategoricalCrossentropy\n",
    "\n",
    "from art.attacks.evasion import SaliencyMapMethod\n",
    "from art.estimators.classification import TensorFlowV2Classifier\n",
    "from art.utils import load_dataset\n",
    "\n",
    "import numpy as np\n",
    "import pandas as pd\n",
    "\n",
    "from sklearn import metrics\n",
    "\n",
    "import joblib"
   ]
  },
  {
   "cell_type": "code",
   "execution_count": 4,
   "id": "6941a06e-0370-47a9-b213-88396719cf31",
   "metadata": {},
   "outputs": [],
   "source": [
    "def calculate_performance_metrics(x_test, y_test, model):\n",
    "\n",
    "    # Predictions\n",
    "    y_pred = model.predict(x_test)\n",
    "    \n",
    "    y_pred_classes = np.argmax(y_pred, axis=1)\n",
    "    \n",
    "    report = metrics.classification_report(y_test, y_pred_classes, output_dict=True, zero_division=1)\n",
    "    \n",
    "    precision_macro = report['macro avg']['precision']\n",
    "    precision_weighted = report['weighted avg']['precision']\n",
    "    accuracy = report['accuracy']\n",
    "    recall_macro = report['macro avg']['recall']\n",
    "    recall_weighted = report['weighted avg']['recall']\n",
    "    f1_macro = report['macro avg']['f1-score']\n",
    "    f1_weighted = report['weighted avg']['f1-score']\n",
    "    auc = metrics.roc_auc_score(y_test.values.reshape(-1), y_pred_classes, multi_class='ovr')\n",
    "\n",
    "    print(f\"Accuracy: {accuracy}\\nAUC: {auc}\")\n",
    "    \n",
    "    print(\"\\nmacro\")\n",
    "    print(f\"Precision: {precision_macro}\\nRecall: {recall_macro}\\nF1 Score: {f1_macro}\")\n",
    "\n",
    "    print(\"\\nweighted\")\n",
    "    print(f\"Precision: {precision_weighted}\\nRecall: {recall_weighted}\\nF1 Score: {f1_weighted}\")\n",
    "    print()\n",
    "    \n",
    "    # Confusion matrix for FNR, TNR, FPR, TPR\n",
    "    cm = metrics.confusion_matrix(y_test, y_pred_classes)\n",
    "    def calculate_rates(conf_matrix, class_index):\n",
    "        tp = conf_matrix[class_index, class_index]\n",
    "        fn = np.sum(conf_matrix[class_index, :]) - tp\n",
    "        fp = np.sum(conf_matrix[:, class_index]) - tp\n",
    "        tn = np.sum(conf_matrix) - (tp + fn + fp)\n",
    "    \n",
    "        fnr = fn / (fn + tp)\n",
    "        tnr = tn / (tn + fp)\n",
    "        fpr = fp / (fp + tn)\n",
    "        tpr = tp / (tp + fn)\n",
    "        return fnr, tnr, fpr, tpr\n",
    "\n",
    "    # Calculate and aggregate rates\n",
    "    fnrs, tnrs, fprs, tprs = [], [], [], []\n",
    "    for i in range(cm.shape[0]):\n",
    "        fnr, tnr, fpr, tpr = calculate_rates(cm, i)\n",
    "        fnrs.append(fnr)\n",
    "        tnrs.append(tnr)\n",
    "        fprs.append(fpr)\n",
    "        tprs.append(tpr)\n",
    "    \n",
    "    mean_fnr = np.mean(fnrs)\n",
    "    mean_tnr = np.mean(tnrs)\n",
    "    mean_fpr = np.mean(fprs)\n",
    "    mean_tpr = np.mean(tprs)\n",
    "\n",
    "    # Printing the mean metrics\n",
    "    print(f\"Mean FNR: {mean_fnr}\\nMean TNR: {mean_tnr}\\nMean FPR: {mean_fpr}\\nMean TPR: {mean_tpr}\")"
   ]
  },
  {
   "cell_type": "code",
   "execution_count": 5,
   "id": "a8d1d119-3f89-4ab9-b2b4-6da31a0c4824",
   "metadata": {},
   "outputs": [],
   "source": [
    "from sklearn.metrics import accuracy_score, precision_recall_fscore_support, roc_auc_score, confusion_matrix\n",
    "def calculate_performance_metrics(x_test, y_test, model):\n",
    "\n",
    "    # Predictions\n",
    "    y_pred = model.predict(x_test)\n",
    "    \n",
    "    y_pred_classes = np.argmax(y_pred, axis=1)\n",
    "    \n",
    "    accuracy = accuracy_score(y_test, y_pred_classes)\n",
    "\n",
    "    precision_macro, recall_macro, f1_macro, _ = precision_recall_fscore_support(y_test, y_pred_classes, average='macro')\n",
    "    \n",
    "    precision_weighted, recall_weighted, f1_weighted, _ = precision_recall_fscore_support(y_test, y_pred_classes, average='weighted')\n",
    "    \n",
    "    auc = metrics.roc_auc_score(y_test.values.reshape(-1), y_pred_classes, multi_class='ovr')\n",
    "\n",
    "    print(f\"Accuracy: {accuracy}\\nAUC: {auc}\")\n",
    "    \n",
    "    print(\"\\nmacro\")\n",
    "    print(f\"Precision: {precision_macro}\\nRecall: {recall_macro}\\nF1 Score: {f1_macro}\")\n",
    "\n",
    "    print(\"\\nweighted\")\n",
    "    print(f\"Precision: {precision_weighted}\\nRecall: {recall_weighted}\\nF1 Score: {f1_weighted}\")\n",
    "    print()\n",
    "    \n",
    "    # Confusion matrix for FNR, TNR, FPR, TPR\n",
    "    cm = metrics.confusion_matrix(y_test, y_pred_classes)\n",
    "    def calculate_rates(conf_matrix, class_index):\n",
    "        tp = conf_matrix[class_index, class_index]\n",
    "        fn = np.sum(conf_matrix[class_index, :]) - tp\n",
    "        fp = np.sum(conf_matrix[:, class_index]) - tp\n",
    "        tn = np.sum(conf_matrix) - (tp + fn + fp)\n",
    "    \n",
    "        fnr = fn / (fn + tp)\n",
    "        tnr = tn / (tn + fp)\n",
    "        fpr = fp / (fp + tn)\n",
    "        tpr = tp / (tp + fn)\n",
    "        return fnr, tnr, fpr, tpr\n",
    "\n",
    "    # Calculate and aggregate rates\n",
    "    fnrs, tnrs, fprs, tprs = [], [], [], []\n",
    "    for i in range(cm.shape[0]):\n",
    "        fnr, tnr, fpr, tpr = calculate_rates(cm, i)\n",
    "        fnrs.append(fnr)\n",
    "        tnrs.append(tnr)\n",
    "        fprs.append(fpr)\n",
    "        tprs.append(tpr)\n",
    "    \n",
    "    mean_fnr = np.mean(fnrs)\n",
    "    mean_tnr = np.mean(tnrs)\n",
    "    mean_fpr = np.mean(fprs)\n",
    "    mean_tpr = np.mean(tprs)\n",
    "\n",
    "    # Printing the mean metrics\n",
    "    print(f\"Mean FNR: {mean_fnr}\\nMean TNR: {mean_tnr}\\nMean FPR: {mean_fpr}\\nMean TPR: {mean_tpr}\")\n"
   ]
  },
  {
   "cell_type": "code",
   "execution_count": 6,
   "id": "805f16f5-4d82-4e1c-802b-fd9b514f75d4",
   "metadata": {},
   "outputs": [],
   "source": [
    "x_train = pd.read_csv('/home/jovyan/UNSW/preprocessed_data/x_train.csv', low_memory=False)\n",
    "y_train = pd.read_csv('/home/jovyan/UNSW/preprocessed_data/y_train.csv', low_memory=False)\n",
    "x_test = pd.read_csv('/home/jovyan/UNSW/preprocessed_data/x_test.csv', low_memory=False)\n",
    "y_test = pd.read_csv('/home/jovyan/UNSW/preprocessed_data/y_test.csv', low_memory=False)"
   ]
  },
  {
   "cell_type": "code",
   "execution_count": 7,
   "id": "d75bd472-bef6-471a-aa9b-d869774b409a",
   "metadata": {},
   "outputs": [
    {
     "name": "stderr",
     "output_type": "stream",
     "text": [
      "2024-02-27 03:28:33.338847: W tensorflow/core/util/tensor_slice_reader.cc:98] Could not open ram://06e55477b9304a2cb71db4aea3044a63: INVALID_ARGUMENT: ram://06e55477b9304a2cb71db4aea3044a63 is a directory.\n"
     ]
    }
   ],
   "source": [
    "model = joblib.load(\"/home/jovyan/UNSW/dl/new_dl/dnn.joblib\")"
   ]
  },
  {
   "cell_type": "code",
   "execution_count": 8,
   "id": "eb1a92d7-8427-479e-a18e-98cd4cc3b93d",
   "metadata": {},
   "outputs": [],
   "source": [
    "x_test_trimmed = x_test[100000:104000]\n",
    "y_test_trimmed = y_test[100000:104000]"
   ]
  },
  {
   "cell_type": "code",
   "execution_count": 9,
   "id": "6077ed6d-c1d0-4388-b88e-3c7f57ca6259",
   "metadata": {},
   "outputs": [
    {
     "data": {
      "text/plain": [
       "(175341, 56)"
      ]
     },
     "execution_count": 9,
     "metadata": {},
     "output_type": "execute_result"
    }
   ],
   "source": [
    "x_test.shape"
   ]
  },
  {
   "cell_type": "code",
   "execution_count": 10,
   "id": "9e24eead-e3f0-4ca3-b45d-394fe6143967",
   "metadata": {},
   "outputs": [
    {
     "data": {
      "text/plain": [
       "array([0, 1])"
      ]
     },
     "execution_count": 10,
     "metadata": {},
     "output_type": "execute_result"
    }
   ],
   "source": [
    "np.unique(y_test_trimmed)"
   ]
  },
  {
   "cell_type": "code",
   "execution_count": 11,
   "id": "174e314e-beec-43f1-8b90-de63a37805ba",
   "metadata": {},
   "outputs": [
    {
     "name": "stdout",
     "output_type": "stream",
     "text": [
      "5480/5480 [==============================] - 3s 560us/step\n"
     ]
    }
   ],
   "source": [
    "y_pred = model.predict(x_test)"
   ]
  },
  {
   "cell_type": "code",
   "execution_count": 12,
   "id": "3c2e8a30-f105-4844-8d53-014b5d99fb14",
   "metadata": {},
   "outputs": [],
   "source": [
    "classifier = TensorFlowV2Classifier(\n",
    "    model=model,\n",
    "    nb_classes=2,\n",
    "    input_shape=(56,),\n",
    "    loss_object=tf.keras.losses.SparseCategoricalCrossentropy(),\n",
    ")"
   ]
  },
  {
   "cell_type": "code",
   "execution_count": 13,
   "id": "7e9afa73-af41-483c-b8e5-5824ff2fd1cb",
   "metadata": {},
   "outputs": [
    {
     "name": "stderr",
     "output_type": "stream",
     "text": [
      "/tmp/ipykernel_37779/1631696788.py:5: DeprecationWarning: `product` is deprecated as of NumPy 1.25.0, and will be removed in NumPy 2.0. Please use `prod` instead.\n",
      "  x_test_adv = attack.generate(x=x_test_trimmed)\n",
      "JSMA:   0%|          | 0/4000 [00:00<?, ?it/s]"
     ]
    },
    {
     "name": "stdout",
     "output_type": "stream",
     "text": [
      "WARNING:tensorflow:Calling GradientTape.gradient on a persistent tape inside its context is significantly less efficient than calling it outside the context (it causes the gradient ops to be recorded on the tape, leading to increased CPU and memory usage). Only call GradientTape.gradient inside the context if you actually want to trace the gradient in order to compute higher order derivatives.\n"
     ]
    },
    {
     "name": "stderr",
     "output_type": "stream",
     "text": [
      "JSMA: 100%|██████████| 4000/4000 [00:17<00:00, 225.25it/s]\n"
     ]
    }
   ],
   "source": [
    "# Initialize the JSMA attack\n",
    "attack = SaliencyMapMethod(classifier=classifier, theta=0.01, gamma = 0.01)\n",
    "\n",
    "# Generate adversarial examples\n",
    "x_test_adv = attack.generate(x=x_test_trimmed)"
   ]
  },
  {
   "cell_type": "code",
   "execution_count": 14,
   "id": "30080ab2-52af-4e9c-8712-4935bccab39f",
   "metadata": {},
   "outputs": [
    {
     "name": "stdout",
     "output_type": "stream",
     "text": [
      "125/125 [==============================] - 0s 901us/step\n",
      "Accuracy: 0.81425\n",
      "AUC: 0.831695323230421\n",
      "\n",
      "macro\n",
      "Precision: 0.7433674462445699\n",
      "Recall: 0.8316953232304207\n",
      "F1 Score: 0.7643274741115078\n",
      "\n",
      "weighted\n",
      "Precision: 0.8693096005792558\n",
      "Recall: 0.81425\n",
      "F1 Score: 0.8282152910551729\n",
      "\n",
      "Mean FNR: 0.16830467676957916\n",
      "Mean TNR: 0.8316953232304207\n",
      "Mean FPR: 0.16830467676957916\n",
      "Mean TPR: 0.8316953232304207\n"
     ]
    }
   ],
   "source": [
    "calculate_performance_metrics(x_test_adv, y_test_trimmed, model)"
   ]
  },
  {
   "cell_type": "code",
   "execution_count": 15,
   "id": "dc4a7550-8169-4eca-b7ac-96d5b64e092b",
   "metadata": {},
   "outputs": [
    {
     "name": "stderr",
     "output_type": "stream",
     "text": [
      "/tmp/ipykernel_37779/2229238815.py:5: DeprecationWarning: `product` is deprecated as of NumPy 1.25.0, and will be removed in NumPy 2.0. Please use `prod` instead.\n",
      "  x_test_adv = attack.generate(x=x_test_trimmed)\n",
      "JSMA: 100%|██████████| 4000/4000 [00:17<00:00, 226.55it/s]\n"
     ]
    }
   ],
   "source": [
    "# Initialize the JSMA attack\n",
    "attack = SaliencyMapMethod(classifier=classifier, theta=0.05, gamma = 0.01)\n",
    "\n",
    "# Generate adversarial examples\n",
    "x_test_adv = attack.generate(x=x_test_trimmed)"
   ]
  },
  {
   "cell_type": "code",
   "execution_count": 16,
   "id": "948f9635-5706-4b9a-bd02-12183f5996a8",
   "metadata": {},
   "outputs": [
    {
     "name": "stdout",
     "output_type": "stream",
     "text": [
      "125/125 [==============================] - 0s 626us/step\n",
      "Accuracy: 0.8085\n",
      "AUC: 0.8244691683548238\n",
      "\n",
      "macro\n",
      "Precision: 0.7374497991967872\n",
      "Recall: 0.8244691683548238\n",
      "F1 Score: 0.7575267219163871\n",
      "\n",
      "weighted\n",
      "Precision: 0.8650368975903614\n",
      "Recall: 0.8085\n",
      "F1 Score: 0.8230082067391743\n",
      "\n",
      "Mean FNR: 0.17553083164517616\n",
      "Mean TNR: 0.8244691683548238\n",
      "Mean FPR: 0.17553083164517616\n",
      "Mean TPR: 0.8244691683548238\n"
     ]
    }
   ],
   "source": [
    "calculate_performance_metrics(x_test_adv, y_test_trimmed, model)"
   ]
  },
  {
   "cell_type": "code",
   "execution_count": 37,
   "id": "c5c13dfa-eb49-41ea-bbb9-cd7e83183ff7",
   "metadata": {},
   "outputs": [
    {
     "name": "stderr",
     "output_type": "stream",
     "text": [
      "/tmp/ipykernel_53013/1183469131.py:5: DeprecationWarning: `product` is deprecated as of NumPy 1.25.0, and will be removed in NumPy 2.0. Please use `prod` instead.\n",
      "  x_test_adv = attack.generate(x=x_test_trimmed)\n",
      "JSMA:   0%|          | 0/4000 [00:00<?, ?it/s]"
     ]
    },
    {
     "name": "stdout",
     "output_type": "stream",
     "text": [
      "WARNING:tensorflow:Calling GradientTape.gradient on a persistent tape inside its context is significantly less efficient than calling it outside the context (it causes the gradient ops to be recorded on the tape, leading to increased CPU and memory usage). Only call GradientTape.gradient inside the context if you actually want to trace the gradient in order to compute higher order derivatives.\n"
     ]
    },
    {
     "name": "stderr",
     "output_type": "stream",
     "text": [
      "JSMA: 100%|██████████| 4000/4000 [00:24<00:00, 163.48it/s]\n"
     ]
    }
   ],
   "source": [
    "# Initialize the JSMA attack\n",
    "attack = SaliencyMapMethod(classifier=classifier, theta=0.1, gamma = 0.01)\n",
    "\n",
    "# Generate adversarial examples\n",
    "x_test_adv = attack.generate(x=x_test_trimmed)"
   ]
  },
  {
   "cell_type": "code",
   "execution_count": 51,
   "id": "90474f6f-856f-4228-8ecd-e0fd139f0464",
   "metadata": {},
   "outputs": [
    {
     "name": "stdout",
     "output_type": "stream",
     "text": [
      "125/125 [==============================] - 0s 597us/step\n",
      "Accuracy: 0.805\n",
      "AUC: 0.8177571166734805\n",
      "\n",
      "macro\n",
      "Precision: 0.733054145202535\n",
      "Recall: 0.8177571166734805\n",
      "F1 Score: 0.7526636225266363\n",
      "\n",
      "weighted\n",
      "Precision: 0.861078642107994\n",
      "Recall: 0.805\n",
      "F1 Score: 0.8196769406392695\n",
      "\n",
      "Mean FNR: 0.18224288332651944\n",
      "Mean TNR: 0.8177571166734805\n",
      "Mean FPR: 0.18224288332651944\n",
      "Mean TPR: 0.8177571166734805\n"
     ]
    }
   ],
   "source": [
    "calculate_performance_metrics(x_test_adv, y_test_trimmed, model)"
   ]
  },
  {
   "cell_type": "code",
   "execution_count": 52,
   "id": "ca97b618-f5f5-4019-8f01-c7106d184877",
   "metadata": {},
   "outputs": [
    {
     "name": "stderr",
     "output_type": "stream",
     "text": [
      "/tmp/ipykernel_53013/1855246553.py:5: DeprecationWarning: `product` is deprecated as of NumPy 1.25.0, and will be removed in NumPy 2.0. Please use `prod` instead.\n",
      "  x_test_adv = attack.generate(x=x_test_trimmed)\n",
      "JSMA: 100%|██████████| 4000/4000 [00:24<00:00, 164.99it/s]\n"
     ]
    }
   ],
   "source": [
    "# Initialize the JSMA attack\n",
    "attack = SaliencyMapMethod(classifier=classifier, theta=0.15, gamma = 0.01)\n",
    "\n",
    "# Generate adversarial examples\n",
    "x_test_adv = attack.generate(x=x_test_trimmed)"
   ]
  },
  {
   "cell_type": "code",
   "execution_count": 53,
   "id": "3fe73e48-6e14-4cbc-b23b-aff11933fc39",
   "metadata": {},
   "outputs": [
    {
     "name": "stdout",
     "output_type": "stream",
     "text": [
      "125/125 [==============================] - 0s 575us/step\n",
      "Accuracy: 0.80875\n",
      "AUC: 0.8110982744813414\n",
      "\n",
      "macro\n",
      "Precision: 0.7331347530100453\n",
      "Recall: 0.8110982744813415\n",
      "F1 Score: 0.7534042900400718\n",
      "\n",
      "weighted\n",
      "Precision: 0.8573673345360796\n",
      "Recall: 0.80875\n",
      "F1 Score: 0.8222140487026527\n",
      "\n",
      "Mean FNR: 0.18890172551865853\n",
      "Mean TNR: 0.8110982744813415\n",
      "Mean FPR: 0.18890172551865853\n",
      "Mean TPR: 0.8110982744813415\n"
     ]
    }
   ],
   "source": [
    "calculate_performance_metrics(x_test_adv, y_test_trimmed, model)"
   ]
  },
  {
   "cell_type": "code",
   "execution_count": 54,
   "id": "7c4d2d69-0a5c-42e0-8c43-5821b353bbe1",
   "metadata": {},
   "outputs": [
    {
     "name": "stderr",
     "output_type": "stream",
     "text": [
      "/tmp/ipykernel_53013/1114785325.py:5: DeprecationWarning: `product` is deprecated as of NumPy 1.25.0, and will be removed in NumPy 2.0. Please use `prod` instead.\n",
      "  x_test_adv = attack.generate(x=x_test_trimmed)\n",
      "JSMA: 100%|██████████| 4000/4000 [00:24<00:00, 164.93it/s]\n"
     ]
    }
   ],
   "source": [
    "# Initialize the JSMA attack\n",
    "attack = SaliencyMapMethod(classifier=classifier, theta=0.2, gamma = 0.01)\n",
    "\n",
    "# Generate adversarial examples\n",
    "x_test_adv = attack.generate(x=x_test_trimmed)"
   ]
  },
  {
   "cell_type": "code",
   "execution_count": 55,
   "id": "f101b049-8eb1-4f87-a445-fe498cc8aa24",
   "metadata": {},
   "outputs": [
    {
     "name": "stdout",
     "output_type": "stream",
     "text": [
      "125/125 [==============================] - 0s 576us/step\n",
      "Accuracy: 0.80775\n",
      "AUC: 0.8091161253079643\n",
      "\n",
      "macro\n",
      "Precision: 0.7318403555056374\n",
      "Recall: 0.8091161253079642\n",
      "F1 Score: 0.751963307986983\n",
      "\n",
      "weighted\n",
      "Precision: 0.8562097035089185\n",
      "Recall: 0.80775\n",
      "F1 Score: 0.821248203286228\n",
      "\n",
      "Mean FNR: 0.19088387469203572\n",
      "Mean TNR: 0.8091161253079642\n",
      "Mean FPR: 0.19088387469203572\n",
      "Mean TPR: 0.8091161253079642\n"
     ]
    }
   ],
   "source": [
    "calculate_performance_metrics(x_test_adv, y_test_trimmed, model)"
   ]
  },
  {
   "cell_type": "code",
   "execution_count": 56,
   "id": "7bb8971e-3e42-4998-a8e9-4f3ce0995adf",
   "metadata": {},
   "outputs": [
    {
     "name": "stderr",
     "output_type": "stream",
     "text": [
      "/tmp/ipykernel_53013/2667259709.py:5: DeprecationWarning: `product` is deprecated as of NumPy 1.25.0, and will be removed in NumPy 2.0. Please use `prod` instead.\n",
      "  x_test_adv = attack.generate(x=x_test_trimmed)\n",
      "JSMA: 100%|██████████| 4000/4000 [00:24<00:00, 164.07it/s]\n"
     ]
    }
   ],
   "source": [
    "# Initialize the JSMA attack\n",
    "attack = SaliencyMapMethod(classifier=classifier, theta=0.25, gamma = 0.01)\n",
    "\n",
    "# Generate adversarial examples\n",
    "x_test_adv = attack.generate(x=x_test_trimmed)"
   ]
  },
  {
   "cell_type": "code",
   "execution_count": 57,
   "id": "05f09f17-f76a-440c-80ca-b60cb81f4bf6",
   "metadata": {},
   "outputs": [
    {
     "name": "stdout",
     "output_type": "stream",
     "text": [
      "125/125 [==============================] - 0s 575us/step\n",
      "Accuracy: 0.80775\n",
      "AUC: 0.8023520125436585\n",
      "\n",
      "macro\n",
      "Precision: 0.7296711921114254\n",
      "Recall: 0.8023520125436585\n",
      "F1 Score: 0.7496474024575086\n",
      "\n",
      "weighted\n",
      "Precision: 0.8524707057198911\n",
      "Recall: 0.80775\n",
      "F1 Score: 0.8206851397746386\n",
      "\n",
      "Mean FNR: 0.19764798745634143\n",
      "Mean TNR: 0.8023520125436585\n",
      "Mean FPR: 0.19764798745634143\n",
      "Mean TPR: 0.8023520125436585\n"
     ]
    }
   ],
   "source": [
    "calculate_performance_metrics(x_test_adv, y_test_trimmed, model)"
   ]
  },
  {
   "cell_type": "code",
   "execution_count": 58,
   "id": "ad0d9583-4a1f-4a65-a2f8-725c51bdae8e",
   "metadata": {},
   "outputs": [
    {
     "name": "stderr",
     "output_type": "stream",
     "text": [
      "/tmp/ipykernel_53013/1503088926.py:5: DeprecationWarning: `product` is deprecated as of NumPy 1.25.0, and will be removed in NumPy 2.0. Please use `prod` instead.\n",
      "  x_test_adv = attack.generate(x=x_test_trimmed)\n",
      "JSMA: 100%|██████████| 4000/4000 [00:24<00:00, 163.15it/s]\n"
     ]
    }
   ],
   "source": [
    "# Initialize the JSMA attack\n",
    "attack = SaliencyMapMethod(classifier=classifier, theta=0.3, gamma = 0.01)\n",
    "\n",
    "# Generate adversarial examples\n",
    "x_test_adv = attack.generate(x=x_test_trimmed)"
   ]
  },
  {
   "cell_type": "code",
   "execution_count": 59,
   "id": "9e253aaa-225d-40fd-8886-72dff72f5b61",
   "metadata": {},
   "outputs": [
    {
     "name": "stdout",
     "output_type": "stream",
     "text": [
      "125/125 [==============================] - 0s 589us/step\n",
      "Accuracy: 0.80925\n",
      "AUC: 0.7983356531139418\n",
      "\n",
      "macro\n",
      "Precision: 0.7294713819951353\n",
      "Recall: 0.7983356531139418\n",
      "F1 Score: 0.7493836208400821\n",
      "\n",
      "weighted\n",
      "Precision: 0.8504227488030255\n",
      "Recall: 0.80925\n",
      "F1 Score: 0.8215294977202696\n",
      "\n",
      "Mean FNR: 0.2016643468860582\n",
      "Mean TNR: 0.7983356531139418\n",
      "Mean FPR: 0.2016643468860582\n",
      "Mean TPR: 0.7983356531139418\n"
     ]
    }
   ],
   "source": [
    "calculate_performance_metrics(x_test_adv, y_test_trimmed, model)"
   ]
  },
  {
   "cell_type": "code",
   "execution_count": null,
   "id": "05868421-03b6-4363-897a-f616e73beab2",
   "metadata": {},
   "outputs": [],
   "source": []
  }
 ],
 "metadata": {
  "kernelspec": {
   "display_name": "Python 3 (ipykernel)",
   "language": "python",
   "name": "python3"
  },
  "language_info": {
   "codemirror_mode": {
    "name": "ipython",
    "version": 3
   },
   "file_extension": ".py",
   "mimetype": "text/x-python",
   "name": "python",
   "nbconvert_exporter": "python",
   "pygments_lexer": "ipython3",
   "version": "3.11.5"
  }
 },
 "nbformat": 4,
 "nbformat_minor": 5
}
