{
 "cells": [
  {
   "cell_type": "code",
   "execution_count": 1,
   "id": "0de82456-354b-4095-9e22-ea5f04e19679",
   "metadata": {},
   "outputs": [
    {
     "name": "stderr",
     "output_type": "stream",
     "text": [
      "/opt/conda/lib/python3.11/site-packages/tqdm/auto.py:21: TqdmWarning: IProgress not found. Please update jupyter and ipywidgets. See https://ipywidgets.readthedocs.io/en/stable/user_install.html\n",
      "  from .autonotebook import tqdm as notebook_tqdm\n"
     ]
    }
   ],
   "source": [
    "import numpy as np\n",
    "import pandas as pd\n",
    "\n",
    "from sklearn.metrics import accuracy_score, precision_recall_fscore_support, roc_auc_score, confusion_matrix\n",
    "from sklearn.preprocessing import label_binarize\n",
    "\n",
    "import torch\n",
    "import torch.nn as nn\n",
    "import torch.optim as optim\n",
    "import torch.nn.functional as F\n",
    "from torch.utils.data import DataLoader, TensorDataset\n",
    "\n",
    "from art.attacks.evasion import BasicIterativeMethod\n",
    "from art.estimators.classification import PyTorchClassifier\n",
    "\n",
    "import time"
   ]
  },
  {
   "cell_type": "code",
   "execution_count": 2,
   "id": "e86f1f6a-e14c-4d5e-b38d-50700fc5d0a2",
   "metadata": {},
   "outputs": [],
   "source": [
    "columns = ['Dataset', 'Accuracy', 'Macro Precision', 'Macro Recall', 'Macro F1', 'Weighted Precision', 'Weighted Recall', 'Weighted F1', 'Macro AUC', 'Weighted AUC', 'TPR', 'FNR', 'TNR', 'FPR']\n",
    "results_df = pd.DataFrame(columns=columns)"
   ]
  },
  {
   "cell_type": "code",
   "execution_count": 17,
   "id": "084a3d5c-9d61-4476-8610-82e79c80a18e",
   "metadata": {},
   "outputs": [],
   "source": [
    "def calculate_performance_metrics(X_test, y_true, model, results_df, name):\n",
    "    model.eval()\n",
    "    device = torch.device('cuda' if torch.cuda.is_available() else 'cpu')\n",
    "    model.to(device)\n",
    "    \n",
    "    all_preds = []\n",
    "    all_labels = []\n",
    "    probabilities = []\n",
    "\n",
    "    num_classes = len(np.unique(y_true))\n",
    "    \n",
    "    X_test_tensor = torch.tensor(X_test, dtype=torch.float32)\n",
    "    y_test_tensor = torch.tensor(y_test, dtype=torch.long)\n",
    "    test_dataset = TensorDataset(X_test_tensor, y_test_tensor)\n",
    "    test_loader = DataLoader(dataset=test_dataset)\n",
    "\n",
    "    with torch.no_grad():\n",
    "        \n",
    "        for inputs, labels in test_loader:\n",
    "            inputs, labels = inputs.to(device), labels.to(device)\n",
    "            outputs = model(inputs)\n",
    "            preds = torch.argmax(outputs, dim=1)\n",
    "            all_preds.extend(preds.cpu().numpy())\n",
    "            all_labels.extend(labels.cpu().numpy())\n",
    "            probabilities.extend(torch.nn.functional.softmax(outputs, dim=1).cpu().numpy())\n",
    "        \n",
    "        all_preds = np.array(all_preds)\n",
    "        all_labels = np.array(all_labels)\n",
    "        probabilities = np.array(probabilities)\n",
    "        \n",
    "        accuracy = accuracy_score(all_labels, all_preds)\n",
    "\n",
    "        precision_macro, recall_macro, f1_macro, _ = precision_recall_fscore_support(all_labels, all_preds, average='macro')\n",
    "        precision_weighted, recall_weighted, f1_weighted, _ = precision_recall_fscore_support(all_labels, all_preds, average='weighted')\n",
    "    \n",
    "        macro_auc = roc_auc_score(label_binarize(all_labels, classes=range(num_classes)), probabilities[:,1], average='macro')\n",
    "        weighted_auc = roc_auc_score(label_binarize(all_labels, classes=range(num_classes)), probabilities[:,1], average='weighted')\n",
    "\n",
    "        cm = confusion_matrix(all_labels, all_preds)\n",
    "\n",
    "        def calculate_class_metrics_macro(cm, class_index):\n",
    "            TP = cm[class_index, class_index]\n",
    "            FP = cm[:, class_index].sum() - TP\n",
    "            FN = cm[class_index, :].sum() - TP\n",
    "            TN = cm.sum() - (TP + FP + FN)\n",
    "            \n",
    "            TPR = TP / (TP + FN) if (TP + FN) != 0 else 0  \n",
    "            TNR = TN / (TN + FP) if (TN + FP) != 0 else 0  \n",
    "            FPR = FP / (FP + TN) if (FP + TN) != 0 else 0  \n",
    "            FNR = FN / (FN + TP) if (FN + TP) != 0 else 0  \n",
    "            \n",
    "            return TPR, TNR, FPR, FNR\n",
    "            \n",
    "        metrics = np.array([calculate_class_metrics_macro(cm, i) for i in range(num_classes)])\n",
    "        TPR_macro, TNR_macro, FPR_macro, FNR_macro = np.mean(metrics, axis=0)\n",
    "\n",
    "        print(f\"Accuracy: {accuracy}\")\n",
    "        \n",
    "        print(\"\\nmacro\")\n",
    "        print(f\"Precision: {precision_macro}\\nRecall: {recall_macro}\\nF1 Score: {f1_macro}\\nAUC: {macro_auc}\")\n",
    "    \n",
    "        print(\"\\nweighted\")\n",
    "        print(f\"Precision: {precision_weighted}\\nRecall: {recall_weighted}\\nF1 Score: {f1_weighted}\\nAUC: {weighted_auc}\")\n",
    "        print()\n",
    "        \n",
    "        print(f\"Mean FNR: {FNR_macro}\\nMean TNR: {TNR_macro}\\nMean FPR: {FPR_macro}\\nMean TPR: {TPR_macro}\")\n",
    "\n",
    "        new_row = {\n",
    "            'Dataset': name,\n",
    "            'Accuracy': accuracy,\n",
    "            'Macro Precision': precision_macro,\n",
    "            'Macro Recall': recall_macro,\n",
    "            'Macro F1': f1_macro,\n",
    "            'Macro AUC': macro_auc,\n",
    "            'Weighted Precision': precision_weighted,\n",
    "            'Weighted Recall': recall_weighted,\n",
    "            'Weighted F1': f1_weighted,\n",
    "            'Weighted AUC': weighted_auc,\n",
    "            'TPR': TPR_macro,\n",
    "            'FNR': FNR_macro,\n",
    "            'TNR': TNR_macro,\n",
    "            'FPR': FPR_macro,\n",
    "        }\n",
    "\n",
    "        new_row_df = pd.DataFrame([new_row])  # Convert your new row into a DataFrame\n",
    "        results_df = pd.concat([results_df, new_row_df], ignore_index=True)\n",
    "        return results_df"
   ]
  },
  {
   "cell_type": "code",
   "execution_count": 4,
   "id": "38318ab1-1d7a-474d-a997-e98aed110c4f",
   "metadata": {},
   "outputs": [
    {
     "name": "stdout",
     "output_type": "stream",
     "text": [
      "Using cuda device\n"
     ]
    }
   ],
   "source": [
    "device = torch.device(\"cuda\" if torch.cuda.is_available() else \"cpu\")\n",
    "print(f\"Using {device} device\")"
   ]
  },
  {
   "cell_type": "code",
   "execution_count": 5,
   "id": "ac4f4ba5-dceb-4a58-8f94-3a8fcdeb2e85",
   "metadata": {},
   "outputs": [],
   "source": [
    "x_train = np.load(\"/home/jovyan/UNSW/dataset/preprocessed/x_train.npy\")\n",
    "y_train = np.load(\"/home/jovyan/UNSW/dataset/preprocessed/y_train.npy\")\n",
    "x_val = np.load(\"/home/jovyan/UNSW/dataset/preprocessed/x_val.npy\")\n",
    "y_val = np.load(\"/home/jovyan/UNSW/dataset/preprocessed/y_val.npy\")\n",
    "x_test = np.load(\"/home/jovyan/UNSW/dataset/preprocessed/x_test.npy\")\n",
    "y_test = np.load(\"/home/jovyan/UNSW/dataset/preprocessed/y_test.npy\")"
   ]
  },
  {
   "cell_type": "code",
   "execution_count": 6,
   "id": "e2f79f2d-d03e-4838-9058-211961a2feac",
   "metadata": {},
   "outputs": [],
   "source": [
    "input_shape = x_train.shape[1]\n",
    "output_shape = len(np.unique(y_train))"
   ]
  },
  {
   "cell_type": "code",
   "execution_count": 7,
   "id": "536404c6-0bc2-472d-a898-4096949776a1",
   "metadata": {},
   "outputs": [],
   "source": [
    "class DNNModel(nn.Module):\n",
    "    def __init__(self, input_size, output_size):\n",
    "        super(DNNModel, self).__init__()\n",
    "        self.fc1 = nn.Linear(input_size, 50)\n",
    "        self.fc2 = nn.Linear(50, 30)\n",
    "        self.fc3 = nn.Linear(30, 20)\n",
    "        self.fc4 = nn.Linear(20, output_size)\n",
    "\n",
    "    def forward(self, x):\n",
    "        x = F.relu(self.fc1(x))\n",
    "        x = F.relu(self.fc2(x))\n",
    "        x = F.relu(self.fc3(x))\n",
    "        x = self.fc4(x)\n",
    "        return x"
   ]
  },
  {
   "cell_type": "code",
   "execution_count": 8,
   "id": "301cddab-b160-49b3-aede-b567693d9c9a",
   "metadata": {},
   "outputs": [
    {
     "data": {
      "text/plain": [
       "<All keys matched successfully>"
      ]
     },
     "execution_count": 8,
     "metadata": {},
     "output_type": "execute_result"
    }
   ],
   "source": [
    "model = DNNModel(input_size=input_shape, output_size=output_shape).to(device)\n",
    "model.load_state_dict(torch.load(\"/home/jovyan/UNSW/model/dnn_pytorch.pt\"))"
   ]
  },
  {
   "cell_type": "code",
   "execution_count": 9,
   "id": "598a9baf-fdc3-4b5f-9061-a08fd38e911b",
   "metadata": {},
   "outputs": [],
   "source": [
    "x_train = x_train.astype(np.float32)\n",
    "x_test = x_test.astype(np.float32)"
   ]
  },
  {
   "cell_type": "code",
   "execution_count": 10,
   "id": "ad18f6af-273d-4e46-9bc6-3ac515959d1a",
   "metadata": {},
   "outputs": [],
   "source": [
    "criterion = nn.CrossEntropyLoss()\n",
    "optimizer = optim.Adam(model.parameters(), lr=0.001)\n",
    "    \n",
    "classifier = PyTorchClassifier(\n",
    "    model=model,\n",
    "    clip_values=(-5, 5),\n",
    "    loss=criterion,\n",
    "    optimizer=optimizer,\n",
    "    input_shape=(input_shape,),\n",
    "    nb_classes=output_shape,\n",
    "    device_type='gpu'\n",
    ")"
   ]
  },
  {
   "cell_type": "code",
   "execution_count": 18,
   "id": "ec2cebff-c111-4132-9e08-f67633d5b97c",
   "metadata": {},
   "outputs": [
    {
     "name": "stderr",
     "output_type": "stream",
     "text": [
      "                                                                   \r"
     ]
    }
   ],
   "source": [
    "# Initialize the Elastic Net attack\n",
    "attack = BasicIterativeMethod(estimator=classifier, eps=0.01, max_iter = 10)\n",
    "\n",
    "# Generate adversarial test examples\n",
    "x_test_adv = attack.generate(x=x_test)"
   ]
  },
  {
   "cell_type": "code",
   "execution_count": 19,
   "id": "8e365245-dea6-4992-8fb2-b1e95d66346e",
   "metadata": {},
   "outputs": [],
   "source": [
    "np.save(\"/home/jovyan/UNSW/dataset/with_attack/pytorch/BIM_001.npy\", x_test_adv)"
   ]
  },
  {
   "cell_type": "code",
   "execution_count": 20,
   "id": "dd0daf31-7b9a-4c3d-926c-3a4e62645997",
   "metadata": {},
   "outputs": [
    {
     "name": "stdout",
     "output_type": "stream",
     "text": [
      "Accuracy: 0.8905732258855601\n",
      "\n",
      "macro\n",
      "Precision: 0.8697604936669707\n",
      "Recall: 0.9105092863397444\n",
      "F1 Score: 0.88171001444566\n",
      "AUC: 0.9799952643954238\n",
      "\n",
      "weighted\n",
      "Precision: 0.9101359575565199\n",
      "Recall: 0.8905732258855601\n",
      "F1 Score: 0.8934069199339241\n",
      "AUC: 0.9799952643954238\n",
      "\n",
      "Mean FNR: 0.08949071366025567\n",
      "Mean TNR: 0.9105092863397444\n",
      "Mean FPR: 0.08949071366025567\n",
      "Mean TPR: 0.9105092863397444\n"
     ]
    },
    {
     "name": "stderr",
     "output_type": "stream",
     "text": [
      "/tmp/ipykernel_18632/3177275996.py:86: FutureWarning: The behavior of DataFrame concatenation with empty or all-NA entries is deprecated. In a future version, this will no longer exclude empty or all-NA columns when determining the result dtypes. To retain the old behavior, exclude the relevant entries before the concat operation.\n",
      "  results_df = pd.concat([results_df, new_row_df], ignore_index=True)\n"
     ]
    }
   ],
   "source": [
    "results_df = calculate_performance_metrics(x_test_adv, y_test, model, results_df, \"001\")"
   ]
  },
  {
   "cell_type": "code",
   "execution_count": 21,
   "id": "596f3790-abdf-4a28-ae55-a2cc8f4eb05f",
   "metadata": {},
   "outputs": [
    {
     "data": {
      "text/html": [
       "<div>\n",
       "<style scoped>\n",
       "    .dataframe tbody tr th:only-of-type {\n",
       "        vertical-align: middle;\n",
       "    }\n",
       "\n",
       "    .dataframe tbody tr th {\n",
       "        vertical-align: top;\n",
       "    }\n",
       "\n",
       "    .dataframe thead th {\n",
       "        text-align: right;\n",
       "    }\n",
       "</style>\n",
       "<table border=\"1\" class=\"dataframe\">\n",
       "  <thead>\n",
       "    <tr style=\"text-align: right;\">\n",
       "      <th></th>\n",
       "      <th>Dataset</th>\n",
       "      <th>Accuracy</th>\n",
       "      <th>Macro Precision</th>\n",
       "      <th>Macro Recall</th>\n",
       "      <th>Macro F1</th>\n",
       "      <th>Weighted Precision</th>\n",
       "      <th>Weighted Recall</th>\n",
       "      <th>Weighted F1</th>\n",
       "      <th>Macro AUC</th>\n",
       "      <th>Weighted AUC</th>\n",
       "      <th>TPR</th>\n",
       "      <th>FNR</th>\n",
       "      <th>TNR</th>\n",
       "      <th>FPR</th>\n",
       "    </tr>\n",
       "  </thead>\n",
       "  <tbody>\n",
       "    <tr>\n",
       "      <th>0</th>\n",
       "      <td>001</td>\n",
       "      <td>0.890573</td>\n",
       "      <td>0.86976</td>\n",
       "      <td>0.910509</td>\n",
       "      <td>0.88171</td>\n",
       "      <td>0.910136</td>\n",
       "      <td>0.890573</td>\n",
       "      <td>0.893407</td>\n",
       "      <td>0.979995</td>\n",
       "      <td>0.979995</td>\n",
       "      <td>0.910509</td>\n",
       "      <td>0.089491</td>\n",
       "      <td>0.910509</td>\n",
       "      <td>0.089491</td>\n",
       "    </tr>\n",
       "  </tbody>\n",
       "</table>\n",
       "</div>"
      ],
      "text/plain": [
       "  Dataset  Accuracy  Macro Precision  Macro Recall  Macro F1  \\\n",
       "0     001  0.890573          0.86976      0.910509   0.88171   \n",
       "\n",
       "   Weighted Precision  Weighted Recall  Weighted F1  Macro AUC  Weighted AUC  \\\n",
       "0            0.910136         0.890573     0.893407   0.979995      0.979995   \n",
       "\n",
       "        TPR       FNR       TNR       FPR  \n",
       "0  0.910509  0.089491  0.910509  0.089491  "
      ]
     },
     "execution_count": 21,
     "metadata": {},
     "output_type": "execute_result"
    }
   ],
   "source": [
    "results_df"
   ]
  },
  {
   "cell_type": "code",
   "execution_count": 22,
   "id": "e30a0a70-7bee-428e-b01f-fe8cf60f8710",
   "metadata": {},
   "outputs": [
    {
     "name": "stderr",
     "output_type": "stream",
     "text": [
      "                                                                  \r"
     ]
    }
   ],
   "source": [
    "# Initialize the Elastic Net attack\n",
    "attack = BasicIterativeMethod(estimator=classifier, eps=0.05, max_iter = 10)\n",
    "\n",
    "# Generate adversarial test examples\n",
    "x_test_adv = attack.generate(x=x_test)"
   ]
  },
  {
   "cell_type": "code",
   "execution_count": 23,
   "id": "3decae29-aefa-4465-9485-9ba696675531",
   "metadata": {},
   "outputs": [],
   "source": [
    "np.save(\"/home/jovyan/UNSW/dataset/with_attack/pytorch/BIM_005.npy\", x_test_adv)"
   ]
  },
  {
   "cell_type": "code",
   "execution_count": 24,
   "id": "fdf4a878-4cda-485c-9840-b65913d77605",
   "metadata": {},
   "outputs": [
    {
     "name": "stdout",
     "output_type": "stream",
     "text": [
      "Accuracy: 0.852818222777331\n",
      "\n",
      "macro\n",
      "Precision: 0.8353743307898338\n",
      "Recall: 0.8795748829584372\n",
      "F1 Score: 0.8435273627652483\n",
      "AUC: 0.974101680418776\n",
      "\n",
      "weighted\n",
      "Precision: 0.8853455470342398\n",
      "Recall: 0.852818222777331\n",
      "F1 Score: 0.8573009985847806\n",
      "AUC: 0.974101680418776\n",
      "\n",
      "Mean FNR: 0.12042511704156277\n",
      "Mean TNR: 0.8795748829584372\n",
      "Mean FPR: 0.12042511704156277\n",
      "Mean TPR: 0.8795748829584372\n"
     ]
    }
   ],
   "source": [
    "results_df = calculate_performance_metrics(x_test_adv, y_test, model, results_df, \"005\")"
   ]
  },
  {
   "cell_type": "code",
   "execution_count": 25,
   "id": "c063c39c-2412-4c97-8e41-9903ddc62dee",
   "metadata": {},
   "outputs": [
    {
     "data": {
      "text/html": [
       "<div>\n",
       "<style scoped>\n",
       "    .dataframe tbody tr th:only-of-type {\n",
       "        vertical-align: middle;\n",
       "    }\n",
       "\n",
       "    .dataframe tbody tr th {\n",
       "        vertical-align: top;\n",
       "    }\n",
       "\n",
       "    .dataframe thead th {\n",
       "        text-align: right;\n",
       "    }\n",
       "</style>\n",
       "<table border=\"1\" class=\"dataframe\">\n",
       "  <thead>\n",
       "    <tr style=\"text-align: right;\">\n",
       "      <th></th>\n",
       "      <th>Dataset</th>\n",
       "      <th>Accuracy</th>\n",
       "      <th>Macro Precision</th>\n",
       "      <th>Macro Recall</th>\n",
       "      <th>Macro F1</th>\n",
       "      <th>Weighted Precision</th>\n",
       "      <th>Weighted Recall</th>\n",
       "      <th>Weighted F1</th>\n",
       "      <th>Macro AUC</th>\n",
       "      <th>Weighted AUC</th>\n",
       "      <th>TPR</th>\n",
       "      <th>FNR</th>\n",
       "      <th>TNR</th>\n",
       "      <th>FPR</th>\n",
       "    </tr>\n",
       "  </thead>\n",
       "  <tbody>\n",
       "    <tr>\n",
       "      <th>0</th>\n",
       "      <td>001</td>\n",
       "      <td>0.890573</td>\n",
       "      <td>0.869760</td>\n",
       "      <td>0.910509</td>\n",
       "      <td>0.881710</td>\n",
       "      <td>0.910136</td>\n",
       "      <td>0.890573</td>\n",
       "      <td>0.893407</td>\n",
       "      <td>0.979995</td>\n",
       "      <td>0.979995</td>\n",
       "      <td>0.910509</td>\n",
       "      <td>0.089491</td>\n",
       "      <td>0.910509</td>\n",
       "      <td>0.089491</td>\n",
       "    </tr>\n",
       "    <tr>\n",
       "      <th>1</th>\n",
       "      <td>005</td>\n",
       "      <td>0.852818</td>\n",
       "      <td>0.835374</td>\n",
       "      <td>0.879575</td>\n",
       "      <td>0.843527</td>\n",
       "      <td>0.885346</td>\n",
       "      <td>0.852818</td>\n",
       "      <td>0.857301</td>\n",
       "      <td>0.974102</td>\n",
       "      <td>0.974102</td>\n",
       "      <td>0.879575</td>\n",
       "      <td>0.120425</td>\n",
       "      <td>0.879575</td>\n",
       "      <td>0.120425</td>\n",
       "    </tr>\n",
       "  </tbody>\n",
       "</table>\n",
       "</div>"
      ],
      "text/plain": [
       "  Dataset  Accuracy  Macro Precision  Macro Recall  Macro F1  \\\n",
       "0     001  0.890573         0.869760      0.910509  0.881710   \n",
       "1     005  0.852818         0.835374      0.879575  0.843527   \n",
       "\n",
       "   Weighted Precision  Weighted Recall  Weighted F1  Macro AUC  Weighted AUC  \\\n",
       "0            0.910136         0.890573     0.893407   0.979995      0.979995   \n",
       "1            0.885346         0.852818     0.857301   0.974102      0.974102   \n",
       "\n",
       "        TPR       FNR       TNR       FPR  \n",
       "0  0.910509  0.089491  0.910509  0.089491  \n",
       "1  0.879575  0.120425  0.879575  0.120425  "
      ]
     },
     "execution_count": 25,
     "metadata": {},
     "output_type": "execute_result"
    }
   ],
   "source": [
    "results_df"
   ]
  },
  {
   "cell_type": "code",
   "execution_count": 26,
   "id": "d53d6614-3c38-43f4-81c0-a08e0038d270",
   "metadata": {},
   "outputs": [
    {
     "name": "stderr",
     "output_type": "stream",
     "text": [
      "                                                                  \r"
     ]
    }
   ],
   "source": [
    "attack = BasicIterativeMethod(estimator=classifier, eps=0.1, max_iter = 10)\n",
    "X_test_adv = attack.generate(x=x_test)"
   ]
  },
  {
   "cell_type": "code",
   "execution_count": 27,
   "id": "51ebbb40-a55f-4711-9044-9d2ffe3d2ec5",
   "metadata": {},
   "outputs": [],
   "source": [
    "np.save(\"/home/jovyan/UNSW/dataset/with_attack/pytorch/BIM_01.npy\", x_test_adv)"
   ]
  },
  {
   "cell_type": "code",
   "execution_count": 28,
   "id": "edeacc61-f68d-475d-bd14-d7d58d5244fb",
   "metadata": {},
   "outputs": [
    {
     "name": "stdout",
     "output_type": "stream",
     "text": [
      "Accuracy: 0.852818222777331\n",
      "\n",
      "macro\n",
      "Precision: 0.8353743307898338\n",
      "Recall: 0.8795748829584372\n",
      "F1 Score: 0.8435273627652483\n",
      "AUC: 0.974101680418776\n",
      "\n",
      "weighted\n",
      "Precision: 0.8853455470342398\n",
      "Recall: 0.852818222777331\n",
      "F1 Score: 0.8573009985847806\n",
      "AUC: 0.974101680418776\n",
      "\n",
      "Mean FNR: 0.12042511704156277\n",
      "Mean TNR: 0.8795748829584372\n",
      "Mean FPR: 0.12042511704156277\n",
      "Mean TPR: 0.8795748829584372\n"
     ]
    }
   ],
   "source": [
    "results_df = calculate_performance_metrics(x_test_adv, y_test, model, results_df, \"01\")"
   ]
  },
  {
   "cell_type": "code",
   "execution_count": 29,
   "id": "77a5d04b-35f3-4779-8e1b-f1c810bfc05d",
   "metadata": {},
   "outputs": [
    {
     "data": {
      "text/html": [
       "<div>\n",
       "<style scoped>\n",
       "    .dataframe tbody tr th:only-of-type {\n",
       "        vertical-align: middle;\n",
       "    }\n",
       "\n",
       "    .dataframe tbody tr th {\n",
       "        vertical-align: top;\n",
       "    }\n",
       "\n",
       "    .dataframe thead th {\n",
       "        text-align: right;\n",
       "    }\n",
       "</style>\n",
       "<table border=\"1\" class=\"dataframe\">\n",
       "  <thead>\n",
       "    <tr style=\"text-align: right;\">\n",
       "      <th></th>\n",
       "      <th>Dataset</th>\n",
       "      <th>Accuracy</th>\n",
       "      <th>Macro Precision</th>\n",
       "      <th>Macro Recall</th>\n",
       "      <th>Macro F1</th>\n",
       "      <th>Weighted Precision</th>\n",
       "      <th>Weighted Recall</th>\n",
       "      <th>Weighted F1</th>\n",
       "      <th>Macro AUC</th>\n",
       "      <th>Weighted AUC</th>\n",
       "      <th>TPR</th>\n",
       "      <th>FNR</th>\n",
       "      <th>TNR</th>\n",
       "      <th>FPR</th>\n",
       "    </tr>\n",
       "  </thead>\n",
       "  <tbody>\n",
       "    <tr>\n",
       "      <th>0</th>\n",
       "      <td>001</td>\n",
       "      <td>0.890573</td>\n",
       "      <td>0.869760</td>\n",
       "      <td>0.910509</td>\n",
       "      <td>0.881710</td>\n",
       "      <td>0.910136</td>\n",
       "      <td>0.890573</td>\n",
       "      <td>0.893407</td>\n",
       "      <td>0.979995</td>\n",
       "      <td>0.979995</td>\n",
       "      <td>0.910509</td>\n",
       "      <td>0.089491</td>\n",
       "      <td>0.910509</td>\n",
       "      <td>0.089491</td>\n",
       "    </tr>\n",
       "    <tr>\n",
       "      <th>1</th>\n",
       "      <td>005</td>\n",
       "      <td>0.852818</td>\n",
       "      <td>0.835374</td>\n",
       "      <td>0.879575</td>\n",
       "      <td>0.843527</td>\n",
       "      <td>0.885346</td>\n",
       "      <td>0.852818</td>\n",
       "      <td>0.857301</td>\n",
       "      <td>0.974102</td>\n",
       "      <td>0.974102</td>\n",
       "      <td>0.879575</td>\n",
       "      <td>0.120425</td>\n",
       "      <td>0.879575</td>\n",
       "      <td>0.120425</td>\n",
       "    </tr>\n",
       "    <tr>\n",
       "      <th>2</th>\n",
       "      <td>01</td>\n",
       "      <td>0.852818</td>\n",
       "      <td>0.835374</td>\n",
       "      <td>0.879575</td>\n",
       "      <td>0.843527</td>\n",
       "      <td>0.885346</td>\n",
       "      <td>0.852818</td>\n",
       "      <td>0.857301</td>\n",
       "      <td>0.974102</td>\n",
       "      <td>0.974102</td>\n",
       "      <td>0.879575</td>\n",
       "      <td>0.120425</td>\n",
       "      <td>0.879575</td>\n",
       "      <td>0.120425</td>\n",
       "    </tr>\n",
       "  </tbody>\n",
       "</table>\n",
       "</div>"
      ],
      "text/plain": [
       "  Dataset  Accuracy  Macro Precision  Macro Recall  Macro F1  \\\n",
       "0     001  0.890573         0.869760      0.910509  0.881710   \n",
       "1     005  0.852818         0.835374      0.879575  0.843527   \n",
       "2      01  0.852818         0.835374      0.879575  0.843527   \n",
       "\n",
       "   Weighted Precision  Weighted Recall  Weighted F1  Macro AUC  Weighted AUC  \\\n",
       "0            0.910136         0.890573     0.893407   0.979995      0.979995   \n",
       "1            0.885346         0.852818     0.857301   0.974102      0.974102   \n",
       "2            0.885346         0.852818     0.857301   0.974102      0.974102   \n",
       "\n",
       "        TPR       FNR       TNR       FPR  \n",
       "0  0.910509  0.089491  0.910509  0.089491  \n",
       "1  0.879575  0.120425  0.879575  0.120425  \n",
       "2  0.879575  0.120425  0.879575  0.120425  "
      ]
     },
     "execution_count": 29,
     "metadata": {},
     "output_type": "execute_result"
    }
   ],
   "source": [
    "results_df"
   ]
  },
  {
   "cell_type": "code",
   "execution_count": 30,
   "id": "68fdd781-1713-44a6-82c4-2f6734ad1aa0",
   "metadata": {},
   "outputs": [
    {
     "name": "stderr",
     "output_type": "stream",
     "text": [
      "                                                                  \r"
     ]
    }
   ],
   "source": [
    "# Initialize the Elastic Net attack\n",
    "attack = BasicIterativeMethod(estimator=classifier, eps=0.2, max_iter = 10)\n",
    "\n",
    "# Generate adversarial test examples\n",
    "x_test_adv = attack.generate(x=x_test)"
   ]
  },
  {
   "cell_type": "code",
   "execution_count": 31,
   "id": "16d14c66-a3a6-4647-a6a9-861edec4e145",
   "metadata": {},
   "outputs": [],
   "source": [
    "np.save(\"/home/jovyan/UNSW/dataset/with_attack/pytorch/BIM_02.npy\", x_test_adv)"
   ]
  },
  {
   "cell_type": "code",
   "execution_count": 32,
   "id": "5d3009ba-01fa-470e-861b-f715cea9b33c",
   "metadata": {},
   "outputs": [
    {
     "name": "stdout",
     "output_type": "stream",
     "text": [
      "Accuracy: 0.6006809588173901\n",
      "\n",
      "macro\n",
      "Precision: 0.6514689060542215\n",
      "Recall: 0.6645890829639437\n",
      "F1 Score: 0.5990811968740688\n",
      "AUC: 0.8435152408404728\n",
      "\n",
      "weighted\n",
      "Precision: 0.7295712966421972\n",
      "Recall: 0.6006809588173901\n",
      "F1 Score: 0.6082298535418116\n",
      "AUC: 0.8435152408404728\n",
      "\n",
      "Mean FNR: 0.33541091703605636\n",
      "Mean TNR: 0.6645890829639437\n",
      "Mean FPR: 0.33541091703605636\n",
      "Mean TPR: 0.6645890829639437\n"
     ]
    }
   ],
   "source": [
    "results_df = calculate_performance_metrics(x_test_adv, y_test, model, results_df, \"02\")"
   ]
  },
  {
   "cell_type": "code",
   "execution_count": 33,
   "id": "7f9fc7b1-ba24-425c-9c6c-bc66ece6fce3",
   "metadata": {
    "scrolled": true
   },
   "outputs": [
    {
     "name": "stderr",
     "output_type": "stream",
     "text": [
      "                                                                  \r"
     ]
    }
   ],
   "source": [
    "# Initialize the Elastic Net attack\n",
    "attack = BasicIterativeMethod(estimator=classifier, eps=0.3, max_iter = 10)\n",
    "\n",
    "# Generate adversarial test examples\n",
    "x_test_adv = attack.generate(x=x_test)"
   ]
  },
  {
   "cell_type": "code",
   "execution_count": 34,
   "id": "394d0367-8205-444b-b247-f016297d7b87",
   "metadata": {},
   "outputs": [],
   "source": [
    "np.save(\"/home/jovyan/UNSW/dataset/with_attack/pytorch/BIM_03.npy\", x_test_adv)"
   ]
  },
  {
   "cell_type": "code",
   "execution_count": 35,
   "id": "7385de0a-394f-4900-92d6-41959ce0f40a",
   "metadata": {},
   "outputs": [
    {
     "name": "stdout",
     "output_type": "stream",
     "text": [
      "Accuracy: 0.4321636126176992\n",
      "\n",
      "macro\n",
      "Precision: 0.5051935645136825\n",
      "Recall: 0.5050186376942662\n",
      "F1 Score: 0.43195327969576636\n",
      "AUC: 0.6891533800352412\n",
      "\n",
      "weighted\n",
      "Precision: 0.5711923686490458\n",
      "Recall: 0.4321636126176992\n",
      "F1 Score: 0.4280046437715958\n",
      "AUC: 0.6891533800352412\n",
      "\n",
      "Mean FNR: 0.49498136230573375\n",
      "Mean TNR: 0.5050186376942662\n",
      "Mean FPR: 0.49498136230573375\n",
      "Mean TPR: 0.5050186376942662\n"
     ]
    }
   ],
   "source": [
    "results_df = calculate_performance_metrics(x_test_adv, y_test, model, results_df, \"03\")"
   ]
  },
  {
   "cell_type": "code",
   "execution_count": 36,
   "id": "89f04b56-f203-413e-a871-a99f9f260a82",
   "metadata": {},
   "outputs": [
    {
     "data": {
      "text/html": [
       "<div>\n",
       "<style scoped>\n",
       "    .dataframe tbody tr th:only-of-type {\n",
       "        vertical-align: middle;\n",
       "    }\n",
       "\n",
       "    .dataframe tbody tr th {\n",
       "        vertical-align: top;\n",
       "    }\n",
       "\n",
       "    .dataframe thead th {\n",
       "        text-align: right;\n",
       "    }\n",
       "</style>\n",
       "<table border=\"1\" class=\"dataframe\">\n",
       "  <thead>\n",
       "    <tr style=\"text-align: right;\">\n",
       "      <th></th>\n",
       "      <th>Dataset</th>\n",
       "      <th>Accuracy</th>\n",
       "      <th>Macro Precision</th>\n",
       "      <th>Macro Recall</th>\n",
       "      <th>Macro F1</th>\n",
       "      <th>Weighted Precision</th>\n",
       "      <th>Weighted Recall</th>\n",
       "      <th>Weighted F1</th>\n",
       "      <th>Macro AUC</th>\n",
       "      <th>Weighted AUC</th>\n",
       "      <th>TPR</th>\n",
       "      <th>FNR</th>\n",
       "      <th>TNR</th>\n",
       "      <th>FPR</th>\n",
       "    </tr>\n",
       "  </thead>\n",
       "  <tbody>\n",
       "    <tr>\n",
       "      <th>0</th>\n",
       "      <td>001</td>\n",
       "      <td>0.890573</td>\n",
       "      <td>0.869760</td>\n",
       "      <td>0.910509</td>\n",
       "      <td>0.881710</td>\n",
       "      <td>0.910136</td>\n",
       "      <td>0.890573</td>\n",
       "      <td>0.893407</td>\n",
       "      <td>0.979995</td>\n",
       "      <td>0.979995</td>\n",
       "      <td>0.910509</td>\n",
       "      <td>0.089491</td>\n",
       "      <td>0.910509</td>\n",
       "      <td>0.089491</td>\n",
       "    </tr>\n",
       "    <tr>\n",
       "      <th>1</th>\n",
       "      <td>005</td>\n",
       "      <td>0.852818</td>\n",
       "      <td>0.835374</td>\n",
       "      <td>0.879575</td>\n",
       "      <td>0.843527</td>\n",
       "      <td>0.885346</td>\n",
       "      <td>0.852818</td>\n",
       "      <td>0.857301</td>\n",
       "      <td>0.974102</td>\n",
       "      <td>0.974102</td>\n",
       "      <td>0.879575</td>\n",
       "      <td>0.120425</td>\n",
       "      <td>0.879575</td>\n",
       "      <td>0.120425</td>\n",
       "    </tr>\n",
       "    <tr>\n",
       "      <th>2</th>\n",
       "      <td>01</td>\n",
       "      <td>0.852818</td>\n",
       "      <td>0.835374</td>\n",
       "      <td>0.879575</td>\n",
       "      <td>0.843527</td>\n",
       "      <td>0.885346</td>\n",
       "      <td>0.852818</td>\n",
       "      <td>0.857301</td>\n",
       "      <td>0.974102</td>\n",
       "      <td>0.974102</td>\n",
       "      <td>0.879575</td>\n",
       "      <td>0.120425</td>\n",
       "      <td>0.879575</td>\n",
       "      <td>0.120425</td>\n",
       "    </tr>\n",
       "    <tr>\n",
       "      <th>3</th>\n",
       "      <td>02</td>\n",
       "      <td>0.600681</td>\n",
       "      <td>0.651469</td>\n",
       "      <td>0.664589</td>\n",
       "      <td>0.599081</td>\n",
       "      <td>0.729571</td>\n",
       "      <td>0.600681</td>\n",
       "      <td>0.608230</td>\n",
       "      <td>0.843515</td>\n",
       "      <td>0.843515</td>\n",
       "      <td>0.664589</td>\n",
       "      <td>0.335411</td>\n",
       "      <td>0.664589</td>\n",
       "      <td>0.335411</td>\n",
       "    </tr>\n",
       "    <tr>\n",
       "      <th>4</th>\n",
       "      <td>03</td>\n",
       "      <td>0.432164</td>\n",
       "      <td>0.505194</td>\n",
       "      <td>0.505019</td>\n",
       "      <td>0.431953</td>\n",
       "      <td>0.571192</td>\n",
       "      <td>0.432164</td>\n",
       "      <td>0.428005</td>\n",
       "      <td>0.689153</td>\n",
       "      <td>0.689153</td>\n",
       "      <td>0.505019</td>\n",
       "      <td>0.494981</td>\n",
       "      <td>0.505019</td>\n",
       "      <td>0.494981</td>\n",
       "    </tr>\n",
       "  </tbody>\n",
       "</table>\n",
       "</div>"
      ],
      "text/plain": [
       "  Dataset  Accuracy  Macro Precision  Macro Recall  Macro F1  \\\n",
       "0     001  0.890573         0.869760      0.910509  0.881710   \n",
       "1     005  0.852818         0.835374      0.879575  0.843527   \n",
       "2      01  0.852818         0.835374      0.879575  0.843527   \n",
       "3      02  0.600681         0.651469      0.664589  0.599081   \n",
       "4      03  0.432164         0.505194      0.505019  0.431953   \n",
       "\n",
       "   Weighted Precision  Weighted Recall  Weighted F1  Macro AUC  Weighted AUC  \\\n",
       "0            0.910136         0.890573     0.893407   0.979995      0.979995   \n",
       "1            0.885346         0.852818     0.857301   0.974102      0.974102   \n",
       "2            0.885346         0.852818     0.857301   0.974102      0.974102   \n",
       "3            0.729571         0.600681     0.608230   0.843515      0.843515   \n",
       "4            0.571192         0.432164     0.428005   0.689153      0.689153   \n",
       "\n",
       "        TPR       FNR       TNR       FPR  \n",
       "0  0.910509  0.089491  0.910509  0.089491  \n",
       "1  0.879575  0.120425  0.879575  0.120425  \n",
       "2  0.879575  0.120425  0.879575  0.120425  \n",
       "3  0.664589  0.335411  0.664589  0.335411  \n",
       "4  0.505019  0.494981  0.505019  0.494981  "
      ]
     },
     "execution_count": 36,
     "metadata": {},
     "output_type": "execute_result"
    }
   ],
   "source": [
    "results_df"
   ]
  },
  {
   "cell_type": "code",
   "execution_count": 37,
   "id": "d28ad3c0-fb1c-4c77-942e-b44738d2b578",
   "metadata": {},
   "outputs": [],
   "source": [
    "results_df.to_csv(\"/home/jovyan/UNSW/BIM.csv\", index=False)"
   ]
  },
  {
   "cell_type": "code",
   "execution_count": null,
   "id": "9c6bf629-c746-457d-b930-d48bd1ee3d85",
   "metadata": {},
   "outputs": [],
   "source": []
  }
 ],
 "metadata": {
  "kernelspec": {
   "display_name": "Python 3 (ipykernel)",
   "language": "python",
   "name": "python3"
  },
  "language_info": {
   "codemirror_mode": {
    "name": "ipython",
    "version": 3
   },
   "file_extension": ".py",
   "mimetype": "text/x-python",
   "name": "python",
   "nbconvert_exporter": "python",
   "pygments_lexer": "ipython3",
   "version": "3.11.5"
  }
 },
 "nbformat": 4,
 "nbformat_minor": 5
}
