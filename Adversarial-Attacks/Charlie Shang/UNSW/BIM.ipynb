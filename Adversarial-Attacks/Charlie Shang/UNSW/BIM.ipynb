{
 "cells": [
  {
   "cell_type": "code",
   "execution_count": 1,
   "id": "0de82456-354b-4095-9e22-ea5f04e19679",
   "metadata": {},
   "outputs": [
    {
     "name": "stderr",
     "output_type": "stream",
     "text": [
      "2024-02-26 21:54:02.462058: I tensorflow/core/util/port.cc:113] oneDNN custom operations are on. You may see slightly different numerical results due to floating-point round-off errors from different computation orders. To turn them off, set the environment variable `TF_ENABLE_ONEDNN_OPTS=0`.\n",
      "2024-02-26 21:54:02.464636: I external/local_tsl/tsl/cuda/cudart_stub.cc:31] Could not find cuda drivers on your machine, GPU will not be used.\n",
      "2024-02-26 21:54:02.493191: E external/local_xla/xla/stream_executor/cuda/cuda_dnn.cc:9261] Unable to register cuDNN factory: Attempting to register factory for plugin cuDNN when one has already been registered\n",
      "2024-02-26 21:54:02.493243: E external/local_xla/xla/stream_executor/cuda/cuda_fft.cc:607] Unable to register cuFFT factory: Attempting to register factory for plugin cuFFT when one has already been registered\n",
      "2024-02-26 21:54:02.494186: E external/local_xla/xla/stream_executor/cuda/cuda_blas.cc:1515] Unable to register cuBLAS factory: Attempting to register factory for plugin cuBLAS when one has already been registered\n",
      "2024-02-26 21:54:02.499388: I external/local_tsl/tsl/cuda/cudart_stub.cc:31] Could not find cuda drivers on your machine, GPU will not be used.\n",
      "2024-02-26 21:54:02.499956: I tensorflow/core/platform/cpu_feature_guard.cc:182] This TensorFlow binary is optimized to use available CPU instructions in performance-critical operations.\n",
      "To enable the following instructions: AVX2 AVX512F AVX512_VNNI AVX512_BF16 AVX_VNNI AMX_TILE AMX_INT8 AMX_BF16 FMA, in other operations, rebuild TensorFlow with the appropriate compiler flags.\n",
      "2024-02-26 21:54:03.283419: W tensorflow/compiler/tf2tensorrt/utils/py_utils.cc:38] TF-TRT Warning: Could not find TensorRT\n",
      "/opt/conda/lib/python3.11/site-packages/tqdm/auto.py:21: TqdmWarning: IProgress not found. Please update jupyter and ipywidgets. See https://ipywidgets.readthedocs.io/en/stable/user_install.html\n",
      "  from .autonotebook import tqdm as notebook_tqdm\n"
     ]
    }
   ],
   "source": [
    "import tensorflow as tf\n",
    "from tensorflow.keras.models import Sequential\n",
    "from tensorflow.keras.layers import Conv2D, MaxPooling2D, Dropout, Flatten, Dense\n",
    "\n",
    "from art.attacks.evasion import BasicIterativeMethod\n",
    "from art.estimators.classification import TensorFlowV2Classifier\n",
    "from art.utils import load_dataset\n",
    "\n",
    "import numpy as np\n",
    "import pandas as pd\n",
    "\n",
    "from sklearn import metrics\n",
    "from warnings import simplefilter\n",
    "\n",
    "import joblib"
   ]
  },
  {
   "cell_type": "code",
   "execution_count": 2,
   "id": "3ce6f39c-e49e-4032-a7e2-678a482c68a4",
   "metadata": {},
   "outputs": [],
   "source": [
    "def calculate_performance_metrics(x_test, y_test, model):\n",
    "\n",
    "    # Predictions\n",
    "    y_pred = model.predict(x_test)\n",
    "    \n",
    "    y_pred_classes = np.argmax(y_pred, axis=1)\n",
    "    \n",
    "    report = metrics.classification_report(y_test, y_pred_classes, output_dict=True, zero_division=1)\n",
    "    \n",
    "    precision_macro = report['macro avg']['precision']\n",
    "    precision_weighted = report['weighted avg']['precision']\n",
    "    accuracy = report['accuracy']\n",
    "    recall_macro = report['macro avg']['recall']\n",
    "    recall_weighted = report['weighted avg']['recall']\n",
    "    f1_macro = report['macro avg']['f1-score']\n",
    "    f1_weighted = report['weighted avg']['f1-score']\n",
    "    auc = metrics.roc_auc_score(y_test.reshape(-1), y_pred_classes, multi_class='ovr')\n",
    "\n",
    "    print(f\"Accuracy: {accuracy}\\nAUC: {auc}\")\n",
    "    \n",
    "    print(\"\\nmacro\")\n",
    "    print(f\"Precision: {precision_macro}\\nRecall: {recall_macro}\\nF1 Score: {f1_macro}\")\n",
    "\n",
    "    print(\"\\nweighted\")\n",
    "    print(f\"Precision: {precision_weighted}\\nRecall: {recall_weighted}\\nF1 Score: {f1_weighted}\")\n",
    "    print()\n",
    "    \n",
    "    # Confusion matrix for FNR, TNR, FPR, TPR\n",
    "    cm = metrics.confusion_matrix(y_test, y_pred_classes)\n",
    "    def calculate_rates(conf_matrix, class_index):\n",
    "        tp = conf_matrix[class_index, class_index]\n",
    "        fn = np.sum(conf_matrix[class_index, :]) - tp\n",
    "        fp = np.sum(conf_matrix[:, class_index]) - tp\n",
    "        tn = np.sum(conf_matrix) - (tp + fn + fp)\n",
    "    \n",
    "        fnr = fn / (fn + tp)\n",
    "        tnr = tn / (tn + fp)\n",
    "        fpr = fp / (fp + tn)\n",
    "        tpr = tp / (tp + fn)\n",
    "        return fnr, tnr, fpr, tpr\n",
    "\n",
    "    # Calculate and aggregate rates\n",
    "    fnrs, tnrs, fprs, tprs = [], [], [], []\n",
    "    for i in range(cm.shape[0]):\n",
    "        fnr, tnr, fpr, tpr = calculate_rates(cm, i)\n",
    "        fnrs.append(fnr)\n",
    "        tnrs.append(tnr)\n",
    "        fprs.append(fpr)\n",
    "        tprs.append(tpr)\n",
    "    \n",
    "    mean_fnr = np.mean(fnrs)\n",
    "    mean_tnr = np.mean(tnrs)\n",
    "    mean_fpr = np.mean(fprs)\n",
    "    mean_tpr = np.mean(tprs)\n",
    "\n",
    "    # Printing the mean metrics\n",
    "    print(f\"Mean FNR: {mean_fnr}\\nMean TNR: {mean_tnr}\\nMean FPR: {mean_fpr}\\nMean TPR: {mean_tpr}\")"
   ]
  },
  {
   "cell_type": "code",
   "execution_count": 3,
   "id": "ac4f4ba5-dceb-4a58-8f94-3a8fcdeb2e85",
   "metadata": {},
   "outputs": [],
   "source": [
    "x_train = pd.read_csv('/home/jovyan/UNSW/preprocessed_data/x_train.csv', low_memory=False)\n",
    "y_train = pd.read_csv('/home/jovyan/UNSW/preprocessed_data/y_train.csv', low_memory=False)\n",
    "x_test = pd.read_csv('/home/jovyan/UNSW/preprocessed_data/x_test.csv', low_memory=False)\n",
    "y_test = pd.read_csv('/home/jovyan/UNSW/preprocessed_data/y_test.csv', low_memory=False)\n",
    "\n",
    "x_train = x_train.to_numpy()\n",
    "y_train = y_train.to_numpy()\n",
    "x_test = x_test.to_numpy()\n",
    "y_test = y_test.to_numpy()"
   ]
  },
  {
   "cell_type": "code",
   "execution_count": 4,
   "id": "8abe00f0-44b2-4263-8679-aee5723dae2b",
   "metadata": {},
   "outputs": [
    {
     "name": "stderr",
     "output_type": "stream",
     "text": [
      "2024-02-26 21:54:08.473480: W tensorflow/core/util/tensor_slice_reader.cc:98] Could not open ram://31e6a5d3fe184308a3075627287fce80: INVALID_ARGUMENT: ram://31e6a5d3fe184308a3075627287fce80 is a directory.\n"
     ]
    }
   ],
   "source": [
    "model = joblib.load(\"/home/jovyan/UNSW/dl/new_dl/dnn.joblib\")"
   ]
  },
  {
   "cell_type": "code",
   "execution_count": 5,
   "id": "ad18f6af-273d-4e46-9bc6-3ac515959d1a",
   "metadata": {},
   "outputs": [],
   "source": [
    "classifier = TensorFlowV2Classifier(\n",
    "    model=model,\n",
    "    nb_classes=2,\n",
    "    input_shape=(56,),\n",
    "    loss_object=tf.keras.losses.SparseCategoricalCrossentropy(),\n",
    ")"
   ]
  },
  {
   "cell_type": "code",
   "execution_count": 6,
   "id": "8fc09ba5-8133-4653-b1cf-f679b2a175c4",
   "metadata": {},
   "outputs": [
    {
     "name": "stderr",
     "output_type": "stream",
     "text": [
      "                                        \r"
     ]
    }
   ],
   "source": [
    "# Initialize the Elastic Net attack\n",
    "attack = BasicIterativeMethod(estimator=classifier, eps=0.01)\n",
    "\n",
    "# Generate adversarial test examples\n",
    "x_test_adv = attack.generate(x=x_test)"
   ]
  },
  {
   "cell_type": "code",
   "execution_count": 7,
   "id": "41b91e79-6ef1-438b-855f-7b7143dd2bd3",
   "metadata": {},
   "outputs": [
    {
     "name": "stdout",
     "output_type": "stream",
     "text": [
      "5480/5480 [==============================] - 3s 591us/step\n",
      "Accuracy: 0.9041182609885879\n",
      "AUC: 0.9135551922342579\n",
      "\n",
      "macro\n",
      "Precision: 0.8828585491637047\n",
      "Recall: 0.913555192234258\n",
      "F1 Score: 0.8943625013609735\n",
      "\n",
      "weighted\n",
      "Precision: 0.9140091981886632\n",
      "Recall: 0.9041182609885879\n",
      "F1 Score: 0.9059593779786471\n",
      "\n",
      "Mean FNR: 0.08644480776574211\n",
      "Mean TNR: 0.913555192234258\n",
      "Mean FPR: 0.08644480776574211\n",
      "Mean TPR: 0.913555192234258\n"
     ]
    }
   ],
   "source": [
    "calculate_performance_metrics(x_test_adv, y_test, model)"
   ]
  },
  {
   "cell_type": "code",
   "execution_count": 8,
   "id": "11f0c310-7824-49fa-88a2-8a01c19ccbf2",
   "metadata": {},
   "outputs": [
    {
     "name": "stderr",
     "output_type": "stream",
     "text": [
      "                                        \r"
     ]
    }
   ],
   "source": [
    "# Initialize the Elastic Net attack\n",
    "attack = BasicIterativeMethod(estimator=classifier, eps=0.05)\n",
    "\n",
    "# Generate adversarial test examples\n",
    "x_test_adv = attack.generate(x=x_test)"
   ]
  },
  {
   "cell_type": "code",
   "execution_count": 9,
   "id": "26ad301d-f7b6-4782-8562-661649d53d45",
   "metadata": {},
   "outputs": [
    {
     "name": "stdout",
     "output_type": "stream",
     "text": [
      "5480/5480 [==============================] - 3s 549us/step\n",
      "Accuracy: 0.8894953262499928\n",
      "AUC: 0.893292422628674\n",
      "\n",
      "macro\n",
      "Precision: 0.8674064006392516\n",
      "Recall: 0.8932924226286739\n",
      "F1 Score: 0.8775625640346358\n",
      "\n",
      "weighted\n",
      "Precision: 0.8977320533065243\n",
      "Recall: 0.8894953262499928\n",
      "F1 Score: 0.8913705088542878\n",
      "\n",
      "Mean FNR: 0.1067075773713261\n",
      "Mean TNR: 0.8932924226286739\n",
      "Mean FPR: 0.1067075773713261\n",
      "Mean TPR: 0.8932924226286739\n"
     ]
    }
   ],
   "source": [
    "calculate_performance_metrics(x_test_adv, y_test, model)"
   ]
  },
  {
   "cell_type": "code",
   "execution_count": 6,
   "id": "f8529b37-bb7a-4c47-861e-403dd68f607b",
   "metadata": {},
   "outputs": [
    {
     "name": "stderr",
     "output_type": "stream",
     "text": [
      "                                        \r"
     ]
    }
   ],
   "source": [
    "# Initialize the Elastic Net attack\n",
    "attack = BasicIterativeMethod(estimator=classifier, eps=0.1)\n",
    "\n",
    "# Generate adversarial test examples\n",
    "x_test_adv = attack.generate(x=x_test)"
   ]
  },
  {
   "cell_type": "code",
   "execution_count": 7,
   "id": "fe077a0a-472e-4d38-9ff0-50b3a15d1013",
   "metadata": {},
   "outputs": [
    {
     "name": "stdout",
     "output_type": "stream",
     "text": [
      "5480/5480 [==============================] - 3s 566us/step\n",
      "Accuracy: 0.8642930061993487\n",
      "AUC: 0.8671960146165788\n",
      "\n",
      "macro\n",
      "Precision: 0.8404221006533991\n",
      "Recall: 0.8671960146165789\n",
      "F1 Score: 0.850350511497591\n",
      "\n",
      "weighted\n",
      "Precision: 0.8750225955888895\n",
      "Recall: 0.8642930061993487\n",
      "F1 Score: 0.8668514748179205\n",
      "\n",
      "Mean FNR: 0.13280398538342109\n",
      "Mean TNR: 0.8671960146165789\n",
      "Mean FPR: 0.13280398538342109\n",
      "Mean TPR: 0.8671960146165789\n"
     ]
    }
   ],
   "source": [
    "calculate_performance_metrics(x_test_adv, y_test, model)"
   ]
  },
  {
   "cell_type": "code",
   "execution_count": 8,
   "id": "146a6208-40d7-4cb1-ab0e-e6e0c9487dc6",
   "metadata": {},
   "outputs": [
    {
     "name": "stderr",
     "output_type": "stream",
     "text": [
      "                                        \r"
     ]
    }
   ],
   "source": [
    "# Initialize the Elastic Net attack\n",
    "attack = BasicIterativeMethod(estimator=classifier, eps=0.15)\n",
    "\n",
    "# Generate adversarial test examples\n",
    "x_test_adv = attack.generate(x=x_test)"
   ]
  },
  {
   "cell_type": "code",
   "execution_count": 9,
   "id": "d7835743-5a99-4e71-acce-b83b2f55d287",
   "metadata": {},
   "outputs": [
    {
     "name": "stdout",
     "output_type": "stream",
     "text": [
      "5480/5480 [==============================] - 3s 558us/step\n",
      "Accuracy: 0.8173330823937356\n",
      "AUC: 0.8270305107842233\n",
      "\n",
      "macro\n",
      "Precision: 0.7941605145632976\n",
      "Recall: 0.8270305107842234\n",
      "F1 Score: 0.8027486662085808\n",
      "\n",
      "weighted\n",
      "Precision: 0.8400069496389738\n",
      "Recall: 0.8173330823937356\n",
      "F1 Score: 0.8221243007902305\n",
      "\n",
      "Mean FNR: 0.17296948921577665\n",
      "Mean TNR: 0.8270305107842234\n",
      "Mean FPR: 0.17296948921577665\n",
      "Mean TPR: 0.8270305107842234\n"
     ]
    }
   ],
   "source": [
    "calculate_performance_metrics(x_test_adv, y_test, model)"
   ]
  },
  {
   "cell_type": "code",
   "execution_count": 10,
   "id": "68fdd781-1713-44a6-82c4-2f6734ad1aa0",
   "metadata": {},
   "outputs": [
    {
     "name": "stderr",
     "output_type": "stream",
     "text": [
      "                                        \r"
     ]
    }
   ],
   "source": [
    "# Initialize the Elastic Net attack\n",
    "attack = BasicIterativeMethod(estimator=classifier, eps=0.2)\n",
    "\n",
    "# Generate adversarial test examples\n",
    "x_test_adv = attack.generate(x=x_test)"
   ]
  },
  {
   "cell_type": "code",
   "execution_count": 11,
   "id": "5d3009ba-01fa-470e-861b-f715cea9b33c",
   "metadata": {},
   "outputs": [
    {
     "name": "stdout",
     "output_type": "stream",
     "text": [
      "5480/5480 [==============================] - 3s 568us/step\n",
      "Accuracy: 0.7409333812399838\n",
      "AUC: 0.7670339465421415\n",
      "\n",
      "macro\n",
      "Precision: 0.7327323968179151\n",
      "Recall: 0.7670339465421416\n",
      "F1 Score: 0.7295875682401609\n",
      "\n",
      "weighted\n",
      "Precision: 0.7939099441360459\n",
      "Recall: 0.7409333812399838\n",
      "F1 Score: 0.7495968994914636\n",
      "\n",
      "Mean FNR: 0.23296605345785848\n",
      "Mean TNR: 0.7670339465421416\n",
      "Mean FPR: 0.23296605345785848\n",
      "Mean TPR: 0.7670339465421416\n"
     ]
    }
   ],
   "source": [
    "calculate_performance_metrics(x_test_adv, y_test, model)"
   ]
  },
  {
   "cell_type": "code",
   "execution_count": 12,
   "id": "3cfa4100-1fe0-4c06-a804-100d691fe1f9",
   "metadata": {},
   "outputs": [
    {
     "name": "stderr",
     "output_type": "stream",
     "text": [
      "                                        \r"
     ]
    }
   ],
   "source": [
    "# Initialize the Elastic Net attack\n",
    "attack = BasicIterativeMethod(estimator=classifier, eps=0.25)\n",
    "\n",
    "# Generate adversarial test examples\n",
    "x_test_adv = attack.generate(x=x_test)"
   ]
  },
  {
   "cell_type": "code",
   "execution_count": 13,
   "id": "0a525874-5aed-4944-b102-2c69820f3003",
   "metadata": {},
   "outputs": [
    {
     "name": "stdout",
     "output_type": "stream",
     "text": [
      "5480/5480 [==============================] - 3s 567us/step\n",
      "Accuracy: 0.6894679510211531\n",
      "AUC: 0.7269326937694744\n",
      "\n",
      "macro\n",
      "Precision: 0.6976919597334514\n",
      "Recall: 0.7269326937694744\n",
      "F1 Score: 0.6814251608500221\n",
      "\n",
      "weighted\n",
      "Precision: 0.766044792149891\n",
      "Recall: 0.6894679510211531\n",
      "F1 Score: 0.6997108167089455\n",
      "\n",
      "Mean FNR: 0.2730673062305255\n",
      "Mean TNR: 0.7269326937694744\n",
      "Mean FPR: 0.2730673062305255\n",
      "Mean TPR: 0.7269326937694744\n"
     ]
    }
   ],
   "source": [
    "calculate_performance_metrics(x_test_adv, y_test, model)"
   ]
  },
  {
   "cell_type": "code",
   "execution_count": 14,
   "id": "7f9fc7b1-ba24-425c-9c6c-bc66ece6fce3",
   "metadata": {},
   "outputs": [
    {
     "name": "stderr",
     "output_type": "stream",
     "text": [
      "                                        \r"
     ]
    }
   ],
   "source": [
    "# Initialize the Elastic Net attack\n",
    "attack = BasicIterativeMethod(estimator=classifier, eps=0.3)\n",
    "\n",
    "# Generate adversarial test examples\n",
    "x_test_adv = attack.generate(x=x_test)"
   ]
  },
  {
   "cell_type": "code",
   "execution_count": 15,
   "id": "7385de0a-394f-4900-92d6-41959ce0f40a",
   "metadata": {},
   "outputs": [
    {
     "name": "stdout",
     "output_type": "stream",
     "text": [
      "5480/5480 [==============================] - 3s 565us/step\n",
      "Accuracy: 0.6444356995796762\n",
      "AUC: 0.6827620025209873\n",
      "\n",
      "macro\n",
      "Precision: 0.6599393496983328\n",
      "Recall: 0.6827620025209873\n",
      "F1 Score: 0.6372703312244625\n",
      "\n",
      "weighted\n",
      "Precision: 0.7298188560077205\n",
      "Recall: 0.6444356995796762\n",
      "F1 Score: 0.6556870491674743\n",
      "\n",
      "Mean FNR: 0.3172379974790127\n",
      "Mean TNR: 0.6827620025209873\n",
      "Mean FPR: 0.3172379974790127\n",
      "Mean TPR: 0.6827620025209873\n"
     ]
    }
   ],
   "source": [
    "calculate_performance_metrics(x_test_adv, y_test, model)"
   ]
  },
  {
   "cell_type": "code",
   "execution_count": null,
   "id": "ec2cebff-c111-4132-9e08-f67633d5b97c",
   "metadata": {},
   "outputs": [],
   "source": []
  }
 ],
 "metadata": {
  "kernelspec": {
   "display_name": "Python 3 (ipykernel)",
   "language": "python",
   "name": "python3"
  },
  "language_info": {
   "codemirror_mode": {
    "name": "ipython",
    "version": 3
   },
   "file_extension": ".py",
   "mimetype": "text/x-python",
   "name": "python",
   "nbconvert_exporter": "python",
   "pygments_lexer": "ipython3",
   "version": "3.11.5"
  }
 },
 "nbformat": 4,
 "nbformat_minor": 5
}
