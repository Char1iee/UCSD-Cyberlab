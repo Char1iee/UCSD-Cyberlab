{
 "cells": [
  {
   "cell_type": "code",
   "execution_count": 1,
   "id": "7f24ad19-3eb0-4249-9bc4-84742b237df4",
   "metadata": {},
   "outputs": [
    {
     "name": "stderr",
     "output_type": "stream",
     "text": [
      "2024-02-26 01:05:23.307809: I tensorflow/core/util/port.cc:113] oneDNN custom operations are on. You may see slightly different numerical results due to floating-point round-off errors from different computation orders. To turn them off, set the environment variable `TF_ENABLE_ONEDNN_OPTS=0`.\n",
      "2024-02-26 01:05:23.311055: I external/local_tsl/tsl/cuda/cudart_stub.cc:31] Could not find cuda drivers on your machine, GPU will not be used.\n",
      "2024-02-26 01:05:23.342736: E external/local_xla/xla/stream_executor/cuda/cuda_dnn.cc:9261] Unable to register cuDNN factory: Attempting to register factory for plugin cuDNN when one has already been registered\n",
      "2024-02-26 01:05:23.342790: E external/local_xla/xla/stream_executor/cuda/cuda_fft.cc:607] Unable to register cuFFT factory: Attempting to register factory for plugin cuFFT when one has already been registered\n",
      "2024-02-26 01:05:23.344422: E external/local_xla/xla/stream_executor/cuda/cuda_blas.cc:1515] Unable to register cuBLAS factory: Attempting to register factory for plugin cuBLAS when one has already been registered\n",
      "2024-02-26 01:05:23.351733: I external/local_tsl/tsl/cuda/cudart_stub.cc:31] Could not find cuda drivers on your machine, GPU will not be used.\n",
      "2024-02-26 01:05:23.353214: I tensorflow/core/platform/cpu_feature_guard.cc:182] This TensorFlow binary is optimized to use available CPU instructions in performance-critical operations.\n",
      "To enable the following instructions: AVX2 AVX512F AVX512_VNNI AVX512_BF16 AVX_VNNI AMX_TILE AMX_INT8 AMX_BF16 FMA, in other operations, rebuild TensorFlow with the appropriate compiler flags.\n",
      "2024-02-26 01:05:24.359803: W tensorflow/compiler/tf2tensorrt/utils/py_utils.cc:38] TF-TRT Warning: Could not find TensorRT\n",
      "/opt/conda/lib/python3.11/site-packages/tqdm/auto.py:21: TqdmWarning: IProgress not found. Please update jupyter and ipywidgets. See https://ipywidgets.readthedocs.io/en/stable/user_install.html\n",
      "  from .autonotebook import tqdm as notebook_tqdm\n"
     ]
    }
   ],
   "source": [
    "import tensorflow as tf\n",
    "from tensorflow.keras.models import Sequential\n",
    "from tensorflow.keras.layers import Conv2D, MaxPooling2D, Dropout, Flatten, Dense\n",
    "from tensorflow.keras.losses import SparseCategoricalCrossentropy\n",
    "\n",
    "from art.attacks.evasion import SaliencyMapMethod\n",
    "from art.estimators.classification import TensorFlowV2Classifier\n",
    "from art.utils import load_dataset\n",
    "\n",
    "import numpy as np\n",
    "\n",
    "from sklearn import metrics\n",
    "\n",
    "import joblib"
   ]
  },
  {
   "cell_type": "code",
   "execution_count": 2,
   "id": "6941a06e-0370-47a9-b213-88396719cf31",
   "metadata": {},
   "outputs": [],
   "source": [
    "def calculate_performance_metrics(x_test, y_test, model):\n",
    "\n",
    "    # Predictions\n",
    "    y_pred = model.predict(x_test)\n",
    "    y_pred_classes = np.argmax(y_pred, axis=1)\n",
    "    \n",
    "    report = metrics.classification_report(y_test, y_pred_classes, output_dict=True, zero_division=1)\n",
    "    \n",
    "    precision_macro = report['macro avg']['precision']\n",
    "    precision_weighted = report['weighted avg']['precision']\n",
    "    accuracy = report['accuracy']\n",
    "    recall_macro = report['macro avg']['recall']\n",
    "    recall_weighted = report['weighted avg']['recall']\n",
    "    f1_macro = report['macro avg']['f1-score']\n",
    "    f1_weighted = report['weighted avg']['f1-score']\n",
    "    auc = metrics.roc_auc_score(y_test, y_pred, multi_class='ovr')\n",
    "\n",
    "    print(f\"Accuracy: {accuracy}\\nAUC: {auc}\")\n",
    "    \n",
    "    print(\"\\nmacro\")\n",
    "    print(f\"Precision: {precision_macro}\\nRecall: {recall_macro}\\nF1 Score: {f1_macro}\")\n",
    "\n",
    "    print(\"\\nweighted\")\n",
    "    print(f\"Precision: {precision_weighted}\\nRecall: {recall_weighted}\\nF1 Score: {f1_weighted}\")\n",
    "    print()\n",
    "    \n",
    "    # Confusion matrix for FNR, TNR, FPR, TPR\n",
    "    cm = metrics.confusion_matrix(y_test, y_pred_classes)\n",
    "    def calculate_rates(conf_matrix, class_index):\n",
    "        tp = conf_matrix[class_index, class_index]\n",
    "        fn = np.sum(conf_matrix[class_index, :]) - tp\n",
    "        fp = np.sum(conf_matrix[:, class_index]) - tp\n",
    "        tn = np.sum(conf_matrix) - (tp + fn + fp)\n",
    "    \n",
    "        fnr = fn / (fn + tp)\n",
    "        tnr = tn / (tn + fp)\n",
    "        fpr = fp / (fp + tn)\n",
    "        tpr = tp / (tp + fn)\n",
    "        return fnr, tnr, fpr, tpr\n",
    "\n",
    "    # Calculate and aggregate rates\n",
    "    fnrs, tnrs, fprs, tprs = [], [], [], []\n",
    "    for i in range(cm.shape[0]):\n",
    "        fnr, tnr, fpr, tpr = calculate_rates(cm, i)\n",
    "        fnrs.append(fnr)\n",
    "        tnrs.append(tnr)\n",
    "        fprs.append(fpr)\n",
    "        tprs.append(tpr)\n",
    "    \n",
    "    mean_fnr = np.mean(fnrs)\n",
    "    mean_tnr = np.mean(tnrs)\n",
    "    mean_fpr = np.mean(fprs)\n",
    "    mean_tpr = np.mean(tprs)\n",
    "\n",
    "    # Printing the mean metrics\n",
    "    print(f\"Mean FNR: {mean_fnr}\\nMean TNR: {mean_tnr}\\nMean FPR: {mean_fpr}\\nMean TPR: {mean_tpr}\")"
   ]
  },
  {
   "cell_type": "code",
   "execution_count": 3,
   "id": "805f16f5-4d82-4e1c-802b-fd9b514f75d4",
   "metadata": {},
   "outputs": [],
   "source": [
    "x_test = np.load(\"/home/jovyan/X-IIoT/X-IIoT_preprocessed/x_test.npy\")\n",
    "x_train = np.load(\"/home/jovyan/X-IIoT/X-IIoT_preprocessed/x_train.npy\")\n",
    "x_val = np.load(\"/home/jovyan/X-IIoT/X-IIoT_preprocessed/x_val.npy\")\n",
    "y_test = np.load(\"/home/jovyan/X-IIoT/X-IIoT_preprocessed/y_test.npy\")\n",
    "y_train = np.load(\"/home/jovyan/X-IIoT/X-IIoT_preprocessed/y_train.npy\")\n",
    "y_val = np.load(\"/home/jovyan/X-IIoT/X-IIoT_preprocessed/y_val.npy\")"
   ]
  },
  {
   "cell_type": "code",
   "execution_count": 4,
   "id": "d75bd472-bef6-471a-aa9b-d869774b409a",
   "metadata": {},
   "outputs": [
    {
     "name": "stderr",
     "output_type": "stream",
     "text": [
      "2024-02-26 01:06:55.723222: W tensorflow/core/util/tensor_slice_reader.cc:98] Could not open ram://2a0416f1d08d4cca9886602842710f82: INVALID_ARGUMENT: ram://2a0416f1d08d4cca9886602842710f82 is a directory.\n"
     ]
    }
   ],
   "source": [
    "model = joblib.load(\"/home/jovyan/X-IIoT/dl/dl_new/model/dnn.joblib\")"
   ]
  },
  {
   "cell_type": "code",
   "execution_count": 5,
   "id": "eb1a92d7-8427-479e-a18e-98cd4cc3b93d",
   "metadata": {},
   "outputs": [],
   "source": [
    "x_test_trimmed = x_test[20000:24000]\n",
    "y_test_trimmed = y_test[20000:24000]"
   ]
  },
  {
   "cell_type": "code",
   "execution_count": 6,
   "id": "596d5454-4971-4f0e-8a37-d0fd458aa267",
   "metadata": {},
   "outputs": [
    {
     "data": {
      "text/plain": [
       "array([ 0,  1,  2,  3,  4,  5,  6,  7,  8,  9, 10, 11, 12, 13, 14, 15, 16,\n",
       "       17, 18])"
      ]
     },
     "execution_count": 6,
     "metadata": {},
     "output_type": "execute_result"
    }
   ],
   "source": [
    "np.unique(y_test_trimmed)"
   ]
  },
  {
   "cell_type": "code",
   "execution_count": 7,
   "id": "3c2e8a30-f105-4844-8d53-014b5d99fb14",
   "metadata": {},
   "outputs": [],
   "source": [
    "classifier = TensorFlowV2Classifier(\n",
    "    model=model,\n",
    "    nb_classes=19,\n",
    "    input_shape=(58,),\n",
    "    loss_object=tf.keras.losses.SparseCategoricalCrossentropy(),\n",
    ")"
   ]
  },
  {
   "cell_type": "code",
   "execution_count": 22,
   "id": "b579c52d-91a6-44a4-8880-3f9f0bf916d0",
   "metadata": {},
   "outputs": [
    {
     "name": "stderr",
     "output_type": "stream",
     "text": [
      "/tmp/ipykernel_277/3492240313.py:5: DeprecationWarning: `product` is deprecated as of NumPy 1.25.0, and will be removed in NumPy 2.0. Please use `prod` instead.\n",
      "  x_test_adv = attack.generate(x=x_test_trimmed)\n",
      "JSMA: 100%|██████████| 4000/4000 [10:36<00:00,  6.29it/s]\n"
     ]
    }
   ],
   "source": [
    "# Initialize the JSMA attack\n",
    "attack = SaliencyMapMethod(classifier=classifier, theta=0.01, gamma = 0.1)\n",
    "\n",
    "# Generate adversarial examples\n",
    "x_test_adv = attack.generate(x=x_test_trimmed)"
   ]
  },
  {
   "cell_type": "code",
   "execution_count": 9,
   "id": "6db298d3-a013-43f8-8f2c-846bc39556c2",
   "metadata": {},
   "outputs": [
    {
     "name": "stdout",
     "output_type": "stream",
     "text": [
      "125/125 [==============================] - 0s 828us/step\n",
      "Accuracy: 0.699\n",
      "AUC: 0.9769664644631458\n",
      "\n",
      "macro\n",
      "Precision: 0.4355494350500188\n",
      "Recall: 0.3827848686120252\n",
      "F1 Score: 0.3399781437475444\n",
      "\n",
      "weighted\n",
      "Precision: 0.7989048305639614\n",
      "Recall: 0.699\n",
      "F1 Score: 0.7245349044966327\n",
      "\n",
      "Mean FNR: 0.6172151313879747\n",
      "Mean TNR: 0.9782429851469919\n",
      "Mean FPR: 0.021757014853008246\n",
      "Mean TPR: 0.3827848686120252\n"
     ]
    }
   ],
   "source": [
    "calculate_performance_metrics(x_test_adv, y_test_trimmed, model)"
   ]
  },
  {
   "cell_type": "code",
   "execution_count": 10,
   "id": "49ba615b-a4dc-4e7a-b3a0-3063203329fd",
   "metadata": {},
   "outputs": [
    {
     "name": "stderr",
     "output_type": "stream",
     "text": [
      "/tmp/ipykernel_277/75040551.py:5: DeprecationWarning: `product` is deprecated as of NumPy 1.25.0, and will be removed in NumPy 2.0. Please use `prod` instead.\n",
      "  x_test_adv = attack.generate(x=x_test_trimmed)\n",
      "JSMA: 100%|██████████| 4000/4000 [03:00<00:00, 22.20it/s]\n"
     ]
    }
   ],
   "source": [
    "# Initialize the JSMA attack\n",
    "attack = SaliencyMapMethod(classifier=classifier, theta=0.05, gamma = 0.1)\n",
    "\n",
    "# Generate adversarial examples\n",
    "x_test_adv = attack.generate(x=x_test_trimmed)"
   ]
  },
  {
   "cell_type": "code",
   "execution_count": 11,
   "id": "23f59dc0-46cc-4a2c-a82b-e954efcbdef0",
   "metadata": {},
   "outputs": [
    {
     "name": "stdout",
     "output_type": "stream",
     "text": [
      "125/125 [==============================] - 0s 696us/step\n",
      "Accuracy: 0.745\n",
      "AUC: 0.9699711190490176\n",
      "\n",
      "macro\n",
      "Precision: 0.5753778536023106\n",
      "Recall: 0.38713430073791094\n",
      "F1 Score: 0.36077922369625326\n",
      "\n",
      "weighted\n",
      "Precision: 0.7867097898671599\n",
      "Recall: 0.745\n",
      "F1 Score: 0.7489278714056823\n",
      "\n",
      "Mean FNR: 0.612865699262089\n",
      "Mean TNR: 0.9807811222605558\n",
      "Mean FPR: 0.019218877739444244\n",
      "Mean TPR: 0.38713430073791094\n"
     ]
    }
   ],
   "source": [
    "calculate_performance_metrics(x_test_adv, y_test_trimmed, model)"
   ]
  },
  {
   "cell_type": "code",
   "execution_count": 12,
   "id": "c5c13dfa-eb49-41ea-bbb9-cd7e83183ff7",
   "metadata": {},
   "outputs": [
    {
     "name": "stderr",
     "output_type": "stream",
     "text": [
      "/tmp/ipykernel_277/547066443.py:5: DeprecationWarning: `product` is deprecated as of NumPy 1.25.0, and will be removed in NumPy 2.0. Please use `prod` instead.\n",
      "  x_test_adv = attack.generate(x=x_test_trimmed)\n",
      "JSMA: 100%|██████████| 4000/4000 [02:13<00:00, 30.02it/s]\n"
     ]
    }
   ],
   "source": [
    "# Initialize the JSMA attack\n",
    "attack = SaliencyMapMethod(classifier=classifier, theta=0.1, gamma = 0.1)\n",
    "\n",
    "# Generate adversarial examples\n",
    "x_test_adv = attack.generate(x=x_test_trimmed)"
   ]
  },
  {
   "cell_type": "code",
   "execution_count": 13,
   "id": "90474f6f-856f-4228-8ecd-e0fd139f0464",
   "metadata": {},
   "outputs": [
    {
     "name": "stdout",
     "output_type": "stream",
     "text": [
      "125/125 [==============================] - 0s 734us/step\n",
      "Accuracy: 0.52425\n",
      "AUC: 0.9164696861977167\n",
      "\n",
      "macro\n",
      "Precision: 0.4200629001906489\n",
      "Recall: 0.3513270214942508\n",
      "F1 Score: 0.26594619618766085\n",
      "\n",
      "weighted\n",
      "Precision: 0.6878442673694228\n",
      "Recall: 0.52425\n",
      "F1 Score: 0.5736573455228817\n",
      "\n",
      "Mean FNR: 0.6486729785057491\n",
      "Mean TNR: 0.9663986280353588\n",
      "Mean FPR: 0.03360137196464117\n",
      "Mean TPR: 0.3513270214942508\n"
     ]
    }
   ],
   "source": [
    "calculate_performance_metrics(x_test_adv, y_test_trimmed, model)"
   ]
  },
  {
   "cell_type": "code",
   "execution_count": 14,
   "id": "ca97b618-f5f5-4019-8f01-c7106d184877",
   "metadata": {},
   "outputs": [
    {
     "name": "stderr",
     "output_type": "stream",
     "text": [
      "/tmp/ipykernel_277/971322502.py:5: DeprecationWarning: `product` is deprecated as of NumPy 1.25.0, and will be removed in NumPy 2.0. Please use `prod` instead.\n",
      "  x_test_adv = attack.generate(x=x_test_trimmed)\n",
      "JSMA: 100%|██████████| 4000/4000 [01:59<00:00, 33.40it/s]\n"
     ]
    }
   ],
   "source": [
    "# Initialize the JSMA attack\n",
    "attack = SaliencyMapMethod(classifier=classifier, theta=0.15, gamma = 0.1)\n",
    "\n",
    "# Generate adversarial examples\n",
    "x_test_adv = attack.generate(x=x_test_trimmed)"
   ]
  },
  {
   "cell_type": "code",
   "execution_count": 15,
   "id": "3fe73e48-6e14-4cbc-b23b-aff11933fc39",
   "metadata": {},
   "outputs": [
    {
     "name": "stdout",
     "output_type": "stream",
     "text": [
      "125/125 [==============================] - 0s 733us/step\n",
      "Accuracy: 0.524\n",
      "AUC: 0.896323121566107\n",
      "\n",
      "macro\n",
      "Precision: 0.411286220434215\n",
      "Recall: 0.2863218047372434\n",
      "F1 Score: 0.2445281095646043\n",
      "\n",
      "weighted\n",
      "Precision: 0.6730857064276071\n",
      "Recall: 0.524\n",
      "F1 Score: 0.571539333697314\n",
      "\n",
      "Mean FNR: 0.7136781952627566\n",
      "Mean TNR: 0.9665186787293975\n",
      "Mean FPR: 0.033481321270602625\n",
      "Mean TPR: 0.2863218047372434\n"
     ]
    }
   ],
   "source": [
    "calculate_performance_metrics(x_test_adv, y_test_trimmed, model)"
   ]
  },
  {
   "cell_type": "code",
   "execution_count": 16,
   "id": "7c4d2d69-0a5c-42e0-8c43-5821b353bbe1",
   "metadata": {},
   "outputs": [
    {
     "name": "stderr",
     "output_type": "stream",
     "text": [
      "/tmp/ipykernel_277/1386664024.py:5: DeprecationWarning: `product` is deprecated as of NumPy 1.25.0, and will be removed in NumPy 2.0. Please use `prod` instead.\n",
      "  x_test_adv = attack.generate(x=x_test_trimmed)\n",
      "JSMA: 100%|██████████| 4000/4000 [01:52<00:00, 35.69it/s]\n"
     ]
    }
   ],
   "source": [
    "# Initialize the JSMA attack\n",
    "attack = SaliencyMapMethod(classifier=classifier, theta=0.2, gamma = 0.1)\n",
    "\n",
    "# Generate adversarial examples\n",
    "x_test_adv = attack.generate(x=x_test_trimmed)"
   ]
  },
  {
   "cell_type": "code",
   "execution_count": 17,
   "id": "f101b049-8eb1-4f87-a445-fe498cc8aa24",
   "metadata": {},
   "outputs": [
    {
     "name": "stdout",
     "output_type": "stream",
     "text": [
      "125/125 [==============================] - 0s 770us/step\n",
      "Accuracy: 0.548\n",
      "AUC: 0.8693032838371115\n",
      "\n",
      "macro\n",
      "Precision: 0.2421162549254335\n",
      "Recall: 0.2819109740012041\n",
      "F1 Score: 0.2014043419666922\n",
      "\n",
      "weighted\n",
      "Precision: 0.6338276145429536\n",
      "Recall: 0.548\n",
      "F1 Score: 0.5657287886113289\n",
      "\n",
      "Mean FNR: 0.718089025998796\n",
      "Mean TNR: 0.9659624619162119\n",
      "Mean FPR: 0.034037538083788156\n",
      "Mean TPR: 0.2819109740012041\n"
     ]
    }
   ],
   "source": [
    "calculate_performance_metrics(x_test_adv, y_test_trimmed, model)"
   ]
  },
  {
   "cell_type": "code",
   "execution_count": 18,
   "id": "7bb8971e-3e42-4998-a8e9-4f3ce0995adf",
   "metadata": {},
   "outputs": [
    {
     "name": "stderr",
     "output_type": "stream",
     "text": [
      "/tmp/ipykernel_277/398718751.py:5: DeprecationWarning: `product` is deprecated as of NumPy 1.25.0, and will be removed in NumPy 2.0. Please use `prod` instead.\n",
      "  x_test_adv = attack.generate(x=x_test_trimmed)\n",
      "JSMA: 100%|██████████| 4000/4000 [01:42<00:00, 39.19it/s]\n"
     ]
    }
   ],
   "source": [
    "# Initialize the JSMA attack\n",
    "attack = SaliencyMapMethod(classifier=classifier, theta=0.25, gamma = 0.1)\n",
    "\n",
    "# Generate adversarial examples\n",
    "x_test_adv = attack.generate(x=x_test_trimmed)"
   ]
  },
  {
   "cell_type": "code",
   "execution_count": 19,
   "id": "05f09f17-f76a-440c-80ca-b60cb81f4bf6",
   "metadata": {},
   "outputs": [
    {
     "name": "stdout",
     "output_type": "stream",
     "text": [
      "125/125 [==============================] - 0s 650us/step\n",
      "Accuracy: 0.4995\n",
      "AUC: 0.8497330197943184\n",
      "\n",
      "macro\n",
      "Precision: 0.2526717638899624\n",
      "Recall: 0.18457364858410208\n",
      "F1 Score: 0.1636539537482599\n",
      "\n",
      "weighted\n",
      "Precision: 0.5576842990393567\n",
      "Recall: 0.49949999999999994\n",
      "F1 Score: 0.515654790427835\n",
      "\n",
      "Mean FNR: 0.8154263514158979\n",
      "Mean TNR: 0.9603261250835569\n",
      "Mean FPR: 0.039673874916443086\n",
      "Mean TPR: 0.18457364858410208\n"
     ]
    }
   ],
   "source": [
    "calculate_performance_metrics(x_test_adv, y_test_trimmed, model)"
   ]
  },
  {
   "cell_type": "code",
   "execution_count": 20,
   "id": "ad0d9583-4a1f-4a65-a2f8-725c51bdae8e",
   "metadata": {},
   "outputs": [
    {
     "name": "stderr",
     "output_type": "stream",
     "text": [
      "/tmp/ipykernel_277/2298617831.py:5: DeprecationWarning: `product` is deprecated as of NumPy 1.25.0, and will be removed in NumPy 2.0. Please use `prod` instead.\n",
      "  x_test_adv = attack.generate(x=x_test_trimmed)\n",
      "JSMA: 100%|██████████| 4000/4000 [01:33<00:00, 42.94it/s]\n"
     ]
    }
   ],
   "source": [
    "# Initialize the JSMA attack\n",
    "attack = SaliencyMapMethod(classifier=classifier, theta=0.3, gamma = 0.1)\n",
    "\n",
    "# Generate adversarial examples\n",
    "x_test_adv = attack.generate(x=x_test_trimmed)"
   ]
  },
  {
   "cell_type": "code",
   "execution_count": 21,
   "id": "9e253aaa-225d-40fd-8886-72dff72f5b61",
   "metadata": {},
   "outputs": [
    {
     "name": "stdout",
     "output_type": "stream",
     "text": [
      "125/125 [==============================] - 0s 702us/step\n",
      "Accuracy: 0.3995\n",
      "AUC: 0.7924743534656578\n",
      "\n",
      "macro\n",
      "Precision: 0.31500132887518073\n",
      "Recall: 0.12223783467646311\n",
      "F1 Score: 0.12412778727542857\n",
      "\n",
      "weighted\n",
      "Precision: 0.4824327416581432\n",
      "Recall: 0.3995000000000001\n",
      "F1 Score: 0.41847308695521507\n",
      "\n",
      "Mean FNR: 0.8777621653235369\n",
      "Mean TNR: 0.9498722234586282\n",
      "Mean FPR: 0.0501277765413717\n",
      "Mean TPR: 0.12223783467646311\n"
     ]
    }
   ],
   "source": [
    "calculate_performance_metrics(x_test_adv, y_test_trimmed, model)"
   ]
  },
  {
   "cell_type": "code",
   "execution_count": null,
   "id": "05868421-03b6-4363-897a-f616e73beab2",
   "metadata": {},
   "outputs": [],
   "source": []
  }
 ],
 "metadata": {
  "kernelspec": {
   "display_name": "Python 3 (ipykernel)",
   "language": "python",
   "name": "python3"
  },
  "language_info": {
   "codemirror_mode": {
    "name": "ipython",
    "version": 3
   },
   "file_extension": ".py",
   "mimetype": "text/x-python",
   "name": "python",
   "nbconvert_exporter": "python",
   "pygments_lexer": "ipython3",
   "version": "3.11.5"
  }
 },
 "nbformat": 4,
 "nbformat_minor": 5
}
