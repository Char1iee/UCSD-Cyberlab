{
 "cells": [
  {
   "cell_type": "code",
   "execution_count": 2,
   "id": "c074e7bf-66b3-4603-9a73-571a3f128996",
   "metadata": {},
   "outputs": [
    {
     "name": "stderr",
     "output_type": "stream",
     "text": [
      "2024-02-26 01:08:18.185665: I tensorflow/core/util/port.cc:113] oneDNN custom operations are on. You may see slightly different numerical results due to floating-point round-off errors from different computation orders. To turn them off, set the environment variable `TF_ENABLE_ONEDNN_OPTS=0`.\n",
      "2024-02-26 01:08:18.188237: I external/local_tsl/tsl/cuda/cudart_stub.cc:31] Could not find cuda drivers on your machine, GPU will not be used.\n",
      "2024-02-26 01:08:18.216623: E external/local_xla/xla/stream_executor/cuda/cuda_dnn.cc:9261] Unable to register cuDNN factory: Attempting to register factory for plugin cuDNN when one has already been registered\n",
      "2024-02-26 01:08:18.216671: E external/local_xla/xla/stream_executor/cuda/cuda_fft.cc:607] Unable to register cuFFT factory: Attempting to register factory for plugin cuFFT when one has already been registered\n",
      "2024-02-26 01:08:18.217583: E external/local_xla/xla/stream_executor/cuda/cuda_blas.cc:1515] Unable to register cuBLAS factory: Attempting to register factory for plugin cuBLAS when one has already been registered\n",
      "2024-02-26 01:08:18.222706: I external/local_tsl/tsl/cuda/cudart_stub.cc:31] Could not find cuda drivers on your machine, GPU will not be used.\n",
      "2024-02-26 01:08:18.223799: I tensorflow/core/platform/cpu_feature_guard.cc:182] This TensorFlow binary is optimized to use available CPU instructions in performance-critical operations.\n",
      "To enable the following instructions: AVX2 AVX512F AVX512_VNNI AVX512_BF16 AVX_VNNI AMX_TILE AMX_INT8 AMX_BF16 FMA, in other operations, rebuild TensorFlow with the appropriate compiler flags.\n",
      "2024-02-26 01:08:18.975198: W tensorflow/compiler/tf2tensorrt/utils/py_utils.cc:38] TF-TRT Warning: Could not find TensorRT\n",
      "/opt/conda/lib/python3.11/site-packages/tqdm/auto.py:21: TqdmWarning: IProgress not found. Please update jupyter and ipywidgets. See https://ipywidgets.readthedocs.io/en/stable/user_install.html\n",
      "  from .autonotebook import tqdm as notebook_tqdm\n"
     ]
    }
   ],
   "source": [
    "import tensorflow as tf\n",
    "from tensorflow.keras.models import Sequential\n",
    "from tensorflow.keras.layers import Conv2D, MaxPooling2D, Dropout, Flatten, Dense\n",
    "\n",
    "from art.attacks.evasion import FastGradientMethod\n",
    "from art.estimators.classification import TensorFlowV2Classifier\n",
    "from art.utils import load_dataset\n",
    "\n",
    "import numpy as np\n",
    "\n",
    "from sklearn import metrics\n",
    "\n",
    "import joblib"
   ]
  },
  {
   "cell_type": "code",
   "execution_count": 3,
   "id": "88abda9a-d288-401c-adb9-438c602ca769",
   "metadata": {},
   "outputs": [],
   "source": [
    "def calculate_performance_metrics(x_test, y_test, model):\n",
    "\n",
    "    # Predictions\n",
    "    y_pred = model.predict(x_test)\n",
    "    y_pred_classes = np.argmax(y_pred, axis=1)\n",
    "    \n",
    "    report = metrics.classification_report(y_test, y_pred_classes, output_dict=True, zero_division=1)\n",
    "    \n",
    "    precision_macro = report['macro avg']['precision']\n",
    "    precision_weighted = report['weighted avg']['precision']\n",
    "    accuracy = report['accuracy']\n",
    "    recall_macro = report['macro avg']['recall']\n",
    "    recall_weighted = report['weighted avg']['recall']\n",
    "    f1_macro = report['macro avg']['f1-score']\n",
    "    f1_weighted = report['weighted avg']['f1-score']\n",
    "    auc = metrics.roc_auc_score(y_test, y_pred, multi_class='ovr')\n",
    "\n",
    "    print(f\"Accuracy: {accuracy}\\nAUC: {auc}\")\n",
    "    \n",
    "    print(\"\\nmacro\")\n",
    "    print(f\"Precision: {precision_macro}\\nRecall: {recall_macro}\\nF1 Score: {f1_macro}\")\n",
    "\n",
    "    print(\"\\nweighted\")\n",
    "    print(f\"Precision: {precision_weighted}\\nRecall: {recall_weighted}\\nF1 Score: {f1_weighted}\")\n",
    "    print()\n",
    "    \n",
    "    # Confusion matrix for FNR, TNR, FPR, TPR\n",
    "    cm = metrics.confusion_matrix(y_test, y_pred_classes)\n",
    "    def calculate_rates(conf_matrix, class_index):\n",
    "        tp = conf_matrix[class_index, class_index]\n",
    "        fn = np.sum(conf_matrix[class_index, :]) - tp\n",
    "        fp = np.sum(conf_matrix[:, class_index]) - tp\n",
    "        tn = np.sum(conf_matrix) - (tp + fn + fp)\n",
    "    \n",
    "        fnr = fn / (fn + tp)\n",
    "        tnr = tn / (tn + fp)\n",
    "        fpr = fp / (fp + tn)\n",
    "        tpr = tp / (tp + fn)\n",
    "        return fnr, tnr, fpr, tpr\n",
    "\n",
    "    # Calculate and aggregate rates\n",
    "    fnrs, tnrs, fprs, tprs = [], [], [], []\n",
    "    for i in range(cm.shape[0]):\n",
    "        fnr, tnr, fpr, tpr = calculate_rates(cm, i)\n",
    "        fnrs.append(fnr)\n",
    "        tnrs.append(tnr)\n",
    "        fprs.append(fpr)\n",
    "        tprs.append(tpr)\n",
    "    \n",
    "    mean_fnr = np.mean(fnrs)\n",
    "    mean_tnr = np.mean(tnrs)\n",
    "    mean_fpr = np.mean(fprs)\n",
    "    mean_tpr = np.mean(tprs)\n",
    "\n",
    "    # Printing the mean metrics\n",
    "    print(f\"Mean FNR: {mean_fnr}\\nMean TNR: {mean_tnr}\\nMean FPR: {mean_fpr}\\nMean TPR: {mean_tpr}\")"
   ]
  },
  {
   "cell_type": "code",
   "execution_count": 4,
   "id": "75818739-8004-4cc5-b71a-89a23714c710",
   "metadata": {},
   "outputs": [],
   "source": [
    "x_test = np.load(\"/home/jovyan/X-IIoT/X-IIoT_preprocessed/x_test.npy\")\n",
    "x_train = np.load(\"/home/jovyan/X-IIoT/X-IIoT_preprocessed/x_train.npy\")\n",
    "x_val = np.load(\"/home/jovyan/X-IIoT/X-IIoT_preprocessed/x_val.npy\")\n",
    "y_test = np.load(\"/home/jovyan/X-IIoT/X-IIoT_preprocessed/y_test.npy\")\n",
    "y_train = np.load(\"/home/jovyan/X-IIoT/X-IIoT_preprocessed/y_train.npy\")\n",
    "y_val = np.load(\"/home/jovyan/X-IIoT/X-IIoT_preprocessed/y_val.npy\")"
   ]
  },
  {
   "cell_type": "code",
   "execution_count": 5,
   "id": "ade3e6c4-ede1-4aa3-8811-7ec987ede255",
   "metadata": {},
   "outputs": [
    {
     "name": "stderr",
     "output_type": "stream",
     "text": [
      "2024-02-26 01:08:22.402803: W tensorflow/core/util/tensor_slice_reader.cc:98] Could not open ram://adec3952bac74758b3d2fa329f3012f8: INVALID_ARGUMENT: ram://adec3952bac74758b3d2fa329f3012f8 is a directory.\n"
     ]
    }
   ],
   "source": [
    "model = joblib.load(\"/home/jovyan/X-IIoT/dl/dl_new/model/dnn.joblib\")"
   ]
  },
  {
   "cell_type": "code",
   "execution_count": 6,
   "id": "4395cb1c-f65e-48bd-b1e4-a472620a7543",
   "metadata": {},
   "outputs": [],
   "source": [
    "classifier = TensorFlowV2Classifier(\n",
    "    model=model,\n",
    "    nb_classes=19,\n",
    "    input_shape=(58,),\n",
    "    loss_object=tf.keras.losses.SparseCategoricalCrossentropy(),\n",
    ")"
   ]
  },
  {
   "cell_type": "code",
   "execution_count": 7,
   "id": "842a4526-d6cc-47fe-bc61-8618d9eb1500",
   "metadata": {},
   "outputs": [],
   "source": [
    "attack = FastGradientMethod(estimator=classifier, eps=0.01)\n",
    "\n",
    "x_test_adv = attack.generate(x=x_test)  # x_test is your MNIST test images"
   ]
  },
  {
   "cell_type": "code",
   "execution_count": 8,
   "id": "37576a5c-0802-479b-aeb0-853a1598e8c7",
   "metadata": {},
   "outputs": [
    {
     "name": "stdout",
     "output_type": "stream",
     "text": [
      "4383/4383 [==============================] - 3s 578us/step\n",
      "Accuracy: 0.9314412037367182\n",
      "AUC: 0.9957207294148642\n",
      "\n",
      "macro\n",
      "Precision: 0.8387937084154355\n",
      "Recall: 0.7174022815363879\n",
      "F1 Score: 0.7433135682648767\n",
      "\n",
      "weighted\n",
      "Precision: 0.9434803058559201\n",
      "Recall: 0.9314412037367182\n",
      "F1 Score: 0.9315831201536421\n",
      "\n",
      "Mean FNR: 0.28259771846361226\n",
      "Mean TNR: 0.9948226535788895\n",
      "Mean FPR: 0.0051773464211104635\n",
      "Mean TPR: 0.7174022815363879\n"
     ]
    }
   ],
   "source": [
    "calculate_performance_metrics(x_test_adv, y_test, model)"
   ]
  },
  {
   "cell_type": "code",
   "execution_count": 9,
   "id": "774beb04-71a1-4dc0-b0a5-cc002f76040b",
   "metadata": {},
   "outputs": [],
   "source": [
    "attack = FastGradientMethod(estimator=classifier, eps=0.05)\n",
    "\n",
    "x_test_adv = attack.generate(x=x_test)  # x_test is your MNIST test images"
   ]
  },
  {
   "cell_type": "code",
   "execution_count": 10,
   "id": "326c1230-1a65-46cc-8e21-de52e411b5df",
   "metadata": {},
   "outputs": [
    {
     "name": "stdout",
     "output_type": "stream",
     "text": [
      "4383/4383 [==============================] - 3s 598us/step\n",
      "Accuracy: 0.6271696498609427\n",
      "AUC: 0.943599114051786\n",
      "\n",
      "macro\n",
      "Precision: 0.4110921179647813\n",
      "Recall: 0.3334809939575236\n",
      "F1 Score: 0.33029031048270224\n",
      "\n",
      "weighted\n",
      "Precision: 0.7442797695863355\n",
      "Recall: 0.6271696498609427\n",
      "F1 Score: 0.6565589169653229\n",
      "\n",
      "Mean FNR: 0.6665190060424763\n",
      "Mean TNR: 0.9732789075476335\n",
      "Mean FPR: 0.026721092452366604\n",
      "Mean TPR: 0.3334809939575236\n"
     ]
    }
   ],
   "source": [
    "calculate_performance_metrics(x_test_adv, y_test, model)"
   ]
  },
  {
   "cell_type": "code",
   "execution_count": 6,
   "id": "5b95584d-5876-41d8-9e8d-759299ba6f44",
   "metadata": {},
   "outputs": [],
   "source": [
    "attack = FastGradientMethod(estimator=classifier, eps=0.1)\n",
    "\n",
    "x_test_adv = attack.generate(x=x_test)  # x_test is your MNIST test images"
   ]
  },
  {
   "cell_type": "code",
   "execution_count": 7,
   "id": "5f1bf0b7-4afa-44d6-b701-5147a6cd6514",
   "metadata": {},
   "outputs": [
    {
     "name": "stdout",
     "output_type": "stream",
     "text": [
      "4383/4383 [==============================] - 3s 596us/step\n",
      "Accuracy: 0.49437352920202526\n",
      "AUC: 0.8176632845118779\n",
      "\n",
      "macro\n",
      "Precision: 0.16567155187903126\n",
      "Recall: 0.13082570933740958\n",
      "F1 Score: 0.12326745259155923\n",
      "\n",
      "weighted\n",
      "Precision: 0.538200876919635\n",
      "Recall: 0.49437352920202526\n",
      "F1 Score: 0.5006809222699486\n",
      "\n",
      "Mean FNR: 0.8691742906625904\n",
      "Mean TNR: 0.9600432784189556\n",
      "Mean FPR: 0.03995672158104433\n",
      "Mean TPR: 0.13082570933740958\n"
     ]
    }
   ],
   "source": [
    "calculate_performance_metrics(x_test_adv, y_test, model)"
   ]
  },
  {
   "cell_type": "code",
   "execution_count": 8,
   "id": "33a9cca4-3034-4428-ac40-d77c97df1016",
   "metadata": {},
   "outputs": [],
   "source": [
    "attack = FastGradientMethod(estimator=classifier, eps=0.15)\n",
    "\n",
    "x_test_adv = attack.generate(x=x_test)  # x_test is your MNIST test images"
   ]
  },
  {
   "cell_type": "code",
   "execution_count": 9,
   "id": "9dc7401a-719c-4d69-9204-53be1b4993f5",
   "metadata": {},
   "outputs": [
    {
     "name": "stdout",
     "output_type": "stream",
     "text": [
      "4383/4383 [==============================] - 3s 593us/step\n",
      "Accuracy: 0.4402053768808386\n",
      "AUC: 0.7423987187170208\n",
      "\n",
      "macro\n",
      "Precision: 0.11165791827761024\n",
      "Recall: 0.08551182243364797\n",
      "F1 Score: 0.08050308239714096\n",
      "\n",
      "weighted\n",
      "Precision: 0.4563365720504677\n",
      "Recall: 0.4402053768808386\n",
      "F1 Score: 0.4340487647754112\n",
      "\n",
      "Mean FNR: 0.9144881775663519\n",
      "Mean TNR: 0.9531055453033366\n",
      "Mean FPR: 0.04689445469666337\n",
      "Mean TPR: 0.08551182243364797\n"
     ]
    }
   ],
   "source": [
    "calculate_performance_metrics(x_test_adv, y_test, model)"
   ]
  },
  {
   "cell_type": "code",
   "execution_count": 10,
   "id": "dec308aa-0440-47d7-89e8-2ee56bf84950",
   "metadata": {},
   "outputs": [],
   "source": [
    "attack = FastGradientMethod(estimator=classifier, eps=0.2)\n",
    "\n",
    "x_test_adv = attack.generate(x=x_test)  # x_test is your MNIST test images"
   ]
  },
  {
   "cell_type": "code",
   "execution_count": 11,
   "id": "b5a6d221-a190-4c67-b288-ee1e1d0d0d95",
   "metadata": {},
   "outputs": [
    {
     "name": "stdout",
     "output_type": "stream",
     "text": [
      "4383/4383 [==============================] - 3s 584us/step\n",
      "Accuracy: 0.43582685587962633\n",
      "AUC: 0.6930287084002807\n",
      "\n",
      "macro\n",
      "Precision: 0.08759920092225167\n",
      "Recall: 0.07398625679397974\n",
      "F1 Score: 0.06894724987237995\n",
      "\n",
      "weighted\n",
      "Precision: 0.41679799119834054\n",
      "Recall: 0.43582685587962633\n",
      "F1 Score: 0.41647092512606265\n",
      "\n",
      "Mean FNR: 0.9260137432060203\n",
      "Mean TNR: 0.9510961370507214\n",
      "Mean FPR: 0.048903862949278606\n",
      "Mean TPR: 0.07398625679397974\n"
     ]
    }
   ],
   "source": [
    "calculate_performance_metrics(x_test_adv, y_test, model)"
   ]
  },
  {
   "cell_type": "code",
   "execution_count": 12,
   "id": "65f45c9a-1fc8-4de0-b8c8-dd044e2f178d",
   "metadata": {},
   "outputs": [],
   "source": [
    "attack = FastGradientMethod(estimator=classifier, eps=0.25)\n",
    "\n",
    "x_test_adv = attack.generate(x=x_test)  # x_test is your MNIST test images"
   ]
  },
  {
   "cell_type": "code",
   "execution_count": 13,
   "id": "7e7ab15e-9a23-4b10-9c41-e62abef6c42d",
   "metadata": {},
   "outputs": [
    {
     "name": "stdout",
     "output_type": "stream",
     "text": [
      "4383/4383 [==============================] - 3s 581us/step\n",
      "Accuracy: 0.4383940668901091\n",
      "AUC: 0.6602117493404339\n",
      "\n",
      "macro\n",
      "Precision: 0.07715481761208043\n",
      "Recall: 0.0679744016802982\n",
      "F1 Score: 0.06454649886450971\n",
      "\n",
      "weighted\n",
      "Precision: 0.40261411685557036\n",
      "Recall: 0.4383940668901091\n",
      "F1 Score: 0.41252537124031846\n",
      "\n",
      "Mean FNR: 0.9320255983197017\n",
      "Mean TNR: 0.9504375500218522\n",
      "Mean FPR: 0.04956244997814759\n",
      "Mean TPR: 0.0679744016802982\n"
     ]
    }
   ],
   "source": [
    "calculate_performance_metrics(x_test_adv, y_test, model)"
   ]
  },
  {
   "cell_type": "code",
   "execution_count": 14,
   "id": "f947fc62-333e-4545-aa78-cee85993fe5c",
   "metadata": {},
   "outputs": [],
   "source": [
    "attack = FastGradientMethod(estimator=classifier, eps=0.3)\n",
    "\n",
    "x_test_adv = attack.generate(x=x_test)  # x_test is your MNIST test images"
   ]
  },
  {
   "cell_type": "code",
   "execution_count": 15,
   "id": "6932efdd-64ea-4027-bab2-8c54fd3d14aa",
   "metadata": {},
   "outputs": [
    {
     "name": "stdout",
     "output_type": "stream",
     "text": [
      "4383/4383 [==============================] - 3s 582us/step\n",
      "Accuracy: 0.4335876773871497\n",
      "AUC: 0.6341835832874074\n",
      "\n",
      "macro\n",
      "Precision: 0.06776934628984983\n",
      "Recall: 0.0622013986882243\n",
      "F1 Score: 0.059394657823542404\n",
      "\n",
      "weighted\n",
      "Precision: 0.3893738980285425\n",
      "Recall: 0.4335876773871497\n",
      "F1 Score: 0.40463299469211134\n",
      "\n",
      "Mean FNR: 0.9377986013117757\n",
      "Mean TNR: 0.9495033137291368\n",
      "Mean FPR: 0.05049668627086317\n",
      "Mean TPR: 0.0622013986882243\n"
     ]
    }
   ],
   "source": [
    "calculate_performance_metrics(x_test_adv, y_test, model)"
   ]
  },
  {
   "cell_type": "code",
   "execution_count": null,
   "id": "01fecabc-2822-4d84-8a87-bfd5d8a92162",
   "metadata": {},
   "outputs": [],
   "source": []
  }
 ],
 "metadata": {
  "kernelspec": {
   "display_name": "Python 3 (ipykernel)",
   "language": "python",
   "name": "python3"
  },
  "language_info": {
   "codemirror_mode": {
    "name": "ipython",
    "version": 3
   },
   "file_extension": ".py",
   "mimetype": "text/x-python",
   "name": "python",
   "nbconvert_exporter": "python",
   "pygments_lexer": "ipython3",
   "version": "3.11.5"
  }
 },
 "nbformat": 4,
 "nbformat_minor": 5
}
