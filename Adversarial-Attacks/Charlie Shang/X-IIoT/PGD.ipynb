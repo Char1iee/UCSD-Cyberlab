{
 "cells": [
  {
   "cell_type": "code",
   "execution_count": 1,
   "id": "be6e67ee-0350-4197-bcfc-401515a6f47e",
   "metadata": {},
   "outputs": [
    {
     "name": "stderr",
     "output_type": "stream",
     "text": [
      "2024-02-26 01:13:00.419592: I tensorflow/core/util/port.cc:113] oneDNN custom operations are on. You may see slightly different numerical results due to floating-point round-off errors from different computation orders. To turn them off, set the environment variable `TF_ENABLE_ONEDNN_OPTS=0`.\n",
      "2024-02-26 01:13:00.422410: I external/local_tsl/tsl/cuda/cudart_stub.cc:31] Could not find cuda drivers on your machine, GPU will not be used.\n",
      "2024-02-26 01:13:00.451542: E external/local_xla/xla/stream_executor/cuda/cuda_dnn.cc:9261] Unable to register cuDNN factory: Attempting to register factory for plugin cuDNN when one has already been registered\n",
      "2024-02-26 01:13:00.451602: E external/local_xla/xla/stream_executor/cuda/cuda_fft.cc:607] Unable to register cuFFT factory: Attempting to register factory for plugin cuFFT when one has already been registered\n",
      "2024-02-26 01:13:00.452630: E external/local_xla/xla/stream_executor/cuda/cuda_blas.cc:1515] Unable to register cuBLAS factory: Attempting to register factory for plugin cuBLAS when one has already been registered\n",
      "2024-02-26 01:13:00.458108: I external/local_tsl/tsl/cuda/cudart_stub.cc:31] Could not find cuda drivers on your machine, GPU will not be used.\n",
      "2024-02-26 01:13:00.459394: I tensorflow/core/platform/cpu_feature_guard.cc:182] This TensorFlow binary is optimized to use available CPU instructions in performance-critical operations.\n",
      "To enable the following instructions: AVX2 AVX512F AVX512_VNNI AVX512_BF16 AVX_VNNI AMX_TILE AMX_INT8 AMX_BF16 FMA, in other operations, rebuild TensorFlow with the appropriate compiler flags.\n",
      "2024-02-26 01:13:01.357167: W tensorflow/compiler/tf2tensorrt/utils/py_utils.cc:38] TF-TRT Warning: Could not find TensorRT\n",
      "/opt/conda/lib/python3.11/site-packages/tqdm/auto.py:21: TqdmWarning: IProgress not found. Please update jupyter and ipywidgets. See https://ipywidgets.readthedocs.io/en/stable/user_install.html\n",
      "  from .autonotebook import tqdm as notebook_tqdm\n"
     ]
    }
   ],
   "source": [
    "import tensorflow as tf\n",
    "from tensorflow.keras.models import Sequential\n",
    "from tensorflow.keras.layers import Conv2D, MaxPooling2D, Dropout, Flatten, Dense\n",
    "\n",
    "from art.attacks.evasion import ProjectedGradientDescent\n",
    "from art.estimators.classification import TensorFlowV2Classifier\n",
    "from art.utils import load_dataset\n",
    "\n",
    "import numpy as np\n",
    "\n",
    "from sklearn import metrics\n",
    "\n",
    "import joblib"
   ]
  },
  {
   "cell_type": "code",
   "execution_count": 2,
   "id": "cd61f690-d764-42d2-8f61-e4a6ac17bb8b",
   "metadata": {},
   "outputs": [],
   "source": [
    "def calculate_performance_metrics(x_test, y_test, model):\n",
    "\n",
    "    # Predictions\n",
    "    y_pred = model.predict(x_test)\n",
    "    y_pred_classes = np.argmax(y_pred, axis=1)\n",
    "    \n",
    "    report = metrics.classification_report(y_test, y_pred_classes, output_dict=True, zero_division=1)\n",
    "    \n",
    "    precision_macro = report['macro avg']['precision']\n",
    "    precision_weighted = report['weighted avg']['precision']\n",
    "    accuracy = report['accuracy']\n",
    "    recall_macro = report['macro avg']['recall']\n",
    "    recall_weighted = report['weighted avg']['recall']\n",
    "    f1_macro = report['macro avg']['f1-score']\n",
    "    f1_weighted = report['weighted avg']['f1-score']\n",
    "    auc = metrics.roc_auc_score(y_test, y_pred, multi_class='ovr')\n",
    "\n",
    "    print(f\"Accuracy: {accuracy}\\nAUC: {auc}\")\n",
    "    \n",
    "    print(\"\\nmacro\")\n",
    "    print(f\"Precision: {precision_macro}\\nRecall: {recall_macro}\\nF1 Score: {f1_macro}\")\n",
    "\n",
    "    print(\"\\nweighted\")\n",
    "    print(f\"Precision: {precision_weighted}\\nRecall: {recall_weighted}\\nF1 Score: {f1_weighted}\")\n",
    "    print()\n",
    "    \n",
    "    # Confusion matrix for FNR, TNR, FPR, TPR\n",
    "    cm = metrics.confusion_matrix(y_test, y_pred_classes)\n",
    "    def calculate_rates(conf_matrix, class_index):\n",
    "        tp = conf_matrix[class_index, class_index]\n",
    "        fn = np.sum(conf_matrix[class_index, :]) - tp\n",
    "        fp = np.sum(conf_matrix[:, class_index]) - tp\n",
    "        tn = np.sum(conf_matrix) - (tp + fn + fp)\n",
    "    \n",
    "        fnr = fn / (fn + tp)\n",
    "        tnr = tn / (tn + fp)\n",
    "        fpr = fp / (fp + tn)\n",
    "        tpr = tp / (tp + fn)\n",
    "        return fnr, tnr, fpr, tpr\n",
    "\n",
    "    # Calculate and aggregate rates\n",
    "    fnrs, tnrs, fprs, tprs = [], [], [], []\n",
    "    for i in range(cm.shape[0]):\n",
    "        fnr, tnr, fpr, tpr = calculate_rates(cm, i)\n",
    "        fnrs.append(fnr)\n",
    "        tnrs.append(tnr)\n",
    "        fprs.append(fpr)\n",
    "        tprs.append(tpr)\n",
    "    \n",
    "    mean_fnr = np.mean(fnrs)\n",
    "    mean_tnr = np.mean(tnrs)\n",
    "    mean_fpr = np.mean(fprs)\n",
    "    mean_tpr = np.mean(tprs)\n",
    "\n",
    "    # Printing the mean metrics\n",
    "    print(f\"Mean FNR: {mean_fnr}\\nMean TNR: {mean_tnr}\\nMean FPR: {mean_fpr}\\nMean TPR: {mean_tpr}\")"
   ]
  },
  {
   "cell_type": "code",
   "execution_count": 3,
   "id": "c9e931bf-6797-49aa-9780-fb41cd7b6777",
   "metadata": {},
   "outputs": [],
   "source": [
    "x_test = np.load(\"/home/jovyan/X-IIoT/X-IIoT_preprocessed/x_test.npy\")\n",
    "x_train = np.load(\"/home/jovyan/X-IIoT/X-IIoT_preprocessed/x_train.npy\")\n",
    "x_val = np.load(\"/home/jovyan/X-IIoT/X-IIoT_preprocessed/x_val.npy\")\n",
    "y_test = np.load(\"/home/jovyan/X-IIoT/X-IIoT_preprocessed/y_test.npy\")\n",
    "y_train = np.load(\"/home/jovyan/X-IIoT/X-IIoT_preprocessed/y_train.npy\")\n",
    "y_val = np.load(\"/home/jovyan/X-IIoT/X-IIoT_preprocessed/y_val.npy\")"
   ]
  },
  {
   "cell_type": "code",
   "execution_count": 4,
   "id": "bc1eaba0-78b4-48ff-946b-41d18cec41f2",
   "metadata": {},
   "outputs": [
    {
     "name": "stderr",
     "output_type": "stream",
     "text": [
      "2024-02-26 01:13:04.778833: W tensorflow/core/util/tensor_slice_reader.cc:98] Could not open ram://63164ffccf354a1b9dcc39f82acf9874: INVALID_ARGUMENT: ram://63164ffccf354a1b9dcc39f82acf9874 is a directory.\n"
     ]
    }
   ],
   "source": [
    "model = joblib.load(\"/home/jovyan/X-IIoT/dl/dl_new/model/dnn.joblib\")"
   ]
  },
  {
   "cell_type": "code",
   "execution_count": 5,
   "id": "f778d492-4b74-47f0-8aab-73339777edcb",
   "metadata": {},
   "outputs": [],
   "source": [
    "classifier = TensorFlowV2Classifier(\n",
    "    model=model,\n",
    "    nb_classes=19,\n",
    "    input_shape=(58,),\n",
    "    loss_object=tf.keras.losses.SparseCategoricalCrossentropy(),\n",
    ")"
   ]
  },
  {
   "cell_type": "code",
   "execution_count": 6,
   "id": "b787aecb-ad28-4554-b840-d516f0760ffb",
   "metadata": {},
   "outputs": [
    {
     "name": "stderr",
     "output_type": "stream",
     "text": [
      "                                        \r"
     ]
    }
   ],
   "source": [
    "# Initialize PGD attack\n",
    "attack = ProjectedGradientDescent(estimator=classifier, eps=0.01)\n",
    "\n",
    "# Generate adversarial test examples\n",
    "adv_test_examples = attack.generate(x=x_test)"
   ]
  },
  {
   "cell_type": "code",
   "execution_count": 7,
   "id": "abdcc7e7-706f-424f-8868-b4363cadaf8f",
   "metadata": {},
   "outputs": [
    {
     "name": "stdout",
     "output_type": "stream",
     "text": [
      "4383/4383 [==============================] - 3s 650us/step\n",
      "Accuracy: 0.9202952292662056\n",
      "AUC: 0.994765402709281\n",
      "\n",
      "macro\n",
      "Precision: 0.8300630131547733\n",
      "Recall: 0.6906494011023545\n",
      "F1 Score: 0.7151242746981334\n",
      "\n",
      "weighted\n",
      "Precision: 0.9352760550594487\n",
      "Recall: 0.9202952292662056\n",
      "F1 Score: 0.9209862243781489\n",
      "\n",
      "Mean FNR: 0.3093505988976454\n",
      "Mean TNR: 0.9941571854952101\n",
      "Mean FPR: 0.005842814504789895\n",
      "Mean TPR: 0.6906494011023545\n"
     ]
    }
   ],
   "source": [
    "calculate_performance_metrics(adv_test_examples, y_test, model)"
   ]
  },
  {
   "cell_type": "code",
   "execution_count": 8,
   "id": "2b91cba2-911f-4243-bdf6-ac86831b6f3b",
   "metadata": {},
   "outputs": [
    {
     "name": "stderr",
     "output_type": "stream",
     "text": [
      "                                        \r"
     ]
    }
   ],
   "source": [
    "# Initialize PGD attack\n",
    "attack = ProjectedGradientDescent(estimator=classifier, eps=0.05)\n",
    "\n",
    "# Generate adversarial test examples\n",
    "adv_test_examples = attack.generate(x=x_test)"
   ]
  },
  {
   "cell_type": "code",
   "execution_count": 9,
   "id": "5b15dfa6-a9ce-483c-8fcb-6c7017782e80",
   "metadata": {},
   "outputs": [
    {
     "name": "stdout",
     "output_type": "stream",
     "text": [
      "4383/4383 [==============================] - 3s 677us/step\n",
      "Accuracy: 0.45160807245239964\n",
      "AUC: 0.884119340969312\n",
      "\n",
      "macro\n",
      "Precision: 0.2558579609065153\n",
      "Recall: 0.20851031821783167\n",
      "F1 Score: 0.19057933865542012\n",
      "\n",
      "weighted\n",
      "Precision: 0.6020934861904934\n",
      "Recall: 0.45160807245239964\n",
      "F1 Score: 0.4979770074820043\n",
      "\n",
      "Mean FNR: 0.7914896817821684\n",
      "Mean TNR: 0.961032665857742\n",
      "Mean FPR: 0.03896733414225808\n",
      "Mean TPR: 0.20851031821783167\n"
     ]
    }
   ],
   "source": [
    "calculate_performance_metrics(adv_test_examples, y_test, model)"
   ]
  },
  {
   "cell_type": "code",
   "execution_count": 7,
   "id": "8d619bcc-20a5-4abe-a138-06cd09c65f52",
   "metadata": {},
   "outputs": [
    {
     "name": "stderr",
     "output_type": "stream",
     "text": [
      "                                        \r"
     ]
    }
   ],
   "source": [
    "# Initialize PGD attack\n",
    "attack = ProjectedGradientDescent(estimator=classifier, eps=0.1)\n",
    "\n",
    "# Generate adversarial test examples\n",
    "adv_test_examples = attack.generate(x=x_test)"
   ]
  },
  {
   "cell_type": "code",
   "execution_count": 8,
   "id": "8a4722ca-55e4-47ee-b04b-9cc2db379061",
   "metadata": {},
   "outputs": [
    {
     "name": "stdout",
     "output_type": "stream",
     "text": [
      "4383/4383 [==============================] - 3s 581us/step\n",
      "Accuracy: 0.21610211794908366\n",
      "AUC: 0.6726825105569056\n",
      "\n",
      "macro\n",
      "Precision: 0.08565149032997321\n",
      "Recall: 0.07488933151289774\n",
      "F1 Score: 0.06351891583536287\n",
      "\n",
      "weighted\n",
      "Precision: 0.3037621358648797\n",
      "Recall: 0.21610211794908366\n",
      "F1 Score: 0.24016758660320067\n",
      "\n",
      "Mean FNR: 0.9251106684871021\n",
      "Mean TNR: 0.9393236460917895\n",
      "Mean FPR: 0.0606763539082103\n",
      "Mean TPR: 0.07488933151289774\n"
     ]
    }
   ],
   "source": [
    "calculate_performance_metrics(adv_test_examples, y_test, model)"
   ]
  },
  {
   "cell_type": "code",
   "execution_count": 9,
   "id": "47c091a7-e69e-4ebf-be61-51449a2878ee",
   "metadata": {},
   "outputs": [
    {
     "name": "stderr",
     "output_type": "stream",
     "text": [
      "                                        \r"
     ]
    }
   ],
   "source": [
    "# Initialize PGD attack\n",
    "attack = ProjectedGradientDescent(estimator=classifier, eps=0.15)\n",
    "\n",
    "# Generate adversarial test examples\n",
    "adv_test_examples = attack.generate(x=x_test)"
   ]
  },
  {
   "cell_type": "code",
   "execution_count": 10,
   "id": "20b7fd14-d8c2-48d7-83d0-4f1bce3af785",
   "metadata": {},
   "outputs": [
    {
     "name": "stdout",
     "output_type": "stream",
     "text": [
      "4383/4383 [==============================] - 3s 604us/step\n",
      "Accuracy: 0.11247949796762462\n",
      "AUC: 0.5220936845746863\n",
      "\n",
      "macro\n",
      "Precision: 0.032656792057214855\n",
      "Recall: 0.03935302257986238\n",
      "F1 Score: 0.025618923546649745\n",
      "\n",
      "weighted\n",
      "Precision: 0.1618216647330128\n",
      "Recall: 0.11247949796762462\n",
      "F1 Score: 0.12529910491418056\n",
      "\n",
      "Mean FNR: 0.9606469774201376\n",
      "Mean TNR: 0.9315907065343848\n",
      "Mean FPR: 0.06840929346561513\n",
      "Mean TPR: 0.03935302257986238\n"
     ]
    }
   ],
   "source": [
    "calculate_performance_metrics(adv_test_examples, y_test, model)"
   ]
  },
  {
   "cell_type": "code",
   "execution_count": 11,
   "id": "748ab693-e374-4d96-9a91-a3438dadf545",
   "metadata": {},
   "outputs": [
    {
     "name": "stderr",
     "output_type": "stream",
     "text": [
      "                                        \r"
     ]
    }
   ],
   "source": [
    "# Initialize PGD attack\n",
    "attack = ProjectedGradientDescent(estimator=classifier, eps=0.2)\n",
    "\n",
    "# Generate adversarial test examples\n",
    "adv_test_examples = attack.generate(x=x_test)"
   ]
  },
  {
   "cell_type": "code",
   "execution_count": 12,
   "id": "48913507-c4de-40e1-bbc9-7dbd4c51e8be",
   "metadata": {},
   "outputs": [
    {
     "name": "stdout",
     "output_type": "stream",
     "text": [
      "4383/4383 [==============================] - 3s 594us/step\n",
      "Accuracy: 0.043842259145689226\n",
      "AUC: 0.41649558907344547\n",
      "\n",
      "macro\n",
      "Precision: 0.012036888601757967\n",
      "Recall: 0.026452517375230477\n",
      "F1 Score: 0.012052257260721358\n",
      "\n",
      "weighted\n",
      "Precision: 0.05758320547694477\n",
      "Recall: 0.043842259145689226\n",
      "F1 Score: 0.043400977891719046\n",
      "\n",
      "Mean FNR: 0.9735474826247695\n",
      "Mean TNR: 0.926666054995035\n",
      "Mean FPR: 0.07333394500496505\n",
      "Mean TPR: 0.026452517375230477\n"
     ]
    }
   ],
   "source": [
    "calculate_performance_metrics(adv_test_examples, y_test, model)"
   ]
  },
  {
   "cell_type": "code",
   "execution_count": 13,
   "id": "6f53afc2-eb14-4336-aaa6-b56c597a90d3",
   "metadata": {},
   "outputs": [
    {
     "name": "stderr",
     "output_type": "stream",
     "text": [
      "                                        \r"
     ]
    }
   ],
   "source": [
    "# Initialize PGD attack\n",
    "attack = ProjectedGradientDescent(estimator=classifier, eps=0.25)\n",
    "\n",
    "# Generate adversarial test examples\n",
    "adv_test_examples = attack.generate(x=x_test)"
   ]
  },
  {
   "cell_type": "code",
   "execution_count": 14,
   "id": "506006f9-d5ac-420e-9e8a-0bb6490ae4d7",
   "metadata": {},
   "outputs": [
    {
     "name": "stdout",
     "output_type": "stream",
     "text": [
      "4383/4383 [==============================] - 3s 595us/step\n",
      "Accuracy: 0.022634243742423163\n",
      "AUC: 0.39687406274656045\n",
      "\n",
      "macro\n",
      "Precision: 0.058910933454235564\n",
      "Recall: 0.02226986900665553\n",
      "F1 Score: 0.008034653324362958\n",
      "\n",
      "weighted\n",
      "Precision: 0.023501849731730154\n",
      "Recall: 0.022634243742423163\n",
      "F1 Score: 0.01717537224531967\n",
      "\n",
      "Mean FNR: 0.9777301309933446\n",
      "Mean TNR: 0.9251932094883142\n",
      "Mean FPR: 0.07480679051168586\n",
      "Mean TPR: 0.02226986900665553\n"
     ]
    }
   ],
   "source": [
    "calculate_performance_metrics(adv_test_examples, y_test, model)"
   ]
  },
  {
   "cell_type": "code",
   "execution_count": 15,
   "id": "06b5eb18-4bc2-4b26-b508-44d8f391e7b0",
   "metadata": {},
   "outputs": [
    {
     "name": "stderr",
     "output_type": "stream",
     "text": [
      "                                        \r"
     ]
    }
   ],
   "source": [
    "# Initialize PGD attack\n",
    "attack = ProjectedGradientDescent(estimator=classifier, eps=0.3)\n",
    "\n",
    "# Generate adversarial test examples\n",
    "adv_test_examples = attack.generate(x=x_test)"
   ]
  },
  {
   "cell_type": "code",
   "execution_count": 16,
   "id": "7d34dba4-3a53-421f-8301-244a0c1011e2",
   "metadata": {},
   "outputs": [
    {
     "name": "stdout",
     "output_type": "stream",
     "text": [
      "4383/4383 [==============================] - 3s 592us/step\n",
      "Accuracy: 0.016651215859659133\n",
      "AUC: 0.3462443276953082\n",
      "\n",
      "macro\n",
      "Precision: 0.057684522512523866\n",
      "Recall: 0.019883735906578694\n",
      "F1 Score: 0.006975360772884151\n",
      "\n",
      "weighted\n",
      "Precision: 0.015167758877872695\n",
      "Recall: 0.016651215859659133\n",
      "F1 Score: 0.010977232711232987\n",
      "\n",
      "Mean FNR: 0.9801162640934213\n",
      "Mean TNR: 0.9256961292610913\n",
      "Mean FPR: 0.07430387073890858\n",
      "Mean TPR: 0.019883735906578694\n"
     ]
    }
   ],
   "source": [
    "calculate_performance_metrics(adv_test_examples, y_test, model)"
   ]
  },
  {
   "cell_type": "code",
   "execution_count": null,
   "id": "1f68ed13-e1d4-4d14-a1df-df3382e82175",
   "metadata": {},
   "outputs": [],
   "source": []
  }
 ],
 "metadata": {
  "kernelspec": {
   "display_name": "Python 3 (ipykernel)",
   "language": "python",
   "name": "python3"
  },
  "language_info": {
   "codemirror_mode": {
    "name": "ipython",
    "version": 3
   },
   "file_extension": ".py",
   "mimetype": "text/x-python",
   "name": "python",
   "nbconvert_exporter": "python",
   "pygments_lexer": "ipython3",
   "version": "3.11.5"
  }
 },
 "nbformat": 4,
 "nbformat_minor": 5
}
