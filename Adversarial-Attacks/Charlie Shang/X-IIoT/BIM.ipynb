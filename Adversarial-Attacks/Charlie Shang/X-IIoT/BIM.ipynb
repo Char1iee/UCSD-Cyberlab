{
 "cells": [
  {
   "cell_type": "code",
   "execution_count": 1,
   "id": "0de82456-354b-4095-9e22-ea5f04e19679",
   "metadata": {},
   "outputs": [
    {
     "name": "stderr",
     "output_type": "stream",
     "text": [
      "2024-02-26 01:15:57.302316: I tensorflow/core/util/port.cc:113] oneDNN custom operations are on. You may see slightly different numerical results due to floating-point round-off errors from different computation orders. To turn them off, set the environment variable `TF_ENABLE_ONEDNN_OPTS=0`.\n",
      "2024-02-26 01:15:57.305216: I external/local_tsl/tsl/cuda/cudart_stub.cc:31] Could not find cuda drivers on your machine, GPU will not be used.\n",
      "2024-02-26 01:15:57.336846: E external/local_xla/xla/stream_executor/cuda/cuda_dnn.cc:9261] Unable to register cuDNN factory: Attempting to register factory for plugin cuDNN when one has already been registered\n",
      "2024-02-26 01:15:57.336902: E external/local_xla/xla/stream_executor/cuda/cuda_fft.cc:607] Unable to register cuFFT factory: Attempting to register factory for plugin cuFFT when one has already been registered\n",
      "2024-02-26 01:15:57.337945: E external/local_xla/xla/stream_executor/cuda/cuda_blas.cc:1515] Unable to register cuBLAS factory: Attempting to register factory for plugin cuBLAS when one has already been registered\n",
      "2024-02-26 01:15:57.343395: I external/local_tsl/tsl/cuda/cudart_stub.cc:31] Could not find cuda drivers on your machine, GPU will not be used.\n",
      "2024-02-26 01:15:57.344127: I tensorflow/core/platform/cpu_feature_guard.cc:182] This TensorFlow binary is optimized to use available CPU instructions in performance-critical operations.\n",
      "To enable the following instructions: AVX2 AVX512F AVX512_VNNI AVX512_BF16 AVX_VNNI AMX_TILE AMX_INT8 AMX_BF16 FMA, in other operations, rebuild TensorFlow with the appropriate compiler flags.\n",
      "2024-02-26 01:15:58.014736: W tensorflow/compiler/tf2tensorrt/utils/py_utils.cc:38] TF-TRT Warning: Could not find TensorRT\n",
      "/opt/conda/lib/python3.11/site-packages/tqdm/auto.py:21: TqdmWarning: IProgress not found. Please update jupyter and ipywidgets. See https://ipywidgets.readthedocs.io/en/stable/user_install.html\n",
      "  from .autonotebook import tqdm as notebook_tqdm\n"
     ]
    }
   ],
   "source": [
    "import tensorflow as tf\n",
    "from tensorflow.keras.models import Sequential\n",
    "from tensorflow.keras.layers import Conv2D, MaxPooling2D, Dropout, Flatten, Dense\n",
    "\n",
    "from art.attacks.evasion import BasicIterativeMethod\n",
    "from art.estimators.classification import TensorFlowV2Classifier\n",
    "from art.utils import load_dataset\n",
    "\n",
    "import numpy as np\n",
    "\n",
    "from sklearn import metrics\n",
    "\n",
    "import joblib"
   ]
  },
  {
   "cell_type": "code",
   "execution_count": 2,
   "id": "3ce6f39c-e49e-4032-a7e2-678a482c68a4",
   "metadata": {},
   "outputs": [],
   "source": [
    "def calculate_performance_metrics(x_test, y_test, model):\n",
    "\n",
    "    # Predictions\n",
    "    y_pred = model.predict(x_test)\n",
    "    y_pred_classes = np.argmax(y_pred, axis=1)\n",
    "    \n",
    "    report = metrics.classification_report(y_test, y_pred_classes, output_dict=True, zero_division=1)\n",
    "    \n",
    "    precision_macro = report['macro avg']['precision']\n",
    "    precision_weighted = report['weighted avg']['precision']\n",
    "    accuracy = report['accuracy']\n",
    "    recall_macro = report['macro avg']['recall']\n",
    "    recall_weighted = report['weighted avg']['recall']\n",
    "    f1_macro = report['macro avg']['f1-score']\n",
    "    f1_weighted = report['weighted avg']['f1-score']\n",
    "    auc = metrics.roc_auc_score(y_test, y_pred, multi_class='ovr')\n",
    "\n",
    "    print(f\"Accuracy: {accuracy}\\nAUC: {auc}\")\n",
    "    \n",
    "    print(\"\\nmacro\")\n",
    "    print(f\"Precision: {precision_macro}\\nRecall: {recall_macro}\\nF1 Score: {f1_macro}\")\n",
    "\n",
    "    print(\"\\nweighted\")\n",
    "    print(f\"Precision: {precision_weighted}\\nRecall: {recall_weighted}\\nF1 Score: {f1_weighted}\")\n",
    "    print()\n",
    "    \n",
    "    # Confusion matrix for FNR, TNR, FPR, TPR\n",
    "    cm = metrics.confusion_matrix(y_test, y_pred_classes)\n",
    "    def calculate_rates(conf_matrix, class_index):\n",
    "        tp = conf_matrix[class_index, class_index]\n",
    "        fn = np.sum(conf_matrix[class_index, :]) - tp\n",
    "        fp = np.sum(conf_matrix[:, class_index]) - tp\n",
    "        tn = np.sum(conf_matrix) - (tp + fn + fp)\n",
    "    \n",
    "        fnr = fn / (fn + tp)\n",
    "        tnr = tn / (tn + fp)\n",
    "        fpr = fp / (fp + tn)\n",
    "        tpr = tp / (tp + fn)\n",
    "        return fnr, tnr, fpr, tpr\n",
    "\n",
    "    # Calculate and aggregate rates\n",
    "    fnrs, tnrs, fprs, tprs = [], [], [], []\n",
    "    for i in range(cm.shape[0]):\n",
    "        fnr, tnr, fpr, tpr = calculate_rates(cm, i)\n",
    "        fnrs.append(fnr)\n",
    "        tnrs.append(tnr)\n",
    "        fprs.append(fpr)\n",
    "        tprs.append(tpr)\n",
    "    \n",
    "    mean_fnr = np.mean(fnrs)\n",
    "    mean_tnr = np.mean(tnrs)\n",
    "    mean_fpr = np.mean(fprs)\n",
    "    mean_tpr = np.mean(tprs)\n",
    "\n",
    "    # Printing the mean metrics\n",
    "    print(f\"Mean FNR: {mean_fnr}\\nMean TNR: {mean_tnr}\\nMean FPR: {mean_fpr}\\nMean TPR: {mean_tpr}\")"
   ]
  },
  {
   "cell_type": "code",
   "execution_count": 3,
   "id": "ac4f4ba5-dceb-4a58-8f94-3a8fcdeb2e85",
   "metadata": {},
   "outputs": [],
   "source": [
    "x_test = np.load(\"/home/jovyan/X-IIoT/X-IIoT_preprocessed/x_test.npy\")\n",
    "x_train = np.load(\"/home/jovyan/X-IIoT/X-IIoT_preprocessed/x_train.npy\")\n",
    "x_val = np.load(\"/home/jovyan/X-IIoT/X-IIoT_preprocessed/x_val.npy\")\n",
    "y_test = np.load(\"/home/jovyan/X-IIoT/X-IIoT_preprocessed/y_test.npy\")\n",
    "y_train = np.load(\"/home/jovyan/X-IIoT/X-IIoT_preprocessed/y_train.npy\")\n",
    "y_val = np.load(\"/home/jovyan/X-IIoT/X-IIoT_preprocessed/y_val.npy\")"
   ]
  },
  {
   "cell_type": "code",
   "execution_count": 4,
   "id": "8abe00f0-44b2-4263-8679-aee5723dae2b",
   "metadata": {},
   "outputs": [
    {
     "name": "stderr",
     "output_type": "stream",
     "text": [
      "2024-02-26 01:16:03.595122: W tensorflow/core/util/tensor_slice_reader.cc:98] Could not open ram://1f7fc854fb404807ab5bc66cd02f69a6: INVALID_ARGUMENT: ram://1f7fc854fb404807ab5bc66cd02f69a6 is a directory.\n"
     ]
    }
   ],
   "source": [
    "model = joblib.load(\"/home/jovyan/X-IIoT/dl/dl_new/model/dnn.joblib\")"
   ]
  },
  {
   "cell_type": "code",
   "execution_count": 5,
   "id": "ad18f6af-273d-4e46-9bc6-3ac515959d1a",
   "metadata": {},
   "outputs": [],
   "source": [
    "classifier = TensorFlowV2Classifier(\n",
    "    model=model,\n",
    "    nb_classes=19,\n",
    "    input_shape=(58,),\n",
    "    loss_object=tf.keras.losses.SparseCategoricalCrossentropy(),\n",
    ")"
   ]
  },
  {
   "cell_type": "code",
   "execution_count": 6,
   "id": "f8529b37-bb7a-4c47-861e-403dd68f607b",
   "metadata": {},
   "outputs": [
    {
     "name": "stderr",
     "output_type": "stream",
     "text": [
      "                                        \r"
     ]
    }
   ],
   "source": [
    "# Initialize the Elastic Net attack\n",
    "attack = BasicIterativeMethod(estimator=classifier, eps=0.1)\n",
    "\n",
    "# Generate adversarial test examples\n",
    "x_test_adv = attack.generate(x=x_test)"
   ]
  },
  {
   "cell_type": "code",
   "execution_count": 7,
   "id": "fe077a0a-472e-4d38-9ff0-50b3a15d1013",
   "metadata": {},
   "outputs": [
    {
     "name": "stdout",
     "output_type": "stream",
     "text": [
      "4383/4383 [==============================] - 3s 578us/step\n",
      "Accuracy: 0.2829850959138558\n",
      "AUC: 0.6678050706456131\n",
      "\n",
      "macro\n",
      "Precision: 0.19696619036899507\n",
      "Recall: 0.09417994161085466\n",
      "F1 Score: 0.07749355654933594\n",
      "\n",
      "weighted\n",
      "Precision: 0.3431187603796154\n",
      "Recall: 0.2829850959138558\n",
      "F1 Score: 0.3020850568918105\n",
      "\n",
      "Mean FNR: 0.9058200583891454\n",
      "Mean TNR: 0.9446008365549259\n",
      "Mean FPR: 0.05539916344507407\n",
      "Mean TPR: 0.09417994161085466\n"
     ]
    }
   ],
   "source": [
    "calculate_performance_metrics(x_test_adv, y_test, model)"
   ]
  },
  {
   "cell_type": "code",
   "execution_count": 7,
   "id": "146a6208-40d7-4cb1-ab0e-e6e0c9487dc6",
   "metadata": {},
   "outputs": [
    {
     "name": "stderr",
     "output_type": "stream",
     "text": [
      "                                        \r"
     ]
    }
   ],
   "source": [
    "# Initialize the Elastic Net attack\n",
    "attack = BasicIterativeMethod(estimator=classifier, eps=0.15)\n",
    "\n",
    "# Generate adversarial test examples\n",
    "x_test_adv = attack.generate(x=x_test)"
   ]
  },
  {
   "cell_type": "code",
   "execution_count": 8,
   "id": "d7835743-5a99-4e71-acce-b83b2f55d287",
   "metadata": {},
   "outputs": [
    {
     "name": "stdout",
     "output_type": "stream",
     "text": [
      "4383/4383 [==============================] - 3s 586us/step\n",
      "Accuracy: 0.11727875632888826\n",
      "AUC: 0.5402252572165684\n",
      "\n",
      "macro\n",
      "Precision: 0.14877687907102305\n",
      "Recall: 0.04197606194491521\n",
      "F1 Score: 0.0357596372735205\n",
      "\n",
      "weighted\n",
      "Precision: 0.18998974026237836\n",
      "Recall: 0.11727875632888826\n",
      "F1 Score: 0.14028347449813394\n",
      "\n",
      "Mean FNR: 0.9580239380550847\n",
      "Mean TNR: 0.9355652389956722\n",
      "Mean FPR: 0.0644347610043277\n",
      "Mean TPR: 0.04197606194491521\n"
     ]
    }
   ],
   "source": [
    "calculate_performance_metrics(x_test_adv, y_test, model)"
   ]
  },
  {
   "cell_type": "code",
   "execution_count": 9,
   "id": "68fdd781-1713-44a6-82c4-2f6734ad1aa0",
   "metadata": {},
   "outputs": [
    {
     "name": "stderr",
     "output_type": "stream",
     "text": [
      "                                        \r"
     ]
    }
   ],
   "source": [
    "# Initialize the Elastic Net attack\n",
    "attack = BasicIterativeMethod(estimator=classifier, eps=0.2)\n",
    "\n",
    "# Generate adversarial test examples\n",
    "x_test_adv = attack.generate(x=x_test)"
   ]
  },
  {
   "cell_type": "code",
   "execution_count": 10,
   "id": "5d3009ba-01fa-470e-861b-f715cea9b33c",
   "metadata": {},
   "outputs": [
    {
     "name": "stdout",
     "output_type": "stream",
     "text": [
      "4383/4383 [==============================] - 3s 583us/step\n",
      "Accuracy: 0.05160094131070384\n",
      "AUC: 0.46846056198429503\n",
      "\n",
      "macro\n",
      "Precision: 0.1256539536455159\n",
      "Recall: 0.02258123415217975\n",
      "F1 Score: 0.017419574384132986\n",
      "\n",
      "weighted\n",
      "Precision: 0.09673833648721825\n",
      "Recall: 0.05160094131070384\n",
      "F1 Score: 0.062146588476941725\n",
      "\n",
      "Mean FNR: 0.9774187658478204\n",
      "Mean TNR: 0.9332030607464389\n",
      "Mean FPR: 0.06679693925356105\n",
      "Mean TPR: 0.02258123415217975\n"
     ]
    }
   ],
   "source": [
    "calculate_performance_metrics(x_test_adv, y_test, model)"
   ]
  },
  {
   "cell_type": "code",
   "execution_count": 11,
   "id": "3cfa4100-1fe0-4c06-a804-100d691fe1f9",
   "metadata": {},
   "outputs": [
    {
     "name": "stderr",
     "output_type": "stream",
     "text": [
      "                                        \r"
     ]
    }
   ],
   "source": [
    "# Initialize the Elastic Net attack\n",
    "attack = BasicIterativeMethod(estimator=classifier, eps=0.25)\n",
    "\n",
    "# Generate adversarial test examples\n",
    "x_test_adv = attack.generate(x=x_test)"
   ]
  },
  {
   "cell_type": "code",
   "execution_count": 12,
   "id": "0a525874-5aed-4944-b102-2c69820f3003",
   "metadata": {},
   "outputs": [
    {
     "name": "stdout",
     "output_type": "stream",
     "text": [
      "4383/4383 [==============================] - 3s 580us/step\n",
      "Accuracy: 0.026050060614704416\n",
      "AUC: 0.42919190202287527\n",
      "\n",
      "macro\n",
      "Precision: 0.11575540428181848\n",
      "Recall: 0.014590880103849594\n",
      "F1 Score: 0.01004607537523594\n",
      "\n",
      "weighted\n",
      "Precision: 0.04811212656086451\n",
      "Recall: 0.026050060614704416\n",
      "F1 Score: 0.029563901468056746\n",
      "\n",
      "Mean FNR: 0.9854091198961503\n",
      "Mean TNR: 0.9318721708848697\n",
      "Mean FPR: 0.0681278291151302\n",
      "Mean TPR: 0.014590880103849594\n"
     ]
    }
   ],
   "source": [
    "calculate_performance_metrics(x_test_adv, y_test, model)"
   ]
  },
  {
   "cell_type": "code",
   "execution_count": 6,
   "id": "7f9fc7b1-ba24-425c-9c6c-bc66ece6fce3",
   "metadata": {},
   "outputs": [
    {
     "name": "stderr",
     "output_type": "stream",
     "text": [
      "                                        \r"
     ]
    }
   ],
   "source": [
    "# Initialize the Elastic Net attack\n",
    "attack = BasicIterativeMethod(estimator=classifier, eps=0.3)\n",
    "\n",
    "# Generate adversarial test examples\n",
    "x_test_adv = attack.generate(x=x_test)"
   ]
  },
  {
   "cell_type": "code",
   "execution_count": 7,
   "id": "7385de0a-394f-4900-92d6-41959ce0f40a",
   "metadata": {},
   "outputs": [
    {
     "name": "stdout",
     "output_type": "stream",
     "text": [
      "4383/4383 [==============================] - 3s 589us/step\n",
      "Accuracy: 0.016651215859659133\n",
      "AUC: 0.3462443276953082\n",
      "\n",
      "macro\n",
      "Precision: 0.057684522512523866\n",
      "Recall: 0.019883735906578694\n",
      "F1 Score: 0.006975360772884151\n",
      "\n",
      "weighted\n",
      "Precision: 0.015167758877872695\n",
      "Recall: 0.016651215859659133\n",
      "F1 Score: 0.010977232711232987\n",
      "\n",
      "Mean FNR: 0.9801162640934213\n",
      "Mean TNR: 0.9256961292610913\n",
      "Mean FPR: 0.07430387073890858\n",
      "Mean TPR: 0.019883735906578694\n"
     ]
    }
   ],
   "source": [
    "calculate_performance_metrics(x_test_adv, y_test, model)"
   ]
  },
  {
   "cell_type": "code",
   "execution_count": 6,
   "id": "ec2cebff-c111-4132-9e08-f67633d5b97c",
   "metadata": {},
   "outputs": [
    {
     "name": "stderr",
     "output_type": "stream",
     "text": [
      "                                        \r"
     ]
    }
   ],
   "source": [
    "# Initialize the Elastic Net attack\n",
    "attack = BasicIterativeMethod(estimator=classifier, eps=0.01)\n",
    "\n",
    "# Generate adversarial test examples\n",
    "x_test_adv = attack.generate(x=x_test)"
   ]
  },
  {
   "cell_type": "code",
   "execution_count": 7,
   "id": "cd8eef16-a29f-4432-b791-62352bf12d77",
   "metadata": {},
   "outputs": [
    {
     "name": "stdout",
     "output_type": "stream",
     "text": [
      "4383/4383 [==============================] - 3s 632us/step\n",
      "Accuracy: 0.9202952292662056\n",
      "AUC: 0.994765402709281\n",
      "\n",
      "macro\n",
      "Precision: 0.8300630131547733\n",
      "Recall: 0.6906494011023545\n",
      "F1 Score: 0.7151242746981334\n",
      "\n",
      "weighted\n",
      "Precision: 0.9352760550594487\n",
      "Recall: 0.9202952292662056\n",
      "F1 Score: 0.9209862243781489\n",
      "\n",
      "Mean FNR: 0.3093505988976454\n",
      "Mean TNR: 0.9941571854952101\n",
      "Mean FPR: 0.005842814504789895\n",
      "Mean TPR: 0.6906494011023545\n"
     ]
    }
   ],
   "source": [
    "calculate_performance_metrics(x_test_adv, y_test, model)"
   ]
  },
  {
   "cell_type": "code",
   "execution_count": 8,
   "id": "af2d1093-c3cc-4553-92af-73022f079a82",
   "metadata": {},
   "outputs": [
    {
     "name": "stderr",
     "output_type": "stream",
     "text": [
      "                                        \r"
     ]
    }
   ],
   "source": [
    "# Initialize the Elastic Net attack\n",
    "attack = BasicIterativeMethod(estimator=classifier, eps=0.05)\n",
    "\n",
    "# Generate adversarial test examples\n",
    "x_test_adv = attack.generate(x=x_test)"
   ]
  },
  {
   "cell_type": "code",
   "execution_count": 9,
   "id": "fc1ffa8d-93d4-467b-90bc-159081d6940b",
   "metadata": {},
   "outputs": [
    {
     "name": "stdout",
     "output_type": "stream",
     "text": [
      "4383/4383 [==============================] - 3s 580us/step\n",
      "Accuracy: 0.45160807245239964\n",
      "AUC: 0.884119340969312\n",
      "\n",
      "macro\n",
      "Precision: 0.2558579609065153\n",
      "Recall: 0.20851031821783167\n",
      "F1 Score: 0.19057933865542012\n",
      "\n",
      "weighted\n",
      "Precision: 0.6020934861904934\n",
      "Recall: 0.45160807245239964\n",
      "F1 Score: 0.4979770074820043\n",
      "\n",
      "Mean FNR: 0.7914896817821684\n",
      "Mean TNR: 0.961032665857742\n",
      "Mean FPR: 0.03896733414225808\n",
      "Mean TPR: 0.20851031821783167\n"
     ]
    }
   ],
   "source": [
    "calculate_performance_metrics(x_test_adv, y_test, model)"
   ]
  },
  {
   "cell_type": "code",
   "execution_count": null,
   "id": "852091b8-991b-477b-92cc-cc04dd4de263",
   "metadata": {},
   "outputs": [],
   "source": []
  }
 ],
 "metadata": {
  "kernelspec": {
   "display_name": "Python 3 (ipykernel)",
   "language": "python",
   "name": "python3"
  },
  "language_info": {
   "codemirror_mode": {
    "name": "ipython",
    "version": 3
   },
   "file_extension": ".py",
   "mimetype": "text/x-python",
   "name": "python",
   "nbconvert_exporter": "python",
   "pygments_lexer": "ipython3",
   "version": "3.11.5"
  }
 },
 "nbformat": 4,
 "nbformat_minor": 5
}
