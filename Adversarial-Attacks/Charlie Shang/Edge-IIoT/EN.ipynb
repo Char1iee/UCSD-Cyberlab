{
 "cells": [
  {
   "cell_type": "code",
   "execution_count": 7,
   "id": "58e43be8-d148-4609-afd7-d9b5637990d7",
   "metadata": {},
   "outputs": [],
   "source": [
    "import tensorflow as tf\n",
    "from tensorflow.keras.models import Sequential\n",
    "from tensorflow.keras.layers import Conv2D, MaxPooling2D, Dropout, Flatten, Dense\n",
    "from tensorflow.keras.losses import SparseCategoricalCrossentropy\n",
    "\n",
    "from art.attacks.evasion import ElasticNet\n",
    "from art.estimators.classification import TensorFlowV2Classifier\n",
    "from art.utils import load_dataset\n",
    "\n",
    "import numpy as np\n",
    "import pandas as pd\n",
    "\n",
    "from sklearn import metrics\n",
    "\n",
    "import joblib"
   ]
  },
  {
   "cell_type": "code",
   "execution_count": 8,
   "id": "d506faab-3df5-4d17-bb75-f7c9cceedaf3",
   "metadata": {},
   "outputs": [],
   "source": [
    "def calculate_performance_metrics(x_test, y_test, model):\n",
    "\n",
    "    # Predictions\n",
    "    y_pred = model.predict(x_test)\n",
    "    y_pred_classes = np.argmax(y_pred, axis=1)\n",
    "    \n",
    "    report = metrics.classification_report(y_test, y_pred_classes, output_dict=True, zero_division=1)\n",
    "    \n",
    "    precision_macro = report['macro avg']['precision']\n",
    "    precision_weighted = report['weighted avg']['precision']\n",
    "    accuracy = report['accuracy']\n",
    "    recall_macro = report['macro avg']['recall']\n",
    "    recall_weighted = report['weighted avg']['recall']\n",
    "    f1_macro = report['macro avg']['f1-score']\n",
    "    f1_weighted = report['weighted avg']['f1-score']\n",
    "    auc = metrics.roc_auc_score(y_test, y_pred, multi_class='ovr')\n",
    "\n",
    "    print(f\"Accuracy: {accuracy}\\nAUC: {auc}\")\n",
    "    \n",
    "    print(\"\\nmacro\")\n",
    "    print(f\"Precision: {precision_macro}\\nRecall: {recall_macro}\\nF1 Score: {f1_macro}\")\n",
    "\n",
    "    print(\"\\nweighted\")\n",
    "    print(f\"Precision: {precision_weighted}\\nRecall: {recall_weighted}\\nF1 Score: {f1_weighted}\")\n",
    "    print()\n",
    "    \n",
    "    # Confusion matrix for FNR, TNR, FPR, TPR\n",
    "    cm = metrics.confusion_matrix(y_test, y_pred_classes)\n",
    "    def calculate_rates(conf_matrix, class_index):\n",
    "        tp = conf_matrix[class_index, class_index]\n",
    "        fn = np.sum(conf_matrix[class_index, :]) - tp\n",
    "        fp = np.sum(conf_matrix[:, class_index]) - tp\n",
    "        tn = np.sum(conf_matrix) - (tp + fn + fp)\n",
    "    \n",
    "        fnr = fn / (fn + tp)\n",
    "        tnr = tn / (tn + fp)\n",
    "        fpr = fp / (fp + tn)\n",
    "        tpr = tp / (tp + fn)\n",
    "        return fnr, tnr, fpr, tpr\n",
    "\n",
    "    # Calculate and aggregate rates\n",
    "    fnrs, tnrs, fprs, tprs = [], [], [], []\n",
    "    for i in range(cm.shape[0]):\n",
    "        fnr, tnr, fpr, tpr = calculate_rates(cm, i)\n",
    "        fnrs.append(fnr)\n",
    "        tnrs.append(tnr)\n",
    "        fprs.append(fpr)\n",
    "        tprs.append(tpr)\n",
    "    \n",
    "    mean_fnr = np.mean(fnrs)\n",
    "    mean_tnr = np.mean(tnrs)\n",
    "    mean_fpr = np.mean(fprs)\n",
    "    mean_tpr = np.mean(tprs)\n",
    "\n",
    "    # Printing the mean metrics\n",
    "    print(f\"Mean FNR: {mean_fnr}\\nMean TNR: {mean_tnr}\\nMean FPR: {mean_fpr}\\nMean TPR: {mean_tpr}\")"
   ]
  },
  {
   "cell_type": "code",
   "execution_count": 9,
   "id": "77d8bb17-ccc8-4faf-b071-99597089c90a",
   "metadata": {},
   "outputs": [],
   "source": [
    "x_train = pd.read_csv('/home/jovyan/Edge-IIoT/preprocessed_data/x_train.csv', low_memory=False)\n",
    "y_train = pd.read_csv('/home/jovyan/Edge-IIoT/preprocessed_data/y_train.csv', low_memory=False)\n",
    "x_val = pd.read_csv('/home/jovyan/Edge-IIoT/preprocessed_data/x_val.csv', low_memory=False)\n",
    "y_val = pd.read_csv('/home/jovyan/Edge-IIoT/preprocessed_data/y_val.csv', low_memory=False)\n",
    "x_test = pd.read_csv('/home/jovyan/Edge-IIoT/preprocessed_data/x_test.csv', low_memory=False)\n",
    "y_test = pd.read_csv('/home/jovyan/Edge-IIoT/preprocessed_data/y_test.csv', low_memory=False)"
   ]
  },
  {
   "cell_type": "code",
   "execution_count": 10,
   "id": "f200077f-35b6-4e9a-bf5a-0636320d4b27",
   "metadata": {},
   "outputs": [],
   "source": [
    "x_train = x_train.values\n",
    "y_train = y_train.values\n",
    "x_val = x_val.values\n",
    "y_val = y_val.values\n",
    "x_test = x_test.values\n",
    "y_test = y_test.values"
   ]
  },
  {
   "cell_type": "code",
   "execution_count": 11,
   "id": "c60690a5-b586-45e9-94db-5b05891a57c1",
   "metadata": {},
   "outputs": [
    {
     "name": "stderr",
     "output_type": "stream",
     "text": [
      "2024-02-18 10:58:43.346210: W tensorflow/core/util/tensor_slice_reader.cc:98] Could not open ram://c1cfa78b6f204d0fbe8b9f2c6eab5c8e: INVALID_ARGUMENT: ram://c1cfa78b6f204d0fbe8b9f2c6eab5c8e is a directory.\n"
     ]
    }
   ],
   "source": [
    "model = joblib.load(\"/home/jovyan/Edge-IIoT/dl/dl_new/dnn.joblib\")"
   ]
  },
  {
   "cell_type": "code",
   "execution_count": 12,
   "id": "cba24094-105e-47f0-9697-1fee2cfc6e87",
   "metadata": {},
   "outputs": [
    {
     "data": {
      "text/plain": [
       "array([ 0,  1,  2,  3,  4,  5,  6,  7,  8,  9, 10, 11, 12, 13, 14])"
      ]
     },
     "execution_count": 12,
     "metadata": {},
     "output_type": "execute_result"
    }
   ],
   "source": [
    "np.unique(y_test)"
   ]
  },
  {
   "cell_type": "code",
   "execution_count": 24,
   "id": "4e4f59b3-1c4d-4e09-bd63-cc1d79c7c8e7",
   "metadata": {},
   "outputs": [],
   "source": [
    "x_test_trimmed = x_test[100:400]\n",
    "y_test_trimmed = y_test[100:400]"
   ]
  },
  {
   "cell_type": "code",
   "execution_count": 14,
   "id": "a2ed84a1-cf8e-451a-a7b0-4b69421a7280",
   "metadata": {},
   "outputs": [],
   "source": [
    "classifier = TensorFlowV2Classifier(\n",
    "    model=model,\n",
    "    nb_classes=15,\n",
    "    input_shape=(48,),\n",
    "    loss_object=tf.keras.losses.SparseCategoricalCrossentropy(),\n",
    ")"
   ]
  },
  {
   "cell_type": "code",
   "execution_count": 25,
   "id": "dbb5e541-db10-4cee-9749-66c672f53e3f",
   "metadata": {},
   "outputs": [
    {
     "name": "stderr",
     "output_type": "stream",
     "text": [
      "EAD: 100%|██████████| 300/300 [1:09:56<00:00, 13.99s/it]\n"
     ]
    }
   ],
   "source": [
    "# Initialize the Elastic Net attack\n",
    "attack = ElasticNet(classifier=classifier, learning_rate=0.001)\n",
    "\n",
    "# Generate adversarial test examples\n",
    "x_test_adv = attack.generate(x=x_test_trimmed)"
   ]
  },
  {
   "cell_type": "code",
   "execution_count": 26,
   "id": "3d55125b-1b1a-41ba-a8ca-ebed7fbf0c5d",
   "metadata": {},
   "outputs": [
    {
     "name": "stdout",
     "output_type": "stream",
     "text": [
      "10/10 [==============================] - 0s 925us/step\n",
      "Accuracy: 0.28\n",
      "AUC: 0.5398025140205761\n",
      "\n",
      "macro\n",
      "Precision: 0.8802259887005649\n",
      "Recall: 0.13830227743271223\n",
      "F1 Score: 0.11239399869536856\n",
      "\n",
      "weighted\n",
      "Precision: 0.7579661016949153\n",
      "Recall: 0.28\n",
      "F1 Score: 0.19208414872798435\n",
      "\n",
      "Mean FNR: 0.8616977225672877\n",
      "Mean TNR: 0.9417711346833816\n",
      "Mean FPR: 0.058228865316618444\n",
      "Mean TPR: 0.13830227743271223\n"
     ]
    }
   ],
   "source": [
    "calculate_performance_metrics(x_test_adv, y_test_trimmed, model)"
   ]
  },
  {
   "cell_type": "code",
   "execution_count": 27,
   "id": "21797adb-a5c9-4df5-95d3-de1e70a76d99",
   "metadata": {},
   "outputs": [
    {
     "name": "stderr",
     "output_type": "stream",
     "text": [
      "EAD: 100%|██████████| 300/300 [1:10:02<00:00, 14.01s/it]\n"
     ]
    }
   ],
   "source": [
    "# Initialize the Elastic Net attack\n",
    "attack = ElasticNet(classifier=classifier, learning_rate=0.01)\n",
    "\n",
    "# Generate adversarial test examples\n",
    "x_test_adv = attack.generate(x=x_test_trimmed)"
   ]
  },
  {
   "cell_type": "code",
   "execution_count": 28,
   "id": "f5146d16-5f6d-4c7f-a2e6-1b5541bf6aaa",
   "metadata": {},
   "outputs": [
    {
     "name": "stdout",
     "output_type": "stream",
     "text": [
      "10/10 [==============================] - 0s 798us/step\n",
      "Accuracy: 0.28\n",
      "AUC: 0.5398025140205761\n",
      "\n",
      "macro\n",
      "Precision: 0.8802259887005649\n",
      "Recall: 0.13830227743271223\n",
      "F1 Score: 0.11239399869536856\n",
      "\n",
      "weighted\n",
      "Precision: 0.7579661016949153\n",
      "Recall: 0.28\n",
      "F1 Score: 0.19208414872798435\n",
      "\n",
      "Mean FNR: 0.8616977225672877\n",
      "Mean TNR: 0.9417711346833816\n",
      "Mean FPR: 0.058228865316618444\n",
      "Mean TPR: 0.13830227743271223\n"
     ]
    }
   ],
   "source": [
    "calculate_performance_metrics(x_test_adv, y_test_trimmed, model)"
   ]
  },
  {
   "cell_type": "code",
   "execution_count": 29,
   "id": "3d6855a3-c4ba-4e7c-b2ba-9c0f76e58a44",
   "metadata": {},
   "outputs": [
    {
     "name": "stderr",
     "output_type": "stream",
     "text": [
      "EAD: 100%|██████████| 300/300 [1:09:59<00:00, 14.00s/it]\n"
     ]
    }
   ],
   "source": [
    "# Initialize the Elastic Net attack\n",
    "attack = ElasticNet(classifier=classifier, learning_rate=0.1)\n",
    "\n",
    "# Generate adversarial test examples\n",
    "x_test_adv = attack.generate(x=x_test_trimmed)"
   ]
  },
  {
   "cell_type": "code",
   "execution_count": 30,
   "id": "78b5344b-7824-4d3c-8b1f-5bee0dee3f49",
   "metadata": {},
   "outputs": [
    {
     "name": "stdout",
     "output_type": "stream",
     "text": [
      "10/10 [==============================] - 0s 777us/step\n",
      "Accuracy: 0.28\n",
      "AUC: 0.5398025140205761\n",
      "\n",
      "macro\n",
      "Precision: 0.8802259887005649\n",
      "Recall: 0.13830227743271223\n",
      "F1 Score: 0.11239399869536856\n",
      "\n",
      "weighted\n",
      "Precision: 0.7579661016949153\n",
      "Recall: 0.28\n",
      "F1 Score: 0.19208414872798435\n",
      "\n",
      "Mean FNR: 0.8616977225672877\n",
      "Mean TNR: 0.9417711346833816\n",
      "Mean FPR: 0.058228865316618444\n",
      "Mean TPR: 0.13830227743271223\n"
     ]
    }
   ],
   "source": [
    "calculate_performance_metrics(x_test_adv, y_test_trimmed, model)"
   ]
  },
  {
   "cell_type": "code",
   "execution_count": null,
   "id": "7d10c144-f60a-476b-bac8-df0e8f275032",
   "metadata": {},
   "outputs": [],
   "source": []
  }
 ],
 "metadata": {
  "kernelspec": {
   "display_name": "Python 3 (ipykernel)",
   "language": "python",
   "name": "python3"
  },
  "language_info": {
   "codemirror_mode": {
    "name": "ipython",
    "version": 3
   },
   "file_extension": ".py",
   "mimetype": "text/x-python",
   "name": "python",
   "nbconvert_exporter": "python",
   "pygments_lexer": "ipython3",
   "version": "3.11.5"
  }
 },
 "nbformat": 4,
 "nbformat_minor": 5
}
