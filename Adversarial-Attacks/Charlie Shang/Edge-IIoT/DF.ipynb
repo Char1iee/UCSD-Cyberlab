{
 "cells": [
  {
   "cell_type": "code",
   "execution_count": 1,
   "id": "5fbbac85-d62c-490a-9473-01245518e829",
   "metadata": {},
   "outputs": [
    {
     "name": "stderr",
     "output_type": "stream",
     "text": [
      "2024-02-26 03:30:51.405237: I tensorflow/core/util/port.cc:113] oneDNN custom operations are on. You may see slightly different numerical results due to floating-point round-off errors from different computation orders. To turn them off, set the environment variable `TF_ENABLE_ONEDNN_OPTS=0`.\n",
      "2024-02-26 03:30:51.408329: I external/local_tsl/tsl/cuda/cudart_stub.cc:31] Could not find cuda drivers on your machine, GPU will not be used.\n",
      "2024-02-26 03:30:51.441779: E external/local_xla/xla/stream_executor/cuda/cuda_dnn.cc:9261] Unable to register cuDNN factory: Attempting to register factory for plugin cuDNN when one has already been registered\n",
      "2024-02-26 03:30:51.441833: E external/local_xla/xla/stream_executor/cuda/cuda_fft.cc:607] Unable to register cuFFT factory: Attempting to register factory for plugin cuFFT when one has already been registered\n",
      "2024-02-26 03:30:51.443914: E external/local_xla/xla/stream_executor/cuda/cuda_blas.cc:1515] Unable to register cuBLAS factory: Attempting to register factory for plugin cuBLAS when one has already been registered\n",
      "2024-02-26 03:30:51.452145: I external/local_tsl/tsl/cuda/cudart_stub.cc:31] Could not find cuda drivers on your machine, GPU will not be used.\n",
      "2024-02-26 03:30:51.452842: I tensorflow/core/platform/cpu_feature_guard.cc:182] This TensorFlow binary is optimized to use available CPU instructions in performance-critical operations.\n",
      "To enable the following instructions: AVX2 AVX512F AVX512_VNNI AVX512_BF16 AVX_VNNI AMX_TILE AMX_INT8 AMX_BF16 FMA, in other operations, rebuild TensorFlow with the appropriate compiler flags.\n",
      "2024-02-26 03:30:52.244445: W tensorflow/compiler/tf2tensorrt/utils/py_utils.cc:38] TF-TRT Warning: Could not find TensorRT\n",
      "/opt/conda/lib/python3.11/site-packages/tqdm/auto.py:21: TqdmWarning: IProgress not found. Please update jupyter and ipywidgets. See https://ipywidgets.readthedocs.io/en/stable/user_install.html\n",
      "  from .autonotebook import tqdm as notebook_tqdm\n"
     ]
    }
   ],
   "source": [
    "import tensorflow as tf\n",
    "from tensorflow.keras.models import Sequential\n",
    "from tensorflow.keras.layers import Conv2D, MaxPooling2D, Dropout, Flatten, Dense\n",
    "from tensorflow.keras.losses import SparseCategoricalCrossentropy\n",
    "\n",
    "from art.attacks.evasion import DeepFool\n",
    "from art.estimators.classification import TensorFlowV2Classifier\n",
    "from art.utils import load_dataset\n",
    "\n",
    "import numpy as np\n",
    "import pandas as pd\n",
    "\n",
    "from sklearn import metrics\n",
    "\n",
    "import joblib"
   ]
  },
  {
   "cell_type": "code",
   "execution_count": 2,
   "id": "130131c1-c01c-489e-8d9d-1cd858815787",
   "metadata": {},
   "outputs": [],
   "source": [
    "def calculate_performance_metrics(x_test, y_test, model):\n",
    "\n",
    "    # Predictions\n",
    "    y_pred = model.predict(x_test)\n",
    "    y_pred_classes = np.argmax(y_pred, axis=1)\n",
    "    \n",
    "    report = metrics.classification_report(y_test, y_pred_classes, output_dict=True, zero_division=1)\n",
    "    \n",
    "    precision_macro = report['macro avg']['precision']\n",
    "    precision_weighted = report['weighted avg']['precision']\n",
    "    accuracy = report['accuracy']\n",
    "    recall_macro = report['macro avg']['recall']\n",
    "    recall_weighted = report['weighted avg']['recall']\n",
    "    f1_macro = report['macro avg']['f1-score']\n",
    "    f1_weighted = report['weighted avg']['f1-score']\n",
    "    auc = metrics.roc_auc_score(y_test, y_pred, multi_class='ovr')\n",
    "\n",
    "    print(f\"Accuracy: {accuracy}\\nAUC: {auc}\")\n",
    "    \n",
    "    print(\"\\nmacro\")\n",
    "    print(f\"Precision: {precision_macro}\\nRecall: {recall_macro}\\nF1 Score: {f1_macro}\")\n",
    "\n",
    "    print(\"\\nweighted\")\n",
    "    print(f\"Precision: {precision_weighted}\\nRecall: {recall_weighted}\\nF1 Score: {f1_weighted}\")\n",
    "    print()\n",
    "    \n",
    "    # Confusion matrix for FNR, TNR, FPR, TPR\n",
    "    cm = metrics.confusion_matrix(y_test, y_pred_classes)\n",
    "    def calculate_rates(conf_matrix, class_index):\n",
    "        tp = conf_matrix[class_index, class_index]\n",
    "        fn = np.sum(conf_matrix[class_index, :]) - tp\n",
    "        fp = np.sum(conf_matrix[:, class_index]) - tp\n",
    "        tn = np.sum(conf_matrix) - (tp + fn + fp)\n",
    "    \n",
    "        fnr = fn / (fn + tp)\n",
    "        tnr = tn / (tn + fp)\n",
    "        fpr = fp / (fp + tn)\n",
    "        tpr = tp / (tp + fn)\n",
    "        return fnr, tnr, fpr, tpr\n",
    "\n",
    "    # Calculate and aggregate rates\n",
    "    fnrs, tnrs, fprs, tprs = [], [], [], []\n",
    "    for i in range(cm.shape[0]):\n",
    "        fnr, tnr, fpr, tpr = calculate_rates(cm, i)\n",
    "        fnrs.append(fnr)\n",
    "        tnrs.append(tnr)\n",
    "        fprs.append(fpr)\n",
    "        tprs.append(tpr)\n",
    "    \n",
    "    mean_fnr = np.mean(fnrs)\n",
    "    mean_tnr = np.mean(tnrs)\n",
    "    mean_fpr = np.mean(fprs)\n",
    "    mean_tpr = np.mean(tprs)\n",
    "\n",
    "    # Printing the mean metrics\n",
    "    print(f\"Mean FNR: {mean_fnr}\\nMean TNR: {mean_tnr}\\nMean FPR: {mean_fpr}\\nMean TPR: {mean_tpr}\")"
   ]
  },
  {
   "cell_type": "code",
   "execution_count": 3,
   "id": "b536545c-9fd8-48dc-bb15-201ff2b8357b",
   "metadata": {},
   "outputs": [],
   "source": [
    "x_train = pd.read_csv('/home/jovyan/Edge-IIoT/preprocessed_data/x_train.csv', low_memory=False)\n",
    "y_train = pd.read_csv('/home/jovyan/Edge-IIoT/preprocessed_data/y_train.csv', low_memory=False)\n",
    "x_val = pd.read_csv('/home/jovyan/Edge-IIoT/preprocessed_data/x_val.csv', low_memory=False)\n",
    "y_val = pd.read_csv('/home/jovyan/Edge-IIoT/preprocessed_data/y_val.csv', low_memory=False)\n",
    "x_test = pd.read_csv('/home/jovyan/Edge-IIoT/preprocessed_data/x_test.csv', low_memory=False)\n",
    "y_test = pd.read_csv('/home/jovyan/Edge-IIoT/preprocessed_data/y_test.csv', low_memory=False)"
   ]
  },
  {
   "cell_type": "code",
   "execution_count": 4,
   "id": "6776c990-b3f9-4510-916e-025d75db7fac",
   "metadata": {},
   "outputs": [],
   "source": [
    "x_train = x_train.values\n",
    "y_train = y_train.values\n",
    "x_val = x_val.values\n",
    "y_val = y_val.values\n",
    "x_test = x_test.values\n",
    "y_test = y_test.values"
   ]
  },
  {
   "cell_type": "code",
   "execution_count": 5,
   "id": "676f3948-6b4b-49d9-980d-5ebe7a58dba8",
   "metadata": {},
   "outputs": [
    {
     "name": "stderr",
     "output_type": "stream",
     "text": [
      "2024-02-26 03:30:57.415064: W tensorflow/core/util/tensor_slice_reader.cc:98] Could not open ram://eac59fe9c2164499ab273235aca2db50: INVALID_ARGUMENT: ram://eac59fe9c2164499ab273235aca2db50 is a directory.\n"
     ]
    }
   ],
   "source": [
    "model = joblib.load(\"/home/jovyan/Edge-IIoT/dl/dl_new/dnn.joblib\")"
   ]
  },
  {
   "cell_type": "code",
   "execution_count": 6,
   "id": "51da522d-90ab-4431-8df4-68b1b9e54115",
   "metadata": {},
   "outputs": [],
   "source": [
    "x_test_trimmed = x_test[20700:21200]\n",
    "y_test_trimmed = y_test[20700:21200]"
   ]
  },
  {
   "cell_type": "code",
   "execution_count": 7,
   "id": "cdafd7dc-c58a-4243-99ee-0fc24eab888a",
   "metadata": {},
   "outputs": [
    {
     "data": {
      "text/plain": [
       "array([ 0,  1,  2,  3,  4,  5,  6,  7,  8,  9, 10, 11, 12, 13, 14])"
      ]
     },
     "execution_count": 7,
     "metadata": {},
     "output_type": "execute_result"
    }
   ],
   "source": [
    "np.unique(y_test_trimmed)"
   ]
  },
  {
   "cell_type": "code",
   "execution_count": 8,
   "id": "ced35082-cc95-4daf-ac2d-a0734eed63bd",
   "metadata": {},
   "outputs": [],
   "source": [
    "classifier = TensorFlowV2Classifier(\n",
    "    model=model,\n",
    "    nb_classes=15,\n",
    "    input_shape=(48,),\n",
    "    loss_object=tf.keras.losses.SparseCategoricalCrossentropy(),\n",
    ")"
   ]
  },
  {
   "cell_type": "code",
   "execution_count": 9,
   "id": "6a70c1ae-9aeb-4c2a-9bce-ae7a9520b75c",
   "metadata": {},
   "outputs": [
    {
     "name": "stderr",
     "output_type": "stream",
     "text": [
      "DeepFool:   0%|          | 0/500 [00:00<?, ?it/s]"
     ]
    },
    {
     "name": "stdout",
     "output_type": "stream",
     "text": [
      "WARNING:tensorflow:Calling GradientTape.gradient on a persistent tape inside its context is significantly less efficient than calling it outside the context (it causes the gradient ops to be recorded on the tape, leading to increased CPU and memory usage). Only call GradientTape.gradient inside the context if you actually want to trace the gradient in order to compute higher order derivatives.\n"
     ]
    },
    {
     "name": "stderr",
     "output_type": "stream",
     "text": [
      "DeepFool: 100%|██████████| 500/500 [38:45<00:00,  4.65s/it]\n"
     ]
    }
   ],
   "source": [
    "attack = DeepFool(classifier=classifier, epsilon=0.01)\n",
    "\n",
    "x_test_adv = attack.generate(x=x_test_trimmed)"
   ]
  },
  {
   "cell_type": "code",
   "execution_count": 10,
   "id": "dd866ac8-1922-451c-b115-4b2ba95fbb70",
   "metadata": {},
   "outputs": [
    {
     "name": "stdout",
     "output_type": "stream",
     "text": [
      "16/16 [==============================] - 0s 971us/step\n",
      "Accuracy: 0.268\n",
      "AUC: 0.5770002934896251\n",
      "\n",
      "macro\n",
      "Precision: 0.8010491469315\n",
      "Recall: 0.21143775100401604\n",
      "F1 Score: 0.18227665093336734\n",
      "\n",
      "weighted\n",
      "Precision: 0.7242594346829642\n",
      "Recall: 0.268\n",
      "F1 Score: 0.1862867712718459\n",
      "\n",
      "Mean FNR: 0.7885622489959839\n",
      "Mean TNR: 0.942562835975234\n",
      "Mean FPR: 0.057437164024765945\n",
      "Mean TPR: 0.21143775100401604\n"
     ]
    }
   ],
   "source": [
    "calculate_performance_metrics(x_test_adv, y_test_trimmed, model)"
   ]
  },
  {
   "cell_type": "code",
   "execution_count": 11,
   "id": "782384b1-6cfd-4a0c-be62-ba0829f6cd1b",
   "metadata": {},
   "outputs": [
    {
     "name": "stderr",
     "output_type": "stream",
     "text": [
      "DeepFool: 100%|██████████| 500/500 [40:24<00:00,  4.85s/it]\n"
     ]
    }
   ],
   "source": [
    "attack = DeepFool(classifier=classifier, epsilon=0.05)\n",
    "\n",
    "x_test_adv = attack.generate(x=x_test_trimmed)"
   ]
  },
  {
   "cell_type": "code",
   "execution_count": 12,
   "id": "26662a47-eac8-43ef-8ec6-d72e69bd9e45",
   "metadata": {},
   "outputs": [
    {
     "name": "stdout",
     "output_type": "stream",
     "text": [
      "16/16 [==============================] - 0s 832us/step\n",
      "Accuracy: 0.268\n",
      "AUC: 0.5770002934896251\n",
      "\n",
      "macro\n",
      "Precision: 0.8010491469315\n",
      "Recall: 0.21143775100401604\n",
      "F1 Score: 0.18227665093336734\n",
      "\n",
      "weighted\n",
      "Precision: 0.7242594346829642\n",
      "Recall: 0.268\n",
      "F1 Score: 0.1862867712718459\n",
      "\n",
      "Mean FNR: 0.7885622489959839\n",
      "Mean TNR: 0.942562835975234\n",
      "Mean FPR: 0.057437164024765945\n",
      "Mean TPR: 0.21143775100401604\n"
     ]
    }
   ],
   "source": [
    "calculate_performance_metrics(x_test_adv, y_test_trimmed, model)"
   ]
  },
  {
   "cell_type": "code",
   "execution_count": 42,
   "id": "1fa68d5b-31f9-4348-8827-dba47e3a71eb",
   "metadata": {},
   "outputs": [
    {
     "name": "stderr",
     "output_type": "stream",
     "text": [
      "DeepFool:   9%|▉         | 45/500 [04:56<49:46,  6.56s/it]"
     ]
    },
    {
     "name": "stdout",
     "output_type": "stream",
     "text": [
      "WARNING:tensorflow:Detecting that an object or model or tf.train.Checkpoint is being deleted with unrestored values. See the following logs for the specific values in question. To silence these warnings, use `status.expect_partial()`. See https://www.tensorflow.org/api_docs/python/tf/train/Checkpoint#restorefor details about the status object returned by the restore function.\n",
      "WARNING:tensorflow:Value in checkpoint could not be found in the restored object: (root).keras_api.metrics.0.total\n",
      "WARNING:tensorflow:Value in checkpoint could not be found in the restored object: (root).keras_api.metrics.0.count\n",
      "WARNING:tensorflow:Value in checkpoint could not be found in the restored object: (root).keras_api.metrics.1.total\n",
      "WARNING:tensorflow:Value in checkpoint could not be found in the restored object: (root).keras_api.metrics.1.count\n"
     ]
    },
    {
     "name": "stderr",
     "output_type": "stream",
     "text": [
      "DeepFool: 100%|██████████| 500/500 [55:22<00:00,  6.65s/it]\n"
     ]
    }
   ],
   "source": [
    "attack = DeepFool(classifier=classifier, epsilon=0.1)\n",
    "\n",
    "x_test_adv = attack.generate(x=x_test_trimmed)"
   ]
  },
  {
   "cell_type": "code",
   "execution_count": 43,
   "id": "62903e8a-f02b-446e-97e9-d71c20522028",
   "metadata": {},
   "outputs": [
    {
     "name": "stdout",
     "output_type": "stream",
     "text": [
      "16/16 [==============================] - 0s 781us/step\n",
      "Accuracy: 0.268\n",
      "AUC: 0.5770860080505064\n",
      "\n",
      "macro\n",
      "Precision: 0.8010491469315\n",
      "Recall: 0.21143775100401604\n",
      "F1 Score: 0.18227665093336734\n",
      "\n",
      "weighted\n",
      "Precision: 0.7242594346829642\n",
      "Recall: 0.268\n",
      "F1 Score: 0.1862867712718459\n",
      "\n",
      "Mean FNR: 0.7885622489959839\n",
      "Mean TNR: 0.942562835975234\n",
      "Mean FPR: 0.057437164024765945\n",
      "Mean TPR: 0.21143775100401604\n"
     ]
    }
   ],
   "source": [
    "calculate_performance_metrics(x_test_adv, y_test_trimmed, model)"
   ]
  },
  {
   "cell_type": "code",
   "execution_count": 44,
   "id": "f28b716d-46a2-42ef-aa1b-14085cb8df2d",
   "metadata": {},
   "outputs": [
    {
     "name": "stderr",
     "output_type": "stream",
     "text": [
      "DeepFool: 100%|██████████| 500/500 [56:00<00:00,  6.72s/it]\n"
     ]
    }
   ],
   "source": [
    "attack = DeepFool(classifier=classifier, epsilon=0.15)\n",
    "\n",
    "x_test_adv = attack.generate(x=x_test_trimmed)"
   ]
  },
  {
   "cell_type": "code",
   "execution_count": 45,
   "id": "7ec71533-52d1-4fb8-a45a-e04f6fb6dcb6",
   "metadata": {},
   "outputs": [
    {
     "name": "stdout",
     "output_type": "stream",
     "text": [
      "16/16 [==============================] - 0s 765us/step\n",
      "Accuracy: 0.268\n",
      "AUC: 0.5770860080505064\n",
      "\n",
      "macro\n",
      "Precision: 0.8010491469315\n",
      "Recall: 0.21143775100401604\n",
      "F1 Score: 0.18227665093336734\n",
      "\n",
      "weighted\n",
      "Precision: 0.7242594346829642\n",
      "Recall: 0.268\n",
      "F1 Score: 0.1862867712718459\n",
      "\n",
      "Mean FNR: 0.7885622489959839\n",
      "Mean TNR: 0.942562835975234\n",
      "Mean FPR: 0.057437164024765945\n",
      "Mean TPR: 0.21143775100401604\n"
     ]
    }
   ],
   "source": [
    "calculate_performance_metrics(x_test_adv, y_test_trimmed, model)"
   ]
  },
  {
   "cell_type": "code",
   "execution_count": 46,
   "id": "7d4f35e9-bb8c-4133-a5e5-acf35eed601e",
   "metadata": {},
   "outputs": [
    {
     "name": "stderr",
     "output_type": "stream",
     "text": [
      "DeepFool: 100%|██████████| 500/500 [56:02<00:00,  6.73s/it]\n"
     ]
    }
   ],
   "source": [
    "attack = DeepFool(classifier=classifier, epsilon=0.2)\n",
    "\n",
    "x_test_adv = attack.generate(x=x_test_trimmed)"
   ]
  },
  {
   "cell_type": "code",
   "execution_count": 47,
   "id": "a9b530df-4226-44fd-a497-a515f86c8253",
   "metadata": {},
   "outputs": [
    {
     "name": "stdout",
     "output_type": "stream",
     "text": [
      "16/16 [==============================] - 0s 764us/step\n",
      "Accuracy: 0.268\n",
      "AUC: 0.5770860080505064\n",
      "\n",
      "macro\n",
      "Precision: 0.8010491469315\n",
      "Recall: 0.21143775100401604\n",
      "F1 Score: 0.18227665093336734\n",
      "\n",
      "weighted\n",
      "Precision: 0.7242594346829642\n",
      "Recall: 0.268\n",
      "F1 Score: 0.1862867712718459\n",
      "\n",
      "Mean FNR: 0.7885622489959839\n",
      "Mean TNR: 0.942562835975234\n",
      "Mean FPR: 0.057437164024765945\n",
      "Mean TPR: 0.21143775100401604\n"
     ]
    }
   ],
   "source": [
    "calculate_performance_metrics(x_test_adv, y_test_trimmed, model)"
   ]
  },
  {
   "cell_type": "code",
   "execution_count": 48,
   "id": "0eae84c0-d5ac-456c-99c8-c6550cb9bb72",
   "metadata": {},
   "outputs": [
    {
     "name": "stderr",
     "output_type": "stream",
     "text": [
      "DeepFool: 100%|██████████| 500/500 [56:19<00:00,  6.76s/it]\n"
     ]
    }
   ],
   "source": [
    "attack = DeepFool(classifier=classifier, epsilon=0.25)\n",
    "\n",
    "x_test_adv = attack.generate(x=x_test_trimmed)"
   ]
  },
  {
   "cell_type": "code",
   "execution_count": 49,
   "id": "e437d254-7180-47bf-abc9-56e63fe95959",
   "metadata": {},
   "outputs": [
    {
     "name": "stdout",
     "output_type": "stream",
     "text": [
      "16/16 [==============================] - 0s 735us/step\n",
      "Accuracy: 0.268\n",
      "AUC: 0.5770860080505064\n",
      "\n",
      "macro\n",
      "Precision: 0.8010491469315\n",
      "Recall: 0.21143775100401604\n",
      "F1 Score: 0.18227665093336734\n",
      "\n",
      "weighted\n",
      "Precision: 0.7242594346829642\n",
      "Recall: 0.268\n",
      "F1 Score: 0.1862867712718459\n",
      "\n",
      "Mean FNR: 0.7885622489959839\n",
      "Mean TNR: 0.942562835975234\n",
      "Mean FPR: 0.057437164024765945\n",
      "Mean TPR: 0.21143775100401604\n"
     ]
    }
   ],
   "source": [
    "calculate_performance_metrics(x_test_adv, y_test_trimmed, model)"
   ]
  },
  {
   "cell_type": "code",
   "execution_count": 50,
   "id": "2cb1aaee-4241-41d0-bbac-fb68a9b62e53",
   "metadata": {},
   "outputs": [
    {
     "name": "stderr",
     "output_type": "stream",
     "text": [
      "DeepFool: 100%|██████████| 500/500 [56:20<00:00,  6.76s/it]\n"
     ]
    }
   ],
   "source": [
    "attack = DeepFool(classifier=classifier, epsilon=0.3)\n",
    "\n",
    "x_test_adv = attack.generate(x=x_test_trimmed)"
   ]
  },
  {
   "cell_type": "code",
   "execution_count": 51,
   "id": "f70a1330-42b4-4c32-8e87-72ccacb12880",
   "metadata": {},
   "outputs": [
    {
     "name": "stdout",
     "output_type": "stream",
     "text": [
      "16/16 [==============================] - 0s 745us/step\n",
      "Accuracy: 0.268\n",
      "AUC: 0.5770860080505064\n",
      "\n",
      "macro\n",
      "Precision: 0.8010491469315\n",
      "Recall: 0.21143775100401604\n",
      "F1 Score: 0.18227665093336734\n",
      "\n",
      "weighted\n",
      "Precision: 0.7242594346829642\n",
      "Recall: 0.268\n",
      "F1 Score: 0.1862867712718459\n",
      "\n",
      "Mean FNR: 0.7885622489959839\n",
      "Mean TNR: 0.942562835975234\n",
      "Mean FPR: 0.057437164024765945\n",
      "Mean TPR: 0.21143775100401604\n"
     ]
    }
   ],
   "source": [
    "calculate_performance_metrics(x_test_adv, y_test_trimmed, model)"
   ]
  },
  {
   "cell_type": "code",
   "execution_count": null,
   "id": "b5d47163-0e77-4dd8-8105-e635b730fb59",
   "metadata": {},
   "outputs": [],
   "source": []
  }
 ],
 "metadata": {
  "kernelspec": {
   "display_name": "Python 3 (ipykernel)",
   "language": "python",
   "name": "python3"
  },
  "language_info": {
   "codemirror_mode": {
    "name": "ipython",
    "version": 3
   },
   "file_extension": ".py",
   "mimetype": "text/x-python",
   "name": "python",
   "nbconvert_exporter": "python",
   "pygments_lexer": "ipython3",
   "version": "3.11.5"
  }
 },
 "nbformat": 4,
 "nbformat_minor": 5
}
