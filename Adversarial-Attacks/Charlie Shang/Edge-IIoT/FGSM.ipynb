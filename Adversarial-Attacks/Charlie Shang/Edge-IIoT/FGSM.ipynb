{
 "cells": [
  {
   "cell_type": "code",
   "execution_count": 1,
   "id": "c074e7bf-66b3-4603-9a73-571a3f128996",
   "metadata": {},
   "outputs": [
    {
     "name": "stderr",
     "output_type": "stream",
     "text": [
      "2024-02-26 02:46:30.292258: I tensorflow/core/util/port.cc:113] oneDNN custom operations are on. You may see slightly different numerical results due to floating-point round-off errors from different computation orders. To turn them off, set the environment variable `TF_ENABLE_ONEDNN_OPTS=0`.\n",
      "2024-02-26 02:46:30.295068: I external/local_tsl/tsl/cuda/cudart_stub.cc:31] Could not find cuda drivers on your machine, GPU will not be used.\n",
      "2024-02-26 02:46:30.324536: E external/local_xla/xla/stream_executor/cuda/cuda_dnn.cc:9261] Unable to register cuDNN factory: Attempting to register factory for plugin cuDNN when one has already been registered\n",
      "2024-02-26 02:46:30.324588: E external/local_xla/xla/stream_executor/cuda/cuda_fft.cc:607] Unable to register cuFFT factory: Attempting to register factory for plugin cuFFT when one has already been registered\n",
      "2024-02-26 02:46:30.325510: E external/local_xla/xla/stream_executor/cuda/cuda_blas.cc:1515] Unable to register cuBLAS factory: Attempting to register factory for plugin cuBLAS when one has already been registered\n",
      "2024-02-26 02:46:30.330894: I external/local_tsl/tsl/cuda/cudart_stub.cc:31] Could not find cuda drivers on your machine, GPU will not be used.\n",
      "2024-02-26 02:46:30.331891: I tensorflow/core/platform/cpu_feature_guard.cc:182] This TensorFlow binary is optimized to use available CPU instructions in performance-critical operations.\n",
      "To enable the following instructions: AVX2 AVX512F AVX512_VNNI AVX512_BF16 AVX_VNNI AMX_TILE AMX_INT8 AMX_BF16 FMA, in other operations, rebuild TensorFlow with the appropriate compiler flags.\n",
      "2024-02-26 02:46:31.193279: W tensorflow/compiler/tf2tensorrt/utils/py_utils.cc:38] TF-TRT Warning: Could not find TensorRT\n",
      "/opt/conda/lib/python3.11/site-packages/tqdm/auto.py:21: TqdmWarning: IProgress not found. Please update jupyter and ipywidgets. See https://ipywidgets.readthedocs.io/en/stable/user_install.html\n",
      "  from .autonotebook import tqdm as notebook_tqdm\n"
     ]
    }
   ],
   "source": [
    "import tensorflow as tf\n",
    "from tensorflow.keras.models import Sequential\n",
    "from tensorflow.keras.layers import Conv2D, MaxPooling2D, Dropout, Flatten, Dense\n",
    "\n",
    "from art.attacks.evasion import FastGradientMethod\n",
    "from art.estimators.classification import TensorFlowV2Classifier\n",
    "from art.utils import load_dataset\n",
    "\n",
    "import numpy as np\n",
    "import pandas as pd\n",
    "\n",
    "from sklearn import metrics\n",
    "\n",
    "import joblib"
   ]
  },
  {
   "cell_type": "code",
   "execution_count": 2,
   "id": "88abda9a-d288-401c-adb9-438c602ca769",
   "metadata": {},
   "outputs": [],
   "source": [
    "def calculate_performance_metrics(x_test, y_test, model):\n",
    "\n",
    "    # Predictions\n",
    "    y_pred = model.predict(x_test)\n",
    "    y_pred_classes = np.argmax(y_pred, axis=1)\n",
    "    \n",
    "    report = metrics.classification_report(y_test, y_pred_classes, output_dict=True, zero_division=1)\n",
    "    \n",
    "    precision_macro = report['macro avg']['precision']\n",
    "    precision_weighted = report['weighted avg']['precision']\n",
    "    accuracy = report['accuracy']\n",
    "    recall_macro = report['macro avg']['recall']\n",
    "    recall_weighted = report['weighted avg']['recall']\n",
    "    f1_macro = report['macro avg']['f1-score']\n",
    "    f1_weighted = report['weighted avg']['f1-score']\n",
    "    auc = metrics.roc_auc_score(y_test, y_pred, multi_class='ovr')\n",
    "\n",
    "    print(f\"Accuracy: {accuracy}\\nAUC: {auc}\")\n",
    "    \n",
    "    print(\"\\nmacro\")\n",
    "    print(f\"Precision: {precision_macro}\\nRecall: {recall_macro}\\nF1 Score: {f1_macro}\")\n",
    "\n",
    "    print(\"\\nweighted\")\n",
    "    print(f\"Precision: {precision_weighted}\\nRecall: {recall_weighted}\\nF1 Score: {f1_weighted}\")\n",
    "    print()\n",
    "    \n",
    "    # Confusion matrix for FNR, TNR, FPR, TPR\n",
    "    cm = metrics.confusion_matrix(y_test, y_pred_classes)\n",
    "    def calculate_rates(conf_matrix, class_index):\n",
    "        tp = conf_matrix[class_index, class_index]\n",
    "        fn = np.sum(conf_matrix[class_index, :]) - tp\n",
    "        fp = np.sum(conf_matrix[:, class_index]) - tp\n",
    "        tn = np.sum(conf_matrix) - (tp + fn + fp)\n",
    "    \n",
    "        fnr = fn / (fn + tp)\n",
    "        tnr = tn / (tn + fp)\n",
    "        fpr = fp / (fp + tn)\n",
    "        tpr = tp / (tp + fn)\n",
    "        return fnr, tnr, fpr, tpr\n",
    "\n",
    "    # Calculate and aggregate rates\n",
    "    fnrs, tnrs, fprs, tprs = [], [], [], []\n",
    "    for i in range(cm.shape[0]):\n",
    "        fnr, tnr, fpr, tpr = calculate_rates(cm, i)\n",
    "        fnrs.append(fnr)\n",
    "        tnrs.append(tnr)\n",
    "        fprs.append(fpr)\n",
    "        tprs.append(tpr)\n",
    "    \n",
    "    mean_fnr = np.mean(fnrs)\n",
    "    mean_tnr = np.mean(tnrs)\n",
    "    mean_fpr = np.mean(fprs)\n",
    "    mean_tpr = np.mean(tprs)\n",
    "\n",
    "    # Printing the mean metrics\n",
    "    print(f\"Mean FNR: {mean_fnr}\\nMean TNR: {mean_tnr}\\nMean FPR: {mean_fpr}\\nMean TPR: {mean_tpr}\")"
   ]
  },
  {
   "cell_type": "code",
   "execution_count": 3,
   "id": "75818739-8004-4cc5-b71a-89a23714c710",
   "metadata": {},
   "outputs": [],
   "source": [
    "x_train = pd.read_csv('/home/jovyan/Edge-IIoT/preprocessed_data/x_train.csv', low_memory=False)\n",
    "y_train = pd.read_csv('/home/jovyan/Edge-IIoT/preprocessed_data/y_train.csv', low_memory=False)\n",
    "x_val = pd.read_csv('/home/jovyan/Edge-IIoT/preprocessed_data/x_val.csv', low_memory=False)\n",
    "y_val = pd.read_csv('/home/jovyan/Edge-IIoT/preprocessed_data/y_val.csv', low_memory=False)\n",
    "x_test = pd.read_csv('/home/jovyan/Edge-IIoT/preprocessed_data/x_test.csv', low_memory=False)\n",
    "y_test = pd.read_csv('/home/jovyan/Edge-IIoT/preprocessed_data/y_test.csv', low_memory=False)"
   ]
  },
  {
   "cell_type": "code",
   "execution_count": 4,
   "id": "c67723de-16af-4b87-8593-7c054e46df28",
   "metadata": {},
   "outputs": [],
   "source": [
    "x_train = x_train.values\n",
    "y_train = y_train.values\n",
    "x_val = x_val.values\n",
    "y_val = y_val.values\n",
    "x_test = x_test.values\n",
    "y_test = y_test.values"
   ]
  },
  {
   "cell_type": "code",
   "execution_count": 5,
   "id": "ade3e6c4-ede1-4aa3-8811-7ec987ede255",
   "metadata": {},
   "outputs": [
    {
     "name": "stderr",
     "output_type": "stream",
     "text": [
      "2024-02-26 02:46:36.192903: W tensorflow/core/util/tensor_slice_reader.cc:98] Could not open ram://b048841d4a0547698852f2b8e14082a4: INVALID_ARGUMENT: ram://b048841d4a0547698852f2b8e14082a4 is a directory.\n"
     ]
    }
   ],
   "source": [
    "model = joblib.load(\"/home/jovyan/Edge-IIoT/dl/dl_new/dnn.joblib\")"
   ]
  },
  {
   "cell_type": "code",
   "execution_count": 6,
   "id": "4dd1c761-6b69-43e7-a677-26e3b42820ce",
   "metadata": {},
   "outputs": [
    {
     "data": {
      "text/plain": [
       "array([ 0,  1,  2,  3,  4,  5,  6,  7,  8,  9, 10, 11, 12, 13, 14])"
      ]
     },
     "execution_count": 6,
     "metadata": {},
     "output_type": "execute_result"
    }
   ],
   "source": [
    "np.unique(y_train)"
   ]
  },
  {
   "cell_type": "code",
   "execution_count": 7,
   "id": "4395cb1c-f65e-48bd-b1e4-a472620a7543",
   "metadata": {},
   "outputs": [],
   "source": [
    "classifier = TensorFlowV2Classifier(\n",
    "    model=model,\n",
    "    nb_classes=15,\n",
    "    input_shape=(48,),\n",
    "    loss_object=tf.keras.losses.SparseCategoricalCrossentropy(),\n",
    ")"
   ]
  },
  {
   "cell_type": "code",
   "execution_count": 8,
   "id": "f65d5c85-7f48-4386-83ac-bf71644904a2",
   "metadata": {},
   "outputs": [],
   "source": [
    "attack = FastGradientMethod(estimator=classifier, eps=0.01)\n",
    "\n",
    "x_test_adv = attack.generate(x=x_test)"
   ]
  },
  {
   "cell_type": "code",
   "execution_count": 9,
   "id": "64ff31cc-eae9-4842-82e8-687b2a772190",
   "metadata": {},
   "outputs": [
    {
     "name": "stdout",
     "output_type": "stream",
     "text": [
      "952/952 [==============================] - 1s 558us/step\n",
      "Accuracy: 0.2704993429697766\n",
      "AUC: 0.5555139898412941\n",
      "\n",
      "macro\n",
      "Precision: 0.7033848559449623\n",
      "Recall: 0.16727447457691766\n",
      "F1 Score: 0.1475918633790411\n",
      "\n",
      "weighted\n",
      "Precision: 0.6295950074705113\n",
      "Recall: 0.2704993429697766\n",
      "F1 Score: 0.1873969884629956\n",
      "\n",
      "Mean FNR: 0.8327255254230823\n",
      "Mean TNR: 0.9428654000976225\n",
      "Mean FPR: 0.05713459990237743\n",
      "Mean TPR: 0.16727447457691766\n"
     ]
    }
   ],
   "source": [
    "calculate_performance_metrics(x_test_adv, y_test, model)"
   ]
  },
  {
   "cell_type": "code",
   "execution_count": 10,
   "id": "19f73d11-b1c1-4d94-aaf5-2f1f1bd1b1ab",
   "metadata": {},
   "outputs": [],
   "source": [
    "attack = FastGradientMethod(estimator=classifier, eps=0.05)\n",
    "\n",
    "x_test_adv = attack.generate(x=x_test)"
   ]
  },
  {
   "cell_type": "code",
   "execution_count": 11,
   "id": "301e4cf0-68b1-46a0-8dea-aca7413aa344",
   "metadata": {},
   "outputs": [
    {
     "name": "stdout",
     "output_type": "stream",
     "text": [
      "952/952 [==============================] - 1s 578us/step\n",
      "Accuracy: 0.2704664914586071\n",
      "AUC: 0.5555187731258248\n",
      "\n",
      "macro\n",
      "Precision: 0.6367181892782956\n",
      "Recall: 0.1663612325677852\n",
      "F1 Score: 0.14645426013765103\n",
      "\n",
      "weighted\n",
      "Precision: 0.6232218143036257\n",
      "Recall: 0.2704664914586071\n",
      "F1 Score: 0.18735606613877345\n",
      "\n",
      "Mean FNR: 0.8336387674322148\n",
      "Mean TNR: 0.9428631959494157\n",
      "Mean FPR: 0.05713680405058435\n",
      "Mean TPR: 0.1663612325677852\n"
     ]
    }
   ],
   "source": [
    "calculate_performance_metrics(x_test_adv, y_test, model)"
   ]
  },
  {
   "cell_type": "code",
   "execution_count": 35,
   "id": "5b95584d-5876-41d8-9e8d-759299ba6f44",
   "metadata": {},
   "outputs": [],
   "source": [
    "attack = FastGradientMethod(estimator=classifier, eps=0.1)\n",
    "\n",
    "x_test_adv = attack.generate(x=x_test)"
   ]
  },
  {
   "cell_type": "code",
   "execution_count": 36,
   "id": "5f1bf0b7-4afa-44d6-b701-5147a6cd6514",
   "metadata": {},
   "outputs": [
    {
     "name": "stdout",
     "output_type": "stream",
     "text": [
      "952/952 [==============================] - 1s 586us/step\n",
      "Accuracy: 0.2704664914586071\n",
      "AUC: 0.5555211237415578\n",
      "\n",
      "macro\n",
      "Precision: 0.6367181892782956\n",
      "Recall: 0.1663612325677852\n",
      "F1 Score: 0.14645426013765103\n",
      "\n",
      "weighted\n",
      "Precision: 0.6232218143036257\n",
      "Recall: 0.2704664914586071\n",
      "F1 Score: 0.18735606613877345\n",
      "\n",
      "Mean FNR: 0.8336387674322148\n",
      "Mean TNR: 0.9428631959494157\n",
      "Mean FPR: 0.05713680405058435\n",
      "Mean TPR: 0.1663612325677852\n"
     ]
    }
   ],
   "source": [
    "calculate_performance_metrics(x_test_adv, y_test, model)"
   ]
  },
  {
   "cell_type": "code",
   "execution_count": 45,
   "id": "33a9cca4-3034-4428-ac40-d77c97df1016",
   "metadata": {},
   "outputs": [],
   "source": [
    "attack = FastGradientMethod(estimator=classifier, eps=0.15)\n",
    "\n",
    "x_test_adv = attack.generate(x=x_test)"
   ]
  },
  {
   "cell_type": "code",
   "execution_count": 46,
   "id": "9dc7401a-719c-4d69-9204-53be1b4993f5",
   "metadata": {},
   "outputs": [
    {
     "name": "stdout",
     "output_type": "stream",
     "text": [
      "952/952 [==============================] - 1s 579us/step\n",
      "Accuracy: 0.2704993429697766\n",
      "AUC: 0.5555219177654196\n",
      "\n",
      "macro\n",
      "Precision: 0.6367181892782956\n",
      "Recall: 0.16727447457691766\n",
      "F1 Score: 0.1475918633790411\n",
      "\n",
      "weighted\n",
      "Precision: 0.6232218143036257\n",
      "Recall: 0.2704993429697766\n",
      "F1 Score: 0.1873969884629956\n",
      "\n",
      "Mean FNR: 0.8327255254230823\n",
      "Mean TNR: 0.9428655366911969\n",
      "Mean FPR: 0.05713446330880328\n",
      "Mean TPR: 0.16727447457691766\n"
     ]
    }
   ],
   "source": [
    "calculate_performance_metrics(x_test_adv, y_test, model)"
   ]
  },
  {
   "cell_type": "code",
   "execution_count": 47,
   "id": "dec308aa-0440-47d7-89e8-2ee56bf84950",
   "metadata": {},
   "outputs": [],
   "source": [
    "attack = FastGradientMethod(estimator=classifier, eps=0.2)\n",
    "\n",
    "x_test_adv = attack.generate(x=x_test)"
   ]
  },
  {
   "cell_type": "code",
   "execution_count": 48,
   "id": "b5a6d221-a190-4c67-b288-ee1e1d0d0d95",
   "metadata": {},
   "outputs": [
    {
     "name": "stdout",
     "output_type": "stream",
     "text": [
      "952/952 [==============================] - 1s 581us/step\n",
      "Accuracy: 0.2704993429697766\n",
      "AUC: 0.5555219423681604\n",
      "\n",
      "macro\n",
      "Precision: 0.6367181892782956\n",
      "Recall: 0.16727447457691766\n",
      "F1 Score: 0.1475918633790411\n",
      "\n",
      "weighted\n",
      "Precision: 0.6232218143036257\n",
      "Recall: 0.2704993429697766\n",
      "F1 Score: 0.1873969884629956\n",
      "\n",
      "Mean FNR: 0.8327255254230823\n",
      "Mean TNR: 0.9428655366911969\n",
      "Mean FPR: 0.05713446330880328\n",
      "Mean TPR: 0.16727447457691766\n"
     ]
    }
   ],
   "source": [
    "calculate_performance_metrics(x_test_adv, y_test, model)"
   ]
  },
  {
   "cell_type": "code",
   "execution_count": 49,
   "id": "65f45c9a-1fc8-4de0-b8c8-dd044e2f178d",
   "metadata": {},
   "outputs": [],
   "source": [
    "attack = FastGradientMethod(estimator=classifier, eps=0.25)\n",
    "\n",
    "x_test_adv = attack.generate(x=x_test)"
   ]
  },
  {
   "cell_type": "code",
   "execution_count": 51,
   "id": "7e7ab15e-9a23-4b10-9c41-e62abef6c42d",
   "metadata": {},
   "outputs": [
    {
     "name": "stdout",
     "output_type": "stream",
     "text": [
      "952/952 [==============================] - 1s 587us/step\n",
      "Accuracy: 0.2704993429697766\n",
      "AUC: 0.5555219423681604\n",
      "\n",
      "macro\n",
      "Precision: 0.6367181892782956\n",
      "Recall: 0.16727447457691766\n",
      "F1 Score: 0.1475918633790411\n",
      "\n",
      "weighted\n",
      "Precision: 0.6232218143036257\n",
      "Recall: 0.2704993429697766\n",
      "F1 Score: 0.1873969884629956\n",
      "\n",
      "Mean FNR: 0.8327255254230823\n",
      "Mean TNR: 0.9428655366911969\n",
      "Mean FPR: 0.05713446330880328\n",
      "Mean TPR: 0.16727447457691766\n"
     ]
    }
   ],
   "source": [
    "calculate_performance_metrics(x_test_adv, y_test, model)"
   ]
  },
  {
   "cell_type": "code",
   "execution_count": 52,
   "id": "f947fc62-333e-4545-aa78-cee85993fe5c",
   "metadata": {},
   "outputs": [],
   "source": [
    "attack = FastGradientMethod(estimator=classifier, eps=0.3)\n",
    "\n",
    "x_test_adv = attack.generate(x=x_test)"
   ]
  },
  {
   "cell_type": "code",
   "execution_count": 53,
   "id": "6932efdd-64ea-4027-bab2-8c54fd3d14aa",
   "metadata": {},
   "outputs": [
    {
     "name": "stdout",
     "output_type": "stream",
     "text": [
      "952/952 [==============================] - 1s 585us/step\n",
      "Accuracy: 0.2704993429697766\n",
      "AUC: 0.5555231183545188\n",
      "\n",
      "macro\n",
      "Precision: 0.6367181892782956\n",
      "Recall: 0.16727447457691766\n",
      "F1 Score: 0.1475918633790411\n",
      "\n",
      "weighted\n",
      "Precision: 0.6232218143036257\n",
      "Recall: 0.2704993429697766\n",
      "F1 Score: 0.1873969884629956\n",
      "\n",
      "Mean FNR: 0.8327255254230823\n",
      "Mean TNR: 0.9428655366911969\n",
      "Mean FPR: 0.05713446330880328\n",
      "Mean TPR: 0.16727447457691766\n"
     ]
    }
   ],
   "source": [
    "calculate_performance_metrics(x_test_adv, y_test, model)"
   ]
  },
  {
   "cell_type": "code",
   "execution_count": null,
   "id": "01fecabc-2822-4d84-8a87-bfd5d8a92162",
   "metadata": {},
   "outputs": [],
   "source": []
  }
 ],
 "metadata": {
  "kernelspec": {
   "display_name": "Python 3 (ipykernel)",
   "language": "python",
   "name": "python3"
  },
  "language_info": {
   "codemirror_mode": {
    "name": "ipython",
    "version": 3
   },
   "file_extension": ".py",
   "mimetype": "text/x-python",
   "name": "python",
   "nbconvert_exporter": "python",
   "pygments_lexer": "ipython3",
   "version": "3.11.5"
  }
 },
 "nbformat": 4,
 "nbformat_minor": 5
}
