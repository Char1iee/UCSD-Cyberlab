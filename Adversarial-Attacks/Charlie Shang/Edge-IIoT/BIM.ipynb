{
 "cells": [
  {
   "cell_type": "code",
   "execution_count": 1,
   "id": "0de82456-354b-4095-9e22-ea5f04e19679",
   "metadata": {},
   "outputs": [
    {
     "name": "stderr",
     "output_type": "stream",
     "text": [
      "2024-02-26 03:07:54.265171: I tensorflow/core/util/port.cc:113] oneDNN custom operations are on. You may see slightly different numerical results due to floating-point round-off errors from different computation orders. To turn them off, set the environment variable `TF_ENABLE_ONEDNN_OPTS=0`.\n",
      "2024-02-26 03:07:54.268457: I external/local_tsl/tsl/cuda/cudart_stub.cc:31] Could not find cuda drivers on your machine, GPU will not be used.\n",
      "2024-02-26 03:07:54.306417: E external/local_xla/xla/stream_executor/cuda/cuda_dnn.cc:9261] Unable to register cuDNN factory: Attempting to register factory for plugin cuDNN when one has already been registered\n",
      "2024-02-26 03:07:54.306468: E external/local_xla/xla/stream_executor/cuda/cuda_fft.cc:607] Unable to register cuFFT factory: Attempting to register factory for plugin cuFFT when one has already been registered\n",
      "2024-02-26 03:07:54.308325: E external/local_xla/xla/stream_executor/cuda/cuda_blas.cc:1515] Unable to register cuBLAS factory: Attempting to register factory for plugin cuBLAS when one has already been registered\n",
      "2024-02-26 03:07:54.316541: I external/local_tsl/tsl/cuda/cudart_stub.cc:31] Could not find cuda drivers on your machine, GPU will not be used.\n",
      "2024-02-26 03:07:54.317395: I tensorflow/core/platform/cpu_feature_guard.cc:182] This TensorFlow binary is optimized to use available CPU instructions in performance-critical operations.\n",
      "To enable the following instructions: AVX2 AVX512F AVX512_VNNI AVX512_BF16 AVX_VNNI AMX_TILE AMX_INT8 AMX_BF16 FMA, in other operations, rebuild TensorFlow with the appropriate compiler flags.\n",
      "2024-02-26 03:07:54.971609: W tensorflow/compiler/tf2tensorrt/utils/py_utils.cc:38] TF-TRT Warning: Could not find TensorRT\n",
      "/opt/conda/lib/python3.11/site-packages/tqdm/auto.py:21: TqdmWarning: IProgress not found. Please update jupyter and ipywidgets. See https://ipywidgets.readthedocs.io/en/stable/user_install.html\n",
      "  from .autonotebook import tqdm as notebook_tqdm\n"
     ]
    }
   ],
   "source": [
    "import tensorflow as tf\n",
    "from tensorflow.keras.models import Sequential\n",
    "from tensorflow.keras.layers import Conv2D, MaxPooling2D, Dropout, Flatten, Dense\n",
    "\n",
    "from art.attacks.evasion import BasicIterativeMethod\n",
    "from art.estimators.classification import TensorFlowV2Classifier\n",
    "from art.utils import load_dataset\n",
    "\n",
    "import numpy as np\n",
    "import pandas as pd\n",
    "\n",
    "from sklearn import metrics\n",
    "\n",
    "import joblib"
   ]
  },
  {
   "cell_type": "code",
   "execution_count": 2,
   "id": "3ce6f39c-e49e-4032-a7e2-678a482c68a4",
   "metadata": {},
   "outputs": [],
   "source": [
    "def calculate_performance_metrics(x_test, y_test, model):\n",
    "\n",
    "    # Predictions\n",
    "    y_pred = model.predict(x_test)\n",
    "    y_pred_classes = np.argmax(y_pred, axis=1)\n",
    "    \n",
    "    report = metrics.classification_report(y_test, y_pred_classes, output_dict=True, zero_division=1)\n",
    "    \n",
    "    precision_macro = report['macro avg']['precision']\n",
    "    precision_weighted = report['weighted avg']['precision']\n",
    "    accuracy = report['accuracy']\n",
    "    recall_macro = report['macro avg']['recall']\n",
    "    recall_weighted = report['weighted avg']['recall']\n",
    "    f1_macro = report['macro avg']['f1-score']\n",
    "    f1_weighted = report['weighted avg']['f1-score']\n",
    "    auc = metrics.roc_auc_score(y_test, y_pred, multi_class='ovr')\n",
    "\n",
    "    print(f\"Accuracy: {accuracy}\\nAUC: {auc}\")\n",
    "    \n",
    "    print(\"\\nmacro\")\n",
    "    print(f\"Precision: {precision_macro}\\nRecall: {recall_macro}\\nF1 Score: {f1_macro}\")\n",
    "\n",
    "    print(\"\\nweighted\")\n",
    "    print(f\"Precision: {precision_weighted}\\nRecall: {recall_weighted}\\nF1 Score: {f1_weighted}\")\n",
    "    print()\n",
    "    \n",
    "    # Confusion matrix for FNR, TNR, FPR, TPR\n",
    "    cm = metrics.confusion_matrix(y_test, y_pred_classes)\n",
    "    def calculate_rates(conf_matrix, class_index):\n",
    "        tp = conf_matrix[class_index, class_index]\n",
    "        fn = np.sum(conf_matrix[class_index, :]) - tp\n",
    "        fp = np.sum(conf_matrix[:, class_index]) - tp\n",
    "        tn = np.sum(conf_matrix) - (tp + fn + fp)\n",
    "    \n",
    "        fnr = fn / (fn + tp)\n",
    "        tnr = tn / (tn + fp)\n",
    "        fpr = fp / (fp + tn)\n",
    "        tpr = tp / (tp + fn)\n",
    "        return fnr, tnr, fpr, tpr\n",
    "\n",
    "    # Calculate and aggregate rates\n",
    "    fnrs, tnrs, fprs, tprs = [], [], [], []\n",
    "    for i in range(cm.shape[0]):\n",
    "        fnr, tnr, fpr, tpr = calculate_rates(cm, i)\n",
    "        fnrs.append(fnr)\n",
    "        tnrs.append(tnr)\n",
    "        fprs.append(fpr)\n",
    "        tprs.append(tpr)\n",
    "    \n",
    "    mean_fnr = np.mean(fnrs)\n",
    "    mean_tnr = np.mean(tnrs)\n",
    "    mean_fpr = np.mean(fprs)\n",
    "    mean_tpr = np.mean(tprs)\n",
    "\n",
    "    # Printing the mean metrics\n",
    "    print(f\"Mean FNR: {mean_fnr}\\nMean TNR: {mean_tnr}\\nMean FPR: {mean_fpr}\\nMean TPR: {mean_tpr}\")"
   ]
  },
  {
   "cell_type": "code",
   "execution_count": 3,
   "id": "ac4f4ba5-dceb-4a58-8f94-3a8fcdeb2e85",
   "metadata": {},
   "outputs": [],
   "source": [
    "x_train = pd.read_csv('/home/jovyan/Edge-IIoT/preprocessed_data/x_train.csv', low_memory=False)\n",
    "y_train = pd.read_csv('/home/jovyan/Edge-IIoT/preprocessed_data/y_train.csv', low_memory=False)\n",
    "x_val = pd.read_csv('/home/jovyan/Edge-IIoT/preprocessed_data/x_val.csv', low_memory=False)\n",
    "y_val = pd.read_csv('/home/jovyan/Edge-IIoT/preprocessed_data/y_val.csv', low_memory=False)\n",
    "x_test = pd.read_csv('/home/jovyan/Edge-IIoT/preprocessed_data/x_test.csv', low_memory=False)\n",
    "y_test = pd.read_csv('/home/jovyan/Edge-IIoT/preprocessed_data/y_test.csv', low_memory=False)"
   ]
  },
  {
   "cell_type": "code",
   "execution_count": 4,
   "id": "027eed69-0253-41d4-b76f-9032bc393f8b",
   "metadata": {},
   "outputs": [],
   "source": [
    "x_train = x_train.values\n",
    "y_train = y_train.values\n",
    "x_val = x_val.values\n",
    "y_val = y_val.values\n",
    "x_test = x_test.values\n",
    "y_test = y_test.values"
   ]
  },
  {
   "cell_type": "code",
   "execution_count": 5,
   "id": "8abe00f0-44b2-4263-8679-aee5723dae2b",
   "metadata": {},
   "outputs": [
    {
     "name": "stderr",
     "output_type": "stream",
     "text": [
      "2024-02-26 03:08:00.489683: W tensorflow/core/util/tensor_slice_reader.cc:98] Could not open ram://d002dd8223dc4566b715384b7caccb44: INVALID_ARGUMENT: ram://d002dd8223dc4566b715384b7caccb44 is a directory.\n"
     ]
    }
   ],
   "source": [
    "model = joblib.load(\"/home/jovyan/Edge-IIoT/dl/dl_new/dnn.joblib\")"
   ]
  },
  {
   "cell_type": "code",
   "execution_count": 6,
   "id": "ad18f6af-273d-4e46-9bc6-3ac515959d1a",
   "metadata": {},
   "outputs": [],
   "source": [
    "classifier = TensorFlowV2Classifier(\n",
    "    model=model,\n",
    "    nb_classes=15,\n",
    "    input_shape=(48,),\n",
    "    loss_object=tf.keras.losses.SparseCategoricalCrossentropy(),\n",
    ")"
   ]
  },
  {
   "cell_type": "code",
   "execution_count": 7,
   "id": "c07c7738-5d13-4fa4-9754-d15918a969b9",
   "metadata": {},
   "outputs": [
    {
     "name": "stderr",
     "output_type": "stream",
     "text": [
      "                                       \r"
     ]
    }
   ],
   "source": [
    "# Initialize the Elastic Net attack\n",
    "attack = BasicIterativeMethod(estimator=classifier, eps=0.01)\n",
    "\n",
    "# Generate adversarial test examples\n",
    "x_test_adv = attack.generate(x=x_test)"
   ]
  },
  {
   "cell_type": "code",
   "execution_count": 8,
   "id": "b9c2fd2f-32a5-40cd-9673-ffc241f7ac3c",
   "metadata": {},
   "outputs": [
    {
     "name": "stdout",
     "output_type": "stream",
     "text": [
      "952/952 [==============================] - 1s 633us/step\n",
      "Accuracy: 0.2704993429697766\n",
      "AUC: 0.5555139898412941\n",
      "\n",
      "macro\n",
      "Precision: 0.7033848559449623\n",
      "Recall: 0.16727447457691766\n",
      "F1 Score: 0.1475918633790411\n",
      "\n",
      "weighted\n",
      "Precision: 0.6295950074705113\n",
      "Recall: 0.2704993429697766\n",
      "F1 Score: 0.1873969884629956\n",
      "\n",
      "Mean FNR: 0.8327255254230823\n",
      "Mean TNR: 0.9428654000976225\n",
      "Mean FPR: 0.05713459990237743\n",
      "Mean TPR: 0.16727447457691766\n"
     ]
    }
   ],
   "source": [
    "calculate_performance_metrics(x_test_adv, y_test, model)"
   ]
  },
  {
   "cell_type": "code",
   "execution_count": 9,
   "id": "6a733034-3fff-450f-8573-d45b61c90cec",
   "metadata": {},
   "outputs": [
    {
     "name": "stderr",
     "output_type": "stream",
     "text": [
      "                                       \r"
     ]
    }
   ],
   "source": [
    "# Initialize the Elastic Net attack\n",
    "attack = BasicIterativeMethod(estimator=classifier, eps=0.05)\n",
    "\n",
    "# Generate adversarial test examples\n",
    "x_test_adv = attack.generate(x=x_test)"
   ]
  },
  {
   "cell_type": "code",
   "execution_count": 10,
   "id": "06345864-f1db-42bb-b848-f7b67990b496",
   "metadata": {},
   "outputs": [
    {
     "name": "stdout",
     "output_type": "stream",
     "text": [
      "952/952 [==============================] - 1s 617us/step\n",
      "Accuracy: 0.2704664914586071\n",
      "AUC: 0.5555187731258248\n",
      "\n",
      "macro\n",
      "Precision: 0.6367181892782956\n",
      "Recall: 0.1663612325677852\n",
      "F1 Score: 0.14645426013765103\n",
      "\n",
      "weighted\n",
      "Precision: 0.6232218143036257\n",
      "Recall: 0.2704664914586071\n",
      "F1 Score: 0.18735606613877345\n",
      "\n",
      "Mean FNR: 0.8336387674322148\n",
      "Mean TNR: 0.9428631959494157\n",
      "Mean FPR: 0.05713680405058435\n",
      "Mean TPR: 0.1663612325677852\n"
     ]
    }
   ],
   "source": [
    "calculate_performance_metrics(x_test_adv, y_test, model)"
   ]
  },
  {
   "cell_type": "code",
   "execution_count": null,
   "id": "f8529b37-bb7a-4c47-861e-403dd68f607b",
   "metadata": {},
   "outputs": [
    {
     "name": "stderr",
     "output_type": "stream",
     "text": [
      "                                       \r"
     ]
    }
   ],
   "source": [
    "# Initialize the Elastic Net attack\n",
    "attack = BasicIterativeMethod(estimator=classifier, eps=0.1)\n",
    "\n",
    "# Generate adversarial test examples\n",
    "x_test_adv = attack.generate(x=x_test)"
   ]
  },
  {
   "cell_type": "code",
   "execution_count": 7,
   "id": "fe077a0a-472e-4d38-9ff0-50b3a15d1013",
   "metadata": {},
   "outputs": [
    {
     "name": "stdout",
     "output_type": "stream",
     "text": [
      "4383/4383 [==============================] - 3s 578us/step\n",
      "Accuracy: 0.2829850959138558\n",
      "AUC: 0.6678050706456131\n",
      "\n",
      "macro\n",
      "Precision: 0.19696619036899507\n",
      "Recall: 0.09417994161085466\n",
      "F1 Score: 0.07749355654933594\n",
      "\n",
      "weighted\n",
      "Precision: 0.3431187603796154\n",
      "Recall: 0.2829850959138558\n",
      "F1 Score: 0.3020850568918105\n",
      "\n",
      "Mean FNR: 0.9058200583891454\n",
      "Mean TNR: 0.9446008365549259\n",
      "Mean FPR: 0.05539916344507407\n",
      "Mean TPR: 0.09417994161085466\n"
     ]
    }
   ],
   "source": [
    "calculate_performance_metrics(x_test_adv, y_test, model)"
   ]
  },
  {
   "cell_type": "code",
   "execution_count": 7,
   "id": "146a6208-40d7-4cb1-ab0e-e6e0c9487dc6",
   "metadata": {},
   "outputs": [
    {
     "name": "stderr",
     "output_type": "stream",
     "text": [
      "                                        \r"
     ]
    }
   ],
   "source": [
    "# Initialize the Elastic Net attack\n",
    "attack = BasicIterativeMethod(estimator=classifier, eps=0.15)\n",
    "\n",
    "# Generate adversarial test examples\n",
    "x_test_adv = attack.generate(x=x_test)"
   ]
  },
  {
   "cell_type": "code",
   "execution_count": 8,
   "id": "d7835743-5a99-4e71-acce-b83b2f55d287",
   "metadata": {},
   "outputs": [
    {
     "name": "stdout",
     "output_type": "stream",
     "text": [
      "4383/4383 [==============================] - 3s 586us/step\n",
      "Accuracy: 0.11727875632888826\n",
      "AUC: 0.5402252572165684\n",
      "\n",
      "macro\n",
      "Precision: 0.14877687907102305\n",
      "Recall: 0.04197606194491521\n",
      "F1 Score: 0.0357596372735205\n",
      "\n",
      "weighted\n",
      "Precision: 0.18998974026237836\n",
      "Recall: 0.11727875632888826\n",
      "F1 Score: 0.14028347449813394\n",
      "\n",
      "Mean FNR: 0.9580239380550847\n",
      "Mean TNR: 0.9355652389956722\n",
      "Mean FPR: 0.0644347610043277\n",
      "Mean TPR: 0.04197606194491521\n"
     ]
    }
   ],
   "source": [
    "calculate_performance_metrics(x_test_adv, y_test, model)"
   ]
  },
  {
   "cell_type": "code",
   "execution_count": 9,
   "id": "68fdd781-1713-44a6-82c4-2f6734ad1aa0",
   "metadata": {},
   "outputs": [
    {
     "name": "stderr",
     "output_type": "stream",
     "text": [
      "                                        \r"
     ]
    }
   ],
   "source": [
    "# Initialize the Elastic Net attack\n",
    "attack = BasicIterativeMethod(estimator=classifier, eps=0.2)\n",
    "\n",
    "# Generate adversarial test examples\n",
    "x_test_adv = attack.generate(x=x_test)"
   ]
  },
  {
   "cell_type": "code",
   "execution_count": 10,
   "id": "5d3009ba-01fa-470e-861b-f715cea9b33c",
   "metadata": {},
   "outputs": [
    {
     "name": "stdout",
     "output_type": "stream",
     "text": [
      "4383/4383 [==============================] - 3s 583us/step\n",
      "Accuracy: 0.05160094131070384\n",
      "AUC: 0.46846056198429503\n",
      "\n",
      "macro\n",
      "Precision: 0.1256539536455159\n",
      "Recall: 0.02258123415217975\n",
      "F1 Score: 0.017419574384132986\n",
      "\n",
      "weighted\n",
      "Precision: 0.09673833648721825\n",
      "Recall: 0.05160094131070384\n",
      "F1 Score: 0.062146588476941725\n",
      "\n",
      "Mean FNR: 0.9774187658478204\n",
      "Mean TNR: 0.9332030607464389\n",
      "Mean FPR: 0.06679693925356105\n",
      "Mean TPR: 0.02258123415217975\n"
     ]
    }
   ],
   "source": [
    "calculate_performance_metrics(x_test_adv, y_test, model)"
   ]
  },
  {
   "cell_type": "code",
   "execution_count": 11,
   "id": "3cfa4100-1fe0-4c06-a804-100d691fe1f9",
   "metadata": {},
   "outputs": [
    {
     "name": "stderr",
     "output_type": "stream",
     "text": [
      "                                        \r"
     ]
    }
   ],
   "source": [
    "# Initialize the Elastic Net attack\n",
    "attack = BasicIterativeMethod(estimator=classifier, eps=0.25)\n",
    "\n",
    "# Generate adversarial test examples\n",
    "x_test_adv = attack.generate(x=x_test)"
   ]
  },
  {
   "cell_type": "code",
   "execution_count": 12,
   "id": "0a525874-5aed-4944-b102-2c69820f3003",
   "metadata": {},
   "outputs": [
    {
     "name": "stdout",
     "output_type": "stream",
     "text": [
      "4383/4383 [==============================] - 3s 580us/step\n",
      "Accuracy: 0.026050060614704416\n",
      "AUC: 0.42919190202287527\n",
      "\n",
      "macro\n",
      "Precision: 0.11575540428181848\n",
      "Recall: 0.014590880103849594\n",
      "F1 Score: 0.01004607537523594\n",
      "\n",
      "weighted\n",
      "Precision: 0.04811212656086451\n",
      "Recall: 0.026050060614704416\n",
      "F1 Score: 0.029563901468056746\n",
      "\n",
      "Mean FNR: 0.9854091198961503\n",
      "Mean TNR: 0.9318721708848697\n",
      "Mean FPR: 0.0681278291151302\n",
      "Mean TPR: 0.014590880103849594\n"
     ]
    }
   ],
   "source": [
    "calculate_performance_metrics(x_test_adv, y_test, model)"
   ]
  },
  {
   "cell_type": "code",
   "execution_count": 6,
   "id": "7f9fc7b1-ba24-425c-9c6c-bc66ece6fce3",
   "metadata": {},
   "outputs": [
    {
     "name": "stderr",
     "output_type": "stream",
     "text": [
      "                                        \r"
     ]
    }
   ],
   "source": [
    "# Initialize the Elastic Net attack\n",
    "attack = BasicIterativeMethod(estimator=classifier, eps=0.3)\n",
    "\n",
    "# Generate adversarial test examples\n",
    "x_test_adv = attack.generate(x=x_test)"
   ]
  },
  {
   "cell_type": "code",
   "execution_count": 7,
   "id": "7385de0a-394f-4900-92d6-41959ce0f40a",
   "metadata": {},
   "outputs": [
    {
     "name": "stdout",
     "output_type": "stream",
     "text": [
      "4383/4383 [==============================] - 3s 589us/step\n",
      "Accuracy: 0.016651215859659133\n",
      "AUC: 0.3462443276953082\n",
      "\n",
      "macro\n",
      "Precision: 0.057684522512523866\n",
      "Recall: 0.019883735906578694\n",
      "F1 Score: 0.006975360772884151\n",
      "\n",
      "weighted\n",
      "Precision: 0.015167758877872695\n",
      "Recall: 0.016651215859659133\n",
      "F1 Score: 0.010977232711232987\n",
      "\n",
      "Mean FNR: 0.9801162640934213\n",
      "Mean TNR: 0.9256961292610913\n",
      "Mean FPR: 0.07430387073890858\n",
      "Mean TPR: 0.019883735906578694\n"
     ]
    }
   ],
   "source": [
    "calculate_performance_metrics(x_test_adv, y_test, model)"
   ]
  },
  {
   "cell_type": "code",
   "execution_count": null,
   "id": "ec2cebff-c111-4132-9e08-f67633d5b97c",
   "metadata": {},
   "outputs": [],
   "source": []
  }
 ],
 "metadata": {
  "kernelspec": {
   "display_name": "Python 3 (ipykernel)",
   "language": "python",
   "name": "python3"
  },
  "language_info": {
   "codemirror_mode": {
    "name": "ipython",
    "version": 3
   },
   "file_extension": ".py",
   "mimetype": "text/x-python",
   "name": "python",
   "nbconvert_exporter": "python",
   "pygments_lexer": "ipython3",
   "version": "3.11.5"
  }
 },
 "nbformat": 4,
 "nbformat_minor": 5
}
