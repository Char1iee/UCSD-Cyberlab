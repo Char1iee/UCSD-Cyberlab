{
 "cells": [
  {
   "cell_type": "code",
   "execution_count": 1,
   "id": "7f24ad19-3eb0-4249-9bc4-84742b237df4",
   "metadata": {},
   "outputs": [
    {
     "name": "stderr",
     "output_type": "stream",
     "text": [
      "2024-02-26 02:42:32.594585: I tensorflow/core/util/port.cc:113] oneDNN custom operations are on. You may see slightly different numerical results due to floating-point round-off errors from different computation orders. To turn them off, set the environment variable `TF_ENABLE_ONEDNN_OPTS=0`.\n",
      "2024-02-26 02:42:32.597419: I external/local_tsl/tsl/cuda/cudart_stub.cc:31] Could not find cuda drivers on your machine, GPU will not be used.\n",
      "2024-02-26 02:42:32.629967: E external/local_xla/xla/stream_executor/cuda/cuda_dnn.cc:9261] Unable to register cuDNN factory: Attempting to register factory for plugin cuDNN when one has already been registered\n",
      "2024-02-26 02:42:32.630015: E external/local_xla/xla/stream_executor/cuda/cuda_fft.cc:607] Unable to register cuFFT factory: Attempting to register factory for plugin cuFFT when one has already been registered\n",
      "2024-02-26 02:42:32.631708: E external/local_xla/xla/stream_executor/cuda/cuda_blas.cc:1515] Unable to register cuBLAS factory: Attempting to register factory for plugin cuBLAS when one has already been registered\n",
      "2024-02-26 02:42:32.639058: I external/local_tsl/tsl/cuda/cudart_stub.cc:31] Could not find cuda drivers on your machine, GPU will not be used.\n",
      "2024-02-26 02:42:32.639409: I tensorflow/core/platform/cpu_feature_guard.cc:182] This TensorFlow binary is optimized to use available CPU instructions in performance-critical operations.\n",
      "To enable the following instructions: AVX2 AVX512F AVX512_VNNI AVX512_BF16 AVX_VNNI AMX_TILE AMX_INT8 AMX_BF16 FMA, in other operations, rebuild TensorFlow with the appropriate compiler flags.\n",
      "2024-02-26 02:42:33.383051: W tensorflow/compiler/tf2tensorrt/utils/py_utils.cc:38] TF-TRT Warning: Could not find TensorRT\n",
      "/opt/conda/lib/python3.11/site-packages/tqdm/auto.py:21: TqdmWarning: IProgress not found. Please update jupyter and ipywidgets. See https://ipywidgets.readthedocs.io/en/stable/user_install.html\n",
      "  from .autonotebook import tqdm as notebook_tqdm\n"
     ]
    }
   ],
   "source": [
    "import tensorflow as tf\n",
    "from tensorflow.keras.models import Sequential\n",
    "from tensorflow.keras.layers import Conv2D, MaxPooling2D, Dropout, Flatten, Dense\n",
    "from tensorflow.keras.losses import SparseCategoricalCrossentropy\n",
    "\n",
    "from art.attacks.evasion import SaliencyMapMethod\n",
    "from art.estimators.classification import TensorFlowV2Classifier\n",
    "from art.utils import load_dataset\n",
    "\n",
    "import numpy as np\n",
    "import pandas as pd\n",
    "\n",
    "from sklearn import metrics\n",
    "\n",
    "import joblib"
   ]
  },
  {
   "cell_type": "code",
   "execution_count": 2,
   "id": "6941a06e-0370-47a9-b213-88396719cf31",
   "metadata": {},
   "outputs": [],
   "source": [
    "def calculate_performance_metrics(x_test, y_test, model):\n",
    "\n",
    "    # Predictions\n",
    "    y_pred = model.predict(x_test)\n",
    "    y_pred_classes = np.argmax(y_pred, axis=1)\n",
    "    \n",
    "    report = metrics.classification_report(y_test, y_pred_classes, output_dict=True, zero_division=1)\n",
    "    \n",
    "    precision_macro = report['macro avg']['precision']\n",
    "    precision_weighted = report['weighted avg']['precision']\n",
    "    accuracy = report['accuracy']\n",
    "    recall_macro = report['macro avg']['recall']\n",
    "    recall_weighted = report['weighted avg']['recall']\n",
    "    f1_macro = report['macro avg']['f1-score']\n",
    "    f1_weighted = report['weighted avg']['f1-score']\n",
    "    auc = metrics.roc_auc_score(y_test, y_pred, multi_class='ovr')\n",
    "\n",
    "    print(f\"Accuracy: {accuracy}\\nAUC: {auc}\")\n",
    "    \n",
    "    print(\"\\nmacro\")\n",
    "    print(f\"Precision: {precision_macro}\\nRecall: {recall_macro}\\nF1 Score: {f1_macro}\")\n",
    "\n",
    "    print(\"\\nweighted\")\n",
    "    print(f\"Precision: {precision_weighted}\\nRecall: {recall_weighted}\\nF1 Score: {f1_weighted}\")\n",
    "    print()\n",
    "    \n",
    "    # Confusion matrix for FNR, TNR, FPR, TPR\n",
    "    cm = metrics.confusion_matrix(y_test, y_pred_classes)\n",
    "    def calculate_rates(conf_matrix, class_index):\n",
    "        tp = conf_matrix[class_index, class_index]\n",
    "        fn = np.sum(conf_matrix[class_index, :]) - tp\n",
    "        fp = np.sum(conf_matrix[:, class_index]) - tp\n",
    "        tn = np.sum(conf_matrix) - (tp + fn + fp)\n",
    "    \n",
    "        fnr = fn / (fn + tp)\n",
    "        tnr = tn / (tn + fp)\n",
    "        fpr = fp / (fp + tn)\n",
    "        tpr = tp / (tp + fn)\n",
    "        return fnr, tnr, fpr, tpr\n",
    "\n",
    "    # Calculate and aggregate rates\n",
    "    fnrs, tnrs, fprs, tprs = [], [], [], []\n",
    "    for i in range(cm.shape[0]):\n",
    "        fnr, tnr, fpr, tpr = calculate_rates(cm, i)\n",
    "        fnrs.append(fnr)\n",
    "        tnrs.append(tnr)\n",
    "        fprs.append(fpr)\n",
    "        tprs.append(tpr)\n",
    "    \n",
    "    mean_fnr = np.mean(fnrs)\n",
    "    mean_tnr = np.mean(tnrs)\n",
    "    mean_fpr = np.mean(fprs)\n",
    "    mean_tpr = np.mean(tprs)\n",
    "\n",
    "    # Printing the mean metrics\n",
    "    print(f\"Mean FNR: {mean_fnr}\\nMean TNR: {mean_tnr}\\nMean FPR: {mean_fpr}\\nMean TPR: {mean_tpr}\")"
   ]
  },
  {
   "cell_type": "code",
   "execution_count": 3,
   "id": "805f16f5-4d82-4e1c-802b-fd9b514f75d4",
   "metadata": {},
   "outputs": [],
   "source": [
    "x_train = pd.read_csv('/home/jovyan/Edge-IIoT/preprocessed_data/x_train.csv', low_memory=False)\n",
    "y_train = pd.read_csv('/home/jovyan/Edge-IIoT/preprocessed_data/y_train.csv', low_memory=False)\n",
    "x_val = pd.read_csv('/home/jovyan/Edge-IIoT/preprocessed_data/x_val.csv', low_memory=False)\n",
    "y_val = pd.read_csv('/home/jovyan/Edge-IIoT/preprocessed_data/y_val.csv', low_memory=False)\n",
    "x_test = pd.read_csv('/home/jovyan/Edge-IIoT/preprocessed_data/x_test.csv', low_memory=False)\n",
    "y_test = pd.read_csv('/home/jovyan/Edge-IIoT/preprocessed_data/y_test.csv', low_memory=False)"
   ]
  },
  {
   "cell_type": "code",
   "execution_count": 4,
   "id": "adb37be3-e5ef-468b-9c99-b9000229eca9",
   "metadata": {},
   "outputs": [],
   "source": [
    "x_train = x_train.values\n",
    "y_train = y_train.values\n",
    "x_val = x_val.values\n",
    "y_val = y_val.values\n",
    "x_test = x_test.values\n",
    "y_test = y_test.values"
   ]
  },
  {
   "cell_type": "code",
   "execution_count": 5,
   "id": "d75bd472-bef6-471a-aa9b-d869774b409a",
   "metadata": {},
   "outputs": [
    {
     "name": "stderr",
     "output_type": "stream",
     "text": [
      "2024-02-26 02:43:01.616992: W tensorflow/core/util/tensor_slice_reader.cc:98] Could not open ram://14465aecf1f645b3ad870fe0cc0b148e: INVALID_ARGUMENT: ram://14465aecf1f645b3ad870fe0cc0b148e is a directory.\n"
     ]
    }
   ],
   "source": [
    "model = joblib.load(\"/home/jovyan/Edge-IIoT/dl/dl_new/dnn.joblib\")"
   ]
  },
  {
   "cell_type": "code",
   "execution_count": 6,
   "id": "eb1a92d7-8427-479e-a18e-98cd4cc3b93d",
   "metadata": {},
   "outputs": [],
   "source": [
    "x_test_trimmed = x_test[20000:24000]\n",
    "y_test_trimmed = y_test[20000:24000]"
   ]
  },
  {
   "cell_type": "code",
   "execution_count": 7,
   "id": "596d5454-4971-4f0e-8a37-d0fd458aa267",
   "metadata": {},
   "outputs": [
    {
     "data": {
      "text/plain": [
       "array([ 0,  1,  2,  3,  4,  5,  6,  7,  8,  9, 10, 11, 12, 13, 14])"
      ]
     },
     "execution_count": 7,
     "metadata": {},
     "output_type": "execute_result"
    }
   ],
   "source": [
    "np.unique(y_test_trimmed)"
   ]
  },
  {
   "cell_type": "code",
   "execution_count": 8,
   "id": "3c2e8a30-f105-4844-8d53-014b5d99fb14",
   "metadata": {},
   "outputs": [],
   "source": [
    "classifier = TensorFlowV2Classifier(\n",
    "    model=model,\n",
    "    nb_classes=15,\n",
    "    input_shape=(48,),\n",
    "    loss_object=tf.keras.losses.SparseCategoricalCrossentropy(),\n",
    ")"
   ]
  },
  {
   "cell_type": "code",
   "execution_count": 9,
   "id": "1810b0cf-145a-40a7-a85a-852c5c490d96",
   "metadata": {},
   "outputs": [
    {
     "name": "stderr",
     "output_type": "stream",
     "text": [
      "/tmp/ipykernel_6265/1631696788.py:5: DeprecationWarning: `product` is deprecated as of NumPy 1.25.0, and will be removed in NumPy 2.0. Please use `prod` instead.\n",
      "  x_test_adv = attack.generate(x=x_test_trimmed)\n",
      "JSMA:   0%|          | 0/4000 [00:00<?, ?it/s]"
     ]
    },
    {
     "name": "stdout",
     "output_type": "stream",
     "text": [
      "WARNING:tensorflow:Calling GradientTape.gradient on a persistent tape inside its context is significantly less efficient than calling it outside the context (it causes the gradient ops to be recorded on the tape, leading to increased CPU and memory usage). Only call GradientTape.gradient inside the context if you actually want to trace the gradient in order to compute higher order derivatives.\n"
     ]
    },
    {
     "name": "stderr",
     "output_type": "stream",
     "text": [
      "JSMA: 100%|██████████| 4000/4000 [00:22<00:00, 175.51it/s]\n"
     ]
    }
   ],
   "source": [
    "# Initialize the JSMA attack\n",
    "attack = SaliencyMapMethod(classifier=classifier, theta=0.01, gamma = 0.01)\n",
    "\n",
    "# Generate adversarial examples\n",
    "x_test_adv = attack.generate(x=x_test_trimmed)"
   ]
  },
  {
   "cell_type": "code",
   "execution_count": 10,
   "id": "af321a17-c31f-464e-8e24-284fbd06aba1",
   "metadata": {},
   "outputs": [
    {
     "name": "stdout",
     "output_type": "stream",
     "text": [
      "125/125 [==============================] - 0s 674us/step\n",
      "Accuracy: 0.27825\n",
      "AUC: 0.5504878366054672\n",
      "\n",
      "macro\n",
      "Precision: 0.7382423780249172\n",
      "Recall: 0.15773780736987794\n",
      "F1 Score: 0.13489424720842152\n",
      "\n",
      "weighted\n",
      "Precision: 0.6603375613034231\n",
      "Recall: 0.27825\n",
      "F1 Score: 0.19493382366895173\n",
      "\n",
      "Mean FNR: 0.842262192630122\n",
      "Mean TNR: 0.9432378658410563\n",
      "Mean FPR: 0.05676213415894371\n",
      "Mean TPR: 0.15773780736987794\n"
     ]
    }
   ],
   "source": [
    "calculate_performance_metrics(x_test_adv, y_test_trimmed, model)"
   ]
  },
  {
   "cell_type": "code",
   "execution_count": 11,
   "id": "28c17675-a761-405d-8c6b-adb12e121746",
   "metadata": {},
   "outputs": [
    {
     "name": "stderr",
     "output_type": "stream",
     "text": [
      "/tmp/ipykernel_6265/2229238815.py:5: DeprecationWarning: `product` is deprecated as of NumPy 1.25.0, and will be removed in NumPy 2.0. Please use `prod` instead.\n",
      "  x_test_adv = attack.generate(x=x_test_trimmed)\n",
      "JSMA: 100%|██████████| 4000/4000 [00:22<00:00, 175.44it/s]\n"
     ]
    }
   ],
   "source": [
    "# Initialize the JSMA attack\n",
    "attack = SaliencyMapMethod(classifier=classifier, theta=0.05, gamma = 0.01)\n",
    "\n",
    "# Generate adversarial examples\n",
    "x_test_adv = attack.generate(x=x_test_trimmed)"
   ]
  },
  {
   "cell_type": "code",
   "execution_count": 12,
   "id": "323291fd-cdac-4653-a177-cbe893d2ce96",
   "metadata": {},
   "outputs": [
    {
     "name": "stdout",
     "output_type": "stream",
     "text": [
      "125/125 [==============================] - 0s 714us/step\n",
      "Accuracy: 0.27825\n",
      "AUC: 0.5504878366054672\n",
      "\n",
      "macro\n",
      "Precision: 0.7382423780249172\n",
      "Recall: 0.15773780736987794\n",
      "F1 Score: 0.13489424720842152\n",
      "\n",
      "weighted\n",
      "Precision: 0.6603375613034231\n",
      "Recall: 0.27825\n",
      "F1 Score: 0.19493382366895173\n",
      "\n",
      "Mean FNR: 0.842262192630122\n",
      "Mean TNR: 0.9432378658410563\n",
      "Mean FPR: 0.05676213415894371\n",
      "Mean TPR: 0.15773780736987794\n"
     ]
    }
   ],
   "source": [
    "calculate_performance_metrics(x_test_adv, y_test_trimmed, model)"
   ]
  },
  {
   "cell_type": "code",
   "execution_count": 24,
   "id": "c5c13dfa-eb49-41ea-bbb9-cd7e83183ff7",
   "metadata": {},
   "outputs": [
    {
     "name": "stderr",
     "output_type": "stream",
     "text": [
      "/tmp/ipykernel_36324/1183469131.py:5: DeprecationWarning: `product` is deprecated as of NumPy 1.25.0, and will be removed in NumPy 2.0. Please use `prod` instead.\n",
      "  x_test_adv = attack.generate(x=x_test_trimmed)\n",
      "JSMA: 100%|██████████| 4000/4000 [00:31<00:00, 125.19it/s]\n"
     ]
    }
   ],
   "source": [
    "# Initialize the JSMA attack\n",
    "attack = SaliencyMapMethod(classifier=classifier, theta=0.1, gamma = 0.01)\n",
    "\n",
    "# Generate adversarial examples\n",
    "x_test_adv = attack.generate(x=x_test_trimmed)"
   ]
  },
  {
   "cell_type": "code",
   "execution_count": 25,
   "id": "90474f6f-856f-4228-8ecd-e0fd139f0464",
   "metadata": {},
   "outputs": [
    {
     "name": "stdout",
     "output_type": "stream",
     "text": [
      "125/125 [==============================] - 0s 615us/step\n",
      "Accuracy: 0.27825\n",
      "AUC: 0.5504878366054672\n",
      "\n",
      "macro\n",
      "Precision: 0.7382423780249172\n",
      "Recall: 0.15773780736987794\n",
      "F1 Score: 0.13489424720842152\n",
      "\n",
      "weighted\n",
      "Precision: 0.6603375613034231\n",
      "Recall: 0.27825\n",
      "F1 Score: 0.19493382366895173\n",
      "\n",
      "Mean FNR: 0.842262192630122\n",
      "Mean TNR: 0.9432378658410563\n",
      "Mean FPR: 0.05676213415894371\n",
      "Mean TPR: 0.15773780736987794\n"
     ]
    }
   ],
   "source": [
    "calculate_performance_metrics(x_test_adv, y_test_trimmed, model)"
   ]
  },
  {
   "cell_type": "code",
   "execution_count": 26,
   "id": "ca97b618-f5f5-4019-8f01-c7106d184877",
   "metadata": {},
   "outputs": [
    {
     "name": "stderr",
     "output_type": "stream",
     "text": [
      "/tmp/ipykernel_36324/1855246553.py:5: DeprecationWarning: `product` is deprecated as of NumPy 1.25.0, and will be removed in NumPy 2.0. Please use `prod` instead.\n",
      "  x_test_adv = attack.generate(x=x_test_trimmed)\n",
      "JSMA: 100%|██████████| 4000/4000 [00:32<00:00, 121.60it/s]\n"
     ]
    }
   ],
   "source": [
    "# Initialize the JSMA attack\n",
    "attack = SaliencyMapMethod(classifier=classifier, theta=0.15, gamma = 0.01)\n",
    "\n",
    "# Generate adversarial examples\n",
    "x_test_adv = attack.generate(x=x_test_trimmed)"
   ]
  },
  {
   "cell_type": "code",
   "execution_count": 27,
   "id": "3fe73e48-6e14-4cbc-b23b-aff11933fc39",
   "metadata": {},
   "outputs": [
    {
     "name": "stdout",
     "output_type": "stream",
     "text": [
      "125/125 [==============================] - 0s 613us/step\n",
      "Accuracy: 0.27825\n",
      "AUC: 0.5504878366054672\n",
      "\n",
      "macro\n",
      "Precision: 0.7382423780249172\n",
      "Recall: 0.15773780736987794\n",
      "F1 Score: 0.13489424720842152\n",
      "\n",
      "weighted\n",
      "Precision: 0.6603375613034231\n",
      "Recall: 0.27825\n",
      "F1 Score: 0.19493382366895173\n",
      "\n",
      "Mean FNR: 0.842262192630122\n",
      "Mean TNR: 0.9432378658410563\n",
      "Mean FPR: 0.05676213415894371\n",
      "Mean TPR: 0.15773780736987794\n"
     ]
    }
   ],
   "source": [
    "calculate_performance_metrics(x_test_adv, y_test_trimmed, model)"
   ]
  },
  {
   "cell_type": "code",
   "execution_count": 28,
   "id": "7c4d2d69-0a5c-42e0-8c43-5821b353bbe1",
   "metadata": {},
   "outputs": [
    {
     "name": "stderr",
     "output_type": "stream",
     "text": [
      "/tmp/ipykernel_36324/1114785325.py:5: DeprecationWarning: `product` is deprecated as of NumPy 1.25.0, and will be removed in NumPy 2.0. Please use `prod` instead.\n",
      "  x_test_adv = attack.generate(x=x_test_trimmed)\n",
      "JSMA: 100%|██████████| 4000/4000 [00:32<00:00, 123.74it/s]\n"
     ]
    }
   ],
   "source": [
    "# Initialize the JSMA attack\n",
    "attack = SaliencyMapMethod(classifier=classifier, theta=0.2, gamma = 0.01)\n",
    "\n",
    "# Generate adversarial examples\n",
    "x_test_adv = attack.generate(x=x_test_trimmed)"
   ]
  },
  {
   "cell_type": "code",
   "execution_count": 29,
   "id": "f101b049-8eb1-4f87-a445-fe498cc8aa24",
   "metadata": {},
   "outputs": [
    {
     "name": "stdout",
     "output_type": "stream",
     "text": [
      "125/125 [==============================] - 0s 629us/step\n",
      "Accuracy: 0.27825\n",
      "AUC: 0.5504878366054672\n",
      "\n",
      "macro\n",
      "Precision: 0.7382423780249172\n",
      "Recall: 0.15773780736987794\n",
      "F1 Score: 0.13489424720842152\n",
      "\n",
      "weighted\n",
      "Precision: 0.6603375613034231\n",
      "Recall: 0.27825\n",
      "F1 Score: 0.19493382366895173\n",
      "\n",
      "Mean FNR: 0.842262192630122\n",
      "Mean TNR: 0.9432378658410563\n",
      "Mean FPR: 0.05676213415894371\n",
      "Mean TPR: 0.15773780736987794\n"
     ]
    }
   ],
   "source": [
    "calculate_performance_metrics(x_test_adv, y_test_trimmed, model)"
   ]
  },
  {
   "cell_type": "code",
   "execution_count": 30,
   "id": "7bb8971e-3e42-4998-a8e9-4f3ce0995adf",
   "metadata": {},
   "outputs": [
    {
     "name": "stderr",
     "output_type": "stream",
     "text": [
      "/tmp/ipykernel_36324/2667259709.py:5: DeprecationWarning: `product` is deprecated as of NumPy 1.25.0, and will be removed in NumPy 2.0. Please use `prod` instead.\n",
      "  x_test_adv = attack.generate(x=x_test_trimmed)\n",
      "JSMA: 100%|██████████| 4000/4000 [00:32<00:00, 124.57it/s]\n"
     ]
    }
   ],
   "source": [
    "# Initialize the JSMA attack\n",
    "attack = SaliencyMapMethod(classifier=classifier, theta=0.25, gamma = 0.01)\n",
    "\n",
    "# Generate adversarial examples\n",
    "x_test_adv = attack.generate(x=x_test_trimmed)"
   ]
  },
  {
   "cell_type": "code",
   "execution_count": 31,
   "id": "05f09f17-f76a-440c-80ca-b60cb81f4bf6",
   "metadata": {},
   "outputs": [
    {
     "name": "stdout",
     "output_type": "stream",
     "text": [
      "125/125 [==============================] - 0s 609us/step\n",
      "Accuracy: 0.27825\n",
      "AUC: 0.5504878366054672\n",
      "\n",
      "macro\n",
      "Precision: 0.7382423780249172\n",
      "Recall: 0.15773780736987794\n",
      "F1 Score: 0.13489424720842152\n",
      "\n",
      "weighted\n",
      "Precision: 0.6603375613034231\n",
      "Recall: 0.27825\n",
      "F1 Score: 0.19493382366895173\n",
      "\n",
      "Mean FNR: 0.842262192630122\n",
      "Mean TNR: 0.9432378658410563\n",
      "Mean FPR: 0.05676213415894371\n",
      "Mean TPR: 0.15773780736987794\n"
     ]
    }
   ],
   "source": [
    "calculate_performance_metrics(x_test_adv, y_test_trimmed, model)"
   ]
  },
  {
   "cell_type": "code",
   "execution_count": 32,
   "id": "ad0d9583-4a1f-4a65-a2f8-725c51bdae8e",
   "metadata": {},
   "outputs": [
    {
     "name": "stderr",
     "output_type": "stream",
     "text": [
      "/tmp/ipykernel_36324/1503088926.py:5: DeprecationWarning: `product` is deprecated as of NumPy 1.25.0, and will be removed in NumPy 2.0. Please use `prod` instead.\n",
      "  x_test_adv = attack.generate(x=x_test_trimmed)\n",
      "JSMA: 100%|██████████| 4000/4000 [00:32<00:00, 124.54it/s]\n"
     ]
    }
   ],
   "source": [
    "# Initialize the JSMA attack\n",
    "attack = SaliencyMapMethod(classifier=classifier, theta=0.3, gamma = 0.01)\n",
    "\n",
    "# Generate adversarial examples\n",
    "x_test_adv = attack.generate(x=x_test_trimmed)"
   ]
  },
  {
   "cell_type": "code",
   "execution_count": 33,
   "id": "9e253aaa-225d-40fd-8886-72dff72f5b61",
   "metadata": {},
   "outputs": [
    {
     "name": "stdout",
     "output_type": "stream",
     "text": [
      "125/125 [==============================] - 0s 620us/step\n",
      "Accuracy: 0.27825\n",
      "AUC: 0.5504878366054672\n",
      "\n",
      "macro\n",
      "Precision: 0.7382423780249172\n",
      "Recall: 0.15773780736987794\n",
      "F1 Score: 0.13489424720842152\n",
      "\n",
      "weighted\n",
      "Precision: 0.6603375613034231\n",
      "Recall: 0.27825\n",
      "F1 Score: 0.19493382366895173\n",
      "\n",
      "Mean FNR: 0.842262192630122\n",
      "Mean TNR: 0.9432378658410563\n",
      "Mean FPR: 0.05676213415894371\n",
      "Mean TPR: 0.15773780736987794\n"
     ]
    }
   ],
   "source": [
    "calculate_performance_metrics(x_test_adv, y_test_trimmed, model)"
   ]
  },
  {
   "cell_type": "code",
   "execution_count": null,
   "id": "05868421-03b6-4363-897a-f616e73beab2",
   "metadata": {},
   "outputs": [],
   "source": []
  }
 ],
 "metadata": {
  "kernelspec": {
   "display_name": "Python 3 (ipykernel)",
   "language": "python",
   "name": "python3"
  },
  "language_info": {
   "codemirror_mode": {
    "name": "ipython",
    "version": 3
   },
   "file_extension": ".py",
   "mimetype": "text/x-python",
   "name": "python",
   "nbconvert_exporter": "python",
   "pygments_lexer": "ipython3",
   "version": "3.11.5"
  }
 },
 "nbformat": 4,
 "nbformat_minor": 5
}
