{
 "cells": [
  {
   "cell_type": "code",
   "execution_count": 1,
   "id": "be6e67ee-0350-4197-bcfc-401515a6f47e",
   "metadata": {},
   "outputs": [
    {
     "name": "stderr",
     "output_type": "stream",
     "text": [
      "2024-02-26 03:07:20.762648: I tensorflow/core/util/port.cc:113] oneDNN custom operations are on. You may see slightly different numerical results due to floating-point round-off errors from different computation orders. To turn them off, set the environment variable `TF_ENABLE_ONEDNN_OPTS=0`.\n",
      "2024-02-26 03:07:20.765385: I external/local_tsl/tsl/cuda/cudart_stub.cc:31] Could not find cuda drivers on your machine, GPU will not be used.\n",
      "2024-02-26 03:07:20.794950: E external/local_xla/xla/stream_executor/cuda/cuda_dnn.cc:9261] Unable to register cuDNN factory: Attempting to register factory for plugin cuDNN when one has already been registered\n",
      "2024-02-26 03:07:20.795007: E external/local_xla/xla/stream_executor/cuda/cuda_fft.cc:607] Unable to register cuFFT factory: Attempting to register factory for plugin cuFFT when one has already been registered\n",
      "2024-02-26 03:07:20.795975: E external/local_xla/xla/stream_executor/cuda/cuda_blas.cc:1515] Unable to register cuBLAS factory: Attempting to register factory for plugin cuBLAS when one has already been registered\n",
      "2024-02-26 03:07:20.801461: I external/local_tsl/tsl/cuda/cudart_stub.cc:31] Could not find cuda drivers on your machine, GPU will not be used.\n",
      "2024-02-26 03:07:20.802373: I tensorflow/core/platform/cpu_feature_guard.cc:182] This TensorFlow binary is optimized to use available CPU instructions in performance-critical operations.\n",
      "To enable the following instructions: AVX2 AVX512F AVX512_VNNI AVX512_BF16 AVX_VNNI AMX_TILE AMX_INT8 AMX_BF16 FMA, in other operations, rebuild TensorFlow with the appropriate compiler flags.\n",
      "2024-02-26 03:07:21.618648: W tensorflow/compiler/tf2tensorrt/utils/py_utils.cc:38] TF-TRT Warning: Could not find TensorRT\n",
      "/opt/conda/lib/python3.11/site-packages/tqdm/auto.py:21: TqdmWarning: IProgress not found. Please update jupyter and ipywidgets. See https://ipywidgets.readthedocs.io/en/stable/user_install.html\n",
      "  from .autonotebook import tqdm as notebook_tqdm\n"
     ]
    }
   ],
   "source": [
    "import tensorflow as tf\n",
    "from tensorflow.keras.models import Sequential\n",
    "from tensorflow.keras.layers import Conv2D, MaxPooling2D, Dropout, Flatten, Dense\n",
    "\n",
    "from art.attacks.evasion import ProjectedGradientDescent\n",
    "from art.estimators.classification import TensorFlowV2Classifier\n",
    "from art.utils import load_dataset\n",
    "\n",
    "import numpy as np\n",
    "import pandas as pd\n",
    "\n",
    "from sklearn import metrics\n",
    "\n",
    "import joblib"
   ]
  },
  {
   "cell_type": "code",
   "execution_count": 2,
   "id": "cd61f690-d764-42d2-8f61-e4a6ac17bb8b",
   "metadata": {},
   "outputs": [],
   "source": [
    "def calculate_performance_metrics(x_test, y_test, model):\n",
    "\n",
    "    # Predictions\n",
    "    y_pred = model.predict(x_test)\n",
    "    y_pred_classes = np.argmax(y_pred, axis=1)\n",
    "    \n",
    "    report = metrics.classification_report(y_test, y_pred_classes, output_dict=True, zero_division=1)\n",
    "    \n",
    "    precision_macro = report['macro avg']['precision']\n",
    "    precision_weighted = report['weighted avg']['precision']\n",
    "    accuracy = report['accuracy']\n",
    "    recall_macro = report['macro avg']['recall']\n",
    "    recall_weighted = report['weighted avg']['recall']\n",
    "    f1_macro = report['macro avg']['f1-score']\n",
    "    f1_weighted = report['weighted avg']['f1-score']\n",
    "    auc = metrics.roc_auc_score(y_test, y_pred, multi_class='ovr')\n",
    "\n",
    "    print(f\"Accuracy: {accuracy}\\nAUC: {auc}\")\n",
    "    \n",
    "    print(\"\\nmacro\")\n",
    "    print(f\"Precision: {precision_macro}\\nRecall: {recall_macro}\\nF1 Score: {f1_macro}\")\n",
    "\n",
    "    print(\"\\nweighted\")\n",
    "    print(f\"Precision: {precision_weighted}\\nRecall: {recall_weighted}\\nF1 Score: {f1_weighted}\")\n",
    "    print()\n",
    "    \n",
    "    # Confusion matrix for FNR, TNR, FPR, TPR\n",
    "    cm = metrics.confusion_matrix(y_test, y_pred_classes)\n",
    "    def calculate_rates(conf_matrix, class_index):\n",
    "        tp = conf_matrix[class_index, class_index]\n",
    "        fn = np.sum(conf_matrix[class_index, :]) - tp\n",
    "        fp = np.sum(conf_matrix[:, class_index]) - tp\n",
    "        tn = np.sum(conf_matrix) - (tp + fn + fp)\n",
    "    \n",
    "        fnr = fn / (fn + tp)\n",
    "        tnr = tn / (tn + fp)\n",
    "        fpr = fp / (fp + tn)\n",
    "        tpr = tp / (tp + fn)\n",
    "        return fnr, tnr, fpr, tpr\n",
    "\n",
    "    # Calculate and aggregate rates\n",
    "    fnrs, tnrs, fprs, tprs = [], [], [], []\n",
    "    for i in range(cm.shape[0]):\n",
    "        fnr, tnr, fpr, tpr = calculate_rates(cm, i)\n",
    "        fnrs.append(fnr)\n",
    "        tnrs.append(tnr)\n",
    "        fprs.append(fpr)\n",
    "        tprs.append(tpr)\n",
    "    \n",
    "    mean_fnr = np.mean(fnrs)\n",
    "    mean_tnr = np.mean(tnrs)\n",
    "    mean_fpr = np.mean(fprs)\n",
    "    mean_tpr = np.mean(tprs)\n",
    "\n",
    "    # Printing the mean metrics\n",
    "    print(f\"Mean FNR: {mean_fnr}\\nMean TNR: {mean_tnr}\\nMean FPR: {mean_fpr}\\nMean TPR: {mean_tpr}\")"
   ]
  },
  {
   "cell_type": "code",
   "execution_count": 3,
   "id": "c9e931bf-6797-49aa-9780-fb41cd7b6777",
   "metadata": {},
   "outputs": [],
   "source": [
    "x_train = pd.read_csv('/home/jovyan/Edge-IIoT/preprocessed_data/x_train.csv', low_memory=False)\n",
    "y_train = pd.read_csv('/home/jovyan/Edge-IIoT/preprocessed_data/y_train.csv', low_memory=False)\n",
    "x_val = pd.read_csv('/home/jovyan/Edge-IIoT/preprocessed_data/x_val.csv', low_memory=False)\n",
    "y_val = pd.read_csv('/home/jovyan/Edge-IIoT/preprocessed_data/y_val.csv', low_memory=False)\n",
    "x_test = pd.read_csv('/home/jovyan/Edge-IIoT/preprocessed_data/x_test.csv', low_memory=False)\n",
    "y_test = pd.read_csv('/home/jovyan/Edge-IIoT/preprocessed_data/y_test.csv', low_memory=False)"
   ]
  },
  {
   "cell_type": "code",
   "execution_count": 4,
   "id": "569b71b1-7546-4b10-9812-9ca6bbfee871",
   "metadata": {},
   "outputs": [],
   "source": [
    "x_train = x_train.values\n",
    "y_train = y_train.values\n",
    "x_val = x_val.values\n",
    "y_val = y_val.values\n",
    "x_test = x_test.values\n",
    "y_test = y_test.values"
   ]
  },
  {
   "cell_type": "code",
   "execution_count": 5,
   "id": "bc1eaba0-78b4-48ff-946b-41d18cec41f2",
   "metadata": {},
   "outputs": [
    {
     "name": "stderr",
     "output_type": "stream",
     "text": [
      "2024-02-26 03:07:27.041194: W tensorflow/core/util/tensor_slice_reader.cc:98] Could not open ram://4fb0420b225d4206b0e7eb588270bfa6: INVALID_ARGUMENT: ram://4fb0420b225d4206b0e7eb588270bfa6 is a directory.\n"
     ]
    }
   ],
   "source": [
    "model = joblib.load(\"/home/jovyan/Edge-IIoT/dl/dl_new/dnn.joblib\")"
   ]
  },
  {
   "cell_type": "code",
   "execution_count": 6,
   "id": "f778d492-4b74-47f0-8aab-73339777edcb",
   "metadata": {},
   "outputs": [],
   "source": [
    "classifier = TensorFlowV2Classifier(\n",
    "    model=model,\n",
    "    nb_classes=15,\n",
    "    input_shape=(48,),\n",
    "    loss_object=tf.keras.losses.SparseCategoricalCrossentropy(),\n",
    ")"
   ]
  },
  {
   "cell_type": "code",
   "execution_count": 7,
   "id": "517bb907-f337-4b86-9648-53337f654297",
   "metadata": {},
   "outputs": [
    {
     "name": "stderr",
     "output_type": "stream",
     "text": [
      "                                       \r"
     ]
    }
   ],
   "source": [
    "# Initialize PGD attack\n",
    "attack = ProjectedGradientDescent(estimator=classifier, eps=0.01)\n",
    "\n",
    "# Generate adversarial test examples\n",
    "adv_test_examples = attack.generate(x=x_test)"
   ]
  },
  {
   "cell_type": "code",
   "execution_count": 8,
   "id": "c8ab3ad6-7a96-4639-b8d4-f56434371ccd",
   "metadata": {},
   "outputs": [
    {
     "name": "stdout",
     "output_type": "stream",
     "text": [
      "952/952 [==============================] - 1s 617us/step\n",
      "Accuracy: 0.2704993429697766\n",
      "AUC: 0.5555139898412941\n",
      "\n",
      "macro\n",
      "Precision: 0.7033848559449623\n",
      "Recall: 0.16727447457691766\n",
      "F1 Score: 0.1475918633790411\n",
      "\n",
      "weighted\n",
      "Precision: 0.6295950074705113\n",
      "Recall: 0.2704993429697766\n",
      "F1 Score: 0.1873969884629956\n",
      "\n",
      "Mean FNR: 0.8327255254230823\n",
      "Mean TNR: 0.9428654000976225\n",
      "Mean FPR: 0.05713459990237743\n",
      "Mean TPR: 0.16727447457691766\n"
     ]
    }
   ],
   "source": [
    "calculate_performance_metrics(adv_test_examples, y_test, model)"
   ]
  },
  {
   "cell_type": "code",
   "execution_count": 9,
   "id": "5f6091be-c37e-4093-8c80-a4274f9c1851",
   "metadata": {},
   "outputs": [
    {
     "name": "stderr",
     "output_type": "stream",
     "text": [
      "                                       \r"
     ]
    }
   ],
   "source": [
    "# Initialize PGD attack\n",
    "attack = ProjectedGradientDescent(estimator=classifier, eps=0.05)\n",
    "\n",
    "# Generate adversarial test examples\n",
    "adv_test_examples = attack.generate(x=x_test)"
   ]
  },
  {
   "cell_type": "code",
   "execution_count": 10,
   "id": "0a17c6df-5885-46dd-b9a4-af6db56842e0",
   "metadata": {},
   "outputs": [
    {
     "name": "stdout",
     "output_type": "stream",
     "text": [
      "952/952 [==============================] - 1s 612us/step\n",
      "Accuracy: 0.2704664914586071\n",
      "AUC: 0.5555187731258248\n",
      "\n",
      "macro\n",
      "Precision: 0.6367181892782956\n",
      "Recall: 0.1663612325677852\n",
      "F1 Score: 0.14645426013765103\n",
      "\n",
      "weighted\n",
      "Precision: 0.6232218143036257\n",
      "Recall: 0.2704664914586071\n",
      "F1 Score: 0.18735606613877345\n",
      "\n",
      "Mean FNR: 0.8336387674322148\n",
      "Mean TNR: 0.9428631959494157\n",
      "Mean FPR: 0.05713680405058435\n",
      "Mean TPR: 0.1663612325677852\n"
     ]
    }
   ],
   "source": [
    "calculate_performance_metrics(adv_test_examples, y_test, model)"
   ]
  },
  {
   "cell_type": "code",
   "execution_count": 24,
   "id": "b787aecb-ad28-4554-b840-d516f0760ffb",
   "metadata": {},
   "outputs": [
    {
     "name": "stderr",
     "output_type": "stream",
     "text": [
      "                                       \r"
     ]
    }
   ],
   "source": [
    "# Initialize PGD attack\n",
    "attack = ProjectedGradientDescent(estimator=classifier, eps=0.1)\n",
    "\n",
    "# Generate adversarial test examples\n",
    "adv_test_examples = attack.generate(x=x_test)"
   ]
  },
  {
   "cell_type": "code",
   "execution_count": 26,
   "id": "cb192c27-ae29-4afb-922f-e57834a744a6",
   "metadata": {},
   "outputs": [
    {
     "data": {
      "text/plain": [
       "array([[3.54400e+03, 0.00000e+00, 0.00000e+00, ..., 0.00000e+00,\n",
       "        0.00000e+00, 1.00000e+00],\n",
       "       [3.25510e+04, 0.00000e+00, 0.00000e+00, ..., 0.00000e+00,\n",
       "        0.00000e+00, 1.00000e+00],\n",
       "       [6.87330e+04, 0.00000e+00, 0.00000e+00, ..., 0.00000e+00,\n",
       "        0.00000e+00, 1.00000e+00],\n",
       "       ...,\n",
       "       [1.48579e+05, 0.00000e+00, 0.00000e+00, ..., 0.00000e+00,\n",
       "        0.00000e+00, 1.00000e+00],\n",
       "       [1.48917e+05, 0.00000e+00, 0.00000e+00, ..., 0.00000e+00,\n",
       "        0.00000e+00, 1.00000e+00],\n",
       "       [1.57514e+05, 0.00000e+00, 0.00000e+00, ..., 0.00000e+00,\n",
       "        0.00000e+00, 1.00000e+00]], dtype=float32)"
      ]
     },
     "execution_count": 26,
     "metadata": {},
     "output_type": "execute_result"
    }
   ],
   "source": [
    "adv_test_examples"
   ]
  },
  {
   "cell_type": "code",
   "execution_count": 25,
   "id": "8a4722ca-55e4-47ee-b04b-9cc2db379061",
   "metadata": {},
   "outputs": [
    {
     "name": "stdout",
     "output_type": "stream",
     "text": [
      "952/952 [==============================] - 1s 603us/step\n",
      "Accuracy: 0.2704993429697766\n",
      "AUC: 0.5555211237415578\n",
      "\n",
      "macro\n",
      "Precision: 0.6367181892782956\n",
      "Recall: 0.16727447457691766\n",
      "F1 Score: 0.1475918633790411\n",
      "\n",
      "weighted\n",
      "Precision: 0.6232218143036257\n",
      "Recall: 0.2704993429697766\n",
      "F1 Score: 0.1873969884629956\n",
      "\n",
      "Mean FNR: 0.8327255254230823\n",
      "Mean TNR: 0.9428655366911969\n",
      "Mean FPR: 0.05713446330880328\n",
      "Mean TPR: 0.16727447457691766\n"
     ]
    }
   ],
   "source": [
    "calculate_performance_metrics(adv_test_examples, y_test, model)"
   ]
  },
  {
   "cell_type": "code",
   "execution_count": 27,
   "id": "47c091a7-e69e-4ebf-be61-51449a2878ee",
   "metadata": {},
   "outputs": [
    {
     "name": "stderr",
     "output_type": "stream",
     "text": [
      "                                       \r"
     ]
    }
   ],
   "source": [
    "# Initialize PGD attack\n",
    "attack = ProjectedGradientDescent(estimator=classifier, eps=0.15)\n",
    "\n",
    "# Generate adversarial test examples\n",
    "adv_test_examples = attack.generate(x=x_test)"
   ]
  },
  {
   "cell_type": "code",
   "execution_count": 29,
   "id": "a6ffb1f2-a93f-407b-9773-78b9f88d5f72",
   "metadata": {},
   "outputs": [
    {
     "data": {
      "text/plain": [
       "array([[3.54400e+03, 0.00000e+00, 0.00000e+00, ..., 0.00000e+00,\n",
       "        0.00000e+00, 1.00000e+00],\n",
       "       [3.25510e+04, 0.00000e+00, 0.00000e+00, ..., 0.00000e+00,\n",
       "        0.00000e+00, 1.00000e+00],\n",
       "       [6.87330e+04, 0.00000e+00, 0.00000e+00, ..., 0.00000e+00,\n",
       "        0.00000e+00, 1.00000e+00],\n",
       "       ...,\n",
       "       [1.48579e+05, 0.00000e+00, 0.00000e+00, ..., 0.00000e+00,\n",
       "        0.00000e+00, 1.00000e+00],\n",
       "       [1.48917e+05, 0.00000e+00, 0.00000e+00, ..., 0.00000e+00,\n",
       "        0.00000e+00, 1.00000e+00],\n",
       "       [1.57514e+05, 0.00000e+00, 0.00000e+00, ..., 0.00000e+00,\n",
       "        0.00000e+00, 1.00000e+00]], dtype=float32)"
      ]
     },
     "execution_count": 29,
     "metadata": {},
     "output_type": "execute_result"
    }
   ],
   "source": [
    "adv_test_examples"
   ]
  },
  {
   "cell_type": "code",
   "execution_count": 28,
   "id": "20b7fd14-d8c2-48d7-83d0-4f1bce3af785",
   "metadata": {},
   "outputs": [
    {
     "name": "stdout",
     "output_type": "stream",
     "text": [
      "952/952 [==============================] - 1s 606us/step\n",
      "Accuracy: 0.2704993429697766\n",
      "AUC: 0.5555219177654196\n",
      "\n",
      "macro\n",
      "Precision: 0.6367181892782956\n",
      "Recall: 0.16727447457691766\n",
      "F1 Score: 0.1475918633790411\n",
      "\n",
      "weighted\n",
      "Precision: 0.6232218143036257\n",
      "Recall: 0.2704993429697766\n",
      "F1 Score: 0.1873969884629956\n",
      "\n",
      "Mean FNR: 0.8327255254230823\n",
      "Mean TNR: 0.9428655366911969\n",
      "Mean FPR: 0.05713446330880328\n",
      "Mean TPR: 0.16727447457691766\n"
     ]
    }
   ],
   "source": [
    "calculate_performance_metrics(adv_test_examples, y_test, model)"
   ]
  },
  {
   "cell_type": "code",
   "execution_count": 11,
   "id": "748ab693-e374-4d96-9a91-a3438dadf545",
   "metadata": {},
   "outputs": [
    {
     "name": "stderr",
     "output_type": "stream",
     "text": [
      "                                       \r"
     ]
    }
   ],
   "source": [
    "# Initialize PGD attack\n",
    "attack = ProjectedGradientDescent(estimator=classifier, eps=0.2)\n",
    "\n",
    "# Generate adversarial test examples\n",
    "adv_test_examples = attack.generate(x=x_test)"
   ]
  },
  {
   "cell_type": "code",
   "execution_count": 12,
   "id": "48913507-c4de-40e1-bbc9-7dbd4c51e8be",
   "metadata": {},
   "outputs": [
    {
     "name": "stdout",
     "output_type": "stream",
     "text": [
      "952/952 [==============================] - 1s 595us/step\n",
      "Accuracy: 0.2704993429697766\n",
      "AUC: 0.5555219423681604\n",
      "\n",
      "macro\n",
      "Precision: 0.6367181892782956\n",
      "Recall: 0.16727447457691766\n",
      "F1 Score: 0.1475918633790411\n",
      "\n",
      "weighted\n",
      "Precision: 0.6232218143036257\n",
      "Recall: 0.2704993429697766\n",
      "F1 Score: 0.1873969884629956\n",
      "\n",
      "Mean FNR: 0.8327255254230823\n",
      "Mean TNR: 0.9428655366911969\n",
      "Mean FPR: 0.05713446330880328\n",
      "Mean TPR: 0.16727447457691766\n"
     ]
    }
   ],
   "source": [
    "calculate_performance_metrics(adv_test_examples, y_test, model)"
   ]
  },
  {
   "cell_type": "code",
   "execution_count": 13,
   "id": "6f53afc2-eb14-4336-aaa6-b56c597a90d3",
   "metadata": {},
   "outputs": [
    {
     "name": "stderr",
     "output_type": "stream",
     "text": [
      "                                       \r"
     ]
    }
   ],
   "source": [
    "# Initialize PGD attack\n",
    "attack = ProjectedGradientDescent(estimator=classifier, eps=0.25)\n",
    "\n",
    "# Generate adversarial test examples\n",
    "adv_test_examples = attack.generate(x=x_test)"
   ]
  },
  {
   "cell_type": "code",
   "execution_count": 14,
   "id": "506006f9-d5ac-420e-9e8a-0bb6490ae4d7",
   "metadata": {},
   "outputs": [
    {
     "name": "stdout",
     "output_type": "stream",
     "text": [
      "952/952 [==============================] - 1s 593us/step\n",
      "Accuracy: 0.2704993429697766\n",
      "AUC: 0.5555242887254095\n",
      "\n",
      "macro\n",
      "Precision: 0.6367181892782956\n",
      "Recall: 0.16727447457691766\n",
      "F1 Score: 0.1475918633790411\n",
      "\n",
      "weighted\n",
      "Precision: 0.6232218143036257\n",
      "Recall: 0.2704993429697766\n",
      "F1 Score: 0.1873969884629956\n",
      "\n",
      "Mean FNR: 0.8327255254230823\n",
      "Mean TNR: 0.9428655366911969\n",
      "Mean FPR: 0.05713446330880328\n",
      "Mean TPR: 0.16727447457691766\n"
     ]
    }
   ],
   "source": [
    "calculate_performance_metrics(adv_test_examples, y_test, model)"
   ]
  },
  {
   "cell_type": "code",
   "execution_count": 15,
   "id": "06b5eb18-4bc2-4b26-b508-44d8f391e7b0",
   "metadata": {},
   "outputs": [
    {
     "name": "stderr",
     "output_type": "stream",
     "text": [
      "                                       \r"
     ]
    }
   ],
   "source": [
    "# Initialize PGD attack\n",
    "attack = ProjectedGradientDescent(estimator=classifier, eps=0.3)\n",
    "\n",
    "# Generate adversarial test examples\n",
    "adv_test_examples = attack.generate(x=x_test)"
   ]
  },
  {
   "cell_type": "code",
   "execution_count": 17,
   "id": "7d34dba4-3a53-421f-8301-244a0c1011e2",
   "metadata": {},
   "outputs": [
    {
     "name": "stdout",
     "output_type": "stream",
     "text": [
      "952/952 [==============================] - 1s 606us/step\n",
      "Accuracy: 0.2704993429697766\n",
      "AUC: 0.5555242887254095\n",
      "\n",
      "macro\n",
      "Precision: 0.6367181892782956\n",
      "Recall: 0.16727447457691766\n",
      "F1 Score: 0.1475918633790411\n",
      "\n",
      "weighted\n",
      "Precision: 0.6232218143036257\n",
      "Recall: 0.2704993429697766\n",
      "F1 Score: 0.1873969884629956\n",
      "\n",
      "Mean FNR: 0.8327255254230823\n",
      "Mean TNR: 0.9428655366911969\n",
      "Mean FPR: 0.05713446330880328\n",
      "Mean TPR: 0.16727447457691766\n"
     ]
    }
   ],
   "source": [
    "calculate_performance_metrics(adv_test_examples, y_test, model)"
   ]
  },
  {
   "cell_type": "code",
   "execution_count": null,
   "id": "1a6c959d-11bb-4fc5-9c0e-2d157b785d70",
   "metadata": {},
   "outputs": [],
   "source": []
  }
 ],
 "metadata": {
  "kernelspec": {
   "display_name": "Python 3 (ipykernel)",
   "language": "python",
   "name": "python3"
  },
  "language_info": {
   "codemirror_mode": {
    "name": "ipython",
    "version": 3
   },
   "file_extension": ".py",
   "mimetype": "text/x-python",
   "name": "python",
   "nbconvert_exporter": "python",
   "pygments_lexer": "ipython3",
   "version": "3.11.5"
  }
 },
 "nbformat": 4,
 "nbformat_minor": 5
}
