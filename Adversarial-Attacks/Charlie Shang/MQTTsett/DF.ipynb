{
 "cells": [
  {
   "cell_type": "code",
   "execution_count": 1,
   "id": "5fbbac85-d62c-490a-9473-01245518e829",
   "metadata": {},
   "outputs": [
    {
     "name": "stderr",
     "output_type": "stream",
     "text": [
      "2024-02-26 11:05:23.764349: I tensorflow/core/util/port.cc:113] oneDNN custom operations are on. You may see slightly different numerical results due to floating-point round-off errors from different computation orders. To turn them off, set the environment variable `TF_ENABLE_ONEDNN_OPTS=0`.\n",
      "2024-02-26 11:05:23.767015: I external/local_tsl/tsl/cuda/cudart_stub.cc:31] Could not find cuda drivers on your machine, GPU will not be used.\n",
      "2024-02-26 11:05:23.796539: E external/local_xla/xla/stream_executor/cuda/cuda_dnn.cc:9261] Unable to register cuDNN factory: Attempting to register factory for plugin cuDNN when one has already been registered\n",
      "2024-02-26 11:05:23.796597: E external/local_xla/xla/stream_executor/cuda/cuda_fft.cc:607] Unable to register cuFFT factory: Attempting to register factory for plugin cuFFT when one has already been registered\n",
      "2024-02-26 11:05:23.797614: E external/local_xla/xla/stream_executor/cuda/cuda_blas.cc:1515] Unable to register cuBLAS factory: Attempting to register factory for plugin cuBLAS when one has already been registered\n",
      "2024-02-26 11:05:23.802957: I external/local_tsl/tsl/cuda/cudart_stub.cc:31] Could not find cuda drivers on your machine, GPU will not be used.\n",
      "2024-02-26 11:05:23.804055: I tensorflow/core/platform/cpu_feature_guard.cc:182] This TensorFlow binary is optimized to use available CPU instructions in performance-critical operations.\n",
      "To enable the following instructions: AVX2 AVX512F AVX512_VNNI AVX512_BF16 AVX_VNNI AMX_TILE AMX_INT8 AMX_BF16 FMA, in other operations, rebuild TensorFlow with the appropriate compiler flags.\n",
      "2024-02-26 11:05:24.470187: W tensorflow/compiler/tf2tensorrt/utils/py_utils.cc:38] TF-TRT Warning: Could not find TensorRT\n",
      "/opt/conda/lib/python3.11/site-packages/tqdm/auto.py:21: TqdmWarning: IProgress not found. Please update jupyter and ipywidgets. See https://ipywidgets.readthedocs.io/en/stable/user_install.html\n",
      "  from .autonotebook import tqdm as notebook_tqdm\n"
     ]
    }
   ],
   "source": [
    "import tensorflow as tf\n",
    "from tensorflow.keras.models import Sequential\n",
    "from tensorflow.keras.layers import Conv2D, MaxPooling2D, Dropout, Flatten, Dense\n",
    "from tensorflow.keras.losses import SparseCategoricalCrossentropy\n",
    "\n",
    "from art.attacks.evasion import DeepFool\n",
    "from art.estimators.classification import TensorFlowV2Classifier\n",
    "from art.utils import load_dataset\n",
    "\n",
    "import numpy as np\n",
    "import pandas as pd\n",
    "\n",
    "from sklearn import metrics\n",
    "from warnings import simplefilter\n",
    "\n",
    "import joblib"
   ]
  },
  {
   "cell_type": "code",
   "execution_count": 2,
   "id": "130131c1-c01c-489e-8d9d-1cd858815787",
   "metadata": {},
   "outputs": [],
   "source": [
    "def calculate_performance_metrics(x_test, y_test, model):\n",
    "\n",
    "    # Predictions\n",
    "    y_pred = model.predict(x_test)\n",
    "    y_pred_classes = np.argmax(y_pred, axis=1)\n",
    "    \n",
    "    report = metrics.classification_report(y_test, y_pred_classes, output_dict=True, zero_division=1)\n",
    "    \n",
    "    precision_macro = report['macro avg']['precision']\n",
    "    precision_weighted = report['weighted avg']['precision']\n",
    "    accuracy = report['accuracy']\n",
    "    recall_macro = report['macro avg']['recall']\n",
    "    recall_weighted = report['weighted avg']['recall']\n",
    "    f1_macro = report['macro avg']['f1-score']\n",
    "    f1_weighted = report['weighted avg']['f1-score']\n",
    "    auc = metrics.roc_auc_score(y_test, y_pred, multi_class='ovr')\n",
    "\n",
    "    print(f\"Accuracy: {accuracy}\\nAUC: {auc}\")\n",
    "    \n",
    "    print(\"\\nmacro\")\n",
    "    print(f\"Precision: {precision_macro}\\nRecall: {recall_macro}\\nF1 Score: {f1_macro}\")\n",
    "\n",
    "    print(\"\\nweighted\")\n",
    "    print(f\"Precision: {precision_weighted}\\nRecall: {recall_weighted}\\nF1 Score: {f1_weighted}\")\n",
    "    print()\n",
    "    \n",
    "    # Confusion matrix for FNR, TNR, FPR, TPR\n",
    "    cm = metrics.confusion_matrix(y_test, y_pred_classes)\n",
    "    def calculate_rates(conf_matrix, class_index):\n",
    "        tp = conf_matrix[class_index, class_index]\n",
    "        fn = np.sum(conf_matrix[class_index, :]) - tp\n",
    "        fp = np.sum(conf_matrix[:, class_index]) - tp\n",
    "        tn = np.sum(conf_matrix) - (tp + fn + fp)\n",
    "    \n",
    "        fnr = fn / (fn + tp)\n",
    "        tnr = tn / (tn + fp)\n",
    "        fpr = fp / (fp + tn)\n",
    "        tpr = tp / (tp + fn)\n",
    "        return fnr, tnr, fpr, tpr\n",
    "\n",
    "    # Calculate and aggregate rates\n",
    "    fnrs, tnrs, fprs, tprs = [], [], [], []\n",
    "    for i in range(cm.shape[0]):\n",
    "        fnr, tnr, fpr, tpr = calculate_rates(cm, i)\n",
    "        fnrs.append(fnr)\n",
    "        tnrs.append(tnr)\n",
    "        fprs.append(fpr)\n",
    "        tprs.append(tpr)\n",
    "    \n",
    "    mean_fnr = np.mean(fnrs)\n",
    "    mean_tnr = np.mean(tnrs)\n",
    "    mean_fpr = np.mean(fprs)\n",
    "    mean_tpr = np.mean(tprs)\n",
    "\n",
    "    # Printing the mean metrics\n",
    "    print(f\"Mean FNR: {mean_fnr}\\nMean TNR: {mean_tnr}\\nMean FPR: {mean_fpr}\\nMean TPR: {mean_tpr}\")"
   ]
  },
  {
   "cell_type": "code",
   "execution_count": 3,
   "id": "b536545c-9fd8-48dc-bb15-201ff2b8357b",
   "metadata": {},
   "outputs": [
    {
     "name": "stdout",
     "output_type": "stream",
     "text": [
      "Ready to generate train and test datasets\n"
     ]
    }
   ],
   "source": [
    "#with two dataset splitted\n",
    "dftrain = pd.read_csv(\"/home/jovyan/MQTTset/train70_reduced.csv\") \n",
    "dftest = pd.read_csv(\"/home/jovyan/MQTTset/test30_reduced.csv\")\n",
    "\n",
    "# dftrain = pd.read_csv(\"train70.csv\", low_memory=False) \n",
    "# dftest = pd.read_csv(\"test30.csv\", low_memory=False)\n",
    "\n",
    "simplefilter(action='ignore', category=FutureWarning)\n",
    "seed = 7\n",
    "\n",
    "#train\n",
    "#print(dftrain.loc[dftrain['target'] == 'legitimate'])\n",
    "class_names = dftrain.target.unique()\n",
    "dftrain=dftrain.astype('category')\n",
    "cat_columns = dftrain.select_dtypes(['category']).columns\n",
    "dftrain[cat_columns] = dftrain[cat_columns].apply(lambda x: x.cat.codes)\n",
    "#print(dftrain.loc[125, 'target'])\n",
    "x_columns = dftrain.columns.drop('target')\n",
    "x_train = dftrain[x_columns].values\n",
    "y_train = dftrain['target']\n",
    "\n",
    "#test\n",
    "class_names = dftest.target.unique()\n",
    "dftest=dftest.astype('category')\n",
    "cat_columns = dftest.select_dtypes(['category']).columns\n",
    "dftest[cat_columns] = dftest[cat_columns].apply(lambda x: x.cat.codes)\n",
    "x_columns = dftest.columns.drop('target')\n",
    "x_test = dftest[x_columns].values\n",
    "y_test = dftest['target']\n",
    "\n",
    "print(\"Ready to generate train and test datasets\")\n",
    "\n",
    "from sklearn import preprocessing\n",
    "scaler = preprocessing.MinMaxScaler()\n",
    "x_train_scaled = scaler.fit_transform(x_train)\n",
    "x_test_scaled = scaler.transform(x_test)\n",
    "\n",
    "x_train = np.copy(x_train_scaled)\n",
    "x_test = np.copy(x_test_scaled)"
   ]
  },
  {
   "cell_type": "code",
   "execution_count": 4,
   "id": "676f3948-6b4b-49d9-980d-5ebe7a58dba8",
   "metadata": {},
   "outputs": [
    {
     "name": "stderr",
     "output_type": "stream",
     "text": [
      "2024-02-26 11:05:29.623941: W tensorflow/core/util/tensor_slice_reader.cc:98] Could not open ram://1cec13c142d04b8cb798d5230a461acf: INVALID_ARGUMENT: ram://1cec13c142d04b8cb798d5230a461acf is a directory.\n"
     ]
    }
   ],
   "source": [
    "model = joblib.load(\"/home/jovyan/MQTTset/dl/new_dl/dnn.joblib\")"
   ]
  },
  {
   "cell_type": "code",
   "execution_count": 5,
   "id": "51da522d-90ab-4431-8df4-68b1b9e54115",
   "metadata": {},
   "outputs": [],
   "source": [
    "x_test_trimmed = x_test[1400:1700]\n",
    "y_test_trimmed = y_test[1400:1700]"
   ]
  },
  {
   "cell_type": "code",
   "execution_count": 6,
   "id": "ced35082-cc95-4daf-ac2d-a0734eed63bd",
   "metadata": {},
   "outputs": [],
   "source": [
    "classifier = TensorFlowV2Classifier(\n",
    "    model=model,\n",
    "    nb_classes=6,\n",
    "    input_shape=(33,),\n",
    "    loss_object=tf.keras.losses.SparseCategoricalCrossentropy(),\n",
    ")"
   ]
  },
  {
   "cell_type": "code",
   "execution_count": 7,
   "id": "c73702d9-b565-4be2-87e1-b8c03b122d03",
   "metadata": {},
   "outputs": [
    {
     "name": "stderr",
     "output_type": "stream",
     "text": [
      "DeepFool:   0%|          | 0/300 [00:00<?, ?it/s]"
     ]
    },
    {
     "name": "stdout",
     "output_type": "stream",
     "text": [
      "WARNING:tensorflow:Calling GradientTape.gradient on a persistent tape inside its context is significantly less efficient than calling it outside the context (it causes the gradient ops to be recorded on the tape, leading to increased CPU and memory usage). Only call GradientTape.gradient inside the context if you actually want to trace the gradient in order to compute higher order derivatives.\n"
     ]
    },
    {
     "name": "stderr",
     "output_type": "stream",
     "text": [
      "DeepFool: 100%|██████████| 300/300 [00:11<00:00, 26.26it/s]\n"
     ]
    }
   ],
   "source": [
    "attack = DeepFool(classifier=classifier, epsilon=0.01)\n",
    "\n",
    "x_test_adv = attack.generate(x=x_test_trimmed)"
   ]
  },
  {
   "cell_type": "code",
   "execution_count": 8,
   "id": "b1a2fd67-5346-4cfa-81c1-df5b1b28e3f5",
   "metadata": {},
   "outputs": [
    {
     "name": "stdout",
     "output_type": "stream",
     "text": [
      "10/10 [==============================] - 0s 1ms/step\n",
      "Accuracy: 0.24333333333333335\n",
      "AUC: 0.5518087132274815\n",
      "\n",
      "macro\n",
      "Precision: 0.5736281929990539\n",
      "Recall: 0.21777389277389278\n",
      "F1 Score: 0.10335622390487936\n",
      "\n",
      "weighted\n",
      "Precision: 0.6625999684642069\n",
      "Recall: 0.24333333333333335\n",
      "F1 Score: 0.22461601711536905\n",
      "\n",
      "Mean FNR: 0.7822261072261072\n",
      "Mean TNR: 0.83114584576224\n",
      "Mean FPR: 0.16885415423776004\n",
      "Mean TPR: 0.21777389277389278\n"
     ]
    }
   ],
   "source": [
    "calculate_performance_metrics(x_test_adv, y_test_trimmed, model)"
   ]
  },
  {
   "cell_type": "code",
   "execution_count": 9,
   "id": "e5c3b7aa-7263-434c-851b-5bb8bf4ee5a2",
   "metadata": {},
   "outputs": [
    {
     "name": "stderr",
     "output_type": "stream",
     "text": [
      "DeepFool: 100%|██████████| 300/300 [00:11<00:00, 26.25it/s]\n"
     ]
    }
   ],
   "source": [
    "attack = DeepFool(classifier=classifier, epsilon=0.05)\n",
    "\n",
    "x_test_adv = attack.generate(x=x_test_trimmed)"
   ]
  },
  {
   "cell_type": "code",
   "execution_count": 10,
   "id": "4907fab0-66a3-4181-82f9-80e5d9b72916",
   "metadata": {},
   "outputs": [
    {
     "name": "stdout",
     "output_type": "stream",
     "text": [
      "10/10 [==============================] - 0s 888us/step\n",
      "Accuracy: 0.24\n",
      "AUC: 0.5543646439679756\n",
      "\n",
      "macro\n",
      "Precision: 0.573203201310773\n",
      "Recall: 0.2164918414918415\n",
      "F1 Score: 0.10238647430298285\n",
      "\n",
      "weighted\n",
      "Precision: 0.6618541450042538\n",
      "Recall: 0.24\n",
      "F1 Score: 0.2227127696956919\n",
      "\n",
      "Mean FNR: 0.7835081585081585\n",
      "Mean TNR: 0.8309728353816173\n",
      "Mean FPR: 0.16902716461838285\n",
      "Mean TPR: 0.2164918414918415\n"
     ]
    }
   ],
   "source": [
    "calculate_performance_metrics(x_test_adv, y_test_trimmed, model)"
   ]
  },
  {
   "cell_type": "code",
   "execution_count": 9,
   "id": "1fa68d5b-31f9-4348-8827-dba47e3a71eb",
   "metadata": {},
   "outputs": [
    {
     "name": "stderr",
     "output_type": "stream",
     "text": [
      "DeepFool:   0%|          | 0/300 [00:00<?, ?it/s]"
     ]
    },
    {
     "name": "stdout",
     "output_type": "stream",
     "text": [
      "WARNING:tensorflow:Calling GradientTape.gradient on a persistent tape inside its context is significantly less efficient than calling it outside the context (it causes the gradient ops to be recorded on the tape, leading to increased CPU and memory usage). Only call GradientTape.gradient inside the context if you actually want to trace the gradient in order to compute higher order derivatives.\n"
     ]
    },
    {
     "name": "stderr",
     "output_type": "stream",
     "text": [
      "DeepFool: 100%|██████████| 300/300 [04:42<00:00,  1.06it/s]\n"
     ]
    }
   ],
   "source": [
    "attack = DeepFool(classifier=classifier, epsilon=0.1)\n",
    "\n",
    "x_test_adv = attack.generate(x=x_test_trimmed)"
   ]
  },
  {
   "cell_type": "code",
   "execution_count": 10,
   "id": "62903e8a-f02b-446e-97e9-d71c20522028",
   "metadata": {},
   "outputs": [
    {
     "name": "stdout",
     "output_type": "stream",
     "text": [
      "10/10 [==============================] - 0s 822us/step\n",
      "Accuracy: 0.37\n",
      "AUC: 0.6679295307953943\n",
      "\n",
      "macro\n",
      "Precision: 0.1433740250338611\n",
      "Recall: 0.20640609390609388\n",
      "F1 Score: 0.15675555892346835\n",
      "\n",
      "weighted\n",
      "Precision: 0.29206181151877875\n",
      "Recall: 0.37\n",
      "F1 Score: 0.3082362890620278\n",
      "\n",
      "Mean FNR: 0.7935939060939061\n",
      "Mean TNR: 0.8547903095418957\n",
      "Mean FPR: 0.14520969045810428\n",
      "Mean TPR: 0.20640609390609388\n"
     ]
    }
   ],
   "source": [
    "calculate_performance_metrics(x_test_adv, y_test_trimmed, model)"
   ]
  },
  {
   "cell_type": "code",
   "execution_count": 11,
   "id": "f28b716d-46a2-42ef-aa1b-14085cb8df2d",
   "metadata": {},
   "outputs": [
    {
     "name": "stderr",
     "output_type": "stream",
     "text": [
      "DeepFool: 100%|██████████| 300/300 [04:44<00:00,  1.05it/s]\n"
     ]
    }
   ],
   "source": [
    "attack = DeepFool(classifier=classifier, epsilon=0.15)\n",
    "\n",
    "x_test_adv = attack.generate(x=x_test_trimmed)"
   ]
  },
  {
   "cell_type": "code",
   "execution_count": 12,
   "id": "7ec71533-52d1-4fb8-a45a-e04f6fb6dcb6",
   "metadata": {},
   "outputs": [
    {
     "name": "stdout",
     "output_type": "stream",
     "text": [
      "10/10 [==============================] - 0s 787us/step\n",
      "Accuracy: 0.37\n",
      "AUC: 0.666743588342151\n",
      "\n",
      "macro\n",
      "Precision: 0.1433740250338611\n",
      "Recall: 0.20640609390609388\n",
      "F1 Score: 0.15675555892346835\n",
      "\n",
      "weighted\n",
      "Precision: 0.29206181151877875\n",
      "Recall: 0.37\n",
      "F1 Score: 0.3082362890620278\n",
      "\n",
      "Mean FNR: 0.7935939060939061\n",
      "Mean TNR: 0.8547903095418957\n",
      "Mean FPR: 0.14520969045810428\n",
      "Mean TPR: 0.20640609390609388\n"
     ]
    }
   ],
   "source": [
    "calculate_performance_metrics(x_test_adv, y_test_trimmed, model)"
   ]
  },
  {
   "cell_type": "code",
   "execution_count": 13,
   "id": "7d4f35e9-bb8c-4133-a5e5-acf35eed601e",
   "metadata": {},
   "outputs": [
    {
     "name": "stderr",
     "output_type": "stream",
     "text": [
      "DeepFool: 100%|██████████| 300/300 [04:45<00:00,  1.05it/s]\n"
     ]
    }
   ],
   "source": [
    "attack = DeepFool(classifier=classifier, epsilon=0.2)\n",
    "\n",
    "x_test_adv = attack.generate(x=x_test_trimmed)"
   ]
  },
  {
   "cell_type": "code",
   "execution_count": 14,
   "id": "a9b530df-4226-44fd-a497-a515f86c8253",
   "metadata": {},
   "outputs": [
    {
     "name": "stdout",
     "output_type": "stream",
     "text": [
      "10/10 [==============================] - 0s 744us/step\n",
      "Accuracy: 0.37\n",
      "AUC: 0.6656662022307355\n",
      "\n",
      "macro\n",
      "Precision: 0.14552425407874786\n",
      "Recall: 0.20640609390609388\n",
      "F1 Score: 0.15777386094910212\n",
      "\n",
      "weighted\n",
      "Precision: 0.2936741205125785\n",
      "Recall: 0.37\n",
      "F1 Score: 0.30925605001167705\n",
      "\n",
      "Mean FNR: 0.7935939060939061\n",
      "Mean TNR: 0.8551900640420453\n",
      "Mean FPR: 0.1448099359579547\n",
      "Mean TPR: 0.20640609390609388\n"
     ]
    }
   ],
   "source": [
    "calculate_performance_metrics(x_test_adv, y_test_trimmed, model)"
   ]
  },
  {
   "cell_type": "code",
   "execution_count": 15,
   "id": "0eae84c0-d5ac-456c-99c8-c6550cb9bb72",
   "metadata": {},
   "outputs": [
    {
     "name": "stderr",
     "output_type": "stream",
     "text": [
      "DeepFool: 100%|██████████| 300/300 [04:46<00:00,  1.05it/s]\n"
     ]
    }
   ],
   "source": [
    "attack = DeepFool(classifier=classifier, epsilon=0.25)\n",
    "\n",
    "x_test_adv = attack.generate(x=x_test_trimmed)"
   ]
  },
  {
   "cell_type": "code",
   "execution_count": 16,
   "id": "e437d254-7180-47bf-abc9-56e63fe95959",
   "metadata": {},
   "outputs": [
    {
     "name": "stdout",
     "output_type": "stream",
     "text": [
      "10/10 [==============================] - 0s 740us/step\n",
      "Accuracy: 0.37\n",
      "AUC: 0.6647721301623806\n",
      "\n",
      "macro\n",
      "Precision: 0.14329757605222848\n",
      "Recall: 0.20640609390609388\n",
      "F1 Score: 0.1566787828552668\n",
      "\n",
      "weighted\n",
      "Precision: 0.29332137749986725\n",
      "Recall: 0.37\n",
      "F1 Score: 0.3090860540007531\n",
      "\n",
      "Mean FNR: 0.7935939060939061\n",
      "Mean TNR: 0.8551940004300157\n",
      "Mean FPR: 0.1448059995699843\n",
      "Mean TPR: 0.20640609390609388\n"
     ]
    }
   ],
   "source": [
    "calculate_performance_metrics(x_test_adv, y_test_trimmed, model)"
   ]
  },
  {
   "cell_type": "code",
   "execution_count": 17,
   "id": "2cb1aaee-4241-41d0-bbac-fb68a9b62e53",
   "metadata": {},
   "outputs": [
    {
     "name": "stderr",
     "output_type": "stream",
     "text": [
      "DeepFool: 100%|██████████| 300/300 [04:47<00:00,  1.04it/s]\n"
     ]
    }
   ],
   "source": [
    "attack = DeepFool(classifier=classifier, epsilon=0.3)\n",
    "\n",
    "x_test_adv = attack.generate(x=x_test_trimmed)"
   ]
  },
  {
   "cell_type": "code",
   "execution_count": 18,
   "id": "f70a1330-42b4-4c32-8e87-72ccacb12880",
   "metadata": {},
   "outputs": [
    {
     "name": "stdout",
     "output_type": "stream",
     "text": [
      "10/10 [==============================] - 0s 771us/step\n",
      "Accuracy: 0.37\n",
      "AUC: 0.6631944443196393\n",
      "\n",
      "macro\n",
      "Precision: 0.14329757605222848\n",
      "Recall: 0.20640609390609388\n",
      "F1 Score: 0.1566787828552668\n",
      "\n",
      "weighted\n",
      "Precision: 0.29332137749986725\n",
      "Recall: 0.37\n",
      "F1 Score: 0.3090860540007531\n",
      "\n",
      "Mean FNR: 0.7935939060939061\n",
      "Mean TNR: 0.8551940004300157\n",
      "Mean FPR: 0.1448059995699843\n",
      "Mean TPR: 0.20640609390609388\n"
     ]
    }
   ],
   "source": [
    "calculate_performance_metrics(x_test_adv, y_test_trimmed, model)"
   ]
  },
  {
   "cell_type": "code",
   "execution_count": null,
   "id": "b5d47163-0e77-4dd8-8105-e635b730fb59",
   "metadata": {},
   "outputs": [],
   "source": []
  }
 ],
 "metadata": {
  "kernelspec": {
   "display_name": "Python 3 (ipykernel)",
   "language": "python",
   "name": "python3"
  },
  "language_info": {
   "codemirror_mode": {
    "name": "ipython",
    "version": 3
   },
   "file_extension": ".py",
   "mimetype": "text/x-python",
   "name": "python",
   "nbconvert_exporter": "python",
   "pygments_lexer": "ipython3",
   "version": "3.11.5"
  }
 },
 "nbformat": 4,
 "nbformat_minor": 5
}
