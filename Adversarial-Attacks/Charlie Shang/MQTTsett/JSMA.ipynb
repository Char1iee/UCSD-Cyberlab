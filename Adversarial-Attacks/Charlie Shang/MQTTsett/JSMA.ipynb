{
 "cells": [
  {
   "cell_type": "code",
   "execution_count": 1,
   "id": "7f24ad19-3eb0-4249-9bc4-84742b237df4",
   "metadata": {},
   "outputs": [
    {
     "name": "stderr",
     "output_type": "stream",
     "text": [
      "2024-02-26 08:54:05.564949: I tensorflow/core/util/port.cc:113] oneDNN custom operations are on. You may see slightly different numerical results due to floating-point round-off errors from different computation orders. To turn them off, set the environment variable `TF_ENABLE_ONEDNN_OPTS=0`.\n",
      "2024-02-26 08:54:05.567570: I external/local_tsl/tsl/cuda/cudart_stub.cc:31] Could not find cuda drivers on your machine, GPU will not be used.\n",
      "2024-02-26 08:54:05.597086: E external/local_xla/xla/stream_executor/cuda/cuda_dnn.cc:9261] Unable to register cuDNN factory: Attempting to register factory for plugin cuDNN when one has already been registered\n",
      "2024-02-26 08:54:05.597143: E external/local_xla/xla/stream_executor/cuda/cuda_fft.cc:607] Unable to register cuFFT factory: Attempting to register factory for plugin cuFFT when one has already been registered\n",
      "2024-02-26 08:54:05.598166: E external/local_xla/xla/stream_executor/cuda/cuda_blas.cc:1515] Unable to register cuBLAS factory: Attempting to register factory for plugin cuBLAS when one has already been registered\n",
      "2024-02-26 08:54:05.603481: I external/local_tsl/tsl/cuda/cudart_stub.cc:31] Could not find cuda drivers on your machine, GPU will not be used.\n",
      "2024-02-26 08:54:05.604002: I tensorflow/core/platform/cpu_feature_guard.cc:182] This TensorFlow binary is optimized to use available CPU instructions in performance-critical operations.\n",
      "To enable the following instructions: AVX2 AVX512F AVX512_VNNI AVX512_BF16 AVX_VNNI AMX_TILE AMX_INT8 AMX_BF16 FMA, in other operations, rebuild TensorFlow with the appropriate compiler flags.\n",
      "2024-02-26 08:54:06.262325: W tensorflow/compiler/tf2tensorrt/utils/py_utils.cc:38] TF-TRT Warning: Could not find TensorRT\n",
      "/opt/conda/lib/python3.11/site-packages/tqdm/auto.py:21: TqdmWarning: IProgress not found. Please update jupyter and ipywidgets. See https://ipywidgets.readthedocs.io/en/stable/user_install.html\n",
      "  from .autonotebook import tqdm as notebook_tqdm\n"
     ]
    }
   ],
   "source": [
    "import tensorflow as tf\n",
    "from tensorflow.keras.models import Sequential\n",
    "from tensorflow.keras.layers import Conv2D, MaxPooling2D, Dropout, Flatten, Dense\n",
    "from tensorflow.keras.losses import SparseCategoricalCrossentropy\n",
    "\n",
    "from art.attacks.evasion import SaliencyMapMethod\n",
    "from art.estimators.classification import TensorFlowV2Classifier\n",
    "from art.utils import load_dataset\n",
    "\n",
    "import numpy as np\n",
    "import pandas as pd\n",
    "\n",
    "from sklearn import metrics\n",
    "from warnings import simplefilter\n",
    "\n",
    "import joblib"
   ]
  },
  {
   "cell_type": "code",
   "execution_count": 2,
   "id": "6941a06e-0370-47a9-b213-88396719cf31",
   "metadata": {},
   "outputs": [],
   "source": [
    "def calculate_performance_metrics(x_test, y_test, model):\n",
    "\n",
    "    # Predictions\n",
    "    y_pred = model.predict(x_test)\n",
    "    y_pred_classes = np.argmax(y_pred, axis=1)\n",
    "    \n",
    "    report = metrics.classification_report(y_test, y_pred_classes, output_dict=True, zero_division=1)\n",
    "    \n",
    "    precision_macro = report['macro avg']['precision']\n",
    "    precision_weighted = report['weighted avg']['precision']\n",
    "    accuracy = report['accuracy']\n",
    "    recall_macro = report['macro avg']['recall']\n",
    "    recall_weighted = report['weighted avg']['recall']\n",
    "    f1_macro = report['macro avg']['f1-score']\n",
    "    f1_weighted = report['weighted avg']['f1-score']\n",
    "    auc = metrics.roc_auc_score(y_test, y_pred, multi_class='ovr')\n",
    "\n",
    "    print(f\"Accuracy: {accuracy}\\nAUC: {auc}\")\n",
    "    \n",
    "    print(\"\\nmacro\")\n",
    "    print(f\"Precision: {precision_macro}\\nRecall: {recall_macro}\\nF1 Score: {f1_macro}\")\n",
    "\n",
    "    print(\"\\nweighted\")\n",
    "    print(f\"Precision: {precision_weighted}\\nRecall: {recall_weighted}\\nF1 Score: {f1_weighted}\")\n",
    "    print()\n",
    "    \n",
    "    # Confusion matrix for FNR, TNR, FPR, TPR\n",
    "    cm = metrics.confusion_matrix(y_test, y_pred_classes)\n",
    "    def calculate_rates(conf_matrix, class_index):\n",
    "        tp = conf_matrix[class_index, class_index]\n",
    "        fn = np.sum(conf_matrix[class_index, :]) - tp\n",
    "        fp = np.sum(conf_matrix[:, class_index]) - tp\n",
    "        tn = np.sum(conf_matrix) - (tp + fn + fp)\n",
    "    \n",
    "        fnr = fn / (fn + tp)\n",
    "        tnr = tn / (tn + fp)\n",
    "        fpr = fp / (fp + tn)\n",
    "        tpr = tp / (tp + fn)\n",
    "        return fnr, tnr, fpr, tpr\n",
    "\n",
    "    # Calculate and aggregate rates\n",
    "    fnrs, tnrs, fprs, tprs = [], [], [], []\n",
    "    for i in range(cm.shape[0]):\n",
    "        fnr, tnr, fpr, tpr = calculate_rates(cm, i)\n",
    "        fnrs.append(fnr)\n",
    "        tnrs.append(tnr)\n",
    "        fprs.append(fpr)\n",
    "        tprs.append(tpr)\n",
    "    \n",
    "    mean_fnr = np.mean(fnrs)\n",
    "    mean_tnr = np.mean(tnrs)\n",
    "    mean_fpr = np.mean(fprs)\n",
    "    mean_tpr = np.mean(tprs)\n",
    "\n",
    "    # Printing the mean metrics\n",
    "    print(f\"Mean FNR: {mean_fnr}\\nMean TNR: {mean_tnr}\\nMean FPR: {mean_fpr}\\nMean TPR: {mean_tpr}\")"
   ]
  },
  {
   "cell_type": "code",
   "execution_count": 3,
   "id": "805f16f5-4d82-4e1c-802b-fd9b514f75d4",
   "metadata": {},
   "outputs": [
    {
     "name": "stdout",
     "output_type": "stream",
     "text": [
      "Ready to generate train and test datasets\n"
     ]
    }
   ],
   "source": [
    "#with two dataset splitted\n",
    "dftrain = pd.read_csv(\"/home/jovyan/MQTTset/train70_reduced.csv\") \n",
    "dftest = pd.read_csv(\"/home/jovyan/MQTTset/test30_reduced.csv\")\n",
    "\n",
    "# dftrain = pd.read_csv(\"train70.csv\", low_memory=False) \n",
    "# dftest = pd.read_csv(\"test30.csv\", low_memory=False)\n",
    "\n",
    "simplefilter(action='ignore', category=FutureWarning)\n",
    "seed = 7\n",
    "\n",
    "#train\n",
    "#print(dftrain.loc[dftrain['target'] == 'legitimate'])\n",
    "class_names = dftrain.target.unique()\n",
    "dftrain=dftrain.astype('category')\n",
    "cat_columns = dftrain.select_dtypes(['category']).columns\n",
    "dftrain[cat_columns] = dftrain[cat_columns].apply(lambda x: x.cat.codes)\n",
    "#print(dftrain.loc[125, 'target'])\n",
    "x_columns = dftrain.columns.drop('target')\n",
    "x_train = dftrain[x_columns].values\n",
    "y_train = dftrain['target']\n",
    "\n",
    "#test\n",
    "class_names = dftest.target.unique()\n",
    "dftest=dftest.astype('category')\n",
    "cat_columns = dftest.select_dtypes(['category']).columns\n",
    "dftest[cat_columns] = dftest[cat_columns].apply(lambda x: x.cat.codes)\n",
    "x_columns = dftest.columns.drop('target')\n",
    "x_test = dftest[x_columns].values\n",
    "y_test = dftest['target']\n",
    "\n",
    "print(\"Ready to generate train and test datasets\")\n",
    "\n",
    "from sklearn import preprocessing\n",
    "scaler = preprocessing.MinMaxScaler()\n",
    "x_train_scaled = scaler.fit_transform(x_train)\n",
    "x_test_scaled = scaler.transform(x_test)\n",
    "\n",
    "x_train = np.copy(x_train_scaled)\n",
    "x_test = np.copy(x_test_scaled)"
   ]
  },
  {
   "cell_type": "code",
   "execution_count": 4,
   "id": "d75bd472-bef6-471a-aa9b-d869774b409a",
   "metadata": {},
   "outputs": [
    {
     "name": "stderr",
     "output_type": "stream",
     "text": [
      "2024-02-26 08:54:27.050000: W tensorflow/core/util/tensor_slice_reader.cc:98] Could not open ram://4bde75d174fd488193988563518cdafa: INVALID_ARGUMENT: ram://4bde75d174fd488193988563518cdafa is a directory.\n"
     ]
    }
   ],
   "source": [
    "model = joblib.load(\"/home/jovyan/MQTTset/dl/new_dl/dnn.joblib\")"
   ]
  },
  {
   "cell_type": "code",
   "execution_count": 5,
   "id": "eb1a92d7-8427-479e-a18e-98cd4cc3b93d",
   "metadata": {},
   "outputs": [],
   "source": [
    "x_test_trimmed = x_test[20000:24000]\n",
    "y_test_trimmed = y_test[20000:24000]"
   ]
  },
  {
   "cell_type": "code",
   "execution_count": 6,
   "id": "596d5454-4971-4f0e-8a37-d0fd458aa267",
   "metadata": {},
   "outputs": [
    {
     "data": {
      "text/plain": [
       "array([0, 1, 2, 3, 4, 5], dtype=int8)"
      ]
     },
     "execution_count": 6,
     "metadata": {},
     "output_type": "execute_result"
    }
   ],
   "source": [
    "np.unique(y_test_trimmed)"
   ]
  },
  {
   "cell_type": "code",
   "execution_count": 12,
   "id": "3c2e8a30-f105-4844-8d53-014b5d99fb14",
   "metadata": {},
   "outputs": [],
   "source": [
    "classifier = TensorFlowV2Classifier(\n",
    "    model=model,\n",
    "    nb_classes=6,\n",
    "    input_shape=(33,),\n",
    "    loss_object=tf.keras.losses.SparseCategoricalCrossentropy(),\n",
    ")"
   ]
  },
  {
   "cell_type": "code",
   "execution_count": 28,
   "id": "cf51bafd-1786-4425-9c5a-32cee1981373",
   "metadata": {},
   "outputs": [
    {
     "name": "stderr",
     "output_type": "stream",
     "text": [
      "/tmp/ipykernel_17946/3492240313.py:5: DeprecationWarning: `product` is deprecated as of NumPy 1.25.0, and will be removed in NumPy 2.0. Please use `prod` instead.\n",
      "  x_test_adv = attack.generate(x=x_test_trimmed)\n",
      "JSMA: 100%|██████████| 4000/4000 [06:43<00:00,  9.92it/s]\n"
     ]
    }
   ],
   "source": [
    "# Initialize the JSMA attack\n",
    "attack = SaliencyMapMethod(classifier=classifier, theta=0.01, gamma = 0.1)\n",
    "\n",
    "# Generate adversarial examples\n",
    "x_test_adv = attack.generate(x=x_test_trimmed)"
   ]
  },
  {
   "cell_type": "code",
   "execution_count": 29,
   "id": "c21259d2-2568-407b-b87a-d9d6ba7213f4",
   "metadata": {},
   "outputs": [
    {
     "name": "stdout",
     "output_type": "stream",
     "text": [
      "125/125 [==============================] - 0s 675us/step\n",
      "Accuracy: 0.03075\n",
      "AUC: 0.5977531649983817\n",
      "\n",
      "macro\n",
      "Precision: 0.7226604084861837\n",
      "Recall: 0.17413211909426238\n",
      "F1 Score: 0.04824446909874045\n",
      "\n",
      "weighted\n",
      "Precision: 0.9432351180013594\n",
      "Recall: 0.03075\n",
      "F1 Score: 0.012614231873653984\n",
      "\n",
      "Mean FNR: 0.8258678809057377\n",
      "Mean TNR: 0.834193724169245\n",
      "Mean FPR: 0.16580627583075505\n",
      "Mean TPR: 0.17413211909426238\n"
     ]
    }
   ],
   "source": [
    "calculate_performance_metrics(x_test_adv, y_test_trimmed, model)"
   ]
  },
  {
   "cell_type": "code",
   "execution_count": 30,
   "id": "35b7fdd9-9915-400a-bb14-f28e62e1c679",
   "metadata": {},
   "outputs": [
    {
     "name": "stderr",
     "output_type": "stream",
     "text": [
      "/tmp/ipykernel_17946/75040551.py:5: DeprecationWarning: `product` is deprecated as of NumPy 1.25.0, and will be removed in NumPy 2.0. Please use `prod` instead.\n",
      "  x_test_adv = attack.generate(x=x_test_trimmed)\n",
      "JSMA: 100%|██████████| 4000/4000 [05:29<00:00, 12.14it/s]\n"
     ]
    }
   ],
   "source": [
    "# Initialize the JSMA attack\n",
    "attack = SaliencyMapMethod(classifier=classifier, theta=0.05, gamma = 0.1)\n",
    "\n",
    "# Generate adversarial examples\n",
    "x_test_adv = attack.generate(x=x_test_trimmed)"
   ]
  },
  {
   "cell_type": "code",
   "execution_count": 31,
   "id": "bba79564-649e-4cee-b299-aea86e8a0ad6",
   "metadata": {},
   "outputs": [
    {
     "name": "stdout",
     "output_type": "stream",
     "text": [
      "125/125 [==============================] - 0s 631us/step\n",
      "Accuracy: 0.3485\n",
      "AUC: 0.6516032449413189\n",
      "\n",
      "macro\n",
      "Precision: 0.7474413459357026\n",
      "Recall: 0.2413713302621756\n",
      "F1 Score: 0.17777787335038572\n",
      "\n",
      "weighted\n",
      "Precision: 0.8396116964998585\n",
      "Recall: 0.3485\n",
      "F1 Score: 0.36923556202159247\n",
      "\n",
      "Mean FNR: 0.7586286697378245\n",
      "Mean TNR: 0.871488906695124\n",
      "Mean FPR: 0.12851109330487598\n",
      "Mean TPR: 0.2413713302621756\n"
     ]
    }
   ],
   "source": [
    "calculate_performance_metrics(x_test_adv, y_test_trimmed, model)"
   ]
  },
  {
   "cell_type": "code",
   "execution_count": 18,
   "id": "c5c13dfa-eb49-41ea-bbb9-cd7e83183ff7",
   "metadata": {},
   "outputs": [
    {
     "name": "stderr",
     "output_type": "stream",
     "text": [
      "/tmp/ipykernel_17946/547066443.py:5: DeprecationWarning: `product` is deprecated as of NumPy 1.25.0, and will be removed in NumPy 2.0. Please use `prod` instead.\n",
      "  x_test_adv = attack.generate(x=x_test_trimmed)\n",
      "JSMA: 100%|██████████| 4000/4000 [01:41<00:00, 39.28it/s]\n"
     ]
    }
   ],
   "source": [
    "# Initialize the JSMA attack\n",
    "attack = SaliencyMapMethod(classifier=classifier, theta=0.1, gamma = 0.1)\n",
    "\n",
    "# Generate adversarial examples\n",
    "x_test_adv = attack.generate(x=x_test_trimmed)"
   ]
  },
  {
   "cell_type": "code",
   "execution_count": 19,
   "id": "90474f6f-856f-4228-8ecd-e0fd139f0464",
   "metadata": {},
   "outputs": [
    {
     "name": "stdout",
     "output_type": "stream",
     "text": [
      "125/125 [==============================] - 0s 601us/step\n",
      "Accuracy: 0.21075\n",
      "AUC: 0.6274331547806281\n",
      "\n",
      "macro\n",
      "Precision: 0.7711357135713571\n",
      "Recall: 0.245080730664931\n",
      "F1 Score: 0.15295355545358078\n",
      "\n",
      "weighted\n",
      "Precision: 0.8188666645664566\n",
      "Recall: 0.21075\n",
      "F1 Score: 0.22072009049771715\n",
      "\n",
      "Mean FNR: 0.754919269335069\n",
      "Mean TNR: 0.8526321393696007\n",
      "Mean FPR: 0.1473678606303993\n",
      "Mean TPR: 0.245080730664931\n"
     ]
    }
   ],
   "source": [
    "calculate_performance_metrics(x_test_adv, y_test_trimmed, model)"
   ]
  },
  {
   "cell_type": "code",
   "execution_count": 20,
   "id": "ca97b618-f5f5-4019-8f01-c7106d184877",
   "metadata": {},
   "outputs": [
    {
     "name": "stderr",
     "output_type": "stream",
     "text": [
      "/tmp/ipykernel_17946/971322502.py:5: DeprecationWarning: `product` is deprecated as of NumPy 1.25.0, and will be removed in NumPy 2.0. Please use `prod` instead.\n",
      "  x_test_adv = attack.generate(x=x_test_trimmed)\n",
      "JSMA: 100%|██████████| 4000/4000 [01:32<00:00, 43.20it/s]\n"
     ]
    }
   ],
   "source": [
    "# Initialize the JSMA attack\n",
    "attack = SaliencyMapMethod(classifier=classifier, theta=0.15, gamma = 0.1)\n",
    "\n",
    "# Generate adversarial examples\n",
    "x_test_adv = attack.generate(x=x_test_trimmed)"
   ]
  },
  {
   "cell_type": "code",
   "execution_count": 21,
   "id": "3fe73e48-6e14-4cbc-b23b-aff11933fc39",
   "metadata": {},
   "outputs": [
    {
     "name": "stdout",
     "output_type": "stream",
     "text": [
      "125/125 [==============================] - 0s 566us/step\n",
      "Accuracy: 0.0255\n",
      "AUC: 0.6438166216535608\n",
      "\n",
      "macro\n",
      "Precision: 0.6801532823632271\n",
      "Recall: 0.16812865497076024\n",
      "F1 Score: 0.010770823592278406\n",
      "\n",
      "weighted\n",
      "Precision: 0.9484737778335844\n",
      "Recall: 0.0255\n",
      "F1 Score: 0.0016810221984726028\n",
      "\n",
      "Mean FNR: 0.8318713450292398\n",
      "Mean TNR: 0.8333736483363973\n",
      "Mean FPR: 0.1666263516636027\n",
      "Mean TPR: 0.16812865497076024\n"
     ]
    }
   ],
   "source": [
    "calculate_performance_metrics(x_test_adv, y_test_trimmed, model)"
   ]
  },
  {
   "cell_type": "code",
   "execution_count": 22,
   "id": "7c4d2d69-0a5c-42e0-8c43-5821b353bbe1",
   "metadata": {},
   "outputs": [
    {
     "name": "stderr",
     "output_type": "stream",
     "text": [
      "/tmp/ipykernel_17946/1386664024.py:5: DeprecationWarning: `product` is deprecated as of NumPy 1.25.0, and will be removed in NumPy 2.0. Please use `prod` instead.\n",
      "  x_test_adv = attack.generate(x=x_test_trimmed)\n",
      "JSMA: 100%|██████████| 4000/4000 [01:36<00:00, 41.54it/s]\n"
     ]
    }
   ],
   "source": [
    "# Initialize the JSMA attack\n",
    "attack = SaliencyMapMethod(classifier=classifier, theta=0.2, gamma = 0.1)\n",
    "\n",
    "# Generate adversarial examples\n",
    "x_test_adv = attack.generate(x=x_test_trimmed)"
   ]
  },
  {
   "cell_type": "code",
   "execution_count": 23,
   "id": "f101b049-8eb1-4f87-a445-fe498cc8aa24",
   "metadata": {},
   "outputs": [
    {
     "name": "stdout",
     "output_type": "stream",
     "text": [
      "125/125 [==============================] - 0s 592us/step\n",
      "Accuracy: 0.3805\n",
      "AUC: 0.7126333807906843\n",
      "\n",
      "macro\n",
      "Precision: 0.7915835592984651\n",
      "Recall: 0.2563469583255112\n",
      "F1 Score: 0.17852734719076527\n",
      "\n",
      "weighted\n",
      "Precision: 0.8298673761211346\n",
      "Recall: 0.3805\n",
      "F1 Score: 0.4153876213787354\n",
      "\n",
      "Mean FNR: 0.7436530416744888\n",
      "Mean TNR: 0.8722178097783703\n",
      "Mean FPR: 0.12778219022162976\n",
      "Mean TPR: 0.2563469583255112\n"
     ]
    }
   ],
   "source": [
    "calculate_performance_metrics(x_test_adv, y_test_trimmed, model)"
   ]
  },
  {
   "cell_type": "code",
   "execution_count": 24,
   "id": "7bb8971e-3e42-4998-a8e9-4f3ce0995adf",
   "metadata": {},
   "outputs": [
    {
     "name": "stderr",
     "output_type": "stream",
     "text": [
      "/tmp/ipykernel_17946/398718751.py:5: DeprecationWarning: `product` is deprecated as of NumPy 1.25.0, and will be removed in NumPy 2.0. Please use `prod` instead.\n",
      "  x_test_adv = attack.generate(x=x_test_trimmed)\n",
      "JSMA: 100%|██████████| 4000/4000 [01:05<00:00, 61.03it/s]\n"
     ]
    }
   ],
   "source": [
    "# Initialize the JSMA attack\n",
    "attack = SaliencyMapMethod(classifier=classifier, theta=0.25, gamma = 0.1)\n",
    "\n",
    "# Generate adversarial examples\n",
    "x_test_adv = attack.generate(x=x_test_trimmed)"
   ]
  },
  {
   "cell_type": "code",
   "execution_count": 25,
   "id": "05f09f17-f76a-440c-80ca-b60cb81f4bf6",
   "metadata": {},
   "outputs": [
    {
     "name": "stdout",
     "output_type": "stream",
     "text": [
      "125/125 [==============================] - 0s 755us/step\n",
      "Accuracy: 0.22475\n",
      "AUC: 0.6496994529705419\n",
      "\n",
      "macro\n",
      "Precision: 0.7582032530269119\n",
      "Recall: 0.22535348007808495\n",
      "F1 Score: 0.12408275310940663\n",
      "\n",
      "weighted\n",
      "Precision: 0.7881510298277968\n",
      "Recall: 0.22475000000000003\n",
      "F1 Score: 0.2109756706221486\n",
      "\n",
      "Mean FNR: 0.774646519921915\n",
      "Mean TNR: 0.8483584835145246\n",
      "Mean FPR: 0.15164151648547539\n",
      "Mean TPR: 0.22535348007808495\n"
     ]
    }
   ],
   "source": [
    "calculate_performance_metrics(x_test_adv, y_test_trimmed, model)"
   ]
  },
  {
   "cell_type": "code",
   "execution_count": 26,
   "id": "ad0d9583-4a1f-4a65-a2f8-725c51bdae8e",
   "metadata": {},
   "outputs": [
    {
     "name": "stderr",
     "output_type": "stream",
     "text": [
      "/tmp/ipykernel_17946/2298617831.py:5: DeprecationWarning: `product` is deprecated as of NumPy 1.25.0, and will be removed in NumPy 2.0. Please use `prod` instead.\n",
      "  x_test_adv = attack.generate(x=x_test_trimmed)\n",
      "JSMA: 100%|██████████| 4000/4000 [01:06<00:00, 60.15it/s]\n"
     ]
    }
   ],
   "source": [
    "# Initialize the JSMA attack\n",
    "attack = SaliencyMapMethod(classifier=classifier, theta=0.3, gamma = 0.1)\n",
    "\n",
    "# Generate adversarial examples\n",
    "x_test_adv = attack.generate(x=x_test_trimmed)"
   ]
  },
  {
   "cell_type": "code",
   "execution_count": 27,
   "id": "9e253aaa-225d-40fd-8886-72dff72f5b61",
   "metadata": {},
   "outputs": [
    {
     "name": "stdout",
     "output_type": "stream",
     "text": [
      "125/125 [==============================] - 0s 685us/step\n",
      "Accuracy: 0.03225\n",
      "AUC: 0.5512324504536124\n",
      "\n",
      "macro\n",
      "Precision: 0.6520840971641712\n",
      "Recall: 0.18246956274574824\n",
      "F1 Score: 0.04696871063079477\n",
      "\n",
      "weighted\n",
      "Precision: 0.9409915696907035\n",
      "Recall: 0.03225\n",
      "F1 Score: 0.010976947860791534\n",
      "\n",
      "Mean FNR: 0.8175304372542517\n",
      "Mean TNR: 0.83429481107281\n",
      "Mean FPR: 0.16570518892718997\n",
      "Mean TPR: 0.18246956274574824\n"
     ]
    }
   ],
   "source": [
    "calculate_performance_metrics(x_test_adv, y_test_trimmed, model)"
   ]
  },
  {
   "cell_type": "code",
   "execution_count": null,
   "id": "05868421-03b6-4363-897a-f616e73beab2",
   "metadata": {},
   "outputs": [],
   "source": []
  }
 ],
 "metadata": {
  "kernelspec": {
   "display_name": "Python 3 (ipykernel)",
   "language": "python",
   "name": "python3"
  },
  "language_info": {
   "codemirror_mode": {
    "name": "ipython",
    "version": 3
   },
   "file_extension": ".py",
   "mimetype": "text/x-python",
   "name": "python",
   "nbconvert_exporter": "python",
   "pygments_lexer": "ipython3",
   "version": "3.11.5"
  }
 },
 "nbformat": 4,
 "nbformat_minor": 5
}
