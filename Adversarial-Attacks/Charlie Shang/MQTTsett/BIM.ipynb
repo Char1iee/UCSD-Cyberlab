{
 "cells": [
  {
   "cell_type": "code",
   "execution_count": 1,
   "id": "0de82456-354b-4095-9e22-ea5f04e19679",
   "metadata": {},
   "outputs": [
    {
     "name": "stderr",
     "output_type": "stream",
     "text": [
      "2024-02-26 10:24:18.557827: I tensorflow/core/util/port.cc:113] oneDNN custom operations are on. You may see slightly different numerical results due to floating-point round-off errors from different computation orders. To turn them off, set the environment variable `TF_ENABLE_ONEDNN_OPTS=0`.\n",
      "2024-02-26 10:24:18.560393: I external/local_tsl/tsl/cuda/cudart_stub.cc:31] Could not find cuda drivers on your machine, GPU will not be used.\n",
      "2024-02-26 10:24:18.589042: E external/local_xla/xla/stream_executor/cuda/cuda_dnn.cc:9261] Unable to register cuDNN factory: Attempting to register factory for plugin cuDNN when one has already been registered\n",
      "2024-02-26 10:24:18.589094: E external/local_xla/xla/stream_executor/cuda/cuda_fft.cc:607] Unable to register cuFFT factory: Attempting to register factory for plugin cuFFT when one has already been registered\n",
      "2024-02-26 10:24:18.590047: E external/local_xla/xla/stream_executor/cuda/cuda_blas.cc:1515] Unable to register cuBLAS factory: Attempting to register factory for plugin cuBLAS when one has already been registered\n",
      "2024-02-26 10:24:18.595285: I external/local_tsl/tsl/cuda/cudart_stub.cc:31] Could not find cuda drivers on your machine, GPU will not be used.\n",
      "2024-02-26 10:24:18.595486: I tensorflow/core/platform/cpu_feature_guard.cc:182] This TensorFlow binary is optimized to use available CPU instructions in performance-critical operations.\n",
      "To enable the following instructions: AVX2 AVX512F AVX512_VNNI AVX512_BF16 AVX_VNNI AMX_TILE AMX_INT8 AMX_BF16 FMA, in other operations, rebuild TensorFlow with the appropriate compiler flags.\n",
      "2024-02-26 10:24:19.385209: W tensorflow/compiler/tf2tensorrt/utils/py_utils.cc:38] TF-TRT Warning: Could not find TensorRT\n",
      "/opt/conda/lib/python3.11/site-packages/tqdm/auto.py:21: TqdmWarning: IProgress not found. Please update jupyter and ipywidgets. See https://ipywidgets.readthedocs.io/en/stable/user_install.html\n",
      "  from .autonotebook import tqdm as notebook_tqdm\n"
     ]
    }
   ],
   "source": [
    "import tensorflow as tf\n",
    "from tensorflow.keras.models import Sequential\n",
    "from tensorflow.keras.layers import Conv2D, MaxPooling2D, Dropout, Flatten, Dense\n",
    "\n",
    "from art.attacks.evasion import BasicIterativeMethod\n",
    "from art.estimators.classification import TensorFlowV2Classifier\n",
    "from art.utils import load_dataset\n",
    "\n",
    "import numpy as np\n",
    "import pandas as pd\n",
    "\n",
    "from sklearn import metrics\n",
    "from warnings import simplefilter\n",
    "\n",
    "import joblib"
   ]
  },
  {
   "cell_type": "code",
   "execution_count": 2,
   "id": "3ce6f39c-e49e-4032-a7e2-678a482c68a4",
   "metadata": {},
   "outputs": [],
   "source": [
    "def calculate_performance_metrics(x_test, y_test, model):\n",
    "\n",
    "    # Predictions\n",
    "    y_pred = model.predict(x_test)\n",
    "    y_pred_classes = np.argmax(y_pred, axis=1)\n",
    "    \n",
    "    report = metrics.classification_report(y_test, y_pred_classes, output_dict=True, zero_division=1)\n",
    "    \n",
    "    precision_macro = report['macro avg']['precision']\n",
    "    precision_weighted = report['weighted avg']['precision']\n",
    "    accuracy = report['accuracy']\n",
    "    recall_macro = report['macro avg']['recall']\n",
    "    recall_weighted = report['weighted avg']['recall']\n",
    "    f1_macro = report['macro avg']['f1-score']\n",
    "    f1_weighted = report['weighted avg']['f1-score']\n",
    "    auc = metrics.roc_auc_score(y_test, y_pred, multi_class='ovr')\n",
    "\n",
    "    print(f\"Accuracy: {accuracy}\\nAUC: {auc}\")\n",
    "    \n",
    "    print(\"\\nmacro\")\n",
    "    print(f\"Precision: {precision_macro}\\nRecall: {recall_macro}\\nF1 Score: {f1_macro}\")\n",
    "\n",
    "    print(\"\\nweighted\")\n",
    "    print(f\"Precision: {precision_weighted}\\nRecall: {recall_weighted}\\nF1 Score: {f1_weighted}\")\n",
    "    print()\n",
    "    \n",
    "    # Confusion matrix for FNR, TNR, FPR, TPR\n",
    "    cm = metrics.confusion_matrix(y_test, y_pred_classes)\n",
    "    def calculate_rates(conf_matrix, class_index):\n",
    "        tp = conf_matrix[class_index, class_index]\n",
    "        fn = np.sum(conf_matrix[class_index, :]) - tp\n",
    "        fp = np.sum(conf_matrix[:, class_index]) - tp\n",
    "        tn = np.sum(conf_matrix) - (tp + fn + fp)\n",
    "    \n",
    "        fnr = fn / (fn + tp)\n",
    "        tnr = tn / (tn + fp)\n",
    "        fpr = fp / (fp + tn)\n",
    "        tpr = tp / (tp + fn)\n",
    "        return fnr, tnr, fpr, tpr\n",
    "\n",
    "    # Calculate and aggregate rates\n",
    "    fnrs, tnrs, fprs, tprs = [], [], [], []\n",
    "    for i in range(cm.shape[0]):\n",
    "        fnr, tnr, fpr, tpr = calculate_rates(cm, i)\n",
    "        fnrs.append(fnr)\n",
    "        tnrs.append(tnr)\n",
    "        fprs.append(fpr)\n",
    "        tprs.append(tpr)\n",
    "    \n",
    "    mean_fnr = np.mean(fnrs)\n",
    "    mean_tnr = np.mean(tnrs)\n",
    "    mean_fpr = np.mean(fprs)\n",
    "    mean_tpr = np.mean(tprs)\n",
    "\n",
    "    # Printing the mean metrics\n",
    "    print(f\"Mean FNR: {mean_fnr}\\nMean TNR: {mean_tnr}\\nMean FPR: {mean_fpr}\\nMean TPR: {mean_tpr}\")"
   ]
  },
  {
   "cell_type": "code",
   "execution_count": 3,
   "id": "ac4f4ba5-dceb-4a58-8f94-3a8fcdeb2e85",
   "metadata": {},
   "outputs": [
    {
     "name": "stdout",
     "output_type": "stream",
     "text": [
      "Ready to generate train and test datasets\n"
     ]
    }
   ],
   "source": [
    "#with two dataset splitted\n",
    "dftrain = pd.read_csv(\"/home/jovyan/MQTTset/train70_reduced.csv\") \n",
    "dftest = pd.read_csv(\"/home/jovyan/MQTTset/test30_reduced.csv\")\n",
    "\n",
    "# dftrain = pd.read_csv(\"train70.csv\", low_memory=False) \n",
    "# dftest = pd.read_csv(\"test30.csv\", low_memory=False)\n",
    "\n",
    "simplefilter(action='ignore', category=FutureWarning)\n",
    "seed = 7\n",
    "\n",
    "#train\n",
    "#print(dftrain.loc[dftrain['target'] == 'legitimate'])\n",
    "class_names = dftrain.target.unique()\n",
    "dftrain=dftrain.astype('category')\n",
    "cat_columns = dftrain.select_dtypes(['category']).columns\n",
    "dftrain[cat_columns] = dftrain[cat_columns].apply(lambda x: x.cat.codes)\n",
    "#print(dftrain.loc[125, 'target'])\n",
    "x_columns = dftrain.columns.drop('target')\n",
    "x_train = dftrain[x_columns].values\n",
    "y_train = dftrain['target']\n",
    "\n",
    "#test\n",
    "class_names = dftest.target.unique()\n",
    "dftest=dftest.astype('category')\n",
    "cat_columns = dftest.select_dtypes(['category']).columns\n",
    "dftest[cat_columns] = dftest[cat_columns].apply(lambda x: x.cat.codes)\n",
    "x_columns = dftest.columns.drop('target')\n",
    "x_test = dftest[x_columns].values\n",
    "y_test = dftest['target']\n",
    "\n",
    "print(\"Ready to generate train and test datasets\")\n",
    "\n",
    "from sklearn import preprocessing\n",
    "scaler = preprocessing.MinMaxScaler()\n",
    "x_train_scaled = scaler.fit_transform(x_train)\n",
    "x_test_scaled = scaler.transform(x_test)\n",
    "\n",
    "x_train = np.copy(x_train_scaled)\n",
    "x_test = np.copy(x_test_scaled)"
   ]
  },
  {
   "cell_type": "code",
   "execution_count": 4,
   "id": "8abe00f0-44b2-4263-8679-aee5723dae2b",
   "metadata": {},
   "outputs": [
    {
     "name": "stderr",
     "output_type": "stream",
     "text": [
      "2024-02-26 10:24:25.224780: W tensorflow/core/util/tensor_slice_reader.cc:98] Could not open ram://8e091f35b3f0428eb0808603c51ebd1c: INVALID_ARGUMENT: ram://8e091f35b3f0428eb0808603c51ebd1c is a directory.\n"
     ]
    }
   ],
   "source": [
    "model = joblib.load(\"/home/jovyan/MQTTset/dl/new_dl/dnn.joblib\")"
   ]
  },
  {
   "cell_type": "code",
   "execution_count": 5,
   "id": "ad18f6af-273d-4e46-9bc6-3ac515959d1a",
   "metadata": {},
   "outputs": [],
   "source": [
    "classifier = TensorFlowV2Classifier(\n",
    "    model=model,\n",
    "    nb_classes=6,\n",
    "    input_shape=(33,),\n",
    "    loss_object=tf.keras.losses.SparseCategoricalCrossentropy(),\n",
    ")"
   ]
  },
  {
   "cell_type": "code",
   "execution_count": 6,
   "id": "ae016916-c927-45f3-ba66-c252184f3786",
   "metadata": {},
   "outputs": [
    {
     "name": "stderr",
     "output_type": "stream",
     "text": [
      "                                        \r"
     ]
    }
   ],
   "source": [
    "# Initialize the Elastic Net attack\n",
    "attack = BasicIterativeMethod(estimator=classifier, eps=0.01)\n",
    "\n",
    "# Generate adversarial test examples\n",
    "x_test_adv = attack.generate(x=x_test)"
   ]
  },
  {
   "cell_type": "code",
   "execution_count": 7,
   "id": "8433c9ab-f985-43a0-a722-98923e9b91b6",
   "metadata": {},
   "outputs": [
    {
     "name": "stdout",
     "output_type": "stream",
     "text": [
      "3103/3103 [==============================] - 2s 640us/step\n",
      "Accuracy: 0.06002618592003223\n",
      "AUC: 0.6019832832475696\n",
      "\n",
      "macro\n",
      "Precision: 0.8389884895660815\n",
      "Recall: 0.20656330041322138\n",
      "F1 Score: 0.07969956012320527\n",
      "\n",
      "weighted\n",
      "Precision: 0.9681058073601138\n",
      "Recall: 0.06002618592003223\n",
      "F1 Score: 0.05179905604065773\n",
      "\n",
      "Mean FNR: 0.7934366995867785\n",
      "Mean TNR: 0.8379890013748281\n",
      "Mean FPR: 0.16201099862517185\n",
      "Mean TPR: 0.20656330041322138\n"
     ]
    }
   ],
   "source": [
    "calculate_performance_metrics(x_test_adv, y_test, model)"
   ]
  },
  {
   "cell_type": "code",
   "execution_count": 8,
   "id": "79c6976d-63f8-46d2-9547-f5df02613c4c",
   "metadata": {},
   "outputs": [
    {
     "name": "stderr",
     "output_type": "stream",
     "text": [
      "                                        \r"
     ]
    }
   ],
   "source": [
    "# Initialize the Elastic Net attack\n",
    "attack = BasicIterativeMethod(estimator=classifier, eps=0.05)\n",
    "\n",
    "# Generate adversarial test examples\n",
    "x_test_adv = attack.generate(x=x_test)"
   ]
  },
  {
   "cell_type": "code",
   "execution_count": 9,
   "id": "abefe369-055f-4fb7-93b5-312765764720",
   "metadata": {},
   "outputs": [
    {
     "name": "stdout",
     "output_type": "stream",
     "text": [
      "3103/3103 [==============================] - 2s 594us/step\n",
      "Accuracy: 0.2622519891227717\n",
      "AUC: 0.624969225525222\n",
      "\n",
      "macro\n",
      "Precision: 0.4218070863256342\n",
      "Recall: 0.2457362073214268\n",
      "F1 Score: 0.15630167225455008\n",
      "\n",
      "weighted\n",
      "Precision: 0.732751780605736\n",
      "Recall: 0.2622519891227717\n",
      "F1 Score: 0.22384832822592032\n",
      "\n",
      "Mean FNR: 0.7542637926785732\n",
      "Mean TNR: 0.8467758517406093\n",
      "Mean FPR: 0.1532241482593905\n",
      "Mean TPR: 0.2457362073214268\n"
     ]
    }
   ],
   "source": [
    "calculate_performance_metrics(x_test_adv, y_test, model)"
   ]
  },
  {
   "cell_type": "code",
   "execution_count": 6,
   "id": "f8529b37-bb7a-4c47-861e-403dd68f607b",
   "metadata": {},
   "outputs": [
    {
     "name": "stderr",
     "output_type": "stream",
     "text": [
      "                                        \r"
     ]
    }
   ],
   "source": [
    "# Initialize the Elastic Net attack\n",
    "attack = BasicIterativeMethod(estimator=classifier, eps=0.1)\n",
    "\n",
    "# Generate adversarial test examples\n",
    "x_test_adv = attack.generate(x=x_test)"
   ]
  },
  {
   "cell_type": "code",
   "execution_count": 7,
   "id": "fe077a0a-472e-4d38-9ff0-50b3a15d1013",
   "metadata": {},
   "outputs": [
    {
     "name": "stdout",
     "output_type": "stream",
     "text": [
      "3103/3103 [==============================] - 2s 586us/step\n",
      "Accuracy: 0.3399738140799678\n",
      "AUC: 0.5113734679859715\n",
      "\n",
      "macro\n",
      "Precision: 0.1405286380904408\n",
      "Recall: 0.17724833856592973\n",
      "F1 Score: 0.12740701834917934\n",
      "\n",
      "weighted\n",
      "Precision: 0.2154391893108761\n",
      "Recall: 0.3399738140799678\n",
      "F1 Score: 0.208135675075947\n",
      "\n",
      "Mean FNR: 0.8227516614340703\n",
      "Mean TNR: 0.8279783296272866\n",
      "Mean FPR: 0.17202167037271343\n",
      "Mean TPR: 0.17724833856592973\n"
     ]
    }
   ],
   "source": [
    "calculate_performance_metrics(x_test_adv, y_test, model)"
   ]
  },
  {
   "cell_type": "code",
   "execution_count": 8,
   "id": "146a6208-40d7-4cb1-ab0e-e6e0c9487dc6",
   "metadata": {},
   "outputs": [
    {
     "name": "stderr",
     "output_type": "stream",
     "text": [
      "                                        \r"
     ]
    }
   ],
   "source": [
    "# Initialize the Elastic Net attack\n",
    "attack = BasicIterativeMethod(estimator=classifier, eps=0.15)\n",
    "\n",
    "# Generate adversarial test examples\n",
    "x_test_adv = attack.generate(x=x_test)"
   ]
  },
  {
   "cell_type": "code",
   "execution_count": 9,
   "id": "d7835743-5a99-4e71-acce-b83b2f55d287",
   "metadata": {},
   "outputs": [
    {
     "name": "stdout",
     "output_type": "stream",
     "text": [
      "3103/3103 [==============================] - 2s 574us/step\n",
      "Accuracy: 0.3220465303655957\n",
      "AUC: 0.47507763485645377\n",
      "\n",
      "macro\n",
      "Precision: 0.1644071350360811\n",
      "Recall: 0.15259951436548358\n",
      "F1 Score: 0.1070994738850578\n",
      "\n",
      "weighted\n",
      "Precision: 0.22874126633445258\n",
      "Recall: 0.3220465303655957\n",
      "F1 Score: 0.20365767485657035\n",
      "\n",
      "Mean FNR: 0.8474004856345164\n",
      "Mean TNR: 0.8284018289143177\n",
      "Mean FPR: 0.1715981710856823\n",
      "Mean TPR: 0.15259951436548358\n"
     ]
    }
   ],
   "source": [
    "calculate_performance_metrics(x_test_adv, y_test, model)"
   ]
  },
  {
   "cell_type": "code",
   "execution_count": 10,
   "id": "68fdd781-1713-44a6-82c4-2f6734ad1aa0",
   "metadata": {},
   "outputs": [
    {
     "name": "stderr",
     "output_type": "stream",
     "text": [
      "                                        \r"
     ]
    }
   ],
   "source": [
    "# Initialize the Elastic Net attack\n",
    "attack = BasicIterativeMethod(estimator=classifier, eps=0.2)\n",
    "\n",
    "# Generate adversarial test examples\n",
    "x_test_adv = attack.generate(x=x_test)"
   ]
  },
  {
   "cell_type": "code",
   "execution_count": 11,
   "id": "5d3009ba-01fa-470e-861b-f715cea9b33c",
   "metadata": {},
   "outputs": [
    {
     "name": "stdout",
     "output_type": "stream",
     "text": [
      "3103/3103 [==============================] - 2s 579us/step\n",
      "Accuracy: 0.3284822237889012\n",
      "AUC: 0.473288203957146\n",
      "\n",
      "macro\n",
      "Precision: 0.20148596906211\n",
      "Recall: 0.14845306990480245\n",
      "F1 Score: 0.09802112369297668\n",
      "\n",
      "weighted\n",
      "Precision: 0.3229207362988222\n",
      "Recall: 0.3284822237889012\n",
      "F1 Score: 0.20295855755491826\n",
      "\n",
      "Mean FNR: 0.8515469300951976\n",
      "Mean TNR: 0.8269899581054238\n",
      "Mean FPR: 0.17301004189457628\n",
      "Mean TPR: 0.14845306990480245\n"
     ]
    }
   ],
   "source": [
    "calculate_performance_metrics(x_test_adv, y_test, model)"
   ]
  },
  {
   "cell_type": "code",
   "execution_count": 12,
   "id": "3cfa4100-1fe0-4c06-a804-100d691fe1f9",
   "metadata": {},
   "outputs": [
    {
     "name": "stderr",
     "output_type": "stream",
     "text": [
      "                                        \r"
     ]
    }
   ],
   "source": [
    "# Initialize the Elastic Net attack\n",
    "attack = BasicIterativeMethod(estimator=classifier, eps=0.25)\n",
    "\n",
    "# Generate adversarial test examples\n",
    "x_test_adv = attack.generate(x=x_test)"
   ]
  },
  {
   "cell_type": "code",
   "execution_count": 13,
   "id": "0a525874-5aed-4944-b102-2c69820f3003",
   "metadata": {},
   "outputs": [
    {
     "name": "stdout",
     "output_type": "stream",
     "text": [
      "3103/3103 [==============================] - 2s 578us/step\n",
      "Accuracy: 0.316265484943096\n",
      "AUC: 0.4769162356733166\n",
      "\n",
      "macro\n",
      "Precision: 0.3167606515948424\n",
      "Recall: 0.14382457679728364\n",
      "F1 Score: 0.09852189077902503\n",
      "\n",
      "weighted\n",
      "Precision: 0.3970746690459797\n",
      "Recall: 0.316265484943096\n",
      "F1 Score: 0.20357676086666607\n",
      "\n",
      "Mean FNR: 0.8561754232027164\n",
      "Mean TNR: 0.8279531692206582\n",
      "Mean FPR: 0.1720468307793418\n",
      "Mean TPR: 0.14382457679728364\n"
     ]
    }
   ],
   "source": [
    "calculate_performance_metrics(x_test_adv, y_test, model)"
   ]
  },
  {
   "cell_type": "code",
   "execution_count": 14,
   "id": "7f9fc7b1-ba24-425c-9c6c-bc66ece6fce3",
   "metadata": {},
   "outputs": [
    {
     "name": "stderr",
     "output_type": "stream",
     "text": [
      "                                        \r"
     ]
    }
   ],
   "source": [
    "# Initialize the Elastic Net attack\n",
    "attack = BasicIterativeMethod(estimator=classifier, eps=0.3)\n",
    "\n",
    "# Generate adversarial test examples\n",
    "x_test_adv = attack.generate(x=x_test)"
   ]
  },
  {
   "cell_type": "code",
   "execution_count": 15,
   "id": "7385de0a-394f-4900-92d6-41959ce0f40a",
   "metadata": {},
   "outputs": [
    {
     "name": "stdout",
     "output_type": "stream",
     "text": [
      "3103/3103 [==============================] - 2s 575us/step\n",
      "Accuracy: 0.3170309195286534\n",
      "AUC: 0.4716245410261512\n",
      "\n",
      "macro\n",
      "Precision: 0.1320374735812414\n",
      "Recall: 0.14630590782772088\n",
      "F1 Score: 0.09424074680238377\n",
      "\n",
      "weighted\n",
      "Precision: 0.33249163948374627\n",
      "Recall: 0.3170309195286534\n",
      "F1 Score: 0.2055580669913406\n",
      "\n",
      "Mean FNR: 0.8536940921722791\n",
      "Mean TNR: 0.829475213842667\n",
      "Mean FPR: 0.17052478615733313\n",
      "Mean TPR: 0.14630590782772088\n"
     ]
    }
   ],
   "source": [
    "calculate_performance_metrics(x_test_adv, y_test, model)"
   ]
  },
  {
   "cell_type": "code",
   "execution_count": null,
   "id": "ec2cebff-c111-4132-9e08-f67633d5b97c",
   "metadata": {},
   "outputs": [],
   "source": []
  }
 ],
 "metadata": {
  "kernelspec": {
   "display_name": "Python 3 (ipykernel)",
   "language": "python",
   "name": "python3"
  },
  "language_info": {
   "codemirror_mode": {
    "name": "ipython",
    "version": 3
   },
   "file_extension": ".py",
   "mimetype": "text/x-python",
   "name": "python",
   "nbconvert_exporter": "python",
   "pygments_lexer": "ipython3",
   "version": "3.11.5"
  }
 },
 "nbformat": 4,
 "nbformat_minor": 5
}
