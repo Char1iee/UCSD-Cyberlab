{
 "cells": [
  {
   "cell_type": "code",
   "execution_count": 1,
   "id": "c074e7bf-66b3-4603-9a73-571a3f128996",
   "metadata": {},
   "outputs": [
    {
     "name": "stderr",
     "output_type": "stream",
     "text": [
      "2024-02-26 08:54:41.730362: I tensorflow/core/util/port.cc:113] oneDNN custom operations are on. You may see slightly different numerical results due to floating-point round-off errors from different computation orders. To turn them off, set the environment variable `TF_ENABLE_ONEDNN_OPTS=0`.\n",
      "2024-02-26 08:54:41.733108: I external/local_tsl/tsl/cuda/cudart_stub.cc:31] Could not find cuda drivers on your machine, GPU will not be used.\n",
      "2024-02-26 08:54:41.762905: E external/local_xla/xla/stream_executor/cuda/cuda_dnn.cc:9261] Unable to register cuDNN factory: Attempting to register factory for plugin cuDNN when one has already been registered\n",
      "2024-02-26 08:54:41.762955: E external/local_xla/xla/stream_executor/cuda/cuda_fft.cc:607] Unable to register cuFFT factory: Attempting to register factory for plugin cuFFT when one has already been registered\n",
      "2024-02-26 08:54:41.763965: E external/local_xla/xla/stream_executor/cuda/cuda_blas.cc:1515] Unable to register cuBLAS factory: Attempting to register factory for plugin cuBLAS when one has already been registered\n",
      "2024-02-26 08:54:41.769340: I external/local_tsl/tsl/cuda/cudart_stub.cc:31] Could not find cuda drivers on your machine, GPU will not be used.\n",
      "2024-02-26 08:54:41.770097: I tensorflow/core/platform/cpu_feature_guard.cc:182] This TensorFlow binary is optimized to use available CPU instructions in performance-critical operations.\n",
      "To enable the following instructions: AVX2 AVX512F AVX512_VNNI AVX512_BF16 AVX_VNNI AMX_TILE AMX_INT8 AMX_BF16 FMA, in other operations, rebuild TensorFlow with the appropriate compiler flags.\n",
      "2024-02-26 08:54:42.536836: W tensorflow/compiler/tf2tensorrt/utils/py_utils.cc:38] TF-TRT Warning: Could not find TensorRT\n",
      "/opt/conda/lib/python3.11/site-packages/tqdm/auto.py:21: TqdmWarning: IProgress not found. Please update jupyter and ipywidgets. See https://ipywidgets.readthedocs.io/en/stable/user_install.html\n",
      "  from .autonotebook import tqdm as notebook_tqdm\n"
     ]
    }
   ],
   "source": [
    "import tensorflow as tf\n",
    "from tensorflow.keras.models import Sequential\n",
    "from tensorflow.keras.layers import Conv2D, MaxPooling2D, Dropout, Flatten, Dense\n",
    "\n",
    "from art.attacks.evasion import FastGradientMethod\n",
    "from art.estimators.classification import TensorFlowV2Classifier\n",
    "from art.utils import load_dataset\n",
    "\n",
    "import numpy as np\n",
    "import pandas as pd\n",
    "\n",
    "from sklearn import metrics\n",
    "\n",
    "from warnings import simplefilter\n",
    "\n",
    "import joblib"
   ]
  },
  {
   "cell_type": "code",
   "execution_count": 2,
   "id": "88abda9a-d288-401c-adb9-438c602ca769",
   "metadata": {},
   "outputs": [],
   "source": [
    "def calculate_performance_metrics(x_test, y_test, model):\n",
    "\n",
    "    # Predictions\n",
    "    y_pred = model.predict(x_test)\n",
    "    y_pred_classes = np.argmax(y_pred, axis=1)\n",
    "    \n",
    "    report = metrics.classification_report(y_test, y_pred_classes, output_dict=True, zero_division=1)\n",
    "    \n",
    "    precision_macro = report['macro avg']['precision']\n",
    "    precision_weighted = report['weighted avg']['precision']\n",
    "    accuracy = report['accuracy']\n",
    "    recall_macro = report['macro avg']['recall']\n",
    "    recall_weighted = report['weighted avg']['recall']\n",
    "    f1_macro = report['macro avg']['f1-score']\n",
    "    f1_weighted = report['weighted avg']['f1-score']\n",
    "    auc = metrics.roc_auc_score(y_test, y_pred, multi_class='ovr')\n",
    "\n",
    "    print(f\"Accuracy: {accuracy}\\nAUC: {auc}\")\n",
    "    \n",
    "    print(\"\\nmacro\")\n",
    "    print(f\"Precision: {precision_macro}\\nRecall: {recall_macro}\\nF1 Score: {f1_macro}\")\n",
    "\n",
    "    print(\"\\nweighted\")\n",
    "    print(f\"Precision: {precision_weighted}\\nRecall: {recall_weighted}\\nF1 Score: {f1_weighted}\")\n",
    "    print()\n",
    "    \n",
    "    # Confusion matrix for FNR, TNR, FPR, TPR\n",
    "    cm = metrics.confusion_matrix(y_test, y_pred_classes)\n",
    "    def calculate_rates(conf_matrix, class_index):\n",
    "        tp = conf_matrix[class_index, class_index]\n",
    "        fn = np.sum(conf_matrix[class_index, :]) - tp\n",
    "        fp = np.sum(conf_matrix[:, class_index]) - tp\n",
    "        tn = np.sum(conf_matrix) - (tp + fn + fp)\n",
    "    \n",
    "        fnr = fn / (fn + tp)\n",
    "        tnr = tn / (tn + fp)\n",
    "        fpr = fp / (fp + tn)\n",
    "        tpr = tp / (tp + fn)\n",
    "        return fnr, tnr, fpr, tpr\n",
    "\n",
    "    # Calculate and aggregate rates\n",
    "    fnrs, tnrs, fprs, tprs = [], [], [], []\n",
    "    for i in range(cm.shape[0]):\n",
    "        fnr, tnr, fpr, tpr = calculate_rates(cm, i)\n",
    "        fnrs.append(fnr)\n",
    "        tnrs.append(tnr)\n",
    "        fprs.append(fpr)\n",
    "        tprs.append(tpr)\n",
    "    \n",
    "    mean_fnr = np.mean(fnrs)\n",
    "    mean_tnr = np.mean(tnrs)\n",
    "    mean_fpr = np.mean(fprs)\n",
    "    mean_tpr = np.mean(tprs)\n",
    "\n",
    "    # Printing the mean metrics\n",
    "    print(f\"Mean FNR: {mean_fnr}\\nMean TNR: {mean_tnr}\\nMean FPR: {mean_fpr}\\nMean TPR: {mean_tpr}\")"
   ]
  },
  {
   "cell_type": "code",
   "execution_count": 3,
   "id": "75818739-8004-4cc5-b71a-89a23714c710",
   "metadata": {},
   "outputs": [
    {
     "name": "stdout",
     "output_type": "stream",
     "text": [
      "Ready to generate train and test datasets\n"
     ]
    }
   ],
   "source": [
    "#with two dataset splitted\n",
    "dftrain = pd.read_csv(\"/home/jovyan/MQTTset/train70_reduced.csv\") \n",
    "dftest = pd.read_csv(\"/home/jovyan/MQTTset/test30_reduced.csv\")\n",
    "\n",
    "# dftrain = pd.read_csv(\"train70.csv\", low_memory=False) \n",
    "# dftest = pd.read_csv(\"test30.csv\", low_memory=False)\n",
    "\n",
    "simplefilter(action='ignore', category=FutureWarning)\n",
    "seed = 7\n",
    "\n",
    "#train\n",
    "#print(dftrain.loc[dftrain['target'] == 'legitimate'])\n",
    "class_names = dftrain.target.unique()\n",
    "dftrain=dftrain.astype('category')\n",
    "cat_columns = dftrain.select_dtypes(['category']).columns\n",
    "dftrain[cat_columns] = dftrain[cat_columns].apply(lambda x: x.cat.codes)\n",
    "#print(dftrain.loc[125, 'target'])\n",
    "x_columns = dftrain.columns.drop('target')\n",
    "x_train = dftrain[x_columns].values\n",
    "y_train = dftrain['target']\n",
    "\n",
    "#test\n",
    "class_names = dftest.target.unique()\n",
    "dftest=dftest.astype('category')\n",
    "cat_columns = dftest.select_dtypes(['category']).columns\n",
    "dftest[cat_columns] = dftest[cat_columns].apply(lambda x: x.cat.codes)\n",
    "x_columns = dftest.columns.drop('target')\n",
    "x_test = dftest[x_columns].values\n",
    "y_test = dftest['target']\n",
    "\n",
    "print(\"Ready to generate train and test datasets\")\n",
    "\n",
    "from sklearn import preprocessing\n",
    "scaler = preprocessing.MinMaxScaler()\n",
    "x_train_scaled = scaler.fit_transform(x_train)\n",
    "x_test_scaled = scaler.transform(x_test)\n",
    "\n",
    "x_train = np.copy(x_train_scaled)\n",
    "x_test = np.copy(x_test_scaled)"
   ]
  },
  {
   "cell_type": "code",
   "execution_count": 4,
   "id": "ade3e6c4-ede1-4aa3-8811-7ec987ede255",
   "metadata": {},
   "outputs": [
    {
     "name": "stderr",
     "output_type": "stream",
     "text": [
      "2024-02-26 08:54:47.494690: W tensorflow/core/util/tensor_slice_reader.cc:98] Could not open ram://12f53c7fb7b34a72b867fa9473b8de28: INVALID_ARGUMENT: ram://12f53c7fb7b34a72b867fa9473b8de28 is a directory.\n"
     ]
    }
   ],
   "source": [
    "model = joblib.load(\"/home/jovyan/MQTTset/dl/new_dl/dnn.joblib\")"
   ]
  },
  {
   "cell_type": "code",
   "execution_count": 5,
   "id": "4dd1c761-6b69-43e7-a677-26e3b42820ce",
   "metadata": {},
   "outputs": [
    {
     "data": {
      "text/plain": [
       "array([0, 1, 2, 3, 4, 5], dtype=int8)"
      ]
     },
     "execution_count": 5,
     "metadata": {},
     "output_type": "execute_result"
    }
   ],
   "source": [
    "np.unique(y_train)"
   ]
  },
  {
   "cell_type": "code",
   "execution_count": 6,
   "id": "72df0def-3930-444a-8c45-0d29b8418846",
   "metadata": {},
   "outputs": [
    {
     "data": {
      "text/plain": [
       "(231646, 33)"
      ]
     },
     "execution_count": 6,
     "metadata": {},
     "output_type": "execute_result"
    }
   ],
   "source": [
    "x_train.shape"
   ]
  },
  {
   "cell_type": "code",
   "execution_count": 7,
   "id": "4395cb1c-f65e-48bd-b1e4-a472620a7543",
   "metadata": {},
   "outputs": [],
   "source": [
    "classifier = TensorFlowV2Classifier(\n",
    "    model=model,\n",
    "    nb_classes=6,\n",
    "    input_shape=(33,),\n",
    "    loss_object=tf.keras.losses.SparseCategoricalCrossentropy(),\n",
    ")"
   ]
  },
  {
   "cell_type": "code",
   "execution_count": 22,
   "id": "e6c51d09-3296-466d-bc36-fd0994ed63d2",
   "metadata": {},
   "outputs": [],
   "source": [
    "attack = FastGradientMethod(estimator=classifier, eps=0.01)\n",
    "\n",
    "x_test_adv = attack.generate(x=x_test)"
   ]
  },
  {
   "cell_type": "code",
   "execution_count": 23,
   "id": "0c2ff590-ff35-44fb-acbe-d4b31527ec6b",
   "metadata": {},
   "outputs": [
    {
     "name": "stdout",
     "output_type": "stream",
     "text": [
      "3103/3103 [==============================] - 2s 650us/step\n",
      "Accuracy: 0.06002618592003223\n",
      "AUC: 0.5961863165227622\n",
      "\n",
      "macro\n",
      "Precision: 0.8389884895660815\n",
      "Recall: 0.20656330041322138\n",
      "F1 Score: 0.07969956012320527\n",
      "\n",
      "weighted\n",
      "Precision: 0.9681058073601138\n",
      "Recall: 0.06002618592003223\n",
      "F1 Score: 0.05179905604065773\n",
      "\n",
      "Mean FNR: 0.7934366995867785\n",
      "Mean TNR: 0.8379890013748281\n",
      "Mean FPR: 0.16201099862517185\n",
      "Mean TPR: 0.20656330041322138\n"
     ]
    }
   ],
   "source": [
    "calculate_performance_metrics(x_test_adv, y_test, model)"
   ]
  },
  {
   "cell_type": "code",
   "execution_count": 24,
   "id": "ff437ed0-aed5-4854-9021-4721658d3871",
   "metadata": {},
   "outputs": [],
   "source": [
    "attack = FastGradientMethod(estimator=classifier, eps=0.05)\n",
    "\n",
    "x_test_adv = attack.generate(x=x_test)"
   ]
  },
  {
   "cell_type": "code",
   "execution_count": 25,
   "id": "86edf2c1-2dc2-4715-a7b7-fdacb81c10ac",
   "metadata": {},
   "outputs": [
    {
     "name": "stdout",
     "output_type": "stream",
     "text": [
      "3103/3103 [==============================] - 2s 604us/step\n",
      "Accuracy: 0.22085809245644072\n",
      "AUC: 0.6495704728073199\n",
      "\n",
      "macro\n",
      "Precision: 0.7722276713749526\n",
      "Recall: 0.26414558078227984\n",
      "F1 Score: 0.15426755166614733\n",
      "\n",
      "weighted\n",
      "Precision: 0.8064590951771922\n",
      "Recall: 0.22085809245644072\n",
      "F1 Score: 0.22058000830721092\n",
      "\n",
      "Mean FNR: 0.7358544192177202\n",
      "Mean TNR: 0.8526818337652933\n",
      "Mean FPR: 0.14731816623470675\n",
      "Mean TPR: 0.26414558078227984\n"
     ]
    }
   ],
   "source": [
    "calculate_performance_metrics(x_test_adv, y_test, model)"
   ]
  },
  {
   "cell_type": "code",
   "execution_count": 12,
   "id": "5b95584d-5876-41d8-9e8d-759299ba6f44",
   "metadata": {},
   "outputs": [],
   "source": [
    "attack = FastGradientMethod(estimator=classifier, eps=0.1)\n",
    "\n",
    "x_test_adv = attack.generate(x=x_test)"
   ]
  },
  {
   "cell_type": "code",
   "execution_count": 13,
   "id": "5f1bf0b7-4afa-44d6-b701-5147a6cd6514",
   "metadata": {},
   "outputs": [
    {
     "name": "stdout",
     "output_type": "stream",
     "text": [
      "3103/3103 [==============================] - 2s 635us/step\n",
      "Accuracy: 0.40187330043307484\n",
      "AUC: 0.7030502691402979\n",
      "\n",
      "macro\n",
      "Precision: 0.5879672274028883\n",
      "Recall: 0.3133292578862421\n",
      "F1 Score: 0.2414812973587944\n",
      "\n",
      "weighted\n",
      "Precision: 0.7407642819405884\n",
      "Recall: 0.40187330043307484\n",
      "F1 Score: 0.4174014675195846\n",
      "\n",
      "Mean FNR: 0.6866707421137579\n",
      "Mean TNR: 0.8735632110769197\n",
      "Mean FPR: 0.12643678892308033\n",
      "Mean TPR: 0.3133292578862421\n"
     ]
    }
   ],
   "source": [
    "calculate_performance_metrics(x_test_adv, y_test, model)"
   ]
  },
  {
   "cell_type": "code",
   "execution_count": 14,
   "id": "33a9cca4-3034-4428-ac40-d77c97df1016",
   "metadata": {},
   "outputs": [],
   "source": [
    "attack = FastGradientMethod(estimator=classifier, eps=0.15)\n",
    "\n",
    "x_test_adv = attack.generate(x=x_test)"
   ]
  },
  {
   "cell_type": "code",
   "execution_count": 15,
   "id": "9dc7401a-719c-4d69-9204-53be1b4993f5",
   "metadata": {},
   "outputs": [
    {
     "name": "stdout",
     "output_type": "stream",
     "text": [
      "3103/3103 [==============================] - 2s 591us/step\n",
      "Accuracy: 0.4944002417161849\n",
      "AUC: 0.6182828313260625\n",
      "\n",
      "macro\n",
      "Precision: 0.5207644248473271\n",
      "Recall: 0.330745023877368\n",
      "F1 Score: 0.26719381984638646\n",
      "\n",
      "weighted\n",
      "Precision: 0.7864287036305286\n",
      "Recall: 0.4944002417161849\n",
      "F1 Score: 0.5647480537527988\n",
      "\n",
      "Mean FNR: 0.6692549761226321\n",
      "Mean TNR: 0.9005037589744659\n",
      "Mean FPR: 0.09949624102553416\n",
      "Mean TPR: 0.330745023877368\n"
     ]
    }
   ],
   "source": [
    "calculate_performance_metrics(x_test_adv, y_test, model)"
   ]
  },
  {
   "cell_type": "code",
   "execution_count": 16,
   "id": "dec308aa-0440-47d7-89e8-2ee56bf84950",
   "metadata": {},
   "outputs": [],
   "source": [
    "attack = FastGradientMethod(estimator=classifier, eps=0.2)\n",
    "\n",
    "x_test_adv = attack.generate(x=x_test)"
   ]
  },
  {
   "cell_type": "code",
   "execution_count": 17,
   "id": "b5a6d221-a190-4c67-b288-ee1e1d0d0d95",
   "metadata": {},
   "outputs": [
    {
     "name": "stdout",
     "output_type": "stream",
     "text": [
      "3103/3103 [==============================] - 2s 619us/step\n",
      "Accuracy: 0.4712357739953671\n",
      "AUC: 0.5663366590169687\n",
      "\n",
      "macro\n",
      "Precision: 0.6979182086736251\n",
      "Recall: 0.3215742178453354\n",
      "F1 Score: 0.26514780839215063\n",
      "\n",
      "weighted\n",
      "Precision: 0.844720249526362\n",
      "Recall: 0.4712357739953671\n",
      "F1 Score: 0.5628866213391991\n",
      "\n",
      "Mean FNR: 0.6784257821546648\n",
      "Mean TNR: 0.901024703429041\n",
      "Mean FPR: 0.09897529657095895\n",
      "Mean TPR: 0.3215742178453354\n"
     ]
    }
   ],
   "source": [
    "calculate_performance_metrics(x_test_adv, y_test, model)"
   ]
  },
  {
   "cell_type": "code",
   "execution_count": 18,
   "id": "65f45c9a-1fc8-4de0-b8c8-dd044e2f178d",
   "metadata": {},
   "outputs": [],
   "source": [
    "attack = FastGradientMethod(estimator=classifier, eps=0.25)\n",
    "\n",
    "x_test_adv = attack.generate(x=x_test)"
   ]
  },
  {
   "cell_type": "code",
   "execution_count": 19,
   "id": "7e7ab15e-9a23-4b10-9c41-e62abef6c42d",
   "metadata": {},
   "outputs": [
    {
     "name": "stdout",
     "output_type": "stream",
     "text": [
      "3103/3103 [==============================] - 2s 619us/step\n",
      "Accuracy: 0.4619800584147447\n",
      "AUC: 0.5506317547926011\n",
      "\n",
      "macro\n",
      "Precision: 0.3638329017970643\n",
      "Recall: 0.3176500685963209\n",
      "F1 Score: 0.2630745671594673\n",
      "\n",
      "weighted\n",
      "Precision: 0.8062673204740781\n",
      "Recall: 0.4619800584147447\n",
      "F1 Score: 0.5580897855541619\n",
      "\n",
      "Mean FNR: 0.682349931403679\n",
      "Mean TNR: 0.89970461601088\n",
      "Mean FPR: 0.10029538398912007\n",
      "Mean TPR: 0.3176500685963209\n"
     ]
    }
   ],
   "source": [
    "calculate_performance_metrics(x_test_adv, y_test, model)"
   ]
  },
  {
   "cell_type": "code",
   "execution_count": 20,
   "id": "f947fc62-333e-4545-aa78-cee85993fe5c",
   "metadata": {},
   "outputs": [],
   "source": [
    "attack = FastGradientMethod(estimator=classifier, eps=0.3)\n",
    "\n",
    "x_test_adv = attack.generate(x=x_test)"
   ]
  },
  {
   "cell_type": "code",
   "execution_count": 21,
   "id": "6932efdd-64ea-4027-bab2-8c54fd3d14aa",
   "metadata": {},
   "outputs": [
    {
     "name": "stdout",
     "output_type": "stream",
     "text": [
      "3103/3103 [==============================] - 2s 613us/step\n",
      "Accuracy: 0.4160338402658878\n",
      "AUC: 0.545100077280249\n",
      "\n",
      "macro\n",
      "Precision: 0.33158826862732627\n",
      "Recall: 0.298192757816749\n",
      "F1 Score: 0.24315899095695093\n",
      "\n",
      "weighted\n",
      "Precision: 0.7131222816607711\n",
      "Recall: 0.4160338402658878\n",
      "F1 Score: 0.5080195922219304\n",
      "\n",
      "Mean FNR: 0.701807242183251\n",
      "Mean TNR: 0.8853505811867467\n",
      "Mean FPR: 0.1146494188132533\n",
      "Mean TPR: 0.298192757816749\n"
     ]
    }
   ],
   "source": [
    "calculate_performance_metrics(x_test_adv, y_test, model)"
   ]
  },
  {
   "cell_type": "code",
   "execution_count": null,
   "id": "01fecabc-2822-4d84-8a87-bfd5d8a92162",
   "metadata": {},
   "outputs": [],
   "source": []
  }
 ],
 "metadata": {
  "kernelspec": {
   "display_name": "Python 3 (ipykernel)",
   "language": "python",
   "name": "python3"
  },
  "language_info": {
   "codemirror_mode": {
    "name": "ipython",
    "version": 3
   },
   "file_extension": ".py",
   "mimetype": "text/x-python",
   "name": "python",
   "nbconvert_exporter": "python",
   "pygments_lexer": "ipython3",
   "version": "3.11.5"
  }
 },
 "nbformat": 4,
 "nbformat_minor": 5
}
