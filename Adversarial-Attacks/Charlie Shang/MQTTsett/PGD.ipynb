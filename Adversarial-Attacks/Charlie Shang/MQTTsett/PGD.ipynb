{
 "cells": [
  {
   "cell_type": "code",
   "execution_count": 1,
   "id": "be6e67ee-0350-4197-bcfc-401515a6f47e",
   "metadata": {},
   "outputs": [
    {
     "name": "stderr",
     "output_type": "stream",
     "text": [
      "2024-02-26 10:23:41.762130: I tensorflow/core/util/port.cc:113] oneDNN custom operations are on. You may see slightly different numerical results due to floating-point round-off errors from different computation orders. To turn them off, set the environment variable `TF_ENABLE_ONEDNN_OPTS=0`.\n",
      "2024-02-26 10:23:41.764758: I external/local_tsl/tsl/cuda/cudart_stub.cc:31] Could not find cuda drivers on your machine, GPU will not be used.\n",
      "2024-02-26 10:23:41.793897: E external/local_xla/xla/stream_executor/cuda/cuda_dnn.cc:9261] Unable to register cuDNN factory: Attempting to register factory for plugin cuDNN when one has already been registered\n",
      "2024-02-26 10:23:41.793954: E external/local_xla/xla/stream_executor/cuda/cuda_fft.cc:607] Unable to register cuFFT factory: Attempting to register factory for plugin cuFFT when one has already been registered\n",
      "2024-02-26 10:23:41.794958: E external/local_xla/xla/stream_executor/cuda/cuda_blas.cc:1515] Unable to register cuBLAS factory: Attempting to register factory for plugin cuBLAS when one has already been registered\n",
      "2024-02-26 10:23:41.800242: I external/local_tsl/tsl/cuda/cudart_stub.cc:31] Could not find cuda drivers on your machine, GPU will not be used.\n",
      "2024-02-26 10:23:41.801275: I tensorflow/core/platform/cpu_feature_guard.cc:182] This TensorFlow binary is optimized to use available CPU instructions in performance-critical operations.\n",
      "To enable the following instructions: AVX2 AVX512F AVX512_VNNI AVX512_BF16 AVX_VNNI AMX_TILE AMX_INT8 AMX_BF16 FMA, in other operations, rebuild TensorFlow with the appropriate compiler flags.\n",
      "2024-02-26 10:23:42.581965: W tensorflow/compiler/tf2tensorrt/utils/py_utils.cc:38] TF-TRT Warning: Could not find TensorRT\n",
      "/opt/conda/lib/python3.11/site-packages/tqdm/auto.py:21: TqdmWarning: IProgress not found. Please update jupyter and ipywidgets. See https://ipywidgets.readthedocs.io/en/stable/user_install.html\n",
      "  from .autonotebook import tqdm as notebook_tqdm\n"
     ]
    }
   ],
   "source": [
    "import tensorflow as tf\n",
    "from tensorflow.keras.models import Sequential\n",
    "from tensorflow.keras.layers import Conv2D, MaxPooling2D, Dropout, Flatten, Dense\n",
    "\n",
    "from art.attacks.evasion import ProjectedGradientDescent\n",
    "from art.estimators.classification import TensorFlowV2Classifier\n",
    "from art.utils import load_dataset\n",
    "\n",
    "import numpy as np\n",
    "import pandas as pd\n",
    "\n",
    "from sklearn import metrics\n",
    "from warnings import simplefilter\n",
    "\n",
    "import joblib"
   ]
  },
  {
   "cell_type": "code",
   "execution_count": 2,
   "id": "cd61f690-d764-42d2-8f61-e4a6ac17bb8b",
   "metadata": {},
   "outputs": [],
   "source": [
    "def calculate_performance_metrics(x_test, y_test, model):\n",
    "\n",
    "    # Predictions\n",
    "    y_pred = model.predict(x_test)\n",
    "    y_pred_classes = np.argmax(y_pred, axis=1)\n",
    "    \n",
    "    report = metrics.classification_report(y_test, y_pred_classes, output_dict=True, zero_division=1)\n",
    "    \n",
    "    precision_macro = report['macro avg']['precision']\n",
    "    precision_weighted = report['weighted avg']['precision']\n",
    "    accuracy = report['accuracy']\n",
    "    recall_macro = report['macro avg']['recall']\n",
    "    recall_weighted = report['weighted avg']['recall']\n",
    "    f1_macro = report['macro avg']['f1-score']\n",
    "    f1_weighted = report['weighted avg']['f1-score']\n",
    "    auc = metrics.roc_auc_score(y_test, y_pred, multi_class='ovr')\n",
    "\n",
    "    print(f\"Accuracy: {accuracy}\\nAUC: {auc}\")\n",
    "    \n",
    "    print(\"\\nmacro\")\n",
    "    print(f\"Precision: {precision_macro}\\nRecall: {recall_macro}\\nF1 Score: {f1_macro}\")\n",
    "\n",
    "    print(\"\\nweighted\")\n",
    "    print(f\"Precision: {precision_weighted}\\nRecall: {recall_weighted}\\nF1 Score: {f1_weighted}\")\n",
    "    print()\n",
    "    \n",
    "    # Confusion matrix for FNR, TNR, FPR, TPR\n",
    "    cm = metrics.confusion_matrix(y_test, y_pred_classes)\n",
    "    def calculate_rates(conf_matrix, class_index):\n",
    "        tp = conf_matrix[class_index, class_index]\n",
    "        fn = np.sum(conf_matrix[class_index, :]) - tp\n",
    "        fp = np.sum(conf_matrix[:, class_index]) - tp\n",
    "        tn = np.sum(conf_matrix) - (tp + fn + fp)\n",
    "    \n",
    "        fnr = fn / (fn + tp)\n",
    "        tnr = tn / (tn + fp)\n",
    "        fpr = fp / (fp + tn)\n",
    "        tpr = tp / (tp + fn)\n",
    "        return fnr, tnr, fpr, tpr\n",
    "\n",
    "    # Calculate and aggregate rates\n",
    "    fnrs, tnrs, fprs, tprs = [], [], [], []\n",
    "    for i in range(cm.shape[0]):\n",
    "        fnr, tnr, fpr, tpr = calculate_rates(cm, i)\n",
    "        fnrs.append(fnr)\n",
    "        tnrs.append(tnr)\n",
    "        fprs.append(fpr)\n",
    "        tprs.append(tpr)\n",
    "    \n",
    "    mean_fnr = np.mean(fnrs)\n",
    "    mean_tnr = np.mean(tnrs)\n",
    "    mean_fpr = np.mean(fprs)\n",
    "    mean_tpr = np.mean(tprs)\n",
    "\n",
    "    # Printing the mean metrics\n",
    "    print(f\"Mean FNR: {mean_fnr}\\nMean TNR: {mean_tnr}\\nMean FPR: {mean_fpr}\\nMean TPR: {mean_tpr}\")"
   ]
  },
  {
   "cell_type": "code",
   "execution_count": 3,
   "id": "c9e931bf-6797-49aa-9780-fb41cd7b6777",
   "metadata": {},
   "outputs": [
    {
     "name": "stdout",
     "output_type": "stream",
     "text": [
      "Ready to generate train and test datasets\n"
     ]
    }
   ],
   "source": [
    "#with two dataset splitted\n",
    "dftrain = pd.read_csv(\"/home/jovyan/MQTTset/train70_reduced.csv\") \n",
    "dftest = pd.read_csv(\"/home/jovyan/MQTTset/test30_reduced.csv\")\n",
    "\n",
    "# dftrain = pd.read_csv(\"train70.csv\", low_memory=False) \n",
    "# dftest = pd.read_csv(\"test30.csv\", low_memory=False)\n",
    "\n",
    "simplefilter(action='ignore', category=FutureWarning)\n",
    "seed = 7\n",
    "\n",
    "#train\n",
    "#print(dftrain.loc[dftrain['target'] == 'legitimate'])\n",
    "class_names = dftrain.target.unique()\n",
    "dftrain=dftrain.astype('category')\n",
    "cat_columns = dftrain.select_dtypes(['category']).columns\n",
    "dftrain[cat_columns] = dftrain[cat_columns].apply(lambda x: x.cat.codes)\n",
    "#print(dftrain.loc[125, 'target'])\n",
    "x_columns = dftrain.columns.drop('target')\n",
    "x_train = dftrain[x_columns].values\n",
    "y_train = dftrain['target']\n",
    "\n",
    "#test\n",
    "class_names = dftest.target.unique()\n",
    "dftest=dftest.astype('category')\n",
    "cat_columns = dftest.select_dtypes(['category']).columns\n",
    "dftest[cat_columns] = dftest[cat_columns].apply(lambda x: x.cat.codes)\n",
    "x_columns = dftest.columns.drop('target')\n",
    "x_test = dftest[x_columns].values\n",
    "y_test = dftest['target']\n",
    "\n",
    "print(\"Ready to generate train and test datasets\")\n",
    "\n",
    "from sklearn import preprocessing\n",
    "scaler = preprocessing.MinMaxScaler()\n",
    "x_train_scaled = scaler.fit_transform(x_train)\n",
    "x_test_scaled = scaler.transform(x_test)\n",
    "\n",
    "x_train = np.copy(x_train_scaled)\n",
    "x_test = np.copy(x_test_scaled)"
   ]
  },
  {
   "cell_type": "code",
   "execution_count": 4,
   "id": "bc1eaba0-78b4-48ff-946b-41d18cec41f2",
   "metadata": {},
   "outputs": [
    {
     "name": "stderr",
     "output_type": "stream",
     "text": [
      "2024-02-26 10:23:47.776127: W tensorflow/core/util/tensor_slice_reader.cc:98] Could not open ram://194fc08f1c7b44fb90cef7737a4e3e21: INVALID_ARGUMENT: ram://194fc08f1c7b44fb90cef7737a4e3e21 is a directory.\n"
     ]
    }
   ],
   "source": [
    "model = joblib.load(\"/home/jovyan/MQTTset/dl/new_dl/dnn.joblib\")"
   ]
  },
  {
   "cell_type": "code",
   "execution_count": 5,
   "id": "f778d492-4b74-47f0-8aab-73339777edcb",
   "metadata": {},
   "outputs": [],
   "source": [
    "classifier = TensorFlowV2Classifier(\n",
    "    model=model,\n",
    "    nb_classes=6,\n",
    "    input_shape=(33,),\n",
    "    loss_object=tf.keras.losses.SparseCategoricalCrossentropy(),\n",
    ")"
   ]
  },
  {
   "cell_type": "code",
   "execution_count": 6,
   "id": "37384a58-df09-4288-814d-51f1faece572",
   "metadata": {},
   "outputs": [
    {
     "name": "stderr",
     "output_type": "stream",
     "text": [
      "                                        \r"
     ]
    }
   ],
   "source": [
    "# Initialize PGD attack\n",
    "attack = ProjectedGradientDescent(estimator=classifier, eps=0.01)\n",
    "\n",
    "# Generate adversarial test examples\n",
    "adv_test_examples = attack.generate(x=x_test)"
   ]
  },
  {
   "cell_type": "code",
   "execution_count": 7,
   "id": "d2bea953-0675-407d-a461-378f4c766f3a",
   "metadata": {},
   "outputs": [
    {
     "name": "stdout",
     "output_type": "stream",
     "text": [
      "3103/3103 [==============================] - 2s 641us/step\n",
      "Accuracy: 0.06002618592003223\n",
      "AUC: 0.6019832832475696\n",
      "\n",
      "macro\n",
      "Precision: 0.8389884895660815\n",
      "Recall: 0.20656330041322138\n",
      "F1 Score: 0.07969956012320527\n",
      "\n",
      "weighted\n",
      "Precision: 0.9681058073601138\n",
      "Recall: 0.06002618592003223\n",
      "F1 Score: 0.05179905604065773\n",
      "\n",
      "Mean FNR: 0.7934366995867785\n",
      "Mean TNR: 0.8379890013748281\n",
      "Mean FPR: 0.16201099862517185\n",
      "Mean TPR: 0.20656330041322138\n"
     ]
    }
   ],
   "source": [
    "calculate_performance_metrics(adv_test_examples, y_test, model)"
   ]
  },
  {
   "cell_type": "code",
   "execution_count": 8,
   "id": "cbb5bda1-7980-43b1-bdbd-c7d681dc062d",
   "metadata": {},
   "outputs": [
    {
     "name": "stderr",
     "output_type": "stream",
     "text": [
      "                                        \r"
     ]
    }
   ],
   "source": [
    "# Initialize PGD attack\n",
    "attack = ProjectedGradientDescent(estimator=classifier, eps=0.05)\n",
    "\n",
    "# Generate adversarial test examples\n",
    "adv_test_examples = attack.generate(x=x_test)"
   ]
  },
  {
   "cell_type": "code",
   "execution_count": 9,
   "id": "3ac8ce51-6f40-4ffd-9b7b-0d878dc17995",
   "metadata": {},
   "outputs": [
    {
     "name": "stdout",
     "output_type": "stream",
     "text": [
      "3103/3103 [==============================] - 2s 649us/step\n",
      "Accuracy: 0.2622519891227717\n",
      "AUC: 0.624969225525222\n",
      "\n",
      "macro\n",
      "Precision: 0.4218070863256342\n",
      "Recall: 0.2457362073214268\n",
      "F1 Score: 0.15630167225455008\n",
      "\n",
      "weighted\n",
      "Precision: 0.732751780605736\n",
      "Recall: 0.2622519891227717\n",
      "F1 Score: 0.22384832822592032\n",
      "\n",
      "Mean FNR: 0.7542637926785732\n",
      "Mean TNR: 0.8467758517406093\n",
      "Mean FPR: 0.1532241482593905\n",
      "Mean TPR: 0.2457362073214268\n"
     ]
    }
   ],
   "source": [
    "calculate_performance_metrics(adv_test_examples, y_test, model)"
   ]
  },
  {
   "cell_type": "code",
   "execution_count": 6,
   "id": "b787aecb-ad28-4554-b840-d516f0760ffb",
   "metadata": {},
   "outputs": [
    {
     "name": "stderr",
     "output_type": "stream",
     "text": [
      "                                        \r"
     ]
    }
   ],
   "source": [
    "# Initialize PGD attack\n",
    "attack = ProjectedGradientDescent(estimator=classifier, eps=0.1)\n",
    "\n",
    "# Generate adversarial test examples\n",
    "adv_test_examples = attack.generate(x=x_test)"
   ]
  },
  {
   "cell_type": "code",
   "execution_count": 7,
   "id": "cb192c27-ae29-4afb-922f-e57834a744a6",
   "metadata": {},
   "outputs": [
    {
     "data": {
      "text/plain": [
       "array([[ 6.14285707e-01,  1.87469304e-01,  0.00000000e+00, ...,\n",
       "        -1.00000001e-01,  1.00000001e-01,  0.00000000e+00],\n",
       "       [ 8.57142866e-01,  1.11681933e-04,  6.23268709e-02, ...,\n",
       "         0.00000000e+00,  0.00000000e+00,  0.00000000e+00],\n",
       "       [ 7.57142842e-01,  4.48961347e-01,  1.13850415e-01, ...,\n",
       "        -1.00000001e-01, -1.00000001e-01, -1.00000001e-01],\n",
       "       ...,\n",
       "       [ 2.85714298e-01,  1.14027247e-01,  1.00000001e-01, ...,\n",
       "         1.00000001e-01, -1.00000001e-01,  1.00000001e-01],\n",
       "       [ 3.85714293e-01, -9.70962718e-02, -1.00000001e-01, ...,\n",
       "        -1.00000001e-01,  1.00000001e-01, -1.00000001e-01],\n",
       "       [ 1.85714304e-01,  1.00000001e-01, -1.00000001e-01, ...,\n",
       "        -1.00000001e-01,  1.00000001e-01, -1.00000001e-01]], dtype=float32)"
      ]
     },
     "execution_count": 7,
     "metadata": {},
     "output_type": "execute_result"
    }
   ],
   "source": [
    "adv_test_examples"
   ]
  },
  {
   "cell_type": "code",
   "execution_count": 8,
   "id": "8a4722ca-55e4-47ee-b04b-9cc2db379061",
   "metadata": {},
   "outputs": [
    {
     "name": "stdout",
     "output_type": "stream",
     "text": [
      "3103/3103 [==============================] - 2s 574us/step\n",
      "Accuracy: 0.3399738140799678\n",
      "AUC: 0.5113734679859715\n",
      "\n",
      "macro\n",
      "Precision: 0.1405286380904408\n",
      "Recall: 0.17724833856592973\n",
      "F1 Score: 0.12740701834917934\n",
      "\n",
      "weighted\n",
      "Precision: 0.2154391893108761\n",
      "Recall: 0.3399738140799678\n",
      "F1 Score: 0.208135675075947\n",
      "\n",
      "Mean FNR: 0.8227516614340703\n",
      "Mean TNR: 0.8279783296272866\n",
      "Mean FPR: 0.17202167037271343\n",
      "Mean TPR: 0.17724833856592973\n"
     ]
    }
   ],
   "source": [
    "calculate_performance_metrics(adv_test_examples, y_test, model)"
   ]
  },
  {
   "cell_type": "code",
   "execution_count": 9,
   "id": "47c091a7-e69e-4ebf-be61-51449a2878ee",
   "metadata": {},
   "outputs": [
    {
     "name": "stderr",
     "output_type": "stream",
     "text": [
      "                                        \r"
     ]
    }
   ],
   "source": [
    "# Initialize PGD attack\n",
    "attack = ProjectedGradientDescent(estimator=classifier, eps=0.15)\n",
    "\n",
    "# Generate adversarial test examples\n",
    "adv_test_examples = attack.generate(x=x_test)"
   ]
  },
  {
   "cell_type": "code",
   "execution_count": 10,
   "id": "a6ffb1f2-a93f-407b-9773-78b9f88d5f72",
   "metadata": {},
   "outputs": [
    {
     "data": {
      "text/plain": [
       "array([[ 5.64285755e-01,  1.37469292e-01,  0.00000000e+00, ...,\n",
       "        -1.50000006e-01,  1.50000006e-01,  0.00000000e+00],\n",
       "       [ 8.57142866e-01,  1.11681933e-04,  6.23268709e-02, ...,\n",
       "         0.00000000e+00,  0.00000000e+00,  0.00000000e+00],\n",
       "       [ 7.07142830e-01,  4.98961359e-01,  6.38504252e-02, ...,\n",
       "        -1.50000006e-01, -1.50000006e-01, -1.50000006e-01],\n",
       "       ...,\n",
       "       [ 2.35714287e-01,  1.14027254e-01,  1.50000006e-01, ...,\n",
       "         1.50000006e-01, -1.50000006e-01,  1.50000006e-01],\n",
       "       [ 3.85714293e-01, -9.70962718e-02, -1.00000001e-01, ...,\n",
       "        -1.00000001e-01,  1.00000001e-01, -1.00000001e-01],\n",
       "       [ 4.35714304e-01,  1.50000006e-01, -1.50000006e-01, ...,\n",
       "        -1.50000006e-01, -4.99999970e-02, -5.00000045e-02]], dtype=float32)"
      ]
     },
     "execution_count": 10,
     "metadata": {},
     "output_type": "execute_result"
    }
   ],
   "source": [
    "adv_test_examples"
   ]
  },
  {
   "cell_type": "code",
   "execution_count": 11,
   "id": "20b7fd14-d8c2-48d7-83d0-4f1bce3af785",
   "metadata": {},
   "outputs": [
    {
     "name": "stdout",
     "output_type": "stream",
     "text": [
      "3103/3103 [==============================] - 2s 573us/step\n",
      "Accuracy: 0.3220465303655957\n",
      "AUC: 0.47507763485645377\n",
      "\n",
      "macro\n",
      "Precision: 0.1644071350360811\n",
      "Recall: 0.15259951436548358\n",
      "F1 Score: 0.1070994738850578\n",
      "\n",
      "weighted\n",
      "Precision: 0.22874126633445258\n",
      "Recall: 0.3220465303655957\n",
      "F1 Score: 0.20365767485657035\n",
      "\n",
      "Mean FNR: 0.8474004856345164\n",
      "Mean TNR: 0.8284018289143177\n",
      "Mean FPR: 0.1715981710856823\n",
      "Mean TPR: 0.15259951436548358\n"
     ]
    }
   ],
   "source": [
    "calculate_performance_metrics(adv_test_examples, y_test, model)"
   ]
  },
  {
   "cell_type": "code",
   "execution_count": 12,
   "id": "748ab693-e374-4d96-9a91-a3438dadf545",
   "metadata": {},
   "outputs": [
    {
     "name": "stderr",
     "output_type": "stream",
     "text": [
      "                                        \r"
     ]
    }
   ],
   "source": [
    "# Initialize PGD attack\n",
    "attack = ProjectedGradientDescent(estimator=classifier, eps=0.2)\n",
    "\n",
    "# Generate adversarial test examples\n",
    "adv_test_examples = attack.generate(x=x_test)"
   ]
  },
  {
   "cell_type": "code",
   "execution_count": 13,
   "id": "48913507-c4de-40e1-bbc9-7dbd4c51e8be",
   "metadata": {},
   "outputs": [
    {
     "name": "stdout",
     "output_type": "stream",
     "text": [
      "3103/3103 [==============================] - 2s 570us/step\n",
      "Accuracy: 0.3284822237889012\n",
      "AUC: 0.473288203957146\n",
      "\n",
      "macro\n",
      "Precision: 0.20148596906211\n",
      "Recall: 0.14845306990480245\n",
      "F1 Score: 0.09802112369297668\n",
      "\n",
      "weighted\n",
      "Precision: 0.3229207362988222\n",
      "Recall: 0.3284822237889012\n",
      "F1 Score: 0.20295855755491826\n",
      "\n",
      "Mean FNR: 0.8515469300951976\n",
      "Mean TNR: 0.8269899581054238\n",
      "Mean FPR: 0.17301004189457628\n",
      "Mean TPR: 0.14845306990480245\n"
     ]
    }
   ],
   "source": [
    "calculate_performance_metrics(adv_test_examples, y_test, model)"
   ]
  },
  {
   "cell_type": "code",
   "execution_count": 14,
   "id": "6f53afc2-eb14-4336-aaa6-b56c597a90d3",
   "metadata": {},
   "outputs": [
    {
     "name": "stderr",
     "output_type": "stream",
     "text": [
      "                                        \r"
     ]
    }
   ],
   "source": [
    "# Initialize PGD attack\n",
    "attack = ProjectedGradientDescent(estimator=classifier, eps=0.25)\n",
    "\n",
    "# Generate adversarial test examples\n",
    "adv_test_examples = attack.generate(x=x_test)"
   ]
  },
  {
   "cell_type": "code",
   "execution_count": 15,
   "id": "506006f9-d5ac-420e-9e8a-0bb6490ae4d7",
   "metadata": {},
   "outputs": [
    {
     "name": "stdout",
     "output_type": "stream",
     "text": [
      "3103/3103 [==============================] - 2s 569us/step\n",
      "Accuracy: 0.316265484943096\n",
      "AUC: 0.4769162356733166\n",
      "\n",
      "macro\n",
      "Precision: 0.3167606515948424\n",
      "Recall: 0.14382457679728364\n",
      "F1 Score: 0.09852189077902503\n",
      "\n",
      "weighted\n",
      "Precision: 0.3970746690459797\n",
      "Recall: 0.316265484943096\n",
      "F1 Score: 0.20357676086666607\n",
      "\n",
      "Mean FNR: 0.8561754232027164\n",
      "Mean TNR: 0.8279531692206582\n",
      "Mean FPR: 0.1720468307793418\n",
      "Mean TPR: 0.14382457679728364\n"
     ]
    }
   ],
   "source": [
    "calculate_performance_metrics(adv_test_examples, y_test, model)"
   ]
  },
  {
   "cell_type": "code",
   "execution_count": 16,
   "id": "06b5eb18-4bc2-4b26-b508-44d8f391e7b0",
   "metadata": {},
   "outputs": [
    {
     "name": "stderr",
     "output_type": "stream",
     "text": [
      "                                        \r"
     ]
    }
   ],
   "source": [
    "# Initialize PGD attack\n",
    "attack = ProjectedGradientDescent(estimator=classifier, eps=0.3)\n",
    "\n",
    "# Generate adversarial test examples\n",
    "adv_test_examples = attack.generate(x=x_test)"
   ]
  },
  {
   "cell_type": "code",
   "execution_count": 17,
   "id": "7d34dba4-3a53-421f-8301-244a0c1011e2",
   "metadata": {},
   "outputs": [
    {
     "name": "stdout",
     "output_type": "stream",
     "text": [
      "3103/3103 [==============================] - 2s 575us/step\n",
      "Accuracy: 0.3170309195286534\n",
      "AUC: 0.4716245410261512\n",
      "\n",
      "macro\n",
      "Precision: 0.1320374735812414\n",
      "Recall: 0.14630590782772088\n",
      "F1 Score: 0.09424074680238377\n",
      "\n",
      "weighted\n",
      "Precision: 0.33249163948374627\n",
      "Recall: 0.3170309195286534\n",
      "F1 Score: 0.2055580669913406\n",
      "\n",
      "Mean FNR: 0.8536940921722791\n",
      "Mean TNR: 0.829475213842667\n",
      "Mean FPR: 0.17052478615733313\n",
      "Mean TPR: 0.14630590782772088\n"
     ]
    }
   ],
   "source": [
    "calculate_performance_metrics(adv_test_examples, y_test, model)"
   ]
  },
  {
   "cell_type": "code",
   "execution_count": null,
   "id": "1a6c959d-11bb-4fc5-9c0e-2d157b785d70",
   "metadata": {},
   "outputs": [],
   "source": []
  }
 ],
 "metadata": {
  "kernelspec": {
   "display_name": "Python 3 (ipykernel)",
   "language": "python",
   "name": "python3"
  },
  "language_info": {
   "codemirror_mode": {
    "name": "ipython",
    "version": 3
   },
   "file_extension": ".py",
   "mimetype": "text/x-python",
   "name": "python",
   "nbconvert_exporter": "python",
   "pygments_lexer": "ipython3",
   "version": "3.11.5"
  }
 },
 "nbformat": 4,
 "nbformat_minor": 5
}
