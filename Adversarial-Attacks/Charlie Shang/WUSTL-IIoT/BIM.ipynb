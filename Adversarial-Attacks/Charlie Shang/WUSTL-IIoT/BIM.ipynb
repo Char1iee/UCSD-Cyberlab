{
 "cells": [
  {
   "cell_type": "code",
   "execution_count": 7,
   "id": "0de82456-354b-4095-9e22-ea5f04e19679",
   "metadata": {},
   "outputs": [],
   "source": [
    "import tensorflow as tf\n",
    "from tensorflow.keras.models import Sequential\n",
    "from tensorflow.keras.layers import Conv2D, MaxPooling2D, Dropout, Flatten, Dense\n",
    "\n",
    "from art.attacks.evasion import BasicIterativeMethod\n",
    "from art.estimators.classification import TensorFlowV2Classifier\n",
    "from art.utils import load_dataset\n",
    "\n",
    "import numpy as np\n",
    "import pandas as pd\n",
    "\n",
    "from sklearn import metrics\n",
    "\n",
    "import joblib"
   ]
  },
  {
   "cell_type": "code",
   "execution_count": 8,
   "id": "3ce6f39c-e49e-4032-a7e2-678a482c68a4",
   "metadata": {},
   "outputs": [],
   "source": [
    "def calculate_performance_metrics(x_test, y_test, model):\n",
    "\n",
    "    # Predictions\n",
    "    y_pred = model.predict(x_test)\n",
    "    y_pred_classes = np.argmax(y_pred, axis=1)\n",
    "    \n",
    "    report = metrics.classification_report(y_test, y_pred_classes, output_dict=True, zero_division=1)\n",
    "    \n",
    "    precision_macro = report['macro avg']['precision']\n",
    "    precision_weighted = report['weighted avg']['precision']\n",
    "    accuracy = report['accuracy']\n",
    "    recall_macro = report['macro avg']['recall']\n",
    "    recall_weighted = report['weighted avg']['recall']\n",
    "    f1_macro = report['macro avg']['f1-score']\n",
    "    f1_weighted = report['weighted avg']['f1-score']\n",
    "    auc = metrics.roc_auc_score(y_test, y_pred, multi_class='ovr')\n",
    "\n",
    "    print(f\"Accuracy: {accuracy}\\nAUC: {auc}\")\n",
    "    \n",
    "    print(\"\\nmacro\")\n",
    "    print(f\"Precision: {precision_macro}\\nRecall: {recall_macro}\\nF1 Score: {f1_macro}\")\n",
    "\n",
    "    print(\"\\nweighted\")\n",
    "    print(f\"Precision: {precision_weighted}\\nRecall: {recall_weighted}\\nF1 Score: {f1_weighted}\")\n",
    "    print()\n",
    "    \n",
    "    # Confusion matrix for FNR, TNR, FPR, TPR\n",
    "    cm = metrics.confusion_matrix(y_test, y_pred_classes)\n",
    "    def calculate_rates(conf_matrix, class_index):\n",
    "        tp = conf_matrix[class_index, class_index]\n",
    "        fn = np.sum(conf_matrix[class_index, :]) - tp\n",
    "        fp = np.sum(conf_matrix[:, class_index]) - tp\n",
    "        tn = np.sum(conf_matrix) - (tp + fn + fp)\n",
    "    \n",
    "        fnr = fn / (fn + tp)\n",
    "        tnr = tn / (tn + fp)\n",
    "        fpr = fp / (fp + tn)\n",
    "        tpr = tp / (tp + fn)\n",
    "        return fnr, tnr, fpr, tpr\n",
    "\n",
    "    # Calculate and aggregate rates\n",
    "    fnrs, tnrs, fprs, tprs = [], [], [], []\n",
    "    for i in range(cm.shape[0]):\n",
    "        fnr, tnr, fpr, tpr = calculate_rates(cm, i)\n",
    "        fnrs.append(fnr)\n",
    "        tnrs.append(tnr)\n",
    "        fprs.append(fpr)\n",
    "        tprs.append(tpr)\n",
    "    \n",
    "    mean_fnr = np.mean(fnrs)\n",
    "    mean_tnr = np.mean(tnrs)\n",
    "    mean_fpr = np.mean(fprs)\n",
    "    mean_tpr = np.mean(tprs)\n",
    "\n",
    "    # Printing the mean metrics\n",
    "    print(f\"Mean FNR: {mean_fnr}\\nMean TNR: {mean_tnr}\\nMean FPR: {mean_fpr}\\nMean TPR: {mean_tpr}\")"
   ]
  },
  {
   "cell_type": "code",
   "execution_count": 9,
   "id": "ac4f4ba5-dceb-4a58-8f94-3a8fcdeb2e85",
   "metadata": {},
   "outputs": [],
   "source": [
    "x_train = pd.read_csv('/home/jovyan/WUSTL-IIoT/preprocessed_data/x_train.csv', low_memory=False)\n",
    "y_train = pd.read_csv('/home/jovyan/WUSTL-IIoT/preprocessed_data/y_train.csv', low_memory=False)\n",
    "x_val = pd.read_csv('/home/jovyan/WUSTL-IIoT/preprocessed_data/x_val.csv', low_memory=False)\n",
    "y_val = pd.read_csv('/home/jovyan/WUSTL-IIoT/preprocessed_data/y_val.csv', low_memory=False)\n",
    "x_test = pd.read_csv('/home/jovyan/WUSTL-IIoT/preprocessed_data/x_test.csv', low_memory=False)\n",
    "y_test = pd.read_csv('/home/jovyan/WUSTL-IIoT/preprocessed_data/y_test.csv', low_memory=False)"
   ]
  },
  {
   "cell_type": "code",
   "execution_count": 10,
   "id": "027eed69-0253-41d4-b76f-9032bc393f8b",
   "metadata": {},
   "outputs": [],
   "source": [
    "from sklearn import preprocessing\n",
    "s1 = preprocessing.MinMaxScaler()\n",
    "s2 = preprocessing.MinMaxScaler()\n",
    "s3 = preprocessing.MinMaxScaler()\n",
    "\n",
    "x_train_scaled = s1.fit_transform(x_train)\n",
    "x_val_scaled = s2.fit_transform(x_val)\n",
    "x_test_scaled = s3.fit_transform(x_test)\n",
    "\n",
    "x_train = np.copy(x_train_scaled)\n",
    "x_val = np.copy(x_val_scaled)\n",
    "x_test = np.copy(x_test_scaled)"
   ]
  },
  {
   "cell_type": "code",
   "execution_count": 11,
   "id": "8abe00f0-44b2-4263-8679-aee5723dae2b",
   "metadata": {},
   "outputs": [],
   "source": [
    "model = joblib.load(\"/home/jovyan/WUSTL-IIoT/dl/dl_new/dnn.joblib\")"
   ]
  },
  {
   "cell_type": "code",
   "execution_count": 12,
   "id": "ad18f6af-273d-4e46-9bc6-3ac515959d1a",
   "metadata": {},
   "outputs": [],
   "source": [
    "classifier = TensorFlowV2Classifier(\n",
    "    model=model,\n",
    "    nb_classes=5,\n",
    "    input_shape=(48,),\n",
    "    loss_object=tf.keras.losses.SparseCategoricalCrossentropy(),\n",
    ")"
   ]
  },
  {
   "cell_type": "code",
   "execution_count": 13,
   "id": "f8529b37-bb7a-4c47-861e-403dd68f607b",
   "metadata": {},
   "outputs": [
    {
     "name": "stderr",
     "output_type": "stream",
     "text": [
      "                                          \r"
     ]
    }
   ],
   "source": [
    "# Initialize the Elastic Net attack\n",
    "attack = BasicIterativeMethod(estimator=classifier, eps=0.01)\n",
    "\n",
    "# Generate adversarial test examples\n",
    "x_test_adv = attack.generate(x=x_test)"
   ]
  },
  {
   "cell_type": "code",
   "execution_count": 14,
   "id": "2a8add3d-c7b7-416e-9c4c-1d2ce5bbf58f",
   "metadata": {},
   "outputs": [
    {
     "name": "stdout",
     "output_type": "stream",
     "text": [
      "7466/7466 [==============================] - 4s 549us/step\n",
      "Accuracy: 0.9996316357882575\n",
      "AUC: 0.9999587922999147\n",
      "\n",
      "macro\n",
      "Precision: 0.8546620972836386\n",
      "Recall: 0.9230980771564614\n",
      "F1 Score: 0.8506926062079415\n",
      "\n",
      "weighted\n",
      "Precision: 0.9998586600158942\n",
      "Recall: 0.9996316357882575\n",
      "F1 Score: 0.9997090276077586\n",
      "\n",
      "Mean FNR: 0.07690192284353858\n",
      "Mean TNR: 0.9999261362349952\n",
      "Mean FPR: 7.386376500496653e-05\n",
      "Mean TPR: 0.9230980771564614\n"
     ]
    }
   ],
   "source": [
    "calculate_performance_metrics(x_test_adv, y_test, model)"
   ]
  },
  {
   "cell_type": "code",
   "execution_count": 15,
   "id": "17d62007-b627-4472-945c-babbdd9fa09c",
   "metadata": {},
   "outputs": [
    {
     "name": "stderr",
     "output_type": "stream",
     "text": [
      "                                          \r"
     ]
    }
   ],
   "source": [
    "# Initialize the Elastic Net attack\n",
    "attack = BasicIterativeMethod(estimator=classifier, eps=0.05)\n",
    "\n",
    "# Generate adversarial test examples\n",
    "x_test_adv = attack.generate(x=x_test)"
   ]
  },
  {
   "cell_type": "code",
   "execution_count": 16,
   "id": "50bc1b6d-c8eb-41ac-a6bf-756dbd88ce18",
   "metadata": {},
   "outputs": [
    {
     "name": "stdout",
     "output_type": "stream",
     "text": [
      "7466/7466 [==============================] - 4s 539us/step\n",
      "Accuracy: 0.9730005776620593\n",
      "AUC: 0.9908790127108805\n",
      "\n",
      "macro\n",
      "Precision: 0.5989956927963804\n",
      "Recall: 0.7132930863590052\n",
      "F1 Score: 0.5309286280469487\n",
      "\n",
      "weighted\n",
      "Precision: 0.9886878900292506\n",
      "Recall: 0.9730005776620593\n",
      "F1 Score: 0.9777752018518082\n",
      "\n",
      "Mean FNR: 0.2867069136409948\n",
      "Mean TNR: 0.9675463675918925\n",
      "Mean FPR: 0.0324536324081076\n",
      "Mean TPR: 0.7132930863590052\n"
     ]
    }
   ],
   "source": [
    "calculate_performance_metrics(x_test_adv, y_test, model)"
   ]
  },
  {
   "cell_type": "code",
   "execution_count": 9,
   "id": "1b820505-20ca-461b-a03b-73a545c9c195",
   "metadata": {},
   "outputs": [
    {
     "name": "stderr",
     "output_type": "stream",
     "text": [
      "                                          \r"
     ]
    }
   ],
   "source": [
    "# Initialize the Elastic Net attack\n",
    "attack = BasicIterativeMethod(estimator=classifier, eps=0.1)\n",
    "\n",
    "# Generate adversarial test examples\n",
    "x_test_adv = attack.generate(x=x_test)"
   ]
  },
  {
   "cell_type": "code",
   "execution_count": 10,
   "id": "fe077a0a-472e-4d38-9ff0-50b3a15d1013",
   "metadata": {},
   "outputs": [
    {
     "name": "stdout",
     "output_type": "stream",
     "text": [
      "7466/7466 [==============================] - 4s 564us/step\n",
      "Accuracy: 0.9294456955804666\n",
      "AUC: 0.8752588989821266\n",
      "\n",
      "macro\n",
      "Precision: 0.5398146001350101\n",
      "Recall: 0.43407474981921335\n",
      "F1 Score: 0.358654722298251\n",
      "\n",
      "weighted\n",
      "Precision: 0.957817143438853\n",
      "Recall: 0.9294456955804666\n",
      "F1 Score: 0.9149545175216659\n",
      "\n",
      "Mean FNR: 0.5659252501807868\n",
      "Mean TNR: 0.896355697745137\n",
      "Mean FPR: 0.10364430225486294\n",
      "Mean TPR: 0.43407474981921335\n"
     ]
    }
   ],
   "source": [
    "calculate_performance_metrics(x_test_adv, y_test, model)"
   ]
  },
  {
   "cell_type": "code",
   "execution_count": 11,
   "id": "146a6208-40d7-4cb1-ab0e-e6e0c9487dc6",
   "metadata": {},
   "outputs": [
    {
     "name": "stderr",
     "output_type": "stream",
     "text": [
      "                                          \r"
     ]
    }
   ],
   "source": [
    "# Initialize the Elastic Net attack\n",
    "attack = BasicIterativeMethod(estimator=classifier, eps=0.15)\n",
    "\n",
    "# Generate adversarial test examples\n",
    "x_test_adv = attack.generate(x=x_test)"
   ]
  },
  {
   "cell_type": "code",
   "execution_count": 12,
   "id": "d7835743-5a99-4e71-acce-b83b2f55d287",
   "metadata": {},
   "outputs": [
    {
     "name": "stdout",
     "output_type": "stream",
     "text": [
      "7466/7466 [==============================] - 4s 557us/step\n",
      "Accuracy: 0.9278968915083677\n",
      "AUC: 0.6429491885399685\n",
      "\n",
      "macro\n",
      "Precision: 0.5124657807786386\n",
      "Recall: 0.33517829110028363\n",
      "F1 Score: 0.3355800972634787\n",
      "\n",
      "weighted\n",
      "Precision: 0.9350213697128708\n",
      "Recall: 0.9278968915083677\n",
      "F1 Score: 0.9032354235500222\n",
      "\n",
      "Mean FNR: 0.6648217088997164\n",
      "Mean TNR: 0.8392157151721997\n",
      "Mean FPR: 0.16078428482780016\n",
      "Mean TPR: 0.33517829110028363\n"
     ]
    }
   ],
   "source": [
    "calculate_performance_metrics(x_test_adv, y_test, model)"
   ]
  },
  {
   "cell_type": "code",
   "execution_count": 8,
   "id": "68fdd781-1713-44a6-82c4-2f6734ad1aa0",
   "metadata": {},
   "outputs": [
    {
     "name": "stderr",
     "output_type": "stream",
     "text": [
      "                                          \r"
     ]
    }
   ],
   "source": [
    "# Initialize the Elastic Net attack\n",
    "attack = BasicIterativeMethod(estimator=classifier, eps=0.2)\n",
    "\n",
    "# Generate adversarial test examples\n",
    "x_test_adv = attack.generate(x=x_test)"
   ]
  },
  {
   "cell_type": "code",
   "execution_count": 9,
   "id": "5d3009ba-01fa-470e-861b-f715cea9b33c",
   "metadata": {},
   "outputs": [
    {
     "name": "stdout",
     "output_type": "stream",
     "text": [
      "7466/7466 [==============================] - 4s 555us/step\n",
      "Accuracy: 0.9277085234455449\n",
      "AUC: 0.6046158278872422\n",
      "\n",
      "macro\n",
      "Precision: 0.5110308085957888\n",
      "Recall: 0.32644378976501554\n",
      "F1 Score: 0.33359085694279983\n",
      "\n",
      "weighted\n",
      "Precision: 0.9290163178191778\n",
      "Recall: 0.9277085234455449\n",
      "F1 Score: 0.8995574555667065\n",
      "\n",
      "Mean FNR: 0.6735562102349844\n",
      "Mean TNR: 0.8199846897217163\n",
      "Mean FPR: 0.18001531027828369\n",
      "Mean TPR: 0.32644378976501554\n"
     ]
    }
   ],
   "source": [
    "calculate_performance_metrics(x_test_adv, y_test, model)"
   ]
  },
  {
   "cell_type": "code",
   "execution_count": 10,
   "id": "3cfa4100-1fe0-4c06-a804-100d691fe1f9",
   "metadata": {},
   "outputs": [
    {
     "name": "stderr",
     "output_type": "stream",
     "text": [
      "                                          \r"
     ]
    }
   ],
   "source": [
    "# Initialize the Elastic Net attack\n",
    "attack = BasicIterativeMethod(estimator=classifier, eps=0.25)\n",
    "\n",
    "# Generate adversarial test examples\n",
    "x_test_adv = attack.generate(x=x_test)"
   ]
  },
  {
   "cell_type": "code",
   "execution_count": 11,
   "id": "0a525874-5aed-4944-b102-2c69820f3003",
   "metadata": {},
   "outputs": [
    {
     "name": "stdout",
     "output_type": "stream",
     "text": [
      "7466/7466 [==============================] - 4s 555us/step\n",
      "Accuracy: 0.9276834077038352\n",
      "AUC: 0.5703854682974475\n",
      "\n",
      "macro\n",
      "Precision: 0.5107003430231337\n",
      "Recall: 0.3264383689518032\n",
      "F1 Score: 0.33341217913432536\n",
      "\n",
      "weighted\n",
      "Precision: 0.9274852029030842\n",
      "Recall: 0.9276834077038352\n",
      "F1 Score: 0.8987296045578035\n",
      "\n",
      "Mean FNR: 0.6735616310481968\n",
      "Mean TNR: 0.8155593509569842\n",
      "Mean FPR: 0.18444064904301588\n",
      "Mean TPR: 0.3264383689518032\n"
     ]
    }
   ],
   "source": [
    "calculate_performance_metrics(x_test_adv, y_test, model)"
   ]
  },
  {
   "cell_type": "code",
   "execution_count": 12,
   "id": "7f9fc7b1-ba24-425c-9c6c-bc66ece6fce3",
   "metadata": {},
   "outputs": [
    {
     "name": "stderr",
     "output_type": "stream",
     "text": [
      "                                          \r"
     ]
    }
   ],
   "source": [
    "# Initialize the Elastic Net attack\n",
    "attack = BasicIterativeMethod(estimator=classifier, eps=0.3)\n",
    "\n",
    "# Generate adversarial test examples\n",
    "x_test_adv = attack.generate(x=x_test)"
   ]
  },
  {
   "cell_type": "code",
   "execution_count": 13,
   "id": "7385de0a-394f-4900-92d6-41959ce0f40a",
   "metadata": {},
   "outputs": [
    {
     "name": "stdout",
     "output_type": "stream",
     "text": [
      "7466/7466 [==============================] - 4s 554us/step\n",
      "Accuracy: 0.9276834077038352\n",
      "AUC: 0.5698005009882172\n",
      "\n",
      "macro\n",
      "Precision: 0.5104870949372188\n",
      "Recall: 0.3264383689518032\n",
      "F1 Score: 0.33331066243223734\n",
      "\n",
      "weighted\n",
      "Precision: 0.926996040190814\n",
      "Recall: 0.9276834077038352\n",
      "F1 Score: 0.898468995872493\n",
      "\n",
      "Mean FNR: 0.6735616310481968\n",
      "Mean TNR: 0.8141528816090782\n",
      "Mean FPR: 0.18584711839092188\n",
      "Mean TPR: 0.3264383689518032\n"
     ]
    }
   ],
   "source": [
    "calculate_performance_metrics(x_test_adv, y_test, model)"
   ]
  },
  {
   "cell_type": "code",
   "execution_count": null,
   "id": "ec2cebff-c111-4132-9e08-f67633d5b97c",
   "metadata": {},
   "outputs": [],
   "source": []
  }
 ],
 "metadata": {
  "kernelspec": {
   "display_name": "Python 3 (ipykernel)",
   "language": "python",
   "name": "python3"
  },
  "language_info": {
   "codemirror_mode": {
    "name": "ipython",
    "version": 3
   },
   "file_extension": ".py",
   "mimetype": "text/x-python",
   "name": "python",
   "nbconvert_exporter": "python",
   "pygments_lexer": "ipython3",
   "version": "3.11.5"
  }
 },
 "nbformat": 4,
 "nbformat_minor": 5
}
