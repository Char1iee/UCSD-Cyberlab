{
 "cells": [
  {
   "cell_type": "code",
   "execution_count": 1,
   "id": "7f24ad19-3eb0-4249-9bc4-84742b237df4",
   "metadata": {},
   "outputs": [
    {
     "name": "stderr",
     "output_type": "stream",
     "text": [
      "2024-02-26 04:28:29.466490: I tensorflow/core/util/port.cc:113] oneDNN custom operations are on. You may see slightly different numerical results due to floating-point round-off errors from different computation orders. To turn them off, set the environment variable `TF_ENABLE_ONEDNN_OPTS=0`.\n",
      "2024-02-26 04:28:29.469244: I external/local_tsl/tsl/cuda/cudart_stub.cc:31] Could not find cuda drivers on your machine, GPU will not be used.\n",
      "2024-02-26 04:28:29.500762: E external/local_xla/xla/stream_executor/cuda/cuda_dnn.cc:9261] Unable to register cuDNN factory: Attempting to register factory for plugin cuDNN when one has already been registered\n",
      "2024-02-26 04:28:29.500807: E external/local_xla/xla/stream_executor/cuda/cuda_fft.cc:607] Unable to register cuFFT factory: Attempting to register factory for plugin cuFFT when one has already been registered\n",
      "2024-02-26 04:28:29.502404: E external/local_xla/xla/stream_executor/cuda/cuda_blas.cc:1515] Unable to register cuBLAS factory: Attempting to register factory for plugin cuBLAS when one has already been registered\n",
      "2024-02-26 04:28:29.509494: I external/local_tsl/tsl/cuda/cudart_stub.cc:31] Could not find cuda drivers on your machine, GPU will not be used.\n",
      "2024-02-26 04:28:29.510134: I tensorflow/core/platform/cpu_feature_guard.cc:182] This TensorFlow binary is optimized to use available CPU instructions in performance-critical operations.\n",
      "To enable the following instructions: AVX2 AVX512F AVX512_VNNI AVX512_BF16 AVX_VNNI AMX_TILE AMX_INT8 AMX_BF16 FMA, in other operations, rebuild TensorFlow with the appropriate compiler flags.\n",
      "2024-02-26 04:28:30.132255: W tensorflow/compiler/tf2tensorrt/utils/py_utils.cc:38] TF-TRT Warning: Could not find TensorRT\n",
      "/opt/conda/lib/python3.11/site-packages/tqdm/auto.py:21: TqdmWarning: IProgress not found. Please update jupyter and ipywidgets. See https://ipywidgets.readthedocs.io/en/stable/user_install.html\n",
      "  from .autonotebook import tqdm as notebook_tqdm\n"
     ]
    }
   ],
   "source": [
    "import tensorflow as tf\n",
    "from tensorflow.keras.models import Sequential\n",
    "from tensorflow.keras.layers import Conv2D, MaxPooling2D, Dropout, Flatten, Dense\n",
    "from tensorflow.keras.losses import SparseCategoricalCrossentropy\n",
    "\n",
    "from art.attacks.evasion import SaliencyMapMethod\n",
    "from art.estimators.classification import TensorFlowV2Classifier\n",
    "from art.utils import load_dataset\n",
    "\n",
    "import numpy as np\n",
    "import pandas as pd\n",
    "\n",
    "from sklearn import metrics\n",
    "\n",
    "import joblib"
   ]
  },
  {
   "cell_type": "code",
   "execution_count": 2,
   "id": "6941a06e-0370-47a9-b213-88396719cf31",
   "metadata": {},
   "outputs": [],
   "source": [
    "def calculate_performance_metrics(x_test, y_test, model):\n",
    "\n",
    "    # Predictions\n",
    "    y_pred = model.predict(x_test)\n",
    "    y_pred_classes = np.argmax(y_pred, axis=1)\n",
    "    \n",
    "    report = metrics.classification_report(y_test, y_pred_classes, output_dict=True, zero_division=1)\n",
    "    \n",
    "    precision_macro = report['macro avg']['precision']\n",
    "    precision_weighted = report['weighted avg']['precision']\n",
    "    accuracy = report['accuracy']\n",
    "    recall_macro = report['macro avg']['recall']\n",
    "    recall_weighted = report['weighted avg']['recall']\n",
    "    f1_macro = report['macro avg']['f1-score']\n",
    "    f1_weighted = report['weighted avg']['f1-score']\n",
    "    auc = metrics.roc_auc_score(y_test, y_pred, multi_class='ovr')\n",
    "\n",
    "    print(f\"Accuracy: {accuracy}\\nAUC: {auc}\")\n",
    "    \n",
    "    print(\"\\nmacro\")\n",
    "    print(f\"Precision: {precision_macro}\\nRecall: {recall_macro}\\nF1 Score: {f1_macro}\")\n",
    "\n",
    "    print(\"\\nweighted\")\n",
    "    print(f\"Precision: {precision_weighted}\\nRecall: {recall_weighted}\\nF1 Score: {f1_weighted}\")\n",
    "    print()\n",
    "    \n",
    "    # Confusion matrix for FNR, TNR, FPR, TPR\n",
    "    cm = metrics.confusion_matrix(y_test, y_pred_classes)\n",
    "    def calculate_rates(conf_matrix, class_index):\n",
    "        tp = conf_matrix[class_index, class_index]\n",
    "        fn = np.sum(conf_matrix[class_index, :]) - tp\n",
    "        fp = np.sum(conf_matrix[:, class_index]) - tp\n",
    "        tn = np.sum(conf_matrix) - (tp + fn + fp)\n",
    "    \n",
    "        fnr = fn / (fn + tp)\n",
    "        tnr = tn / (tn + fp)\n",
    "        fpr = fp / (fp + tn)\n",
    "        tpr = tp / (tp + fn)\n",
    "        return fnr, tnr, fpr, tpr\n",
    "\n",
    "    # Calculate and aggregate rates\n",
    "    fnrs, tnrs, fprs, tprs = [], [], [], []\n",
    "    for i in range(cm.shape[0]):\n",
    "        fnr, tnr, fpr, tpr = calculate_rates(cm, i)\n",
    "        fnrs.append(fnr)\n",
    "        tnrs.append(tnr)\n",
    "        fprs.append(fpr)\n",
    "        tprs.append(tpr)\n",
    "    \n",
    "    mean_fnr = np.mean(fnrs)\n",
    "    mean_tnr = np.mean(tnrs)\n",
    "    mean_fpr = np.mean(fprs)\n",
    "    mean_tpr = np.mean(tprs)\n",
    "\n",
    "    # Printing the mean metrics\n",
    "    print(f\"Mean FNR: {mean_fnr}\\nMean TNR: {mean_tnr}\\nMean FPR: {mean_fpr}\\nMean TPR: {mean_tpr}\")"
   ]
  },
  {
   "cell_type": "code",
   "execution_count": 3,
   "id": "805f16f5-4d82-4e1c-802b-fd9b514f75d4",
   "metadata": {},
   "outputs": [],
   "source": [
    "x_train = pd.read_csv('/home/jovyan/WUSTL-IIoT/preprocessed_data/x_train.csv', low_memory=False)\n",
    "y_train = pd.read_csv('/home/jovyan/WUSTL-IIoT/preprocessed_data/y_train.csv', low_memory=False)\n",
    "x_val = pd.read_csv('/home/jovyan/WUSTL-IIoT/preprocessed_data/x_val.csv', low_memory=False)\n",
    "y_val = pd.read_csv('/home/jovyan/WUSTL-IIoT/preprocessed_data/y_val.csv', low_memory=False)\n",
    "x_test = pd.read_csv('/home/jovyan/WUSTL-IIoT/preprocessed_data/x_test.csv', low_memory=False)\n",
    "y_test = pd.read_csv('/home/jovyan/WUSTL-IIoT/preprocessed_data/y_test.csv', low_memory=False)"
   ]
  },
  {
   "cell_type": "code",
   "execution_count": 4,
   "id": "adb37be3-e5ef-468b-9c99-b9000229eca9",
   "metadata": {},
   "outputs": [],
   "source": [
    "from sklearn import preprocessing\n",
    "s1 = preprocessing.MinMaxScaler()\n",
    "s2 = preprocessing.MinMaxScaler()\n",
    "s3 = preprocessing.MinMaxScaler()\n",
    "\n",
    "x_train_scaled = s1.fit_transform(x_train)\n",
    "x_val_scaled = s2.fit_transform(x_val)\n",
    "x_test_scaled = s3.fit_transform(x_test)\n",
    "\n",
    "x_train = np.copy(x_train_scaled)\n",
    "x_val = np.copy(x_val_scaled)\n",
    "x_test = np.copy(x_test_scaled)"
   ]
  },
  {
   "cell_type": "code",
   "execution_count": 5,
   "id": "d75bd472-bef6-471a-aa9b-d869774b409a",
   "metadata": {},
   "outputs": [
    {
     "name": "stdout",
     "output_type": "stream",
     "text": [
      "The history saving thread hit an unexpected error (OperationalError('database is locked')).History will not be written to the database.\n"
     ]
    }
   ],
   "source": [
    "model = joblib.load(\"/home/jovyan/WUSTL-IIoT/dl/dl_new/dnn.joblib\")"
   ]
  },
  {
   "cell_type": "code",
   "execution_count": 6,
   "id": "eb1a92d7-8427-479e-a18e-98cd4cc3b93d",
   "metadata": {},
   "outputs": [],
   "source": [
    "x_test_trimmed = x_test[20000:24000]\n",
    "y_test_trimmed = y_test[20000:24000]"
   ]
  },
  {
   "cell_type": "code",
   "execution_count": 7,
   "id": "596d5454-4971-4f0e-8a37-d0fd458aa267",
   "metadata": {},
   "outputs": [
    {
     "data": {
      "text/plain": [
       "array([0, 1, 2, 3, 4])"
      ]
     },
     "execution_count": 7,
     "metadata": {},
     "output_type": "execute_result"
    }
   ],
   "source": [
    "np.unique(y_test_trimmed)"
   ]
  },
  {
   "cell_type": "code",
   "execution_count": 8,
   "id": "3c2e8a30-f105-4844-8d53-014b5d99fb14",
   "metadata": {},
   "outputs": [],
   "source": [
    "classifier = TensorFlowV2Classifier(\n",
    "    model=model,\n",
    "    nb_classes=5,\n",
    "    input_shape=(48,),\n",
    "    loss_object=tf.keras.losses.SparseCategoricalCrossentropy(),\n",
    ")"
   ]
  },
  {
   "cell_type": "code",
   "execution_count": 9,
   "id": "e7ce5f34-0cb7-43a4-98b8-c01aab8ec8a4",
   "metadata": {},
   "outputs": [
    {
     "name": "stderr",
     "output_type": "stream",
     "text": [
      "/tmp/ipykernel_11823/1631696788.py:5: DeprecationWarning: `product` is deprecated as of NumPy 1.25.0, and will be removed in NumPy 2.0. Please use `prod` instead.\n",
      "  x_test_adv = attack.generate(x=x_test_trimmed)\n",
      "JSMA:   0%|          | 0/4000 [00:00<?, ?it/s]"
     ]
    },
    {
     "name": "stdout",
     "output_type": "stream",
     "text": [
      "WARNING:tensorflow:Calling GradientTape.gradient on a persistent tape inside its context is significantly less efficient than calling it outside the context (it causes the gradient ops to be recorded on the tape, leading to increased CPU and memory usage). Only call GradientTape.gradient inside the context if you actually want to trace the gradient in order to compute higher order derivatives.\n"
     ]
    },
    {
     "name": "stderr",
     "output_type": "stream",
     "text": [
      "JSMA: 100%|██████████| 4000/4000 [00:23<00:00, 167.69it/s]\n"
     ]
    }
   ],
   "source": [
    "# Initialize the JSMA attack\n",
    "attack = SaliencyMapMethod(classifier=classifier, theta=0.01, gamma = 0.01)\n",
    "\n",
    "# Generate adversarial examples\n",
    "x_test_adv = attack.generate(x=x_test_trimmed)"
   ]
  },
  {
   "cell_type": "code",
   "execution_count": 10,
   "id": "3c52c4b8-dc51-4472-b7a8-4e5ab7e82fb8",
   "metadata": {},
   "outputs": [
    {
     "name": "stdout",
     "output_type": "stream",
     "text": [
      "125/125 [==============================] - 0s 712us/step\n",
      "Accuracy: 0.99975\n",
      "AUC: 1.0\n",
      "\n",
      "macro\n",
      "Precision: 0.9\n",
      "Recall: 0.8\n",
      "F1 Score: 0.7333333333333333\n",
      "\n",
      "weighted\n",
      "Precision: 0.999875\n",
      "Recall: 0.99975\n",
      "F1 Score: 0.9996666666666666\n",
      "\n",
      "Mean FNR: 0.2\n",
      "Mean TNR: 0.9999499874968741\n",
      "Mean FPR: 5.001250312578145e-05\n",
      "Mean TPR: 0.8\n"
     ]
    }
   ],
   "source": [
    "calculate_performance_metrics(x_test_adv, y_test_trimmed, model)"
   ]
  },
  {
   "cell_type": "code",
   "execution_count": 11,
   "id": "4370919e-04fe-48fa-87a1-2cd008c5139c",
   "metadata": {},
   "outputs": [
    {
     "name": "stderr",
     "output_type": "stream",
     "text": [
      "/tmp/ipykernel_11823/2229238815.py:5: DeprecationWarning: `product` is deprecated as of NumPy 1.25.0, and will be removed in NumPy 2.0. Please use `prod` instead.\n",
      "  x_test_adv = attack.generate(x=x_test_trimmed)\n",
      "JSMA: 100%|██████████| 4000/4000 [00:24<00:00, 164.51it/s]\n"
     ]
    }
   ],
   "source": [
    "# Initialize the JSMA attack\n",
    "attack = SaliencyMapMethod(classifier=classifier, theta=0.05, gamma = 0.01)\n",
    "\n",
    "# Generate adversarial examples\n",
    "x_test_adv = attack.generate(x=x_test_trimmed)"
   ]
  },
  {
   "cell_type": "code",
   "execution_count": 12,
   "id": "b0008155-a926-417a-94b9-caba0b4cff2c",
   "metadata": {},
   "outputs": [
    {
     "name": "stdout",
     "output_type": "stream",
     "text": [
      "125/125 [==============================] - 0s 645us/step\n",
      "Accuracy: 0.9995\n",
      "AUC: 0.9999499874968741\n",
      "\n",
      "macro\n",
      "Precision: 0.8666666666666666\n",
      "Recall: 0.7992537313432836\n",
      "F1 Score: 0.699626168224299\n",
      "\n",
      "weighted\n",
      "Precision: 0.9998333333333334\n",
      "Recall: 0.9995\n",
      "F1 Score: 0.9994997663551402\n",
      "\n",
      "Mean FNR: 0.20074626865671644\n",
      "Mean TNR: 0.9998999749937484\n",
      "Mean FPR: 0.0001000250062515629\n",
      "Mean TPR: 0.7992537313432836\n"
     ]
    }
   ],
   "source": [
    "calculate_performance_metrics(x_test_adv, y_test_trimmed, model)"
   ]
  },
  {
   "cell_type": "code",
   "execution_count": 9,
   "id": "c5c13dfa-eb49-41ea-bbb9-cd7e83183ff7",
   "metadata": {},
   "outputs": [
    {
     "name": "stderr",
     "output_type": "stream",
     "text": [
      "/tmp/ipykernel_47875/1183469131.py:5: DeprecationWarning: `product` is deprecated as of NumPy 1.25.0, and will be removed in NumPy 2.0. Please use `prod` instead.\n",
      "  x_test_adv = attack.generate(x=x_test_trimmed)\n",
      "JSMA:   0%|          | 0/4000 [00:00<?, ?it/s]"
     ]
    },
    {
     "name": "stdout",
     "output_type": "stream",
     "text": [
      "WARNING:tensorflow:Calling GradientTape.gradient on a persistent tape inside its context is significantly less efficient than calling it outside the context (it causes the gradient ops to be recorded on the tape, leading to increased CPU and memory usage). Only call GradientTape.gradient inside the context if you actually want to trace the gradient in order to compute higher order derivatives.\n"
     ]
    },
    {
     "name": "stderr",
     "output_type": "stream",
     "text": [
      "JSMA: 100%|██████████| 4000/4000 [00:31<00:00, 126.49it/s]\n"
     ]
    }
   ],
   "source": [
    "# Initialize the JSMA attack\n",
    "attack = SaliencyMapMethod(classifier=classifier, theta=0.1, gamma = 0.01)\n",
    "\n",
    "# Generate adversarial examples\n",
    "x_test_adv = attack.generate(x=x_test_trimmed)"
   ]
  },
  {
   "cell_type": "code",
   "execution_count": 10,
   "id": "90474f6f-856f-4228-8ecd-e0fd139f0464",
   "metadata": {},
   "outputs": [
    {
     "name": "stdout",
     "output_type": "stream",
     "text": [
      "125/125 [==============================] - 0s 583us/step\n",
      "Accuracy: 0.999\n",
      "AUC: 0.9999499874968741\n",
      "\n",
      "macro\n",
      "Precision: 0.8400000000000001\n",
      "Recall: 0.7810719131614654\n",
      "F1 Score: 0.6567690253671563\n",
      "\n",
      "weighted\n",
      "Precision: 0.9997999999999999\n",
      "Recall: 0.999\n",
      "F1 Score: 0.9991961949265687\n",
      "\n",
      "Mean FNR: 0.2189280868385346\n",
      "Mean TNR: 0.9997999499874968\n",
      "Mean FPR: 0.0002000500125031258\n",
      "Mean TPR: 0.7810719131614654\n"
     ]
    }
   ],
   "source": [
    "calculate_performance_metrics(x_test_adv, y_test_trimmed, model)"
   ]
  },
  {
   "cell_type": "code",
   "execution_count": 11,
   "id": "ca97b618-f5f5-4019-8f01-c7106d184877",
   "metadata": {},
   "outputs": [
    {
     "name": "stderr",
     "output_type": "stream",
     "text": [
      "/tmp/ipykernel_47875/1855246553.py:5: DeprecationWarning: `product` is deprecated as of NumPy 1.25.0, and will be removed in NumPy 2.0. Please use `prod` instead.\n",
      "  x_test_adv = attack.generate(x=x_test_trimmed)\n",
      "JSMA: 100%|██████████| 4000/4000 [00:31<00:00, 126.67it/s]\n"
     ]
    }
   ],
   "source": [
    "# Initialize the JSMA attack\n",
    "attack = SaliencyMapMethod(classifier=classifier, theta=0.15, gamma = 0.01)\n",
    "\n",
    "# Generate adversarial examples\n",
    "x_test_adv = attack.generate(x=x_test_trimmed)"
   ]
  },
  {
   "cell_type": "code",
   "execution_count": 12,
   "id": "3fe73e48-6e14-4cbc-b23b-aff11933fc39",
   "metadata": {},
   "outputs": [
    {
     "name": "stdout",
     "output_type": "stream",
     "text": [
      "125/125 [==============================] - 0s 566us/step\n",
      "Accuracy: 0.99925\n",
      "AUC: 0.9999817176287765\n",
      "\n",
      "macro\n",
      "Precision: 0.85\n",
      "Recall: 0.7818181818181819\n",
      "F1 Score: 0.6704761904761904\n",
      "\n",
      "weighted\n",
      "Precision: 0.9998125\n",
      "Recall: 0.99925\n",
      "F1 Score: 0.9993380952380952\n",
      "\n",
      "Mean FNR: 0.21818181818181817\n",
      "Mean TNR: 0.9998499624906227\n",
      "Mean FPR: 0.00015003750937734434\n",
      "Mean TPR: 0.7818181818181819\n"
     ]
    }
   ],
   "source": [
    "calculate_performance_metrics(x_test_adv, y_test_trimmed, model)"
   ]
  },
  {
   "cell_type": "code",
   "execution_count": 13,
   "id": "7c4d2d69-0a5c-42e0-8c43-5821b353bbe1",
   "metadata": {},
   "outputs": [
    {
     "name": "stderr",
     "output_type": "stream",
     "text": [
      "/tmp/ipykernel_47875/1114785325.py:5: DeprecationWarning: `product` is deprecated as of NumPy 1.25.0, and will be removed in NumPy 2.0. Please use `prod` instead.\n",
      "  x_test_adv = attack.generate(x=x_test_trimmed)\n",
      "JSMA: 100%|██████████| 4000/4000 [00:31<00:00, 127.01it/s]\n"
     ]
    }
   ],
   "source": [
    "# Initialize the JSMA attack\n",
    "attack = SaliencyMapMethod(classifier=classifier, theta=0.2, gamma = 0.01)\n",
    "\n",
    "# Generate adversarial examples\n",
    "x_test_adv = attack.generate(x=x_test_trimmed)"
   ]
  },
  {
   "cell_type": "code",
   "execution_count": 14,
   "id": "f101b049-8eb1-4f87-a445-fe498cc8aa24",
   "metadata": {},
   "outputs": [
    {
     "name": "stdout",
     "output_type": "stream",
     "text": [
      "125/125 [==============================] - 0s 581us/step\n",
      "Accuracy: 0.99775\n",
      "AUC: 0.9998043638767005\n",
      "\n",
      "macro\n",
      "Precision: 0.6242481203007519\n",
      "Recall: 0.7523066485753053\n",
      "F1 Score: 0.6173052914625948\n",
      "\n",
      "weighted\n",
      "Precision: 0.9992793703007519\n",
      "Recall: 0.99775\n",
      "F1 Score: 0.9983485546912514\n",
      "\n",
      "Mean FNR: 0.2476933514246947\n",
      "Mean TNR: 0.9995463094069337\n",
      "Mean FPR: 0.000453690593066273\n",
      "Mean TPR: 0.7523066485753053\n"
     ]
    }
   ],
   "source": [
    "calculate_performance_metrics(x_test_adv, y_test_trimmed, model)"
   ]
  },
  {
   "cell_type": "code",
   "execution_count": 15,
   "id": "7bb8971e-3e42-4998-a8e9-4f3ce0995adf",
   "metadata": {},
   "outputs": [
    {
     "name": "stderr",
     "output_type": "stream",
     "text": [
      "/tmp/ipykernel_47875/2667259709.py:5: DeprecationWarning: `product` is deprecated as of NumPy 1.25.0, and will be removed in NumPy 2.0. Please use `prod` instead.\n",
      "  x_test_adv = attack.generate(x=x_test_trimmed)\n",
      "JSMA: 100%|██████████| 4000/4000 [00:31<00:00, 127.34it/s]\n"
     ]
    }
   ],
   "source": [
    "# Initialize the JSMA attack\n",
    "attack = SaliencyMapMethod(classifier=classifier, theta=0.25, gamma = 0.01)\n",
    "\n",
    "# Generate adversarial examples\n",
    "x_test_adv = attack.generate(x=x_test_trimmed)"
   ]
  },
  {
   "cell_type": "code",
   "execution_count": 16,
   "id": "05f09f17-f76a-440c-80ca-b60cb81f4bf6",
   "metadata": {},
   "outputs": [
    {
     "name": "stdout",
     "output_type": "stream",
     "text": [
      "125/125 [==============================] - 0s 561us/step\n",
      "Accuracy: 0.997\n",
      "AUC: 0.9993565452898526\n",
      "\n",
      "macro\n",
      "Precision: 0.6207184628237259\n",
      "Recall: 0.7333785617367707\n",
      "F1 Score: 0.5999149711509262\n",
      "\n",
      "weighted\n",
      "Precision: 0.9990240183792816\n",
      "Recall: 0.997\n",
      "F1 Score: 0.9977566504706954\n",
      "\n",
      "Mean FNR: 0.2666214382632293\n",
      "Mean TNR: 0.9993926938326222\n",
      "Mean FPR: 0.0006073061673778574\n",
      "Mean TPR: 0.7333785617367707\n"
     ]
    }
   ],
   "source": [
    "calculate_performance_metrics(x_test_adv, y_test_trimmed, model)"
   ]
  },
  {
   "cell_type": "code",
   "execution_count": 17,
   "id": "ad0d9583-4a1f-4a65-a2f8-725c51bdae8e",
   "metadata": {},
   "outputs": [
    {
     "name": "stderr",
     "output_type": "stream",
     "text": [
      "/tmp/ipykernel_47875/1503088926.py:5: DeprecationWarning: `product` is deprecated as of NumPy 1.25.0, and will be removed in NumPy 2.0. Please use `prod` instead.\n",
      "  x_test_adv = attack.generate(x=x_test_trimmed)\n",
      "JSMA: 100%|██████████| 4000/4000 [00:31<00:00, 127.85it/s]\n"
     ]
    }
   ],
   "source": [
    "# Initialize the JSMA attack\n",
    "attack = SaliencyMapMethod(classifier=classifier, theta=0.3, gamma = 0.01)\n",
    "\n",
    "# Generate adversarial examples\n",
    "x_test_adv = attack.generate(x=x_test_trimmed)"
   ]
  },
  {
   "cell_type": "code",
   "execution_count": 18,
   "id": "9e253aaa-225d-40fd-8886-72dff72f5b61",
   "metadata": {},
   "outputs": [
    {
     "name": "stdout",
     "output_type": "stream",
     "text": [
      "125/125 [==============================] - 0s 563us/step\n",
      "Accuracy: 0.9965\n",
      "AUC: 0.9986266855400754\n",
      "\n",
      "macro\n",
      "Precision: 0.6207070707070708\n",
      "Recall: 0.7318860244233378\n",
      "F1 Score: 0.5991546433651698\n",
      "\n",
      "weighted\n",
      "Precision: 0.999020202020202\n",
      "Recall: 0.9965\n",
      "F1 Score: 0.997501940662467\n",
      "\n",
      "Mean FNR: 0.2681139755766621\n",
      "Mean TNR: 0.9992926688263706\n",
      "Mean FPR: 0.0007073311736294203\n",
      "Mean TPR: 0.7318860244233378\n"
     ]
    }
   ],
   "source": [
    "calculate_performance_metrics(x_test_adv, y_test_trimmed, model)"
   ]
  },
  {
   "cell_type": "code",
   "execution_count": null,
   "id": "05868421-03b6-4363-897a-f616e73beab2",
   "metadata": {},
   "outputs": [],
   "source": []
  }
 ],
 "metadata": {
  "kernelspec": {
   "display_name": "Python 3 (ipykernel)",
   "language": "python",
   "name": "python3"
  },
  "language_info": {
   "codemirror_mode": {
    "name": "ipython",
    "version": 3
   },
   "file_extension": ".py",
   "mimetype": "text/x-python",
   "name": "python",
   "nbconvert_exporter": "python",
   "pygments_lexer": "ipython3",
   "version": "3.11.5"
  }
 },
 "nbformat": 4,
 "nbformat_minor": 5
}
