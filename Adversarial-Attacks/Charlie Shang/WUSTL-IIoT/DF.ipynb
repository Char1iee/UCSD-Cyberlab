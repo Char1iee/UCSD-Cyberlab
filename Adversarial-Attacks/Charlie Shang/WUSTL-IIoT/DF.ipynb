{
 "cells": [
  {
   "cell_type": "code",
   "execution_count": 1,
   "id": "5fbbac85-d62c-490a-9473-01245518e829",
   "metadata": {},
   "outputs": [
    {
     "name": "stderr",
     "output_type": "stream",
     "text": [
      "2024-02-26 06:00:24.459604: I tensorflow/core/util/port.cc:113] oneDNN custom operations are on. You may see slightly different numerical results due to floating-point round-off errors from different computation orders. To turn them off, set the environment variable `TF_ENABLE_ONEDNN_OPTS=0`.\n",
      "2024-02-26 06:00:24.462404: I external/local_tsl/tsl/cuda/cudart_stub.cc:31] Could not find cuda drivers on your machine, GPU will not be used.\n",
      "2024-02-26 06:00:24.494732: E external/local_xla/xla/stream_executor/cuda/cuda_dnn.cc:9261] Unable to register cuDNN factory: Attempting to register factory for plugin cuDNN when one has already been registered\n",
      "2024-02-26 06:00:24.494779: E external/local_xla/xla/stream_executor/cuda/cuda_fft.cc:607] Unable to register cuFFT factory: Attempting to register factory for plugin cuFFT when one has already been registered\n",
      "2024-02-26 06:00:24.496436: E external/local_xla/xla/stream_executor/cuda/cuda_blas.cc:1515] Unable to register cuBLAS factory: Attempting to register factory for plugin cuBLAS when one has already been registered\n",
      "2024-02-26 06:00:24.503641: I external/local_tsl/tsl/cuda/cudart_stub.cc:31] Could not find cuda drivers on your machine, GPU will not be used.\n",
      "2024-02-26 06:00:24.504268: I tensorflow/core/platform/cpu_feature_guard.cc:182] This TensorFlow binary is optimized to use available CPU instructions in performance-critical operations.\n",
      "To enable the following instructions: AVX2 AVX512F AVX512_VNNI AVX512_BF16 AVX_VNNI AMX_TILE AMX_INT8 AMX_BF16 FMA, in other operations, rebuild TensorFlow with the appropriate compiler flags.\n",
      "2024-02-26 06:00:25.113049: W tensorflow/compiler/tf2tensorrt/utils/py_utils.cc:38] TF-TRT Warning: Could not find TensorRT\n",
      "/opt/conda/lib/python3.11/site-packages/tqdm/auto.py:21: TqdmWarning: IProgress not found. Please update jupyter and ipywidgets. See https://ipywidgets.readthedocs.io/en/stable/user_install.html\n",
      "  from .autonotebook import tqdm as notebook_tqdm\n"
     ]
    }
   ],
   "source": [
    "import tensorflow as tf\n",
    "from tensorflow.keras.models import Sequential\n",
    "from tensorflow.keras.layers import Conv2D, MaxPooling2D, Dropout, Flatten, Dense\n",
    "from tensorflow.keras.losses import SparseCategoricalCrossentropy\n",
    "\n",
    "from art.attacks.evasion import DeepFool\n",
    "from art.estimators.classification import TensorFlowV2Classifier\n",
    "from art.utils import load_dataset\n",
    "\n",
    "import numpy as np\n",
    "import pandas as pd\n",
    "\n",
    "from sklearn import metrics\n",
    "\n",
    "import joblib"
   ]
  },
  {
   "cell_type": "code",
   "execution_count": 2,
   "id": "130131c1-c01c-489e-8d9d-1cd858815787",
   "metadata": {},
   "outputs": [],
   "source": [
    "def calculate_performance_metrics(x_test, y_test, model):\n",
    "\n",
    "    # Predictions\n",
    "    y_pred = model.predict(x_test)\n",
    "    y_pred_classes = np.argmax(y_pred, axis=1)\n",
    "    \n",
    "    report = metrics.classification_report(y_test, y_pred_classes, output_dict=True, zero_division=1)\n",
    "    \n",
    "    precision_macro = report['macro avg']['precision']\n",
    "    precision_weighted = report['weighted avg']['precision']\n",
    "    accuracy = report['accuracy']\n",
    "    recall_macro = report['macro avg']['recall']\n",
    "    recall_weighted = report['weighted avg']['recall']\n",
    "    f1_macro = report['macro avg']['f1-score']\n",
    "    f1_weighted = report['weighted avg']['f1-score']\n",
    "    auc = metrics.roc_auc_score(y_test, y_pred, multi_class='ovr')\n",
    "\n",
    "    print(f\"Accuracy: {accuracy}\\nAUC: {auc}\")\n",
    "    \n",
    "    print(\"\\nmacro\")\n",
    "    print(f\"Precision: {precision_macro}\\nRecall: {recall_macro}\\nF1 Score: {f1_macro}\")\n",
    "\n",
    "    print(\"\\nweighted\")\n",
    "    print(f\"Precision: {precision_weighted}\\nRecall: {recall_weighted}\\nF1 Score: {f1_weighted}\")\n",
    "    print()\n",
    "    \n",
    "    # Confusion matrix for FNR, TNR, FPR, TPR\n",
    "    cm = metrics.confusion_matrix(y_test, y_pred_classes)\n",
    "    def calculate_rates(conf_matrix, class_index):\n",
    "        tp = conf_matrix[class_index, class_index]\n",
    "        fn = np.sum(conf_matrix[class_index, :]) - tp\n",
    "        fp = np.sum(conf_matrix[:, class_index]) - tp\n",
    "        tn = np.sum(conf_matrix) - (tp + fn + fp)\n",
    "    \n",
    "        fnr = fn / (fn + tp)\n",
    "        tnr = tn / (tn + fp)\n",
    "        fpr = fp / (fp + tn)\n",
    "        tpr = tp / (tp + fn)\n",
    "        return fnr, tnr, fpr, tpr\n",
    "\n",
    "    # Calculate and aggregate rates\n",
    "    fnrs, tnrs, fprs, tprs = [], [], [], []\n",
    "    for i in range(cm.shape[0]):\n",
    "        fnr, tnr, fpr, tpr = calculate_rates(cm, i)\n",
    "        fnrs.append(fnr)\n",
    "        tnrs.append(tnr)\n",
    "        fprs.append(fpr)\n",
    "        tprs.append(tpr)\n",
    "    \n",
    "    mean_fnr = np.mean(fnrs)\n",
    "    mean_tnr = np.mean(tnrs)\n",
    "    mean_fpr = np.mean(fprs)\n",
    "    mean_tpr = np.mean(tprs)\n",
    "\n",
    "    # Printing the mean metrics\n",
    "    print(f\"Mean FNR: {mean_fnr}\\nMean TNR: {mean_tnr}\\nMean FPR: {mean_fpr}\\nMean TPR: {mean_tpr}\")"
   ]
  },
  {
   "cell_type": "code",
   "execution_count": 3,
   "id": "b536545c-9fd8-48dc-bb15-201ff2b8357b",
   "metadata": {},
   "outputs": [],
   "source": [
    "x_train = pd.read_csv('/home/jovyan/WUSTL-IIoT/preprocessed_data/x_train.csv', low_memory=False)\n",
    "y_train = pd.read_csv('/home/jovyan/WUSTL-IIoT/preprocessed_data/y_train.csv', low_memory=False)\n",
    "x_val = pd.read_csv('/home/jovyan/WUSTL-IIoT/preprocessed_data/x_val.csv', low_memory=False)\n",
    "y_val = pd.read_csv('/home/jovyan/WUSTL-IIoT/preprocessed_data/y_val.csv', low_memory=False)\n",
    "x_test = pd.read_csv('/home/jovyan/WUSTL-IIoT/preprocessed_data/x_test.csv', low_memory=False)\n",
    "y_test = pd.read_csv('/home/jovyan/WUSTL-IIoT/preprocessed_data/y_test.csv', low_memory=False)"
   ]
  },
  {
   "cell_type": "code",
   "execution_count": 4,
   "id": "6776c990-b3f9-4510-916e-025d75db7fac",
   "metadata": {},
   "outputs": [],
   "source": [
    "from sklearn import preprocessing\n",
    "s1 = preprocessing.MinMaxScaler()\n",
    "s2 = preprocessing.MinMaxScaler()\n",
    "s3 = preprocessing.MinMaxScaler()\n",
    "\n",
    "x_train_scaled = s1.fit_transform(x_train)\n",
    "x_val_scaled = s2.fit_transform(x_val)\n",
    "x_test_scaled = s3.fit_transform(x_test)\n",
    "\n",
    "x_train = np.copy(x_train_scaled)\n",
    "x_val = np.copy(x_val_scaled)\n",
    "x_test = np.copy(x_test_scaled)"
   ]
  },
  {
   "cell_type": "code",
   "execution_count": 5,
   "id": "676f3948-6b4b-49d9-980d-5ebe7a58dba8",
   "metadata": {},
   "outputs": [],
   "source": [
    "model = joblib.load(\"/home/jovyan/WUSTL-IIoT/dl/dl_new/dnn.joblib\")"
   ]
  },
  {
   "cell_type": "code",
   "execution_count": 6,
   "id": "51da522d-90ab-4431-8df4-68b1b9e54115",
   "metadata": {},
   "outputs": [],
   "source": [
    "x_test_trimmed = x_test[31000:32600]\n",
    "y_test_trimmed = y_test[31000:32600]"
   ]
  },
  {
   "cell_type": "code",
   "execution_count": 7,
   "id": "ced35082-cc95-4daf-ac2d-a0734eed63bd",
   "metadata": {},
   "outputs": [],
   "source": [
    "classifier = TensorFlowV2Classifier(\n",
    "    model=model,\n",
    "    nb_classes=5,\n",
    "    input_shape=(48,),\n",
    "    loss_object=tf.keras.losses.SparseCategoricalCrossentropy(),\n",
    ")"
   ]
  },
  {
   "cell_type": "code",
   "execution_count": 8,
   "id": "1fa68d5b-31f9-4348-8827-dba47e3a71eb",
   "metadata": {},
   "outputs": [
    {
     "name": "stderr",
     "output_type": "stream",
     "text": [
      "DeepFool:   0%|          | 0/1600 [00:00<?, ?it/s]"
     ]
    },
    {
     "name": "stdout",
     "output_type": "stream",
     "text": [
      "WARNING:tensorflow:Calling GradientTape.gradient on a persistent tape inside its context is significantly less efficient than calling it outside the context (it causes the gradient ops to be recorded on the tape, leading to increased CPU and memory usage). Only call GradientTape.gradient inside the context if you actually want to trace the gradient in order to compute higher order derivatives.\n"
     ]
    },
    {
     "name": "stderr",
     "output_type": "stream",
     "text": [
      "DeepFool: 100%|██████████| 1600/1600 [49:25<00:00,  1.85s/it]\n"
     ]
    }
   ],
   "source": [
    "attack = DeepFool(classifier=classifier, epsilon=0.01)\n",
    "\n",
    "x_test_adv = attack.generate(x=x_test_trimmed)"
   ]
  },
  {
   "cell_type": "code",
   "execution_count": 9,
   "id": "a2f28987-d04f-45e6-919f-b29ed141a3f8",
   "metadata": {},
   "outputs": [
    {
     "name": "stdout",
     "output_type": "stream",
     "text": [
      "50/50 [==============================] - 0s 793us/step\n",
      "Accuracy: 0.953125\n",
      "AUC: 0.9282552518714061\n",
      "\n",
      "macro\n",
      "Precision: 0.5373208305425318\n",
      "Recall: 0.6406593406593407\n",
      "F1 Score: 0.4962954926087978\n",
      "\n",
      "weighted\n",
      "Precision: 0.9824799480910918\n",
      "Recall: 0.953125\n",
      "F1 Score: 0.9565747257557244\n",
      "\n",
      "Mean FNR: 0.3593406593406593\n",
      "Mean TNR: 0.9616142339680488\n",
      "Mean FPR: 0.03838576603195121\n",
      "Mean TPR: 0.6406593406593407\n"
     ]
    }
   ],
   "source": [
    "calculate_performance_metrics(x_test_adv, y_test_trimmed, model)"
   ]
  },
  {
   "cell_type": "code",
   "execution_count": 13,
   "id": "d141d9af-02f0-4061-b889-6e99b56b0a52",
   "metadata": {},
   "outputs": [
    {
     "name": "stderr",
     "output_type": "stream",
     "text": [
      "DeepFool: 100%|██████████| 1600/1600 [49:46<00:00,  1.87s/it]\n"
     ]
    }
   ],
   "source": [
    "attack = DeepFool(classifier=classifier, epsilon=0.05)\n",
    "\n",
    "x_test_adv = attack.generate(x=x_test_trimmed)"
   ]
  },
  {
   "cell_type": "code",
   "execution_count": 14,
   "id": "2c03340b-0336-41ae-8575-03ea3545460f",
   "metadata": {},
   "outputs": [
    {
     "name": "stdout",
     "output_type": "stream",
     "text": [
      "50/50 [==============================] - 0s 654us/step\n",
      "Accuracy: 0.953125\n",
      "AUC: 0.9271134384576365\n",
      "\n",
      "macro\n",
      "Precision: 0.5373208305425318\n",
      "Recall: 0.6406593406593407\n",
      "F1 Score: 0.4962954926087978\n",
      "\n",
      "weighted\n",
      "Precision: 0.9824799480910918\n",
      "Recall: 0.953125\n",
      "F1 Score: 0.9565747257557244\n",
      "\n",
      "Mean FNR: 0.3593406593406593\n",
      "Mean TNR: 0.9616142339680488\n",
      "Mean FPR: 0.03838576603195121\n",
      "Mean TPR: 0.6406593406593407\n"
     ]
    }
   ],
   "source": [
    "calculate_performance_metrics(x_test_adv, y_test_trimmed, model)"
   ]
  },
  {
   "cell_type": "code",
   "execution_count": 81,
   "id": "90f5391a-c49c-4d7b-aae3-d9e66d34183b",
   "metadata": {},
   "outputs": [
    {
     "name": "stderr",
     "output_type": "stream",
     "text": [
      "DeepFool:   0%|          | 0/1600 [00:00<?, ?it/s]"
     ]
    },
    {
     "name": "stdout",
     "output_type": "stream",
     "text": [
      "WARNING:tensorflow:Calling GradientTape.gradient on a persistent tape inside its context is significantly less efficient than calling it outside the context (it causes the gradient ops to be recorded on the tape, leading to increased CPU and memory usage). Only call GradientTape.gradient inside the context if you actually want to trace the gradient in order to compute higher order derivatives.\n"
     ]
    },
    {
     "name": "stderr",
     "output_type": "stream",
     "text": [
      "DeepFool: 100%|██████████| 1600/1600 [1:10:33<00:00,  2.65s/it]\n"
     ]
    }
   ],
   "source": [
    "attack = DeepFool(classifier=classifier, epsilon=0.1)\n",
    "\n",
    "x_test_adv = attack.generate(x=x_test_trimmed)"
   ]
  },
  {
   "cell_type": "code",
   "execution_count": 82,
   "id": "62903e8a-f02b-446e-97e9-d71c20522028",
   "metadata": {},
   "outputs": [
    {
     "name": "stdout",
     "output_type": "stream",
     "text": [
      "50/50 [==============================] - 0s 622us/step\n",
      "Accuracy: 0.953125\n",
      "AUC: 0.9250984779804663\n",
      "\n",
      "macro\n",
      "Precision: 0.5373208305425318\n",
      "Recall: 0.6406593406593407\n",
      "F1 Score: 0.4962954926087978\n",
      "\n",
      "weighted\n",
      "Precision: 0.9824799480910918\n",
      "Recall: 0.953125\n",
      "F1 Score: 0.9565747257557244\n",
      "\n",
      "Mean FNR: 0.3593406593406593\n",
      "Mean TNR: 0.9616142339680488\n",
      "Mean FPR: 0.03838576603195121\n",
      "Mean TPR: 0.6406593406593407\n"
     ]
    }
   ],
   "source": [
    "calculate_performance_metrics(x_test_adv, y_test_trimmed, model)"
   ]
  },
  {
   "cell_type": "code",
   "execution_count": 83,
   "id": "f28b716d-46a2-42ef-aa1b-14085cb8df2d",
   "metadata": {},
   "outputs": [
    {
     "name": "stderr",
     "output_type": "stream",
     "text": [
      "DeepFool: 100%|██████████| 1600/1600 [1:10:53<00:00,  2.66s/it]\n"
     ]
    }
   ],
   "source": [
    "attack = DeepFool(classifier=classifier, epsilon=0.15)\n",
    "\n",
    "x_test_adv = attack.generate(x=x_test_trimmed)"
   ]
  },
  {
   "cell_type": "code",
   "execution_count": 84,
   "id": "7ec71533-52d1-4fb8-a45a-e04f6fb6dcb6",
   "metadata": {},
   "outputs": [
    {
     "name": "stdout",
     "output_type": "stream",
     "text": [
      "50/50 [==============================] - 0s 610us/step\n",
      "Accuracy: 0.953125\n",
      "AUC: 0.9245957651314217\n",
      "\n",
      "macro\n",
      "Precision: 0.5473208305425319\n",
      "Recall: 0.6406593406593407\n",
      "F1 Score: 0.5096288259421311\n",
      "\n",
      "weighted\n",
      "Precision: 0.9825111980910919\n",
      "Recall: 0.953125\n",
      "F1 Score: 0.956616392422391\n",
      "\n",
      "Mean FNR: 0.3593406593406593\n",
      "Mean TNR: 0.9616142339680488\n",
      "Mean FPR: 0.03838576603195121\n",
      "Mean TPR: 0.6406593406593407\n"
     ]
    }
   ],
   "source": [
    "calculate_performance_metrics(x_test_adv, y_test_trimmed, model)"
   ]
  },
  {
   "cell_type": "code",
   "execution_count": 85,
   "id": "7d4f35e9-bb8c-4133-a5e5-acf35eed601e",
   "metadata": {},
   "outputs": [
    {
     "name": "stderr",
     "output_type": "stream",
     "text": [
      "DeepFool: 100%|██████████| 1600/1600 [1:11:11<00:00,  2.67s/it]\n"
     ]
    }
   ],
   "source": [
    "attack = DeepFool(classifier=classifier, epsilon=0.2)\n",
    "\n",
    "x_test_adv = attack.generate(x=x_test_trimmed)"
   ]
  },
  {
   "cell_type": "code",
   "execution_count": 86,
   "id": "a9b530df-4226-44fd-a497-a515f86c8253",
   "metadata": {},
   "outputs": [
    {
     "name": "stdout",
     "output_type": "stream",
     "text": [
      "50/50 [==============================] - 0s 579us/step\n",
      "Accuracy: 0.953125\n",
      "AUC: 0.9240942523591821\n",
      "\n",
      "macro\n",
      "Precision: 0.5973208305425318\n",
      "Recall: 0.6406593406593407\n",
      "F1 Score: 0.5629621592754643\n",
      "\n",
      "weighted\n",
      "Precision: 0.9826674480910919\n",
      "Recall: 0.953125\n",
      "F1 Score: 0.9567830590890577\n",
      "\n",
      "Mean FNR: 0.3593406593406593\n",
      "Mean TNR: 0.9616142339680488\n",
      "Mean FPR: 0.03838576603195121\n",
      "Mean TPR: 0.6406593406593407\n"
     ]
    }
   ],
   "source": [
    "calculate_performance_metrics(x_test_adv, y_test_trimmed, model)"
   ]
  },
  {
   "cell_type": "code",
   "execution_count": 87,
   "id": "0eae84c0-d5ac-456c-99c8-c6550cb9bb72",
   "metadata": {},
   "outputs": [
    {
     "name": "stderr",
     "output_type": "stream",
     "text": [
      "DeepFool: 100%|██████████| 1600/1600 [1:11:04<00:00,  2.67s/it]\n"
     ]
    }
   ],
   "source": [
    "attack = DeepFool(classifier=classifier, epsilon=0.25)\n",
    "\n",
    "x_test_adv = attack.generate(x=x_test_trimmed)"
   ]
  },
  {
   "cell_type": "code",
   "execution_count": 88,
   "id": "e437d254-7180-47bf-abc9-56e63fe95959",
   "metadata": {},
   "outputs": [
    {
     "name": "stdout",
     "output_type": "stream",
     "text": [
      "50/50 [==============================] - 0s 572us/step\n",
      "Accuracy: 0.953125\n",
      "AUC: 0.8293662748071176\n",
      "\n",
      "macro\n",
      "Precision: 0.5975855130784709\n",
      "Recall: 0.6406593406593407\n",
      "F1 Score: 0.5630962020435705\n",
      "\n",
      "weighted\n",
      "Precision: 0.9838858148893361\n",
      "Recall: 0.953125\n",
      "F1 Score: 0.9574000747059956\n",
      "\n",
      "Mean FNR: 0.3593406593406593\n",
      "Mean TNR: 0.9645136839195441\n",
      "Mean FPR: 0.03548631608045593\n",
      "Mean TPR: 0.6406593406593407\n"
     ]
    }
   ],
   "source": [
    "calculate_performance_metrics(x_test_adv, y_test_trimmed, model)"
   ]
  },
  {
   "cell_type": "code",
   "execution_count": 89,
   "id": "2cb1aaee-4241-41d0-bbac-fb68a9b62e53",
   "metadata": {},
   "outputs": [
    {
     "name": "stderr",
     "output_type": "stream",
     "text": [
      "DeepFool: 100%|██████████| 1600/1600 [1:11:11<00:00,  2.67s/it]\n"
     ]
    }
   ],
   "source": [
    "attack = DeepFool(classifier=classifier, epsilon=0.3)\n",
    "\n",
    "x_test_adv = attack.generate(x=x_test_trimmed)"
   ]
  },
  {
   "cell_type": "code",
   "execution_count": 90,
   "id": "f70a1330-42b4-4c32-8e87-72ccacb12880",
   "metadata": {},
   "outputs": [
    {
     "name": "stdout",
     "output_type": "stream",
     "text": [
      "50/50 [==============================] - 0s 591us/step\n",
      "Accuracy: 0.953125\n",
      "AUC: 0.8294324608920324\n",
      "\n",
      "macro\n",
      "Precision: 0.5975855130784709\n",
      "Recall: 0.6406593406593407\n",
      "F1 Score: 0.5630962020435705\n",
      "\n",
      "weighted\n",
      "Precision: 0.9838858148893361\n",
      "Recall: 0.953125\n",
      "F1 Score: 0.9574000747059956\n",
      "\n",
      "Mean FNR: 0.3593406593406593\n",
      "Mean TNR: 0.9645136839195441\n",
      "Mean FPR: 0.03548631608045593\n",
      "Mean TPR: 0.6406593406593407\n"
     ]
    }
   ],
   "source": [
    "calculate_performance_metrics(x_test_adv, y_test_trimmed, model)"
   ]
  },
  {
   "cell_type": "code",
   "execution_count": null,
   "id": "b5d47163-0e77-4dd8-8105-e635b730fb59",
   "metadata": {},
   "outputs": [],
   "source": []
  }
 ],
 "metadata": {
  "kernelspec": {
   "display_name": "Python 3 (ipykernel)",
   "language": "python",
   "name": "python3"
  },
  "language_info": {
   "codemirror_mode": {
    "name": "ipython",
    "version": 3
   },
   "file_extension": ".py",
   "mimetype": "text/x-python",
   "name": "python",
   "nbconvert_exporter": "python",
   "pygments_lexer": "ipython3",
   "version": "3.11.5"
  }
 },
 "nbformat": 4,
 "nbformat_minor": 5
}
