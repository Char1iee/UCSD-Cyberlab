{
 "cells": [
  {
   "cell_type": "code",
   "execution_count": 1,
   "id": "be6e67ee-0350-4197-bcfc-401515a6f47e",
   "metadata": {},
   "outputs": [
    {
     "name": "stderr",
     "output_type": "stream",
     "text": [
      "2024-02-26 05:57:57.250087: I tensorflow/core/util/port.cc:113] oneDNN custom operations are on. You may see slightly different numerical results due to floating-point round-off errors from different computation orders. To turn them off, set the environment variable `TF_ENABLE_ONEDNN_OPTS=0`.\n",
      "2024-02-26 05:57:57.252860: I external/local_tsl/tsl/cuda/cudart_stub.cc:31] Could not find cuda drivers on your machine, GPU will not be used.\n",
      "2024-02-26 05:57:57.284447: E external/local_xla/xla/stream_executor/cuda/cuda_dnn.cc:9261] Unable to register cuDNN factory: Attempting to register factory for plugin cuDNN when one has already been registered\n",
      "2024-02-26 05:57:57.284490: E external/local_xla/xla/stream_executor/cuda/cuda_fft.cc:607] Unable to register cuFFT factory: Attempting to register factory for plugin cuFFT when one has already been registered\n",
      "2024-02-26 05:57:57.286063: E external/local_xla/xla/stream_executor/cuda/cuda_blas.cc:1515] Unable to register cuBLAS factory: Attempting to register factory for plugin cuBLAS when one has already been registered\n",
      "2024-02-26 05:57:57.293161: I external/local_tsl/tsl/cuda/cudart_stub.cc:31] Could not find cuda drivers on your machine, GPU will not be used.\n",
      "2024-02-26 05:57:57.293704: I tensorflow/core/platform/cpu_feature_guard.cc:182] This TensorFlow binary is optimized to use available CPU instructions in performance-critical operations.\n",
      "To enable the following instructions: AVX2 AVX512F AVX512_VNNI AVX512_BF16 AVX_VNNI AMX_TILE AMX_INT8 AMX_BF16 FMA, in other operations, rebuild TensorFlow with the appropriate compiler flags.\n",
      "2024-02-26 05:57:58.028394: W tensorflow/compiler/tf2tensorrt/utils/py_utils.cc:38] TF-TRT Warning: Could not find TensorRT\n",
      "/opt/conda/lib/python3.11/site-packages/tqdm/auto.py:21: TqdmWarning: IProgress not found. Please update jupyter and ipywidgets. See https://ipywidgets.readthedocs.io/en/stable/user_install.html\n",
      "  from .autonotebook import tqdm as notebook_tqdm\n"
     ]
    }
   ],
   "source": [
    "import tensorflow as tf\n",
    "from tensorflow.keras.models import Sequential\n",
    "from tensorflow.keras.layers import Conv2D, MaxPooling2D, Dropout, Flatten, Dense\n",
    "\n",
    "from art.attacks.evasion import ProjectedGradientDescent\n",
    "from art.estimators.classification import TensorFlowV2Classifier\n",
    "from art.utils import load_dataset\n",
    "\n",
    "import numpy as np\n",
    "import pandas as pd\n",
    "\n",
    "from sklearn import metrics\n",
    "\n",
    "import joblib"
   ]
  },
  {
   "cell_type": "code",
   "execution_count": 2,
   "id": "cd61f690-d764-42d2-8f61-e4a6ac17bb8b",
   "metadata": {},
   "outputs": [],
   "source": [
    "def calculate_performance_metrics(x_test, y_test, model):\n",
    "\n",
    "    # Predictions\n",
    "    y_pred = model.predict(x_test)\n",
    "    y_pred_classes = np.argmax(y_pred, axis=1)\n",
    "    \n",
    "    report = metrics.classification_report(y_test, y_pred_classes, output_dict=True, zero_division=1)\n",
    "    \n",
    "    precision_macro = report['macro avg']['precision']\n",
    "    precision_weighted = report['weighted avg']['precision']\n",
    "    accuracy = report['accuracy']\n",
    "    recall_macro = report['macro avg']['recall']\n",
    "    recall_weighted = report['weighted avg']['recall']\n",
    "    f1_macro = report['macro avg']['f1-score']\n",
    "    f1_weighted = report['weighted avg']['f1-score']\n",
    "    auc = metrics.roc_auc_score(y_test, y_pred, multi_class='ovr')\n",
    "\n",
    "    print(f\"Accuracy: {accuracy}\\nAUC: {auc}\")\n",
    "    \n",
    "    print(\"\\nmacro\")\n",
    "    print(f\"Precision: {precision_macro}\\nRecall: {recall_macro}\\nF1 Score: {f1_macro}\")\n",
    "\n",
    "    print(\"\\nweighted\")\n",
    "    print(f\"Precision: {precision_weighted}\\nRecall: {recall_weighted}\\nF1 Score: {f1_weighted}\")\n",
    "    print()\n",
    "    \n",
    "    # Confusion matrix for FNR, TNR, FPR, TPR\n",
    "    cm = metrics.confusion_matrix(y_test, y_pred_classes)\n",
    "    def calculate_rates(conf_matrix, class_index):\n",
    "        tp = conf_matrix[class_index, class_index]\n",
    "        fn = np.sum(conf_matrix[class_index, :]) - tp\n",
    "        fp = np.sum(conf_matrix[:, class_index]) - tp\n",
    "        tn = np.sum(conf_matrix) - (tp + fn + fp)\n",
    "    \n",
    "        fnr = fn / (fn + tp)\n",
    "        tnr = tn / (tn + fp)\n",
    "        fpr = fp / (fp + tn)\n",
    "        tpr = tp / (tp + fn)\n",
    "        return fnr, tnr, fpr, tpr\n",
    "\n",
    "    # Calculate and aggregate rates\n",
    "    fnrs, tnrs, fprs, tprs = [], [], [], []\n",
    "    for i in range(cm.shape[0]):\n",
    "        fnr, tnr, fpr, tpr = calculate_rates(cm, i)\n",
    "        fnrs.append(fnr)\n",
    "        tnrs.append(tnr)\n",
    "        fprs.append(fpr)\n",
    "        tprs.append(tpr)\n",
    "    \n",
    "    mean_fnr = np.mean(fnrs)\n",
    "    mean_tnr = np.mean(tnrs)\n",
    "    mean_fpr = np.mean(fprs)\n",
    "    mean_tpr = np.mean(tprs)\n",
    "\n",
    "    # Printing the mean metrics\n",
    "    print(f\"Mean FNR: {mean_fnr}\\nMean TNR: {mean_tnr}\\nMean FPR: {mean_fpr}\\nMean TPR: {mean_tpr}\")"
   ]
  },
  {
   "cell_type": "code",
   "execution_count": 3,
   "id": "c9e931bf-6797-49aa-9780-fb41cd7b6777",
   "metadata": {},
   "outputs": [],
   "source": [
    "x_train = pd.read_csv('/home/jovyan/WUSTL-IIoT/preprocessed_data/x_train.csv', low_memory=False)\n",
    "y_train = pd.read_csv('/home/jovyan/WUSTL-IIoT/preprocessed_data/y_train.csv', low_memory=False)\n",
    "x_val = pd.read_csv('/home/jovyan/WUSTL-IIoT/preprocessed_data/x_val.csv', low_memory=False)\n",
    "y_val = pd.read_csv('/home/jovyan/WUSTL-IIoT/preprocessed_data/y_val.csv', low_memory=False)\n",
    "x_test = pd.read_csv('/home/jovyan/WUSTL-IIoT/preprocessed_data/x_test.csv', low_memory=False)\n",
    "y_test = pd.read_csv('/home/jovyan/WUSTL-IIoT/preprocessed_data/y_test.csv', low_memory=False)"
   ]
  },
  {
   "cell_type": "code",
   "execution_count": 4,
   "id": "569b71b1-7546-4b10-9812-9ca6bbfee871",
   "metadata": {},
   "outputs": [],
   "source": [
    "from sklearn import preprocessing\n",
    "s1 = preprocessing.MinMaxScaler()\n",
    "s2 = preprocessing.MinMaxScaler()\n",
    "s3 = preprocessing.MinMaxScaler()\n",
    "\n",
    "x_train_scaled = s1.fit_transform(x_train)\n",
    "x_val_scaled = s2.fit_transform(x_val)\n",
    "x_test_scaled = s3.fit_transform(x_test)\n",
    "\n",
    "x_train = np.copy(x_train_scaled)\n",
    "x_val = np.copy(x_val_scaled)\n",
    "x_test = np.copy(x_test_scaled)"
   ]
  },
  {
   "cell_type": "code",
   "execution_count": 5,
   "id": "bc1eaba0-78b4-48ff-946b-41d18cec41f2",
   "metadata": {},
   "outputs": [],
   "source": [
    "model = joblib.load(\"/home/jovyan/WUSTL-IIoT/dl/dl_new/dnn.joblib\")"
   ]
  },
  {
   "cell_type": "code",
   "execution_count": 6,
   "id": "f778d492-4b74-47f0-8aab-73339777edcb",
   "metadata": {},
   "outputs": [],
   "source": [
    "classifier = TensorFlowV2Classifier(\n",
    "    model=model,\n",
    "    nb_classes=5,\n",
    "    input_shape=(48,),\n",
    "    loss_object=tf.keras.losses.SparseCategoricalCrossentropy(),\n",
    ")"
   ]
  },
  {
   "cell_type": "code",
   "execution_count": 7,
   "id": "b787aecb-ad28-4554-b840-d516f0760ffb",
   "metadata": {},
   "outputs": [
    {
     "name": "stderr",
     "output_type": "stream",
     "text": [
      "                                          \r"
     ]
    }
   ],
   "source": [
    "# Initialize PGD attack\n",
    "attack = ProjectedGradientDescent(estimator=classifier, eps=0.01)\n",
    "\n",
    "# Generate adversarial test examples\n",
    "adv_test_examples = attack.generate(x=x_test)"
   ]
  },
  {
   "cell_type": "code",
   "execution_count": 8,
   "id": "8fac5bf5-91a0-4ef1-b308-6ca840860cff",
   "metadata": {},
   "outputs": [
    {
     "name": "stdout",
     "output_type": "stream",
     "text": [
      "7466/7466 [==============================] - 5s 587us/step\n",
      "Accuracy: 0.9996316357882575\n",
      "AUC: 0.9999587922999147\n",
      "\n",
      "macro\n",
      "Precision: 0.8546620972836386\n",
      "Recall: 0.9230980771564614\n",
      "F1 Score: 0.8506926062079415\n",
      "\n",
      "weighted\n",
      "Precision: 0.9998586600158942\n",
      "Recall: 0.9996316357882575\n",
      "F1 Score: 0.9997090276077586\n",
      "\n",
      "Mean FNR: 0.07690192284353858\n",
      "Mean TNR: 0.9999261362349952\n",
      "Mean FPR: 7.386376500496653e-05\n",
      "Mean TPR: 0.9230980771564614\n"
     ]
    }
   ],
   "source": [
    "calculate_performance_metrics(adv_test_examples, y_test, model)"
   ]
  },
  {
   "cell_type": "code",
   "execution_count": 9,
   "id": "b5e41027-0201-4045-8744-b6be56434c39",
   "metadata": {},
   "outputs": [
    {
     "name": "stderr",
     "output_type": "stream",
     "text": [
      "                                          \r"
     ]
    }
   ],
   "source": [
    "# Initialize PGD attack\n",
    "attack = ProjectedGradientDescent(estimator=classifier, eps=0.05)\n",
    "\n",
    "# Generate adversarial test examples\n",
    "adv_test_examples = attack.generate(x=x_test)"
   ]
  },
  {
   "cell_type": "code",
   "execution_count": 10,
   "id": "32b96168-b244-4c9d-bc9e-15ea67bbca0a",
   "metadata": {},
   "outputs": [
    {
     "name": "stdout",
     "output_type": "stream",
     "text": [
      "7466/7466 [==============================] - 4s 564us/step\n",
      "Accuracy: 0.9730005776620593\n",
      "AUC: 0.9908790127108805\n",
      "\n",
      "macro\n",
      "Precision: 0.5989956927963804\n",
      "Recall: 0.7132930863590052\n",
      "F1 Score: 0.5309286280469487\n",
      "\n",
      "weighted\n",
      "Precision: 0.9886878900292506\n",
      "Recall: 0.9730005776620593\n",
      "F1 Score: 0.9777752018518082\n",
      "\n",
      "Mean FNR: 0.2867069136409948\n",
      "Mean TNR: 0.9675463675918925\n",
      "Mean FPR: 0.0324536324081076\n",
      "Mean TPR: 0.7132930863590052\n"
     ]
    }
   ],
   "source": [
    "calculate_performance_metrics(adv_test_examples, y_test, model)"
   ]
  },
  {
   "cell_type": "code",
   "execution_count": 7,
   "id": "0101500d-baca-4705-bde2-21ccc0d0cdbc",
   "metadata": {},
   "outputs": [
    {
     "name": "stderr",
     "output_type": "stream",
     "text": [
      "                                          \r"
     ]
    }
   ],
   "source": [
    "# Initialize PGD attack\n",
    "attack = ProjectedGradientDescent(estimator=classifier, eps=0.1)\n",
    "\n",
    "# Generate adversarial test examples\n",
    "adv_test_examples = attack.generate(x=x_test)"
   ]
  },
  {
   "cell_type": "code",
   "execution_count": 8,
   "id": "cb192c27-ae29-4afb-922f-e57834a744a6",
   "metadata": {},
   "outputs": [
    {
     "data": {
      "text/plain": [
       "array([[ 0.33368954,  0.3336235 ,  0.3846154 , ...,  0.        ,\n",
       "         0.        ,  0.        ],\n",
       "       [ 0.67549276,  0.67559546,  0.3846154 , ...,  0.        ,\n",
       "         0.        ,  0.        ],\n",
       "       [ 0.48704186,  0.48715675,  0.33076924, ..., -0.07680976,\n",
       "         0.1       ,  0.9       ],\n",
       "       ...,\n",
       "       [ 0.20193145,  0.2019071 ,  0.3846154 , ...,  0.        ,\n",
       "         0.        ,  0.        ],\n",
       "       [ 0.2299533 ,  0.2301179 ,  0.30769232, ...,  0.01442168,\n",
       "         0.10462401,  0.        ],\n",
       "       [ 0.516726  ,  0.51679194,  0.61538464, ...,  0.        ,\n",
       "         0.1       ,  0.9       ]], dtype=float32)"
      ]
     },
     "execution_count": 8,
     "metadata": {},
     "output_type": "execute_result"
    }
   ],
   "source": [
    "adv_test_examples"
   ]
  },
  {
   "cell_type": "code",
   "execution_count": 9,
   "id": "8a4722ca-55e4-47ee-b04b-9cc2db379061",
   "metadata": {},
   "outputs": [
    {
     "name": "stdout",
     "output_type": "stream",
     "text": [
      "7466/7466 [==============================] - 4s 554us/step\n",
      "Accuracy: 0.9294456955804666\n",
      "AUC: 0.8752588989821266\n",
      "\n",
      "macro\n",
      "Precision: 0.5398146001350101\n",
      "Recall: 0.43407474981921335\n",
      "F1 Score: 0.358654722298251\n",
      "\n",
      "weighted\n",
      "Precision: 0.957817143438853\n",
      "Recall: 0.9294456955804666\n",
      "F1 Score: 0.9149545175216659\n",
      "\n",
      "Mean FNR: 0.5659252501807868\n",
      "Mean TNR: 0.896355697745137\n",
      "Mean FPR: 0.10364430225486294\n",
      "Mean TPR: 0.43407474981921335\n"
     ]
    }
   ],
   "source": [
    "calculate_performance_metrics(adv_test_examples, y_test, model)"
   ]
  },
  {
   "cell_type": "code",
   "execution_count": 10,
   "id": "47c091a7-e69e-4ebf-be61-51449a2878ee",
   "metadata": {},
   "outputs": [
    {
     "name": "stderr",
     "output_type": "stream",
     "text": [
      "                                          \r"
     ]
    }
   ],
   "source": [
    "# Initialize PGD attack\n",
    "attack = ProjectedGradientDescent(estimator=classifier, eps=0.15)\n",
    "\n",
    "# Generate adversarial test examples\n",
    "adv_test_examples = attack.generate(x=x_test)"
   ]
  },
  {
   "cell_type": "code",
   "execution_count": 11,
   "id": "a6ffb1f2-a93f-407b-9773-78b9f88d5f72",
   "metadata": {},
   "outputs": [
    {
     "data": {
      "text/plain": [
       "array([[0.33368954, 0.3336235 , 0.3846154 , ..., 0.        , 0.        ,\n",
       "        0.        ],\n",
       "       [0.67549276, 0.67559546, 0.3846154 , ..., 0.        , 0.        ,\n",
       "        0.        ],\n",
       "       [0.5370419 , 0.53715676, 0.38076925, ..., 0.17319024, 0.15      ,\n",
       "        0.85      ],\n",
       "       ...,\n",
       "       [0.20193145, 0.2019071 , 0.3846154 , ..., 0.        , 0.        ,\n",
       "        0.        ],\n",
       "       [0.2299533 , 0.2301179 , 0.30769232, ..., 0.01442168, 0.10462401,\n",
       "        0.        ],\n",
       "       [0.566726  , 0.56679195, 0.61538464, ..., 0.        , 0.15      ,\n",
       "        0.85      ]], dtype=float32)"
      ]
     },
     "execution_count": 11,
     "metadata": {},
     "output_type": "execute_result"
    }
   ],
   "source": [
    "adv_test_examples"
   ]
  },
  {
   "cell_type": "code",
   "execution_count": 12,
   "id": "20b7fd14-d8c2-48d7-83d0-4f1bce3af785",
   "metadata": {},
   "outputs": [
    {
     "name": "stdout",
     "output_type": "stream",
     "text": [
      "7466/7466 [==============================] - 4s 546us/step\n",
      "Accuracy: 0.9278968915083677\n",
      "AUC: 0.6429491885399685\n",
      "\n",
      "macro\n",
      "Precision: 0.5124657807786386\n",
      "Recall: 0.33517829110028363\n",
      "F1 Score: 0.3355800972634787\n",
      "\n",
      "weighted\n",
      "Precision: 0.9350213697128708\n",
      "Recall: 0.9278968915083677\n",
      "F1 Score: 0.9032354235500222\n",
      "\n",
      "Mean FNR: 0.6648217088997164\n",
      "Mean TNR: 0.8392157151721997\n",
      "Mean FPR: 0.16078428482780016\n",
      "Mean TPR: 0.33517829110028363\n"
     ]
    }
   ],
   "source": [
    "calculate_performance_metrics(adv_test_examples, y_test, model)"
   ]
  },
  {
   "cell_type": "code",
   "execution_count": 8,
   "id": "748ab693-e374-4d96-9a91-a3438dadf545",
   "metadata": {},
   "outputs": [
    {
     "name": "stderr",
     "output_type": "stream",
     "text": [
      "                                          \r"
     ]
    }
   ],
   "source": [
    "# Initialize PGD attack\n",
    "attack = ProjectedGradientDescent(estimator=classifier, eps=0.2)\n",
    "\n",
    "# Generate adversarial test examples\n",
    "adv_test_examples = attack.generate(x=x_test)"
   ]
  },
  {
   "cell_type": "code",
   "execution_count": 9,
   "id": "48913507-c4de-40e1-bbc9-7dbd4c51e8be",
   "metadata": {},
   "outputs": [
    {
     "name": "stdout",
     "output_type": "stream",
     "text": [
      "7466/7466 [==============================] - 4s 555us/step\n",
      "Accuracy: 0.9277085234455449\n",
      "AUC: 0.6046158278872422\n",
      "\n",
      "macro\n",
      "Precision: 0.5110308085957888\n",
      "Recall: 0.32644378976501554\n",
      "F1 Score: 0.33359085694279983\n",
      "\n",
      "weighted\n",
      "Precision: 0.9290163178191778\n",
      "Recall: 0.9277085234455449\n",
      "F1 Score: 0.8995574555667065\n",
      "\n",
      "Mean FNR: 0.6735562102349844\n",
      "Mean TNR: 0.8199846897217163\n",
      "Mean FPR: 0.18001531027828369\n",
      "Mean TPR: 0.32644378976501554\n"
     ]
    }
   ],
   "source": [
    "calculate_performance_metrics(adv_test_examples, y_test, model)"
   ]
  },
  {
   "cell_type": "code",
   "execution_count": 10,
   "id": "6f53afc2-eb14-4336-aaa6-b56c597a90d3",
   "metadata": {},
   "outputs": [
    {
     "name": "stderr",
     "output_type": "stream",
     "text": [
      "                                          \r"
     ]
    }
   ],
   "source": [
    "# Initialize PGD attack\n",
    "attack = ProjectedGradientDescent(estimator=classifier, eps=0.25)\n",
    "\n",
    "# Generate adversarial test examples\n",
    "adv_test_examples = attack.generate(x=x_test)"
   ]
  },
  {
   "cell_type": "code",
   "execution_count": 11,
   "id": "506006f9-d5ac-420e-9e8a-0bb6490ae4d7",
   "metadata": {},
   "outputs": [
    {
     "name": "stdout",
     "output_type": "stream",
     "text": [
      "7466/7466 [==============================] - 4s 565us/step\n",
      "Accuracy: 0.9276834077038352\n",
      "AUC: 0.5703854682974475\n",
      "\n",
      "macro\n",
      "Precision: 0.5107003430231337\n",
      "Recall: 0.3264383689518032\n",
      "F1 Score: 0.33341217913432536\n",
      "\n",
      "weighted\n",
      "Precision: 0.9274852029030842\n",
      "Recall: 0.9276834077038352\n",
      "F1 Score: 0.8987296045578035\n",
      "\n",
      "Mean FNR: 0.6735616310481968\n",
      "Mean TNR: 0.8155593509569842\n",
      "Mean FPR: 0.18444064904301588\n",
      "Mean TPR: 0.3264383689518032\n"
     ]
    }
   ],
   "source": [
    "calculate_performance_metrics(adv_test_examples, y_test, model)"
   ]
  },
  {
   "cell_type": "code",
   "execution_count": 12,
   "id": "06b5eb18-4bc2-4b26-b508-44d8f391e7b0",
   "metadata": {},
   "outputs": [
    {
     "name": "stderr",
     "output_type": "stream",
     "text": [
      "                                           \r"
     ]
    }
   ],
   "source": [
    "# Initialize PGD attack\n",
    "attack = ProjectedGradientDescent(estimator=classifier, eps=0.3)\n",
    "\n",
    "# Generate adversarial test examples\n",
    "adv_test_examples = attack.generate(x=x_test)"
   ]
  },
  {
   "cell_type": "code",
   "execution_count": 13,
   "id": "7d34dba4-3a53-421f-8301-244a0c1011e2",
   "metadata": {},
   "outputs": [
    {
     "name": "stdout",
     "output_type": "stream",
     "text": [
      "7466/7466 [==============================] - 4s 547us/step\n",
      "Accuracy: 0.9276834077038352\n",
      "AUC: 0.5698005009882172\n",
      "\n",
      "macro\n",
      "Precision: 0.5104870949372188\n",
      "Recall: 0.3264383689518032\n",
      "F1 Score: 0.33331066243223734\n",
      "\n",
      "weighted\n",
      "Precision: 0.926996040190814\n",
      "Recall: 0.9276834077038352\n",
      "F1 Score: 0.898468995872493\n",
      "\n",
      "Mean FNR: 0.6735616310481968\n",
      "Mean TNR: 0.8141528816090782\n",
      "Mean FPR: 0.18584711839092188\n",
      "Mean TPR: 0.3264383689518032\n"
     ]
    }
   ],
   "source": [
    "calculate_performance_metrics(adv_test_examples, y_test, model)"
   ]
  },
  {
   "cell_type": "code",
   "execution_count": null,
   "id": "1a6c959d-11bb-4fc5-9c0e-2d157b785d70",
   "metadata": {},
   "outputs": [],
   "source": []
  }
 ],
 "metadata": {
  "kernelspec": {
   "display_name": "Python 3 (ipykernel)",
   "language": "python",
   "name": "python3"
  },
  "language_info": {
   "codemirror_mode": {
    "name": "ipython",
    "version": 3
   },
   "file_extension": ".py",
   "mimetype": "text/x-python",
   "name": "python",
   "nbconvert_exporter": "python",
   "pygments_lexer": "ipython3",
   "version": "3.11.5"
  }
 },
 "nbformat": 4,
 "nbformat_minor": 5
}
