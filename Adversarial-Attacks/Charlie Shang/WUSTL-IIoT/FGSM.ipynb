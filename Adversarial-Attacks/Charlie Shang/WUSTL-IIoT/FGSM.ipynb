{
 "cells": [
  {
   "cell_type": "code",
   "execution_count": 1,
   "id": "c074e7bf-66b3-4603-9a73-571a3f128996",
   "metadata": {},
   "outputs": [
    {
     "name": "stderr",
     "output_type": "stream",
     "text": [
      "2024-02-26 04:29:03.162873: I tensorflow/core/util/port.cc:113] oneDNN custom operations are on. You may see slightly different numerical results due to floating-point round-off errors from different computation orders. To turn them off, set the environment variable `TF_ENABLE_ONEDNN_OPTS=0`.\n",
      "2024-02-26 04:29:03.166164: I external/local_tsl/tsl/cuda/cudart_stub.cc:31] Could not find cuda drivers on your machine, GPU will not be used.\n",
      "2024-02-26 04:29:03.202740: E external/local_xla/xla/stream_executor/cuda/cuda_dnn.cc:9261] Unable to register cuDNN factory: Attempting to register factory for plugin cuDNN when one has already been registered\n",
      "2024-02-26 04:29:03.202793: E external/local_xla/xla/stream_executor/cuda/cuda_fft.cc:607] Unable to register cuFFT factory: Attempting to register factory for plugin cuFFT when one has already been registered\n",
      "2024-02-26 04:29:03.204512: E external/local_xla/xla/stream_executor/cuda/cuda_blas.cc:1515] Unable to register cuBLAS factory: Attempting to register factory for plugin cuBLAS when one has already been registered\n",
      "2024-02-26 04:29:03.211831: I external/local_tsl/tsl/cuda/cudart_stub.cc:31] Could not find cuda drivers on your machine, GPU will not be used.\n",
      "2024-02-26 04:29:03.212148: I tensorflow/core/platform/cpu_feature_guard.cc:182] This TensorFlow binary is optimized to use available CPU instructions in performance-critical operations.\n",
      "To enable the following instructions: AVX2 AVX512F AVX512_VNNI AVX512_BF16 AVX_VNNI AMX_TILE AMX_INT8 AMX_BF16 FMA, in other operations, rebuild TensorFlow with the appropriate compiler flags.\n",
      "2024-02-26 04:29:03.855364: W tensorflow/compiler/tf2tensorrt/utils/py_utils.cc:38] TF-TRT Warning: Could not find TensorRT\n",
      "/opt/conda/lib/python3.11/site-packages/tqdm/auto.py:21: TqdmWarning: IProgress not found. Please update jupyter and ipywidgets. See https://ipywidgets.readthedocs.io/en/stable/user_install.html\n",
      "  from .autonotebook import tqdm as notebook_tqdm\n"
     ]
    }
   ],
   "source": [
    "import tensorflow as tf\n",
    "from tensorflow.keras.models import Sequential\n",
    "from tensorflow.keras.layers import Conv2D, MaxPooling2D, Dropout, Flatten, Dense\n",
    "\n",
    "from art.attacks.evasion import FastGradientMethod\n",
    "from art.estimators.classification import TensorFlowV2Classifier\n",
    "from art.utils import load_dataset\n",
    "\n",
    "import numpy as np\n",
    "import pandas as pd\n",
    "\n",
    "from sklearn import metrics\n",
    "\n",
    "import joblib"
   ]
  },
  {
   "cell_type": "code",
   "execution_count": 2,
   "id": "88abda9a-d288-401c-adb9-438c602ca769",
   "metadata": {},
   "outputs": [],
   "source": [
    "def calculate_performance_metrics(x_test, y_test, model):\n",
    "\n",
    "    # Predictions\n",
    "    y_pred = model.predict(x_test)\n",
    "    y_pred_classes = np.argmax(y_pred, axis=1)\n",
    "    \n",
    "    report = metrics.classification_report(y_test, y_pred_classes, output_dict=True, zero_division=1)\n",
    "    \n",
    "    precision_macro = report['macro avg']['precision']\n",
    "    precision_weighted = report['weighted avg']['precision']\n",
    "    accuracy = report['accuracy']\n",
    "    recall_macro = report['macro avg']['recall']\n",
    "    recall_weighted = report['weighted avg']['recall']\n",
    "    f1_macro = report['macro avg']['f1-score']\n",
    "    f1_weighted = report['weighted avg']['f1-score']\n",
    "    auc = metrics.roc_auc_score(y_test, y_pred, multi_class='ovr')\n",
    "\n",
    "    print(f\"Accuracy: {accuracy}\\nAUC: {auc}\")\n",
    "    \n",
    "    print(\"\\nmacro\")\n",
    "    print(f\"Precision: {precision_macro}\\nRecall: {recall_macro}\\nF1 Score: {f1_macro}\")\n",
    "\n",
    "    print(\"\\nweighted\")\n",
    "    print(f\"Precision: {precision_weighted}\\nRecall: {recall_weighted}\\nF1 Score: {f1_weighted}\")\n",
    "    print()\n",
    "    \n",
    "    # Confusion matrix for FNR, TNR, FPR, TPR\n",
    "    cm = metrics.confusion_matrix(y_test, y_pred_classes)\n",
    "    def calculate_rates(conf_matrix, class_index):\n",
    "        tp = conf_matrix[class_index, class_index]\n",
    "        fn = np.sum(conf_matrix[class_index, :]) - tp\n",
    "        fp = np.sum(conf_matrix[:, class_index]) - tp\n",
    "        tn = np.sum(conf_matrix) - (tp + fn + fp)\n",
    "    \n",
    "        fnr = fn / (fn + tp)\n",
    "        tnr = tn / (tn + fp)\n",
    "        fpr = fp / (fp + tn)\n",
    "        tpr = tp / (tp + fn)\n",
    "        return fnr, tnr, fpr, tpr\n",
    "\n",
    "    # Calculate and aggregate rates\n",
    "    fnrs, tnrs, fprs, tprs = [], [], [], []\n",
    "    for i in range(cm.shape[0]):\n",
    "        fnr, tnr, fpr, tpr = calculate_rates(cm, i)\n",
    "        fnrs.append(fnr)\n",
    "        tnrs.append(tnr)\n",
    "        fprs.append(fpr)\n",
    "        tprs.append(tpr)\n",
    "    \n",
    "    mean_fnr = np.mean(fnrs)\n",
    "    mean_tnr = np.mean(tnrs)\n",
    "    mean_fpr = np.mean(fprs)\n",
    "    mean_tpr = np.mean(tprs)\n",
    "\n",
    "    # Printing the mean metrics\n",
    "    print(f\"Mean FNR: {mean_fnr}\\nMean TNR: {mean_tnr}\\nMean FPR: {mean_fpr}\\nMean TPR: {mean_tpr}\")"
   ]
  },
  {
   "cell_type": "code",
   "execution_count": 3,
   "id": "75818739-8004-4cc5-b71a-89a23714c710",
   "metadata": {},
   "outputs": [],
   "source": [
    "x_train = pd.read_csv('/home/jovyan/WUSTL-IIoT/preprocessed_data/x_train.csv', low_memory=False)\n",
    "y_train = pd.read_csv('/home/jovyan/WUSTL-IIoT/preprocessed_data/y_train.csv', low_memory=False)\n",
    "x_val = pd.read_csv('/home/jovyan/WUSTL-IIoT/preprocessed_data/x_val.csv', low_memory=False)\n",
    "y_val = pd.read_csv('/home/jovyan/WUSTL-IIoT/preprocessed_data/y_val.csv', low_memory=False)\n",
    "x_test = pd.read_csv('/home/jovyan/WUSTL-IIoT/preprocessed_data/x_test.csv', low_memory=False)\n",
    "y_test = pd.read_csv('/home/jovyan/WUSTL-IIoT/preprocessed_data/y_test.csv', low_memory=False)"
   ]
  },
  {
   "cell_type": "code",
   "execution_count": 4,
   "id": "0753b01d-6dba-4b2c-a7ae-d196d7f87dce",
   "metadata": {},
   "outputs": [],
   "source": [
    "from sklearn import preprocessing\n",
    "s1 = preprocessing.MinMaxScaler()\n",
    "s2 = preprocessing.MinMaxScaler()\n",
    "s3 = preprocessing.MinMaxScaler()\n",
    "\n",
    "x_train_scaled = s1.fit_transform(x_train)\n",
    "x_val_scaled = s2.fit_transform(x_val)\n",
    "x_test_scaled = s3.fit_transform(x_test)\n",
    "\n",
    "x_train = np.copy(x_train_scaled)\n",
    "x_val = np.copy(x_val_scaled)\n",
    "x_test = np.copy(x_test_scaled)"
   ]
  },
  {
   "cell_type": "code",
   "execution_count": 5,
   "id": "ade3e6c4-ede1-4aa3-8811-7ec987ede255",
   "metadata": {},
   "outputs": [],
   "source": [
    "model = joblib.load(\"/home/jovyan/WUSTL-IIoT/dl/dl_new/dnn.joblib\")"
   ]
  },
  {
   "cell_type": "code",
   "execution_count": 6,
   "id": "4dd1c761-6b69-43e7-a677-26e3b42820ce",
   "metadata": {},
   "outputs": [
    {
     "data": {
      "text/plain": [
       "array([0, 1, 2, 3, 4])"
      ]
     },
     "execution_count": 6,
     "metadata": {},
     "output_type": "execute_result"
    }
   ],
   "source": [
    "np.unique(y_train)"
   ]
  },
  {
   "cell_type": "code",
   "execution_count": 7,
   "id": "4395cb1c-f65e-48bd-b1e4-a472620a7543",
   "metadata": {},
   "outputs": [],
   "source": [
    "classifier = TensorFlowV2Classifier(\n",
    "    model=model,\n",
    "    nb_classes=5,\n",
    "    input_shape=(48,),\n",
    "    loss_object=tf.keras.losses.SparseCategoricalCrossentropy(),\n",
    ")"
   ]
  },
  {
   "cell_type": "code",
   "execution_count": 8,
   "id": "ea959492-417c-457a-977c-9090213d9b14",
   "metadata": {},
   "outputs": [],
   "source": [
    "attack = FastGradientMethod(estimator=classifier, eps=0.01)\n",
    "\n",
    "x_test_adv = attack.generate(x=x_test)"
   ]
  },
  {
   "cell_type": "code",
   "execution_count": 9,
   "id": "033e844a-9737-4b77-a8c4-b91f2b4965ed",
   "metadata": {},
   "outputs": [
    {
     "name": "stdout",
     "output_type": "stream",
     "text": [
      "7466/7466 [==============================] - 4s 537us/step\n",
      "Accuracy: 0.9996316357882575\n",
      "AUC: 0.9999592618644184\n",
      "\n",
      "macro\n",
      "Precision: 0.8546620972836386\n",
      "Recall: 0.9230980771564614\n",
      "F1 Score: 0.8506926062079415\n",
      "\n",
      "weighted\n",
      "Precision: 0.9998586600158942\n",
      "Recall: 0.9996316357882575\n",
      "F1 Score: 0.9997090276077586\n",
      "\n",
      "Mean FNR: 0.07690192284353858\n",
      "Mean TNR: 0.9999261362349952\n",
      "Mean FPR: 7.386376500496653e-05\n",
      "Mean TPR: 0.9230980771564614\n"
     ]
    }
   ],
   "source": [
    "calculate_performance_metrics(x_test_adv, y_test, model)"
   ]
  },
  {
   "cell_type": "code",
   "execution_count": 10,
   "id": "19082c71-e30e-4da6-a9bf-08696df517d2",
   "metadata": {},
   "outputs": [],
   "source": [
    "attack = FastGradientMethod(estimator=classifier, eps=0.05)\n",
    "\n",
    "x_test_adv = attack.generate(x=x_test)"
   ]
  },
  {
   "cell_type": "code",
   "execution_count": 11,
   "id": "c4b93651-43eb-47c9-a3cb-ff0b61f58bd1",
   "metadata": {},
   "outputs": [
    {
     "name": "stdout",
     "output_type": "stream",
     "text": [
      "7466/7466 [==============================] - 4s 541us/step\n",
      "Accuracy: 0.9766298023391128\n",
      "AUC: 0.9923102230548245\n",
      "\n",
      "macro\n",
      "Precision: 0.6058777159620214\n",
      "Recall: 0.7058531787297637\n",
      "F1 Score: 0.5322798911701231\n",
      "\n",
      "weighted\n",
      "Precision: 0.9916243950165409\n",
      "Recall: 0.9766298023391128\n",
      "F1 Score: 0.9818773561168236\n",
      "\n",
      "Mean FNR: 0.29414682127023634\n",
      "Mean TNR: 0.9755582257149078\n",
      "Mean FPR: 0.024441774285092217\n",
      "Mean TPR: 0.7058531787297637\n"
     ]
    }
   ],
   "source": [
    "calculate_performance_metrics(x_test_adv, y_test, model)"
   ]
  },
  {
   "cell_type": "code",
   "execution_count": 9,
   "id": "5b95584d-5876-41d8-9e8d-759299ba6f44",
   "metadata": {},
   "outputs": [],
   "source": [
    "attack = FastGradientMethod(estimator=classifier, eps=0.1)\n",
    "\n",
    "x_test_adv = attack.generate(x=x_test)"
   ]
  },
  {
   "cell_type": "code",
   "execution_count": 10,
   "id": "5f1bf0b7-4afa-44d6-b701-5147a6cd6514",
   "metadata": {},
   "outputs": [
    {
     "name": "stdout",
     "output_type": "stream",
     "text": [
      "7466/7466 [==============================] - 4s 541us/step\n",
      "Accuracy: 0.930923338384388\n",
      "AUC: 0.9788152234946763\n",
      "\n",
      "macro\n",
      "Precision: 0.5702436619641901\n",
      "Recall: 0.5563407250885272\n",
      "F1 Score: 0.37853840180647874\n",
      "\n",
      "weighted\n",
      "Precision: 0.9755988342780268\n",
      "Recall: 0.930923338384388\n",
      "F1 Score: 0.9246290306672239\n",
      "\n",
      "Mean FNR: 0.44365927491147283\n",
      "Mean TNR: 0.9339077776490544\n",
      "Mean FPR: 0.0660922223509455\n",
      "Mean TPR: 0.5563407250885272\n"
     ]
    }
   ],
   "source": [
    "calculate_performance_metrics(x_test_adv, y_test, model)"
   ]
  },
  {
   "cell_type": "code",
   "execution_count": 11,
   "id": "33a9cca4-3034-4428-ac40-d77c97df1016",
   "metadata": {},
   "outputs": [],
   "source": [
    "attack = FastGradientMethod(estimator=classifier, eps=0.15)\n",
    "\n",
    "x_test_adv = attack.generate(x=x_test)"
   ]
  },
  {
   "cell_type": "code",
   "execution_count": 12,
   "id": "9dc7401a-719c-4d69-9204-53be1b4993f5",
   "metadata": {},
   "outputs": [
    {
     "name": "stdout",
     "output_type": "stream",
     "text": [
      "7466/7466 [==============================] - 4s 543us/step\n",
      "Accuracy: 0.92813549105461\n",
      "AUC: 0.9491874368162823\n",
      "\n",
      "macro\n",
      "Precision: 0.5304962944493712\n",
      "Recall: 0.5427358159149694\n",
      "F1 Score: 0.3744458339563273\n",
      "\n",
      "weighted\n",
      "Precision: 0.98159583599841\n",
      "Recall: 0.92813549105461\n",
      "F1 Score: 0.9260631741435346\n",
      "\n",
      "Mean FNR: 0.45726418408503056\n",
      "Mean TNR: 0.9602606770339703\n",
      "Mean FPR: 0.039739322966029667\n",
      "Mean TPR: 0.5427358159149694\n"
     ]
    }
   ],
   "source": [
    "calculate_performance_metrics(x_test_adv, y_test, model)"
   ]
  },
  {
   "cell_type": "code",
   "execution_count": 13,
   "id": "dec308aa-0440-47d7-89e8-2ee56bf84950",
   "metadata": {},
   "outputs": [],
   "source": [
    "attack = FastGradientMethod(estimator=classifier, eps=0.2)\n",
    "\n",
    "x_test_adv = attack.generate(x=x_test)"
   ]
  },
  {
   "cell_type": "code",
   "execution_count": 14,
   "id": "b5a6d221-a190-4c67-b288-ee1e1d0d0d95",
   "metadata": {},
   "outputs": [
    {
     "name": "stdout",
     "output_type": "stream",
     "text": [
      "7466/7466 [==============================] - 4s 540us/step\n",
      "Accuracy: 0.9279429370348355\n",
      "AUC: 0.8709985968075877\n",
      "\n",
      "macro\n",
      "Precision: 0.4965207205987987\n",
      "Recall: 0.3727249462294309\n",
      "F1 Score: 0.3383576788658599\n",
      "\n",
      "weighted\n",
      "Precision: 0.9828591235982194\n",
      "Recall: 0.9279429370348355\n",
      "F1 Score: 0.9278196686351913\n",
      "\n",
      "Mean FNR: 0.6272750537705691\n",
      "Mean TNR: 0.9704148340774352\n",
      "Mean FPR: 0.029585165922564816\n",
      "Mean TPR: 0.3727249462294309\n"
     ]
    }
   ],
   "source": [
    "calculate_performance_metrics(x_test_adv, y_test, model)"
   ]
  },
  {
   "cell_type": "code",
   "execution_count": 15,
   "id": "65f45c9a-1fc8-4de0-b8c8-dd044e2f178d",
   "metadata": {},
   "outputs": [],
   "source": [
    "attack = FastGradientMethod(estimator=classifier, eps=0.25)\n",
    "\n",
    "x_test_adv = attack.generate(x=x_test)"
   ]
  },
  {
   "cell_type": "code",
   "execution_count": 16,
   "id": "7e7ab15e-9a23-4b10-9c41-e62abef6c42d",
   "metadata": {},
   "outputs": [
    {
     "name": "stdout",
     "output_type": "stream",
     "text": [
      "7466/7466 [==============================] - 4s 555us/step\n",
      "Accuracy: 0.9278466600249483\n",
      "AUC: 0.8113032692884008\n",
      "\n",
      "macro\n",
      "Precision: 0.4803689565234757\n",
      "Recall: 0.3488991599802701\n",
      "F1 Score: 0.3241727589711294\n",
      "\n",
      "weighted\n",
      "Precision: 0.9829418368713307\n",
      "Recall: 0.9278466600249483\n",
      "F1 Score: 0.9285326268581412\n",
      "\n",
      "Mean FNR: 0.6511008400197299\n",
      "Mean TNR: 0.9746986807152286\n",
      "Mean FPR: 0.025301319284771313\n",
      "Mean TPR: 0.3488991599802701\n"
     ]
    }
   ],
   "source": [
    "calculate_performance_metrics(x_test_adv, y_test, model)"
   ]
  },
  {
   "cell_type": "code",
   "execution_count": 17,
   "id": "f947fc62-333e-4545-aa78-cee85993fe5c",
   "metadata": {},
   "outputs": [],
   "source": [
    "attack = FastGradientMethod(estimator=classifier, eps=0.3)\n",
    "\n",
    "x_test_adv = attack.generate(x=x_test)"
   ]
  },
  {
   "cell_type": "code",
   "execution_count": 18,
   "id": "6932efdd-64ea-4027-bab2-8c54fd3d14aa",
   "metadata": {},
   "outputs": [
    {
     "name": "stdout",
     "output_type": "stream",
     "text": [
      "7466/7466 [==============================] - 4s 552us/step\n",
      "Accuracy: 0.9278131723693354\n",
      "AUC: 0.7692164410016809\n",
      "\n",
      "macro\n",
      "Precision: 0.47409935136858294\n",
      "Recall: 0.34400644255562324\n",
      "F1 Score: 0.32005742699711126\n",
      "\n",
      "weighted\n",
      "Precision: 0.9836235010128992\n",
      "Recall: 0.9278131723693354\n",
      "F1 Score: 0.9292890140657181\n",
      "\n",
      "Mean FNR: 0.6559935574443767\n",
      "Mean TNR: 0.978731199163829\n",
      "Mean FPR: 0.02126880083617095\n",
      "Mean TPR: 0.34400644255562324\n"
     ]
    }
   ],
   "source": [
    "calculate_performance_metrics(x_test_adv, y_test, model)"
   ]
  },
  {
   "cell_type": "code",
   "execution_count": null,
   "id": "01fecabc-2822-4d84-8a87-bfd5d8a92162",
   "metadata": {},
   "outputs": [],
   "source": []
  }
 ],
 "metadata": {
  "kernelspec": {
   "display_name": "Python 3 (ipykernel)",
   "language": "python",
   "name": "python3"
  },
  "language_info": {
   "codemirror_mode": {
    "name": "ipython",
    "version": 3
   },
   "file_extension": ".py",
   "mimetype": "text/x-python",
   "name": "python",
   "nbconvert_exporter": "python",
   "pygments_lexer": "ipython3",
   "version": "3.11.5"
  }
 },
 "nbformat": 4,
 "nbformat_minor": 5
}
