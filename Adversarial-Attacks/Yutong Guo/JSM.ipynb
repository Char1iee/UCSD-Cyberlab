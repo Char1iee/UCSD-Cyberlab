{
 "cells": [
  {
   "cell_type": "code",
   "execution_count": 1,
   "id": "a89469a8",
   "metadata": {},
   "outputs": [],
   "source": [
    "\"\"\"Trains a convolutional neural network on the MNIST dataset, then attacks it with the FGSM attack.\"\"\"\n",
    "from __future__ import absolute_import, division, print_function, unicode_literals"
   ]
  },
  {
   "cell_type": "code",
   "execution_count": 2,
   "id": "6d2195ce",
   "metadata": {},
   "outputs": [
    {
     "name": "stderr",
     "output_type": "stream",
     "text": [
      "2024-02-13 19:04:41.262259: I tensorflow/core/util/port.cc:113] oneDNN custom operations are on. You may see slightly different numerical results due to floating-point round-off errors from different computation orders. To turn them off, set the environment variable `TF_ENABLE_ONEDNN_OPTS=0`.\n",
      "2024-02-13 19:04:41.264895: I external/local_tsl/tsl/cuda/cudart_stub.cc:31] Could not find cuda drivers on your machine, GPU will not be used.\n",
      "2024-02-13 19:04:41.295401: E external/local_xla/xla/stream_executor/cuda/cuda_dnn.cc:9261] Unable to register cuDNN factory: Attempting to register factory for plugin cuDNN when one has already been registered\n",
      "2024-02-13 19:04:41.295458: E external/local_xla/xla/stream_executor/cuda/cuda_fft.cc:607] Unable to register cuFFT factory: Attempting to register factory for plugin cuFFT when one has already been registered\n",
      "2024-02-13 19:04:41.296720: E external/local_xla/xla/stream_executor/cuda/cuda_blas.cc:1515] Unable to register cuBLAS factory: Attempting to register factory for plugin cuBLAS when one has already been registered\n",
      "2024-02-13 19:04:41.303163: I external/local_tsl/tsl/cuda/cudart_stub.cc:31] Could not find cuda drivers on your machine, GPU will not be used.\n",
      "2024-02-13 19:04:41.304248: I tensorflow/core/platform/cpu_feature_guard.cc:182] This TensorFlow binary is optimized to use available CPU instructions in performance-critical operations.\n",
      "To enable the following instructions: AVX2 AVX512F AVX512_VNNI AVX512_BF16 AVX_VNNI AMX_TILE AMX_INT8 AMX_BF16 FMA, in other operations, rebuild TensorFlow with the appropriate compiler flags.\n",
      "2024-02-13 19:04:41.943759: W tensorflow/compiler/tf2tensorrt/utils/py_utils.cc:38] TF-TRT Warning: Could not find TensorRT\n"
     ]
    }
   ],
   "source": [
    "import tensorflow as tf"
   ]
  },
  {
   "cell_type": "code",
   "execution_count": 3,
   "id": "a4d84a43",
   "metadata": {},
   "outputs": [],
   "source": [
    "tf.compat.v1.disable_eager_execution()"
   ]
  },
  {
   "cell_type": "code",
   "execution_count": 4,
   "id": "d9874a6f",
   "metadata": {},
   "outputs": [],
   "source": [
    "from keras.models import Sequential\n",
    "from keras.layers import Dense, Flatten, Conv2D, MaxPooling2D, Dropout\n",
    "import numpy as np"
   ]
  },
  {
   "cell_type": "code",
   "execution_count": 5,
   "id": "d4c52bf0",
   "metadata": {},
   "outputs": [
    {
     "name": "stderr",
     "output_type": "stream",
     "text": [
      "/opt/conda/lib/python3.11/site-packages/tqdm/auto.py:21: TqdmWarning: IProgress not found. Please update jupyter and ipywidgets. See https://ipywidgets.readthedocs.io/en/stable/user_install.html\n",
      "  from .autonotebook import tqdm as notebook_tqdm\n"
     ]
    }
   ],
   "source": [
    "from art.attacks.evasion import SaliencyMapMethod\n",
    "from art.estimators.classification import KerasClassifier\n",
    "from art.utils import load_dataset"
   ]
  },
  {
   "cell_type": "code",
   "execution_count": 6,
   "id": "b4c5d344",
   "metadata": {},
   "outputs": [],
   "source": [
    "# Read MNIST dataset\n",
    "(x_train, y_train), (x_test, y_test), min_, max_ = load_dataset(str(\"mnist\"))"
   ]
  },
  {
   "cell_type": "code",
   "execution_count": 7,
   "id": "e71b2dee",
   "metadata": {},
   "outputs": [],
   "source": [
    "# Create Keras convolutional neural network - basic architecture from Keras examples\n",
    "# Source here: https://github.com/keras-team/keras/blob/master/examples/mnist_cnn.py\n",
    "model = Sequential()\n",
    "model.add(Conv2D(32, kernel_size=(3, 3), activation=\"relu\", input_shape=x_train.shape[1:]))\n",
    "model.add(Conv2D(64, (3, 3), activation=\"relu\"))\n",
    "model.add(MaxPooling2D(pool_size=(2, 2)))\n",
    "model.add(Dropout(0.25))\n",
    "model.add(Flatten())\n",
    "model.add(Dense(128, activation=\"relu\"))\n",
    "model.add(Dropout(0.5))\n",
    "model.add(Dense(10, activation=\"softmax\"))"
   ]
  },
  {
   "cell_type": "code",
   "execution_count": 8,
   "id": "b6a4eb70",
   "metadata": {},
   "outputs": [],
   "source": [
    "model.compile(loss=\"categorical_crossentropy\", optimizer=\"adam\", metrics=[\"accuracy\"])"
   ]
  },
  {
   "cell_type": "code",
   "execution_count": 9,
   "id": "ad8fca29",
   "metadata": {},
   "outputs": [
    {
     "name": "stderr",
     "output_type": "stream",
     "text": [
      "2024-02-13 19:04:48.913046: I tensorflow/compiler/mlir/mlir_graph_optimization_pass.cc:388] MLIR V1 optimization pass is not enabled\n",
      "2024-02-13 19:04:48.975826: W tensorflow/c/c_api.cc:305] Operation '{name:'conv2d/bias/Assign' id:20 op device:{requested: '', assigned: ''} def:{{{node conv2d/bias/Assign}} = AssignVariableOp[_has_manual_control_dependencies=true, dtype=DT_FLOAT, validate_shape=false](conv2d/bias, conv2d/bias/Initializer/zeros)}}' was changed by setting attribute after it was run by a session. This mutation will have no effect, and will trigger an error in the future. Either don't modify nodes after running them or create a new session.\n"
     ]
    }
   ],
   "source": [
    "classifier = KerasClassifier(model=model, clip_values=(min_, max_))\n",
    "classifier.fit(x_train, y_train, nb_epochs=5, batch_size=128)"
   ]
  },
  {
   "cell_type": "code",
   "execution_count": 10,
   "id": "014da289",
   "metadata": {},
   "outputs": [
    {
     "name": "stderr",
     "output_type": "stream",
     "text": [
      "/opt/conda/lib/python3.11/site-packages/keras/src/engine/training_v1.py:2359: UserWarning: `Model.state_updates` will be removed in a future version. This property should not be used in TensorFlow 2.0, as `updates` are applied automatically.\n",
      "  updates=self.state_updates,\n",
      "2024-02-13 19:07:38.107534: W tensorflow/c/c_api.cc:305] Operation '{name:'dense_1/Softmax' id:121 op device:{requested: '', assigned: ''} def:{{{node dense_1/Softmax}} = Softmax[T=DT_FLOAT, _has_manual_control_dependencies=true](dense_1/BiasAdd)}}' was changed by setting attribute after it was run by a session. This mutation will have no effect, and will trigger an error in the future. Either don't modify nodes after running them or create a new session.\n"
     ]
    },
    {
     "name": "stdout",
     "output_type": "stream",
     "text": [
      "\n",
      "Test accuracy: 99.14%\n"
     ]
    }
   ],
   "source": [
    "# Evaluate the classifier on the test set\n",
    "preds = np.argmax(classifier.predict(x_test), axis=1)\n",
    "acc = np.sum(preds == np.argmax(y_test, axis=1)) / y_test.shape[0]\n",
    "print(\"\\nTest accuracy: %.2f%%\" % (acc * 100))"
   ]
  },
  {
   "cell_type": "code",
   "execution_count": 11,
   "id": "35735156-ad3e-407c-bff3-29eacbe119e7",
   "metadata": {},
   "outputs": [],
   "source": [
    "x_test_subset = x_test[:500]\n",
    "y_test_subset = y_test[:500]"
   ]
  },
  {
   "cell_type": "code",
   "execution_count": 12,
   "id": "18f3d2bc-0e87-426a-b3c5-0b382270e1d0",
   "metadata": {},
   "outputs": [
    {
     "name": "stdout",
     "output_type": "stream",
     "text": [
      "\n",
      "Test accuracy: 99.60%\n"
     ]
    }
   ],
   "source": [
    "preds = np.argmax(classifier.predict(x_test_subset), axis=1)\n",
    "acc = np.sum(preds == np.argmax(y_test_subset, axis=1)) / y_test_subset.shape[0]\n",
    "print(\"\\nTest accuracy: %.2f%%\" % (acc * 100))"
   ]
  },
  {
   "cell_type": "code",
   "execution_count": 14,
   "id": "58f34259",
   "metadata": {
    "scrolled": true
   },
   "outputs": [
    {
     "name": "stderr",
     "output_type": "stream",
     "text": [
      "JSMA: 100%|██████████| 500/500 [08:55<00:00,  1.07s/it]\n"
     ]
    }
   ],
   "source": [
    "jsma_attack = SaliencyMapMethod(classifier=classifier)\n",
    "\n",
    "target = np.zeros((y_test_subset.shape[0], y_test_subset.shape[1]), dtype=np.float32)\n",
    "target[:, 3] = 1  # This sets \"3\" as the target class for all examples\n",
    "\n",
    "# Generate targeted adversarial examples with JSMA\n",
    "x_test_adv_jsma = jsma_attack.generate(x=x_test_subset, y=target)"
   ]
  },
  {
   "cell_type": "code",
   "execution_count": 15,
   "id": "9732b260-72d6-45f4-b089-0f24ef85e5be",
   "metadata": {},
   "outputs": [
    {
     "name": "stdout",
     "output_type": "stream",
     "text": [
      "Test accuracy on adversarial samples (JSMA): 9.00%\n"
     ]
    }
   ],
   "source": [
    "# Evaluate the classifier on the JSMA adversarial examples\n",
    "preds_jsma = np.argmax(classifier.predict(x_test_adv_jsma), axis=1)\n",
    "acc_jsma = np.sum(preds_jsma == np.argmax(y_test_subset, axis=1)) / y_test_subset.shape[0]\n",
    "print(\"Test accuracy on adversarial samples (JSMA): {:.2f}%\".format(acc_jsma * 100))"
   ]
  },
  {
   "cell_type": "code",
   "execution_count": 16,
   "id": "ef3a26a3-bcca-44fe-8d14-f733a1f840b7",
   "metadata": {},
   "outputs": [
    {
     "name": "stdout",
     "output_type": "stream",
     "text": [
      "Micro-averaged precision: 0.09\n",
      "Micro-averaged recall: 0.09\n",
      "Micro-averaged F1 score: 0.09\n",
      "Macro-averaged precision: 0.01\n",
      "Macro-averaged recall: 0.10\n",
      "Macro-averaged F1 score: 0.02\n"
     ]
    },
    {
     "name": "stderr",
     "output_type": "stream",
     "text": [
      "/opt/conda/lib/python3.11/site-packages/sklearn/metrics/_classification.py:1497: UndefinedMetricWarning: Precision is ill-defined and being set to 0.0 in labels with no predicted samples. Use `zero_division` parameter to control this behavior.\n",
      "  _warn_prf(average, modifier, f\"{metric.capitalize()} is\", len(result))\n",
      "/opt/conda/lib/python3.11/site-packages/sklearn/metrics/_classification.py:1497: UndefinedMetricWarning: Precision is ill-defined and being set to 0.0 in labels with no predicted samples. Use `zero_division` parameter to control this behavior.\n",
      "  _warn_prf(average, modifier, f\"{metric.capitalize()} is\", len(result))\n"
     ]
    }
   ],
   "source": [
    "from sklearn.metrics import precision_recall_fscore_support\n",
    "y_test_subset = np.argmax(y_test_subset, axis=1)\n",
    "precision, recall, fscore, support = precision_recall_fscore_support(y_test_subset, preds_jsma)\n",
    "\n",
    "# Calculate micro-averaged precision, recall, and F1 score\n",
    "precision_micro, recall_micro, fscore_micro, _ = precision_recall_fscore_support(\n",
    "    y_test_subset, preds_jsma, average='micro')\n",
    "\n",
    "# Calculate macro-averaged precision, recall, and F1 score\n",
    "precision_macro, recall_macro, fscore_macro, _ = precision_recall_fscore_support(\n",
    "    y_test_subset, preds_jsma, average='macro')\n",
    "\n",
    "# Print the micro-averaged values\n",
    "print(f\"Micro-averaged precision: {precision_micro:.2f}\")\n",
    "print(f\"Micro-averaged recall: {recall_micro:.2f}\")\n",
    "print(f\"Micro-averaged F1 score: {fscore_micro:.2f}\")\n",
    "\n",
    "# Print the macro-averaged values\n",
    "print(f\"Macro-averaged precision: {precision_macro:.2f}\")\n",
    "print(f\"Macro-averaged recall: {recall_macro:.2f}\")\n",
    "print(f\"Macro-averaged F1 score: {fscore_macro:.2f}\")"
   ]
  },
  {
   "cell_type": "code",
   "execution_count": null,
   "id": "a0d8f3ca-c922-4543-99a5-c36040e6c550",
   "metadata": {},
   "outputs": [],
   "source": []
  }
 ],
 "metadata": {
  "jupytext": {
   "cell_metadata_filter": "-all",
   "encoding": "# -*- coding: utf-8 -*-",
   "notebook_metadata_filter": "-all",
   "text_representation": {
    "extension": ".py",
    "format_name": "light"
   }
  },
  "kernelspec": {
   "display_name": "Python 3 (ipykernel)",
   "language": "python",
   "name": "python3"
  },
  "language_info": {
   "codemirror_mode": {
    "name": "ipython",
    "version": 3
   },
   "file_extension": ".py",
   "mimetype": "text/x-python",
   "name": "python",
   "nbconvert_exporter": "python",
   "pygments_lexer": "ipython3",
   "version": "3.11.5"
  }
 },
 "nbformat": 4,
 "nbformat_minor": 5
}
