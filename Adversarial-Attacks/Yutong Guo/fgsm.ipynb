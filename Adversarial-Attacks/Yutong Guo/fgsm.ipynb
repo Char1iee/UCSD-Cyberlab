{
 "cells": [
  {
   "cell_type": "code",
   "execution_count": 1,
   "id": "a89469a8",
   "metadata": {},
   "outputs": [],
   "source": [
    "\"\"\"Trains a convolutional neural network on the MNIST dataset, then attacks it with the FGSM attack.\"\"\"\n",
    "from __future__ import absolute_import, division, print_function, unicode_literals"
   ]
  },
  {
   "cell_type": "code",
   "execution_count": 2,
   "id": "6d2195ce",
   "metadata": {},
   "outputs": [
    {
     "name": "stderr",
     "output_type": "stream",
     "text": [
      "2024-02-13 23:06:53.471068: I tensorflow/core/util/port.cc:113] oneDNN custom operations are on. You may see slightly different numerical results due to floating-point round-off errors from different computation orders. To turn them off, set the environment variable `TF_ENABLE_ONEDNN_OPTS=0`.\n",
      "2024-02-13 23:06:53.474016: I external/local_tsl/tsl/cuda/cudart_stub.cc:31] Could not find cuda drivers on your machine, GPU will not be used.\n",
      "2024-02-13 23:06:53.506791: E external/local_xla/xla/stream_executor/cuda/cuda_dnn.cc:9261] Unable to register cuDNN factory: Attempting to register factory for plugin cuDNN when one has already been registered\n",
      "2024-02-13 23:06:53.506850: E external/local_xla/xla/stream_executor/cuda/cuda_fft.cc:607] Unable to register cuFFT factory: Attempting to register factory for plugin cuFFT when one has already been registered\n",
      "2024-02-13 23:06:53.508441: E external/local_xla/xla/stream_executor/cuda/cuda_blas.cc:1515] Unable to register cuBLAS factory: Attempting to register factory for plugin cuBLAS when one has already been registered\n",
      "2024-02-13 23:06:53.515961: I external/local_tsl/tsl/cuda/cudart_stub.cc:31] Could not find cuda drivers on your machine, GPU will not be used.\n",
      "2024-02-13 23:06:53.517063: I tensorflow/core/platform/cpu_feature_guard.cc:182] This TensorFlow binary is optimized to use available CPU instructions in performance-critical operations.\n",
      "To enable the following instructions: AVX2 AVX512F AVX512_VNNI AVX512_BF16 AVX_VNNI AMX_TILE AMX_INT8 AMX_BF16 FMA, in other operations, rebuild TensorFlow with the appropriate compiler flags.\n",
      "2024-02-13 23:06:54.155046: W tensorflow/compiler/tf2tensorrt/utils/py_utils.cc:38] TF-TRT Warning: Could not find TensorRT\n"
     ]
    }
   ],
   "source": [
    "import tensorflow as tf"
   ]
  },
  {
   "cell_type": "code",
   "execution_count": 3,
   "id": "a4d84a43",
   "metadata": {},
   "outputs": [],
   "source": [
    "tf.compat.v1.disable_eager_execution()"
   ]
  },
  {
   "cell_type": "code",
   "execution_count": 4,
   "id": "d9874a6f",
   "metadata": {},
   "outputs": [],
   "source": [
    "from keras.models import Sequential\n",
    "from keras.layers import Dense, Flatten, Conv2D, MaxPooling2D, Dropout\n",
    "import numpy as np"
   ]
  },
  {
   "cell_type": "code",
   "execution_count": 5,
   "id": "d4c52bf0",
   "metadata": {},
   "outputs": [
    {
     "name": "stderr",
     "output_type": "stream",
     "text": [
      "/opt/conda/lib/python3.11/site-packages/tqdm/auto.py:21: TqdmWarning: IProgress not found. Please update jupyter and ipywidgets. See https://ipywidgets.readthedocs.io/en/stable/user_install.html\n",
      "  from .autonotebook import tqdm as notebook_tqdm\n"
     ]
    }
   ],
   "source": [
    "from art.attacks.evasion import FastGradientMethod\n",
    "from art.estimators.classification import KerasClassifier\n",
    "from art.utils import load_dataset"
   ]
  },
  {
   "cell_type": "code",
   "execution_count": 6,
   "id": "b4c5d344",
   "metadata": {},
   "outputs": [],
   "source": [
    "# Read MNIST dataset\n",
    "(x_train, y_train), (x_test, y_test), min_, max_ = load_dataset(str(\"mnist\"))"
   ]
  },
  {
   "cell_type": "code",
   "execution_count": 7,
   "id": "e71b2dee",
   "metadata": {},
   "outputs": [],
   "source": [
    "# Create Keras convolutional neural network - basic architecture from Keras examples\n",
    "# Source here: https://github.com/keras-team/keras/blob/master/examples/mnist_cnn.py\n",
    "model = Sequential()\n",
    "model.add(Conv2D(32, kernel_size=(3, 3), activation=\"relu\", input_shape=x_train.shape[1:]))\n",
    "model.add(Conv2D(64, (3, 3), activation=\"relu\"))\n",
    "model.add(MaxPooling2D(pool_size=(2, 2)))\n",
    "model.add(Dropout(0.25))\n",
    "model.add(Flatten())\n",
    "model.add(Dense(128, activation=\"relu\"))\n",
    "model.add(Dropout(0.5))\n",
    "model.add(Dense(10, activation=\"softmax\"))"
   ]
  },
  {
   "cell_type": "code",
   "execution_count": 8,
   "id": "b6a4eb70",
   "metadata": {},
   "outputs": [],
   "source": [
    "model.compile(loss=\"categorical_crossentropy\", optimizer=\"adam\", metrics=[\"accuracy\"])"
   ]
  },
  {
   "cell_type": "code",
   "execution_count": 9,
   "id": "ad8fca29",
   "metadata": {},
   "outputs": [
    {
     "name": "stderr",
     "output_type": "stream",
     "text": [
      "2024-02-13 23:06:58.772411: I tensorflow/compiler/mlir/mlir_graph_optimization_pass.cc:388] MLIR V1 optimization pass is not enabled\n",
      "2024-02-13 23:06:58.833928: W tensorflow/c/c_api.cc:305] Operation '{name:'training/Adam/dense/bias/v/Assign' id:467 op device:{requested: '', assigned: ''} def:{{{node training/Adam/dense/bias/v/Assign}} = AssignVariableOp[_has_manual_control_dependencies=true, dtype=DT_FLOAT, validate_shape=false](training/Adam/dense/bias/v, training/Adam/dense/bias/v/Initializer/zeros)}}' was changed by setting attribute after it was run by a session. This mutation will have no effect, and will trigger an error in the future. Either don't modify nodes after running them or create a new session.\n"
     ]
    }
   ],
   "source": [
    "classifier = KerasClassifier(model=model, clip_values=(min_, max_))\n",
    "classifier.fit(x_train, y_train, nb_epochs=5, batch_size=128)"
   ]
  },
  {
   "cell_type": "code",
   "execution_count": 10,
   "id": "014da289",
   "metadata": {},
   "outputs": [
    {
     "name": "stderr",
     "output_type": "stream",
     "text": [
      "/opt/conda/lib/python3.11/site-packages/keras/src/engine/training_v1.py:2359: UserWarning: `Model.state_updates` will be removed in a future version. This property should not be used in TensorFlow 2.0, as `updates` are applied automatically.\n",
      "  updates=self.state_updates,\n",
      "2024-02-13 23:09:40.574840: W tensorflow/c/c_api.cc:305] Operation '{name:'dense_1/Softmax' id:121 op device:{requested: '', assigned: ''} def:{{{node dense_1/Softmax}} = Softmax[T=DT_FLOAT, _has_manual_control_dependencies=true](dense_1/BiasAdd)}}' was changed by setting attribute after it was run by a session. This mutation will have no effect, and will trigger an error in the future. Either don't modify nodes after running them or create a new session.\n"
     ]
    },
    {
     "name": "stdout",
     "output_type": "stream",
     "text": [
      "\n",
      "Test accuracy: 98.97%\n"
     ]
    }
   ],
   "source": [
    "# Evaluate the classifier on the test set\n",
    "preds = np.argmax(classifier.predict(x_test), axis=1)\n",
    "acc = np.sum(preds == np.argmax(y_test, axis=1)) / y_test.shape[0]\n",
    "print(\"\\nTest accuracy: %.2f%%\" % (acc * 100))"
   ]
  },
  {
   "cell_type": "code",
   "execution_count": 11,
   "id": "1d2772fa",
   "metadata": {},
   "outputs": [],
   "source": [
    "# Define epsilon values\n",
    "epsilon_values = [0.01, 0.1, 0.15, 0.2, 0.25, 0.3]"
   ]
  },
  {
   "cell_type": "code",
   "execution_count": 13,
   "id": "58f34259",
   "metadata": {},
   "outputs": [
    {
     "name": "stdout",
     "output_type": "stream",
     "text": [
      "Epsilon: 0.01\n",
      "Test accuracy on adversarial sample: 98.94%\n",
      "Micro Precision: 0.99\n",
      "Macro Precision: 0.99\n",
      "Micro Recall: 0.99\n",
      "Macro Recall: 0.99\n",
      "Micro F1 Score: 0.99\n",
      "Macro F1 Score: 0.99\n",
      "\n",
      "Epsilon: 0.1\n",
      "Test accuracy on adversarial sample: 88.14%\n",
      "Micro Precision: 0.88\n",
      "Macro Precision: 0.88\n",
      "Micro Recall: 0.88\n",
      "Macro Recall: 0.88\n",
      "Micro F1 Score: 0.88\n",
      "Macro F1 Score: 0.88\n",
      "\n",
      "Epsilon: 0.15\n",
      "Test accuracy on adversarial sample: 68.49%\n",
      "Micro Precision: 0.68\n",
      "Macro Precision: 0.70\n",
      "Micro Recall: 0.68\n",
      "Macro Recall: 0.68\n",
      "Micro F1 Score: 0.68\n",
      "Macro F1 Score: 0.68\n",
      "\n",
      "Epsilon: 0.2\n",
      "Test accuracy on adversarial sample: 43.51%\n",
      "Micro Precision: 0.44\n",
      "Macro Precision: 0.50\n",
      "Micro Recall: 0.44\n",
      "Macro Recall: 0.43\n",
      "Micro F1 Score: 0.44\n",
      "Macro F1 Score: 0.44\n",
      "\n",
      "Epsilon: 0.25\n",
      "Test accuracy on adversarial sample: 24.67%\n",
      "Micro Precision: 0.25\n",
      "Macro Precision: 0.34\n",
      "Micro Recall: 0.25\n",
      "Macro Recall: 0.25\n",
      "Micro F1 Score: 0.25\n",
      "Macro F1 Score: 0.26\n",
      "\n",
      "Epsilon: 0.3\n",
      "Test accuracy on adversarial sample: 16.02%\n",
      "Micro Precision: 0.16\n",
      "Macro Precision: 0.26\n",
      "Micro Recall: 0.16\n",
      "Macro Recall: 0.16\n",
      "Micro F1 Score: 0.16\n",
      "Macro F1 Score: 0.17\n",
      "\n"
     ]
    }
   ],
   "source": [
    "from sklearn.metrics import precision_recall_fscore_support\n",
    "\n",
    "if len(y_test.shape) > 1 and y_test.shape[1] > 1:\n",
    "    y_test_indices = np.argmax(y_test, axis=1)\n",
    "else:\n",
    "    y_test_indices = y_test  # If y_test is already class indices\n",
    "\n",
    "# Iterate over epsilon values\n",
    "for epsilon in epsilon_values:\n",
    "    # Craft adversarial samples with FGSM\n",
    "    adv_crafter = FastGradientMethod(classifier, eps=epsilon)\n",
    "    x_test_adv = adv_crafter.generate(x=x_test)\n",
    "\n",
    "    # Evaluate the classifier on the adversarial examples\n",
    "    preds = np.argmax(classifier.predict(x_test_adv), axis=1)\n",
    "\n",
    "    # Calculate precision, recall, and F1 score\n",
    "    precision_micro, recall_micro, fscore_micro, _ = precision_recall_fscore_support(\n",
    "        y_test_indices, preds, average='micro')\n",
    "    precision_macro, recall_macro, fscore_macro, _ = precision_recall_fscore_support(\n",
    "        y_test_indices, preds, average='macro')\n",
    "\n",
    "    # Calculate accuracy for reference\n",
    "    acc = np.sum(preds == y_test_indices) / y_test_indices.shape[0]\n",
    "\n",
    "    # Print the results for each epsilon\n",
    "    print(f\"Epsilon: {epsilon}\")\n",
    "    print(f\"Test accuracy on adversarial sample: {acc * 100:.2f}%\")\n",
    "    print(f\"Micro Precision: {precision_micro:.2f}\")\n",
    "    print(f\"Macro Precision: {precision_macro:.2f}\")\n",
    "    print(f\"Micro Recall: {recall_micro:.2f}\")\n",
    "    print(f\"Macro Recall: {recall_macro:.2f}\")\n",
    "    print(f\"Micro F1 Score: {fscore_micro:.2f}\")\n",
    "    print(f\"Macro F1 Score: {fscore_macro:.2f}\")\n",
    "    print()\n"
   ]
  },
  {
   "cell_type": "code",
   "execution_count": null,
   "id": "bd00632e-9ecd-4ee2-aaeb-024984c88e5f",
   "metadata": {},
   "outputs": [],
   "source": []
  }
 ],
 "metadata": {
  "jupytext": {
   "cell_metadata_filter": "-all",
   "encoding": "# -*- coding: utf-8 -*-",
   "notebook_metadata_filter": "-all",
   "text_representation": {
    "extension": ".py",
    "format_name": "light"
   }
  },
  "kernelspec": {
   "display_name": "Python 3 (ipykernel)",
   "language": "python",
   "name": "python3"
  },
  "language_info": {
   "codemirror_mode": {
    "name": "ipython",
    "version": 3
   },
   "file_extension": ".py",
   "mimetype": "text/x-python",
   "name": "python",
   "nbconvert_exporter": "python",
   "pygments_lexer": "ipython3",
   "version": "3.11.5"
  }
 },
 "nbformat": 4,
 "nbformat_minor": 5
}
